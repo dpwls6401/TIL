{
 "cells": [
  {
   "cell_type": "code",
   "execution_count": 1,
   "metadata": {
    "executionInfo": {
     "elapsed": 26,
     "status": "ok",
     "timestamp": 1651191517389,
     "user": {
      "displayName": "한창훈",
      "userId": "15462280161729540268"
     },
     "user_tz": -540
    },
    "id": "hExhiZD2Y9sP"
   },
   "outputs": [],
   "source": [
    "import warnings\n",
    "warnings.filterwarnings(\"ignore\")"
   ]
  },
  {
   "cell_type": "code",
   "execution_count": 3,
   "metadata": {},
   "outputs": [
    {
     "name": "stdout",
     "output_type": "stream",
     "text": [
      "Collecting spacy\n",
      "  Downloading spacy-3.2.4-cp39-cp39-macosx_10_9_x86_64.whl (6.3 MB)\n",
      "\u001b[2K     \u001b[90m━━━━━━━━━━━━━━━━━━━━━━━━━━━━━━━━━━━━━━━━\u001b[0m \u001b[32m6.3/6.3 MB\u001b[0m \u001b[31m3.4 MB/s\u001b[0m eta \u001b[36m0:00:00\u001b[0m00:01\u001b[0m00:01\u001b[0m\n",
      "\u001b[?25hRequirement already satisfied: setuptools in /Users/yejin/opt/anaconda3/lib/python3.9/site-packages (from spacy) (58.0.4)\n",
      "Requirement already satisfied: jinja2 in /Users/yejin/opt/anaconda3/lib/python3.9/site-packages (from spacy) (2.11.3)\n",
      "Collecting spacy-legacy<3.1.0,>=3.0.8\n",
      "  Downloading spacy_legacy-3.0.9-py2.py3-none-any.whl (20 kB)\n",
      "Requirement already satisfied: numpy>=1.15.0 in /Users/yejin/opt/anaconda3/lib/python3.9/site-packages (from spacy) (1.20.3)\n",
      "Collecting cymem<2.1.0,>=2.0.2\n",
      "  Downloading cymem-2.0.6-cp39-cp39-macosx_10_9_x86_64.whl (32 kB)\n",
      "Collecting srsly<3.0.0,>=2.4.1\n",
      "  Downloading srsly-2.4.3-cp39-cp39-macosx_10_9_x86_64.whl (457 kB)\n",
      "\u001b[2K     \u001b[90m━━━━━━━━━━━━━━━━━━━━━━━━━━━━━━━━━━━━━━━\u001b[0m \u001b[32m458.0/458.0 KB\u001b[0m \u001b[31m1.7 MB/s\u001b[0m eta \u001b[36m0:00:00\u001b[0m00:01\u001b[0m00:01\u001b[0m\n",
      "\u001b[?25hCollecting spacy-loggers<2.0.0,>=1.0.0\n",
      "  Downloading spacy_loggers-1.0.2-py3-none-any.whl (7.2 kB)\n",
      "Collecting wasabi<1.1.0,>=0.8.1\n",
      "  Downloading wasabi-0.9.1-py3-none-any.whl (26 kB)\n",
      "Collecting murmurhash<1.1.0,>=0.28.0\n",
      "  Downloading murmurhash-1.0.7-cp39-cp39-macosx_10_9_x86_64.whl (18 kB)\n",
      "Collecting preshed<3.1.0,>=3.0.2\n",
      "  Downloading preshed-3.0.6-cp39-cp39-macosx_10_9_x86_64.whl (106 kB)\n",
      "\u001b[2K     \u001b[90m━━━━━━━━━━━━━━━━━━━━━━━━━━━━━━━━━━━━━━━\u001b[0m \u001b[32m106.8/106.8 KB\u001b[0m \u001b[31m1.7 MB/s\u001b[0m eta \u001b[36m0:00:00\u001b[0ma \u001b[36m0:00:01\u001b[0m\n",
      "\u001b[?25hRequirement already satisfied: tqdm<5.0.0,>=4.38.0 in /Users/yejin/opt/anaconda3/lib/python3.9/site-packages (from spacy) (4.62.3)\n",
      "Requirement already satisfied: packaging>=20.0 in /Users/yejin/opt/anaconda3/lib/python3.9/site-packages (from spacy) (21.0)\n",
      "Collecting typer<0.5.0,>=0.3.0\n",
      "  Downloading typer-0.4.1-py3-none-any.whl (27 kB)\n",
      "Requirement already satisfied: requests<3.0.0,>=2.13.0 in /Users/yejin/opt/anaconda3/lib/python3.9/site-packages (from spacy) (2.26.0)\n",
      "Collecting pydantic!=1.8,!=1.8.1,<1.9.0,>=1.7.4\n",
      "  Downloading pydantic-1.8.2-cp39-cp39-macosx_10_9_x86_64.whl (2.7 MB)\n",
      "\u001b[2K     \u001b[90m━━━━━━━━━━━━━━━━━━━━━━━━━━━━━━━━━━━━━━━━\u001b[0m \u001b[32m2.7/2.7 MB\u001b[0m \u001b[31m4.1 MB/s\u001b[0m eta \u001b[36m0:00:00\u001b[0m00:01\u001b[0m00:01\u001b[0m\n",
      "\u001b[?25hCollecting pathy>=0.3.5\n",
      "  Downloading pathy-0.6.1-py3-none-any.whl (42 kB)\n",
      "\u001b[2K     \u001b[90m━━━━━━━━━━━━━━━━━━━━━━━━━━━━━━━━━━━━━━━━\u001b[0m \u001b[32m42.8/42.8 KB\u001b[0m \u001b[31m1.6 MB/s\u001b[0m eta \u001b[36m0:00:00\u001b[0m\n",
      "\u001b[?25hRequirement already satisfied: click<8.1.0 in /Users/yejin/opt/anaconda3/lib/python3.9/site-packages (from spacy) (8.0.3)\n",
      "Collecting langcodes<4.0.0,>=3.2.0\n",
      "  Downloading langcodes-3.3.0-py3-none-any.whl (181 kB)\n",
      "\u001b[2K     \u001b[90m━━━━━━━━━━━━━━━━━━━━━━━━━━━━━━━━━━━━━━━\u001b[0m \u001b[32m181.6/181.6 KB\u001b[0m \u001b[31m2.8 MB/s\u001b[0m eta \u001b[36m0:00:00\u001b[0ma \u001b[36m0:00:01\u001b[0m\n",
      "\u001b[?25hCollecting catalogue<2.1.0,>=2.0.6\n",
      "  Downloading catalogue-2.0.7-py3-none-any.whl (17 kB)\n",
      "Collecting thinc<8.1.0,>=8.0.12\n",
      "  Downloading thinc-8.0.15-cp39-cp39-macosx_10_9_x86_64.whl (639 kB)\n",
      "\u001b[2K     \u001b[90m━━━━━━━━━━━━━━━━━━━━━━━━━━━━━━━━━━━━━━━\u001b[0m \u001b[32m639.6/639.6 KB\u001b[0m \u001b[31m4.5 MB/s\u001b[0m eta \u001b[36m0:00:00\u001b[0ma \u001b[36m0:00:01\u001b[0m\n",
      "\u001b[?25hCollecting blis<0.8.0,>=0.4.0\n",
      "  Downloading blis-0.7.7-cp39-cp39-macosx_10_9_x86_64.whl (5.8 MB)\n",
      "\u001b[2K     \u001b[90m━━━━━━━━━━━━━━━━━━━━━━━━━━━━━━━━━━━━━━━━\u001b[0m \u001b[32m5.8/5.8 MB\u001b[0m \u001b[31m2.5 MB/s\u001b[0m eta \u001b[36m0:00:00\u001b[0m00:01\u001b[0m00:01\u001b[0m\n",
      "\u001b[?25hRequirement already satisfied: pyparsing>=2.0.2 in /Users/yejin/opt/anaconda3/lib/python3.9/site-packages (from packaging>=20.0->spacy) (3.0.4)\n",
      "Requirement already satisfied: smart-open<6.0.0,>=5.0.0 in /Users/yejin/opt/anaconda3/lib/python3.9/site-packages (from pathy>=0.3.5->spacy) (5.2.1)\n",
      "Requirement already satisfied: typing-extensions>=3.7.4.3 in /Users/yejin/opt/anaconda3/lib/python3.9/site-packages (from pydantic!=1.8,!=1.8.1,<1.9.0,>=1.7.4->spacy) (3.10.0.2)\n",
      "Requirement already satisfied: idna<4,>=2.5 in /Users/yejin/opt/anaconda3/lib/python3.9/site-packages (from requests<3.0.0,>=2.13.0->spacy) (3.2)\n",
      "Requirement already satisfied: charset-normalizer~=2.0.0 in /Users/yejin/opt/anaconda3/lib/python3.9/site-packages (from requests<3.0.0,>=2.13.0->spacy) (2.0.4)\n",
      "Requirement already satisfied: urllib3<1.27,>=1.21.1 in /Users/yejin/opt/anaconda3/lib/python3.9/site-packages (from requests<3.0.0,>=2.13.0->spacy) (1.26.7)\n",
      "Requirement already satisfied: certifi>=2017.4.17 in /Users/yejin/opt/anaconda3/lib/python3.9/site-packages (from requests<3.0.0,>=2.13.0->spacy) (2021.10.8)\n",
      "Requirement already satisfied: MarkupSafe>=0.23 in /Users/yejin/opt/anaconda3/lib/python3.9/site-packages (from jinja2->spacy) (1.1.1)\n",
      "Installing collected packages: wasabi, murmurhash, cymem, typer, spacy-loggers, spacy-legacy, pydantic, preshed, langcodes, catalogue, blis, srsly, pathy, thinc, spacy\n",
      "Successfully installed blis-0.7.7 catalogue-2.0.7 cymem-2.0.6 langcodes-3.3.0 murmurhash-1.0.7 pathy-0.6.1 preshed-3.0.6 pydantic-1.8.2 spacy-3.2.4 spacy-legacy-3.0.9 spacy-loggers-1.0.2 srsly-2.4.3 thinc-8.0.15 typer-0.4.1 wasabi-0.9.1\n",
      "Note: you may need to restart the kernel to use updated packages.\n"
     ]
    }
   ],
   "source": [
    "pip install spacy"
   ]
  },
  {
   "cell_type": "code",
   "execution_count": 1,
   "metadata": {
    "executionInfo": {
     "elapsed": 3739,
     "status": "ok",
     "timestamp": 1651191522429,
     "user": {
      "displayName": "한창훈",
      "userId": "15462280161729540268"
     },
     "user_tz": -540
    },
    "id": "cxI7HSPRZEO_"
   },
   "outputs": [],
   "source": [
    "import spacy\n",
    "import nltk\n",
    "import re\n",
    "import string\n",
    "import pandas as pd\n",
    "import numpy as np\n",
    "import gensim\n",
    "from gensim import corpora\n",
    "import matplotlib.pyplot as plt\n",
    "import json\n",
    "%matplotlib inline\n",
    "from nltk.corpus import stopwords\n",
    "from nltk.stem import WordNetLemmatizer\n",
    "from nltk import word_tokenize"
   ]
  },
  {
   "cell_type": "code",
   "execution_count": 2,
   "metadata": {
    "colab": {
     "base_uri": "https://localhost:8080/"
    },
    "executionInfo": {
     "elapsed": 11,
     "status": "ok",
     "timestamp": 1651191523546,
     "user": {
      "displayName": "한창훈",
      "userId": "15462280161729540268"
     },
     "user_tz": -540
    },
    "id": "qIBMQ2dXbjSG",
    "outputId": "00cb3b6f-43a8-488f-bfc5-191a9cf44ada"
   },
   "outputs": [
    {
     "name": "stderr",
     "output_type": "stream",
     "text": [
      "[nltk_data] Downloading package stopwords to /Users/yejin/nltk_data...\n",
      "[nltk_data]   Unzipping corpora/stopwords.zip.\n"
     ]
    },
    {
     "data": {
      "text/plain": [
       "True"
      ]
     },
     "execution_count": 2,
     "metadata": {},
     "output_type": "execute_result"
    }
   ],
   "source": [
    "nltk.download('stopwords')"
   ]
  },
  {
   "cell_type": "code",
   "execution_count": 3,
   "metadata": {
    "colab": {
     "base_uri": "https://localhost:8080/"
    },
    "executionInfo": {
     "elapsed": 14,
     "status": "ok",
     "timestamp": 1651191524884,
     "user": {
      "displayName": "한창훈",
      "userId": "15462280161729540268"
     },
     "user_tz": -540
    },
    "id": "J9BHWoINejRx",
    "outputId": "1b53cec2-c68a-4488-e966-a7e1a0a9bf15"
   },
   "outputs": [
    {
     "name": "stderr",
     "output_type": "stream",
     "text": [
      "[nltk_data] Downloading package averaged_perceptron_tagger to\n",
      "[nltk_data]     /Users/yejin/nltk_data...\n",
      "[nltk_data]   Unzipping taggers/averaged_perceptron_tagger.zip.\n"
     ]
    },
    {
     "data": {
      "text/plain": [
       "True"
      ]
     },
     "execution_count": 3,
     "metadata": {},
     "output_type": "execute_result"
    }
   ],
   "source": [
    "nltk.download('averaged_perceptron_tagger')"
   ]
  },
  {
   "cell_type": "code",
   "execution_count": 4,
   "metadata": {
    "colab": {
     "base_uri": "https://localhost:8080/"
    },
    "executionInfo": {
     "elapsed": 955,
     "status": "ok",
     "timestamp": 1651191527208,
     "user": {
      "displayName": "한창훈",
      "userId": "15462280161729540268"
     },
     "user_tz": -540
    },
    "id": "_OOeH196e7ve",
    "outputId": "d7d699a0-d41e-47e9-faa3-936160320be5"
   },
   "outputs": [
    {
     "name": "stderr",
     "output_type": "stream",
     "text": [
      "[nltk_data] Downloading package wordnet to /Users/yejin/nltk_data...\n",
      "[nltk_data]   Unzipping corpora/wordnet.zip.\n"
     ]
    },
    {
     "data": {
      "text/plain": [
       "True"
      ]
     },
     "execution_count": 4,
     "metadata": {},
     "output_type": "execute_result"
    }
   ],
   "source": [
    "nltk.download('wordnet')"
   ]
  },
  {
   "cell_type": "code",
   "execution_count": 41,
   "metadata": {
    "executionInfo": {
     "elapsed": 322,
     "status": "ok",
     "timestamp": 1651194062629,
     "user": {
      "displayName": "한창훈",
      "userId": "15462280161729540268"
     },
     "user_tz": -540
    },
    "id": "e-O82Hw5rljB"
   },
   "outputs": [],
   "source": [
    "stop_words = set(stopwords.words('english'))\n",
    "stop_words.update(('\\r\\n', '\\n\\r', 'ever', 'much', 'look', 'squid', 'show', 'thing', \"i've\", 'anything', 'something', \"show's\",\n",
    "                   'www', 'soompi' 'com','instagram', 'youtube', 'https', 'mydramalist', 'twitter', 'episode', 'comment', 'scene', \n",
    "                   'version', \"he's\", 'gonna', 'series', 'watch', 'everything', 'something', \"can't\",'list', 'spoiler', 'dramas', \n",
    "                   'drama', 'wait', 'preview', 'someone', 'everyone', 'dont', 'think', 'season', 'time', 'anyone', 'something', \n",
    "                   'anything', 'nothing', 'world', 'status', 'week' ,'name', 'cause', 'time', 'en', 'org', 'wikipedia', 'wiki', \n",
    "                   'pbs', 'twimg','year', 'point', 'please', 'today', 'haha', 'case', 'guess', 'reason', 'person', 'moment', \n",
    "                   'sense', 'kinda', 'part', 'movie', 'school', 'start', 'work', 'lead', 'kind', 'rate', 'rating' ,'rate', 'men', \n",
    "                   'example', 'idea', 'half', 'review', 'genre', 'side', \"that's\", \"they're\", 'till', 'tell', 'phone', 'section', \n",
    "                   'number', 'company', 'line', \"there's\", 'male', 'team', 'rating', 'baby', 'course', 'care', 'cute', 'question', \n",
    "                   'help', 'group', 'hand', 'hate', 'need', 'mess', 'change', 'drop', 'date', 'netflix', 'yeah', 'daon', \n",
    "                   'park', 'thank', 'lmao', 'damn',\"i'll\", 'thing', 'random', 'year','thanks','day', 'others', 'feel', 'kdrama', 'talk',\n",
    "                  'opinion', 'fact'))"
   ]
  },
  {
   "cell_type": "code",
   "execution_count": 6,
   "metadata": {
    "colab": {
     "base_uri": "https://localhost:8080/",
     "height": 424
    },
    "executionInfo": {
     "elapsed": 2871,
     "status": "ok",
     "timestamp": 1651194067865,
     "user": {
      "displayName": "한창훈",
      "userId": "15462280161729540268"
     },
     "user_tz": -540
    },
    "id": "WVP9w089T6Pi",
    "outputId": "81bbb7a6-82b4-44bb-cffa-51e24b4b9c95"
   },
   "outputs": [
    {
     "data": {
      "text/html": [
       "<div>\n",
       "<style scoped>\n",
       "    .dataframe tbody tr th:only-of-type {\n",
       "        vertical-align: middle;\n",
       "    }\n",
       "\n",
       "    .dataframe tbody tr th {\n",
       "        vertical-align: top;\n",
       "    }\n",
       "\n",
       "    .dataframe thead th {\n",
       "        text-align: right;\n",
       "    }\n",
       "</style>\n",
       "<table border=\"1\" class=\"dataframe\">\n",
       "  <thead>\n",
       "    <tr style=\"text-align: right;\">\n",
       "      <th></th>\n",
       "      <th>Unnamed: 0</th>\n",
       "      <th>Unnamed: 0.1</th>\n",
       "      <th>reviews</th>\n",
       "      <th>title</th>\n",
       "    </tr>\n",
       "  </thead>\n",
       "  <tbody>\n",
       "    <tr>\n",
       "      <th>0</th>\n",
       "      <td>0</td>\n",
       "      <td>0</td>\n",
       "      <td>How criminal profiling came to be in South Kor...</td>\n",
       "      <td>악의마음을읽는자들</td>\n",
       "    </tr>\n",
       "    <tr>\n",
       "      <th>1</th>\n",
       "      <td>1</td>\n",
       "      <td>1</td>\n",
       "      <td>G r i p p i n g All the cases are based on tru...</td>\n",
       "      <td>악의마음을읽는자들</td>\n",
       "    </tr>\n",
       "    <tr>\n",
       "      <th>2</th>\n",
       "      <td>2</td>\n",
       "      <td>2</td>\n",
       "      <td>Darkness cannot drive out darkness only light ...</td>\n",
       "      <td>악의마음을읽는자들</td>\n",
       "    </tr>\n",
       "    <tr>\n",
       "      <th>3</th>\n",
       "      <td>3</td>\n",
       "      <td>3</td>\n",
       "      <td>Brilliant in every aspect There is no such thi...</td>\n",
       "      <td>악의마음을읽는자들</td>\n",
       "    </tr>\n",
       "    <tr>\n",
       "      <th>4</th>\n",
       "      <td>4</td>\n",
       "      <td>4</td>\n",
       "      <td>A Wonderfully Grim and Enthralling Show Throug...</td>\n",
       "      <td>악의마음을읽는자들</td>\n",
       "    </tr>\n",
       "    <tr>\n",
       "      <th>...</th>\n",
       "      <td>...</td>\n",
       "      <td>...</td>\n",
       "      <td>...</td>\n",
       "      <td>...</td>\n",
       "    </tr>\n",
       "    <tr>\n",
       "      <th>182682</th>\n",
       "      <td>193865</td>\n",
       "      <td>258880</td>\n",
       "      <td>Acting was subpar frankly and the lead actress...</td>\n",
       "      <td>동백꽃필무렵</td>\n",
       "    </tr>\n",
       "    <tr>\n",
       "      <th>182683</th>\n",
       "      <td>193866</td>\n",
       "      <td>258881</td>\n",
       "      <td>Aside from the mystery solving of Joker this s...</td>\n",
       "      <td>동백꽃필무렵</td>\n",
       "    </tr>\n",
       "    <tr>\n",
       "      <th>182684</th>\n",
       "      <td>193867</td>\n",
       "      <td>258882</td>\n",
       "      <td>It's full of meaning It deserve better The act...</td>\n",
       "      <td>동백꽃필무렵</td>\n",
       "    </tr>\n",
       "    <tr>\n",
       "      <th>182685</th>\n",
       "      <td>193868</td>\n",
       "      <td>258883</td>\n",
       "      <td>Really heartwarming romance amidst the danger ...</td>\n",
       "      <td>동백꽃필무렵</td>\n",
       "    </tr>\n",
       "    <tr>\n",
       "      <th>182686</th>\n",
       "      <td>193869</td>\n",
       "      <td>258904</td>\n",
       "      <td>I gave birth to my own kid It's got nothing to...</td>\n",
       "      <td>동백꽃필무렵</td>\n",
       "    </tr>\n",
       "  </tbody>\n",
       "</table>\n",
       "<p>182687 rows × 4 columns</p>\n",
       "</div>"
      ],
      "text/plain": [
       "        Unnamed: 0  Unnamed: 0.1  \\\n",
       "0                0             0   \n",
       "1                1             1   \n",
       "2                2             2   \n",
       "3                3             3   \n",
       "4                4             4   \n",
       "...            ...           ...   \n",
       "182682      193865        258880   \n",
       "182683      193866        258881   \n",
       "182684      193867        258882   \n",
       "182685      193868        258883   \n",
       "182686      193869        258904   \n",
       "\n",
       "                                                  reviews      title  \n",
       "0       How criminal profiling came to be in South Kor...  악의마음을읽는자들  \n",
       "1       G r i p p i n g All the cases are based on tru...  악의마음을읽는자들  \n",
       "2       Darkness cannot drive out darkness only light ...  악의마음을읽는자들  \n",
       "3       Brilliant in every aspect There is no such thi...  악의마음을읽는자들  \n",
       "4       A Wonderfully Grim and Enthralling Show Throug...  악의마음을읽는자들  \n",
       "...                                                   ...        ...  \n",
       "182682  Acting was subpar frankly and the lead actress...     동백꽃필무렵  \n",
       "182683  Aside from the mystery solving of Joker this s...     동백꽃필무렵  \n",
       "182684  It's full of meaning It deserve better The act...     동백꽃필무렵  \n",
       "182685  Really heartwarming romance amidst the danger ...     동백꽃필무렵  \n",
       "182686  I gave birth to my own kid It's got nothing to...     동백꽃필무렵  \n",
       "\n",
       "[182687 rows x 4 columns]"
      ]
     },
     "execution_count": 6,
     "metadata": {},
     "output_type": "execute_result"
    }
   ],
   "source": [
    "df = pd.read_csv('/Users/yejin/workspace/0425_ENG_final_drama_reviews.csv')\n",
    "df"
   ]
  },
  {
   "cell_type": "code",
   "execution_count": 7,
   "metadata": {
    "executionInfo": {
     "elapsed": 392,
     "status": "ok",
     "timestamp": 1651194070239,
     "user": {
      "displayName": "한창훈",
      "userId": "15462280161729540268"
     },
     "user_tz": -540
    },
    "id": "2i4S6vgT0exN"
   },
   "outputs": [],
   "source": [
    "titles = df['title']"
   ]
  },
  {
   "cell_type": "code",
   "execution_count": 8,
   "metadata": {
    "executionInfo": {
     "elapsed": 5,
     "status": "ok",
     "timestamp": 1651194071920,
     "user": {
      "displayName": "한창훈",
      "userId": "15462280161729540268"
     },
     "user_tz": -540
    },
    "id": "tLFRdX-v0GKc"
   },
   "outputs": [],
   "source": [
    "df_lower = df['reviews'].str.lower()"
   ]
  },
  {
   "cell_type": "code",
   "execution_count": 9,
   "metadata": {
    "executionInfo": {
     "elapsed": 6,
     "status": "ok",
     "timestamp": 1651194073464,
     "user": {
      "displayName": "한창훈",
      "userId": "15462280161729540268"
     },
     "user_tz": -540
    },
    "id": "lToBlRlZ0SqD"
   },
   "outputs": [],
   "source": [
    "df_lower = pd.DataFrame(df_lower)"
   ]
  },
  {
   "cell_type": "code",
   "execution_count": 10,
   "metadata": {
    "executionInfo": {
     "elapsed": 17,
     "status": "ok",
     "timestamp": 1651194074642,
     "user": {
      "displayName": "한창훈",
      "userId": "15462280161729540268"
     },
     "user_tz": -540
    },
    "id": "TlKRljUP1VhX"
   },
   "outputs": [],
   "source": [
    "df_lower['title'] = titles"
   ]
  },
  {
   "cell_type": "code",
   "execution_count": 11,
   "metadata": {
    "colab": {
     "base_uri": "https://localhost:8080/",
     "height": 424
    },
    "executionInfo": {
     "elapsed": 13,
     "status": "ok",
     "timestamp": 1651194075920,
     "user": {
      "displayName": "한창훈",
      "userId": "15462280161729540268"
     },
     "user_tz": -540
    },
    "id": "adu0iStM1aZz",
    "outputId": "89ab67bb-a58f-45a7-8fd5-4f63f7722551"
   },
   "outputs": [
    {
     "data": {
      "text/html": [
       "<div>\n",
       "<style scoped>\n",
       "    .dataframe tbody tr th:only-of-type {\n",
       "        vertical-align: middle;\n",
       "    }\n",
       "\n",
       "    .dataframe tbody tr th {\n",
       "        vertical-align: top;\n",
       "    }\n",
       "\n",
       "    .dataframe thead th {\n",
       "        text-align: right;\n",
       "    }\n",
       "</style>\n",
       "<table border=\"1\" class=\"dataframe\">\n",
       "  <thead>\n",
       "    <tr style=\"text-align: right;\">\n",
       "      <th></th>\n",
       "      <th>reviews</th>\n",
       "      <th>title</th>\n",
       "    </tr>\n",
       "  </thead>\n",
       "  <tbody>\n",
       "    <tr>\n",
       "      <th>0</th>\n",
       "      <td>how criminal profiling came to be in south kor...</td>\n",
       "      <td>악의마음을읽는자들</td>\n",
       "    </tr>\n",
       "    <tr>\n",
       "      <th>1</th>\n",
       "      <td>g r i p p i n g all the cases are based on tru...</td>\n",
       "      <td>악의마음을읽는자들</td>\n",
       "    </tr>\n",
       "    <tr>\n",
       "      <th>2</th>\n",
       "      <td>darkness cannot drive out darkness only light ...</td>\n",
       "      <td>악의마음을읽는자들</td>\n",
       "    </tr>\n",
       "    <tr>\n",
       "      <th>3</th>\n",
       "      <td>brilliant in every aspect there is no such thi...</td>\n",
       "      <td>악의마음을읽는자들</td>\n",
       "    </tr>\n",
       "    <tr>\n",
       "      <th>4</th>\n",
       "      <td>a wonderfully grim and enthralling show throug...</td>\n",
       "      <td>악의마음을읽는자들</td>\n",
       "    </tr>\n",
       "    <tr>\n",
       "      <th>...</th>\n",
       "      <td>...</td>\n",
       "      <td>...</td>\n",
       "    </tr>\n",
       "    <tr>\n",
       "      <th>182682</th>\n",
       "      <td>acting was subpar frankly and the lead actress...</td>\n",
       "      <td>동백꽃필무렵</td>\n",
       "    </tr>\n",
       "    <tr>\n",
       "      <th>182683</th>\n",
       "      <td>aside from the mystery solving of joker this s...</td>\n",
       "      <td>동백꽃필무렵</td>\n",
       "    </tr>\n",
       "    <tr>\n",
       "      <th>182684</th>\n",
       "      <td>it's full of meaning it deserve better the act...</td>\n",
       "      <td>동백꽃필무렵</td>\n",
       "    </tr>\n",
       "    <tr>\n",
       "      <th>182685</th>\n",
       "      <td>really heartwarming romance amidst the danger ...</td>\n",
       "      <td>동백꽃필무렵</td>\n",
       "    </tr>\n",
       "    <tr>\n",
       "      <th>182686</th>\n",
       "      <td>i gave birth to my own kid it's got nothing to...</td>\n",
       "      <td>동백꽃필무렵</td>\n",
       "    </tr>\n",
       "  </tbody>\n",
       "</table>\n",
       "<p>182687 rows × 2 columns</p>\n",
       "</div>"
      ],
      "text/plain": [
       "                                                  reviews      title\n",
       "0       how criminal profiling came to be in south kor...  악의마음을읽는자들\n",
       "1       g r i p p i n g all the cases are based on tru...  악의마음을읽는자들\n",
       "2       darkness cannot drive out darkness only light ...  악의마음을읽는자들\n",
       "3       brilliant in every aspect there is no such thi...  악의마음을읽는자들\n",
       "4       a wonderfully grim and enthralling show throug...  악의마음을읽는자들\n",
       "...                                                   ...        ...\n",
       "182682  acting was subpar frankly and the lead actress...     동백꽃필무렵\n",
       "182683  aside from the mystery solving of joker this s...     동백꽃필무렵\n",
       "182684  it's full of meaning it deserve better the act...     동백꽃필무렵\n",
       "182685  really heartwarming romance amidst the danger ...     동백꽃필무렵\n",
       "182686  i gave birth to my own kid it's got nothing to...     동백꽃필무렵\n",
       "\n",
       "[182687 rows x 2 columns]"
      ]
     },
     "execution_count": 11,
     "metadata": {},
     "output_type": "execute_result"
    }
   ],
   "source": [
    "df_lower"
   ]
  },
  {
   "cell_type": "code",
   "execution_count": 42,
   "metadata": {
    "executionInfo": {
     "elapsed": 34840,
     "status": "ok",
     "timestamp": 1651194113500,
     "user": {
      "displayName": "한창훈",
      "userId": "15462280161729540268"
     },
     "user_tz": -540
    },
    "id": "vI8jkfDPT9X3"
   },
   "outputs": [],
   "source": [
    "bigram_measures = nltk.collocations.BigramAssocMeasures()\n",
    "finder = nltk.collocations.BigramCollocationFinder.from_documents([comment.split() for comment in df_lower.reviews])\n",
    "# Filter only those that occur at least 50 times\n",
    "finder.apply_freq_filter(50)\n",
    "bigram_scores = finder.score_ngrams(bigram_measures.pmi)"
   ]
  },
  {
   "cell_type": "code",
   "execution_count": null,
   "metadata": {
    "id": "CzFlqDXeUEU8"
   },
   "outputs": [],
   "source": [
    "# trigram_measures = nltk.collocations.TrigramAssocMeasures()\n",
    "# finder = nltk.collocations.TrigramCollocationFinder.from_documents([comment.split() for comment in df_lower.reviews])\n",
    "# # Filter only those that occur at least 50 times\n",
    "# finder.apply_freq_filter(50)\n",
    "# trigram_scores = finder.score_ngrams(trigram_measures.pmi)"
   ]
  },
  {
   "cell_type": "code",
   "execution_count": 43,
   "metadata": {
    "executionInfo": {
     "elapsed": 284,
     "status": "ok",
     "timestamp": 1651194128844,
     "user": {
      "displayName": "한창훈",
      "userId": "15462280161729540268"
     },
     "user_tz": -540
    },
    "id": "GBgQtgKlUMcM"
   },
   "outputs": [],
   "source": [
    "bigram_pmi = pd.DataFrame(bigram_scores)\n",
    "bigram_pmi.columns = ['bigram', 'pmi']\n",
    "bigram_pmi.sort_values(by='pmi', axis = 0, ascending = False, inplace = True)"
   ]
  },
  {
   "cell_type": "code",
   "execution_count": null,
   "metadata": {
    "id": "A8NxIB-vUT1S"
   },
   "outputs": [],
   "source": [
    "# trigram_pmi = pd.DataFrame(trigram_scores)\n",
    "# trigram_pmi.columns = ['trigram', 'pmi']\n",
    "# trigram_pmi.sort_values(by='pmi', axis = 0, ascending = False, inplace = True)"
   ]
  },
  {
   "cell_type": "code",
   "execution_count": 18,
   "metadata": {
    "executionInfo": {
     "elapsed": 267,
     "status": "ok",
     "timestamp": 1651194130642,
     "user": {
      "displayName": "한창훈",
      "userId": "15462280161729540268"
     },
     "user_tz": -540
    },
    "id": "l9hjNGETUbx5"
   },
   "outputs": [],
   "source": [
    "# Filter for bigrams with only noun-type structures\n",
    "def bigram_filter(bigram):\n",
    "    tag = nltk.pos_tag(bigram)\n",
    "    if tag[0][1] not in ['JJ', 'NN'] and tag[1][1] not in ['NN']:\n",
    "        return False\n",
    "    if bigram[0] in stop_words or bigram[1] in stop_words:\n",
    "        return False\n",
    "    if 'n' in bigram or 't' in bigram:\n",
    "        return False\n",
    "    if 'PRON' in bigram:\n",
    "        return False\n",
    "    return True"
   ]
  },
  {
   "cell_type": "code",
   "execution_count": null,
   "metadata": {
    "id": "IRGL_dsEUrHG"
   },
   "outputs": [],
   "source": [
    "# # Filter for trigrams with only noun-type structures\n",
    "# def trigram_filter(trigram):\n",
    "#     tag = nltk.pos_tag(trigram)\n",
    "#     if tag[0][1] not in ['JJ', 'NN'] and tag[1][1] not in ['JJ','NN']:\n",
    "#         return False\n",
    "#     if trigram[0] in stop_words or trigram[-1] in stop_words or trigram[1] in stop_words:\n",
    "#         return False\n",
    "#     if 'n' in trigram or 't' in trigram:\n",
    "#          return False\n",
    "#     if 'PRON' in trigram:\n",
    "#         return False\n",
    "#     return True"
   ]
  },
  {
   "cell_type": "code",
   "execution_count": 44,
   "metadata": {
    "executionInfo": {
     "elapsed": 5486,
     "status": "ok",
     "timestamp": 1651194141486,
     "user": {
      "displayName": "한창훈",
      "userId": "15462280161729540268"
     },
     "user_tz": -540
    },
    "id": "gcI8B0FfUfqR"
   },
   "outputs": [],
   "source": [
    "# Can set pmi threshold to whatever makes sense - eyeball through and select threshold where n-grams stop making sense\n",
    "# choose top 500 ngrams in this case ranked by PMI that have noun like structures\n",
    "filtered_bigram = bigram_pmi[bigram_pmi.apply(lambda bigram:\\\n",
    "                                              bigram_filter(bigram['bigram'])\\\n",
    "                                              and bigram.pmi > 5, axis = 1)][:500]\n",
    "\n",
    "# filtered_trigram = trigram_pmi[trigram_pmi.apply(lambda trigram: \\\n",
    "#                                                  trigram_filter(trigram['trigram'])\\\n",
    "#                                                  and trigram.pmi > 5, axis = 1)][:500]\n",
    "\n",
    "\n",
    "bigrams = [' '.join(x) for x in filtered_bigram.bigram.values if len(x[0]) > 3 or len(x[1]) > 3]\n",
    "# trigrams = [' '.join(x) for x in filtered_trigram.trigram.values if len(x[0]) > 3 or len(x[1]) > 3 and len(x[2]) > 3]"
   ]
  },
  {
   "cell_type": "code",
   "execution_count": 45,
   "metadata": {
    "colab": {
     "base_uri": "https://localhost:8080/"
    },
    "executionInfo": {
     "elapsed": 277,
     "status": "ok",
     "timestamp": 1651194145887,
     "user": {
      "displayName": "한창훈",
      "userId": "15462280161729540268"
     },
     "user_tz": -540
    },
    "id": "TMDZq64ZT3e2",
    "outputId": "7ca8ba6b-6d00-4526-f92e-4a407aa37109"
   },
   "outputs": [
    {
     "data": {
      "text/plain": [
       "['aishwarya nazre',\n",
       " 'tim burton',\n",
       " 'chicago typewriter',\n",
       " 'shannon brown',\n",
       " 'bates motel',\n",
       " 'frontal lobe',\n",
       " 'grim reaper',\n",
       " 'muskan gupta',\n",
       " 'designated survivor',\n",
       " 'loan shark']"
      ]
     },
     "execution_count": 45,
     "metadata": {},
     "output_type": "execute_result"
    }
   ],
   "source": [
    "bigrams[:10]"
   ]
  },
  {
   "cell_type": "code",
   "execution_count": 21,
   "metadata": {
    "executionInfo": {
     "elapsed": 7,
     "status": "ok",
     "timestamp": 1651194148136,
     "user": {
      "displayName": "한창훈",
      "userId": "15462280161729540268"
     },
     "user_tz": -540
    },
    "id": "0p5-fhjbU19C"
   },
   "outputs": [],
   "source": [
    "# Concatenate n-grams\n",
    "def replace_ngram(x):\n",
    "    # for gram in trigrams:\n",
    "    #     x = x.replace(gram, '_'.join(gram.split()))\n",
    "    for gram in bigrams:\n",
    "        x = x.replace(gram, '_'.join(gram.split()))\n",
    "    return x"
   ]
  },
  {
   "cell_type": "code",
   "execution_count": 46,
   "metadata": {
    "executionInfo": {
     "elapsed": 8,
     "status": "ok",
     "timestamp": 1651194149471,
     "user": {
      "displayName": "한창훈",
      "userId": "15462280161729540268"
     },
     "user_tz": -540
    },
    "id": "2orYt9utWPDX"
   },
   "outputs": [],
   "source": [
    "reviews_w_ngrams = df_lower.copy()"
   ]
  },
  {
   "cell_type": "code",
   "execution_count": 47,
   "metadata": {
    "executionInfo": {
     "elapsed": 71085,
     "status": "ok",
     "timestamp": 1651194222046,
     "user": {
      "displayName": "한창훈",
      "userId": "15462280161729540268"
     },
     "user_tz": -540
    },
    "id": "GImUz94pWVKi"
   },
   "outputs": [],
   "source": [
    "reviews_w_ngrams.reviews = reviews_w_ngrams.reviews.map(lambda x: replace_ngram(x))"
   ]
  },
  {
   "cell_type": "code",
   "execution_count": 48,
   "metadata": {
    "executionInfo": {
     "elapsed": 3419,
     "status": "ok",
     "timestamp": 1651194228160,
     "user": {
      "displayName": "한창훈",
      "userId": "15462280161729540268"
     },
     "user_tz": -540
    },
    "id": "XSgwpJ0gX63K"
   },
   "outputs": [],
   "source": [
    "reviews_w_ngrams = reviews_w_ngrams.reviews.map(lambda x: [word for word in x.split()\\\n",
    "                                                 if word not in stop_words and len(word) > 3])"
   ]
  },
  {
   "cell_type": "code",
   "execution_count": 25,
   "metadata": {
    "executionInfo": {
     "elapsed": 372,
     "status": "ok",
     "timestamp": 1651194229582,
     "user": {
      "displayName": "한창훈",
      "userId": "15462280161729540268"
     },
     "user_tz": -540
    },
    "id": "Pwdw4rkZZH3N"
   },
   "outputs": [],
   "source": [
    "def get_wordnet_pos(pos_tag):\n",
    "    if pos_tag.startswith('V'):\n",
    "        return 'v'\n",
    "    elif pos_tag.startswith('N'):\n",
    "        return 'n'\n",
    "    elif pos_tag.startswith('J'):\n",
    "        return 'a'\n",
    "    elif pos_tag.startswith('R'):\n",
    "        return 'r'\n",
    "    else:\n",
    "        return None"
   ]
  },
  {
   "cell_type": "code",
   "execution_count": 49,
   "metadata": {
    "executionInfo": {
     "elapsed": 6,
     "status": "ok",
     "timestamp": 1651194230875,
     "user": {
      "displayName": "한창훈",
      "userId": "15462280161729540268"
     },
     "user_tz": -540
    },
    "id": "kpuQbos3ZPYD"
   },
   "outputs": [],
   "source": [
    "word_list = reviews_w_ngrams.to_list()"
   ]
  },
  {
   "cell_type": "code",
   "execution_count": 50,
   "metadata": {
    "executionInfo": {
     "elapsed": 305277,
     "status": "ok",
     "timestamp": 1651194537281,
     "user": {
      "displayName": "한창훈",
      "userId": "15462280161729540268"
     },
     "user_tz": -540
    },
    "id": "d7hbyJhJeXTq"
   },
   "outputs": [],
   "source": [
    "lemma = WordNetLemmatizer()\n",
    "word_list_lemma = []\n",
    "for ls in word_list:\n",
    "    word_lem = []\n",
    "    tag_words = nltk.pos_tag(ls)\n",
    "    pos_words = []\n",
    "    for word in tag_words:\n",
    "        if word[1] in ['NN']:  #'VB', 'VBP', 'JJ'\n",
    "            pos_words.append(word)\n",
    "    temp_list = []\n",
    "    for token, pos_tag in pos_words:\n",
    "        tag = get_wordnet_pos(pos_tag)\n",
    "        if tag != None:\n",
    "            temp_list.append((token, get_wordnet_pos(pos_tag)))\n",
    "    token_final = [lemma.lemmatize(token, pos=tag) for token, tag in temp_list]\n",
    "    word_list_lemma.append(token_final)"
   ]
  },
  {
   "cell_type": "code",
   "execution_count": 28,
   "metadata": {
    "executionInfo": {
     "elapsed": 299,
     "status": "ok",
     "timestamp": 1651195063558,
     "user": {
      "displayName": "한창훈",
      "userId": "15462280161729540268"
     },
     "user_tz": -540
    },
    "id": "3t47-TPwehhl"
   },
   "outputs": [],
   "source": [
    "# Filter for only nouns\n",
    "def noun_only(x):\n",
    "    pos_comment = nltk.pos_tag(x)\n",
    "    filtered = [word[0] for word in pos_comment if word[1] in ['NN']]\n",
    "    # to filter both noun and verbs\n",
    "    #filtered = [word[0] for word in pos_comment if word[1] in ['NN','VB', 'VBD', 'VBG', 'VBN', 'VBZ']]\n",
    "    return filtered"
   ]
  },
  {
   "cell_type": "code",
   "execution_count": 51,
   "metadata": {
    "executionInfo": {
     "elapsed": 270,
     "status": "ok",
     "timestamp": 1651195065136,
     "user": {
      "displayName": "한창훈",
      "userId": "15462280161729540268"
     },
     "user_tz": -540
    },
    "id": "xqncbRmxhNRg"
   },
   "outputs": [],
   "source": [
    "word_list_lemma = pd.Series(word_list_lemma)"
   ]
  },
  {
   "cell_type": "code",
   "execution_count": 52,
   "metadata": {
    "executionInfo": {
     "elapsed": 88190,
     "status": "ok",
     "timestamp": 1651195154358,
     "user": {
      "displayName": "한창훈",
      "userId": "15462280161729540268"
     },
     "user_tz": -540
    },
    "id": "y765xU5GhS44"
   },
   "outputs": [],
   "source": [
    "final_reviews = word_list_lemma.map(noun_only)"
   ]
  },
  {
   "cell_type": "code",
   "execution_count": 53,
   "metadata": {
    "colab": {
     "base_uri": "https://localhost:8080/"
    },
    "executionInfo": {
     "elapsed": 331,
     "status": "ok",
     "timestamp": 1651195161317,
     "user": {
      "displayName": "한창훈",
      "userId": "15462280161729540268"
     },
     "user_tz": -540
    },
    "id": "exOuMosdhWWb",
    "outputId": "83e8293f-eeef-45e2-e49f-2dd802543648"
   },
   "outputs": [
    {
     "data": {
      "text/plain": [
       "182687"
      ]
     },
     "execution_count": 53,
     "metadata": {},
     "output_type": "execute_result"
    }
   ],
   "source": [
    "len(final_reviews)"
   ]
  },
  {
   "cell_type": "code",
   "execution_count": null,
   "metadata": {
    "id": "6kxdp7xihnUM"
   },
   "outputs": [],
   "source": [
    "# tokens = [v for v in final_reviews if v]"
   ]
  },
  {
   "cell_type": "code",
   "execution_count": null,
   "metadata": {
    "colab": {
     "base_uri": "https://localhost:8080/"
    },
    "executionInfo": {
     "elapsed": 267,
     "status": "ok",
     "timestamp": 1651044538223,
     "user": {
      "displayName": "한창훈",
      "userId": "15462280161729540268"
     },
     "user_tz": -540
    },
    "id": "hpiR-hSKhq6y",
    "outputId": "2a7c0dc5-fce0-47a4-f96c-0a770ac8d73e"
   },
   "outputs": [
    {
     "data": {
      "text/plain": [
       "162778"
      ]
     },
     "execution_count": 211,
     "metadata": {},
     "output_type": "execute_result"
    }
   ],
   "source": [
    "# len(tokens)"
   ]
  },
  {
   "cell_type": "code",
   "execution_count": 54,
   "metadata": {
    "executionInfo": {
     "elapsed": 3964,
     "status": "ok",
     "timestamp": 1651195170787,
     "user": {
      "displayName": "한창훈",
      "userId": "15462280161729540268"
     },
     "user_tz": -540
    },
    "id": "myq3nj07h6rW"
   },
   "outputs": [],
   "source": [
    "dictionary = corpora.Dictionary(final_reviews)\n",
    "dictionary.filter_extremes(no_below=20, no_above=0.5)\n",
    "doc_term_matrix = [dictionary.doc2bow(doc) for doc in final_reviews]"
   ]
  },
  {
   "cell_type": "code",
   "execution_count": 55,
   "metadata": {
    "colab": {
     "base_uri": "https://localhost:8080/"
    },
    "id": "7xRlsg2PiNMe",
    "outputId": "48c7209a-4108-4cd2-bb31-1ad431c19837"
   },
   "outputs": [
    {
     "name": "stdout",
     "output_type": "stream",
     "text": [
      "Round: 3\n",
      "Round: 4\n"
     ]
    }
   ],
   "source": [
    "coherence = []\n",
    "for k in range(3, 5):\n",
    "    print('Round: '+str(k))\n",
    "    Lda = gensim.models.ldamodel.LdaModel\n",
    "    ldamodel = Lda(doc_term_matrix, num_topics=k, id2word = dictionary, passes=40,\\\n",
    "                   iterations=250, chunksize = 10000, eval_every = None, random_state=None)\n",
    "    \n",
    "    cm = gensim.models.coherencemodel.CoherenceModel(model=ldamodel, texts=final_reviews,\\\n",
    "                                                     dictionary=dictionary, coherence='c_v')\n",
    "    coherence.append((k,cm.get_coherence()))"
   ]
  },
  {
   "cell_type": "code",
   "execution_count": 56,
   "metadata": {
    "id": "1wNbgi_XiXBS"
   },
   "outputs": [],
   "source": [
    "x_val = [x[0] for x in coherence]\n",
    "y_val = [x[1] for x in coherence]"
   ]
  },
  {
   "cell_type": "code",
   "execution_count": 57,
   "metadata": {
    "colab": {
     "base_uri": "https://localhost:8080/",
     "height": 295
    },
    "executionInfo": {
     "elapsed": 12,
     "status": "ok",
     "timestamp": 1651158805580,
     "user": {
      "displayName": "한창훈",
      "userId": "15462280161729540268"
     },
     "user_tz": -540
    },
    "id": "DM8O0wC9iiv5",
    "outputId": "36f90fff-f37a-4542-f973-01f9bdc07120"
   },
   "outputs": [
    {
     "data": {
      "image/png": "[encoded data removed]",
      "text/plain": [
       "<Figure size 432x288 with 1 Axes>"
      ]
     },
     "metadata": {
      "needs_background": "light"
     },
     "output_type": "display_data"
    }
   ],
   "source": [
    "plt.plot(x_val,y_val)\n",
    "plt.scatter(x_val,y_val)\n",
    "plt.title('Number of Topics vs. Coherence')\n",
    "plt.xlabel('Number of Topics')\n",
    "plt.ylabel('Coherence')\n",
    "plt.xticks(x_val)\n",
    "plt.show()"
   ]
  },
  {
   "cell_type": "code",
   "execution_count": 62,
   "metadata": {
    "id": "_kA8DdxUjrNf"
   },
   "outputs": [],
   "source": [
    "Lda = gensim.models.ldamodel.LdaModel\n",
    "ldamodel = Lda(doc_term_matrix, num_topics=4, id2word = dictionary, passes=40,\\\n",
    "               iterations=250,  chunksize = 10000, eval_every = 1, random_state=None)"
   ]
  },
  {
   "cell_type": "code",
   "execution_count": null,
   "metadata": {
    "id": "GsISf0dNjdxq"
   },
   "outputs": [],
   "source": [
    "Lda2 = gensim.models.ldamodel.LdaModel\n",
    "ldamodel2 = Lda2(doc_term_matrix, num_topics=3, id2word = dictionary, passes=40,\\\n",
    "               iterations=200,  chunksize = 10000, eval_every = None, random_state=0)"
   ]
  },
  {
   "cell_type": "code",
   "execution_count": 63,
   "metadata": {
    "colab": {
     "base_uri": "https://localhost:8080/"
    },
    "executionInfo": {
     "elapsed": 285,
     "status": "ok",
     "timestamp": 1651161883875,
     "user": {
      "displayName": "한창훈",
      "userId": "15462280161729540268"
     },
     "user_tz": -540
    },
    "id": "_E_2VS2Tj-Ab",
    "outputId": "6704b0ec-7c3a-4fd3-eefc-d7e2c5b72d3a"
   },
   "outputs": [
    {
     "data": {
      "text/plain": [
       "[(0,\n",
       "  [('love', 0.05161402),\n",
       "   ('relationship', 0.04562925),\n",
       "   ('opinion', 0.023704384),\n",
       "   ('wife', 0.020939723),\n",
       "   ('mother', 0.019955251),\n",
       "   ('family', 0.017281761),\n",
       "   ('girl', 0.013397283),\n",
       "   ('woman', 0.013165341),\n",
       "   ('brother', 0.012988528),\n",
       "   ('friend', 0.012442749),\n",
       "   ('child', 0.011269359),\n",
       "   ('husband', 0.011094719),\n",
       "   ('daughter', 0.009462017),\n",
       "   ('father', 0.008847728),\n",
       "   ('shinwoo', 0.008377683)]),\n",
       " (1,\n",
       "  [('life', 0.06709104),\n",
       "   ('heart', 0.024385964),\n",
       "   ('fact', 0.020375947),\n",
       "   ('death', 0.014601268),\n",
       "   ('family', 0.012569434),\n",
       "   ('place', 0.0125114275),\n",
       "   ('doctor', 0.011738694),\n",
       "   ('face', 0.0115623),\n",
       "   ('money', 0.010518373),\n",
       "   ('mind', 0.009000919),\n",
       "   ('situation', 0.008978655),\n",
       "   ('home', 0.007807941),\n",
       "   ('matter', 0.007475191),\n",
       "   ('webtoon', 0.007440536),\n",
       "   ('happiness', 0.007389775)]),\n",
       " (2,\n",
       "  [('story', 0.09572897),\n",
       "   ('character', 0.07463517),\n",
       "   ('plot', 0.04440393),\n",
       "   ('romance', 0.041629672),\n",
       "   ('chemistry', 0.022106508),\n",
       "   ('role', 0.017619738),\n",
       "   ('couple', 0.01697712),\n",
       "   ('actor', 0.016723828),\n",
       "   ('hope', 0.015280083),\n",
       "   ('read', 0.014729547),\n",
       "   ('music', 0.0120892245),\n",
       "   ('development', 0.011383619),\n",
       "   ('cast', 0.010608438),\n",
       "   ('action', 0.009825759),\n",
       "   ('thriller', 0.0091459155)]),\n",
       " (3,\n",
       "  [('game', 0.041203838),\n",
       "   ('writer', 0.024500873),\n",
       "   ('jung', 0.018619794),\n",
       "   ('director', 0.015639286),\n",
       "   ('killer', 0.015586614),\n",
       "   ('hyun', 0.012938054),\n",
       "   ('sung', 0.01113713),\n",
       "   ('joon', 0.010566239),\n",
       "   ('song', 0.0102054775),\n",
       "   ('ba_reum', 0.009831473),\n",
       "   ('murder', 0.009584527),\n",
       "   ('kang', 0.008909687),\n",
       "   ('chance', 0.008072559),\n",
       "   ('kyung', 0.008061498),\n",
       "   ('head', 0.008055107)])]"
      ]
     },
     "execution_count": 63,
     "metadata": {},
     "output_type": "execute_result"
    }
   ],
   "source": [
    "# To show initial topics\n",
    "ldamodel.show_topics(4, num_words=15, formatted=False)"
   ]
  },
  {
   "cell_type": "code",
   "execution_count": null,
   "metadata": {
    "id": "5VQKSfvDa12X"
   },
   "outputs": [],
   "source": [
    "from gensim.test.utils import datapath\n",
    "\n",
    "temp_file = datapath(\"/content/drive/MyDrive/LDA4/lda_model\")\n",
    "ldamodel.save(temp_file)"
   ]
  },
  {
   "cell_type": "code",
   "execution_count": 12,
   "metadata": {
    "executionInfo": {
     "elapsed": 262,
     "status": "ok",
     "timestamp": 1651191976113,
     "user": {
      "displayName": "한창훈",
      "userId": "15462280161729540268"
     },
     "user_tz": -540
    },
    "id": "cRcYDvVcbPEA"
   },
   "outputs": [],
   "source": [
    "from gensim.models.ldamodel import LdaModel\n",
    "temp_file = datapath(\"/content/drive/MyDrive/LDA4/lda_model\")\n",
    "lda = LdaModel.load(temp_file)"
   ]
  },
  {
   "cell_type": "code",
   "execution_count": 14,
   "metadata": {
    "colab": {
     "base_uri": "https://localhost:8080/"
    },
    "executionInfo": {
     "elapsed": 294,
     "status": "ok",
     "timestamp": 1651193984794,
     "user": {
      "displayName": "한창훈",
      "userId": "15462280161729540268"
     },
     "user_tz": -540
    },
    "id": "65tWyNjebmcG",
    "outputId": "4eb8dfa5-3e4f-4d43-a263-3802f949c481"
   },
   "outputs": [
    {
     "data": {
      "text/plain": [
       "[(0,\n",
       "  [('death', 0.016456554),\n",
       "   ('family', 0.015953919),\n",
       "   ('mother', 0.014835676),\n",
       "   ('doctor', 0.013238285),\n",
       "   ('face', 0.013050412),\n",
       "   ('killer', 0.012656475),\n",
       "   ('money', 0.011855011),\n",
       "   ('love', 0.0115251755),\n",
       "   ('girl', 0.010146954),\n",
       "   ('brother', 0.009724532),\n",
       "   ('friend', 0.009276425),\n",
       "   ('home', 0.008795659),\n",
       "   ('child', 0.0083225295),\n",
       "   ('place', 0.007945916),\n",
       "   ('house', 0.007856713)]),\n",
       " (1,\n",
       "  [('plot', 0.04225889),\n",
       "   ('heart', 0.022474673),\n",
       "   ('kdrama', 0.022470467),\n",
       "   ('thriller', 0.01864537),\n",
       "   ('game', 0.01743026),\n",
       "   ('mystery', 0.015252511),\n",
       "   ('crime', 0.014935037),\n",
       "   ('twist', 0.013027677),\n",
       "   ('action', 0.011065524),\n",
       "   ('binge', 0.010009643),\n",
       "   ('understand', 0.009412649),\n",
       "   ('love', 0.009250505),\n",
       "   ('mouse', 0.009153021),\n",
       "   ('comedy', 0.008856771),\n",
       "   ('spoiler', 0.00884458)]),\n",
       " (2,\n",
       "  [('game', 0.034649596),\n",
       "   ('couple', 0.033036277),\n",
       "   ('actor', 0.032490864),\n",
       "   ('role', 0.024148418),\n",
       "   ('wife', 0.023099188),\n",
       "   ('jung', 0.022001756),\n",
       "   ('chemistry', 0.019333186),\n",
       "   ('hyun', 0.015479681),\n",
       "   ('sung', 0.0132859275),\n",
       "   ('actress', 0.012587249),\n",
       "   ('joon', 0.0125483405),\n",
       "   ('husband', 0.012247014),\n",
       "   ('stuff', 0.011640846),\n",
       "   ('director', 0.009672714),\n",
       "   ('love', 0.009164463)]),\n",
       " (3,\n",
       "  [('story', 0.07710044),\n",
       "   ('character', 0.060027935),\n",
       "   ('life', 0.04652777),\n",
       "   ('romance', 0.033440676),\n",
       "   ('plot', 0.018946446),\n",
       "   ('relationship', 0.018235086),\n",
       "   ('feel', 0.014965956),\n",
       "   ('opinion', 0.010966999),\n",
       "   ('chemistry', 0.009870807),\n",
       "   ('music', 0.009736917),\n",
       "   ('writer', 0.009490529),\n",
       "   ('love', 0.009299321),\n",
       "   ('development', 0.009168661),\n",
       "   ('heart', 0.008004835),\n",
       "   ('cast', 0.0076020984)])]"
      ]
     },
     "execution_count": 14,
     "metadata": {},
     "output_type": "execute_result"
    }
   ],
   "source": [
    "lda.show_topics(4, num_words=15, formatted=False)"
   ]
  },
  {
   "cell_type": "code",
   "execution_count": null,
   "metadata": {
    "id": "8BtPovdbthph"
   },
   "outputs": [],
   "source": [
    "review_corpus = doc_term_matrix[9]"
   ]
  },
  {
   "cell_type": "code",
   "execution_count": null,
   "metadata": {
    "colab": {
     "base_uri": "https://localhost:8080/"
    },
    "executionInfo": {
     "elapsed": 7,
     "status": "ok",
     "timestamp": 1650979897890,
     "user": {
      "displayName": "한창훈",
      "userId": "15462280161729540268"
     },
     "user_tz": -540
    },
    "id": "XfGixIeMtv9i",
    "outputId": "61fe2f26-610a-46a5-a4ab-832a234f0735"
   },
   "outputs": [
    {
     "data": {
      "text/plain": [
       "[(0, 0.40505335), (1, 0.19938281), (2, 0.015471145), (3, 0.38009274)]"
      ]
     },
     "execution_count": 406,
     "metadata": {},
     "output_type": "execute_result"
    }
   ],
   "source": [
    "vector = ldamodel[review_corpus]\n",
    "vector"
   ]
  },
  {
   "cell_type": "code",
   "execution_count": null,
   "metadata": {
    "id": "JQAnoJTJkHr5"
   },
   "outputs": [],
   "source": [
    "%%capture\n",
    "!pip install pyldavis"
   ]
  },
  {
   "cell_type": "code",
   "execution_count": null,
   "metadata": {
    "colab": {
     "base_uri": "https://localhost:8080/"
    },
    "executionInfo": {
     "elapsed": 425,
     "status": "ok",
     "timestamp": 1651147904109,
     "user": {
      "displayName": "한창훈",
      "userId": "15462280161729540268"
     },
     "user_tz": -540
    },
    "id": "_PqhePRpkmmF",
    "outputId": "ce14d554-0b8d-4e9e-d21f-cb73b1a5ff08"
   },
   "outputs": [
    {
     "name": "stderr",
     "output_type": "stream",
     "text": [
      "/usr/local/lib/python3.7/dist-packages/past/types/oldstr.py:5: DeprecationWarning: Using or importing the ABCs from 'collections' instead of from 'collections.abc' is deprecated since Python 3.3,and in 3.9 it will stop working\n",
      "  from collections import Iterable\n"
     ]
    }
   ],
   "source": [
    "import pickle\n",
    "import pyLDAvis.gensim_models as gensimvis\n",
    "import pyLDAvis\n",
    "from gensim.models.coherencemodel import CoherenceModel\n",
    "import matplotlib.pyplot as plt"
   ]
  },
  {
   "cell_type": "code",
   "execution_count": null,
   "metadata": {
    "colab": {
     "base_uri": "https://localhost:8080/",
     "height": 880
    },
    "executionInfo": {
     "elapsed": 17639,
     "status": "ok",
     "timestamp": 1651161907432,
     "user": {
      "displayName": "한창훈",
      "userId": "15462280161729540268"
     },
     "user_tz": -540
    },
    "id": "kEJXgpSglEzq",
    "outputId": "1e80deda-bc0b-4efe-b3ae-f4b41a23caf6"
   },
   "outputs": [
    {
     "data": {
      "text/html": [
       "\n",
       "<link rel=\"stylesheet\" type=\"text/css\" href=\"https://cdn.jsdelivr.net/gh/bmabey/pyLDAvis@3.3.1/pyLDAvis/js/ldavis.v1.0.0.css\">\n",
       "\n",
       "\n",
       "<div id=\"ldavis_el601398236061776167673347765\"></div>\n",
       "<script type=\"text/javascript\">\n",
       "\n",
       "var ldavis_el601398236061776167673347765_data = {\"mdsDat\": {\"x\": [0.11132753553941246, 0.19808819773703631, -0.3871115339445389, 0.07769580066809], \"y\": [0.0036973983022829085, -0.2766991497323518, -0.07140189388676507, 0.3444036453168341], \"topics\": [1, 2, 3, 4], \"cluster\": [1, 1, 1, 1], \"Freq\": [40.066919662372655, 24.247564079621643, 18.638250475787142, 17.047265782218552]}, \"tinfo\": {\"Term\": [\"story\", \"character\", \"life\", \"plot\", \"romance\", \"couple\", \"actor\", \"game\", \"wife\", \"role\", \"jung\", \"heart\", \"kdrama\", \"chemistry\", \"death\", \"thriller\", \"feel\", \"mother\", \"hyun\", \"mystery\", \"doctor\", \"crime\", \"face\", \"relationship\", \"killer\", \"family\", \"sung\", \"money\", \"opinion\", \"actress\", \"story\", \"character\", \"life\", \"romance\", \"feel\", \"opinion\", \"music\", \"development\", \"production\", \"cinematography\", \"webtoon\", \"matter\", \"happiness\", \"performance\", \"reality\", \"audience\", \"personality\", \"society\", \"country\", \"focus\", \"experience\", \"quality\", \"script\", \"message\", \"support\", \"justice\", \"direction\", \"history\", \"friendship\", \"amount\", \"relationship\", \"cast\", \"writer\", \"plot\", \"chemistry\", \"love\", \"heart\", \"family\", \"death\", \"mother\", \"doctor\", \"face\", \"killer\", \"money\", \"girl\", \"brother\", \"friend\", \"home\", \"child\", \"house\", \"ba_reum\", \"daughter\", \"hell\", \"father\", \"head\", \"serial_killer\", \"psychopath\", \"blood\", \"body\", \"break\", \"theory\", \"book\", \"hospital\", \"sister\", \"joker\", \"wonder\", \"apartment\", \"post\", \"song\", \"family\", \"room\", \"talk\", \"situation\", \"place\", \"love\", \"murder\", \"brain\", \"mind\", \"couple\", \"actor\", \"wife\", \"jung\", \"hyun\", \"sung\", \"actress\", \"joon\", \"husband\", \"stuff\", \"play\", \"hair\", \"revenge\", \"yoon\", \"baek\", \"marriage\", \"hoon\", \"star\", \"secretary\", \"hour\", \"moon\", \"yeon\", \"stop\", \"jang\", \"reply\", \"romcom\", \"worth\", \"miss\", \"wanna\", \"dude\", \"hwang\", \"game\", \"role\", \"chemistry\", \"director\", \"love\", \"night\", \"rest\", \"kdrama\", \"thriller\", \"mystery\", \"crime\", \"twist\", \"binge\", \"understand\", \"spoiler\", \"enjoy\", \"horror\", \"mouse\", \"hype\", \"cannot\", \"rewatch\", \"taste\", \"check\", \"glad\", \"kdramas\", \"okay\", \"suspense\", \"trailer\", \"shin_woo\", \"minute\", \"information\", \"synopsis\", \"didnt\", \"hahaha\", \"vibe\", \"korea\", \"site\", \"plot\", \"heart\", \"action\", \"game\", \"comedy\", \"kyung\", \"love\", \"type\", \"storyline\", \"attention\"], \"Freq\": [25458.0, 19821.0, 15363.0, 12193.0, 11042.0, 5075.0, 4991.0, 7771.0, 3548.0, 5085.0, 3380.0, 5801.0, 3157.0, 6229.0, 3289.0, 2620.0, 4942.0, 2965.0, 2378.0, 2143.0, 2646.0, 2098.0, 2608.0, 6886.0, 2529.0, 5438.0, 2041.0, 2369.0, 3621.0, 1934.0, 25457.878236431585, 19820.688871109083, 15363.054675313782, 11041.812961514477, 4941.625285404027, 3621.2054517932506, 3215.043184610789, 3027.4101912423826, 2018.7678414972686, 1836.4949780798718, 1688.4792201122596, 1704.8282238038016, 1676.4118933303232, 1611.4317918058139, 1596.8179381816005, 1583.40123816166, 1578.794211004605, 1530.0793154944827, 1506.7638803230536, 1460.2560157448265, 1435.8750431372798, 1391.4897967849695, 1359.8388759733084, 1366.6361745268275, 1357.2260797753363, 1227.2886327927747, 1190.1098329185882, 1157.922530094532, 1121.3579902574725, 1099.9081681424839, 6021.062680439383, 2510.145119757686, 3133.688094426959, 6255.947723262036, 3259.2523789624706, 3070.552925614712, 2643.1251143284003, 2250.3083575795986, 3288.413297393029, 2964.5231725302797, 2645.3261310945904, 2607.7846273872974, 2529.066704218197, 2368.9149065938313, 2027.6042823480925, 1943.1942880512242, 1853.651640850941, 1757.5831921020306, 1663.040581683617, 1569.9592327081912, 1564.7703774415845, 1422.819398765981, 1450.5511707892715, 1308.4782032094552, 1295.6009763185277, 1213.9354997407713, 1172.574654643457, 1101.126562983385, 1064.3842680467121, 1065.1120142098305, 995.0090572555553, 1004.8300480222505, 967.7738014739731, 852.3161887757653, 1029.0165117012152, 837.4134436034467, 901.7667313127092, 805.1186724308153, 1360.5855170607265, 3187.9748357551416, 1017.5085195360625, 1385.5298751903495, 1547.0417886140121, 1587.7841285654054, 2303.0059114173428, 1164.6765477101387, 1076.8548652569305, 1208.9973219020435, 5074.294010307546, 4990.5199699529285, 3547.9806387526396, 3379.4177688203504, 2377.6424236302037, 2040.6870550603326, 1933.3717357573676, 1927.395436890613, 1881.1123795532142, 1788.0063981561436, 1315.4042943285895, 1251.3196539528833, 1331.7699520467647, 1228.482461916838, 1275.7605677227405, 1074.1985232026811, 1008.8410333053039, 990.3390111028177, 974.4239575646003, 968.5181103037597, 891.0209146514812, 893.1258083676682, 697.2217788094729, 626.3268642117253, 620.9215452130029, 620.0510208520083, 611.7221390190359, 583.8101783362802, 573.6343557990284, 568.8879560079031, 570.2972742240759, 5322.095982907779, 3709.1398674348034, 2969.5316130529986, 1485.706067248678, 1407.6398228891385, 741.1748549141247, 638.8204730590758, 3156.793800297313, 2619.419977353851, 2142.769558903929, 2098.1688109346283, 1830.2107985547814, 1406.2181386787618, 1322.3486880985445, 1242.5426765950906, 1232.6483064594659, 1195.7602031981878, 1285.874425768451, 1053.9523026425252, 1030.624980359149, 932.0676439316996, 883.6590491268836, 884.283997343072, 858.1238337945852, 814.3641785935804, 790.444028849187, 768.9638789548296, 754.3631967056482, 797.6759089344978, 740.9606644176822, 741.4251396961222, 696.6823015430506, 675.3969695894247, 658.8167722063961, 640.8689240950481, 641.5657024317615, 612.5455487110437, 5936.796881085277, 3157.384665186731, 1554.555057011065, 2448.7136679356645, 1244.2553474105216, 907.6639165453023, 1299.5696429008874, 873.8824332872014, 880.3342565809462, 849.7379616090375], \"Total\": [25458.0, 19821.0, 15363.0, 12193.0, 11042.0, 5075.0, 4991.0, 7771.0, 3548.0, 5085.0, 3380.0, 5801.0, 3157.0, 6229.0, 3289.0, 2620.0, 4942.0, 2965.0, 2378.0, 2143.0, 2646.0, 2098.0, 2608.0, 6886.0, 2529.0, 5438.0, 2041.0, 2369.0, 3621.0, 1934.0, 25458.653800295677, 19821.472237531085, 15363.839697656456, 11042.592616031772, 4942.408793929604, 3621.986611260011, 3215.8199810217184, 3028.1812532947456, 2019.5498672083925, 1837.2670890667284, 1689.261812623814, 1705.620643594855, 1677.2185908756126, 1612.2141847601122, 1597.5990427209938, 1584.1813347905356, 1579.5824655208028, 1530.8719724816483, 1507.5470257518634, 1461.0384197493038, 1436.6570499296238, 1392.2653202088266, 1360.617245859655, 1367.4223831116503, 1358.0142683593215, 1228.0826249514278, 1190.888807910033, 1158.7021432629501, 1122.1323816521153, 1100.6975788716761, 6886.644580727507, 2837.7322452587955, 3933.4228199466197, 12193.259814718644, 6229.28475102147, 8080.768302822081, 5801.032875111143, 5438.822327737005, 3289.2136281634257, 2965.3105782803186, 2646.124117004116, 2608.575186994035, 2529.848814959392, 2369.72177673973, 2028.388080134445, 1943.9703232332465, 1854.4323395467843, 1758.379877191442, 1663.8337805141523, 1570.7399494901454, 1565.60527618968, 1423.5999531059492, 1451.34830631267, 1309.2533385121496, 1296.3866291038794, 1214.73017305416, 1173.371244165408, 1101.9276089573084, 1065.1637249068456, 1065.8966557009364, 995.7757662827464, 1005.6243129037881, 968.5532650835441, 853.0898502675127, 1029.960360049945, 838.1925124263709, 902.6204514027078, 805.9030346617433, 1613.6103604194159, 5438.822327737005, 1109.2393496250722, 1849.641036460672, 2508.2020291894055, 2845.68776717325, 8080.768302822081, 1570.9757382561183, 1304.0535803473433, 2917.7876624684595, 5075.043285344834, 4991.271813598129, 3548.733771577658, 3380.1685693974077, 2378.388534140508, 2041.4510081258609, 1934.1177360387053, 1928.1485104394437, 1881.8629006942379, 1788.7677706220231, 1316.1643251831601, 1252.0640701096027, 1332.5638334542823, 1229.2402518081853, 1276.5504974864175, 1074.9512015089745, 1009.5889662328786, 991.0888111159378, 975.1717702759563, 969.2729250763398, 891.7635742981296, 893.8765156370603, 697.9698219116711, 627.0681250974943, 621.6706590020051, 620.801028291592, 612.4703099877453, 584.5528582364104, 574.378429532034, 569.641253768954, 571.0775109293868, 7771.349573293097, 5085.196324918838, 6229.28475102147, 2703.4396489137594, 8080.768302822081, 1287.0595816634159, 1519.7694097902963, 3157.549607246256, 2620.1783658517384, 2143.541372940779, 2098.927901206603, 1830.9725843108577, 1406.9685939006206, 1323.1145423518333, 1243.2957948090234, 1233.4035695096168, 1196.5176024296538, 1286.7195063031295, 1054.7099862365958, 1031.400642817706, 932.8264144008035, 884.4171674832774, 885.0427843320242, 858.8788086913128, 815.1151329847985, 791.2006257624276, 769.7160675116446, 755.1142033591335, 798.4736304319036, 741.7300107985268, 742.2061660274309, 697.4480298132764, 676.1531300954009, 659.563341269457, 641.6257802996465, 642.327125817997, 613.2979218637478, 12193.259814718644, 5801.032875111143, 2720.3111915869877, 7771.349573293097, 2473.984125070091, 1431.1400351042648, 8080.768302822081, 1532.713039288197, 1731.1606068342844, 1719.5844951096128], \"Category\": [\"Default\", \"Default\", \"Default\", \"Default\", \"Default\", \"Default\", \"Default\", \"Default\", \"Default\", \"Default\", \"Default\", \"Default\", \"Default\", \"Default\", \"Default\", \"Default\", \"Default\", \"Default\", \"Default\", \"Default\", \"Default\", \"Default\", \"Default\", \"Default\", \"Default\", \"Default\", \"Default\", \"Default\", \"Default\", \"Default\", \"Topic1\", \"Topic1\", \"Topic1\", \"Topic1\", \"Topic1\", \"Topic1\", \"Topic1\", \"Topic1\", \"Topic1\", \"Topic1\", \"Topic1\", \"Topic1\", \"Topic1\", \"Topic1\", \"Topic1\", \"Topic1\", \"Topic1\", \"Topic1\", \"Topic1\", \"Topic1\", \"Topic1\", \"Topic1\", \"Topic1\", \"Topic1\", \"Topic1\", \"Topic1\", \"Topic1\", \"Topic1\", \"Topic1\", \"Topic1\", \"Topic1\", \"Topic1\", \"Topic1\", \"Topic1\", \"Topic1\", \"Topic1\", \"Topic1\", \"Topic1\", \"Topic2\", \"Topic2\", \"Topic2\", \"Topic2\", \"Topic2\", \"Topic2\", \"Topic2\", \"Topic2\", \"Topic2\", \"Topic2\", \"Topic2\", \"Topic2\", \"Topic2\", \"Topic2\", \"Topic2\", \"Topic2\", \"Topic2\", \"Topic2\", \"Topic2\", \"Topic2\", \"Topic2\", \"Topic2\", \"Topic2\", \"Topic2\", \"Topic2\", \"Topic2\", \"Topic2\", \"Topic2\", \"Topic2\", \"Topic2\", \"Topic2\", \"Topic2\", \"Topic2\", \"Topic2\", \"Topic2\", \"Topic2\", \"Topic2\", \"Topic2\", \"Topic2\", \"Topic2\", \"Topic3\", \"Topic3\", \"Topic3\", \"Topic3\", \"Topic3\", \"Topic3\", \"Topic3\", \"Topic3\", \"Topic3\", \"Topic3\", \"Topic3\", \"Topic3\", \"Topic3\", \"Topic3\", \"Topic3\", \"Topic3\", \"Topic3\", \"Topic3\", \"Topic3\", \"Topic3\", \"Topic3\", \"Topic3\", \"Topic3\", \"Topic3\", \"Topic3\", \"Topic3\", \"Topic3\", \"Topic3\", \"Topic3\", \"Topic3\", \"Topic3\", \"Topic3\", \"Topic3\", \"Topic3\", \"Topic3\", \"Topic3\", \"Topic3\", \"Topic3\", \"Topic4\", \"Topic4\", \"Topic4\", \"Topic4\", \"Topic4\", \"Topic4\", \"Topic4\", \"Topic4\", \"Topic4\", \"Topic4\", \"Topic4\", \"Topic4\", \"Topic4\", \"Topic4\", \"Topic4\", \"Topic4\", \"Topic4\", \"Topic4\", \"Topic4\", \"Topic4\", \"Topic4\", \"Topic4\", \"Topic4\", \"Topic4\", \"Topic4\", \"Topic4\", \"Topic4\", \"Topic4\", \"Topic4\", \"Topic4\", \"Topic4\", \"Topic4\", \"Topic4\", \"Topic4\", \"Topic4\", \"Topic4\", \"Topic4\", \"Topic4\", \"Topic4\", \"Topic4\"], \"logprob\": [30.0, 29.0, 28.0, 27.0, 26.0, 25.0, 24.0, 23.0, 22.0, 21.0, 20.0, 19.0, 18.0, 17.0, 16.0, 15.0, 14.0, 13.0, 12.0, 11.0, 10.0, 9.0, 8.0, 7.0, 6.0, 5.0, 4.0, 3.0, 2.0, 1.0, -2.5626, -2.8129, -3.0677, -3.398, -4.202, -4.5129, -4.6318, -4.692, -5.0972, -5.1918, -5.2758, -5.2662, -5.283, -5.3225, -5.3317, -5.3401, -5.343, -5.3744, -5.3897, -5.4211, -5.4379, -5.4693, -5.4923, -5.4873, -5.4942, -5.5949, -5.6256, -5.653, -5.6851, -5.7044, -4.0044, -4.8793, -4.6575, -3.9661, -4.6182, -4.6778, -4.8277, -4.9886, -4.107, -4.2107, -4.3246, -4.3389, -4.3696, -4.435, -4.5906, -4.6331, -4.6803, -4.7335, -4.7888, -4.8464, -4.8497, -4.9448, -4.9255, -5.0286, -5.0385, -5.1036, -5.1382, -5.2011, -5.235, -5.2344, -5.3024, -5.2926, -5.3302, -5.4572, -5.2688, -5.4749, -5.4008, -5.5142, -4.9895, -4.1381, -5.2801, -4.9714, -4.8611, -4.8351, -4.4632, -5.145, -5.2234, -5.1076, -3.4101, -3.4268, -3.768, -3.8166, -4.1682, -4.321, -4.3751, -4.3782, -4.4025, -4.4532, -4.7602, -4.8101, -4.7478, -4.8286, -4.7908, -4.9628, -5.0255, -5.044, -5.0602, -5.0663, -5.1497, -5.1474, -5.395, -5.5022, -5.5109, -5.5123, -5.5258, -5.5725, -5.5901, -5.5984, -5.5959, -3.3625, -3.7235, -3.9459, -4.6384, -4.6924, -5.3339, -5.4825, -3.7956, -3.9822, -4.183, -4.204, -4.3407, -4.6042, -4.6657, -4.728, -4.7359, -4.7663, -4.6937, -4.8926, -4.9149, -5.0155, -5.0688, -5.0681, -5.0981, -5.1505, -5.1803, -5.2078, -5.227, -5.1712, -5.2449, -5.2443, -5.3065, -5.3376, -5.3624, -5.39, -5.389, -5.4352, -3.1639, -3.7954, -4.5039, -4.0495, -4.7266, -5.042, -4.6831, -5.0799, -5.0726, -5.1079], \"loglift\": [30.0, 29.0, 28.0, 27.0, 26.0, 25.0, 24.0, 23.0, 22.0, 21.0, 20.0, 19.0, 18.0, 17.0, 16.0, 15.0, 14.0, 13.0, 12.0, 11.0, 10.0, 9.0, 8.0, 7.0, 6.0, 5.0, 4.0, 3.0, 2.0, 1.0, 0.9146, 0.9146, 0.9146, 0.9145, 0.9145, 0.9144, 0.9144, 0.9144, 0.9142, 0.9142, 0.9142, 0.9142, 0.9141, 0.9141, 0.9141, 0.9141, 0.9141, 0.9141, 0.9141, 0.9141, 0.9141, 0.9141, 0.914, 0.914, 0.914, 0.914, 0.914, 0.9139, 0.9139, 0.9139, 0.7803, 0.792, 0.6873, 0.2473, 0.2669, -0.053, 0.1285, 0.0321, 1.4166, 1.4166, 1.4166, 1.4166, 1.4165, 1.4165, 1.4165, 1.4165, 1.4164, 1.4164, 1.4164, 1.4164, 1.4163, 1.4163, 1.4163, 1.4163, 1.4162, 1.4162, 1.4162, 1.4161, 1.4161, 1.4161, 1.4161, 1.4161, 1.416, 1.4159, 1.4159, 1.4159, 1.4159, 1.4159, 1.2463, 0.8827, 1.3305, 1.1279, 0.9336, 0.8334, 0.1616, 1.1176, 1.2254, 0.5358, 1.6798, 1.6798, 1.6797, 1.6797, 1.6796, 1.6796, 1.6796, 1.6796, 1.6796, 1.6795, 1.6794, 1.6794, 1.6794, 1.6793, 1.6793, 1.6793, 1.6792, 1.6792, 1.6792, 1.6792, 1.6791, 1.6791, 1.6789, 1.6788, 1.6787, 1.6787, 1.6787, 1.6787, 1.6787, 1.6786, 1.6786, 1.3014, 1.3644, 0.9391, 1.0813, -0.0676, 1.1281, 0.8133, 1.7689, 1.7689, 1.7688, 1.7688, 1.7688, 1.7686, 1.7686, 1.7686, 1.7686, 1.7685, 1.7685, 1.7685, 1.7684, 1.7684, 1.7683, 1.7683, 1.7683, 1.7683, 1.7682, 1.7682, 1.7682, 1.7682, 1.7681, 1.7681, 1.7681, 1.7681, 1.768, 1.768, 1.768, 1.768, 1.0495, 1.1609, 1.2096, 0.6143, 1.0819, 1.3138, -0.0583, 1.2073, 1.0929, 1.0643]}, \"token.table\": {\"Topic\": [1, 4, 3, 3, 1, 2, 1, 4, 1, 2, 3, 4, 2, 2, 2, 2, 4, 2, 2, 4, 1, 4, 1, 4, 1, 3, 2, 1, 1, 4, 1, 3, 4, 2, 2, 1, 4, 1, 1, 3, 2, 3, 4, 1, 2, 1, 2, 2, 1, 1, 2, 1, 3, 4, 2, 4, 4, 3, 1, 2, 1, 4, 2, 1, 2, 3, 4, 2, 3, 2, 3, 3, 4, 3, 4, 3, 2, 3, 3, 1, 4, 4, 2, 4, 3, 4, 1, 1, 2, 3, 4, 3, 1, 1, 1, 2, 4, 4, 3, 2, 3, 2, 4, 2, 4, 1, 4, 2, 3, 4, 1, 1, 1, 1, 2, 3, 1, 4, 2, 1, 2, 1, 1, 1, 2, 3, 1, 3, 4, 3, 4, 1, 3, 1, 3, 1, 2, 1, 3, 2, 4, 2, 4, 1, 2, 1, 1, 2, 4, 3, 3, 1, 1, 4, 3, 3, 1, 4, 4, 1, 2, 4, 2, 4, 4, 4, 1, 4, 4, 4, 3, 1, 3, 2, 3, 1, 2, 3, 3], \"Freq\": [0.42825982689148034, 0.5716257775246798, 0.9999455422168378, 0.9994220951403948, 0.9993662392967274, 0.9993126109631756, 0.5053546379787558, 0.49430545717139523, 0.9992542932020521, 0.999613391575204, 0.9995687616843192, 0.9993115739009246, 0.999158194286296, 0.9989074685143382, 0.9993791787889601, 0.8258863103716443, 0.1740726020931878, 0.9991587780146033, 0.9995008549144759, 0.9996115546170191, 0.8845091020104657, 0.11523285910654275, 0.999976175456322, 0.9988217695794094, 0.5231740288426522, 0.4767802594853259, 0.9994988799218305, 0.9993103403014898, 0.4967695578746613, 0.5028326525598688, 0.9996371418320495, 0.999794428286386, 0.9995579165887167, 0.9995785662224558, 0.9996310278684747, 0.9996099132793124, 0.9982945725693259, 0.9992536600359921, 0.4501672528510078, 0.5496701213940818, 0.9995751835687176, 0.9988742848859502, 0.9996728001121504, 0.9995426536001365, 0.9997795014700351, 0.4136924989304043, 0.5861563051511683, 0.9990427074155305, 0.9999172885233398, 0.9992892591082704, 0.9997668615146725, 0.9989908662555054, 0.684823137835609, 0.3151318798495691, 0.9998086755989912, 0.9989767954658797, 0.9991458875376961, 0.9991501472368667, 0.9992734454040505, 0.9997017640453861, 0.45560851953443937, 0.5442134302573686, 0.9997600119067525, 0.9993940260945985, 0.9997839618182798, 0.9994166277043653, 0.9995674092645166, 0.9994287716499552, 0.9997184228824731, 0.9995289166164103, 0.9995414646338373, 0.9981131967048865, 0.9993268422164758, 0.9998366397521133, 0.9983748908556139, 0.9982966362748413, 0.9990675757172846, 0.9994043454468235, 0.9996542866506755, 0.9991184429048733, 0.99982593868201, 0.9986319319324681, 0.9996644799664025, 0.9994907177280107, 0.365442924641471, 0.6344592267198005, 0.9999453458462871, 0.38003812074744203, 0.2849976529082901, 0.1742408577051118, 0.16087579191523108, 0.9991151212188617, 0.9996361186192336, 0.9996911099914211, 0.35403535811995246, 0.41435503191386497, 0.23168238343570943, 0.999015799835656, 0.9990542202837253, 0.999695417096296, 0.9991437480514602, 0.999895262815776, 0.9994408211738418, 0.7415773341561742, 0.25843810958575686, 0.9997450165038598, 0.9997474399385926, 0.42344582004170583, 0.5757309222952367, 0.9984825267785011, 0.999727604940078, 0.9992468837133492, 0.9996312534903895, 0.44172098376366664, 0.5580373287324604, 0.9991153648819663, 0.5130703433751408, 0.486908348564292, 0.9988794747967138, 0.9997277278381085, 0.9996836089453752, 0.9990911788216942, 0.9996250356284806, 0.8743009646308681, 0.12560543670581314, 0.9989211988819261, 0.3336032405534191, 0.4204585221176229, 0.24608996443191075, 0.9995768807166102, 0.9991140748288797, 0.2705893562569507, 0.7293720365966789, 0.9999463336145434, 0.9987096859459198, 0.08203820034941818, 0.9177460214912935, 0.9995463486432108, 0.9987983960245027, 0.9993989010313918, 0.9994068302147343, 0.9987224671971294, 0.9995142297843723, 0.3831429800376063, 0.6167764725475307, 0.9994304079653148, 0.15617153073713483, 0.8434502116398432, 0.9997620881448659, 0.99890139904343, 0.9986105102524133, 0.999974319133258, 0.4910000820515242, 0.5083294967121662, 0.9995707823929787, 0.9997790747247591, 0.9992531239303201, 0.999069699150286, 0.999357615486567, 0.25085948616704246, 0.7493345858351742, 0.9995283136752484, 0.9992209427975514, 0.9995502726581152, 0.9985244571560474, 0.9994688154704273, 0.4293041052913466, 0.5702306808885059, 0.9991576372897752, 0.9990246958291572, 0.9993411494711903, 0.9992530390408494, 0.9997932300293882, 0.9985772809841514, 0.9992321097364627, 0.7967615340276415, 0.2031309718213419, 0.9990194220099455, 0.9989910419819389], \"Term\": [\"action\", \"action\", \"actor\", \"actress\", \"amount\", \"apartment\", \"attention\", \"attention\", \"audience\", \"ba_reum\", \"baek\", \"binge\", \"blood\", \"body\", \"book\", \"brain\", \"brain\", \"break\", \"brother\", \"cannot\", \"cast\", \"cast\", \"character\", \"check\", \"chemistry\", \"chemistry\", \"child\", \"cinematography\", \"comedy\", \"comedy\", \"country\", \"couple\", \"crime\", \"daughter\", \"death\", \"development\", \"didnt\", \"direction\", \"director\", \"director\", \"doctor\", \"dude\", \"enjoy\", \"experience\", \"face\", \"family\", \"family\", \"father\", \"feel\", \"focus\", \"friend\", \"friendship\", \"game\", \"game\", \"girl\", \"glad\", \"hahaha\", \"hair\", \"happiness\", \"head\", \"heart\", \"heart\", \"hell\", \"history\", \"home\", \"hoon\", \"horror\", \"hospital\", \"hour\", \"house\", \"husband\", \"hwang\", \"hype\", \"hyun\", \"information\", \"jang\", \"joker\", \"joon\", \"jung\", \"justice\", \"kdrama\", \"kdramas\", \"killer\", \"korea\", \"kyung\", \"kyung\", \"life\", \"love\", \"love\", \"love\", \"love\", \"marriage\", \"matter\", \"message\", \"mind\", \"mind\", \"mind\", \"minute\", \"miss\", \"money\", \"moon\", \"mother\", \"mouse\", \"murder\", \"murder\", \"music\", \"mystery\", \"night\", \"night\", \"okay\", \"opinion\", \"performance\", \"personality\", \"place\", \"place\", \"play\", \"plot\", \"plot\", \"post\", \"production\", \"psychopath\", \"quality\", \"reality\", \"relationship\", \"relationship\", \"reply\", \"rest\", \"rest\", \"rest\", \"revenge\", \"rewatch\", \"role\", \"role\", \"romance\", \"romcom\", \"room\", \"room\", \"script\", \"secretary\", \"serial_killer\", \"shin_woo\", \"sister\", \"site\", \"situation\", \"situation\", \"society\", \"song\", \"song\", \"spoiler\", \"star\", \"stop\", \"story\", \"storyline\", \"storyline\", \"stuff\", \"sung\", \"support\", \"suspense\", \"synopsis\", \"talk\", \"talk\", \"taste\", \"theory\", \"thriller\", \"trailer\", \"twist\", \"type\", \"type\", \"understand\", \"vibe\", \"wanna\", \"webtoon\", \"wife\", \"wonder\", \"worth\", \"writer\", \"writer\", \"yeon\", \"yoon\"]}, \"R\": 30, \"lambda.step\": 0.01, \"plot.opts\": {\"xlab\": \"PC1\", \"ylab\": \"PC2\"}, \"topic.order\": [4, 1, 3, 2]};\n",
       "\n",
       "function LDAvis_load_lib(url, callback){\n",
       "  var s = document.createElement('script');\n",
       "  s.src = url;\n",
       "  s.async = true;\n",
       "  s.onreadystatechange = s.onload = callback;\n",
       "  s.onerror = function(){console.warn(\"failed to load library \" + url);};\n",
       "  document.getElementsByTagName(\"head\")[0].appendChild(s);\n",
       "}\n",
       "\n",
       "if(typeof(LDAvis) !== \"undefined\"){\n",
       "   // already loaded: just create the visualization\n",
       "   !function(LDAvis){\n",
       "       new LDAvis(\"#\" + \"ldavis_el601398236061776167673347765\", ldavis_el601398236061776167673347765_data);\n",
       "   }(LDAvis);\n",
       "}else if(typeof define === \"function\" && define.amd){\n",
       "   // require.js is available: use it to load d3/LDAvis\n",
       "   require.config({paths: {d3: \"https://d3js.org/d3.v5\"}});\n",
       "   require([\"d3\"], function(d3){\n",
       "      window.d3 = d3;\n",
       "      LDAvis_load_lib(\"https://cdn.jsdelivr.net/gh/bmabey/pyLDAvis@3.3.1/pyLDAvis/js/ldavis.v3.0.0.js\", function(){\n",
       "        new LDAvis(\"#\" + \"ldavis_el601398236061776167673347765\", ldavis_el601398236061776167673347765_data);\n",
       "      });\n",
       "    });\n",
       "}else{\n",
       "    // require.js not available: dynamically load d3 & LDAvis\n",
       "    LDAvis_load_lib(\"https://d3js.org/d3.v5.js\", function(){\n",
       "         LDAvis_load_lib(\"https://cdn.jsdelivr.net/gh/bmabey/pyLDAvis@3.3.1/pyLDAvis/js/ldavis.v3.0.0.js\", function(){\n",
       "                 new LDAvis(\"#\" + \"ldavis_el601398236061776167673347765\", ldavis_el601398236061776167673347765_data);\n",
       "            })\n",
       "         });\n",
       "}\n",
       "</script>"
      ],
      "text/plain": [
       "<IPython.core.display.HTML object>"
      ]
     },
     "execution_count": 108,
     "metadata": {},
     "output_type": "execute_result"
    }
   ],
   "source": [
    "pyLDAvis.enable_notebook()\n",
    "topic_data =  pyLDAvis.gensim_models.prepare(ldamodel, doc_term_matrix, dictionary, mds = 'pcoa')\n",
    "pyLDAvis.display(topic_data)"
   ]
  },
  {
   "cell_type": "code",
   "execution_count": null,
   "metadata": {
    "id": "zPylC_9Wl2hp"
   },
   "outputs": [],
   "source": [
    "all_topics = {}\n",
    "num_terms = 10 # Adjust number of words to represent each topic\n",
    "lambd = 0.6 # Adjust this accordingly based on tuning above\n",
    "for i in range(1,5): #Adjust this to reflect number of topics chosen for final LDA model\n",
    "    topic = topic_data.topic_info[topic_data.topic_info.Category == 'Topic'+str(i)].copy()\n",
    "    topic['relevance'] = topic['loglift']*(1-lambd)+topic['logprob']*lambd\n",
    "    all_topics['Topic '+str(i)] = topic.sort_values(by='relevance', ascending=False).Term[:num_terms].values"
   ]
  },
  {
   "cell_type": "code",
   "execution_count": null,
   "metadata": {
    "colab": {
     "base_uri": "https://localhost:8080/",
     "height": 175
    },
    "executionInfo": {
     "elapsed": 10,
     "status": "ok",
     "timestamp": 1651113644902,
     "user": {
      "displayName": "한창훈",
      "userId": "15462280161729540268"
     },
     "user_tz": -540
    },
    "id": "yATZR_UJl4uk",
    "outputId": "f95bf62e-e7a7-4648-cde1-8ab5e81f48ae"
   },
   "outputs": [
    {
     "data": {
      "text/html": [
       "\n",
       "  <div id=\"df-63cbd2fd-f382-4c8e-b51e-6ecfc8521fc0\">\n",
       "    <div class=\"colab-df-container\">\n",
       "      <div>\n",
       "<style scoped>\n",
       "    .dataframe tbody tr th:only-of-type {\n",
       "        vertical-align: middle;\n",
       "    }\n",
       "\n",
       "    .dataframe tbody tr th {\n",
       "        vertical-align: top;\n",
       "    }\n",
       "\n",
       "    .dataframe thead th {\n",
       "        text-align: right;\n",
       "    }\n",
       "</style>\n",
       "<table border=\"1\" class=\"dataframe\">\n",
       "  <thead>\n",
       "    <tr style=\"text-align: right;\">\n",
       "      <th></th>\n",
       "      <th>0</th>\n",
       "      <th>1</th>\n",
       "      <th>2</th>\n",
       "      <th>3</th>\n",
       "      <th>4</th>\n",
       "      <th>5</th>\n",
       "      <th>6</th>\n",
       "      <th>7</th>\n",
       "      <th>8</th>\n",
       "      <th>9</th>\n",
       "    </tr>\n",
       "  </thead>\n",
       "  <tbody>\n",
       "    <tr>\n",
       "      <th>Topic 1</th>\n",
       "      <td>story</td>\n",
       "      <td>character</td>\n",
       "      <td>plot</td>\n",
       "      <td>romance</td>\n",
       "      <td>love</td>\n",
       "      <td>chemistry</td>\n",
       "      <td>feel</td>\n",
       "      <td>couple</td>\n",
       "      <td>hope</td>\n",
       "      <td>writer</td>\n",
       "    </tr>\n",
       "    <tr>\n",
       "      <th>Topic 2</th>\n",
       "      <td>life</td>\n",
       "      <td>family</td>\n",
       "      <td>relationship</td>\n",
       "      <td>death</td>\n",
       "      <td>wife</td>\n",
       "      <td>mother</td>\n",
       "      <td>fact</td>\n",
       "      <td>situation</td>\n",
       "      <td>problem</td>\n",
       "      <td>money</td>\n",
       "    </tr>\n",
       "    <tr>\n",
       "      <th>Topic 3</th>\n",
       "      <td>role</td>\n",
       "      <td>actor</td>\n",
       "      <td>jung</td>\n",
       "      <td>kdrama</td>\n",
       "      <td>park</td>\n",
       "      <td>killer</td>\n",
       "      <td>thriller</td>\n",
       "      <td>hyun</td>\n",
       "      <td>mystery</td>\n",
       "      <td>crime</td>\n",
       "    </tr>\n",
       "    <tr>\n",
       "      <th>Topic 4</th>\n",
       "      <td>heart</td>\n",
       "      <td>home</td>\n",
       "      <td>country</td>\n",
       "      <td>hell</td>\n",
       "      <td>daon</td>\n",
       "      <td>taekyung</td>\n",
       "      <td>shinwoo</td>\n",
       "      <td>understand</td>\n",
       "      <td>night</td>\n",
       "      <td>blood</td>\n",
       "    </tr>\n",
       "  </tbody>\n",
       "</table>\n",
       "</div>\n",
       "      <button class=\"colab-df-convert\" onclick=\"convertToInteractive('df-63cbd2fd-f382-4c8e-b51e-6ecfc8521fc0')\"\n",
       "              title=\"Convert this dataframe to an interactive table.\"\n",
       "              style=\"display:none;\">\n",
       "        \n",
       "  <svg xmlns=\"http://www.w3.org/2000/svg\" height=\"24px\"viewBox=\"0 0 24 24\"\n",
       "       width=\"24px\">\n",
       "    <path d=\"M0 0h24v24H0V0z\" fill=\"none\"/>\n",
       "    <path d=\"M18.56 5.44l.94 2.06.94-2.06 2.06-.94-2.06-.94-.94-2.06-.94 2.06-2.06.94zm-11 1L8.5 8.5l.94-2.06 2.06-.94-2.06-.94L8.5 2.5l-.94 2.06-2.06.94zm10 10l.94 2.06.94-2.06 2.06-.94-2.06-.94-.94-2.06-.94 2.06-2.06.94z\"/><path d=\"M17.41 7.96l-1.37-1.37c-.4-.4-.92-.59-1.43-.59-.52 0-1.04.2-1.43.59L10.3 9.45l-7.72 7.72c-.78.78-.78 2.05 0 2.83L4 21.41c.39.39.9.59 1.41.59.51 0 1.02-.2 1.41-.59l7.78-7.78 2.81-2.81c.8-.78.8-2.07 0-2.86zM5.41 20L4 18.59l7.72-7.72 1.47 1.35L5.41 20z\"/>\n",
       "  </svg>\n",
       "      </button>\n",
       "      \n",
       "  <style>\n",
       "    .colab-df-container {\n",
       "      display:flex;\n",
       "      flex-wrap:wrap;\n",
       "      gap: 12px;\n",
       "    }\n",
       "\n",
       "    .colab-df-convert {\n",
       "      background-color: #E8F0FE;\n",
       "      border: none;\n",
       "      border-radius: 50%;\n",
       "      cursor: pointer;\n",
       "      display: none;\n",
       "      fill: #1967D2;\n",
       "      height: 32px;\n",
       "      padding: 0 0 0 0;\n",
       "      width: 32px;\n",
       "    }\n",
       "\n",
       "    .colab-df-convert:hover {\n",
       "      background-color: #E2EBFA;\n",
       "      box-shadow: 0px 1px 2px rgba(60, 64, 67, 0.3), 0px 1px 3px 1px rgba(60, 64, 67, 0.15);\n",
       "      fill: #174EA6;\n",
       "    }\n",
       "\n",
       "    [theme=dark] .colab-df-convert {\n",
       "      background-color: #3B4455;\n",
       "      fill: #D2E3FC;\n",
       "    }\n",
       "\n",
       "    [theme=dark] .colab-df-convert:hover {\n",
       "      background-color: #434B5C;\n",
       "      box-shadow: 0px 1px 3px 1px rgba(0, 0, 0, 0.15);\n",
       "      filter: drop-shadow(0px 1px 2px rgba(0, 0, 0, 0.3));\n",
       "      fill: #FFFFFF;\n",
       "    }\n",
       "  </style>\n",
       "\n",
       "      <script>\n",
       "        const buttonEl =\n",
       "          document.querySelector('#df-63cbd2fd-f382-4c8e-b51e-6ecfc8521fc0 button.colab-df-convert');\n",
       "        buttonEl.style.display =\n",
       "          google.colab.kernel.accessAllowed ? 'block' : 'none';\n",
       "\n",
       "        async function convertToInteractive(key) {\n",
       "          const element = document.querySelector('#df-63cbd2fd-f382-4c8e-b51e-6ecfc8521fc0');\n",
       "          const dataTable =\n",
       "            await google.colab.kernel.invokeFunction('convertToInteractive',\n",
       "                                                     [key], {});\n",
       "          if (!dataTable) return;\n",
       "\n",
       "          const docLinkHtml = 'Like what you see? Visit the ' +\n",
       "            '<a target=\"_blank\" href=https://colab.research.google.com/notebooks/data_table.ipynb>data table notebook</a>'\n",
       "            + ' to learn more about interactive tables.';\n",
       "          element.innerHTML = '';\n",
       "          dataTable['output_type'] = 'display_data';\n",
       "          await google.colab.output.renderOutput(dataTable, element);\n",
       "          const docLink = document.createElement('div');\n",
       "          docLink.innerHTML = docLinkHtml;\n",
       "          element.appendChild(docLink);\n",
       "        }\n",
       "      </script>\n",
       "    </div>\n",
       "  </div>\n",
       "  "
      ],
      "text/plain": [
       "             0          1             2        3     4          5         6  \\\n",
       "Topic 1  story  character          plot  romance  love  chemistry      feel   \n",
       "Topic 2   life     family  relationship    death  wife     mother      fact   \n",
       "Topic 3   role      actor          jung   kdrama  park     killer  thriller   \n",
       "Topic 4  heart       home       country     hell  daon   taekyung   shinwoo   \n",
       "\n",
       "                  7        8       9  \n",
       "Topic 1      couple     hope  writer  \n",
       "Topic 2   situation  problem   money  \n",
       "Topic 3        hyun  mystery   crime  \n",
       "Topic 4  understand    night   blood  "
      ]
     },
     "execution_count": 73,
     "metadata": {},
     "output_type": "execute_result"
    }
   ],
   "source": [
    "pd.DataFrame.from_dict(all_topics, orient='index')"
   ]
  },
  {
   "cell_type": "code",
   "execution_count": null,
   "metadata": {
    "id": "L0SdldkmBsJS"
   },
   "outputs": [],
   "source": [
    "preprocessed_drama_reviews = pd.DataFrame(final_reviews, columns = ['reviews'])"
   ]
  },
  {
   "cell_type": "code",
   "execution_count": null,
   "metadata": {
    "id": "8uqk5T-PDXQo"
   },
   "outputs": [],
   "source": [
    "preprocessed_drama_reviews['title'] = titles"
   ]
  },
  {
   "cell_type": "code",
   "execution_count": null,
   "metadata": {
    "colab": {
     "base_uri": "https://localhost:8080/",
     "height": 424
    },
    "executionInfo": {
     "elapsed": 11,
     "status": "ok",
     "timestamp": 1651064151676,
     "user": {
      "displayName": "한창훈",
      "userId": "15462280161729540268"
     },
     "user_tz": -540
    },
    "id": "E1sXT4A5EPpx",
    "outputId": "8c9b00e6-6f77-48e0-b49e-59c73ec75601"
   },
   "outputs": [
    {
     "data": {
      "text/html": [
       "\n",
       "  <div id=\"df-8d7bca15-bb21-468b-88a3-9d66ab636ae2\">\n",
       "    <div class=\"colab-df-container\">\n",
       "      <div>\n",
       "<style scoped>\n",
       "    .dataframe tbody tr th:only-of-type {\n",
       "        vertical-align: middle;\n",
       "    }\n",
       "\n",
       "    .dataframe tbody tr th {\n",
       "        vertical-align: top;\n",
       "    }\n",
       "\n",
       "    .dataframe thead th {\n",
       "        text-align: right;\n",
       "    }\n",
       "</style>\n",
       "<table border=\"1\" class=\"dataframe\">\n",
       "  <thead>\n",
       "    <tr style=\"text-align: right;\">\n",
       "      <th></th>\n",
       "      <th>reviews</th>\n",
       "      <th>title</th>\n",
       "    </tr>\n",
       "  </thead>\n",
       "  <tbody>\n",
       "    <tr>\n",
       "      <th>0</th>\n",
       "      <td>[monster, gaze, nonfiction, book, profiler, or...</td>\n",
       "      <td>악의마음을읽는자들</td>\n",
       "    </tr>\n",
       "    <tr>\n",
       "      <th>1</th>\n",
       "      <td>[chul, storyline, waste, romance, press, accur...</td>\n",
       "      <td>악의마음을읽는자들</td>\n",
       "    </tr>\n",
       "    <tr>\n",
       "      <th>2</th>\n",
       "      <td>[cannot, drive, darkness, action, adaptation, ...</td>\n",
       "      <td>악의마음을읽는자들</td>\n",
       "    </tr>\n",
       "    <tr>\n",
       "      <th>3</th>\n",
       "      <td>[sentence, criminal, bound, crime, investigati...</td>\n",
       "      <td>악의마음을읽는자들</td>\n",
       "    </tr>\n",
       "    <tr>\n",
       "      <th>4</th>\n",
       "      <td>[profiler, analysis, experience, profiler, fac...</td>\n",
       "      <td>악의마음을읽는자들</td>\n",
       "    </tr>\n",
       "    <tr>\n",
       "      <th>...</th>\n",
       "      <td>...</td>\n",
       "      <td>...</td>\n",
       "    </tr>\n",
       "    <tr>\n",
       "      <th>182682</th>\n",
       "      <td>[chemistry, suspense]</td>\n",
       "      <td>동백꽃필무렵</td>\n",
       "    </tr>\n",
       "    <tr>\n",
       "      <th>182683</th>\n",
       "      <td>[mystery, absolute, trash, drag, money]</td>\n",
       "      <td>동백꽃필무렵</td>\n",
       "    </tr>\n",
       "    <tr>\n",
       "      <th>182684</th>\n",
       "      <td>[deserve, story]</td>\n",
       "      <td>동백꽃필무렵</td>\n",
       "    </tr>\n",
       "    <tr>\n",
       "      <th>182685</th>\n",
       "      <td>[romance, amidst, danger, serial_killer]</td>\n",
       "      <td>동백꽃필무렵</td>\n",
       "    </tr>\n",
       "    <tr>\n",
       "      <th>182686</th>\n",
       "      <td>[birth]</td>\n",
       "      <td>동백꽃필무렵</td>\n",
       "    </tr>\n",
       "  </tbody>\n",
       "</table>\n",
       "<p>182687 rows × 2 columns</p>\n",
       "</div>\n",
       "      <button class=\"colab-df-convert\" onclick=\"convertToInteractive('df-8d7bca15-bb21-468b-88a3-9d66ab636ae2')\"\n",
       "              title=\"Convert this dataframe to an interactive table.\"\n",
       "              style=\"display:none;\">\n",
       "        \n",
       "  <svg xmlns=\"http://www.w3.org/2000/svg\" height=\"24px\"viewBox=\"0 0 24 24\"\n",
       "       width=\"24px\">\n",
       "    <path d=\"M0 0h24v24H0V0z\" fill=\"none\"/>\n",
       "    <path d=\"M18.56 5.44l.94 2.06.94-2.06 2.06-.94-2.06-.94-.94-2.06-.94 2.06-2.06.94zm-11 1L8.5 8.5l.94-2.06 2.06-.94-2.06-.94L8.5 2.5l-.94 2.06-2.06.94zm10 10l.94 2.06.94-2.06 2.06-.94-2.06-.94-.94-2.06-.94 2.06-2.06.94z\"/><path d=\"M17.41 7.96l-1.37-1.37c-.4-.4-.92-.59-1.43-.59-.52 0-1.04.2-1.43.59L10.3 9.45l-7.72 7.72c-.78.78-.78 2.05 0 2.83L4 21.41c.39.39.9.59 1.41.59.51 0 1.02-.2 1.41-.59l7.78-7.78 2.81-2.81c.8-.78.8-2.07 0-2.86zM5.41 20L4 18.59l7.72-7.72 1.47 1.35L5.41 20z\"/>\n",
       "  </svg>\n",
       "      </button>\n",
       "      \n",
       "  <style>\n",
       "    .colab-df-container {\n",
       "      display:flex;\n",
       "      flex-wrap:wrap;\n",
       "      gap: 12px;\n",
       "    }\n",
       "\n",
       "    .colab-df-convert {\n",
       "      background-color: #E8F0FE;\n",
       "      border: none;\n",
       "      border-radius: 50%;\n",
       "      cursor: pointer;\n",
       "      display: none;\n",
       "      fill: #1967D2;\n",
       "      height: 32px;\n",
       "      padding: 0 0 0 0;\n",
       "      width: 32px;\n",
       "    }\n",
       "\n",
       "    .colab-df-convert:hover {\n",
       "      background-color: #E2EBFA;\n",
       "      box-shadow: 0px 1px 2px rgba(60, 64, 67, 0.3), 0px 1px 3px 1px rgba(60, 64, 67, 0.15);\n",
       "      fill: #174EA6;\n",
       "    }\n",
       "\n",
       "    [theme=dark] .colab-df-convert {\n",
       "      background-color: #3B4455;\n",
       "      fill: #D2E3FC;\n",
       "    }\n",
       "\n",
       "    [theme=dark] .colab-df-convert:hover {\n",
       "      background-color: #434B5C;\n",
       "      box-shadow: 0px 1px 3px 1px rgba(0, 0, 0, 0.15);\n",
       "      filter: drop-shadow(0px 1px 2px rgba(0, 0, 0, 0.3));\n",
       "      fill: #FFFFFF;\n",
       "    }\n",
       "  </style>\n",
       "\n",
       "      <script>\n",
       "        const buttonEl =\n",
       "          document.querySelector('#df-8d7bca15-bb21-468b-88a3-9d66ab636ae2 button.colab-df-convert');\n",
       "        buttonEl.style.display =\n",
       "          google.colab.kernel.accessAllowed ? 'block' : 'none';\n",
       "\n",
       "        async function convertToInteractive(key) {\n",
       "          const element = document.querySelector('#df-8d7bca15-bb21-468b-88a3-9d66ab636ae2');\n",
       "          const dataTable =\n",
       "            await google.colab.kernel.invokeFunction('convertToInteractive',\n",
       "                                                     [key], {});\n",
       "          if (!dataTable) return;\n",
       "\n",
       "          const docLinkHtml = 'Like what you see? Visit the ' +\n",
       "            '<a target=\"_blank\" href=https://colab.research.google.com/notebooks/data_table.ipynb>data table notebook</a>'\n",
       "            + ' to learn more about interactive tables.';\n",
       "          element.innerHTML = '';\n",
       "          dataTable['output_type'] = 'display_data';\n",
       "          await google.colab.output.renderOutput(dataTable, element);\n",
       "          const docLink = document.createElement('div');\n",
       "          docLink.innerHTML = docLinkHtml;\n",
       "          element.appendChild(docLink);\n",
       "        }\n",
       "      </script>\n",
       "    </div>\n",
       "  </div>\n",
       "  "
      ],
      "text/plain": [
       "                                                  reviews      title\n",
       "0       [monster, gaze, nonfiction, book, profiler, or...  악의마음을읽는자들\n",
       "1       [chul, storyline, waste, romance, press, accur...  악의마음을읽는자들\n",
       "2       [cannot, drive, darkness, action, adaptation, ...  악의마음을읽는자들\n",
       "3       [sentence, criminal, bound, crime, investigati...  악의마음을읽는자들\n",
       "4       [profiler, analysis, experience, profiler, fac...  악의마음을읽는자들\n",
       "...                                                   ...        ...\n",
       "182682                              [chemistry, suspense]     동백꽃필무렵\n",
       "182683            [mystery, absolute, trash, drag, money]     동백꽃필무렵\n",
       "182684                                   [deserve, story]     동백꽃필무렵\n",
       "182685           [romance, amidst, danger, serial_killer]     동백꽃필무렵\n",
       "182686                                            [birth]     동백꽃필무렵\n",
       "\n",
       "[182687 rows x 2 columns]"
      ]
     },
     "execution_count": 66,
     "metadata": {},
     "output_type": "execute_result"
    }
   ],
   "source": [
    "preprocessed_drama_reviews"
   ]
  },
  {
   "cell_type": "code",
   "execution_count": null,
   "metadata": {
    "colab": {
     "base_uri": "https://localhost:8080/"
    },
    "executionInfo": {
     "elapsed": 8,
     "status": "ok",
     "timestamp": 1651064217421,
     "user": {
      "displayName": "한창훈",
      "userId": "15462280161729540268"
     },
     "user_tz": -540
    },
    "id": "8kCSOHRkFsKO",
    "outputId": "49b5afc9-fa62-4763-a82d-e19ee30e9d58"
   },
   "outputs": [
    {
     "data": {
      "text/plain": [
       "92"
      ]
     },
     "execution_count": 69,
     "metadata": {},
     "output_type": "execute_result"
    }
   ],
   "source": [
    "drama_list = preprocessed_drama_reviews.title.unique().tolist()\n",
    "len(drama_list)"
   ]
  },
  {
   "cell_type": "code",
   "execution_count": null,
   "metadata": {
    "colab": {
     "base_uri": "https://localhost:8080/"
    },
    "executionInfo": {
     "elapsed": 16607,
     "status": "ok",
     "timestamp": 1651064483690,
     "user": {
      "displayName": "한창훈",
      "userId": "15462280161729540268"
     },
     "user_tz": -540
    },
    "id": "ePm5gD6-GFFr",
    "outputId": "5eeaf4a2-95e5-4233-d7b6-7fffaaa0cb91"
   },
   "outputs": [
    {
     "name": "stderr",
     "output_type": "stream",
     "text": [
      "100%|██████████| 92/92 [00:16<00:00,  5.58it/s]\n"
     ]
    }
   ],
   "source": [
    "from tqdm import tqdm\n",
    "\n",
    "each_drama_reviews_dict = {'title' : [], 'preprocessed_reviews' : []}\n",
    "for drama in tqdm(drama_list):\n",
    "    drama_review_list = preprocessed_drama_reviews[preprocessed_drama_reviews['title'] == drama].reviews.tolist()\n",
    "    reviews_join = sum(drama_review_list,[])\n",
    "    each_drama_reviews_dict['title'].append(drama)\n",
    "    each_drama_reviews_dict['preprocessed_reviews'].append(reviews_join)"
   ]
  },
  {
   "cell_type": "code",
   "execution_count": null,
   "metadata": {
    "id": "I090d8lqGsLA"
   },
   "outputs": [],
   "source": [
    "df_each_drama_reviews = pd.DataFrame(each_drama_reviews_dict)"
   ]
  },
  {
   "cell_type": "code",
   "execution_count": null,
   "metadata": {
    "id": "2iAwxZVMHQlx"
   },
   "outputs": [],
   "source": [
    "df_each_drama_reviews.to_csv(\"/content/drive/MyDrive/2022/each_drama_reviews.csv\", index=False)"
   ]
  },
  {
   "cell_type": "code",
   "execution_count": null,
   "metadata": {
    "colab": {
     "base_uri": "https://localhost:8080/",
     "height": 424
    },
    "executionInfo": {
     "elapsed": 326,
     "status": "ok",
     "timestamp": 1651064555944,
     "user": {
      "displayName": "한창훈",
      "userId": "15462280161729540268"
     },
     "user_tz": -540
    },
    "id": "l1VJHxVMHYpF",
    "outputId": "c1c45139-bd55-472f-f895-f04f01a487bb"
   },
   "outputs": [
    {
     "data": {
      "text/html": [
       "\n",
       "  <div id=\"df-3de99959-34f1-4e30-a8a6-d73a9767c12d\">\n",
       "    <div class=\"colab-df-container\">\n",
       "      <div>\n",
       "<style scoped>\n",
       "    .dataframe tbody tr th:only-of-type {\n",
       "        vertical-align: middle;\n",
       "    }\n",
       "\n",
       "    .dataframe tbody tr th {\n",
       "        vertical-align: top;\n",
       "    }\n",
       "\n",
       "    .dataframe thead th {\n",
       "        text-align: right;\n",
       "    }\n",
       "</style>\n",
       "<table border=\"1\" class=\"dataframe\">\n",
       "  <thead>\n",
       "    <tr style=\"text-align: right;\">\n",
       "      <th></th>\n",
       "      <th>title</th>\n",
       "      <th>preprocessed_reviews</th>\n",
       "    </tr>\n",
       "  </thead>\n",
       "  <tbody>\n",
       "    <tr>\n",
       "      <th>0</th>\n",
       "      <td>악의마음을읽는자들</td>\n",
       "      <td>[monster, gaze, nonfiction, book, profiler, or...</td>\n",
       "    </tr>\n",
       "    <tr>\n",
       "      <th>1</th>\n",
       "      <td>라이프온마스</td>\n",
       "      <td>[cast, friendship, actor, student, doctor, who...</td>\n",
       "    </tr>\n",
       "    <tr>\n",
       "      <th>2</th>\n",
       "      <td>옷소매붉은끝동</td>\n",
       "      <td>[choice, life, script, consort, slow_burn, rom...</td>\n",
       "    </tr>\n",
       "    <tr>\n",
       "      <th>3</th>\n",
       "      <td>이구역의미친X</td>\n",
       "      <td>[scroll, context, trailer, squeeze, burst, lau...</td>\n",
       "    </tr>\n",
       "    <tr>\n",
       "      <th>4</th>\n",
       "      <td>어느날우리집현관으로멸망이들어왔다</td>\n",
       "      <td>[story, tearjerker, class, lineup, chemistry, ...</td>\n",
       "    </tr>\n",
       "    <tr>\n",
       "      <th>...</th>\n",
       "      <td>...</td>\n",
       "      <td>...</td>\n",
       "    </tr>\n",
       "    <tr>\n",
       "      <th>87</th>\n",
       "      <td>뷰티인사이드</td>\n",
       "      <td>[dream, dream, chaebol, star, chaebol, beauty,...</td>\n",
       "    </tr>\n",
       "    <tr>\n",
       "      <th>88</th>\n",
       "      <td>우리들의블루스</td>\n",
       "      <td>[life, worth, team, head, depth, baby, story, ...</td>\n",
       "    </tr>\n",
       "    <tr>\n",
       "      <th>89</th>\n",
       "      <td>해피니스</td>\n",
       "      <td>[WARNING, horror, medication, effect, military...</td>\n",
       "    </tr>\n",
       "    <tr>\n",
       "      <th>90</th>\n",
       "      <td>의사요한</td>\n",
       "      <td>[news, character, help, actress, hair, mess, c...</td>\n",
       "    </tr>\n",
       "    <tr>\n",
       "      <th>91</th>\n",
       "      <td>동백꽃필무렵</td>\n",
       "      <td>[story, type, complaint, murder, mystery, conc...</td>\n",
       "    </tr>\n",
       "  </tbody>\n",
       "</table>\n",
       "<p>92 rows × 2 columns</p>\n",
       "</div>\n",
       "      <button class=\"colab-df-convert\" onclick=\"convertToInteractive('df-3de99959-34f1-4e30-a8a6-d73a9767c12d')\"\n",
       "              title=\"Convert this dataframe to an interactive table.\"\n",
       "              style=\"display:none;\">\n",
       "        \n",
       "  <svg xmlns=\"http://www.w3.org/2000/svg\" height=\"24px\"viewBox=\"0 0 24 24\"\n",
       "       width=\"24px\">\n",
       "    <path d=\"M0 0h24v24H0V0z\" fill=\"none\"/>\n",
       "    <path d=\"M18.56 5.44l.94 2.06.94-2.06 2.06-.94-2.06-.94-.94-2.06-.94 2.06-2.06.94zm-11 1L8.5 8.5l.94-2.06 2.06-.94-2.06-.94L8.5 2.5l-.94 2.06-2.06.94zm10 10l.94 2.06.94-2.06 2.06-.94-2.06-.94-.94-2.06-.94 2.06-2.06.94z\"/><path d=\"M17.41 7.96l-1.37-1.37c-.4-.4-.92-.59-1.43-.59-.52 0-1.04.2-1.43.59L10.3 9.45l-7.72 7.72c-.78.78-.78 2.05 0 2.83L4 21.41c.39.39.9.59 1.41.59.51 0 1.02-.2 1.41-.59l7.78-7.78 2.81-2.81c.8-.78.8-2.07 0-2.86zM5.41 20L4 18.59l7.72-7.72 1.47 1.35L5.41 20z\"/>\n",
       "  </svg>\n",
       "      </button>\n",
       "      \n",
       "  <style>\n",
       "    .colab-df-container {\n",
       "      display:flex;\n",
       "      flex-wrap:wrap;\n",
       "      gap: 12px;\n",
       "    }\n",
       "\n",
       "    .colab-df-convert {\n",
       "      background-color: #E8F0FE;\n",
       "      border: none;\n",
       "      border-radius: 50%;\n",
       "      cursor: pointer;\n",
       "      display: none;\n",
       "      fill: #1967D2;\n",
       "      height: 32px;\n",
       "      padding: 0 0 0 0;\n",
       "      width: 32px;\n",
       "    }\n",
       "\n",
       "    .colab-df-convert:hover {\n",
       "      background-color: #E2EBFA;\n",
       "      box-shadow: 0px 1px 2px rgba(60, 64, 67, 0.3), 0px 1px 3px 1px rgba(60, 64, 67, 0.15);\n",
       "      fill: #174EA6;\n",
       "    }\n",
       "\n",
       "    [theme=dark] .colab-df-convert {\n",
       "      background-color: #3B4455;\n",
       "      fill: #D2E3FC;\n",
       "    }\n",
       "\n",
       "    [theme=dark] .colab-df-convert:hover {\n",
       "      background-color: #434B5C;\n",
       "      box-shadow: 0px 1px 3px 1px rgba(0, 0, 0, 0.15);\n",
       "      filter: drop-shadow(0px 1px 2px rgba(0, 0, 0, 0.3));\n",
       "      fill: #FFFFFF;\n",
       "    }\n",
       "  </style>\n",
       "\n",
       "      <script>\n",
       "        const buttonEl =\n",
       "          document.querySelector('#df-3de99959-34f1-4e30-a8a6-d73a9767c12d button.colab-df-convert');\n",
       "        buttonEl.style.display =\n",
       "          google.colab.kernel.accessAllowed ? 'block' : 'none';\n",
       "\n",
       "        async function convertToInteractive(key) {\n",
       "          const element = document.querySelector('#df-3de99959-34f1-4e30-a8a6-d73a9767c12d');\n",
       "          const dataTable =\n",
       "            await google.colab.kernel.invokeFunction('convertToInteractive',\n",
       "                                                     [key], {});\n",
       "          if (!dataTable) return;\n",
       "\n",
       "          const docLinkHtml = 'Like what you see? Visit the ' +\n",
       "            '<a target=\"_blank\" href=https://colab.research.google.com/notebooks/data_table.ipynb>data table notebook</a>'\n",
       "            + ' to learn more about interactive tables.';\n",
       "          element.innerHTML = '';\n",
       "          dataTable['output_type'] = 'display_data';\n",
       "          await google.colab.output.renderOutput(dataTable, element);\n",
       "          const docLink = document.createElement('div');\n",
       "          docLink.innerHTML = docLinkHtml;\n",
       "          element.appendChild(docLink);\n",
       "        }\n",
       "      </script>\n",
       "    </div>\n",
       "  </div>\n",
       "  "
      ],
      "text/plain": [
       "                title                               preprocessed_reviews\n",
       "0           악의마음을읽는자들  [monster, gaze, nonfiction, book, profiler, or...\n",
       "1              라이프온마스  [cast, friendship, actor, student, doctor, who...\n",
       "2             옷소매붉은끝동  [choice, life, script, consort, slow_burn, rom...\n",
       "3             이구역의미친X  [scroll, context, trailer, squeeze, burst, lau...\n",
       "4   어느날우리집현관으로멸망이들어왔다  [story, tearjerker, class, lineup, chemistry, ...\n",
       "..                ...                                                ...\n",
       "87             뷰티인사이드  [dream, dream, chaebol, star, chaebol, beauty,...\n",
       "88            우리들의블루스  [life, worth, team, head, depth, baby, story, ...\n",
       "89               해피니스  [WARNING, horror, medication, effect, military...\n",
       "90               의사요한  [news, character, help, actress, hair, mess, c...\n",
       "91             동백꽃필무렵  [story, type, complaint, murder, mystery, conc...\n",
       "\n",
       "[92 rows x 2 columns]"
      ]
     },
     "execution_count": 74,
     "metadata": {},
     "output_type": "execute_result"
    }
   ],
   "source": [
    "df_each_drama_reviews"
   ]
  },
  {
   "cell_type": "code",
   "execution_count": null,
   "metadata": {
    "id": "eg9YcpmBHcPs"
   },
   "outputs": [],
   "source": [
    "drama_corpus = [dictionary.doc2bow(text) for text in df_each_drama_reviews['preprocessed_reviews']]"
   ]
  },
  {
   "cell_type": "code",
   "execution_count": null,
   "metadata": {
    "colab": {
     "base_uri": "https://localhost:8080/"
    },
    "executionInfo": {
     "elapsed": 480,
     "status": "ok",
     "timestamp": 1651064809258,
     "user": {
      "displayName": "한창훈",
      "userId": "15462280161729540268"
     },
     "user_tz": -540
    },
    "id": "-ab2IKH5IQpe",
    "outputId": "1dc8b1e9-52f6-4bcc-b181-a7c3320690b0"
   },
   "outputs": [
    {
     "name": "stderr",
     "output_type": "stream",
     "text": [
      "100%|██████████| 92/92 [00:00<00:00, 456.05it/s]\n"
     ]
    }
   ],
   "source": [
    "topic_weight_dict = {'title' : [], 'weight' : []}\n",
    "for i in tqdm(range(len(drama_corpus))):\n",
    "    review = drama_corpus[i]\n",
    "    vector = ldamodel[review]\n",
    "    topic_weight_dict['title'].append(df_each_drama_reviews.title[i])\n",
    "    topic_weight_dict['weight'].append(vector)"
   ]
  },
  {
   "cell_type": "code",
   "execution_count": null,
   "metadata": {
    "id": "npha8V2gIaFK"
   },
   "outputs": [],
   "source": [
    "df_topic_weight = pd.DataFrame(topic_weight_dict)"
   ]
  },
  {
   "cell_type": "code",
   "execution_count": null,
   "metadata": {
    "colab": {
     "base_uri": "https://localhost:8080/",
     "height": 424
    },
    "executionInfo": {
     "elapsed": 302,
     "status": "ok",
     "timestamp": 1651064848198,
     "user": {
      "displayName": "한창훈",
      "userId": "15462280161729540268"
     },
     "user_tz": -540
    },
    "id": "BB10-AetIil1",
    "outputId": "73735f46-4b44-4220-c312-2f689bdabd0e"
   },
   "outputs": [
    {
     "data": {
      "text/html": [
       "\n",
       "  <div id=\"df-e4ceabd5-6e7d-4e53-9f16-56b7a916e81b\">\n",
       "    <div class=\"colab-df-container\">\n",
       "      <div>\n",
       "<style scoped>\n",
       "    .dataframe tbody tr th:only-of-type {\n",
       "        vertical-align: middle;\n",
       "    }\n",
       "\n",
       "    .dataframe tbody tr th {\n",
       "        vertical-align: top;\n",
       "    }\n",
       "\n",
       "    .dataframe thead th {\n",
       "        text-align: right;\n",
       "    }\n",
       "</style>\n",
       "<table border=\"1\" class=\"dataframe\">\n",
       "  <thead>\n",
       "    <tr style=\"text-align: right;\">\n",
       "      <th></th>\n",
       "      <th>title</th>\n",
       "      <th>weight</th>\n",
       "    </tr>\n",
       "  </thead>\n",
       "  <tbody>\n",
       "    <tr>\n",
       "      <th>0</th>\n",
       "      <td>악의마음을읽는자들</td>\n",
       "      <td>[(0, 0.13134466), (1, 0.28021014), (2, 0.33005...</td>\n",
       "    </tr>\n",
       "    <tr>\n",
       "      <th>1</th>\n",
       "      <td>라이프온마스</td>\n",
       "      <td>[(0, 0.15293896), (1, 0.32907936), (2, 0.21708...</td>\n",
       "    </tr>\n",
       "    <tr>\n",
       "      <th>2</th>\n",
       "      <td>옷소매붉은끝동</td>\n",
       "      <td>[(0, 0.1651475), (1, 0.2770626), (2, 0.1706431...</td>\n",
       "    </tr>\n",
       "    <tr>\n",
       "      <th>3</th>\n",
       "      <td>이구역의미친X</td>\n",
       "      <td>[(0, 0.13622274), (1, 0.35638067), (2, 0.15675...</td>\n",
       "    </tr>\n",
       "    <tr>\n",
       "      <th>4</th>\n",
       "      <td>어느날우리집현관으로멸망이들어왔다</td>\n",
       "      <td>[(0, 0.15008435), (1, 0.41545138), (2, 0.17238...</td>\n",
       "    </tr>\n",
       "    <tr>\n",
       "      <th>...</th>\n",
       "      <td>...</td>\n",
       "      <td>...</td>\n",
       "    </tr>\n",
       "    <tr>\n",
       "      <th>87</th>\n",
       "      <td>뷰티인사이드</td>\n",
       "      <td>[(0, 0.13105191), (1, 0.4519349), (2, 0.205951...</td>\n",
       "    </tr>\n",
       "    <tr>\n",
       "      <th>88</th>\n",
       "      <td>우리들의블루스</td>\n",
       "      <td>[(0, 0.20003211), (1, 0.4119682), (2, 0.151377...</td>\n",
       "    </tr>\n",
       "    <tr>\n",
       "      <th>89</th>\n",
       "      <td>해피니스</td>\n",
       "      <td>[(0, 0.14177915), (1, 0.29463962), (2, 0.20373...</td>\n",
       "    </tr>\n",
       "    <tr>\n",
       "      <th>90</th>\n",
       "      <td>의사요한</td>\n",
       "      <td>[(0, 0.11039192), (1, 0.32833654), (2, 0.20242...</td>\n",
       "    </tr>\n",
       "    <tr>\n",
       "      <th>91</th>\n",
       "      <td>동백꽃필무렵</td>\n",
       "      <td>[(0, 0.117804445), (1, 0.3588744), (2, 0.20236...</td>\n",
       "    </tr>\n",
       "  </tbody>\n",
       "</table>\n",
       "<p>92 rows × 2 columns</p>\n",
       "</div>\n",
       "      <button class=\"colab-df-convert\" onclick=\"convertToInteractive('df-e4ceabd5-6e7d-4e53-9f16-56b7a916e81b')\"\n",
       "              title=\"Convert this dataframe to an interactive table.\"\n",
       "              style=\"display:none;\">\n",
       "        \n",
       "  <svg xmlns=\"http://www.w3.org/2000/svg\" height=\"24px\"viewBox=\"0 0 24 24\"\n",
       "       width=\"24px\">\n",
       "    <path d=\"M0 0h24v24H0V0z\" fill=\"none\"/>\n",
       "    <path d=\"M18.56 5.44l.94 2.06.94-2.06 2.06-.94-2.06-.94-.94-2.06-.94 2.06-2.06.94zm-11 1L8.5 8.5l.94-2.06 2.06-.94-2.06-.94L8.5 2.5l-.94 2.06-2.06.94zm10 10l.94 2.06.94-2.06 2.06-.94-2.06-.94-.94-2.06-.94 2.06-2.06.94z\"/><path d=\"M17.41 7.96l-1.37-1.37c-.4-.4-.92-.59-1.43-.59-.52 0-1.04.2-1.43.59L10.3 9.45l-7.72 7.72c-.78.78-.78 2.05 0 2.83L4 21.41c.39.39.9.59 1.41.59.51 0 1.02-.2 1.41-.59l7.78-7.78 2.81-2.81c.8-.78.8-2.07 0-2.86zM5.41 20L4 18.59l7.72-7.72 1.47 1.35L5.41 20z\"/>\n",
       "  </svg>\n",
       "      </button>\n",
       "      \n",
       "  <style>\n",
       "    .colab-df-container {\n",
       "      display:flex;\n",
       "      flex-wrap:wrap;\n",
       "      gap: 12px;\n",
       "    }\n",
       "\n",
       "    .colab-df-convert {\n",
       "      background-color: #E8F0FE;\n",
       "      border: none;\n",
       "      border-radius: 50%;\n",
       "      cursor: pointer;\n",
       "      display: none;\n",
       "      fill: #1967D2;\n",
       "      height: 32px;\n",
       "      padding: 0 0 0 0;\n",
       "      width: 32px;\n",
       "    }\n",
       "\n",
       "    .colab-df-convert:hover {\n",
       "      background-color: #E2EBFA;\n",
       "      box-shadow: 0px 1px 2px rgba(60, 64, 67, 0.3), 0px 1px 3px 1px rgba(60, 64, 67, 0.15);\n",
       "      fill: #174EA6;\n",
       "    }\n",
       "\n",
       "    [theme=dark] .colab-df-convert {\n",
       "      background-color: #3B4455;\n",
       "      fill: #D2E3FC;\n",
       "    }\n",
       "\n",
       "    [theme=dark] .colab-df-convert:hover {\n",
       "      background-color: #434B5C;\n",
       "      box-shadow: 0px 1px 3px 1px rgba(0, 0, 0, 0.15);\n",
       "      filter: drop-shadow(0px 1px 2px rgba(0, 0, 0, 0.3));\n",
       "      fill: #FFFFFF;\n",
       "    }\n",
       "  </style>\n",
       "\n",
       "      <script>\n",
       "        const buttonEl =\n",
       "          document.querySelector('#df-e4ceabd5-6e7d-4e53-9f16-56b7a916e81b button.colab-df-convert');\n",
       "        buttonEl.style.display =\n",
       "          google.colab.kernel.accessAllowed ? 'block' : 'none';\n",
       "\n",
       "        async function convertToInteractive(key) {\n",
       "          const element = document.querySelector('#df-e4ceabd5-6e7d-4e53-9f16-56b7a916e81b');\n",
       "          const dataTable =\n",
       "            await google.colab.kernel.invokeFunction('convertToInteractive',\n",
       "                                                     [key], {});\n",
       "          if (!dataTable) return;\n",
       "\n",
       "          const docLinkHtml = 'Like what you see? Visit the ' +\n",
       "            '<a target=\"_blank\" href=https://colab.research.google.com/notebooks/data_table.ipynb>data table notebook</a>'\n",
       "            + ' to learn more about interactive tables.';\n",
       "          element.innerHTML = '';\n",
       "          dataTable['output_type'] = 'display_data';\n",
       "          await google.colab.output.renderOutput(dataTable, element);\n",
       "          const docLink = document.createElement('div');\n",
       "          docLink.innerHTML = docLinkHtml;\n",
       "          element.appendChild(docLink);\n",
       "        }\n",
       "      </script>\n",
       "    </div>\n",
       "  </div>\n",
       "  "
      ],
      "text/plain": [
       "                title                                             weight\n",
       "0           악의마음을읽는자들  [(0, 0.13134466), (1, 0.28021014), (2, 0.33005...\n",
       "1              라이프온마스  [(0, 0.15293896), (1, 0.32907936), (2, 0.21708...\n",
       "2             옷소매붉은끝동  [(0, 0.1651475), (1, 0.2770626), (2, 0.1706431...\n",
       "3             이구역의미친X  [(0, 0.13622274), (1, 0.35638067), (2, 0.15675...\n",
       "4   어느날우리집현관으로멸망이들어왔다  [(0, 0.15008435), (1, 0.41545138), (2, 0.17238...\n",
       "..                ...                                                ...\n",
       "87             뷰티인사이드  [(0, 0.13105191), (1, 0.4519349), (2, 0.205951...\n",
       "88            우리들의블루스  [(0, 0.20003211), (1, 0.4119682), (2, 0.151377...\n",
       "89               해피니스  [(0, 0.14177915), (1, 0.29463962), (2, 0.20373...\n",
       "90               의사요한  [(0, 0.11039192), (1, 0.32833654), (2, 0.20242...\n",
       "91             동백꽃필무렵  [(0, 0.117804445), (1, 0.3588744), (2, 0.20236...\n",
       "\n",
       "[92 rows x 2 columns]"
      ]
     },
     "execution_count": 79,
     "metadata": {},
     "output_type": "execute_result"
    }
   ],
   "source": [
    "df_topic_weight"
   ]
  },
  {
   "cell_type": "code",
   "execution_count": null,
   "metadata": {
    "colab": {
     "base_uri": "https://localhost:8080/"
    },
    "executionInfo": {
     "elapsed": 329,
     "status": "ok",
     "timestamp": 1651064841441,
     "user": {
      "displayName": "한창훈",
      "userId": "15462280161729540268"
     },
     "user_tz": -540
    },
    "id": "baziuILvIdZ2",
    "outputId": "053e171f-f5d0-40c9-faf8-62c8b3d33098"
   },
   "outputs": [
    {
     "data": {
      "text/plain": [
       "array(['악의마음을읽는자들', '라이프온마스', '옷소매붉은끝동', '이구역의미친X', '어느날우리집현관으로멸망이들어왔다',\n",
       "       '스물다섯스물하나', '무브투헤븐:나는유품정리사입니다', '호텔델루나',\n",
       "       '하늘에서내리는일억개의별', '기름진멜로', '악의꽃', '서른이지만열일곱입니다', '킹덤', '작은신의아이들',\n",
       "       '검색어를입력하세요WWW', '술꾼도시여자들', '한번다녀왔습니다', '서른아홉',\n",
       "       '오월의청춘', '트랩', '왓쳐', '아는와이프', '자백', '60일지정생존자', '시맨틱에러', '녹두꽃',\n",
       "       '백일의낭군님', '괴물', '태종이방원', '사이코지만괜찮아', '런온', '365:운명을거스르는1년',\n",
       "       '시를잊은그대에게', '인간수업', '으라차차와이키키', '우수무당가두심', '트레이서', '사내맞선', '구경이',\n",
       "       '어쩌다발견한하루', '김비서가왜그럴까', '나의아저씨', '카이로스', '18어게인', 'D.P.', '로스쿨',\n",
       "       '대박부동산', '사랑의불시착', '스토브리그', '단하나의사랑', '안녕나야', '그림자미녀', '도시남녀의사랑법',\n",
       "       '본대로말하라', '내뒤에테리우스', '월간집', '비밀의숲', '나빌레라', '슬기로운의사생활', '스카이캐슬',\n",
       "       '하이에나', '라이브', '갯마을차차차', '소년심판', '그녀의사생활', '손theguest', '세빛남고학생회',\n",
       "       '오징어게임', '원더우먼', '우아한친구들', '낭만닥터김사부', '마우스', '지옥', '왕이된남자',\n",
       "       '라켓소년단', '유미의세포들', '부부의세계', '로맨스는별책부록', '미스티', '미치지않고서야',\n",
       "       '마녀식당으로오세요', '미스터션샤인', '모범택시', '사의찬미', '멜로가체질', '이리와안아줘',\n",
       "       '보좌관:세상을움직이는사람들', '뷰티인사이드', '우리들의블루스', '해피니스',\n",
       "       '의사요한', '동백꽃필무렵'], dtype=object)"
      ]
     },
     "execution_count": 78,
     "metadata": {},
     "output_type": "execute_result"
    }
   ],
   "source": [
    "df_topic_weight.title.unique()"
   ]
  },
  {
   "cell_type": "code",
   "execution_count": null,
   "metadata": {
    "colab": {
     "base_uri": "https://localhost:8080/"
    },
    "executionInfo": {
     "elapsed": 367,
     "status": "ok",
     "timestamp": 1651064868392,
     "user": {
      "displayName": "한창훈",
      "userId": "15462280161729540268"
     },
     "user_tz": -540
    },
    "id": "spa5XPzYIiAI",
    "outputId": "d26b6bc8-5d0d-485c-ece9-423d14ebbabc"
   },
   "outputs": [
    {
     "data": {
      "text/plain": [
       "[(0, 0.13134466), (1, 0.28021014), (2, 0.3300571), (3, 0.25838807)]"
      ]
     },
     "execution_count": 81,
     "metadata": {},
     "output_type": "execute_result"
    }
   ],
   "source": [
    "df_topic_weight.weight[0]"
   ]
  },
  {
   "cell_type": "code",
   "execution_count": null,
   "metadata": {
    "id": "4vINlpXfInNj"
   },
   "outputs": [],
   "source": [
    "pd.set_option('display.max_rows', 100)\n",
    "pd.set_option('display.max.colwidth', None)\n"
   ]
  }
 ],
 "metadata": {
  "colab": {
   "authorship_tag": "ABX9TyOwuadJwm6TTlJobzF8m6eH",
   "collapsed_sections": [],
   "mount_file_id": "1XD4eKMs7VWgAahC0XTgUFnJQHSB3JkWX",
   "name": "ENG_LDA.ipynb",
   "provenance": []
  },
  "kernelspec": {
   "display_name": "Python 3 (ipykernel)",
   "language": "python",
   "name": "python3"
  },
  "language_info": {
   "codemirror_mode": {
    "name": "ipython",
    "version": 3
   },
   "file_extension": ".py",
   "mimetype": "text/x-python",
   "name": "python",
   "nbconvert_exporter": "python",
   "pygments_lexer": "ipython3",
   "version": "3.9.7"
  }
 },
 "nbformat": 4,
 "nbformat_minor": 1
}
