{
  "nbformat": 4,
  "nbformat_minor": 0,
  "metadata": {
    "colab": {
      "name": "0617_1유형",
      "provenance": [],
      "collapsed_sections": []
    },
    "kernelspec": {
      "name": "python3",
      "display_name": "Python 3"
    },
    "language_info": {
      "name": "python"
    }
  },
  "cells": [
    {
      "cell_type": "code",
      "source": [
        "from google.colab import drive\n",
        "drive.mount('/content/drive')"
      ],
      "metadata": {
        "colab": {
          "base_uri": "https://localhost:8080/"
        },
        "id": "JukgpNEHeA97",
        "outputId": "1f0aaf79-53eb-45ec-b273-bc786ce976ac"
      },
      "execution_count": 1,
      "outputs": [
        {
          "output_type": "stream",
          "name": "stdout",
          "text": [
            "Drive already mounted at /content/drive; to attempt to forcibly remount, call drive.mount(\"/content/drive\", force_remount=True).\n"
          ]
        }
      ]
    },
    {
      "cell_type": "markdown",
      "source": [
        "I. 단순한 데이터 분석"
      ],
      "metadata": {
        "id": "Fq1LZqJveQNl"
      }
    },
    {
      "cell_type": "markdown",
      "source": [
        "1. Top 10 구하기"
      ],
      "metadata": {
        "id": "FRKsTss2eTyY"
      }
    },
    {
      "cell_type": "code",
      "execution_count": null,
      "metadata": {
        "colab": {
          "base_uri": "https://localhost:8080/"
        },
        "id": "rau3YPSjdlBc",
        "outputId": "216069c1-bb10-4d6d-9374-4ae7f3831fb9"
      },
      "outputs": [
        {
          "output_type": "stream",
          "name": "stdout",
          "text": [
            "398    5.0\n",
            "405    5.0\n",
            "400    5.6\n",
            "399    6.3\n",
            "414    7.0\n",
            "489    7.0\n",
            "401    7.2\n",
            "385    7.2\n",
            "415    7.2\n",
            "387    7.4\n",
            "Name: MEDV, dtype: float64\n"
          ]
        }
      ],
      "source": [
        "#라이브러리, 데이터 로드\n",
        "import pandas as pd\n",
        "data = pd.read_csv('/content/drive/MyDrive/bigData-main/boston.csv')\n",
        "\n",
        "#데이터 살펴보기\n",
        "# print(data.head())\n",
        "\n",
        "#오름차순 정렬 및 Top 10 구하기\n",
        "data_new = data.sort_values(by='MEDV', ascending=True)\n",
        "print(data_new['MEDV'].head(10))"
      ]
    },
    {
      "cell_type": "markdown",
      "source": [
        "2. 결측치 확인하기"
      ],
      "metadata": {
        "id": "A0VzwUBdfeuN"
      }
    },
    {
      "cell_type": "code",
      "source": [
        "#라이브러리, 데이터 로드\n",
        "import pandas as pd\n",
        "data = pd.read_csv('/content/drive/MyDrive/bigData-main/boston.csv')\n",
        "\n",
        "#결측치 확인\n",
        "# print(data.isnull().sum())\n",
        "\n",
        "#평균값 대치\n",
        "data_mean = data['RM'].copy()\n",
        "rm_mean = data_mean.mean()\n",
        "data_mean.fillna(rm_mean, inplace=True)\n",
        "\n",
        "#결측치 삭제\n",
        "data_del = data['RM'].copy()\n",
        "data_del.dropna(inplace=True)\n",
        "\n",
        "#표준편차 값 차이\n",
        "print(abs(data_mean.std() - data_del.std()))"
      ],
      "metadata": {
        "colab": {
          "base_uri": "https://localhost:8080/"
        },
        "id": "DKIwC8Yfe0Gy",
        "outputId": "0f65ec87-ae7c-4907-fe07-b202076b9440"
      },
      "execution_count": null,
      "outputs": [
        {
          "output_type": "stream",
          "name": "stdout",
          "text": [
            "0.010595546094104624\n"
          ]
        }
      ]
    },
    {
      "cell_type": "markdown",
      "source": [
        "3. 이상값 확인하기"
      ],
      "metadata": {
        "id": "S2ZeXH7-hVKd"
      }
    },
    {
      "cell_type": "code",
      "source": [
        "#라이브러리, 데이터 로드\n",
        "import pandas as pd\n",
        "data = pd.read_csv('/content/drive/MyDrive/bigData-main/boston.csv')\n",
        "\n",
        "#평균값, 표준편차\n",
        "zn_mean = data['ZN'].mean()\n",
        "zn_std = data['ZN'].std()\n",
        "\n",
        "#최대경계값, 최소경계값 구하기 & 이상값 체크\n",
        "zn_max = zn_mean + (1.5 * zn_std)\n",
        "zn_min = zn_mean - (1.5 * zn_std)\n",
        "\n",
        "# print(data[data['ZN'] > zn_max]['ZN'])\n",
        "# print(data[data['ZN'] < zn_min]['ZN'])\n",
        "\n",
        "#이상값 합계\n",
        "print(sum(data[data['ZN'] > zn_max]['ZN']))"
      ],
      "metadata": {
        "colab": {
          "base_uri": "https://localhost:8080/"
        },
        "id": "mAmzR5jgf6P2",
        "outputId": "caa330d9-c0de-42c3-eef7-921eddf0cc2f"
      },
      "execution_count": null,
      "outputs": [
        {
          "output_type": "stream",
          "name": "stdout",
          "text": [
            "3462.5\n"
          ]
        }
      ]
    },
    {
      "cell_type": "markdown",
      "source": [
        "4. 사분위수 구하기"
      ],
      "metadata": {
        "id": "hiFeEiQwiXoM"
      }
    },
    {
      "cell_type": "code",
      "source": [
        "#라이브러리, 데이터 로드\n",
        "import pandas as pd\n",
        "data = pd.read_csv('/content/drive/MyDrive/bigData-main/boston.csv')\n",
        "\n",
        "#칼럼 제외\n",
        "data_new = data.drop(columns=['CHAS', 'RAD'])\n",
        "# print(data_new.head())\n",
        "\n",
        "#칼럼별 describe\n",
        "data_desc = data_new.describe()\n",
        "data_desc = pd.DataFrame(data_desc)\n",
        "# print(data_desc)\n",
        "\n",
        "#사분위수 데이터프레임 만들기\n",
        "data_desc_T = data_desc.iloc[[4,6]].T\n",
        "\n",
        "#IQR 구하기\n",
        "print(data_desc_T['75%'] - data_desc_T['25%'])"
      ],
      "metadata": {
        "colab": {
          "base_uri": "https://localhost:8080/"
        },
        "id": "0hDgdD7ph_BD",
        "outputId": "f1dd6b39-de60-4ba7-bc5b-571475361b93"
      },
      "execution_count": null,
      "outputs": [
        {
          "output_type": "stream",
          "name": "stdout",
          "text": [
            "CRIM         3.595038\n",
            "ZN          12.500000\n",
            "INDUS       12.910000\n",
            "NOX          0.175000\n",
            "RM           0.736000\n",
            "AGE         49.050000\n",
            "DIS          3.088250\n",
            "TAX        387.000000\n",
            "PTRATIO      2.800000\n",
            "B           20.847500\n",
            "LSTAT       10.005000\n",
            "MEDV         7.975000\n",
            "dtype: float64\n"
          ]
        }
      ]
    },
    {
      "cell_type": "markdown",
      "source": [
        "5. 순위 구하기"
      ],
      "metadata": {
        "id": "rkeTpya7j4c4"
      }
    },
    {
      "cell_type": "code",
      "source": [
        "#라이브러리, 데이터 로드\n",
        "import pandas as pd\n",
        "data = pd.read_csv('/content/drive/MyDrive/bigData-main/boston.csv')\n",
        "\n",
        "#내림차순 정렬\n",
        "data_new = data['MEDV'].copy()\n",
        "data_new = data_new.sort_values(ascending=False)\n",
        "# print(data_new.head(30))\n",
        "\n",
        "#30번째로 큰 값 구하기 & 1~29번째에 적용\n",
        "# print(data_new.iloc[29])\n",
        "data_new.iloc[0:29] = 41.7\n",
        "# print(data_new)\n",
        "\n",
        "#평균값, 중위값, 최솟값, 최댓값\n",
        "print(data_new.mean(), data_new.median(), data_new.min(), data_new.max())"
      ],
      "metadata": {
        "colab": {
          "base_uri": "https://localhost:8080/"
        },
        "id": "fnrj67LHjDF8",
        "outputId": "cb2b1666-3b1f-4c7a-bdc3-d20a5c59226c"
      },
      "execution_count": null,
      "outputs": [
        {
          "output_type": "stream",
          "name": "stdout",
          "text": [
            "22.179644268774698 21.2 5.0 41.7\n"
          ]
        }
      ]
    },
    {
      "cell_type": "markdown",
      "source": [
        "II. 복잡한 데이터 분석"
      ],
      "metadata": {
        "id": "sHHcS0pClKZo"
      }
    },
    {
      "cell_type": "markdown",
      "source": [
        "1. 그룹별 집계/요약하기"
      ],
      "metadata": {
        "id": "eHpKA88vlMzI"
      }
    },
    {
      "cell_type": "code",
      "source": [
        "#라이브러리, 데이터 로드\n",
        "import pandas as pd\n",
        "data = pd.read_csv('/content/drive/MyDrive/bigData-main/boston.csv')"
      ],
      "metadata": {
        "id": "LRm-Vn8zkYor"
      },
      "execution_count": null,
      "outputs": []
    },
    {
      "cell_type": "code",
      "source": [
        "#중위값\n",
        "tax_median = data['TAX'].median()\n",
        "print(tax_median)"
      ],
      "metadata": {
        "colab": {
          "base_uri": "https://localhost:8080/"
        },
        "id": "s-0G6FwRlnCb",
        "outputId": "c8023641-5a3c-458a-b961-1768d942b690"
      },
      "execution_count": null,
      "outputs": [
        {
          "output_type": "stream",
          "name": "stdout",
          "text": [
            "330.0\n"
          ]
        }
      ]
    },
    {
      "cell_type": "code",
      "source": [
        "#중위값보다 큰지 여부 확인\n",
        "print(data['TAX'] > tax_median)"
      ],
      "metadata": {
        "colab": {
          "base_uri": "https://localhost:8080/"
        },
        "id": "3smvBHndsHli",
        "outputId": "38830eda-ef53-455f-9e16-d7ffbf8142d5"
      },
      "execution_count": null,
      "outputs": [
        {
          "output_type": "stream",
          "name": "stdout",
          "text": [
            "0      False\n",
            "1      False\n",
            "2      False\n",
            "3      False\n",
            "4      False\n",
            "       ...  \n",
            "501    False\n",
            "502    False\n",
            "503    False\n",
            "504    False\n",
            "505    False\n",
            "Name: TAX, Length: 506, dtype: bool\n"
          ]
        }
      ]
    },
    {
      "cell_type": "code",
      "source": [
        "#중위값보다 큰 값 기준으로 CHAS, RAD 칼럼만 추출\n",
        "print(data[data['TAX'] > tax_median][['CHAS', 'RAD']])\n",
        "data_new = data[data['TAX'] > tax_median][['CHAS', 'RAD']]"
      ],
      "metadata": {
        "colab": {
          "base_uri": "https://localhost:8080/"
        },
        "id": "MotmBtPxtOyA",
        "outputId": "ded950bb-635e-41d8-97b7-556f1c8f9fc7"
      },
      "execution_count": null,
      "outputs": [
        {
          "output_type": "stream",
          "name": "stdout",
          "text": [
            "     CHAS  RAD\n",
            "54      0    3\n",
            "65      0    4\n",
            "66      0    4\n",
            "67      0    4\n",
            "68      0    4\n",
            "..    ...  ...\n",
            "496     0    6\n",
            "497     0    6\n",
            "498     0    6\n",
            "499     0    6\n",
            "500     0    6\n",
            "\n",
            "[250 rows x 2 columns]\n"
          ]
        }
      ]
    },
    {
      "cell_type": "code",
      "source": [
        "#CHAS, RAD 값 종류 확인\n",
        "print(data_new['CHAS'].unique())\n",
        "print()\n",
        "print(data_new['RAD'].unique())"
      ],
      "metadata": {
        "colab": {
          "base_uri": "https://localhost:8080/"
        },
        "id": "uQ_xDDhXteCY",
        "outputId": "0b6e8d79-3c74-4b4e-878c-7cd80b75eb00"
      },
      "execution_count": null,
      "outputs": [
        {
          "output_type": "stream",
          "name": "stdout",
          "text": [
            "[0 1]\n",
            "\n",
            "[ 3  4  5  6  2  1 24]\n"
          ]
        }
      ]
    },
    {
      "cell_type": "code",
      "source": [
        "#그룹화\n",
        "data_new2 = data_new.groupby(['CHAS', 'RAD'])['RAD'].count()\n",
        "print(data_new2)"
      ],
      "metadata": {
        "colab": {
          "base_uri": "https://localhost:8080/"
        },
        "id": "S_7BoAojt1gE",
        "outputId": "067ff207-045e-4906-9615-725f802d7be8"
      },
      "execution_count": null,
      "outputs": [
        {
          "output_type": "stream",
          "name": "stdout",
          "text": [
            "CHAS  RAD\n",
            "0     1        3\n",
            "      2        2\n",
            "      3        5\n",
            "      4       33\n",
            "      5       51\n",
            "      6       17\n",
            "      24     124\n",
            "1     5        7\n",
            "      24       8\n",
            "Name: RAD, dtype: int64\n"
          ]
        }
      ]
    },
    {
      "cell_type": "code",
      "source": [
        "#COUNT 칼럼 만들기\n",
        "# print(type(data_new2))\n",
        "data_new3 = pd.DataFrame(data_new2)\n",
        "data_new3.columns = ['COUNT']\n",
        "print(data_new3)"
      ],
      "metadata": {
        "colab": {
          "base_uri": "https://localhost:8080/"
        },
        "id": "LsQnRn3tuCMu",
        "outputId": "1c24ff01-8051-4373-f6c3-04d41111720c"
      },
      "execution_count": null,
      "outputs": [
        {
          "output_type": "stream",
          "name": "stdout",
          "text": [
            "          COUNT\n",
            "CHAS RAD       \n",
            "0    1        3\n",
            "     2        2\n",
            "     3        5\n",
            "     4       33\n",
            "     5       51\n",
            "     6       17\n",
            "     24     124\n",
            "1    5        7\n",
            "     24       8\n"
          ]
        }
      ]
    },
    {
      "cell_type": "code",
      "source": [
        "#라이브러리, 데이터 로드\n",
        "import pandas as pd\n",
        "data = pd.read_csv('/content/drive/MyDrive/bigData-main/boston.csv')\n",
        "\n",
        "#중위값 구하기\n",
        "tax_median = data['TAX'].median()\n",
        "# print(tax_median)\n",
        "\n",
        "#중위값 보다 큰 값 기준으로 CHAS, RAD 칼럼 추출\n",
        "# print(data[data['TAX'] > tax_median][['CHAS', 'RAD']])\n",
        "\n",
        "#그룹화 & 각 그룹의 데이터 개수\n",
        "data_new = data[data['TAX'] > tax_median][['CHAS', 'RAD']]\n",
        "data_new2 = data_new.groupby(['CHAS', 'RAD'])['RAD'].count()\n",
        "# print(type(data_new2))\n",
        "\n",
        "#COUNT 칼럼 만들기\n",
        "data_new3 = pd.DataFrame(data_new2)\n",
        "data_new3.columns = ['COUNT']\n",
        "print(data_new3)"
      ],
      "metadata": {
        "colab": {
          "base_uri": "https://localhost:8080/"
        },
        "id": "-Lw9tQfJuduy",
        "outputId": "cc978a21-1448-4306-b07b-a727b6dae31d"
      },
      "execution_count": null,
      "outputs": [
        {
          "output_type": "stream",
          "name": "stdout",
          "text": [
            "          COUNT\n",
            "CHAS RAD       \n",
            "0    1        3\n",
            "     2        2\n",
            "     3        5\n",
            "     4       33\n",
            "     5       51\n",
            "     6       17\n",
            "     24     124\n",
            "1    5        7\n",
            "     24       8\n"
          ]
        }
      ]
    },
    {
      "cell_type": "markdown",
      "source": [
        "2. 오름차순/내림차순 정렬하기"
      ],
      "metadata": {
        "id": "iAjYeiJwuboU"
      }
    },
    {
      "cell_type": "code",
      "source": [
        "#라이브러리, 데이터 로드\n",
        "import pandas as pd\n",
        "data = pd.read_csv('/content/drive/MyDrive/bigData-main/boston.csv')\n",
        "\n",
        "#오름차순 정렬\n",
        "data_asc = data['TAX'].copy()\n",
        "data_asc = data_asc.sort_values(ascending=True)\n",
        "data_asc.reset_index(drop=True, inplace=True)\n",
        "# print(data_asc.head())\n",
        "\n",
        "#내림차순 정렬\n",
        "data_desc = data['TAX'].copy()\n",
        "data_desc = data_desc.sort_values(ascending=False)\n",
        "data_desc.reset_index(drop=True, inplace=True)\n",
        "# print(data_desc.head())\n",
        "\n",
        "#concat\n",
        "data_concat = pd.concat([data_asc, data_desc], axis=1)\n",
        "\n",
        "#값 차이\n",
        "data_concat['diff'] = abs(data_concat.iloc[:,0] - data_concat.iloc[:,1])\n",
        "# print(data_concat)\n",
        "\n",
        "#분산 값\n",
        "print(data_concat['diff'].var())"
      ],
      "metadata": {
        "colab": {
          "base_uri": "https://localhost:8080/"
        },
        "id": "B9f3FBxcuH9W",
        "outputId": "b351aa03-dff5-4a7a-d429-c48e110f3dbf"
      },
      "execution_count": null,
      "outputs": [
        {
          "output_type": "stream",
          "name": "stdout",
          "text": [
            "28490.5986459515\n"
          ]
        }
      ]
    },
    {
      "cell_type": "markdown",
      "source": [
        "3. 최소최대 변환하기"
      ],
      "metadata": {
        "id": "vQab79aDC1Um"
      }
    },
    {
      "cell_type": "code",
      "source": [
        "#라이브러리, 데이터 로드\n",
        "import pandas as pd\n",
        "from sklearn.preprocessing import MinMaxScaler\n",
        "\n",
        "data = pd.read_csv('/content/drive/MyDrive/bigData-main/boston.csv')\n",
        "scaler = MinMaxScaler()\n",
        "\n",
        "#척도 변환\n",
        "data_minmax = scaler.fit_transform(data)\n",
        "data_minmax = pd.DataFrame(data_minmax, columns= data.columns)\n",
        "data_minmax.head()\n",
        "\n",
        "#0.5보다 큰 값 가지는 레코드 수\n",
        "print(data_minmax[data_minmax['MEDV'] > 0.5]['MEDV'].count())"
      ],
      "metadata": {
        "colab": {
          "base_uri": "https://localhost:8080/"
        },
        "id": "Y7IrZUjq5vrh",
        "outputId": "59eddb8e-2100-4f93-9326-b9e959c6f00b"
      },
      "execution_count": null,
      "outputs": [
        {
          "output_type": "stream",
          "name": "stdout",
          "text": [
            "106\n"
          ]
        }
      ]
    },
    {
      "cell_type": "markdown",
      "source": [
        "4. 빈도값 구하기"
      ],
      "metadata": {
        "id": "oueGf5btEFDI"
      }
    },
    {
      "cell_type": "code",
      "source": [
        "###첫번째 방법\n",
        "#라이브러리, 데이터 로드\n",
        "import pandas as pd\n",
        "data = pd.read_csv('/content/drive/MyDrive/bigData-main/boston.csv')\n",
        "\n",
        "#반올림\n",
        "data_round = data['AGE'].copy()\n",
        "data_round = round(data_round, 0)\n",
        "# print(round(data_round))\n",
        "\n",
        "#최빈값, 개수\n",
        "# print(type(data_round))\n",
        "data_round = pd.DataFrame(data_round)\n",
        "data_count = data_round.groupby(['AGE'])['AGE'].count()\n",
        "\n",
        "data_count = pd.DataFrame(data_count)\n",
        "data_count.columns = ['COUNT']\n",
        "\n",
        "data_count.reset_index(drop=False, inplace=True)\n",
        "# print(data_count.head())\n",
        "\n",
        "data_count.sort_values(by='COUNT', ascending=False, inplace=True)\n",
        "# print(data_count.head())\n",
        "\n",
        "print(data_count.iloc[0,0], data_count.iloc[0,1])"
      ],
      "metadata": {
        "colab": {
          "base_uri": "https://localhost:8080/"
        },
        "id": "9aHFrK8ADq5F",
        "outputId": "c805f7ff-c96c-4ee2-d640-aae3757b8bd4"
      },
      "execution_count": null,
      "outputs": [
        {
          "output_type": "stream",
          "name": "stdout",
          "text": [
            "      AGE  COUNT\n",
            "90  100.0     43\n",
            "88   98.0     19\n",
            "87   97.0     17\n",
            "84   94.0     16\n",
            "86   96.0     15\n",
            "100.0 43\n"
          ]
        }
      ]
    },
    {
      "cell_type": "code",
      "source": [
        "###두번째 방법\n",
        "#라이브러리, 데이터 로드\n",
        "import pandas as pd\n",
        "from scipy.stats import mode\n",
        "data = pd.read_csv('/content/drive/MyDrive/bigData-main/boston.csv')\n",
        "\n",
        "#최빈값과 개수 구하기\n",
        "data2 = round(data['AGE'], 0)\n",
        "print(mode(data2))"
      ],
      "metadata": {
        "id": "AfqcR6x0Vz-n",
        "colab": {
          "base_uri": "https://localhost:8080/"
        },
        "outputId": "2aa6b18b-d231-4337-85e8-ee8637269929"
      },
      "execution_count": 3,
      "outputs": [
        {
          "output_type": "stream",
          "name": "stdout",
          "text": [
            "ModeResult(mode=array([100.]), count=array([43]))\n"
          ]
        }
      ]
    },
    {
      "cell_type": "code",
      "source": [
        "#최빈값과 최빈값 개수\n",
        "print(int(mode(data2)[0]), int(mode(data2)[1]))"
      ],
      "metadata": {
        "colab": {
          "base_uri": "https://localhost:8080/"
        },
        "id": "OEgMtHWY1Rmf",
        "outputId": "68e6d281-53c3-4637-9030-fd0f4ccd33d2"
      },
      "execution_count": 7,
      "outputs": [
        {
          "output_type": "stream",
          "name": "stdout",
          "text": [
            "100 43\n"
          ]
        }
      ]
    },
    {
      "cell_type": "markdown",
      "source": [
        "5. 표준 변환하기"
      ],
      "metadata": {
        "id": "4f0fXdrJ13Ek"
      }
    },
    {
      "cell_type": "code",
      "source": [
        "#라이브러리, 데이터 로드\n",
        "import pandas as pd\n",
        "from sklearn.preprocessing import StandardScaler\n",
        "data = pd.read_csv('/content/drive/MyDrive/bigData-main/boston.csv')\n",
        "scaler = StandardScaler()\n",
        "\n",
        "#표준화 척도 변환\n",
        "data_std = scaler.fit_transform(data)\n",
        "# print(type(data_std))\n",
        "data_std = pd.DataFrame(data_std, columns= data.columns)\n",
        "\n",
        "#0.4보다 크고 0.6보다 작은 값\n",
        "data_std = data_std[(data_std['DIS'] > 0.4) & (data_std['DIS'] < 0.6)]['DIS'].mean()\n",
        "print(round(data_std, 2))"
      ],
      "metadata": {
        "colab": {
          "base_uri": "https://localhost:8080/"
        },
        "id": "N8tkqt1c1hUN",
        "outputId": "171e9f48-fa42-4a9e-be49-fddb6205e2fc"
      },
      "execution_count": 17,
      "outputs": [
        {
          "output_type": "stream",
          "name": "stdout",
          "text": [
            "0.48\n"
          ]
        }
      ]
    },
    {
      "cell_type": "code",
      "source": [
        "#라이브러리, 데이터 로드\n",
        "import pandas as pd\n",
        "from sklearn.preprocessing import StandardScaler\n",
        "data = pd.read_csv('/content/drive/MyDrive/bigData-main/boston.csv')\n",
        "scaler = StandardScaler()\n",
        "\n",
        "#표준화 척도 변환\n",
        "data_stdd = scaler.fit_transform(data)\n",
        "# print(type(data_stdd))\n",
        "data_stdd = pd.DataFrame(data_stdd, columns= data.columns)\n",
        "\n",
        "#0.4보다 크고 0.6보다 작은 값의 평균\n",
        "data_stdd2 = data_stdd[(data_stdd['DIS'] > 0.4) & (data_stdd['DIS'] < 0.6)]['DIS'].mean()\n",
        "# print(data_stdd2)\n",
        "\n",
        "#반올림\n",
        "print(round(data_stdd2, 2))"
      ],
      "metadata": {
        "colab": {
          "base_uri": "https://localhost:8080/"
        },
        "id": "eHbqZoCa3Aw4",
        "outputId": "bee71525-9f5f-478f-e1b0-b238c9d55a56"
      },
      "execution_count": 22,
      "outputs": [
        {
          "output_type": "stream",
          "name": "stdout",
          "text": [
            "0.48\n"
          ]
        }
      ]
    },
    {
      "cell_type": "markdown",
      "source": [
        "6. 유니크한 값 구하기"
      ],
      "metadata": {
        "id": "IXdMs3-X8nRc"
      }
    },
    {
      "cell_type": "code",
      "source": [
        "#라이브러리, 데이터 로드\n",
        "import pandas as pd\n",
        "data = pd.read_csv('/content/drive/MyDrive/bigData-main/boston.csv')\n",
        "\n",
        "#칼럼 목록\n",
        "# print(data.columns)\n",
        "data_col = data.columns\n",
        "# print(data_col.size)\n",
        "\n",
        "#칼럼별 유니크한 값 개수\n",
        "sum = 0\n",
        "for col in data_col:\n",
        "  sum += int(pd.DataFrame(data[col].unique()).count()[0])\n",
        "\n",
        "#평균값 = 유니크한 값 개수/칼럼 개수\n",
        "print(sum / data_col.size)"
      ],
      "metadata": {
        "colab": {
          "base_uri": "https://localhost:8080/"
        },
        "id": "E7MYZ9Gr7v-t",
        "outputId": "f7a7b997-481d-4e3d-bdc1-b1636bc62abc"
      },
      "execution_count": 36,
      "outputs": [
        {
          "output_type": "stream",
          "name": "stdout",
          "text": [
            "218.0\n"
          ]
        }
      ]
    },
    {
      "cell_type": "code",
      "source": [
        ""
      ],
      "metadata": {
        "id": "bXpJ-3pxEqKi"
      },
      "execution_count": null,
      "outputs": []
    }
  ]
}