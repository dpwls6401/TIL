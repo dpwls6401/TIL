{
 "cells": [
  {
   "cell_type": "markdown",
   "metadata": {
    "id": "hgB8T3YBG1VP"
   },
   "source": [
    "## 문제 1 \n",
    "numpy 패키지를 임포트 하세요"
   ]
  },
  {
   "cell_type": "code",
   "execution_count": 2,
   "metadata": {
    "id": "Ol9J2niWCesc"
   },
   "outputs": [],
   "source": [
    "import numpy as np"
   ]
  },
  {
   "cell_type": "markdown",
   "metadata": {
    "id": "J66UaVjSCjq6"
   },
   "source": [
    "## 문제 2\n",
    "\n",
    "numpy 버전을 출력하세요"
   ]
  },
  {
   "cell_type": "code",
   "execution_count": 3,
   "metadata": {
    "colab": {
     "base_uri": "https://localhost:8080/"
    },
    "id": "YrJtIBeiGj4Z",
    "outputId": "c81a25ca-f2ae-4f7b-d810-5218ec1fcc79"
   },
   "outputs": [
    {
     "name": "stdout",
     "output_type": "stream",
     "text": [
      "1.20.3\n"
     ]
    }
   ],
   "source": [
    "import numpy\n",
    "print(numpy.__version__)"
   ]
  },
  {
   "cell_type": "code",
   "execution_count": 42,
   "metadata": {},
   "outputs": [
    {
     "data": {
      "text/plain": [
       "'1.20.3'"
      ]
     },
     "execution_count": 42,
     "metadata": {},
     "output_type": "execute_result"
    }
   ],
   "source": [
    "#answer\n",
    "np.__version__"
   ]
  },
  {
   "cell_type": "markdown",
   "metadata": {
    "id": "HUW9IAsoHNwU"
   },
   "source": [
    "## 문제 3\n",
    "\n",
    "크기가 10인 zero vector Z 를 만드세요\n"
   ]
  },
  {
   "cell_type": "code",
   "execution_count": 44,
   "metadata": {
    "colab": {
     "base_uri": "https://localhost:8080/"
    },
    "id": "6KNf_lO3GnTz",
    "outputId": "3bc6db81-4b37-4d87-b7d9-e71393787783"
   },
   "outputs": [
    {
     "data": {
      "text/plain": [
       "array([0., 0., 0., 0., 0., 0., 0., 0., 0., 0.])"
      ]
     },
     "execution_count": 44,
     "metadata": {},
     "output_type": "execute_result"
    }
   ],
   "source": [
    "a=np.zeros([10])\n",
    "a"
   ]
  },
  {
   "cell_type": "markdown",
   "metadata": {
    "id": "vJsEU6OIHcre"
   },
   "source": [
    "## 문제 4\n",
    "\n",
    "위에서 만든 zero vector의 5번째 값을 1로 수정하시오"
   ]
  },
  {
   "cell_type": "code",
   "execution_count": 46,
   "metadata": {
    "colab": {
     "base_uri": "https://localhost:8080/"
    },
    "id": "VkA4rz06HXS_",
    "outputId": "26f5e2f9-f002-409f-8296-4066e6c71472"
   },
   "outputs": [
    {
     "data": {
      "text/plain": [
       "array([0., 0., 0., 0., 1., 0., 0., 0., 0., 0.])"
      ]
     },
     "execution_count": 46,
     "metadata": {},
     "output_type": "execute_result"
    }
   ],
   "source": [
    "a[4]=1\n",
    "a"
   ]
  },
  {
   "cell_type": "markdown",
   "metadata": {
    "id": "0Z4pFZv8Kxml"
   },
   "source": [
    "# 문제 5\n",
    "\n",
    "10에서 49까지 범위의 값을 갖는 벡터 Z를 만드세요"
   ]
  },
  {
   "cell_type": "code",
   "execution_count": 47,
   "metadata": {
    "colab": {
     "base_uri": "https://localhost:8080/"
    },
    "id": "HI75pVYbJqsY",
    "outputId": "90e3e11e-0c05-420b-c6af-4db4acdafda0"
   },
   "outputs": [
    {
     "data": {
      "text/plain": [
       "array([10, 11, 12, 13, 14, 15, 16, 17, 18, 19, 20, 21, 22, 23, 24, 25, 26,\n",
       "       27, 28, 29, 30, 31, 32, 33, 34, 35, 36, 37, 38, 39, 40, 41, 42, 43,\n",
       "       44, 45, 46, 47, 48, 49])"
      ]
     },
     "execution_count": 47,
     "metadata": {},
     "output_type": "execute_result"
    }
   ],
   "source": [
    "Z=np.arange(10,50)\n",
    "Z"
   ]
  },
  {
   "cell_type": "markdown",
   "metadata": {
    "id": "O5frukSnLnPK"
   },
   "source": [
    "#문제 6\n",
    "\n",
    "위에서 만든 벡터 Z를 역순으로 만드세요"
   ]
  },
  {
   "cell_type": "code",
   "execution_count": 48,
   "metadata": {
    "colab": {
     "base_uri": "https://localhost:8080/"
    },
    "id": "4Il0C_NDLk_3",
    "outputId": "27816eab-b328-4933-8276-0a3f659ad3d3"
   },
   "outputs": [
    {
     "data": {
      "text/plain": [
       "array([49, 48, 47, 46, 45, 44, 43, 42, 41, 40, 39, 38, 37, 36, 35, 34, 33,\n",
       "       32, 31, 30, 29, 28, 27, 26, 25, 24, 23, 22, 21, 20, 19, 18, 17, 16,\n",
       "       15, 14, 13, 12, 11, 10])"
      ]
     },
     "execution_count": 48,
     "metadata": {},
     "output_type": "execute_result"
    }
   ],
   "source": [
    "Z[::-1]"
   ]
  },
  {
   "cell_type": "markdown",
   "metadata": {
    "id": "uAFouGLSZKOZ"
   },
   "source": [
    "## 문제 7\n",
    "\n",
    "\n",
    "arr = np.array([0, 1, 2, 3, 4, 5, 6, 7, 8, 9]) 의 벡터에서 홀수를 모두 -1로 바꾸세요"
   ]
  },
  {
   "cell_type": "code",
   "execution_count": 23,
   "metadata": {
    "colab": {
     "base_uri": "https://localhost:8080/"
    },
    "id": "StM8UiCIZLOn",
    "outputId": "51c59f8a-00cf-43bb-855c-b3641e0d4b46"
   },
   "outputs": [
    {
     "name": "stdout",
     "output_type": "stream",
     "text": [
      "[ 0 -1  2 -1  4 -1  6 -1  8 -1]\n"
     ]
    }
   ],
   "source": [
    "arr=np.array([0,1,2,3,4,5,6,7,8,9])\n",
    "for i in arr:\n",
    "    if i%2!=0:\n",
    "        arr[i]=-1\n",
    "print(arr)"
   ]
  },
  {
   "cell_type": "code",
   "execution_count": 51,
   "metadata": {},
   "outputs": [
    {
     "data": {
      "text/plain": [
       "array([ 0, -1,  2, -1,  4, -1,  6, -1,  8, -1])"
      ]
     },
     "execution_count": 51,
     "metadata": {},
     "output_type": "execute_result"
    }
   ],
   "source": [
    "#answer\n",
    "arr=np.array([0,1,2,3,4,5,6,7,8,9])\n",
    "arr[arr%2==1]=-1\n",
    "arr\n",
    "#arr[조건]: 해당 조건을 만족하는 새로운 벡터(arr 변경)\n",
    "#arr이 바뀜"
   ]
  },
  {
   "cell_type": "markdown",
   "metadata": {
    "id": "u5Cd6MS-ZnvQ"
   },
   "source": [
    "## 문제 8\n",
    "arr = np.array([0, 1, 2, 3, 4, 5, 6, 7, 8, 9]) 의 벡터에서 홀수를 모두 -1인 새로운 벡터를 만드세요"
   ]
  },
  {
   "cell_type": "code",
   "execution_count": 54,
   "metadata": {},
   "outputs": [
    {
     "name": "stdout",
     "output_type": "stream",
     "text": [
      "[ 0 -1  2 -1  4 -1  6 -1  8 -1]\n",
      "[0 1 2 3 4 5 6 7 8 9]\n"
     ]
    }
   ],
   "source": [
    "#answer_where활용\n",
    "arr=np.array([0,1,2,3,4,5,6,7,8,9])\n",
    "print(np.where(arr%2==1,-1,arr))\n",
    "print(arr)"
   ]
  },
  {
   "cell_type": "markdown",
   "metadata": {
    "id": "ahRMBM13Z_uY"
   },
   "source": [
    "## 문제 9\n",
    "\n",
    "arr = np.array([0, 1, 2, 3, 4, 5, 6, 7, 8, 9])  벡터를 2x5 행렬로 바꾸세요"
   ]
  },
  {
   "cell_type": "code",
   "execution_count": 55,
   "metadata": {
    "colab": {
     "base_uri": "https://localhost:8080/"
    },
    "id": "774ytCwUaX9F",
    "outputId": "6622c631-cf41-4612-8720-facdf413881f"
   },
   "outputs": [
    {
     "data": {
      "text/plain": [
       "array([[0, 1, 2, 3, 4],\n",
       "       [5, 6, 7, 8, 9]])"
      ]
     },
     "execution_count": 55,
     "metadata": {},
     "output_type": "execute_result"
    }
   ],
   "source": [
    "arr=np.array([0,1,2,3,4,5,6,7,8,9])\n",
    "arr=arr.reshape(2,5)\n",
    "arr"
   ]
  },
  {
   "cell_type": "markdown",
   "metadata": {
    "id": "X-RmGzwkajPO"
   },
   "source": [
    "# 문제 10\n",
    "```\n",
    "a = np.arange(10).reshape(2,-1) \n",
    "b = np.repeat(1, 10).reshape(2,-1)\n",
    "```\n",
    "a 와 b를 아래와 같이 행 기준으로 합치세요\n",
    "```\n",
    "array([[0, 1, 2, 3, 4],\n",
    "       [5, 6, 7, 8, 9],\n",
    "       [1, 1, 1, 1, 1],\n",
    "       [1, 1, 1, 1, 1]])\n",
    "```"
   ]
  },
  {
   "cell_type": "code",
   "execution_count": 80,
   "metadata": {
    "colab": {
     "base_uri": "https://localhost:8080/"
    },
    "id": "392MJ0N-aive",
    "outputId": "0f34a4df-5e38-41fa-fee1-554e5909a1f0"
   },
   "outputs": [
    {
     "data": {
      "text/plain": [
       "array([[0, 1, 2, 3, 4],\n",
       "       [5, 6, 7, 8, 9],\n",
       "       [1, 1, 1, 1, 1],\n",
       "       [1, 1, 1, 1, 1]])"
      ]
     },
     "execution_count": 80,
     "metadata": {},
     "output_type": "execute_result"
    }
   ],
   "source": [
    "#my\n",
    "a = np.arange(10).reshape(2,-1) \n",
    "b = np.repeat(1, 10).reshape(2,-1)\n",
    "np.concatenate([a,b])"
   ]
  },
  {
   "cell_type": "code",
   "execution_count": 57,
   "metadata": {},
   "outputs": [
    {
     "name": "stdout",
     "output_type": "stream",
     "text": [
      "[[0 1 2 3 4]\n",
      " [5 6 7 8 9]\n",
      " [1 1 1 1 1]\n",
      " [1 1 1 1 1]]\n",
      "[[0 1 2 3 4]\n",
      " [5 6 7 8 9]\n",
      " [1 1 1 1 1]\n",
      " [1 1 1 1 1]]\n"
     ]
    }
   ],
   "source": [
    "#answer\n",
    "a = np.arange(10).reshape(2,-1) \n",
    "b = np.repeat(1, 10).reshape(2,-1)\n",
    "print(np.concatenate([a,b]))\n",
    "print(np.vstack([a,b]))"
   ]
  },
  {
   "cell_type": "markdown",
   "metadata": {
    "id": "K5snmc19cnz2"
   },
   "source": [
    "## 문제 11\n",
    "```\n",
    "a = np.arange(10).reshape(2,-1)\n",
    "\n",
    "b = np.repeat(1, 10).reshape(2,-1)\n",
    "```\n",
    "\n",
    "a와 b를 아래와 같이 열 기준으로 합치세요\n",
    "```\n",
    "array([[0, 1, 2, 3, 4, 1, 1, 1, 1, 1],\n",
    "       [5, 6, 7, 8, 9, 1, 1, 1, 1, 1]])\n",
    "\n",
    "```\n",
    "\n"
   ]
  },
  {
   "cell_type": "code",
   "execution_count": 58,
   "metadata": {
    "colab": {
     "base_uri": "https://localhost:8080/"
    },
    "id": "tLly26F4c3xf",
    "outputId": "6375c46f-ac98-4e20-fe6b-1be5d8e7b20e"
   },
   "outputs": [
    {
     "name": "stdout",
     "output_type": "stream",
     "text": [
      "[[0 1 2 3 4 1 1 1 1 1]\n",
      " [5 6 7 8 9 1 1 1 1 1]]\n",
      "[[0 1 2 3 4 1 1 1 1 1]\n",
      " [5 6 7 8 9 1 1 1 1 1]]\n"
     ]
    }
   ],
   "source": [
    "a = np.arange(10).reshape(2,-1) \n",
    "b = np.repeat(1, 10).reshape(2,-1)\n",
    "print(np.concatenate([a,b], axis=1))\n",
    "print(np.hstack([a,b]))"
   ]
  },
  {
   "cell_type": "markdown",
   "metadata": {
    "id": "eKCaeCLHMOmj"
   },
   "source": [
    "## 문제 12\n",
    "\n",
    "0에서 8의 값을 갖는 3x3 행렬을 만드세요\n"
   ]
  },
  {
   "cell_type": "code",
   "execution_count": 31,
   "metadata": {
    "colab": {
     "base_uri": "https://localhost:8080/"
    },
    "id": "3_3O-vnJMDau",
    "outputId": "7b090ee3-91dc-4257-bd7d-786ab49840b7"
   },
   "outputs": [
    {
     "data": {
      "text/plain": [
       "array([[0, 5, 1],\n",
       "       [5, 8, 1],\n",
       "       [6, 3, 7]])"
      ]
     },
     "execution_count": 31,
     "metadata": {},
     "output_type": "execute_result"
    }
   ],
   "source": [
    "#my\n",
    "a=np.random.randint(0,9,size=(3,3))\n",
    "a"
   ]
  },
  {
   "cell_type": "code",
   "execution_count": 59,
   "metadata": {},
   "outputs": [
    {
     "data": {
      "text/plain": [
       "array([[0, 1, 2],\n",
       "       [3, 4, 5],\n",
       "       [6, 7, 8]])"
      ]
     },
     "execution_count": 59,
     "metadata": {},
     "output_type": "execute_result"
    }
   ],
   "source": [
    "#answer\n",
    "np.arange(9).reshape(3,3)"
   ]
  },
  {
   "cell_type": "markdown",
   "metadata": {
    "id": "Zg_H-vFeU8EI"
   },
   "source": [
    "## 문제 13\n",
    "\n",
    "다음과 같은 행렬 [1,2,0,0,4,0] 에서 0이 아닌 값의 인덱스를 찾으세요 "
   ]
  },
  {
   "cell_type": "code",
   "execution_count": 16,
   "metadata": {},
   "outputs": [
    {
     "data": {
      "text/plain": [
       "(array([0, 1, 4], dtype=int64),)"
      ]
     },
     "execution_count": 16,
     "metadata": {},
     "output_type": "execute_result"
    }
   ],
   "source": [
    "##다시 풀기\n",
    "a=np.array([1,2,0,0,4,0])\n",
    "np.where(a!=0)"
   ]
  },
  {
   "cell_type": "code",
   "execution_count": 60,
   "metadata": {},
   "outputs": [
    {
     "data": {
      "text/plain": [
       "(array([0, 1, 4], dtype=int64),)"
      ]
     },
     "execution_count": 60,
     "metadata": {},
     "output_type": "execute_result"
    }
   ],
   "source": [
    "##구글링_nonzero로 0이 아닌 값의 인덱스 찾기\n",
    "np.nonzero([1,2,0,0,4,0])"
   ]
  },
  {
   "cell_type": "markdown",
   "metadata": {
    "id": "083V-LkZVVvc"
   },
   "source": [
    "## 문제 14\n",
    "\n",
    "3x3 크기를 가지는 단위 행렬을 만드세요"
   ]
  },
  {
   "cell_type": "code",
   "execution_count": 44,
   "metadata": {
    "colab": {
     "base_uri": "https://localhost:8080/"
    },
    "id": "Cl0jGRZHVNTL",
    "outputId": "60c13e11-7abd-4a31-821e-cad755198522"
   },
   "outputs": [
    {
     "data": {
      "text/plain": [
       "array([[1., 0., 0.],\n",
       "       [0., 1., 0.],\n",
       "       [0., 0., 1.]])"
      ]
     },
     "execution_count": 44,
     "metadata": {},
     "output_type": "execute_result"
    }
   ],
   "source": [
    "np.eye(3)"
   ]
  },
  {
   "cell_type": "markdown",
   "metadata": {
    "id": "BUhwEnrnWQow"
   },
   "source": [
    "## 문제 15\n",
    "\n",
    "shape가 (3, 3, 3)인 랜덤값을 가지는 3차원 행렬을 만드세요"
   ]
  },
  {
   "cell_type": "code",
   "execution_count": 61,
   "metadata": {
    "colab": {
     "base_uri": "https://localhost:8080/"
    },
    "id": "mPmQsFbxWHbd",
    "outputId": "dab7ad6d-ca3b-42c3-93bb-453cf208b095"
   },
   "outputs": [
    {
     "data": {
      "text/plain": [
       "array([[[0.06336157, 0.98998346, 0.12915639],\n",
       "        [0.25328546, 0.03200349, 0.2373181 ],\n",
       "        [0.49868449, 0.05021336, 0.06525477]],\n",
       "\n",
       "       [[0.26143227, 0.60518778, 0.65713911],\n",
       "        [0.72414212, 0.59589238, 0.0473429 ],\n",
       "        [0.44343056, 0.50082144, 0.83289207]],\n",
       "\n",
       "       [[0.5681789 , 0.15662908, 0.81671593],\n",
       "        [0.31059497, 0.56194218, 0.71110681],\n",
       "        [0.00129266, 0.48574457, 0.79414761]]])"
      ]
     },
     "execution_count": 61,
     "metadata": {},
     "output_type": "execute_result"
    }
   ],
   "source": [
    "np.random.rand(3,3,3)"
   ]
  },
  {
   "cell_type": "markdown",
   "metadata": {
    "id": "sL7msD4NWq42"
   },
   "source": [
    "## 문제 16\n",
    "\n",
    "Create a 10x10 array with random values and find the minimum and maximum\n",
    "values\n",
    "\n",
    "임의의 값으로 채워진 10x10 행렬을 만들고 그 행렬의 최소값과 최대값을 찾으세요."
   ]
  },
  {
   "cell_type": "code",
   "execution_count": 69,
   "metadata": {
    "colab": {
     "base_uri": "https://localhost:8080/"
    },
    "id": "VnGUrceeWO7J",
    "outputId": "7cd62b27-163f-4885-d760-52d3795ee56e"
   },
   "outputs": [
    {
     "name": "stdout",
     "output_type": "stream",
     "text": [
      "[0.7872335  0.60248991 0.51649275 0.98882239 0.32992767 0.30792694\n",
      " 0.57885646 0.55761195 0.25634336 0.86242689]\n",
      "0.9888223937200304\n",
      "0.25634336046944783\n"
     ]
    }
   ],
   "source": [
    "#answer random.random\n",
    "x=np.random.random(10)\n",
    "print(x)\n",
    "print(x.max())\n",
    "print(x.min())"
   ]
  },
  {
   "cell_type": "markdown",
   "metadata": {
    "id": "m4tA8GTuW2H-"
   },
   "source": [
    "## 문제 17\n",
    "\n",
    "Create a random vector of size 30 and find the mean value\n",
    "\n",
    "크기가 30인 임의의 벡터를 만들고 평균값을 찾으세요."
   ]
  },
  {
   "cell_type": "code",
   "execution_count": 67,
   "metadata": {
    "colab": {
     "base_uri": "https://localhost:8080/"
    },
    "id": "T6swqiRqW0Il",
    "outputId": "f8f2d69a-76da-4300-c7a4-3d01e23e36f9"
   },
   "outputs": [
    {
     "name": "stdout",
     "output_type": "stream",
     "text": [
      "[0.82518275 0.76638995 0.58418624 0.57272491 0.74953976 0.42957105\n",
      " 0.0589325  0.79189343 0.68624759 0.57731547 0.78034823 0.62605381\n",
      " 0.57122139 0.65002543 0.89777057 0.4619503  0.43049859 0.57005944\n",
      " 0.55784589 0.31767744 0.88384794 0.12878884 0.49320752 0.55238307\n",
      " 0.08563241 0.70425055 0.18111883 0.39221277 0.87189517 0.14419092]\n",
      "0.5447654260573092\n",
      "0.5447654260573092\n"
     ]
    }
   ],
   "source": [
    "x=np.random.random(30)\n",
    "print(x)\n",
    "\n",
    "print(np.mean(x))\n",
    "print(x.mean())"
   ]
  },
  {
   "cell_type": "markdown",
   "metadata": {
    "id": "W4EIdpXOW7fT"
   },
   "source": [
    "## 문제 18\n",
    "\n",
    "Create a 2d array with 1 on the border and 0 inside\n",
    "\n",
    "테두리가 1이고 내부가 0으로 채워진 2차원 행렬을 만드세요."
   ]
  },
  {
   "cell_type": "code",
   "execution_count": 74,
   "metadata": {
    "id": "kFSSd3V5W6hg"
   },
   "outputs": [
    {
     "name": "stdout",
     "output_type": "stream",
     "text": [
      "[[1. 1. 1. 1. 1. 1. 1. 1. 1. 1.]\n",
      " [1. 0. 0. 0. 0. 0. 0. 0. 0. 1.]\n",
      " [1. 0. 0. 0. 0. 0. 0. 0. 0. 1.]\n",
      " [1. 0. 0. 0. 0. 0. 0. 0. 0. 1.]\n",
      " [1. 0. 0. 0. 0. 0. 0. 0. 0. 1.]\n",
      " [1. 0. 0. 0. 0. 0. 0. 0. 0. 1.]\n",
      " [1. 0. 0. 0. 0. 0. 0. 0. 0. 1.]\n",
      " [1. 0. 0. 0. 0. 0. 0. 0. 0. 1.]\n",
      " [1. 0. 0. 0. 0. 0. 0. 0. 0. 1.]\n",
      " [1. 1. 1. 1. 1. 1. 1. 1. 1. 1.]]\n"
     ]
    }
   ],
   "source": [
    "###구글링\n",
    "z=np.ones((10,10))\n",
    "z[1:-1,1:-1]=0  #슬라이싱으로 내부 가져오기\n",
    "print(z)"
   ]
  },
  {
   "cell_type": "markdown",
   "metadata": {
    "id": "Bj5DjuaPXCAQ"
   },
   "source": [
    "## 문제 19\n",
    "\n",
    "What is the result of the following expression? \n",
    "\n",
    "다음 연산의 결과는 유추하세요."
   ]
  },
  {
   "cell_type": "code",
   "execution_count": 76,
   "metadata": {
    "colab": {
     "base_uri": "https://localhost:8080/"
    },
    "id": "E04-Sr5WXBIK",
    "outputId": "be5e520e-3c95-4516-d6e0-1ae8a9a78941"
   },
   "outputs": [
    {
     "name": "stdout",
     "output_type": "stream",
     "text": [
      "nan\n",
      "False\n",
      "False\n",
      "nan\n",
      "False\n"
     ]
    }
   ],
   "source": [
    "#문제\n",
    "print(0 * np.nan)\n",
    "print(np.nan == np.nan)\n",
    "print(np.inf > np.nan)\n",
    "print(np.nan - np.nan)\n",
    "print(0.3 == 3*0.1)\n",
    "\n",
    "#numpy의 nan = 파이썬의 none"
   ]
  },
  {
   "cell_type": "markdown",
   "metadata": {
    "id": "XrWsm8IeX5CS"
   },
   "source": [
    "## 문제 20\n",
    "\n",
    "Create a vector of size 10 with values ranging from 0 to 1, both excluded\n",
    "\n",
    "0에서 1 사이에 균등하게 배분된 값을 반환하는 벡터를 생성합니다(0, 1을 포함)\n",
    "\n",
    "그 다음 처음과 마지막값을 제외한 배열을 출력하세요(출력하는 배열의 크기는 10입니다.)."
   ]
  },
  {
   "cell_type": "code",
   "execution_count": 79,
   "metadata": {
    "colab": {
     "base_uri": "https://localhost:8080/"
    },
    "id": "fX3gEM6kXHPK",
    "outputId": "acfababa-23e1-4d00-ea8d-3e794462e6d3"
   },
   "outputs": [
    {
     "data": {
      "text/plain": [
       "array([0.09090909, 0.18181818, 0.27272727, 0.36363636, 0.45454545,\n",
       "       0.54545455, 0.63636364, 0.72727273, 0.81818182, 0.90909091])"
      ]
     },
     "execution_count": 79,
     "metadata": {},
     "output_type": "execute_result"
    }
   ],
   "source": [
    "#answer\n",
    "a=np.linspace(0,1,12)[1:-1]\n",
    "a"
   ]
  },
  {
   "cell_type": "markdown",
   "metadata": {
    "id": "ZvldI6uFYHZg"
   },
   "source": [
    "## 문제 21\n",
    "\n",
    "Create a random vector of size 10 and sort it\n",
    "\n",
    "크기가 10인 임의의 벡터를 만들고 정렬하세요."
   ]
  },
  {
   "cell_type": "code",
   "execution_count": 83,
   "metadata": {
    "colab": {
     "base_uri": "https://localhost:8080/"
    },
    "id": "m5w5WBWQX8WX",
    "outputId": "847e99ae-a818-442f-8ca5-380c6adbc5d3"
   },
   "outputs": [
    {
     "data": {
      "text/plain": [
       "array([0.15998809, 0.19420631, 0.23251183, 0.25770493, 0.29604719,\n",
       "       0.36889489, 0.41175725, 0.42654541, 0.60249527, 0.71512434])"
      ]
     },
     "execution_count": 83,
     "metadata": {},
     "output_type": "execute_result"
    }
   ],
   "source": [
    "v=np.random.random(10)\n",
    "v.sort()\n",
    "v"
   ]
  },
  {
   "cell_type": "markdown",
   "metadata": {
    "id": "nsOa15RlYTDO"
   },
   "source": [
    "## 문제 22\n",
    "\n",
    "Create random vector of size 10 and replace the maximum value by 0\n",
    "\n",
    "크기가 10인 임의의 벡터를 만들고 최대값을 0으로 바꾸세요."
   ]
  },
  {
   "cell_type": "code",
   "execution_count": 84,
   "metadata": {},
   "outputs": [
    {
     "data": {
      "text/plain": [
       "array([0.01368009, 0.82636743, 0.34242467, 0.81016474, 0.91446672,\n",
       "       0.92526577, 0.73871263, 0.16753722, 0.89832375, 0.        ])"
      ]
     },
     "execution_count": 84,
     "metadata": {},
     "output_type": "execute_result"
    }
   ],
   "source": [
    "#my\n",
    "v=np.random.random(10)\n",
    "a=np.argmax(v)\n",
    "v[a]=0\n",
    "v"
   ]
  },
  {
   "cell_type": "code",
   "execution_count": 85,
   "metadata": {},
   "outputs": [
    {
     "name": "stdout",
     "output_type": "stream",
     "text": [
      "[0.42413706 0.44340115 0.47272609 0.6434763  0.19062038 0.917879\n",
      " 0.27617966 0.81483093 0.82826682 0.51286455]\n",
      "[0.42413706 0.44340115 0.47272609 0.6434763  0.19062038 0.\n",
      " 0.27617966 0.81483093 0.82826682 0.51286455]\n"
     ]
    }
   ],
   "source": [
    "#answer\n",
    "v=np.random.random(10)\n",
    "print(v)\n",
    "v[v.argmax()]=0\n",
    "print(v)"
   ]
  },
  {
   "cell_type": "markdown",
   "metadata": {
    "id": "0ExMpgwPdSqR"
   },
   "source": [
    "\n",
    "## 문제 23\n",
    "\n",
    "```\n",
    "a = np.array([1,2,3,2,3,4,3,4,5,6])\n",
    "b = np.array([7,2,10,2,7,4,9,4,9,8])\n",
    "\n",
    "```\n",
    "\n",
    "a, b 두 벡터의 같은 위치에 있는 값이 같은 인덱스를 구하세요\n",
    "```\n",
    "결과 예)\n",
    "(array([1, 3, 5, 7]),)\n",
    "```"
   ]
  },
  {
   "cell_type": "code",
   "execution_count": 41,
   "metadata": {
    "scrolled": true
   },
   "outputs": [
    {
     "name": "stdout",
     "output_type": "stream",
     "text": [
      "(array([1, 3, 5, 7], dtype=int64),)\n"
     ]
    }
   ],
   "source": [
    "a = np.array([1,2,3,2,3,4,3,4,5,6])\n",
    "b = np.array([7,2,10,2,7,4,9,4,9,8])\n",
    "\n",
    "print(np.where(a==b))"
   ]
  },
  {
   "cell_type": "markdown",
   "metadata": {
    "id": "lX_KWlyJeOUJ"
   },
   "source": [
    "## 문제 24\n",
    "\n",
    "```\n",
    "a = np.array([2, 6, 1, 9, 10, 3, 27])\n",
    "```\n",
    "\n",
    "a 에서 5이상 10 이하의 값만 가지는 벡터를 만드세요\n"
   ]
  },
  {
   "cell_type": "code",
   "execution_count": 3,
   "metadata": {
    "colab": {
     "base_uri": "https://localhost:8080/"
    },
    "id": "_F-RY4A4eKG8",
    "outputId": "151750a1-e24e-40b3-a368-0123b5474503"
   },
   "outputs": [
    {
     "data": {
      "text/plain": [
       "array([ 6,  9, 10])"
      ]
     },
     "execution_count": 3,
     "metadata": {},
     "output_type": "execute_result"
    }
   ],
   "source": [
    "#my\n",
    "a = np.array([2, 6, 1, 9, 10, 3, 27])\n",
    "a[(a>=5)&(a<=10)]"
   ]
  },
  {
   "cell_type": "code",
   "execution_count": 86,
   "metadata": {},
   "outputs": [
    {
     "data": {
      "text/plain": [
       "array([ 6,  9, 10])"
      ]
     },
     "execution_count": 86,
     "metadata": {},
     "output_type": "execute_result"
    }
   ],
   "source": [
    "#answer\n",
    "a = np.array([2, 6, 1, 9, 10, 3, 27])\n",
    "idx=np.where((a>=5) & (a<=10))\n",
    "a[idx]"
   ]
  },
  {
   "cell_type": "code",
   "execution_count": null,
   "metadata": {
    "id": "lO5nVYCih-EP"
   },
   "outputs": [],
   "source": [
    "#Numpy 문제 모음 링크:\n",
    "#https://u-n-joe.tistory.com/94?category=931569"
   ]
  }
 ],
 "metadata": {
  "colab": {
   "collapsed_sections": [],
   "name": "numpy 연습문제.ipynb",
   "provenance": []
  },
  "kernelspec": {
   "display_name": "Python 3 (ipykernel)",
   "language": "python",
   "name": "python3"
  },
  "language_info": {
   "codemirror_mode": {
    "name": "ipython",
    "version": 3
   },
   "file_extension": ".py",
   "mimetype": "text/x-python",
   "name": "python",
   "nbconvert_exporter": "python",
   "pygments_lexer": "ipython3",
   "version": "3.9.7"
  }
 },
 "nbformat": 4,
 "nbformat_minor": 1
}
