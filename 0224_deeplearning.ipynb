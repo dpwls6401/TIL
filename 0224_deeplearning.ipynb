{
  "nbformat": 4,
  "nbformat_minor": 0,
  "metadata": {
    "colab": {
      "name": "0224_deeplearning",
      "provenance": []
    },
    "kernelspec": {
      "name": "python3",
      "display_name": "Python 3"
    },
    "language_info": {
      "name": "python"
    }
  },
  "cells": [
    {
      "cell_type": "code",
      "execution_count": 100,
      "metadata": {
        "id": "Lg1kXWcYLihY"
      },
      "outputs": [],
      "source": [
        "import numpy as np"
      ]
    },
    {
      "cell_type": "code",
      "source": [
        "# 곱셈 계층 역전파(딥러닝 2. 신경망학습 교안 p.39)\n",
        "class MulLayer:\n",
        "  def __init__(self):\n",
        "    self.X = None\n",
        "    self.y = None\n",
        "\n",
        "  # forward\n",
        "  def forward(self,x, y):\n",
        "    self.x = x\n",
        "    self.y = y\n",
        "    return x * y\n",
        "  \n",
        "  # backward\n",
        "  # dout : 상류에서 흘러오는 값\n",
        "  def backward(self, dout):\n",
        "    dx = dout * self.y\n",
        "    dy = dout * self.x\n",
        "    return dx, dy"
      ],
      "metadata": {
        "id": "MBXUrrBtLtsE"
      },
      "execution_count": 101,
      "outputs": []
    },
    {
      "cell_type": "code",
      "source": [
        "apple = 100\n",
        "apple_num = 2\n",
        "tax = 1.1\n",
        "\n",
        "mul_apple_layer = MulLayer()\n",
        "mul_tax_layer = MulLayer()\n",
        "\n",
        "# forward 전방향\n",
        "apple_price = mul_apple_layer.forward(apple, apple_num)\n",
        "price = mul_tax_layer.forward(apple_price, tax)\n",
        "\n",
        "# backward 역방향\n",
        "dprice = 1\n",
        "dapple_price, dtax = mul_tax_layer.backward(dprice)\n",
        "dapple, dapple_num = mul_apple_layer.backward(dapple_price)\n",
        "\n",
        "print(f\"price : {price}\")\n",
        "print(f\"dapple : {dapple}\") #미분한 값\n",
        "print(f\"dapple_num : {dapple_num}\")\n",
        "print(f\"dtax : {dtax}\")"
      ],
      "metadata": {
        "colab": {
          "base_uri": "https://localhost:8080/"
        },
        "id": "Kmetfk4JM2qG",
        "outputId": "73f8d7b9-026b-4dd0-b6ce-94c08b1a3e63"
      },
      "execution_count": 102,
      "outputs": [
        {
          "output_type": "stream",
          "name": "stdout",
          "text": [
            "price : 220.00000000000003\n",
            "dapple : 2.2\n",
            "dapple_num : 110.00000000000001\n",
            "dtax : 200\n"
          ]
        }
      ]
    },
    {
      "cell_type": "code",
      "source": [
        "# 곱셈&덧셈 계층 역전파(딥러닝 2. 신경망학습 교안 p.40)\n",
        "# 위에서 만든 곱셈 클래스 활용\n",
        "# 덧셈 클래스 생성\n",
        "class AddLayer:\n",
        "  #위 MulLayer에서 초기화했으니 초기화할 필요 없음\n",
        "\n",
        "  # forward\n",
        "  def forward(self, x, y):\n",
        "    return x + y\n",
        "\n",
        "  # backward\n",
        "  # dout : 상류에서 흘러오는 값\n",
        "  def backward(self, dout):\n",
        "    dx = dout\n",
        "    dy = dout\n",
        "    return dx, dy"
      ],
      "metadata": {
        "id": "nYfwBouZPbO2"
      },
      "execution_count": 103,
      "outputs": []
    },
    {
      "cell_type": "code",
      "source": [
        "apple = 100\n",
        "apple_num = 2\n",
        "orange = 150\n",
        "orange_num = 3\n",
        "tax = 1.1\n",
        "\n",
        "# 계산과정 4번이므로 4개 계층 만들어줌\n",
        "mul_apple_layer = MulLayer()\n",
        "mul_orange_layer = MulLayer()\n",
        "mul_tax_layer = MulLayer()\n",
        "add_ao_layer = AddLayer()\n",
        "\n",
        "# forward (전방향)\n",
        "apple_price = mul_apple_layer.forward(apple, apple_num)\n",
        "orange_price = mul_orange_layer.forward(orange, orange_num)\n",
        "sum_price = add_ao_layer.forward(apple_price, orange_price)\n",
        "price = mul_tax_layer.forward(sum_price, tax)\n",
        "\n",
        "# backward (역방향)\n",
        "dprice = 1\n",
        "dsum_price, dtax = mul_tax_layer.backward(dprice)\n",
        "dapple_price, dorange_price = add_ao_layer.backward(dsum_price)\n",
        "dapple, dapple_num = mul_apple_layer.backward(dapple_price)\n",
        "dorange, dorange_num = mul_orange_layer.backward(dorange_price)\n",
        "\n",
        "print(f\"price : {price}\")\n",
        "print(f\"dapple : {dapple}\")\n",
        "print(f\"dapple_num : {dapple_num}\")\n",
        "print(f\"dorange : {dorange}\")\n",
        "print(f\"dorange_num : {dorange_num}\")\n",
        "print(f\"dtax : {dtax}\")"
      ],
      "metadata": {
        "colab": {
          "base_uri": "https://localhost:8080/"
        },
        "id": "bV88E3WDVoqy",
        "outputId": "4a692087-8be6-43bf-c5d0-f65ff21a5899"
      },
      "execution_count": 104,
      "outputs": [
        {
          "output_type": "stream",
          "name": "stdout",
          "text": [
            "price : 715.0000000000001\n",
            "dapple : 2.2\n",
            "dapple_num : 110.00000000000001\n",
            "dorange : 3.3000000000000003\n",
            "dorange_num : 165.0\n",
            "dtax : 650\n"
          ]
        }
      ]
    },
    {
      "cell_type": "markdown",
      "source": [
        "Relu 역전파"
      ],
      "metadata": {
        "id": "lNLGTMyTheXw"
      }
    },
    {
      "cell_type": "code",
      "source": [
        "# x > 0이면 그대로, x <= 0이면 0으로 만들기\n",
        "class Relu:\n",
        "  def __init__(self):\n",
        "    self.mask = None\n",
        "  \n",
        "  def forward(self, x):\n",
        "    self.mask = (x <= 0) # 입력이 0이냐 0이 아니냐에 대한 정보\n",
        "    out = x.copy()\n",
        "    out[self.mask] = 0 # 0보다 작거나 같은 애들 인덱스로 가져와서 0으로 만들어줌\n",
        "    return out\n",
        "\n",
        "  def backward(self, dout):\n",
        "    dout[self.mask] = 0 # y를 가지고 미분한 값이므로 0보다 작은 값 있을 수 있음\n",
        "    dx = dout\n",
        "    return dx"
      ],
      "metadata": {
        "id": "DqG3GUQVbPre"
      },
      "execution_count": 105,
      "outputs": []
    },
    {
      "cell_type": "markdown",
      "source": [
        "Sigmoid 역전파 - 교안 p.45"
      ],
      "metadata": {
        "id": "hO0kNc08kPIY"
      }
    },
    {
      "cell_type": "code",
      "source": [
        "def sigmoid(x):\n",
        "  return 1 / (1 + np.exp(-x))"
      ],
      "metadata": {
        "id": "2XPBWkxWmk7q"
      },
      "execution_count": 106,
      "outputs": []
    },
    {
      "cell_type": "code",
      "source": [
        "# sigmoid 노드 정의\n",
        "class Sigmoid:\n",
        "  def __init__(self):\n",
        "    self.out = None\n",
        "\n",
        "  def forward(self, x):\n",
        "    self.out = sigmoid(x) #sigmoid 통과한 y\n",
        "    return self.out\n",
        "\n",
        "  def backward(self, dout):\n",
        "    dx = dout * self.out * (1 - self.out)\n",
        "    return dx"
      ],
      "metadata": {
        "id": "FULXDo-fkQuj"
      },
      "execution_count": 107,
      "outputs": []
    },
    {
      "cell_type": "markdown",
      "source": [
        "배치용 Affine 계층 역전파 (교안 p.49) => X * W + B"
      ],
      "metadata": {
        "id": "2xk2y1kG-klq"
      }
    },
    {
      "cell_type": "code",
      "source": [
        "class Affine:\n",
        "  def __init__(self, W, b): # W는 입력값의 개수와 맞아야 함, b는 출력값의 개수와 맞아야 함\n",
        "    self.W = W\n",
        "    self.b = b\n",
        "\n",
        "    self.x = None\n",
        "    self.dW = None\n",
        "    self.db = None\n",
        "\n",
        "  def forward(self, x): #W, b는 위에 있으니까 x만!\n",
        "    self.x = x\n",
        "    \n",
        "    out = np.dot(self.x, self.W) + self.b\n",
        "    return out\n",
        "\n",
        "  def backward(self, dout): # dout : 상류에서 흘러내려온 값\n",
        "    dx = np.dot(dout, self.W.T) # 1번과정\n",
        "\n",
        "    self.dW = np.dot(self.x.T, dout) # 2번과정\n",
        "    self.db = np.sum(dout, axis=0) # 3번과정\n",
        "\n",
        "    return dx # 미분한 값을 흘려 보내줘야 다음 값의 input으로 들어갈 수 있음"
      ],
      "metadata": {
        "id": "2uBkdKBBn8ba"
      },
      "execution_count": 123,
      "outputs": []
    },
    {
      "cell_type": "code",
      "source": [
        "def softmax(x):\n",
        "  exp_x = np.exp(x)\n",
        "  sum_exp_x = np.sum(exp_x, axis=-1).reshape(-1,1)\n",
        "  #axis=-1인 이유; 맨 마지막에 있는 차원을 기준으로 구하기 위함??\n",
        "  #np.array([[0, 1, 3], [0, 5, 4]]).shape -> (2,3)인데 여기서 3을 기준으로 계산하기 위함\n",
        "\n",
        "  y = exp_x / sum_exp_x\n",
        "  \n",
        "  return y"
      ],
      "metadata": {
        "id": "RT2z1RrdAHel"
      },
      "execution_count": 124,
      "outputs": []
    },
    {
      "cell_type": "code",
      "source": [
        "def cross_entropy_error(y,t):\n",
        "  if y.ndim == 1:\n",
        "    t = t.reshape(1, t.size)\n",
        "    y = y.reshape(1, y.size) #원래 y.size는 (10,) -> shape 통과시키면 (1,10)\n",
        "\n",
        "  batch_size = y.shape[0]\n",
        "  #batch_size는 sample의 개수만큼 나눠줘야 하는 것\n",
        "  \n",
        "  delta = 1e-7\n",
        "  return -np.sum(t * np.log(y + delta)) / batch_size\n",
        "  #각각에 대한 확률값 구하기 위해 batch_size로 나눠줘야 함"
      ],
      "metadata": {
        "id": "Jzz5xwvBLl01"
      },
      "execution_count": 125,
      "outputs": []
    },
    {
      "cell_type": "code",
      "source": [
        "class SoftmaxWithLoss():\n",
        "  def __init__(self):\n",
        "    self.loss = None\n",
        "    self.y = None\n",
        "    self.t = None\n",
        "\n",
        "  def forward(self, x, t): #x: 입력값, t: 라벨\n",
        "    self.t = t\n",
        "    self.y = softmax(x)\n",
        "    self.loss = cross_entropy_error(self.y, self.t)\n",
        "    return self.loss\n",
        "\n",
        "  def backward(self, dout=1): # 맨마지막 단의 dout은 1이었음\n",
        "    batch_size = self.t.shape[0]\n",
        "\n",
        "    if self.t.size == self.y.size: #y는 원핫 형태; t가 라벨 인코딩되어 있다면 00010 이런식으로 바꿔줘야 함\n",
        "      dx = (self.y - self.t) / batch_size #둘다 원핫일 경우\n",
        "    else: #라벨인코딩 있을 경우\n",
        "      dx = self.y.copy()\n",
        "      dx[np.arange(batch_size), self.t] -= 1\n",
        "      dx = dx / batch_size\n",
        "    return dx"
      ],
      "metadata": {
        "id": "wL-45nUnL9Hb"
      },
      "execution_count": 126,
      "outputs": []
    },
    {
      "cell_type": "code",
      "source": [
        "def _numerical_gradient_no_batch(f,w): #여기서 x는 가중치!\n",
        "  h = 1e-4\n",
        "  grad = np.zeros_like(w)\n",
        "  \n",
        "  for idx in range(w.size):\n",
        "    tmp_val = w[idx] #n번째 가중치\n",
        "\n",
        "    #f(w+h)\n",
        "    w[idx] = float(tmp_val) + h\n",
        "    fxh1 = f(w)\n",
        "\n",
        "    #f(w-h)\n",
        "    w[idx] = float(tmp_val) - h\n",
        "    fxh2 = f(w)\n",
        "\n",
        "    grad[idx] = (fxh1 - fxh2) / (2 * h)\n",
        "    w[idx] = tmp_val\n",
        "\n",
        "  return grad"
      ],
      "metadata": {
        "id": "nqan8TaUPBpj"
      },
      "execution_count": 127,
      "outputs": []
    },
    {
      "cell_type": "code",
      "source": [
        "def numerical_gradient(f,W): #여기서 X는 가중치(weight)!\n",
        "  #샘플 1개인 경우는 그냥 호출\n",
        "  if W.ndim == 1:\n",
        "    return _numerical_gradient_no_batch(f,W)\n",
        "  \n",
        "  #샘플 여러개 한꺼번에 들어온 경우: batch_size = 2\n",
        "  else:\n",
        "    grad = np.zeros_like(W)\n",
        "    \n",
        "    for idx, W in enumerate(W):\n",
        "      grad[idx] = _numerical_gradient_no_batch(f,W)\n",
        "\n",
        "    return grad"
      ],
      "metadata": {
        "id": "YQB4QQZhPNL2"
      },
      "execution_count": 128,
      "outputs": []
    },
    {
      "cell_type": "code",
      "source": [
        "from collections import OrderedDict\n",
        "\n",
        "class TwoLayerNet:\n",
        "  def __init__(self, input_size, hidden_size, output_size, weight_init_std=0.01):\n",
        "    #파라미터 랜덤 초기화\n",
        "    self.params = {}\n",
        "    self.params['W1'] = weight_init_std * np.random.randn(input_size, hidden_size)\n",
        "    self.params['b1'] = np.zeros(hidden_size)\n",
        "    self.params['W2'] = weight_init_std * np.random.randn(hidden_size, output_size)\n",
        "    self.params['b2'] = np.zeros(output_size)\n",
        "\n",
        "    self.layers = OrderedDict() #정렬된 딕셔너리\n",
        "    self.layers[\"Affine1\"] = Affine(self.params['W1'], self.params['b1'])\n",
        "    self.layers[\"Relu1\"] = Relu() #입력값 없음\n",
        "    self.layers[\"Affine2\"] = Affine(self.params['W2'], self.params['b2'])\n",
        "    self.lastlayer = SoftmaxWithLoss()\n",
        "\n",
        "  def predict(self, x):\n",
        "    for layer in self.layers.values():\n",
        "      x = layer.forward(x)\n",
        "\n",
        "    return x #softmax 들어가기 전의 값(logit)\n",
        "\n",
        "  def loss(self, x, t):\n",
        "    y = self.predict(x)\n",
        "    return self.lastlayer.forward(y, t) #softmaxwithloss에 들어가서 교차엔트로피 통과시켜 loss 반환\n",
        "\n",
        "  def accuracy(self, x, t):\n",
        "    y = self.predict(x)\n",
        "    y = np.argmax(y, axis=1)\n",
        "    if t.ndim != 1:\n",
        "      t = np.argmax(t, axis=1) #열에 대해 argmax\n",
        "\n",
        "    accuracy = np.sum(y == t) / float(x.shape[0]) #sample 개수만큼 나눠서 평균 구함\n",
        "    return accuracy\n",
        "\n",
        "  #각 파라미터의 기울기 구하기\n",
        "  def numerical_gradient(self, x, t):\n",
        "    #목적 함수 - cross entropy\n",
        "    loss_W = lambda W : self.loss(x, t)\n",
        "\n",
        "    grads = {}\n",
        "    #목적함수에 대해 각 파라미터 별로 편미분\n",
        "    grads['W1'] = numerical_gradient(loss_W, self.params['W1'])\n",
        "    grads['b1'] = numerical_gradient(loss_W, self.params['b1'])\n",
        "    grads['W2'] = numerical_gradient(loss_W, self.params['W2'])\n",
        "    grads['b2'] = numerical_gradient(loss_W, self.params['b2'])\n",
        "\n",
        "    return grads\n",
        "\n",
        "  def gradient(self, x, t):\n",
        "    self.loss(x, t)\n",
        "\n",
        "    dout = 1\n",
        "    dout = self.lastlayer.backward(dout) #마지막단의 역전파 오류값 구해짐\n",
        "\n",
        "    layers = list(self.layers.values())\n",
        "    layers.reverse()\n",
        "\n",
        "    for layer in layers:\n",
        "      dout = layer.backward(dout)\n",
        "\n",
        "    grads = {}\n",
        "    #편미분 안하고 backward 하면서 계산한 값 하나씩 가져옴\n",
        "    grads['W1'] = self.layers['Affine1'].dW\n",
        "    grads['b1'] = self.layers['Affine1'].db\n",
        "    grads['W2'] = self.layers['Affine2'].dW\n",
        "    grads['b2'] = self.layers['Affine2'].db\n",
        "\n",
        "    return grads"
      ],
      "metadata": {
        "id": "QjimLgtvPQbN"
      },
      "execution_count": 130,
      "outputs": []
    },
    {
      "cell_type": "code",
      "source": [
        "import pickle\n",
        "def load_mnist(normalize=True, flatten=True, one_hot_label=False):\n",
        "  def _change_one_hot_label(X):\n",
        "    T = np.zeros((X.size, 10))\n",
        "    for idx, row in enumerate(T): #60000개의 row를 하나씩 던져줌\n",
        "      row[X[idx]] = 1 #label에 해당하는 값에 1 - 0000010000 이런식으로 만들어주기\n",
        "\n",
        "    return T\n",
        "\n",
        "  with open('/content/drive/MyDrive/mnist.pkl', 'rb') as f:\n",
        "    dataset = pickle.load(f)\n",
        "\n",
        "  if normalize: #이미지 읽어서 정규화\n",
        "    for key in ('train_img', 'test_img'):\n",
        "      dataset[key] = dataset[key].astype(np.float32)\n",
        "      dataset[key] /= 255.0 #기존 데이터는 0-256까지 정수값 가지고 있음 ->0~1사이 값으로 표현\n",
        "\n",
        "  if one_hot_label: #one-hot encoding\n",
        "    dataset['train_label'] = _change_one_hot_label(dataset['train_label'])\n",
        "    dataset['test_label'] = _change_one_hot_label(dataset['test_label'])\n",
        "    #60000개 숫자를 10개로 만들어줌\n",
        "  \n",
        "  if not flatten:\n",
        "    for key in ('train_img', 'test_img'):\n",
        "      dataset[key] = dataset[key].reshape(-1, 1, 28, 28)\n",
        "\n",
        "  return (dataset['train_img'], dataset['train_label']), (dataset['test_img'], dataset['test_label'])"
      ],
      "metadata": {
        "id": "SiQT80TaZyxh"
      },
      "execution_count": 131,
      "outputs": []
    },
    {
      "cell_type": "code",
      "source": [
        "#데이터 로딩 - 원핫 형식으로\n",
        "(x_train, y_train), (x_test, y_test) = load_mnist(normalize=True, flatten=True, one_hot_label=True)"
      ],
      "metadata": {
        "id": "O7ykG044ZzQH"
      },
      "execution_count": 132,
      "outputs": []
    },
    {
      "cell_type": "code",
      "source": [
        "#2층 신경망 객체 생성\n",
        "network = TwoLayerNet(input_size=784, hidden_size=50, output_size=10)"
      ],
      "metadata": {
        "id": "-_W663DQZ2eU"
      },
      "execution_count": 133,
      "outputs": []
    },
    {
      "cell_type": "code",
      "source": [
        "iters_num = 10000 #반복 횟수\n",
        "train_size = x_train.shape[0] #훈련 데이터 크기\n",
        "batch_size = 100 #미니배치 사이즈\n",
        "learning_rate = 0.01 #학습률\n",
        "\n",
        "train_loss_list = []\n",
        "train_acc_list = []\n",
        "test_acc_list = []\n",
        "\n",
        "iter_per_epoch = max(train_size/batch_size, 1) #1 에폭당 반복 횟수. 최소 한번\n",
        "#한 에폭은 전체 데이터 개수 60000개, 배치는 그걸 자른 것\n",
        "#배치 사이즈 0될 수도 있으니까 1을 줘야 함"
      ],
      "metadata": {
        "id": "L3YaA8FlZ-IE"
      },
      "execution_count": 134,
      "outputs": []
    },
    {
      "cell_type": "code",
      "source": [
        "#loss 점점 줄어드는 걸 보기 위함\n",
        "for i in range(iters_num):\n",
        "  batch_mask = np.random.choice(train_size, batch_size)\n",
        "  #랜덤하게 0 ~ train_size-1 안에 있는 숫자를 batch_size만큼 가져옴\n",
        "  #index 반환. 중복 가능\n",
        "\n",
        "  x_batch = x_train[batch_mask] #랜덤으로 배치사이즈만큼 훈련 데이터에서 선택\n",
        "  y_batch = y_train[batch_mask] #랜덤으로 배치사이즈만큼 라벨에서 선택\n",
        "\n",
        "  #각 파라미터의 gradient 계산\n",
        "  grad = network.gradient(x_batch, y_batch)\n",
        "\n",
        "  #각 파라미터를 업데이트 (ex. w = w - 학습률 * 기울기)\n",
        "  for key in ('W1', 'b1', 'W2', 'b2'):\n",
        "    network.params[key] -= learning_rate * grad[key]\n",
        "\n",
        "    #loss 구하기\n",
        "    loss = network.loss(x_batch, y_batch)\n",
        "    train_loss_list.append(loss) #loss 값을 train_loss_list에 추가\n",
        "\n",
        "    if i % iter_per_epoch == 0:\n",
        "    #정확도 검사할 때는 batch가 아니라 전체 데이터 넣어줘야 함\n",
        "      #파라미터 업데이트 후의 훈련 데이터 정확도\n",
        "      train_acc = network.accuracy(x_train, y_train) #전체 데이터 accuracy\n",
        "      #파라미터 업데이트 후의 테스트 데이터 정확도 - 안 본 데이터에 대한 정확도\n",
        "      test_acc = network.accuracy(x_test, y_test)\n",
        "\n",
        "      train_acc_list.append(train_acc) #accuracy 값을 train_acc_list에 추가\n",
        "      test_acc_list.append(test_acc) #accuracy 값을 test_acc_list에 추가\n",
        "\n",
        "      print(f\"loss {loss}, train_accuracy{train_acc}, test_accuracy{test_acc}\")\n"
      ],
      "metadata": {
        "colab": {
          "base_uri": "https://localhost:8080/"
        },
        "id": "-1fDLquwacNX",
        "outputId": "4fa29673-3b46-45fe-c358-8290dacbd221"
      },
      "execution_count": 139,
      "outputs": [
        {
          "output_type": "stream",
          "name": "stdout",
          "text": [
            "loss 0.25016748846963366, train_accuracy0.9186333333333333, test_accuracy0.9212\n",
            "loss 0.2501510847518174, train_accuracy0.9186333333333333, test_accuracy0.9212\n",
            "loss 0.24950272240527827, train_accuracy0.9186833333333333, test_accuracy0.9211\n",
            "loss 0.24949553859911228, train_accuracy0.9186833333333333, test_accuracy0.9211\n",
            "loss 0.24997857146226415, train_accuracy0.92065, test_accuracy0.9242\n",
            "loss 0.2499629257685171, train_accuracy0.9206333333333333, test_accuracy0.9242\n",
            "loss 0.24896929301546677, train_accuracy0.9205333333333333, test_accuracy0.924\n",
            "loss 0.2489623170919413, train_accuracy0.9205333333333333, test_accuracy0.924\n",
            "loss 0.3764329030766481, train_accuracy0.9224833333333333, test_accuracy0.9243\n",
            "loss 0.3763841429659092, train_accuracy0.9225, test_accuracy0.9243\n",
            "loss 0.3734117513505518, train_accuracy0.9224, test_accuracy0.9239\n",
            "loss 0.3733875124672399, train_accuracy0.9224, test_accuracy0.9238\n",
            "loss 0.15827354306904323, train_accuracy0.9229333333333334, test_accuracy0.9247\n",
            "loss 0.15824925914052154, train_accuracy0.9229333333333334, test_accuracy0.9247\n",
            "loss 0.1574801981312792, train_accuracy0.9229333333333334, test_accuracy0.9246\n",
            "loss 0.15746928487562978, train_accuracy0.9229333333333334, test_accuracy0.9246\n",
            "loss 0.30712340710586866, train_accuracy0.9242333333333334, test_accuracy0.9261\n",
            "loss 0.3071123516533024, train_accuracy0.9242333333333334, test_accuracy0.9261\n",
            "loss 0.3063096859919067, train_accuracy0.9241166666666667, test_accuracy0.9261\n",
            "loss 0.30630783561033864, train_accuracy0.9241166666666667, test_accuracy0.9261\n",
            "loss 0.26271979524002664, train_accuracy0.92555, test_accuracy0.9286\n",
            "loss 0.2626829901228236, train_accuracy0.92555, test_accuracy0.9286\n",
            "loss 0.2614603655369244, train_accuracy0.9254333333333333, test_accuracy0.9287\n",
            "loss 0.2614485450521874, train_accuracy0.9254166666666667, test_accuracy0.9287\n",
            "loss 0.259343603925973, train_accuracy0.9269166666666667, test_accuracy0.9293\n",
            "loss 0.2593237739573107, train_accuracy0.9269166666666667, test_accuracy0.9293\n",
            "loss 0.2583004649402237, train_accuracy0.9269666666666667, test_accuracy0.929\n",
            "loss 0.2582934028890848, train_accuracy0.9269666666666667, test_accuracy0.929\n",
            "loss 0.2267268232313785, train_accuracy0.9280166666666667, test_accuracy0.9311\n",
            "loss 0.2266935657352404, train_accuracy0.9280166666666667, test_accuracy0.9311\n",
            "loss 0.22606695231710947, train_accuracy0.9279833333333334, test_accuracy0.931\n",
            "loss 0.22605980392184158, train_accuracy0.928, test_accuracy0.931\n",
            "loss 0.2824909127040435, train_accuracy0.9292833333333334, test_accuracy0.9306\n",
            "loss 0.282446679390333, train_accuracy0.9293, test_accuracy0.9306\n",
            "loss 0.2809696421521403, train_accuracy0.9293666666666667, test_accuracy0.9309\n",
            "loss 0.28094816733162686, train_accuracy0.9293666666666667, test_accuracy0.9309\n",
            "loss 0.17002941363388174, train_accuracy0.9305833333333333, test_accuracy0.9319\n",
            "loss 0.17001687576626423, train_accuracy0.9305833333333333, test_accuracy0.9318\n",
            "loss 0.16942742274925876, train_accuracy0.9305666666666667, test_accuracy0.9318\n",
            "loss 0.1694227188001757, train_accuracy0.9305666666666667, test_accuracy0.9318\n",
            "loss 0.20335322641295384, train_accuracy0.9313666666666667, test_accuracy0.9334\n",
            "loss 0.20332862566161297, train_accuracy0.9313666666666667, test_accuracy0.9334\n",
            "loss 0.20237671939311, train_accuracy0.93135, test_accuracy0.9335\n",
            "loss 0.2023681411627468, train_accuracy0.93135, test_accuracy0.9335\n",
            "loss 0.2526806388776208, train_accuracy0.9325166666666667, test_accuracy0.9324\n",
            "loss 0.25266908922365994, train_accuracy0.9325166666666667, test_accuracy0.9324\n",
            "loss 0.2522527146537842, train_accuracy0.93255, test_accuracy0.9323\n",
            "loss 0.2522491127637972, train_accuracy0.93255, test_accuracy0.9323\n",
            "loss 0.2226987656506229, train_accuracy0.93395, test_accuracy0.9343\n",
            "loss 0.22265678825310584, train_accuracy0.93395, test_accuracy0.9343\n",
            "loss 0.22154237777865682, train_accuracy0.9339666666666666, test_accuracy0.9346\n",
            "loss 0.22152830346511584, train_accuracy0.9339666666666666, test_accuracy0.9346\n",
            "loss 0.3424320207838493, train_accuracy0.9344166666666667, test_accuracy0.935\n",
            "loss 0.3423720704008767, train_accuracy0.9344666666666667, test_accuracy0.9351\n",
            "loss 0.3405316666554306, train_accuracy0.9344666666666667, test_accuracy0.935\n",
            "loss 0.3405159774089212, train_accuracy0.9344666666666667, test_accuracy0.935\n",
            "loss 0.1261052404263799, train_accuracy0.9356333333333333, test_accuracy0.9344\n",
            "loss 0.1260813916804102, train_accuracy0.9356333333333333, test_accuracy0.9344\n",
            "loss 0.12549177812891116, train_accuracy0.9356166666666667, test_accuracy0.9344\n",
            "loss 0.12548479270509152, train_accuracy0.9356333333333333, test_accuracy0.9344\n",
            "loss 0.1700770159952144, train_accuracy0.9364166666666667, test_accuracy0.9357\n",
            "loss 0.17005316322911723, train_accuracy0.9364166666666667, test_accuracy0.9356\n",
            "loss 0.16928933510086627, train_accuracy0.93645, test_accuracy0.9353\n",
            "loss 0.16928229547728413, train_accuracy0.93645, test_accuracy0.9353\n",
            "loss 0.387411578099444, train_accuracy0.9376166666666667, test_accuracy0.9358\n",
            "loss 0.3873810368377044, train_accuracy0.9376166666666667, test_accuracy0.9358\n",
            "loss 0.38639732904031293, train_accuracy0.9375833333333333, test_accuracy0.9359\n",
            "loss 0.3863927487796326, train_accuracy0.9375833333333333, test_accuracy0.9359\n"
          ]
        }
      ]
    },
    {
      "cell_type": "code",
      "source": [
        "import matplotlib.pylab as plt\n",
        "\n",
        "x = np.arange(len(train_acc_list))\n",
        "plt.plot(x, train_acc_list, label=\"train acc\")\n",
        "plt.plot(x, test_acc_list, label=\"test acc\")\n",
        "plt.xlabel(\"epoch\")\n",
        "plt.ylabel(\"accuracy\")\n",
        "plt.ylim(0, 1.0)\n",
        "plt.legend(loc=\"lower right\") #범례 위치 지정\n",
        "plt.show()"
      ],
      "metadata": {
        "colab": {
          "base_uri": "https://localhost:8080/",
          "height": 283
        },
        "id": "mqK0zcpKacxb",
        "outputId": "d3af8980-f737-4a54-b8e4-46f1de9220d0"
      },
      "execution_count": 140,
      "outputs": [
        {
          "output_type": "display_data",
          "data": {
            "image/png": "[encoded data removed]",
            "text/plain": [
              "<Figure size 432x288 with 1 Axes>"
            ]
          },
          "metadata": {
            "needs_background": "light"
          }
        }
      ]
    },
    {
      "cell_type": "code",
      "source": [
        ""
      ],
      "metadata": {
        "id": "Pp4PV2EnnmP9"
      },
      "execution_count": null,
      "outputs": []
    }
  ]
}