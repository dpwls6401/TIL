{
 "cells": [
  {
   "cell_type": "markdown",
   "metadata": {
    "id": "w6zeeA-U40WY"
   },
   "source": [
    "## 문제 1\n",
    "\n",
    "\n",
    "판다스를 import 하고 버전을 출력하세요"
   ]
  },
  {
   "cell_type": "code",
   "execution_count": 2,
   "metadata": {
    "colab": {
     "base_uri": "https://localhost:8080/"
    },
    "executionInfo": {
     "elapsed": 5,
     "status": "ok",
     "timestamp": 1639887122865,
     "user": {
      "displayName": "홍경수",
      "photoUrl": "https://lh3.googleusercontent.com/a/default-user=s64",
      "userId": "10514684854108920109"
     },
     "user_tz": -540
    },
    "id": "AZCpoIwJ40KN",
    "outputId": "8e5b3664-68a8-4d3b-ab73-a03bf0fd46b3"
   },
   "outputs": [],
   "source": [
    "import pandas as pd"
   ]
  },
  {
   "cell_type": "code",
   "execution_count": 59,
   "metadata": {},
   "outputs": [
    {
     "name": "stdout",
     "output_type": "stream",
     "text": [
      "1.3.4\n"
     ]
    }
   ],
   "source": [
    "#버전출력!\n",
    "print(pd.__version__)"
   ]
  },
  {
   "cell_type": "markdown",
   "metadata": {
    "id": "3dHLU-ea482n"
   },
   "source": [
    "## 문제 2\n",
    "\n",
    "아래 list, numpy array, dictionary를 활용해 pandas series를 출력하세요\n",
    "\n",
    "```\n",
    "import numpy as np\n",
    "mylist = list('abcedfghijklmnopqrstuvwxyz')\n",
    "myarr = np.arange(26)\n",
    "mydict = dict(zip(mylist, myarr))\n",
    "```"
   ]
  },
  {
   "cell_type": "code",
   "execution_count": 61,
   "metadata": {},
   "outputs": [
    {
     "name": "stdout",
     "output_type": "stream",
     "text": [
      "ser1\n",
      "0     a\n",
      "1     b\n",
      "2     c\n",
      "3     d\n",
      "4     e\n",
      "5     f\n",
      "6     g\n",
      "7     h\n",
      "8     i\n",
      "9     j\n",
      "10    k\n",
      "11    l\n",
      "12    m\n",
      "13    n\n",
      "14    o\n",
      "15    p\n",
      "16    q\n",
      "17    r\n",
      "18    s\n",
      "19    t\n",
      "20    u\n",
      "21    v\n",
      "22    w\n",
      "23    x\n",
      "24    y\n",
      "25    z\n",
      "dtype: object\n",
      "ser2\n",
      "0     a\n",
      "1     b\n",
      "2     c\n",
      "3     d\n",
      "4     e\n",
      "5     f\n",
      "6     g\n",
      "7     h\n",
      "8     i\n",
      "9     j\n",
      "10    k\n",
      "11    l\n",
      "12    m\n",
      "13    n\n",
      "14    o\n",
      "15    p\n",
      "16    q\n",
      "17    r\n",
      "18    s\n",
      "19    t\n",
      "20    u\n",
      "21    v\n",
      "22    w\n",
      "23    x\n",
      "24    y\n",
      "25    z\n",
      "dtype: object\n",
      "ser3\n",
      "0     a\n",
      "1     b\n",
      "2     c\n",
      "3     d\n",
      "4     e\n",
      "5     f\n",
      "6     g\n",
      "7     h\n",
      "8     i\n",
      "9     j\n",
      "10    k\n",
      "11    l\n",
      "12    m\n",
      "13    n\n",
      "14    o\n",
      "15    p\n",
      "16    q\n",
      "17    r\n",
      "18    s\n",
      "19    t\n",
      "20    u\n",
      "21    v\n",
      "22    w\n",
      "23    x\n",
      "24    y\n",
      "25    z\n",
      "dtype: object\n"
     ]
    }
   ],
   "source": [
    "#answer\n",
    "import numpy as np\n",
    "mylist=list('abcdefghijklmnopqrstuvwxyz')\n",
    "#a,b,c 각 문자들이 하나의 리스트가 됨\n",
    "\n",
    "myarr=np.arange(26)\n",
    "mydict=dict(zip(mylist,myarr))\n",
    "\n",
    "ser1=pd.Series(mylist)\n",
    "print(\"ser1\")\n",
    "print(ser1)\n",
    "\n",
    "ser2=pd.Series(mylist)\n",
    "print(\"ser2\")\n",
    "print(ser2)\n",
    "\n",
    "ser3=pd.Series(mylist)\n",
    "print(\"ser3\")\n",
    "print(ser3)"
   ]
  },
  {
   "cell_type": "code",
   "execution_count": 9,
   "metadata": {},
   "outputs": [
    {
     "data": {
      "text/plain": [
       "a     0\n",
       "b     1\n",
       "c     2\n",
       "d     3\n",
       "e     4\n",
       "f     5\n",
       "g     6\n",
       "h     7\n",
       "i     8\n",
       "j     9\n",
       "k    10\n",
       "l    11\n",
       "m    12\n",
       "n    13\n",
       "o    14\n",
       "p    15\n",
       "q    16\n",
       "r    17\n",
       "s    18\n",
       "t    19\n",
       "u    20\n",
       "v    21\n",
       "w    22\n",
       "x    23\n",
       "y    24\n",
       "z    25\n",
       "dtype: int32"
      ]
     },
     "execution_count": 9,
     "metadata": {},
     "output_type": "execute_result"
    }
   ],
   "source": [
    "#my\n",
    "x=pd.Series(mydict)\n",
    "x"
   ]
  },
  {
   "cell_type": "markdown",
   "metadata": {
    "id": "ya-HavKO5fBn"
   },
   "source": [
    "## 문제 3\n",
    "\n",
    "두 series의 값을 포함하는 dataframe을 출력하세요\n",
    "```\n",
    "import numpy as np\n",
    "ser1 = pd.Series(list('abcedfghijklmnopqrstuvwxyz'))\n",
    "ser2 = pd.Series(np.arange(26))\n",
    "```"
   ]
  },
  {
   "cell_type": "code",
   "execution_count": null,
   "metadata": {
    "colab": {
     "base_uri": "https://localhost:8080/"
    },
    "executionInfo": {
     "elapsed": 265,
     "status": "ok",
     "timestamp": 1639887410321,
     "user": {
      "displayName": "홍경수",
      "photoUrl": "https://lh3.googleusercontent.com/a/default-user=s64",
      "userId": "10514684854108920109"
     },
     "user_tz": -540
    },
    "id": "tereS_oN5L1K",
    "outputId": "3800d5e0-7ea7-4eb1-d83f-843f6933505c"
   },
   "outputs": [
    {
     "name": "stdout",
     "output_type": "stream",
     "text": [
      "  index  0\n",
      "0     a  0\n",
      "1     b  1\n",
      "2     c  2\n",
      "3     e  3\n",
      "4     d  4\n"
     ]
    }
   ],
   "source": []
  },
  {
   "cell_type": "markdown",
   "metadata": {
    "id": "I-bzq5gw8_Hr"
   },
   "source": [
    "## 문제 4\n",
    "\n",
    "ser1 Series에서 ser2 Series에 있는 요소들을 제외한 나머지 요소를 출력하세요\n",
    "\n",
    "```\n",
    "ser1 = pd.Series([1, 2, 3, 4, 5])\n",
    "ser2 = pd.Series([4, 5, 6, 7, 8])\n",
    "```"
   ]
  },
  {
   "cell_type": "code",
   "execution_count": null,
   "metadata": {
    "colab": {
     "base_uri": "https://localhost:8080/"
    },
    "executionInfo": {
     "elapsed": 318,
     "status": "ok",
     "timestamp": 1639888219011,
     "user": {
      "displayName": "홍경수",
      "photoUrl": "https://lh3.googleusercontent.com/a/default-user=s64",
      "userId": "10514684854108920109"
     },
     "user_tz": -540
    },
    "id": "dMVdb8vs6BDy",
    "outputId": "0e6b1f3c-ffe7-4239-e2fa-743c6ac7105e"
   },
   "outputs": [
    {
     "data": {
      "text/plain": [
       "0    1\n",
       "1    2\n",
       "2    3\n",
       "dtype: int64"
      ]
     },
     "execution_count": 4,
     "metadata": {},
     "output_type": "execute_result"
    }
   ],
   "source": []
  },
  {
   "cell_type": "code",
   "execution_count": 65,
   "metadata": {},
   "outputs": [
    {
     "data": {
      "text/plain": [
       "0    1\n",
       "1    2\n",
       "2    3\n",
       "dtype: int64"
      ]
     },
     "execution_count": 65,
     "metadata": {},
     "output_type": "execute_result"
    }
   ],
   "source": [
    "#isin 함수\n",
    "ser1 = pd.Series([1, 2, 3, 4, 5])\n",
    "ser2 = pd.Series([4, 5, 6, 7, 8])\n",
    "\n",
    "ser1[~ser1.isin(ser2)]"
   ]
  },
  {
   "cell_type": "markdown",
   "metadata": {
    "id": "_hL4aMWJ9PvU"
   },
   "source": [
    "## 문제 5\n",
    "\n",
    "ser의 최소값, 25번째 백분위수(25th percentile), 중앙값(median), 75번째 백분위수(75th percentile) 및 최대값을 계산합니다. \n",
    "\n",
    "```\n",
    "\n",
    "ser = pd.Series(np.random.normal(10, 5, 25))\n",
    "```"
   ]
  },
  {
   "cell_type": "code",
   "execution_count": 66,
   "metadata": {},
   "outputs": [
    {
     "name": "stdout",
     "output_type": "stream",
     "text": [
      "-0.7565219416915383\n",
      "6.397972902090839\n",
      "9.0663274914234\n",
      "11.747515776310722\n",
      "16.137449449344892\n"
     ]
    }
   ],
   "source": [
    "#my\n",
    "ser = pd.Series(np.random.normal(10, 5, 25))\n",
    "print(ser.min())\n",
    "print(ser.quantile(.25))\n",
    "print(ser.median())\n",
    "print(ser.quantile(.75))\n",
    "print(ser.max())\n",
    "\n",
    "#normal 정규분포"
   ]
  },
  {
   "cell_type": "code",
   "execution_count": 68,
   "metadata": {},
   "outputs": [
    {
     "name": "stdout",
     "output_type": "stream",
     "text": [
      "count    25.000000\n",
      "mean      9.787988\n",
      "std       5.343851\n",
      "min      -2.906652\n",
      "25%       6.545369\n",
      "50%       8.104663\n",
      "75%      11.285741\n",
      "max      22.567455\n",
      "dtype: float64\n"
     ]
    },
    {
     "data": {
      "text/plain": [
       "array([-2.90665159,  6.54536869,  8.10466293, 11.28574139, 22.56745475])"
      ]
     },
     "execution_count": 68,
     "metadata": {},
     "output_type": "execute_result"
    }
   ],
   "source": [
    "ser = pd.Series(np.random.normal(10, 5, 25))\n",
    "print(ser.describe())\n",
    "np.percentile(ser,q=[0,25,50,75,100])"
   ]
  },
  {
   "cell_type": "markdown",
   "metadata": {
    "id": "xVbsEAeD9i_O"
   },
   "source": [
    "## 문제 6\n",
    "\n",
    "아래 ser Series의 각 고유 값과 빈도 수를 계산합니다.\n",
    "\n",
    "```\n",
    "ser = pd.Series(np.take(list('abcdefgh'), np.random.randint(8, size=30)))\n",
    "\n",
    "```"
   ]
  },
  {
   "cell_type": "code",
   "execution_count": null,
   "metadata": {
    "colab": {
     "base_uri": "https://localhost:8080/"
    },
    "executionInfo": {
     "elapsed": 302,
     "status": "ok",
     "timestamp": 1639959827696,
     "user": {
      "displayName": "Dasom Oh",
      "photoUrl": "https://lh3.googleusercontent.com/a/default-user=s64",
      "userId": "09774935410501776649"
     },
     "user_tz": -540
    },
    "id": "RL7sGUlE9_fR",
    "outputId": "bbb7021a-a3ac-4344-98e3-f7b2783da008"
   },
   "outputs": [
    {
     "data": {
      "text/plain": [
       "array(['a', 'h', 'd', 'd', 'e', 'a', 'f', 'h', 'c', 'g', 'c', 'd', 'c',\n",
       "       'e', 'c', 'a', 'h', 'a', 'f', 'g', 'e', 'd', 'f', 'c', 'a', 'e',\n",
       "       'f', 'g', 'f', 'f'], dtype='<U1')"
      ]
     },
     "execution_count": 2,
     "metadata": {},
     "output_type": "execute_result"
    }
   ],
   "source": []
  },
  {
   "cell_type": "code",
   "execution_count": 55,
   "metadata": {},
   "outputs": [
    {
     "name": "stdout",
     "output_type": "stream",
     "text": [
      "0     d\n",
      "1     b\n",
      "2     c\n",
      "3     a\n",
      "4     f\n",
      "5     f\n",
      "6     d\n",
      "7     f\n",
      "8     g\n",
      "9     f\n",
      "10    h\n",
      "11    h\n",
      "12    h\n",
      "13    g\n",
      "14    e\n",
      "15    c\n",
      "16    g\n",
      "17    a\n",
      "18    d\n",
      "19    g\n",
      "20    f\n",
      "21    h\n",
      "22    c\n",
      "23    c\n",
      "24    e\n",
      "25    g\n",
      "26    h\n",
      "27    c\n",
      "28    a\n",
      "29    h\n",
      "dtype: object\n",
      "30\n"
     ]
    }
   ],
   "source": [
    "###\n",
    "#np.take = 데이터의 행이나 열 추출\n",
    "ser = pd.Series(np.take(list('abcdefgh'), np.random.randint(8, size=30)))\n",
    "print(ser)"
   ]
  },
  {
   "cell_type": "markdown",
   "metadata": {
    "id": "5iDpNG8691id"
   },
   "source": [
    "## 문제 7\n",
    "\n",
    "Series ser을 7*5 행렬로 전환하세요\n",
    "전환시 재배열되는 요소의 순서는 아래 예시를 참고해주세요\n",
    "[0,1,2,3] \n",
    "=>  [ [0, 1]\n",
    "     ,[2, 3]] \n",
    "```\n",
    "ser = pd.Series(np.random.randint(1, 10, 35))\n",
    "```"
   ]
  },
  {
   "cell_type": "code",
   "execution_count": null,
   "metadata": {
    "colab": {
     "base_uri": "https://localhost:8080/"
    },
    "executionInfo": {
     "elapsed": 13,
     "status": "ok",
     "timestamp": 1639960285973,
     "user": {
      "displayName": "Dasom Oh",
      "photoUrl": "https://lh3.googleusercontent.com/a/default-user=s64",
      "userId": "09774935410501776649"
     },
     "user_tz": -540
    },
    "id": "Gq7oL98L9GeI",
    "outputId": "3081cc69-2b43-4aab-b696-723fa0c086d9"
   },
   "outputs": [
    {
     "name": "stdout",
     "output_type": "stream",
     "text": [
      "    0   1   2   3   4\n",
      "0   0   1   2   3   4\n",
      "1   5   6   7   8   9\n",
      "2  10  11  12  13  14\n",
      "3  15  16  17  18  19\n",
      "4  20  21  22  23  24\n",
      "5  25  26  27  28  29\n",
      "6  30  31  32  33  34\n"
     ]
    }
   ],
   "source": []
  },
  {
   "cell_type": "markdown",
   "metadata": {
    "id": "CRGfSjMj96H_"
   },
   "source": [
    "## 문제 8\n",
    "\n",
    "ser에서 3의 배수인 숫자의 위치를 찾으세요.\n",
    "```\n",
    "ser = pd.Series(np.random.randint(1, 10, 7))\n",
    "```"
   ]
  },
  {
   "cell_type": "code",
   "execution_count": 52,
   "metadata": {},
   "outputs": [
    {
     "name": "stdout",
     "output_type": "stream",
     "text": [
      "1    3\n",
      "5    3\n",
      "dtype: int32\n",
      "Int64Index([1, 5], dtype='int64')\n"
     ]
    }
   ],
   "source": [
    "#re!!\n",
    "ser = pd.Series(np.random.randint(1, 10, 7))\n",
    "x=pd.Series(ser[ser.mod(3)==0])\n",
    "print(x)\n",
    "print(x.index)"
   ]
  },
  {
   "cell_type": "markdown",
   "metadata": {
    "id": "8Bj1aHeT_iYX"
   },
   "source": [
    "## 문제 9\n",
    "\n",
    "ser1 및 ser2를 수직 및 수평으로 쌓은(stack) 값을 각각 Series 및 dataframe으로 출력하세요.\n",
    "```\n",
    "ser1 = pd.Series(range(5))\n",
    "ser2 = pd.Series(list('abcde'))\n",
    "```"
   ]
  },
  {
   "cell_type": "code",
   "execution_count": null,
   "metadata": {
    "colab": {
     "base_uri": "https://localhost:8080/"
    },
    "executionInfo": {
     "elapsed": 284,
     "status": "ok",
     "timestamp": 1639960862818,
     "user": {
      "displayName": "Dasom Oh",
      "photoUrl": "https://lh3.googleusercontent.com/a/default-user=s64",
      "userId": "09774935410501776649"
     },
     "user_tz": -540
    },
    "id": "prKT5o4o_iYY",
    "outputId": "49cede8e-dcb9-4df4-a509-17482b0e52c7"
   },
   "outputs": [
    {
     "name": "stdout",
     "output_type": "stream",
     "text": [
      "   0  1\n",
      "0  0  a\n",
      "1  1  b\n",
      "2  2  c\n",
      "3  3  d\n",
      "4  4  e\n"
     ]
    }
   ],
   "source": []
  },
  {
   "cell_type": "markdown",
   "metadata": {
    "id": "YvUVMuEv_if0"
   },
   "source": [
    "## 문제 10\n",
    "\n",
    "일련의 문자열을 datetime으로 변환해 주세요\n",
    "\n",
    "```\n",
    "ser = pd.Series(['01 Jan 2010', '02-02-2011', '20120303', '2013/04/04', '2014-05-05', '2015-06-06T12:20'])\n",
    "```"
   ]
  },
  {
   "cell_type": "code",
   "execution_count": 58,
   "metadata": {},
   "outputs": [
    {
     "data": {
      "text/plain": [
       "DatetimeIndex(['2010-01-01 00:00:00', '2011-02-02 00:00:00',\n",
       "               '2012-03-03 00:00:00', '2013-04-04 00:00:00',\n",
       "               '2014-05-05 00:00:00', '2015-06-06 12:20:00'],\n",
       "              dtype='datetime64[ns]', freq=None)"
      ]
     },
     "execution_count": 58,
     "metadata": {},
     "output_type": "execute_result"
    }
   ],
   "source": [
    "ser = pd.Series(['01 Jan 2010', '02-02-2011', '20120303', '2013/04/04', '2014-05-05', '2015-06-06T12:20'])\n",
    "ser = pd.to_datetime(['01 Jan 2010', '02-02-2011', '20120303', '2013/04/04', '2014-05-05', '2015-06-06T12:20'])\n",
    "ser"
   ]
  },
  {
   "cell_type": "code",
   "execution_count": null,
   "metadata": {
    "colab": {
     "base_uri": "https://localhost:8080/"
    },
    "executionInfo": {
     "elapsed": 283,
     "status": "ok",
     "timestamp": 1639961076788,
     "user": {
      "displayName": "Dasom Oh",
      "photoUrl": "https://lh3.googleusercontent.com/a/default-user=s64",
      "userId": "09774935410501776649"
     },
     "user_tz": -540
    },
    "id": "BB9V4kab_if0",
    "outputId": "6777df57-82ca-49ce-93a1-d35e0e1d0664"
   },
   "outputs": [
    {
     "name": "stdout",
     "output_type": "stream",
     "text": [
      "0   2010-01-01 00:00:00\n",
      "1   2011-02-02 00:00:00\n",
      "2   2012-03-03 00:00:00\n",
      "3   2013-04-04 00:00:00\n",
      "4   2014-05-05 00:00:00\n",
      "5   2015-06-06 12:20:00\n",
      "dtype: datetime64[ns]\n"
     ]
    },
    {
     "data": {
      "text/plain": [
       "0   2010-01-01 00:00:00\n",
       "1   2011-02-02 00:00:00\n",
       "2   2012-03-03 00:00:00\n",
       "3   2013-04-04 00:00:00\n",
       "4   2014-05-05 00:00:00\n",
       "5   2015-06-06 12:20:00\n",
       "dtype: datetime64[ns]"
      ]
     },
     "execution_count": 9,
     "metadata": {},
     "output_type": "execute_result"
    }
   ],
   "source": []
  },
  {
   "cell_type": "markdown",
   "metadata": {
    "id": "f4zDKpe4_iiZ"
   },
   "source": [
    "## 문제 11\n",
    "\n",
    "각 과일의 무게 평균 계산해 주세요 \n",
    "\n",
    "```\n",
    "fruit = pd.Series(np.random.choice(['apple', 'banana', 'carrot'], 10))\n",
    "weights = pd.Series(np.linspace(1, 10, 10))\n",
    "print(weight.tolist())\n",
    "print(fruit.tolist())\n",
    "```"
   ]
  },
  {
   "cell_type": "code",
   "execution_count": null,
   "metadata": {
    "colab": {
     "base_uri": "https://localhost:8080/"
    },
    "executionInfo": {
     "elapsed": 4,
     "status": "ok",
     "timestamp": 1639890077646,
     "user": {
      "displayName": "홍경수",
      "photoUrl": "https://lh3.googleusercontent.com/a/default-user=s64",
      "userId": "10514684854108920109"
     },
     "user_tz": -540
    },
    "id": "99zSEV_t_iiZ",
    "outputId": "40c63a69-1ec9-4e3b-f724-36e8d4dbaf31"
   },
   "outputs": [
    {
     "data": {
      "text/plain": [
       "apple     4.000000\n",
       "banana    7.333333\n",
       "carrot    5.666667\n",
       "dtype: float64"
      ]
     },
     "execution_count": 20,
     "metadata": {},
     "output_type": "execute_result"
    }
   ],
   "source": []
  },
  {
   "cell_type": "markdown",
   "metadata": {
    "id": "FZHTWI5Y_ikr"
   },
   "source": [
    "## 문제 12\n",
    "\n",
    "ser에 누락된 날짜와 값이 있습니다. 누락된 날짜를 모두 표시하고 이전 날짜의 값으로 채우십시오.\n",
    "\n",
    "```\n",
    "ser = pd.Series([1,10,3,np.nan], index=pd.to_datetime(['2000-01-01', '2000-01-03', '2000-01-06', '2000-01-08']))\n",
    "print(ser)\n",
    "#> 2000-01-01     1.0\n",
    "#> 2000-01-03    10.0\n",
    "#> 2000-01-06     3.0\n",
    "#> 2000-01-08     NaN\n",
    "#> dtype: float64\n",
    "```"
   ]
  },
  {
   "cell_type": "code",
   "execution_count": null,
   "metadata": {
    "colab": {
     "base_uri": "https://localhost:8080/"
    },
    "executionInfo": {
     "elapsed": 269,
     "status": "ok",
     "timestamp": 1639890888225,
     "user": {
      "displayName": "홍경수",
      "photoUrl": "https://lh3.googleusercontent.com/a/default-user=s64",
      "userId": "10514684854108920109"
     },
     "user_tz": -540
    },
    "id": "l7Guijzw_ikr",
    "outputId": "208428d3-58af-4ef7-b255-0269b6896173"
   },
   "outputs": [
    {
     "data": {
      "text/plain": [
       "2000-01-01     1.0\n",
       "2000-01-02    10.0\n",
       "2000-01-03    10.0\n",
       "2000-01-04     3.0\n",
       "2000-01-05     3.0\n",
       "2000-01-06     3.0\n",
       "2000-01-07     3.0\n",
       "2000-01-08     3.0\n",
       "Freq: D, dtype: float64"
      ]
     },
     "execution_count": 21,
     "metadata": {},
     "output_type": "execute_result"
    }
   ],
   "source": []
  },
  {
   "cell_type": "markdown",
   "metadata": {
    "id": "_Q22EOfl_imz"
   },
   "source": [
    "## 문제 13\n",
    "\n",
    "가격이 가장 높은 제조업체, 모델 및 유형은 무엇입니까?\n",
    "\n",
    "Price 값이 가장 높은 셀의 행과 열 번호는 무엇입니까?\n",
    "\n",
    "찾아낸 행과 열번호에 대응하는 값을 반환해주세요\n",
    "\n",
    "https://raw.githubusercontent.com/selva86/datasets/master/Cars93_miss.csv\n"
   ]
  },
  {
   "cell_type": "code",
   "execution_count": null,
   "metadata": {
    "colab": {
     "base_uri": "https://localhost:8080/"
    },
    "executionInfo": {
     "elapsed": 287,
     "status": "ok",
     "timestamp": 1639961935703,
     "user": {
      "displayName": "Dasom Oh",
      "photoUrl": "https://lh3.googleusercontent.com/a/default-user=s64",
      "userId": "09774935410501776649"
     },
     "user_tz": -540
    },
    "id": "dGBkTkAP_imz",
    "outputId": "44ade91e-29f1-4fa4-c636-63024a85fec4"
   },
   "outputs": [
    {
     "name": "stdout",
     "output_type": "stream",
     "text": [
      "[58]\n",
      "[4]\n",
      "61.9\n"
     ]
    },
    {
     "data": {
      "text/plain": [
       "61.9"
      ]
     },
     "execution_count": 16,
     "metadata": {},
     "output_type": "execute_result"
    }
   ],
   "source": []
  },
  {
   "cell_type": "markdown",
   "metadata": {
    "id": "H-GjEMVN_ipE"
   },
   "source": [
    "## 문제 14\n",
    "\n",
    "Type 열의 이름을 df에서 CarType으로 바꾸고 열 이름의 '.'를 '_'로 바꾸세요\n",
    "\n",
    "https://raw.githubusercontent.com/selva86/datasets/master/Cars93_miss.csv"
   ]
  },
  {
   "cell_type": "code",
   "execution_count": null,
   "metadata": {
    "colab": {
     "base_uri": "https://localhost:8080/"
    },
    "executionInfo": {
     "elapsed": 286,
     "status": "ok",
     "timestamp": 1639962417932,
     "user": {
      "displayName": "Dasom Oh",
      "photoUrl": "https://lh3.googleusercontent.com/a/default-user=s64",
      "userId": "09774935410501776649"
     },
     "user_tz": -540
    },
    "id": "j9lo7L5R_ipF",
    "outputId": "429d09f9-afc8-4639-b830-06c9577152c2"
   },
   "outputs": [
    {
     "name": "stdout",
     "output_type": "stream",
     "text": [
      "Index(['Manufacturer', 'Model', 'CarType', 'Min_Price', 'Price', 'Max_Price',\n",
      "       'MPG_city', 'MPG_highway', 'AirBags', 'DriveTrain', 'Cylinders',\n",
      "       'EngineSize', 'Horsepower', 'RPM', 'Rev_per_mile', 'Man_trans_avail',\n",
      "       'Fuel_tank_capacity', 'Passengers', 'Length', 'Wheelbase', 'Width',\n",
      "       'Turn_circle', 'Rear_seat_room', 'Luggage_room', 'Weight', 'Origin',\n",
      "       'Make'],\n",
      "      dtype='object')\n"
     ]
    }
   ],
   "source": []
  },
  {
   "cell_type": "markdown",
   "metadata": {
    "id": "fDl6BnTe_irO"
   },
   "source": [
    "## 문제 15\n",
    "\n",
    "df에 누락된 값이 있는지 확인하세요.\n",
    "\n",
    "입력: https://raw.githubusercontent.com/selva86/datasets/master/Cars93_miss.csv"
   ]
  },
  {
   "cell_type": "code",
   "execution_count": null,
   "metadata": {
    "id": "HZPGf4sz_irP"
   },
   "outputs": [],
   "source": []
  },
  {
   "cell_type": "markdown",
   "metadata": {
    "id": "gljgKa2a_itS"
   },
   "source": [
    "## 문제 16\n",
    "\n",
    "Min.Price 및 Max.Price 열의 누락된 값을 각각의 평균으로 교체하세요\n",
    "\n",
    "입력: df = pd.read_csv('https://raw.githubusercontent.com/selva86/datasets/master/Cars93_miss.csv')"
   ]
  },
  {
   "cell_type": "code",
   "execution_count": null,
   "metadata": {
    "colab": {
     "base_uri": "https://localhost:8080/"
    },
    "executionInfo": {
     "elapsed": 276,
     "status": "ok",
     "timestamp": 1639962593641,
     "user": {
      "displayName": "Dasom Oh",
      "photoUrl": "https://lh3.googleusercontent.com/a/default-user=s64",
      "userId": "09774935410501776649"
     },
     "user_tz": -540
    },
    "id": "CDT2W8uC_itS",
    "outputId": "dd7cdb62-fe60-4bee-9ffa-cda8661553b0"
   },
   "outputs": [
    {
     "name": "stdout",
     "output_type": "stream",
     "text": [
      "   Min.Price  Max.Price\n",
      "0  12.900000  18.800000\n",
      "1  29.200000  38.700000\n",
      "2  25.900000  32.300000\n",
      "3  17.118605  44.600000\n",
      "4  17.118605  21.459091\n"
     ]
    }
   ],
   "source": []
  }
 ],
 "metadata": {
  "colab": {
   "collapsed_sections": [],
   "name": "pandas 연습문제.ipynb",
   "provenance": []
  },
  "kernelspec": {
   "display_name": "Python 3 (ipykernel)",
   "language": "python",
   "name": "python3"
  },
  "language_info": {
   "codemirror_mode": {
    "name": "ipython",
    "version": 3
   },
   "file_extension": ".py",
   "mimetype": "text/x-python",
   "name": "python",
   "nbconvert_exporter": "python",
   "pygments_lexer": "ipython3",
   "version": "3.9.7"
  }
 },
 "nbformat": 4,
 "nbformat_minor": 1
}
