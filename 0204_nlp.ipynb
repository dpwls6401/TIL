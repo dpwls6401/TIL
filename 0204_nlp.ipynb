{
 "cells": [
  {
   "cell_type": "markdown",
   "id": "df7f5ce7",
   "metadata": {},
   "source": [
    "문서분류_스팸 필터링 예제"
   ]
  },
  {
   "cell_type": "code",
   "execution_count": 131,
   "id": "b5b0799f",
   "metadata": {},
   "outputs": [],
   "source": [
    "training_set = [ [\"me free lottery\", 1], \n",
    "[\"free get free you\", 1],\n",
    "[\"you free scholarship\", 0],\n",
    "[\"free to contact me\", 0],\n",
    "[\"you won award\", 0],\n",
    "[\"you ticket lottery\", 1]]"
   ]
  },
  {
   "cell_type": "code",
   "execution_count": 132,
   "id": "fa32f840",
   "metadata": {
    "scrolled": false
   },
   "outputs": [
    {
     "name": "stdout",
     "output_type": "stream",
     "text": [
      "defaultdict(<function <lambda> at 0x00000172AC970B88>, {'me': [1, 1], 'free': [2, 3], 'lottery': [0, 2], 'get': [0, 1], 'you': [2, 2], 'scholarship': [1, 0], 'to': [1, 0], 'contact': [1, 0], 'won': [1, 0], 'award': [1, 0], 'ticket': [0, 1]})\n",
      "10\n",
      "10\n"
     ]
    }
   ],
   "source": [
    "#spam:1, normal:0\n",
    "#dict={'award' : [1,0], ...} ~~각 단어에 대해 normal인것과 spam인것 분류\n",
    "#cnt_0\n",
    "#cnt_1\n",
    "\n",
    "from collections import defaultdict\n",
    "normal_cnt = 0\n",
    "spam_cnt = 0\n",
    "\n",
    "wordfreq = defaultdict(lambda : [0,0]) #key가 없으면 값을 [0,0]으로 세팅\n",
    "for doc, label in training_set:\n",
    "    words = doc.split()\n",
    "    for word in words:\n",
    "        wordfreq[word][label] +=1 #스팸) label이 1이면 1번째에 +1\n",
    "print(wordfreq)\n",
    "\n",
    "for key, (cnt0, cnt1) in wordfreq.items():\n",
    "    normal_cnt += cnt0\n",
    "    spam_cnt += cnt1\n",
    "print(normal_cnt)\n",
    "print(spam_cnt)"
   ]
  },
  {
   "cell_type": "markdown",
   "id": "59c96c76",
   "metadata": {},
   "source": [
    "Laplace Smoothing"
   ]
  },
  {
   "cell_type": "code",
   "execution_count": 133,
   "id": "a12c71e0",
   "metadata": {
    "scrolled": true
   },
   "outputs": [
    {
     "data": {
      "text/plain": [
       "defaultdict(<function __main__.<lambda>()>,\n",
       "            {'me': [0.13636363636363635, 0.13636363636363635],\n",
       "             'free': [0.22727272727272727, 0.3181818181818182],\n",
       "             'lottery': [0.045454545454545456, 0.22727272727272727],\n",
       "             'get': [0.045454545454545456, 0.13636363636363635],\n",
       "             'you': [0.22727272727272727, 0.22727272727272727],\n",
       "             'scholarship': [0.13636363636363635, 0.045454545454545456],\n",
       "             'to': [0.13636363636363635, 0.045454545454545456],\n",
       "             'contact': [0.13636363636363635, 0.045454545454545456],\n",
       "             'won': [0.13636363636363635, 0.045454545454545456],\n",
       "             'award': [0.13636363636363635, 0.045454545454545456],\n",
       "             'ticket': [0.045454545454545456, 0.13636363636363635]})"
      ]
     },
     "execution_count": 133,
     "metadata": {},
     "output_type": "execute_result"
    }
   ],
   "source": [
    "#wordprob = {\"award\" : [0.1364,0.0455], ...}\n",
    "k=0.5\n",
    "wordprob = defaultdict(lambda : [0,0])\n",
    "\n",
    "for key, (cnt0,cnt1) in wordfreq.items():\n",
    "    wordprob[key][0] = (k + cnt0) / (2*k + normal_cnt)\n",
    "    wordprob[key][1] = (k + cnt1) / (2*k + spam_cnt)\n",
    "wordprob"
   ]
  },
  {
   "cell_type": "markdown",
   "id": "9c627a0d",
   "metadata": {},
   "source": [
    "log 이용한 underflow 방지"
   ]
  },
  {
   "cell_type": "code",
   "execution_count": 134,
   "id": "2bc27d84",
   "metadata": {},
   "outputs": [
    {
     "name": "stdout",
     "output_type": "stream",
     "text": [
      "0.00516528925619835\n",
      "0.03615702479338842\n"
     ]
    }
   ],
   "source": [
    "#교안 p.42 수식 참고\n",
    "doc = \"free lottery\"\n",
    "tokens = doc.split()\n",
    "\n",
    "import math\n",
    "log_prob0, log_prob1 = 0.0, 0.0 #초기값\n",
    "\n",
    "for word, (prob0,prob1) in wordprob.items():\n",
    "    if word in tokens:\n",
    "        log_prob0 += math.log(prob0)\n",
    "        log_prob1 += math.log(prob1)\n",
    "        \n",
    "log_prob0 += math.log(normal_cnt / (normal_cnt + spam_cnt))\n",
    "log_prob1 += math.log(spam_cnt / (normal_cnt + spam_cnt))\n",
    "\n",
    "prob0 = math.exp(log_prob0)\n",
    "prob1 = math.exp(log_prob1)\n",
    "\n",
    "print(prob0)\n",
    "print(prob1)"
   ]
  },
  {
   "cell_type": "code",
   "execution_count": 135,
   "id": "4a16453d",
   "metadata": {
    "scrolled": true
   },
   "outputs": [
    {
     "name": "stdout",
     "output_type": "stream",
     "text": [
      "정상확률12.5%\n",
      "스팸확률87.5%\n"
     ]
    }
   ],
   "source": [
    "print(\"정상확률{:.1f}%\".format(prob0 / (prob0 + prob1) * 100))\n",
    "print(\"스팸확률{:.1f}%\".format(prob1 / (prob0 + prob1) * 100))"
   ]
  },
  {
   "cell_type": "markdown",
   "id": "a949a69e",
   "metadata": {},
   "source": [
    "들어오는 단어에 따라 정상/스팸 확률 다르게 구하는 함수"
   ]
  },
  {
   "cell_type": "code",
   "execution_count": 139,
   "id": "882da095",
   "metadata": {},
   "outputs": [
    {
     "name": "stdout",
     "output_type": "stream",
     "text": [
      "0.0030991735537190075\n",
      "0.009297520661157025\n"
     ]
    }
   ],
   "source": [
    "def get_prob(doc):\n",
    "    tokens = doc.split()\n",
    "\n",
    "    log_prob0, log_prob1 = 0.0, 0.0\n",
    "\n",
    "    for word, (prob0,prob1) in wordprob.items():\n",
    "        if word in tokens:\n",
    "            log_prob0 += math.log(prob0)\n",
    "            log_prob1 += math.log(prob1)\n",
    "\n",
    "    log_prob0 += math.log(normal_cnt / (normal_cnt + spam_cnt))\n",
    "    log_prob1 += math.log(spam_cnt / (normal_cnt + spam_cnt))\n",
    "\n",
    "    prob0 = math.exp(log_prob0)\n",
    "    prob1 = math.exp(log_prob1)\n",
    "    \n",
    "    return prob0,prob1\n",
    "\n",
    "doc = 'me ticket'\n",
    "prob0, prob1 = get_prob(doc)\n",
    "\n",
    "print(prob0)\n",
    "print(prob1)"
   ]
  }
 ],
 "metadata": {
  "kernelspec": {
   "display_name": "nlp",
   "language": "python",
   "name": "nlp"
  },
  "language_info": {
   "codemirror_mode": {
    "name": "ipython",
    "version": 3
   },
   "file_extension": ".py",
   "mimetype": "text/x-python",
   "name": "python",
   "nbconvert_exporter": "python",
   "pygments_lexer": "ipython3",
   "version": "3.7.11"
  }
 },
 "nbformat": 4,
 "nbformat_minor": 5
}
