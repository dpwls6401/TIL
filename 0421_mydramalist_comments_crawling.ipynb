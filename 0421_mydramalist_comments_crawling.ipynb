{
 "cells": [
  {
   "cell_type": "code",
   "execution_count": 7,
   "id": "740702a4-e4d8-4d4b-abc3-3f3a2adb9b41",
   "metadata": {
    "ExecuteTime": {
     "end_time": "2022-04-20T14:20:54.330307Z",
     "start_time": "2022-04-20T14:20:54.213967Z"
    }
   },
   "outputs": [],
   "source": [
    "import time\n",
    "from bs4 import BeautifulSoup\n",
    "from tqdm.auto import tqdm\n",
    "from selenium.webdriver import Chrome\n",
    "from selenium.webdriver.common.by import By\n",
    "from selenium.webdriver.common.keys import Keys\n",
    "from selenium.webdriver.support.ui import WebDriverWait\n",
    "from selenium.webdriver.support import expected_conditions as EC\n",
    "from selenium import webdriver\n",
    "from selenium.common.exceptions import TimeoutException\n",
    "from selenium.webdriver.chrome.service import Service\n",
    "\n",
    "import pandas as pd\n",
    "import numpy as np\n",
    "\n",
    "import warnings\n",
    "warnings.filterwarnings('ignore')"
   ]
  },
  {
   "cell_type": "markdown",
   "id": "66c56f9e",
   "metadata": {
    "heading_collapsed": true
   },
   "source": [
    "### 드라마 Dictionary"
   ]
  },
  {
   "cell_type": "code",
   "execution_count": 14,
   "id": "4ae41889",
   "metadata": {
    "ExecuteTime": {
     "end_time": "2022-04-20T13:54:08.872819Z",
     "start_time": "2022-04-20T13:54:08.851319Z"
    },
    "hidden": true
   },
   "outputs": [],
   "source": [
    "urls = {'마우스': 'https://mydramalist.com/58953-mouse',\n",
    "        '검법남녀시즌1': 'https://mydramalist.com/28412-investigation-couple',\n",
    "        '엉클': 'https://mydramalist.com/60409-uncle',\n",
    "        '하늘에서내리는일억개의별': 'https://mydramalist.com/23520-hundred-million-stars-from-the-sky',\n",
    "        '우수무당가두심': 'https://mydramalist.com/698573-shaman-girl-ga-doo-shim',\n",
    "        '오징어게임': 'https://mydramalist.com/40257-round-six',\n",
    "        '킹덤시즌1': 'https://mydramalist.com/22806-kingdom',\n",
    "        '킹덤시즌2': 'https://mydramalist.com/32220-kingdom-2',\n",
    "        '스카이캐슬': 'https://mydramalist.com/30740-sky-castle',\n",
    "        '호텔델루나': 'https://mydramalist.com/32925-hotel-del-luna',\n",
    "        '비밀의숲2': 'https://mydramalist.com/27361-stranger-2',\n",
    "        '갯마을차차차': 'https://mydramalist.com/683929-mr-hong',\n",
    "        '아는와이프': 'https://mydramalist.com/27759-wife-that-i-know',\n",
    "        '원더우먼': 'https://mydramalist.com/683767-wonder-woman',\n",
    "        '오월의청춘': 'https://mydramalist.com/74275-youth-of-may',\n",
    "        '이구역의미친X': 'https://mydramalist.com/79527-the-crazy-guy-in-the-district',\n",
    "        '라켓소년단': 'https://mydramalist.com/75433-rocket-boy-squad',\n",
    "        '언프레임드': 'https://mydramalist.com/697577-unframed',\n",
    "        '마녀식당으로오세요': 'https://mydramalist.com/61491-come-to-witch-s-restaurant',\n",
    "        '연애미수': 'https://mydramalist.com/50769-failing-in-love',\n",
    "        '홈타운': 'https://mydramalist.com/688745-hometown',\n",
    "        '트웬티트웬티': 'https://mydramalist.com/57791-twenty-twenty',\n",
    "        '지옥': 'https://mydramalist.com/57415-hell',\n",
    "        '인간수업': 'https://mydramalist.com/34221-human-lessons',\n",
    "        '슬기로운의사생활2': 'https://mydramalist.com/57173-hospital-playlist-2',\n",
    "        '사이코지만괜찮아': 'https://mydramalist.com/49865-psycho-but-it-s-okay',\n",
    "        '어쩌다발견한하루': 'https://mydramalist.com/33768-july-found-by-chance',\n",
    "        '낭만닥터김사부2': 'https://mydramalist.com/38301-romantic-doctor-teacher-kim-2',\n",
    "        '365:운명을거스르는1년': 'https://mydramalist.com/50717-365-one-year-against-destiny',\n",
    "        '검법남녀시즌2': 'https://mydramalist.com/32917-partners-for-justice-2',\n",
    "        '에이틴시즌1': 'https://mydramalist.com/29784-a-teen',\n",
    "        '미스티': 'https://mydramalist.com/24221-misty',\n",
    "        '방법': 'https://mydramalist.com/38939-method',\n",
    "        '연애플레이리스트시즌4': 'https://mydramalist.com/34188-love-playlist-season-4',\n",
    "        '대박부동산': 'https://mydramalist.com/71995-daebak-real-estate',\n",
    "        '산후조리원': 'https://mydramalist.com/58367-postnatal-care-center',\n",
    "        '의사요한': 'https://mydramalist.com/32966-doctor-room',\n",
    "        '좋좋소시즌1': 'https://mydramalist.com/723619-damn-good-company',\n",
    "        '며느라기': 'https://mydramalist.com/62237-daughter-in-law',\n",
    "        '아름다운세상': 'https://mydramalist.com/32507-beautiful-world',\n",
    "        '녹두꽃': 'https://mydramalist.com/32127-ugeumchi',\n",
    "        '안녕나야': 'https://mydramalist.com/61327-hi',\n",
    "        '커피한잔할까요': 'https://mydramalist.com/700277-shall-i-have-a-cup-of-coffee',\n",
    "        '바람이분다': 'https://mydramalist.com/33338-the-wind-blows',\n",
    "        '백수세끼': 'https://mydramalist.com/707557-three-hundreds-of-meals',\n",
    "        '트랩': 'https://mydramalist.com/30933-trap',\n",
    "        '좀예민해도괜찮아시즌1': 'https://mydramalist.com/30463-it-s-okay-to-be-sensitive',\n",
    "        '뷰티인사이드': 'https://mydramalist.com/26295-the-beauty-inside',\n",
    "        '라이브': 'https://mydramalist.com/24015-live',\n",
    "        '로맨스는별책부록': 'https://mydramalist.com/30894-romance-is-a-bonus-book',\n",
    "        '유미의세포들': 'https://mydramalist.com/60627-yumi-s-cell',\n",
    "        '18어게인': 'https://mydramalist.com/52941-eighteen-again',\n",
    "        '서른이지만열일곱입니다': 'https://mydramalist.com/28327-thirty-but-seventeen',\n",
    "        '60일지정생존자': 'https://mydramalist.com/32227-designated-survivor',\n",
    "        '하이애나': 'https://mydramalist.com/36297-hyena',\n",
    "        '으라차차와이키키시즌1': 'https://mydramalist.com/26644-eulachacha-waikiki',\n",
    "        '왕이된남자': 'https://mydramalist.com/30468-masquerade',\n",
    "        '한번다녀왔습니다': 'https://mydramalist.com/44611-i-have-been-there-once',\n",
    "        '나빌레라': 'https://mydramalist.com/59381-navillera',\n",
    "        '출사표': 'https://mydramalist.com/55675-the-ballot',\n",
    "        '작은신의아이들': 'https://mydramalist.com/26177-children-of-the-lesser-god',\n",
    "        \n",
    "        '나의흑역사오답노트': 'https://mydramalist.com/30764-drama-special-season-9-my-embarrassing-days',\n",
    "        'My Fuxxxxx Romance': 'https://mydramalist.com/74307-my-fuxxxxx-romance',\n",
    "        '거짓말의거짓말': 'https://mydramalist.com/54715-lie-of-a-lie',\n",
    "        '봄이오나봄': 'https://mydramalist.com/31562-spring-must-be-coming',\n",
    "        '퍼퓸': 'https://mydramalist.com/33185-perfume',\n",
    "        '모두그곳에있다': 'https://mydramalist.com/52109-drama-stage-season-3-everyone-is-there',\n",
    "        '어른연습생': 'https://mydramalist.com/709541-adult-trainee',\n",
    "        '보쌈-운명을훔치다': 'https://mydramalist.com/63267-bossam-stealing-destiny',\n",
    "        '나쁜형사': 'https://mydramalist.com/27403-luther',\n",
    "        '사당보다먼의정부보다가까운시즌3': 'https://mydramalist.com/30070-between-friendship-and-love-3',\n",
    "        \n",
    "        '뫼비우스:검은태양': 'https://mydramalist.com/713291-moebius-the-veil',\n",
    "        '우아한친구들': 'https://mydramalist.com/35735-elegant-friends',\n",
    "        '꽃피면달생각하고': 'https://mydramalist.com/687857-when-flowers-bloom-i-think-of-the-moon',\n",
    "        '블루버스데이': 'https://mydramalist.com/695431-blue-birthday',\n",
    "        '미스터기간제': 'https://mydramalist.com/33949-mr-fixed-term',\n",
    "        '소녀의세계': 'https://mydramalist.com/54923-girl-s-world',\n",
    "        '본대로말하라': 'https://mydramalist.com/39017-call-it-like-you-see-it',\n",
    "        '언더커버': 'https://mydramalist.com/59121-undercover',\n",
    "        '인서울-내가독립하는유일한방법': 'https://mydramalist.com/39199-in-seoul',\n",
    "        '땐뽀걸즈': 'https://mydramalist.com/31004-dance-sports-girls',\n",
    "        \n",
    "        '타임즈': 'https://mydramalist.com/62235-times',\n",
    "        '은주의방': 'https://mydramalist.com/31143-eun-joo-s-room',\n",
    "        '시를잊은그대에게': 'https://mydramalist.com/25174-you-who-forgot-poetry',\n",
    "        '월간집': 'https://mydramalist.com/59909-monthly-house',\n",
    "        '자백': 'https://mydramalist.com/31904-confession',\n",
    "        '미치치않고서야': 'https://mydramalist.com/67305-not-crazy',\n",
    "        '신의퀴즈5': 'https://mydramalist.com/29391-god-s-quiz-season-5',\n",
    "        '내뒤에테리우스': 'https://mydramalist.com/27703-terius-behind-me',\n",
    "        '한사람만': 'https://mydramalist.com/686407-only-one-person',\n",
    "        '이런꽃같은엔딩': 'https://mydramalist.com/27404-flower-ever-after',\n",
    "        '라이브온': 'https://mydramalist.com/62495-untitled',\n",
    "        '이리와안아줘': 'https://mydramalist.com/27310-come-here-and-give-me-a-hug',\n",
    "        '단하나의사랑': 'https://mydramalist.com/32362-love-of-my-life',\n",
    "        '달리와감자탕': 'https://mydramalist.com/687131-dali-and-gamjatang',\n",
    "        '추리의여왕2': 'https://mydramalist.com/24393-queen-of-mystery-2',\n",
    "        '특별근로감독관조장풍': 'https://mydramalist.com/32684-special-labor-inspector-jo',\n",
    "        '연애플레이리스트시즌3': 'https://mydramalist.com/30789-love-playlist-season-3',\n",
    "        '에이틴시즌2': 'https://mydramalist.com/33343-a-teen-season-2',\n",
    "        '엑스엑스': 'https://mydramalist.com/42045-blue-moon',\n",
    "        '사의찬미': 'https://mydramalist.com/28078-praise-of-death'\n",
    "        }"
   ]
  },
  {
   "cell_type": "code",
   "execution_count": 3,
   "id": "3a31c40e-e0c8-4a89-95ad-71765681d999",
   "metadata": {
    "ExecuteTime": {
     "end_time": "2022-04-20T13:54:10.016436Z",
     "start_time": "2022-04-20T13:54:10.012438Z"
    },
    "hidden": true
   },
   "outputs": [],
   "source": [
    "options =  webdriver.ChromeOptions()\n",
    "# options.add_argument(\"headless\")\n",
    "options.add_argument(\"--no-sandbox\")\n",
    "options.add_argument(\"--disable-dev-shm-usage\")\n",
    "chrome_driver_path = '/opt/homebrew/Caskroom/chromedriver/99.0.4844.51/chromedriver'"
   ]
  },
  {
   "cell_type": "markdown",
   "id": "3e7cbc32",
   "metadata": {},
   "source": [
    "### 스크롤 다운 함수"
   ]
  },
  {
   "cell_type": "code",
   "execution_count": 4,
   "id": "bd62866b-df0b-4a80-b802-9d7af8b37705",
   "metadata": {
    "ExecuteTime": {
     "end_time": "2022-04-20T13:54:10.537632Z",
     "start_time": "2022-04-20T13:54:10.529778Z"
    }
   },
   "outputs": [],
   "source": [
    "def scroll_down(second):\n",
    "    driver.execute_script(\"window.scrollTo(0, document.documentElement.scrollHeight);\")\n",
    "    time.sleep(second)\n",
    "    new = driver.execute_script(\"return document.documentElement.scrollHeight\")\n",
    "    \n",
    "    return new"
   ]
  },
  {
   "cell_type": "code",
   "execution_count": 5,
   "id": "856ec12a-9d73-4e34-9d36-2949b374e8db",
   "metadata": {
    "ExecuteTime": {
     "end_time": "2022-04-20T08:10:40.299685Z",
     "start_time": "2022-04-20T08:10:40.288150Z"
    }
   },
   "outputs": [],
   "source": [
    "def get_comments(elem, dictionary):\n",
    "    if elem is None:\n",
    "        return \n",
    "    \n",
    "    post_body = elem.find_element(By.CSS_SELECTOR, \".post-body\")\n",
    "    if post_body is None:\n",
    "        return \n",
    "    \n",
    "    try:\n",
    "        user = post_body.find_element(By.CSS_SELECTOR, \".post-header a\").text\n",
    "    \n",
    "        comment_elem = post_body.find_element(By.CSS_SELECTOR, \".post-message\")\n",
    "        comment = comment_elem.text.strip()\n",
    "\n",
    "        if comment == \"Reveal Spoiler\":\n",
    "\n",
    "            anchor = comment_elem.find_element(By.CSS_SELECTOR, \"a\")\n",
    "            driver.execute_script('arguments[0].click();', anchor)\n",
    "\n",
    "            time.sleep(0.2)\n",
    "            comment = comment_elem.find_element(By.CSS_SELECTOR, \".spoiler\").text\n",
    "        elif comment == \"Hide Spoiler\":\n",
    "            comment = comment_elem.find_element(By.CSS_SELECTOR, \".spoiler\").text\n",
    "        \n",
    "        dictionary['reviews'].append(comment)\n",
    "    \n",
    "    except:\n",
    "        pass\n",
    "    \n",
    "    try:\n",
    "        children = elem.find_element(By.CSS_SELECTOR, \"ul\")\n",
    "        if children:\n",
    "            li = children.find_element(By.CSS_SELECTOR, \"li\")\n",
    "            get_comments(li)\n",
    "    except:\n",
    "        pass"
   ]
  },
  {
   "cell_type": "markdown",
   "id": "587f4db4",
   "metadata": {},
   "source": [
    "### 크롤링"
   ]
  },
  {
   "cell_type": "code",
   "execution_count": null,
   "id": "bc62e339-4348-4c70-9a22-57ee76ebbe56",
   "metadata": {
    "ExecuteTime": {
     "end_time": "2022-04-20T14:54:45.261925Z",
     "start_time": "2022-04-20T14:53:20.224263Z"
    }
   },
   "outputs": [
    {
     "data": {
      "application/vnd.jupyter.widget-view+json": {
       "model_id": "4cafd23bfe234706a7f7fd0037ca8074",
       "version_major": 2,
       "version_minor": 0
      },
      "text/plain": [
       "  0%|          | 0/18 [00:00<?, ?it/s]"
      ]
     },
     "metadata": {},
     "output_type": "display_data"
    },
    {
     "name": "stdout",
     "output_type": "stream",
     "text": [
      "보좌관:세상을움직이는사람들 끝!!\n"
     ]
    },
    {
     "data": {
      "application/vnd.jupyter.widget-view+json": {
       "model_id": "798606779e434b7dad23a0be5ce718f7",
       "version_major": 2,
       "version_minor": 0
      },
      "text/plain": [
       "  0%|          | 0/188 [00:00<?, ?it/s]"
      ]
     },
     "metadata": {},
     "output_type": "display_data"
    },
    {
     "name": "stdout",
     "output_type": "stream",
     "text": [
      "키마이라 끝!!\n"
     ]
    },
    {
     "data": {
      "application/vnd.jupyter.widget-view+json": {
       "model_id": "d62d4abea68d4b17acf648a4da41ed89",
       "version_major": 2,
       "version_minor": 0
      },
      "text/plain": [
       "  0%|          | 0/1 [00:00<?, ?it/s]"
      ]
     },
     "metadata": {},
     "output_type": "display_data"
    },
    {
     "name": "stdout",
     "output_type": "stream",
     "text": [
      "며느라기2...ing 끝!!\n"
     ]
    },
    {
     "data": {
      "application/vnd.jupyter.widget-view+json": {
       "model_id": "f7b499c17b824b519eb9ba20aee56896",
       "version_major": 2,
       "version_minor": 0
      },
      "text/plain": [
       "  0%|          | 0/366 [00:00<?, ?it/s]"
      ]
     },
     "metadata": {},
     "output_type": "display_data"
    },
    {
     "name": "stdout",
     "output_type": "stream",
     "text": [
      "김비서가왜그럴까 끝!!\n"
     ]
    },
    {
     "data": {
      "application/vnd.jupyter.widget-view+json": {
       "model_id": "f6a58b505b564b06b7a5ce4fcc815a7a",
       "version_major": 2,
       "version_minor": 0
      },
      "text/plain": [
       "  0%|          | 0/801 [00:00<?, ?it/s]"
      ]
     },
     "metadata": {},
     "output_type": "display_data"
    },
    {
     "name": "stdout",
     "output_type": "stream",
     "text": [
      "부부의세계 끝!!\n"
     ]
    },
    {
     "data": {
      "application/vnd.jupyter.widget-view+json": {
       "model_id": "a746eddcf82a44289a2c33468dbb3324",
       "version_major": 2,
       "version_minor": 0
      },
      "text/plain": [
       "  0%|          | 0/512 [00:00<?, ?it/s]"
      ]
     },
     "metadata": {},
     "output_type": "display_data"
    },
    {
     "name": "stdout",
     "output_type": "stream",
     "text": [
      "그녀의사생활 끝!!\n"
     ]
    },
    {
     "data": {
      "application/vnd.jupyter.widget-view+json": {
       "model_id": "fa433d9523b34e24b66be39297488203",
       "version_major": 2,
       "version_minor": 0
      },
      "text/plain": [
       "  0%|          | 0/717 [00:00<?, ?it/s]"
      ]
     },
     "metadata": {},
     "output_type": "display_data"
    },
    {
     "name": "stdout",
     "output_type": "stream",
     "text": [
      "로스쿨 끝!!\n"
     ]
    },
    {
     "data": {
      "application/vnd.jupyter.widget-view+json": {
       "model_id": "a0b1f1e470fc469d87cc72216cb46386",
       "version_major": 2,
       "version_minor": 0
      },
      "text/plain": [
       "  0%|          | 0/196 [00:00<?, ?it/s]"
      ]
     },
     "metadata": {},
     "output_type": "display_data"
    },
    {
     "name": "stdout",
     "output_type": "stream",
     "text": [
      "구경이 끝!!\n"
     ]
    },
    {
     "data": {
      "application/vnd.jupyter.widget-view+json": {
       "model_id": "33dc5a22ee6b419692bf1ba65dea102a",
       "version_major": 2,
       "version_minor": 0
      },
      "text/plain": [
       "  0%|          | 0/144 [00:00<?, ?it/s]"
      ]
     },
     "metadata": {},
     "output_type": "display_data"
    },
    {
     "name": "stdout",
     "output_type": "stream",
     "text": [
      "무브투헤븐:나는유품정리사입니다 끝!!\n"
     ]
    },
    {
     "data": {
      "application/vnd.jupyter.widget-view+json": {
       "model_id": "7536072bc44f49ebad2f63e1f8675602",
       "version_major": 2,
       "version_minor": 0
      },
      "text/plain": [
       "  0%|          | 0/5058 [00:00<?, ?it/s]"
      ]
     },
     "metadata": {},
     "output_type": "display_data"
    }
   ],
   "source": [
    "driver = webdriver.Chrome(chrome_driver_path, options=options)\n",
    "for k,v in urls.items():\n",
    "    reviews_dict = {\n",
    "    'title' : [],\n",
    "    'reviews' : []\n",
    "    }\n",
    "    driver.get(v)\n",
    "    time.sleep(4)\n",
    "    \n",
    "    last_height = driver.execute_script(\"return document.documentElement.scrollHeight\")\n",
    "    time.sleep(2)\n",
    "    while True:\n",
    "        new_height = scroll_down(2)\n",
    "        if new_height == last_height:\n",
    "            try:\n",
    "                button = driver.find_element_by_css_selector('#cmtsapp > div.box-footer > button')\n",
    "                driver.execute_script(\"arguments[0].click();\", button)\n",
    "                time.sleep(1)\n",
    "            except:\n",
    "                break\n",
    "        last_height = new_height\n",
    "    \n",
    "    buttons = driver.find_elements_by_class_name('reveal')\n",
    "    for button in tqdm(buttons):\n",
    "        driver.execute_script(\"arguments[0].click();\", button)\n",
    "    \n",
    "    html = driver.page_source\n",
    "    soup = BeautifulSoup(html, 'lxml')\n",
    "    reviews = soup.find_all(\"div\", {\"class\": \"post-message\"})\n",
    "    \n",
    "    for review in reviews:\n",
    "        reviews_dict['title'].append(k)\n",
    "        reviews_dict['reviews'].append(review.p.text)\n",
    "    \n",
    "    df = pd.DataFrame(reviews_dict)\n",
    "    csv = df.to_csv(f\"/Users/yejin/comments_mydramalist/{k}_mydramalist.csv\")\n",
    "    csv = pd.read_csv(f\"/Users/yejin/comments_mydramalist/{k}_mydramalist.csv\")\n",
    "    csv.drop(['Unnamed: 0'], axis=1, inplace=True)\n",
    "    \n",
    "    print(f\"{k} 끝!!\") "
   ]
  },
  {
   "cell_type": "code",
   "execution_count": null,
   "id": "ac1a96c4",
   "metadata": {},
   "outputs": [],
   "source": []
  }
 ],
 "metadata": {
  "hide_input": false,
  "kernelspec": {
   "display_name": "Python 3 (ipykernel)",
   "language": "python",
   "name": "python3"
  },
  "language_info": {
   "codemirror_mode": {
    "name": "ipython",
    "version": 3
   },
   "file_extension": ".py",
   "mimetype": "text/x-python",
   "name": "python",
   "nbconvert_exporter": "python",
   "pygments_lexer": "ipython3",
   "version": "3.9.7"
  },
  "toc": {
   "base_numbering": 1,
   "nav_menu": {},
   "number_sections": true,
   "sideBar": true,
   "skip_h1_title": false,
   "title_cell": "Table of Contents",
   "title_sidebar": "Contents",
   "toc_cell": false,
   "toc_position": {},
   "toc_section_display": true,
   "toc_window_display": false
  },
  "varInspector": {
   "cols": {
    "lenName": 16,
    "lenType": 16,
    "lenVar": 40
   },
   "kernels_config": {
    "python": {
     "delete_cmd_postfix": "",
     "delete_cmd_prefix": "del ",
     "library": "var_list.py",
     "varRefreshCmd": "print(var_dic_list())"
    },
    "r": {
     "delete_cmd_postfix": ") ",
     "delete_cmd_prefix": "rm(",
     "library": "var_list.r",
     "varRefreshCmd": "cat(var_dic_list()) "
    }
   },
   "types_to_exclude": [
    "module",
    "function",
    "builtin_function_or_method",
    "instance",
    "_Feature"
   ],
   "window_display": false
  }
 },
 "nbformat": 4,
 "nbformat_minor": 5
}
