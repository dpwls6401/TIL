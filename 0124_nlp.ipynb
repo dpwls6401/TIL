{
 "cells": [
  {
   "cell_type": "code",
   "execution_count": 1,
   "id": "8f1efb9f",
   "metadata": {},
   "outputs": [],
   "source": [
    "from konlpy.tag import Hannanum,Kkma,Komoran,Mecab,Okt\n",
    "hannanum=Hannanum()\n",
    "kkma=Kkma()\n",
    "komoran=Komoran()\n",
    "mecab=Mecab()\n",
    "okt=Okt()\n",
    "#형태소 분석기들"
   ]
  },
  {
   "cell_type": "code",
   "execution_count": 2,
   "id": "5d489565",
   "metadata": {},
   "outputs": [],
   "source": [
    "import re\n",
    "\n",
    "import requests\n",
    "from bs4 import BeautifulSoup"
   ]
  },
  {
   "cell_type": "code",
   "execution_count": 3,
   "id": "0464af16",
   "metadata": {},
   "outputs": [],
   "source": [
    "url=\"https://news.naver.com/main/read.naver?mode=LS2D&mid=shm&sid1=101&sid2=258&oid=015&aid=0004655938\"\n",
    "headers = {'user-agent':\"Mozilla/5.0 (Windows NT 10.0; Win64; x64) AppleWebKit/537.36 (KHTML, like Gecko) Chrome/97.0.4692.71 Safari/537.36\"}\n",
    "response=requests.get(url,headers=headers)\n",
    "html=BeautifulSoup(response.text,'html.parser')"
   ]
  },
  {
   "cell_type": "code",
   "execution_count": 5,
   "id": "e39397a0",
   "metadata": {},
   "outputs": [
    {
     "data": {
      "text/plain": [
       "'\\n\\n\\n\\n\\n오늘은 중국주식에 투자하는 분이라면 한 번 쯤은 들어보셨을 법한, 하지만 너무 복잡하고 낯설어서 잘 이해가 가지 않는 얘기를 좀 해보려고 합니다. 중국 기업이 해외에 상장할 때 쓰는 독특한 구조인 가변이익실체 얘깁니다. 영어로는 variable interest entity, 줄여서 VIE라고 하는데요. 그동안 베이징나우나 기사를 통해서 몇 번 소개해 드리긴 했는데, 최근 중국이 새로 규정도 만들고 해서 이번 기회에 종합 정리를 좀 해볼까 합니다.사진=REUTERS 지분 관계 없이 계약으로만 기업을 지배지난해 많은 투자자들을 울린 디디추싱을 예로 들어서 설명을 좀 해보겠습니다. 가변이익실체에는 보통 4개의 회사가 등장합니다. 벌써 복잡해지기 시작하죠?1번, 편의상 A라고 하겠습니다. A는 중국에서 사업하는 실체 회사입니다. 디디추싱에 대입해 보면, 밑에 중국 전역에서 디디추싱이라는 이름으로 승차호출 서비스를 하고 있는 여러 자회사들을 거느리고 있는 지주회사인 베이징샤오쥐라고 하겠습니다.2번은 A를 지배하는 페이퍼컴퍼니인 B입니다. B는 A의 주식을 한 주도 갖지 않습니다. 그냥 B가 A를 지배한다는 계약만 맺습니다. 이 계약이 가변이익실체 구조의 핵심입니다. 물론 A와 B의 실제 주인은 똑같습니다. 그러니 A가 계약을 파기하거나 할 우려는 매우 적습니다. 디디추싱에 대입하면 베이징디디라는 페이퍼컴퍼니입니다.여기까지는 중국 본토 내 기업들이고요, 다음은 본토 밖 기업들입니다. 3번은 B를 100% 보유하는 홍콩 페이퍼컴퍼니입니다. C라고 하겠습니다. 디디추싱에선 홍콩샤오쥐입니다. 아까 중국 본토 지주회사가 베이징샤오쥐라고 했는데요, 홍콩 페이퍼컴퍼니는 홍콩샤오쥐입니다. 샤오쥐는 귤인데요, 디디추싱은 자전거 공유 브랜드에는 칭쥐, 청귤이라는 이름을 붙였습니다. 귤을 여기저기에 갖다 붙이고 있습니다.4번이자 D는 홍콩 페이퍼컴퍼니를 100% 보유하는 해외 페이퍼컴퍼니입니다. 보통 조세회피처인 영국령 케이만이나 버진아일랜드에 세웁니다. 디디추싱은 이걸 디디글로벌이라는 이름을 붙였습니다. 그리고 미국 뉴욕에 상장한 게 이 디디글로벌입니다. 미국 홍콩엔 페이퍼컴퍼니가 상장거꾸로 정리해 보면 D는 케이만군도에 설립된 페이퍼컴퍼니이고, 이게 뉴욕에 상장을 했습니다. 뉴욕증시에서 디디추싱 주식을 산 사람은 중국에서 실제로 사업을 하는 디디추싱 내지는 지주회사인 베이징샤오쥐의 주식을 산 게 아니라 페이퍼컴퍼니 주식을 산 겁니다. 하지만 그 실체는 중국 디디추싱하고 다를 바가 없긴 합니다. 디디추싱이 올리는 실적을 페이퍼컴퍼니인 디디글로벌이 미국 증권감독위원회에 자기 실적이라고 보고하고요, 미국도 이런 방식을 인정합니다.미국에 상장한 페이퍼컴퍼니가 홍콩 페이퍼컴퍼니인 C를 100% 보유하고요, 이 C가 중국 본토 페이퍼컴퍼니인 B를 100% 보유합니다. 그리고 B는 실제로 사업을 하는 실체인 A와 지배 계약을 맺고 있습니다. D가 미국에서 IPO를 하면서 조달한 자금은 A에게 대출을 해줍니다. A는 그런 식으로 자금을 확보하는 거고요.사족을 하나 달자면 우리가 말하는 가변이익실체, VIE는 중국에서 사업하는 실체인 A를 말합니다. 중요한 건 아닌데요, 많은 분들이 VIE를 미국에 상장하는 페이퍼컴퍼니로 생각하셔서 참고로 말씀드립니다. 이게 중요한 건 아니고요, 중요한 건 VIE를 활용하는 상장 구조를 이해하는 거라고 하겠습니다. 외국인의 자국 기업 소유 제한하는 중국이런 복잡한 구조가 왜 나왔을까요. 이유는 간단합니다. 특정 산업군에서 외국인이 중국 기업 지분을 보유하는 것을 원칙적으로 막아놨기 때문입니다. 스포츠 문화 교육 과학기술연구 이런 부문이고요, 또 대표적으로 인터넷 산업이 있습니다. 또 본토증시는 상장 요건이 매우 까다롭습니다. 그래서 페이퍼컴퍼니를 만들어서 뉴욕이나 홍콩에 상장을 하는 거죠.물론 당국의 허가를 받으면 외국인도 해당 산업군의 기업 지분을 가질 수 있습니다. 외국 기업과 합작사도 많고요. 하지만 주식시장에선 수시로 소유권이 바뀌죠. 그때마다 허가를 받을 수도 없고요. 그러니까 페이퍼컴퍼니를 외국에 상장시켜서 외국인이 그 주식을 사도록 하면, 외국인이 중국 본토에 있는 가변이익실체의 주식을 갖는 건 아니니까 중국 법 위반도 아니게 되는 겁니다.중국 내에서 증권 계좌를 만든 외국인은 중국 본토 주식을 살 수 있습니다. 외국인도 중국에서 세금을 내고 하는 몇 가지 요건을 갖추면 계좌를 만들 수 있고요. 또 홍콩거래소 교차매매시스템인 선강퉁과 후강퉁을 통해서 중국 본토주식을 살 수도 있습니다. 그런 면에서 외국인이 중국 기업을 소유하지 못하게 하는 규제는 투자 측면에서는 의미가 크게 줄어들기도 했습니다. 빅테크 압박 수단으로 VIE 규제?중국 당국은 이제까지 이런 가변이익실체 구조를 묵인해 왔습니다. 관련 규정도 없었죠. 기업들이 해외에서 달러를 조달해서 중국으로 가져온다는 면에서 굳이 막을 필요성도 못 느꼈던 것 같습니다. 하지만 2020년 하반기부터 빅테크 압박을 본격화하면서 가변이익실체도 규제할 것이란 분석이 제기됐습니다.알리바바나 디디추싱 같은 기업들이 중국에서 사업하면서 돈을 버는데, 상장은 해외에서 해서 주가가 오르면 중국인들에게는 주가 상승 혜택이 돌아가지 않는 것 아니냐, 이런 지적이 나온 겁니다. 한국에서도 쿠팡이 뉴욕에 상장할 때 일부 정치인들이 국부 유출 논란을 제기했는데, 중국에서도 비슷한 논란이 일어난 거죠. 정치인 수준이 중국이나 한국이나 비슷하다고 하겠습니다.주로 미국 외신들은 중국이 가변이익실체 해외 상장을 금지할 거다, 그렇게 되면 미국에 상장한 중국 기업들이 다 상장폐지가 될 거다, 투자자들은 주의해야 한다 이런 식의 기사를 계속 써왔습니다.중국 증권감독위원회가 작년 말에 공식 입장을 내놨습니다. 요약하면 \"국내 법을 준수하는 기업은 VIE 구조를 활용해서 해외에 상장할 수 있다\"입니다.증감위가 제시한 조건들은 다음과 같습니다.국내 법을 준수할 것, 국가 안보를 위협하지 않을 것, 주요 주주나 경영진이 최근 3년 간 법적 조사를 받거나 기소된 적이 없을 것, 그리고 핵심 자산과 기술의 해외 유출 가능성이 없을 것 이렇게입니다.증감위는 또 기존에 VIE 방식으로 상장한 기업들에는 이 규정을 적용하지 않겠다고도 했습니다.  해외 상장 사실상 금지그런데 중국 당국이 내놓은 조건들을 보면 이게 앞으로 VIE 구조를 통한 해외 상장을 허가해 주겠다는 건지 아닌 건지 좀 헷갈리긴 합니다. 저는 중국이 제도와 규정은 만들어 놨지만 실제로 해외 상장을 허가해 주지는 않는 상태를 당분간 유지할 것으로 보고 있습니다. 요즘 같은 분위기에서 굳이 해외에 상장하려는 기업도 별로 없을 것이고요.또 해외 상장 승인 권한을 주무부처가 갖도록 했는데, 주무부처 장관이 책임지고 승인을 해주는 경우도 거의 없을 것으로 보입니다.중국은 또 기업이 해외 상장을 승인받는다고 해도 외국자본은 대상 기업의 경영에 직접 참여할 수 없도록 했고요, 단일 외국자본은 대상 기업 지분을 10% 이내에서만 보유할 수 있고 전체 외국자본 지분도 30%를 넘어서는 안 된다는 규정도 추가했습니다. 홍콩만 열어줘최근에 나온 중국 기업의 해외 상장 관련 규정에서 주목할 부분은 홍콩입니다. 중국은 작년에 디디추싱이 당국이 말리는데도 뉴욕 상장을 강행하자 국가안보 카드를 들고 나왔죠. 사용자 100만명 이상인 인터넷 기업이 해외에 상장하려면 국가보안 심사를 받도록 했습니다.중국 당국은 그동안 이 규정이 홍콩 상장에도 적용된다고 해왔습니다. 그런데 지난 4일 내놓은 새 규정을 보면 작지만 큰 변경이 있었습니다. 그 이전에는 경외 상장이라는 표현을 했는데 이번에는 해외 상장이라는 말로 바꾼 겁니다. 경외는 국경 밖이라는 의미인데, 중국에서는 중국 본토와 홍콩마카오를 구분할 때 경외라는 말을 씁니다. 그리고 해외는 중국본토와 홍콩마카오를 포함한 큰 의미의 중국과 나머지 외국을 구분할 때 씁니다. 결국 홍콩 상장에는 국가보안 심사를 면제해 주겠다는 얘깁니다.이건 중국이 홍콩을 아시아의 자본시장 허브로 계속 키우겠다는 방침을 보여주기도 하고요, 또 한편으로는 중국 공산당과 정부가 홍콩 자본시장을 컨트롤할 수 있다는 자신감을 보여주는 장면이라고도 하겠습니다.새 규정은 뉴욕에서 홍콩으로 이전을 추진하고 있는 디디추싱에게는 희소식이라고 하겠습니다. 국가안보 심사라는 높은 허들을 넘지 않아도 되기 때문이죠. 또 미국이 중국 기업에 대한 회계 감사를 강화할 방침이어서 뉴욕에 상장된 중국 기업들 다수가 홍콩 2차 상장을 추진하고 있는데, 이 과정도 좀 속도가 날 것으로 보입니다. 올해 50개 넘는 기업이 홍콩에 2차 상장을 할 것이란 얘기도 있는데요, 홍콩 증시도 이걸 계기로 활기를 좀 찾을 것으로 기대됩니다. 투자 대상 선별 필요가변이익실체 관련 규정도 만들고, 해외 상장 절차도 정비하고, 홍콩은 예외로 해주고 한 이런 일련의 정책들을 보면 결국 중국이 미국과의 갈등과 경쟁에서 비롯되는 리스크를 최소화하겠다는 방침이 밑바닥에 깔려 있다고 하겠습니다.내수 장사로만 먹고사는 인터넷 기업들은 앞으로 계속 찬밥 대접을 받을 것이고요, 반도체나 인공지능, 신재생에너지 같은 핵심 과학기술과 기후변화 대응이라는 키워드를 갖고 있는 기업들은 전략적으로 지원을 이어갈 겁니다. 중국 주식 투자도 이런 기업들로 포커스를 맞추는 게 바람직해 보입니다.베이징=강현우 특파원 hkang@hankyung.com\\n\\n'"
      ]
     },
     "execution_count": 5,
     "metadata": {},
     "output_type": "execute_result"
    }
   ],
   "source": [
    "#기사 본문 가져오기\n",
    "article=html.select_one(\"#articleBodyContents\").text\n",
    "article"
   ]
  },
  {
   "cell_type": "code",
   "execution_count": 9,
   "id": "cbab6560",
   "metadata": {},
   "outputs": [
    {
     "data": {
      "text/plain": [
       "68"
      ]
     },
     "execution_count": 9,
     "metadata": {},
     "output_type": "execute_result"
    }
   ],
   "source": [
    "#문장 단위로 끊기\n",
    "from nltk import sent_tokenize\n",
    "\n",
    "sentences=sent_tokenize(article)\n",
    "len(sentences)"
   ]
  },
  {
   "cell_type": "code",
   "execution_count": 12,
   "id": "7a0944c4",
   "metadata": {},
   "outputs": [
    {
     "data": {
      "text/plain": [
       "'오늘은 중국주식에 투자하는 분이라면 한 번 쯤은 들어보셨을 법한, 하지만 너무 복잡하고 낯설어서 잘 이해가 가지 않는 얘기를 좀 해보려고 합니다.'"
      ]
     },
     "execution_count": 12,
     "metadata": {},
     "output_type": "execute_result"
    }
   ],
   "source": [
    "sentence=sentences[0].strip()\n",
    "sentence"
   ]
  },
  {
   "cell_type": "code",
   "execution_count": 13,
   "id": "ff75b3dd",
   "metadata": {},
   "outputs": [],
   "source": [
    "#kss; pip install kss\n",
    "#한국어 문장 분리기; 문장 잘 분리 but 메모리 문제"
   ]
  },
  {
   "cell_type": "code",
   "execution_count": 14,
   "id": "00c25d67",
   "metadata": {},
   "outputs": [
    {
     "data": {
      "text/plain": [
       "['오늘',\n",
       " '은',\n",
       " '중국',\n",
       " '주식',\n",
       " '에',\n",
       " '투자',\n",
       " '하',\n",
       " '는',\n",
       " '분',\n",
       " '이',\n",
       " '라면',\n",
       " '한',\n",
       " '번',\n",
       " '쯤',\n",
       " '은',\n",
       " '들',\n",
       " '어',\n",
       " '보',\n",
       " '시',\n",
       " '었',\n",
       " '을',\n",
       " '법',\n",
       " '하',\n",
       " 'ㄴ',\n",
       " ',',\n",
       " '하지만',\n",
       " '너무',\n",
       " '복잡',\n",
       " '하',\n",
       " '고',\n",
       " '낯설',\n",
       " '어서',\n",
       " '잘',\n",
       " '이해',\n",
       " '가',\n",
       " '가지',\n",
       " '않',\n",
       " '는',\n",
       " '얘기',\n",
       " '를',\n",
       " '좀',\n",
       " '해보',\n",
       " '려고',\n",
       " '하',\n",
       " 'ㅂ니다',\n",
       " '.']"
      ]
     },
     "execution_count": 14,
     "metadata": {},
     "output_type": "execute_result"
    }
   ],
   "source": [
    "#komoran: 형태소 분석, fast\n",
    "komoran.morphs(sentence) "
   ]
  },
  {
   "cell_type": "code",
   "execution_count": 15,
   "id": "64c1d7f1",
   "metadata": {},
   "outputs": [
    {
     "data": {
      "text/plain": [
       "['오늘',\n",
       " '은',\n",
       " '중국주식',\n",
       " '에',\n",
       " '투자하',\n",
       " '는',\n",
       " '분',\n",
       " '이',\n",
       " '라면',\n",
       " '하',\n",
       " 'ㄴ',\n",
       " '번',\n",
       " '쯤',\n",
       " '은',\n",
       " '들',\n",
       " '어',\n",
       " '보',\n",
       " '셨을',\n",
       " '법',\n",
       " '하',\n",
       " 'ㄴ',\n",
       " ',',\n",
       " '하',\n",
       " '지만',\n",
       " '너무',\n",
       " '복잡',\n",
       " '하고',\n",
       " '낯설',\n",
       " '어서',\n",
       " '잘',\n",
       " '이해',\n",
       " '가',\n",
       " '가지',\n",
       " '않',\n",
       " '는',\n",
       " '얘',\n",
       " '이',\n",
       " '기',\n",
       " '를',\n",
       " '좀',\n",
       " '하',\n",
       " '어',\n",
       " '보',\n",
       " '려고',\n",
       " '하',\n",
       " 'ㅂ니다',\n",
       " '.']"
      ]
     },
     "execution_count": 15,
     "metadata": {},
     "output_type": "execute_result"
    }
   ],
   "source": [
    "#hannanum: 때에 따라 형태소 분석기 두세개정도 돌려서 비교 해보기\n",
    "hannanum.morphs(sentence)"
   ]
  },
  {
   "cell_type": "code",
   "execution_count": 16,
   "id": "35e35369",
   "metadata": {},
   "outputs": [
    {
     "data": {
      "text/plain": [
       "['오늘',\n",
       " '은',\n",
       " '중국',\n",
       " '주식',\n",
       " '에',\n",
       " '투자',\n",
       " '하는',\n",
       " '분이라면',\n",
       " '한',\n",
       " '번',\n",
       " '쯤',\n",
       " '은',\n",
       " '들어',\n",
       " '보셨을',\n",
       " '법',\n",
       " '한',\n",
       " ',',\n",
       " '하지만',\n",
       " '너무',\n",
       " '복잡하고',\n",
       " '낯설어서',\n",
       " '잘',\n",
       " '이해',\n",
       " '가',\n",
       " '가지',\n",
       " '않는',\n",
       " '얘기',\n",
       " '를',\n",
       " '좀',\n",
       " '해보려고',\n",
       " '합니다',\n",
       " '.']"
      ]
     },
     "execution_count": 16,
     "metadata": {},
     "output_type": "execute_result"
    }
   ],
   "source": [
    "#okt\n",
    "okt.morphs(sentence)"
   ]
  },
  {
   "cell_type": "code",
   "execution_count": 17,
   "id": "d4e3f5b2",
   "metadata": {},
   "outputs": [
    {
     "data": {
      "text/plain": [
       "['오늘',\n",
       " '은',\n",
       " '중국',\n",
       " '주식',\n",
       " '에',\n",
       " '투자',\n",
       " '하',\n",
       " '는',\n",
       " '분',\n",
       " '이',\n",
       " '라면',\n",
       " '한',\n",
       " '번',\n",
       " '쯤',\n",
       " '은',\n",
       " '들어보',\n",
       " '시',\n",
       " '었',\n",
       " '을',\n",
       " '법',\n",
       " '하',\n",
       " 'ㄴ',\n",
       " ',',\n",
       " '하지만',\n",
       " '너무',\n",
       " '복잡',\n",
       " '하',\n",
       " '고',\n",
       " '낯설',\n",
       " '어서',\n",
       " '잘',\n",
       " '이해',\n",
       " '가',\n",
       " '가',\n",
       " '지',\n",
       " '않',\n",
       " '는',\n",
       " '얘기',\n",
       " '를',\n",
       " '좀',\n",
       " '해보',\n",
       " '려고',\n",
       " '하',\n",
       " 'ㅂ니다',\n",
       " '.']"
      ]
     },
     "execution_count": 17,
     "metadata": {},
     "output_type": "execute_result"
    }
   ],
   "source": [
    "#kkma; 오래 걸림\n",
    "kkma.morphs(sentence)"
   ]
  },
  {
   "cell_type": "code",
   "execution_count": 18,
   "id": "1b26d5d2",
   "metadata": {},
   "outputs": [
    {
     "data": {
      "text/plain": [
       "['오늘',\n",
       " '은',\n",
       " '중국',\n",
       " '주식',\n",
       " '에',\n",
       " '투자',\n",
       " '하',\n",
       " '는',\n",
       " '분',\n",
       " '이',\n",
       " '라면',\n",
       " '한',\n",
       " '번',\n",
       " '쯤',\n",
       " '은',\n",
       " '들',\n",
       " '어',\n",
       " '보',\n",
       " '셨',\n",
       " '을',\n",
       " '법',\n",
       " '한',\n",
       " ',',\n",
       " '하지만',\n",
       " '너무',\n",
       " '복잡',\n",
       " '하',\n",
       " '고',\n",
       " '낯설',\n",
       " '어서',\n",
       " '잘',\n",
       " '이해',\n",
       " '가',\n",
       " '가',\n",
       " '지',\n",
       " '않',\n",
       " '는',\n",
       " '얘기',\n",
       " '를',\n",
       " '좀',\n",
       " '해',\n",
       " '보',\n",
       " '려고',\n",
       " '합니다',\n",
       " '.']"
      ]
     },
     "execution_count": 18,
     "metadata": {},
     "output_type": "execute_result"
    }
   ],
   "source": [
    "#mecab; 잘게 쪼개짐\n",
    "#morphs: 형태소별로 잘라주는 역할\n",
    "mecab.morphs(sentence)"
   ]
  },
  {
   "cell_type": "code",
   "execution_count": 19,
   "id": "178d7c29",
   "metadata": {},
   "outputs": [
    {
     "data": {
      "text/plain": [
       "[('오늘', 'NNG'),\n",
       " ('은', 'JX'),\n",
       " ('중국', 'NNP'),\n",
       " ('주식', 'NNP'),\n",
       " ('에', 'JKB'),\n",
       " ('투자', 'NNG'),\n",
       " ('하', 'XSV'),\n",
       " ('는', 'ETM'),\n",
       " ('분', 'NNB'),\n",
       " ('이', 'VCP'),\n",
       " ('라면', 'EC'),\n",
       " ('한', 'MM'),\n",
       " ('번', 'NNB'),\n",
       " ('쯤', 'NNB'),\n",
       " ('은', 'JX'),\n",
       " ('들', 'VV'),\n",
       " ('어', 'EC'),\n",
       " ('보', 'VX'),\n",
       " ('시', 'EP'),\n",
       " ('었', 'EP'),\n",
       " ('을', 'ETM'),\n",
       " ('법', 'NNG'),\n",
       " ('하', 'XSV'),\n",
       " ('ㄴ', 'ETM'),\n",
       " (',', 'SP'),\n",
       " ('하지만', 'MAJ'),\n",
       " ('너무', 'MAG'),\n",
       " ('복잡', 'XR'),\n",
       " ('하', 'XSA'),\n",
       " ('고', 'EC'),\n",
       " ('낯설', 'VA'),\n",
       " ('어서', 'EC'),\n",
       " ('잘', 'MAG'),\n",
       " ('이해', 'NNG'),\n",
       " ('가', 'JKS'),\n",
       " ('가지', 'NNB'),\n",
       " ('않', 'VX'),\n",
       " ('는', 'ETM'),\n",
       " ('얘기', 'NNG'),\n",
       " ('를', 'JKO'),\n",
       " ('좀', 'MAG'),\n",
       " ('해보', 'VV'),\n",
       " ('려고', 'EC'),\n",
       " ('하', 'VX'),\n",
       " ('ㅂ니다', 'EF'),\n",
       " ('.', 'SF')]"
      ]
     },
     "execution_count": 19,
     "metadata": {},
     "output_type": "execute_result"
    }
   ],
   "source": [
    "#komoran으로 pos tagging; 각 형태소의 품사 붙여줌\n",
    "#각 tag 정보는 직접 구글링해서 무슨 의미인지 찾아봐야 함\n",
    "komoran.pos(sentence)"
   ]
  },
  {
   "cell_type": "code",
   "execution_count": 20,
   "id": "693ce4a4",
   "metadata": {
    "scrolled": false
   },
   "outputs": [
    {
     "data": {
      "text/plain": [
       "[('오늘', 'NNG'),\n",
       " ('은', 'JX'),\n",
       " ('중국', 'NNP'),\n",
       " ('주식', 'NNG'),\n",
       " ('에', 'JKB'),\n",
       " ('투자', 'NNG'),\n",
       " ('하', 'XSV'),\n",
       " ('는', 'ETM'),\n",
       " ('분', 'NNB'),\n",
       " ('이', 'VCP'),\n",
       " ('라면', 'EC'),\n",
       " ('한', 'MM'),\n",
       " ('번', 'NNBC'),\n",
       " ('쯤', 'NNG'),\n",
       " ('은', 'JX'),\n",
       " ('들', 'VV'),\n",
       " ('어', 'EC'),\n",
       " ('보', 'VX'),\n",
       " ('셨', 'EP+EP'),\n",
       " ('을', 'ETM'),\n",
       " ('법', 'NNG'),\n",
       " ('한', 'XSA+ETM'),\n",
       " (',', 'SC'),\n",
       " ('하지만', 'MAJ'),\n",
       " ('너무', 'MAG'),\n",
       " ('복잡', 'XR'),\n",
       " ('하', 'XSA'),\n",
       " ('고', 'EC'),\n",
       " ('낯설', 'VA'),\n",
       " ('어서', 'EC'),\n",
       " ('잘', 'MAG'),\n",
       " ('이해', 'NNG'),\n",
       " ('가', 'JKS'),\n",
       " ('가', 'VV'),\n",
       " ('지', 'EC'),\n",
       " ('않', 'VX'),\n",
       " ('는', 'ETM'),\n",
       " ('얘기', 'NNG'),\n",
       " ('를', 'JKO'),\n",
       " ('좀', 'MAG'),\n",
       " ('해', 'VV+EC'),\n",
       " ('보', 'VX'),\n",
       " ('려고', 'EC'),\n",
       " ('합니다', 'VX+EF'),\n",
       " ('.', 'SF')]"
      ]
     },
     "execution_count": 20,
     "metadata": {},
     "output_type": "execute_result"
    }
   ],
   "source": [
    "mecab.pos(sentence)"
   ]
  },
  {
   "cell_type": "markdown",
   "id": "4a3209ac",
   "metadata": {},
   "source": [
    "ngram"
   ]
  },
  {
   "cell_type": "code",
   "execution_count": 21,
   "id": "97d8009a",
   "metadata": {},
   "outputs": [],
   "source": [
    "import nltk\n",
    "from nltk import bigrams,word_tokenize\n",
    "from nltk.util import ngrams"
   ]
  },
  {
   "cell_type": "code",
   "execution_count": 22,
   "id": "b1adcb35",
   "metadata": {},
   "outputs": [
    {
     "data": {
      "text/plain": [
       "<generator object bigrams at 0x0000026D1F0CCE48>"
      ]
     },
     "execution_count": 22,
     "metadata": {},
     "output_type": "execute_result"
    }
   ],
   "source": [
    "bigram_list=bigrams(mecab.morphs(sentence))\n",
    "bigram_list\n",
    "#generator 클래스: 내부적으로 next 구현(return 대신 yield; next 호출할 때마다 yield 하나씩 호출)\n",
    "#전체 데이터를 한번에 메모리에 올리지 x, 부분부분 올리기 위함"
   ]
  },
  {
   "cell_type": "code",
   "execution_count": 23,
   "id": "18cbcbcf",
   "metadata": {},
   "outputs": [
    {
     "name": "stdout",
     "output_type": "stream",
     "text": [
      "('오늘', '은')\n",
      "('은', '중국')\n",
      "('중국', '주식')\n",
      "('주식', '에')\n",
      "('에', '투자')\n",
      "('투자', '하')\n",
      "('하', '는')\n",
      "('는', '분')\n",
      "('분', '이')\n",
      "('이', '라면')\n",
      "('라면', '한')\n",
      "('한', '번')\n",
      "('번', '쯤')\n",
      "('쯤', '은')\n",
      "('은', '들')\n",
      "('들', '어')\n",
      "('어', '보')\n",
      "('보', '셨')\n",
      "('셨', '을')\n",
      "('을', '법')\n",
      "('법', '한')\n",
      "('한', ',')\n",
      "(',', '하지만')\n",
      "('하지만', '너무')\n",
      "('너무', '복잡')\n",
      "('복잡', '하')\n",
      "('하', '고')\n",
      "('고', '낯설')\n",
      "('낯설', '어서')\n",
      "('어서', '잘')\n",
      "('잘', '이해')\n",
      "('이해', '가')\n",
      "('가', '가')\n",
      "('가', '지')\n",
      "('지', '않')\n",
      "('않', '는')\n",
      "('는', '얘기')\n",
      "('얘기', '를')\n",
      "('를', '좀')\n",
      "('좀', '해')\n",
      "('해', '보')\n",
      "('보', '려고')\n",
      "('려고', '합니다')\n",
      "('합니다', '.')\n"
     ]
    }
   ],
   "source": [
    "for token in bigram_list: #range도 for 돌릴 때마다 next를 호출하는 generator\n",
    "    print(token)"
   ]
  },
  {
   "cell_type": "code",
   "execution_count": 24,
   "id": "111f226e",
   "metadata": {},
   "outputs": [
    {
     "data": {
      "text/plain": [
       "<zip at 0x26d1eca9d48>"
      ]
     },
     "execution_count": 24,
     "metadata": {},
     "output_type": "execute_result"
    }
   ],
   "source": [
    "trigram_list=ngrams(mecab.morphs(sentence), 3) #pad_right; 숫자 안 맞을 때 옵션, default는 안 맞을 때 그냥 자름\n",
    "trigram_list"
   ]
  },
  {
   "cell_type": "code",
   "execution_count": 25,
   "id": "80227965",
   "metadata": {
    "scrolled": true
   },
   "outputs": [
    {
     "name": "stdout",
     "output_type": "stream",
     "text": [
      "('오늘', '은', '중국')\n",
      "('은', '중국', '주식')\n",
      "('중국', '주식', '에')\n",
      "('주식', '에', '투자')\n",
      "('에', '투자', '하')\n",
      "('투자', '하', '는')\n",
      "('하', '는', '분')\n",
      "('는', '분', '이')\n",
      "('분', '이', '라면')\n",
      "('이', '라면', '한')\n",
      "('라면', '한', '번')\n",
      "('한', '번', '쯤')\n",
      "('번', '쯤', '은')\n",
      "('쯤', '은', '들')\n",
      "('은', '들', '어')\n",
      "('들', '어', '보')\n",
      "('어', '보', '셨')\n",
      "('보', '셨', '을')\n",
      "('셨', '을', '법')\n",
      "('을', '법', '한')\n",
      "('법', '한', ',')\n",
      "('한', ',', '하지만')\n",
      "(',', '하지만', '너무')\n",
      "('하지만', '너무', '복잡')\n",
      "('너무', '복잡', '하')\n",
      "('복잡', '하', '고')\n",
      "('하', '고', '낯설')\n",
      "('고', '낯설', '어서')\n",
      "('낯설', '어서', '잘')\n",
      "('어서', '잘', '이해')\n",
      "('잘', '이해', '가')\n",
      "('이해', '가', '가')\n",
      "('가', '가', '지')\n",
      "('가', '지', '않')\n",
      "('지', '않', '는')\n",
      "('않', '는', '얘기')\n",
      "('는', '얘기', '를')\n",
      "('얘기', '를', '좀')\n",
      "('를', '좀', '해')\n",
      "('좀', '해', '보')\n",
      "('해', '보', '려고')\n",
      "('보', '려고', '합니다')\n",
      "('려고', '합니다', '.')\n"
     ]
    }
   ],
   "source": [
    "for token in trigram_list:\n",
    "    print(token)"
   ]
  },
  {
   "cell_type": "code",
   "execution_count": 27,
   "id": "1b2ad069",
   "metadata": {},
   "outputs": [
    {
     "name": "stdout",
     "output_type": "stream",
     "text": [
      "Collecting pandas\n",
      "  Downloading pandas-1.3.5-cp37-cp37m-win_amd64.whl (10.0 MB)\n",
      "Requirement already satisfied: python-dateutil>=2.7.3 in c:\\users\\yejin\\.conda\\envs\\nlp\\lib\\site-packages (from pandas) (2.8.2)\n",
      "Collecting pytz>=2017.3\n",
      "  Downloading pytz-2021.3-py2.py3-none-any.whl (503 kB)\n",
      "Requirement already satisfied: numpy>=1.17.3 in c:\\users\\yejin\\.conda\\envs\\nlp\\lib\\site-packages (from pandas) (1.21.5)\n",
      "Requirement already satisfied: six>=1.5 in c:\\users\\yejin\\.conda\\envs\\nlp\\lib\\site-packages (from python-dateutil>=2.7.3->pandas) (1.16.0)\n",
      "Installing collected packages: pytz, pandas\n",
      "Successfully installed pandas-1.3.5 pytz-2021.3\n",
      "Note: you may need to restart the kernel to use updated packages.\n"
     ]
    }
   ],
   "source": [
    "pip install pandas"
   ]
  },
  {
   "cell_type": "code",
   "execution_count": 41,
   "id": "70c3dc16",
   "metadata": {},
   "outputs": [],
   "source": [
    "import pandas as pd\n",
    "\n",
    "docs=[\"오늘 동물원에서 원숭이를 봤어\",\n",
    "     \"오늘 동물원에서 코끼리를 봤어 봤어\",\n",
    "     \"동물원에서 원숭이에게 바나나를 줬어 바나나를\"]"
   ]
  },
  {
   "cell_type": "code",
   "execution_count": 42,
   "id": "884f5907",
   "metadata": {
    "scrolled": false
   },
   "outputs": [
    {
     "data": {
      "text/plain": [
       "[['오늘', '동물원에서', '원숭이를', '봤어'],\n",
       " ['오늘', '동물원에서', '코끼리를', '봤어', '봤어'],\n",
       " ['동물원에서', '원숭이에게', '바나나를', '줬어', '바나나를']]"
      ]
     },
     "execution_count": 42,
     "metadata": {},
     "output_type": "execute_result"
    }
   ],
   "source": [
    "#리스트 컴프리핸션으로 띄어쓰기별로 떼어냄\n",
    "doc_ls=[doc.split() for doc in docs]\n",
    "doc_ls"
   ]
  },
  {
   "cell_type": "code",
   "execution_count": 45,
   "id": "83b5e2cc",
   "metadata": {},
   "outputs": [
    {
     "data": {
      "text/plain": [
       "{'오늘': 0,\n",
       " '동물원에서': 1,\n",
       " '원숭이를': 2,\n",
       " '봤어': 3,\n",
       " '코끼리를': 4,\n",
       " '원숭이에게': 5,\n",
       " '바나나를': 6,\n",
       " '줬어': 7}"
      ]
     },
     "execution_count": 45,
     "metadata": {},
     "output_type": "execute_result"
    }
   ],
   "source": [
    "#단어 사전 만들기; token이 사전에 없다면 인덱스 추가\n",
    "word2id={}\n",
    "\n",
    "index=0\n",
    "for doc in doc_ls:\n",
    "    for token in doc:\n",
    "        if token not in word2id:\n",
    "            word2id[token]=index\n",
    "            index+=1\n",
    "word2id"
   ]
  },
  {
   "cell_type": "code",
   "execution_count": 46,
   "id": "c5e9f0b6",
   "metadata": {},
   "outputs": [
    {
     "data": {
      "text/plain": [
       "{'오늘': 0,\n",
       " '동물원에서': 1,\n",
       " '원숭이를': 2,\n",
       " '봤어': 3,\n",
       " '코끼리를': 4,\n",
       " '원숭이에게': 5,\n",
       " '바나나를': 6,\n",
       " '줬어': 7}"
      ]
     },
     "execution_count": 46,
     "metadata": {},
     "output_type": "execute_result"
    }
   ],
   "source": [
    "#단어사전 만들기2\n",
    "word2id={}\n",
    "\n",
    "for doc in doc_ls:\n",
    "    for token in doc:\n",
    "        if token not in word2id:\n",
    "            word2id[token]=len(word2id)\n",
    "\n",
    "word2id"
   ]
  },
  {
   "cell_type": "code",
   "execution_count": 49,
   "id": "fd39eed2",
   "metadata": {},
   "outputs": [
    {
     "name": "stdout",
     "output_type": "stream",
     "text": [
      "defaultdict(<function <lambda> at 0x0000026D1EB6DD38>, {})\n",
      "defaultdict(<function <lambda> at 0x0000026D1EB6DD38>, {'오늘': 0, '동물원에서': 1, '원숭이를': 2, '봤어': 3, '코끼리를': 4, '원숭이에게': 5, '바나나를': 6, '줬어': 7})\n"
     ]
    }
   ],
   "source": [
    "#단어사전 만들기3_defaultdict: 딕셔너리 만들 때 key와 value 줘야 함; key가 없는 경우의 디폴트값 설정\n",
    "from collections import defaultdict\n",
    "\n",
    "word2id=defaultdict(lambda : len(word2id)) #defaultdict정의: key값이 없으면 value를 여기에 정의된 함수로 넣음\n",
    "print(word2id)\n",
    "[word2id[token] for doc in doc_ls for token in doc] #위의 이중for문 한 줄로 정리\n",
    "print(word2id)"
   ]
  },
  {
   "cell_type": "code",
   "execution_count": 61,
   "id": "f1265ffd",
   "metadata": {},
   "outputs": [
    {
     "data": {
      "text/plain": [
       "[[1, 1, 1, 1, 0, 0, 0, 0], [1, 1, 0, 2, 1, 0, 0, 0], [0, 1, 0, 0, 0, 1, 2, 1]]"
      ]
     },
     "execution_count": 61,
     "metadata": {},
     "output_type": "execute_result"
    }
   ],
   "source": [
    "import numpy as np\n",
    "\n",
    "BoW_ls=[]\n",
    "\n",
    "for doc in doc_ls:\n",
    "    bow=np.zeros(len(word2id),dtype=int)\n",
    "    for token in doc:\n",
    "        bow[word2id[token]] += 1 #bow에 해당하는 자릿수(value), 현재 0으로 세팅 so bow의 자릿수에 +1\n",
    "    BoW_ls.append(bow.tolist()) #bow가 numpy array니까 list로 바꿔줌\n",
    "BoW_ls\n",
    "#bow[] = word2id에 있는 token(단어)의 자릿수 --> bow에서 해당 자릿수 값(0 세팅)에 +1\n",
    "#bow에 대한 인덱스 값을 word2id[token]이 갖고 있음. 단어 한번더 나오면 그 값을 +1"
   ]
  },
  {
   "cell_type": "code",
   "execution_count": 66,
   "id": "e9260045",
   "metadata": {},
   "outputs": [
    {
     "name": "stdout",
     "output_type": "stream",
     "text": [
      "문서 0 : 오늘 동물원에서 원숭이를 봤어\n"
     ]
    },
    {
     "data": {
      "text/html": [
       "<div>\n",
       "<style scoped>\n",
       "    .dataframe tbody tr th:only-of-type {\n",
       "        vertical-align: middle;\n",
       "    }\n",
       "\n",
       "    .dataframe tbody tr th {\n",
       "        vertical-align: top;\n",
       "    }\n",
       "\n",
       "    .dataframe thead th {\n",
       "        text-align: right;\n",
       "    }\n",
       "</style>\n",
       "<table border=\"1\" class=\"dataframe\">\n",
       "  <thead>\n",
       "    <tr style=\"text-align: right;\">\n",
       "      <th></th>\n",
       "      <th>오늘</th>\n",
       "      <th>동물원에서</th>\n",
       "      <th>원숭이를</th>\n",
       "      <th>봤어</th>\n",
       "      <th>코끼리를</th>\n",
       "      <th>원숭이에게</th>\n",
       "      <th>바나나를</th>\n",
       "      <th>줬어</th>\n",
       "    </tr>\n",
       "  </thead>\n",
       "  <tbody>\n",
       "    <tr>\n",
       "      <th>0</th>\n",
       "      <td>1</td>\n",
       "      <td>1</td>\n",
       "      <td>1</td>\n",
       "      <td>1</td>\n",
       "      <td>0</td>\n",
       "      <td>0</td>\n",
       "      <td>0</td>\n",
       "      <td>0</td>\n",
       "    </tr>\n",
       "  </tbody>\n",
       "</table>\n",
       "</div>"
      ],
      "text/plain": [
       "   오늘  동물원에서  원숭이를  봤어  코끼리를  원숭이에게  바나나를  줬어\n",
       "0   1      1     1   1     0      0     0   0"
      ]
     },
     "metadata": {},
     "output_type": "display_data"
    },
    {
     "name": "stdout",
     "output_type": "stream",
     "text": [
      "\n",
      "\n",
      "문서 1 : 오늘 동물원에서 코끼리를 봤어 봤어\n"
     ]
    },
    {
     "data": {
      "text/html": [
       "<div>\n",
       "<style scoped>\n",
       "    .dataframe tbody tr th:only-of-type {\n",
       "        vertical-align: middle;\n",
       "    }\n",
       "\n",
       "    .dataframe tbody tr th {\n",
       "        vertical-align: top;\n",
       "    }\n",
       "\n",
       "    .dataframe thead th {\n",
       "        text-align: right;\n",
       "    }\n",
       "</style>\n",
       "<table border=\"1\" class=\"dataframe\">\n",
       "  <thead>\n",
       "    <tr style=\"text-align: right;\">\n",
       "      <th></th>\n",
       "      <th>오늘</th>\n",
       "      <th>동물원에서</th>\n",
       "      <th>원숭이를</th>\n",
       "      <th>봤어</th>\n",
       "      <th>코끼리를</th>\n",
       "      <th>원숭이에게</th>\n",
       "      <th>바나나를</th>\n",
       "      <th>줬어</th>\n",
       "    </tr>\n",
       "  </thead>\n",
       "  <tbody>\n",
       "    <tr>\n",
       "      <th>0</th>\n",
       "      <td>1</td>\n",
       "      <td>1</td>\n",
       "      <td>0</td>\n",
       "      <td>2</td>\n",
       "      <td>1</td>\n",
       "      <td>0</td>\n",
       "      <td>0</td>\n",
       "      <td>0</td>\n",
       "    </tr>\n",
       "  </tbody>\n",
       "</table>\n",
       "</div>"
      ],
      "text/plain": [
       "   오늘  동물원에서  원숭이를  봤어  코끼리를  원숭이에게  바나나를  줬어\n",
       "0   1      1     0   2     1      0     0   0"
      ]
     },
     "metadata": {},
     "output_type": "display_data"
    },
    {
     "name": "stdout",
     "output_type": "stream",
     "text": [
      "\n",
      "\n",
      "문서 2 : 동물원에서 원숭이에게 바나나를 줬어 바나나를\n"
     ]
    },
    {
     "data": {
      "text/html": [
       "<div>\n",
       "<style scoped>\n",
       "    .dataframe tbody tr th:only-of-type {\n",
       "        vertical-align: middle;\n",
       "    }\n",
       "\n",
       "    .dataframe tbody tr th {\n",
       "        vertical-align: top;\n",
       "    }\n",
       "\n",
       "    .dataframe thead th {\n",
       "        text-align: right;\n",
       "    }\n",
       "</style>\n",
       "<table border=\"1\" class=\"dataframe\">\n",
       "  <thead>\n",
       "    <tr style=\"text-align: right;\">\n",
       "      <th></th>\n",
       "      <th>오늘</th>\n",
       "      <th>동물원에서</th>\n",
       "      <th>원숭이를</th>\n",
       "      <th>봤어</th>\n",
       "      <th>코끼리를</th>\n",
       "      <th>원숭이에게</th>\n",
       "      <th>바나나를</th>\n",
       "      <th>줬어</th>\n",
       "    </tr>\n",
       "  </thead>\n",
       "  <tbody>\n",
       "    <tr>\n",
       "      <th>0</th>\n",
       "      <td>0</td>\n",
       "      <td>1</td>\n",
       "      <td>0</td>\n",
       "      <td>0</td>\n",
       "      <td>0</td>\n",
       "      <td>1</td>\n",
       "      <td>2</td>\n",
       "      <td>1</td>\n",
       "    </tr>\n",
       "  </tbody>\n",
       "</table>\n",
       "</div>"
      ],
      "text/plain": [
       "   오늘  동물원에서  원숭이를  봤어  코끼리를  원숭이에게  바나나를  줬어\n",
       "0   0      1     0   0     0      1     2   1"
      ]
     },
     "metadata": {},
     "output_type": "display_data"
    },
    {
     "name": "stdout",
     "output_type": "stream",
     "text": [
      "\n",
      "\n"
     ]
    }
   ],
   "source": [
    "#좀더 보기 편하게 시각화\n",
    "#index 기준으로 값 sorting; bc 딕셔너리는 순서x\n",
    "from IPython.core import display as ICD\n",
    "\n",
    "sorted_vocab=sorted((value,key) for key,value in word2id.items()) # value 기준 sorting\n",
    "vocab = [v[1] for v in sorted_vocab]\n",
    "for i in range(len(docs)):\n",
    "    print(\"문서 {} : {}\".format(i,docs[i]))\n",
    "    ICD.display(pd.DataFrame([BoW_ls[i]],columns=vocab))\n",
    "    print(\"\\n\")"
   ]
  },
  {
   "cell_type": "code",
   "execution_count": 68,
   "id": "8aa5f88a",
   "metadata": {},
   "outputs": [
    {
     "data": {
      "text/plain": [
       "array([[1, 0, 1, 1, 1, 0, 0, 0],\n",
       "       [1, 0, 2, 1, 0, 0, 0, 1],\n",
       "       [1, 2, 0, 0, 0, 1, 1, 0]], dtype=int64)"
      ]
     },
     "execution_count": 68,
     "metadata": {},
     "output_type": "execute_result"
    }
   ],
   "source": [
    "#위의 과정 너무 오래걸림. sklearn으로 풀어 보자!\n",
    "from sklearn.feature_extraction.text import CountVectorizer\n",
    "\n",
    "count_vect = CountVectorizer()\n",
    "BoW = count_vect.fit_transform(docs) #docs 가지고 fit과 transform\n",
    "BoW.toarray() #doc 3개, 단어 8개"
   ]
  },
  {
   "cell_type": "code",
   "execution_count": 70,
   "id": "0239bb67",
   "metadata": {},
   "outputs": [
    {
     "data": {
      "text/plain": [
       "array(['동물원에서', '바나나를', '봤어', '오늘', '원숭이를', '원숭이에게', '줬어', '코끼리를'],\n",
       "      dtype=object)"
      ]
     },
     "execution_count": 70,
     "metadata": {},
     "output_type": "execute_result"
    }
   ],
   "source": [
    "from IPython.core import display as ICD\n",
    "\n",
    "vocab=count_vect.get_feature_names_out()\n",
    "vocab"
   ]
  },
  {
   "cell_type": "code",
   "execution_count": 71,
   "id": "ec1b16cc",
   "metadata": {},
   "outputs": [
    {
     "data": {
      "text/plain": [
       "'오늘 동물원에서 원숭이를 봤어'"
      ]
     },
     "execution_count": 71,
     "metadata": {},
     "output_type": "execute_result"
    }
   ],
   "source": [
    "docs[0]"
   ]
  },
  {
   "cell_type": "code",
   "execution_count": 73,
   "id": "8c08fa7a",
   "metadata": {},
   "outputs": [
    {
     "name": "stdout",
     "output_type": "stream",
     "text": [
      "문서 0 : 오늘 동물원에서 원숭이를 봤어\n"
     ]
    },
    {
     "data": {
      "text/html": [
       "<div>\n",
       "<style scoped>\n",
       "    .dataframe tbody tr th:only-of-type {\n",
       "        vertical-align: middle;\n",
       "    }\n",
       "\n",
       "    .dataframe tbody tr th {\n",
       "        vertical-align: top;\n",
       "    }\n",
       "\n",
       "    .dataframe thead th {\n",
       "        text-align: right;\n",
       "    }\n",
       "</style>\n",
       "<table border=\"1\" class=\"dataframe\">\n",
       "  <thead>\n",
       "    <tr style=\"text-align: right;\">\n",
       "      <th></th>\n",
       "      <th>동물원에서</th>\n",
       "      <th>바나나를</th>\n",
       "      <th>봤어</th>\n",
       "      <th>오늘</th>\n",
       "      <th>원숭이를</th>\n",
       "      <th>원숭이에게</th>\n",
       "      <th>줬어</th>\n",
       "      <th>코끼리를</th>\n",
       "    </tr>\n",
       "  </thead>\n",
       "  <tbody>\n",
       "    <tr>\n",
       "      <th>0</th>\n",
       "      <td>1</td>\n",
       "      <td>0</td>\n",
       "      <td>1</td>\n",
       "      <td>1</td>\n",
       "      <td>1</td>\n",
       "      <td>0</td>\n",
       "      <td>0</td>\n",
       "      <td>0</td>\n",
       "    </tr>\n",
       "  </tbody>\n",
       "</table>\n",
       "</div>"
      ],
      "text/plain": [
       "   동물원에서  바나나를  봤어  오늘  원숭이를  원숭이에게  줬어  코끼리를\n",
       "0      1     0   1   1     1      0   0     0"
      ]
     },
     "metadata": {},
     "output_type": "display_data"
    },
    {
     "name": "stdout",
     "output_type": "stream",
     "text": [
      "\n",
      "\n",
      "문서 1 : 오늘 동물원에서 코끼리를 봤어 봤어\n"
     ]
    },
    {
     "data": {
      "text/html": [
       "<div>\n",
       "<style scoped>\n",
       "    .dataframe tbody tr th:only-of-type {\n",
       "        vertical-align: middle;\n",
       "    }\n",
       "\n",
       "    .dataframe tbody tr th {\n",
       "        vertical-align: top;\n",
       "    }\n",
       "\n",
       "    .dataframe thead th {\n",
       "        text-align: right;\n",
       "    }\n",
       "</style>\n",
       "<table border=\"1\" class=\"dataframe\">\n",
       "  <thead>\n",
       "    <tr style=\"text-align: right;\">\n",
       "      <th></th>\n",
       "      <th>동물원에서</th>\n",
       "      <th>바나나를</th>\n",
       "      <th>봤어</th>\n",
       "      <th>오늘</th>\n",
       "      <th>원숭이를</th>\n",
       "      <th>원숭이에게</th>\n",
       "      <th>줬어</th>\n",
       "      <th>코끼리를</th>\n",
       "    </tr>\n",
       "  </thead>\n",
       "  <tbody>\n",
       "    <tr>\n",
       "      <th>0</th>\n",
       "      <td>1</td>\n",
       "      <td>0</td>\n",
       "      <td>2</td>\n",
       "      <td>1</td>\n",
       "      <td>0</td>\n",
       "      <td>0</td>\n",
       "      <td>0</td>\n",
       "      <td>1</td>\n",
       "    </tr>\n",
       "  </tbody>\n",
       "</table>\n",
       "</div>"
      ],
      "text/plain": [
       "   동물원에서  바나나를  봤어  오늘  원숭이를  원숭이에게  줬어  코끼리를\n",
       "0      1     0   2   1     0      0   0     1"
      ]
     },
     "metadata": {},
     "output_type": "display_data"
    },
    {
     "name": "stdout",
     "output_type": "stream",
     "text": [
      "\n",
      "\n",
      "문서 2 : 동물원에서 원숭이에게 바나나를 줬어 바나나를\n"
     ]
    },
    {
     "data": {
      "text/html": [
       "<div>\n",
       "<style scoped>\n",
       "    .dataframe tbody tr th:only-of-type {\n",
       "        vertical-align: middle;\n",
       "    }\n",
       "\n",
       "    .dataframe tbody tr th {\n",
       "        vertical-align: top;\n",
       "    }\n",
       "\n",
       "    .dataframe thead th {\n",
       "        text-align: right;\n",
       "    }\n",
       "</style>\n",
       "<table border=\"1\" class=\"dataframe\">\n",
       "  <thead>\n",
       "    <tr style=\"text-align: right;\">\n",
       "      <th></th>\n",
       "      <th>동물원에서</th>\n",
       "      <th>바나나를</th>\n",
       "      <th>봤어</th>\n",
       "      <th>오늘</th>\n",
       "      <th>원숭이를</th>\n",
       "      <th>원숭이에게</th>\n",
       "      <th>줬어</th>\n",
       "      <th>코끼리를</th>\n",
       "    </tr>\n",
       "  </thead>\n",
       "  <tbody>\n",
       "    <tr>\n",
       "      <th>0</th>\n",
       "      <td>1</td>\n",
       "      <td>2</td>\n",
       "      <td>0</td>\n",
       "      <td>0</td>\n",
       "      <td>0</td>\n",
       "      <td>1</td>\n",
       "      <td>1</td>\n",
       "      <td>0</td>\n",
       "    </tr>\n",
       "  </tbody>\n",
       "</table>\n",
       "</div>"
      ],
      "text/plain": [
       "   동물원에서  바나나를  봤어  오늘  원숭이를  원숭이에게  줬어  코끼리를\n",
       "0      1     2   0   0     0      1   1     0"
      ]
     },
     "metadata": {},
     "output_type": "display_data"
    },
    {
     "name": "stdout",
     "output_type": "stream",
     "text": [
      "\n",
      "\n"
     ]
    }
   ],
   "source": [
    "for i in range(len(docs)):\n",
    "    print(\"문서 {} : {}\".format(i,docs[i]))\n",
    "    ICD.display(pd.DataFrame([BoW.toarray()[i]],columns=vocab))\n",
    "    print(\"\\n\")"
   ]
  },
  {
   "cell_type": "code",
   "execution_count": null,
   "id": "5a92922c",
   "metadata": {},
   "outputs": [],
   "source": []
  }
 ],
 "metadata": {
  "kernelspec": {
   "display_name": "nlp",
   "language": "python",
   "name": "nlp"
  },
  "language_info": {
   "codemirror_mode": {
    "name": "ipython",
    "version": 3
   },
   "file_extension": ".py",
   "mimetype": "text/x-python",
   "name": "python",
   "nbconvert_exporter": "python",
   "pygments_lexer": "ipython3",
   "version": "3.7.11"
  }
 },
 "nbformat": 4,
 "nbformat_minor": 5
}
