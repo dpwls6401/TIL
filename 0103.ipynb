{
 "cells": [
  {
   "cell_type": "code",
   "execution_count": 2,
   "id": "811dba32",
   "metadata": {},
   "outputs": [
    {
     "name": "stdout",
     "output_type": "stream",
     "text": [
      "-1\n",
      "19\n"
     ]
    }
   ],
   "source": [
    "sentence=\"Life is venture or nothing\"\n",
    "print(sentence.find(\"Life\",10,30))\n",
    "print(sentence.find(\"nothing\",15))"
   ]
  },
  {
   "cell_type": "code",
   "execution_count": 3,
   "id": "51f72ed5",
   "metadata": {},
   "outputs": [
    {
     "data": {
      "text/plain": [
       "\"Let it be, don't let it be, don't let it be, let it be\""
      ]
     },
     "execution_count": 3,
     "metadata": {},
     "output_type": "execute_result"
    }
   ],
   "source": [
    "song='Let it be, let it be, let it be, let it be'\n",
    "song.replace('let',\"don't let\",2)"
   ]
  },
  {
   "cell_type": "code",
   "execution_count": 8,
   "id": "83142b3a",
   "metadata": {},
   "outputs": [
    {
     "data": {
      "text/plain": [
       "4"
      ]
     },
     "execution_count": 8,
     "metadata": {},
     "output_type": "execute_result"
    }
   ],
   "source": [
    "text='네이버 기사는 네이버 네이버 네이버'\n",
    "import re\n",
    "(re.findall('네이버',text)).count('네이버')"
   ]
  },
  {
   "cell_type": "code",
   "execution_count": 26,
   "id": "edbe30f8",
   "metadata": {},
   "outputs": [],
   "source": [
    "#파이썬 전화번호 찾기\n",
    "import re\n",
    "phone_list=['010-2334-3234','02-302-3033','010-1321-4043','02-01-32','33-3303-3033','016-444-3042']"
   ]
  },
  {
   "cell_type": "code",
   "execution_count": 47,
   "id": "5f16c4c5",
   "metadata": {},
   "outputs": [
    {
     "name": "stdout",
     "output_type": "stream",
     "text": [
      "010-2334-3234\n",
      "02-302-3033\n",
      "010-1321-4043\n"
     ]
    }
   ],
   "source": [
    "for phone in phone_list:\n",
    "    result=re.search('0[1-9]0?-[0-9]{3,4}-[0-9]{4}',phone)\n",
    "    if result:\n",
    "        print(result.group())"
   ]
  },
  {
   "cell_type": "code",
   "execution_count": 50,
   "id": "0fb290e9",
   "metadata": {},
   "outputs": [
    {
     "name": "stdout",
     "output_type": "stream",
     "text": [
      "010-2334-3234\n",
      "02-302-3033\n",
      "010-1321-4043\n"
     ]
    }
   ],
   "source": [
    "for phone in phone_list:\n",
    "    result=re.search('0(10|[2-6]\\d?)-[0-9]{3,4}-[0-9]{4}',phone)\n",
    "    if result:\n",
    "        print(result.group())"
   ]
  },
  {
   "cell_type": "code",
   "execution_count": 51,
   "id": "87464d9d",
   "metadata": {},
   "outputs": [],
   "source": [
    "text='''[앵커]\n",
    "\n",
    "바로 좀 팩트체크를 해 보겠습니다. 제모를 하면 \n",
    "[기자]'''"
   ]
  },
  {
   "cell_type": "code",
   "execution_count": 52,
   "id": "b91d1936",
   "metadata": {},
   "outputs": [
    {
     "data": {
      "text/plain": [
       "'\\n\\n바로 좀 팩트체크를 해 보겠습니다. 제모를 하면 \\n'"
      ]
     },
     "execution_count": 52,
     "metadata": {},
     "output_type": "execute_result"
    }
   ],
   "source": [
    "text=re.sub(\"\\[.+\\]\",\"\",text)\n",
    "text"
   ]
  },
  {
   "cell_type": "code",
   "execution_count": 54,
   "id": "d6277e5a",
   "metadata": {},
   "outputs": [
    {
     "data": {
      "text/plain": [
       "['apple', '', 'orange', '', 'banana', 'pineapple']"
      ]
     },
     "execution_count": 54,
     "metadata": {},
     "output_type": "execute_result"
    }
   ],
   "source": [
    "text='apple, orange! banana pineapple'\n",
    "text=re.split(\"[,! ]\",text)\n",
    "text"
   ]
  },
  {
   "cell_type": "code",
   "execution_count": 55,
   "id": "6b445c38",
   "metadata": {},
   "outputs": [],
   "source": [
    "#regular 실습01\n",
    "import re\n",
    "email_list=['jkilee@gmail.com','kttredef@naver.com','akdef!aa.com','adekik@best.kr','abkereff@aacde','adefgree@korea.co.kr']"
   ]
  },
  {
   "cell_type": "code",
   "execution_count": 57,
   "id": "08c2ffd9",
   "metadata": {},
   "outputs": [
    {
     "name": "stdout",
     "output_type": "stream",
     "text": [
      "jkilee@gmail.com\n",
      "kttredef@naver.com\n",
      "adekik@best.kr\n",
      "adefgree@korea.co\n"
     ]
    }
   ],
   "source": [
    "for email in email_list:\n",
    "    result=re.search('\\w*@[a-z]+\\.[a-z]+',email)\n",
    "    if result:\n",
    "        print(result.group())"
   ]
  },
  {
   "cell_type": "code",
   "execution_count": 189,
   "id": "7893fadc",
   "metadata": {},
   "outputs": [
    {
     "data": {
      "text/plain": [
       "'jkilee@gmail.com\\nkttredef@naver.com\\nakdef!aa.com\\nadekik@best.kr\\nabkereff@aacde\\nadefgree@korea.co.kr'"
      ]
     },
     "execution_count": 189,
     "metadata": {},
     "output_type": "execute_result"
    }
   ],
   "source": [
    "#findall 풀이\n",
    "emails=\"\"\"jkilee@gmail.com\n",
    "kttredef@naver.com\n",
    "akdef!aa.com\n",
    "adekik@best.kr\n",
    "abkereff@aacde\n",
    "adefgree@korea.co.kr\"\"\"\n",
    "emails"
   ]
  },
  {
   "cell_type": "code",
   "execution_count": 190,
   "id": "31ac8dba",
   "metadata": {},
   "outputs": [
    {
     "data": {
      "text/plain": [
       "['jkilee@gmail.com',\n",
       " 'kttredef@naver.com',\n",
       " 'adekik@best.kr',\n",
       " 'adefgree@korea.co.kr']"
      ]
     },
     "execution_count": 190,
     "metadata": {},
     "output_type": "execute_result"
    }
   ],
   "source": [
    "re.findall(\".+@.+\\..+\",emails)"
   ]
  },
  {
   "cell_type": "code",
   "execution_count": 193,
   "id": "3634f479",
   "metadata": {},
   "outputs": [],
   "source": [
    "#regular 실습02\n",
    "text='안녕하세요 저는 <em>홍길동</em> 입니다. 나이는 24살 세계 최고의 <a href=\"aa.aa.com\">데이터 분석가</a>가 되고싶습니다.'"
   ]
  },
  {
   "cell_type": "code",
   "execution_count": 200,
   "id": "e65aa43d",
   "metadata": {},
   "outputs": [
    {
     "data": {
      "text/plain": [
       "'안녕하세요 저는 홍길동 입니다. 나이는 24살 세계 최고의 데이터 분석가가 되고싶습니다.'"
      ]
     },
     "execution_count": 200,
     "metadata": {},
     "output_type": "execute_result"
    }
   ],
   "source": [
    "#지저분 ㅠ\n",
    "re.sub('<?[a-z]* ?[a-z]*=?\"?[a-z]*\\.?[a-z]*[/.]?[a-z]+\"?>','',text)"
   ]
  },
  {
   "cell_type": "code",
   "execution_count": 199,
   "id": "c1290569",
   "metadata": {},
   "outputs": [
    {
     "data": {
      "text/plain": [
       "'안녕하세요 저는 홍길동 입니다. 나이는 24살 세계 최고의 데이터 분석가가 되고싶습니다.'"
      ]
     },
     "execution_count": 199,
     "metadata": {},
     "output_type": "execute_result"
    }
   ],
   "source": [
    "#게으른 수량자 풀이\n",
    "re.sub(\"<.+?>\",\"\",text)"
   ]
  },
  {
   "cell_type": "code",
   "execution_count": 198,
   "id": "c6c63aba",
   "metadata": {},
   "outputs": [
    {
     "data": {
      "text/plain": [
       "'안녕하세요 저는 홍길동 입니다. 나이는 24살 세계 최고의 데이터 분석가가 되고싶습니다.'"
      ]
     },
     "execution_count": 198,
     "metadata": {},
     "output_type": "execute_result"
    }
   ],
   "source": [
    "#^사용한 풀이\n",
    "re.sub(\"<[^<]+>\",\"\",text)"
   ]
  },
  {
   "cell_type": "code",
   "execution_count": 218,
   "id": "438f71c7",
   "metadata": {},
   "outputs": [],
   "source": [
    "#regular 실습03\n",
    "news=\"\"\"<p>\n",
    "<span>네이버가 뉴스 서비스에 인공지능(AI)을 도입해 페이지 뷰(PV)를 늘리고 이용자를 끌어 모으고 있다.</span>\n",
    "<span>네이버는 5일 오전 서울 강남구 그랜드 인터컨티넨털 호텔에서 AI 콜로키움 2019를 열고 이 같은 AI 성과와 전략을 소개했다.</span>\n",
    "<span>이날 기조연설에서 김광현 네이버 서치앤클로바 리더는 \"AI 뉴스 추천 시스템인 에어스(AiRS)를 도입하면서 뉴스 소비량이 확대되고 있다\" 고 말했다.</span>\n",
    "</p>\"\"\""
   ]
  },
  {
   "cell_type": "code",
   "execution_count": 203,
   "id": "e751715d",
   "metadata": {},
   "outputs": [
    {
     "name": "stdout",
     "output_type": "stream",
     "text": [
      "['네이버가 뉴스 서비스에 인공지능(AI)을 도입해 페이지 뷰(PV)를 늘리고 이용자를 끌어 모으고 있다.']\n",
      "['네이버는 5일 오전 서울 강남구 그랜드 인터컨티넨털 호텔에서 AI 콜로키움 2019를 열고 이 같은 AI 성과와 전략을 소개했다.']\n",
      "['이날 기조연설에서 김광현 네이버 서치앤클로바 리더는 \"AI 뉴스 추천 시스템인 에어스(AiRS)를 도입하면서 뉴스 소비량이 확대되고 있다\" 고 말했다.']\n"
     ]
    }
   ],
   "source": [
    "#3-1,2 우리조 풀이\n",
    "news_list=news.split('\\n')\n",
    "for new in news_list:\n",
    "    result=re.search(\"<span>.*</span>\",new)\n",
    "    if result:\n",
    "        result2=re.sub(\"</?span>\",\"\",result.group()).strip()\n",
    "        result3=re.split(\"\\n\",result2)\n",
    "        print(result3)"
   ]
  },
  {
   "cell_type": "code",
   "execution_count": 205,
   "id": "1fd118e6",
   "metadata": {},
   "outputs": [
    {
     "data": {
      "text/plain": [
       "['네이버가 뉴스 서비스에 인공지능(AI)을 도입해 페이지 뷰(PV)를 늘리고 이용자를 끌어 모으고 있다.',\n",
       " '네이버는 5일 오전 서울 강남구 그랜드 인터컨티넨털 호텔에서 AI 콜로키움 2019를 열고 이 같은 AI 성과와 전략을 소개했다.',\n",
       " '이날 기조연설에서 김광현 네이버 서치앤클로바 리더는 \"AI 뉴스 추천 시스템인 에어스(AiRS)를 도입하면서 뉴스 소비량이 확대되고 있다\" 고 말했다.']"
      ]
     },
     "execution_count": 205,
     "metadata": {},
     "output_type": "execute_result"
    }
   ],
   "source": [
    "re.findall(\"<span>(.+)</span>\",news)"
   ]
  },
  {
   "cell_type": "code",
   "execution_count": 214,
   "id": "38f86aab",
   "metadata": {},
   "outputs": [
    {
     "name": "stdout",
     "output_type": "stream",
     "text": [
      "네이버가 뉴스 서비스에 인공지능(AI)을 도입해 페이지 뷰(PV)를 늘리고 이용자를 끌어 모으고 있다.\n",
      "네이버는 5일 오전 서울 강남구 그랜드 인터컨티넨털 호텔에서 AI 콜로키움 2019를 열고 이 같은 AI 성과와 전략을 소개했다.\n",
      "이날 기조연설에서 김광현 네이버 서치앤클로바 리더는 \"AI 뉴스 추천 시스템인 에어스(AiRS)를 도입하면서 뉴스 소비량이 확대되고 있다\" 고 말했다.\n"
     ]
    }
   ],
   "source": [
    "for matched in re.finditer(\"<span>(.+)</span>\",news):\n",
    "    print(matched.group(1))\n",
    "#group()\n",
    "#group(1); 첫번째 그룹만 가져올 수 있음"
   ]
  },
  {
   "cell_type": "code",
   "execution_count": 220,
   "id": "c69df8e9",
   "metadata": {},
   "outputs": [
    {
     "name": "stdout",
     "output_type": "stream",
     "text": [
      "네이버가 뉴스 서비스에 인공지능(AI)을 도입해 페이지 뷰(PV)를 늘리고 이용자를 끌어 모으고 있다.\n",
      "네이버는 5일 오전 서울 강남구 그랜드 인터컨티넨털 호텔에서 AI 콜로키움 2019를 열고 이 같은 AI 성과와 전략을 소개했다.\n",
      "이날 기조연설에서 김광현 네이버 서치앤클로바 리더는 \"AI 뉴스 추천 시스템인 에어스(AiRS)를 도입하면서 뉴스 소비량이 확대되고 있다\" 고 말했다.\n"
     ]
    }
   ],
   "source": [
    "#긍정형 전방/후방 탐색\n",
    "for matched in re.finditer(\"(?<=<span>).*(?=</span>)\", news):\n",
    "    print(matched.group())"
   ]
  },
  {
   "cell_type": "code",
   "execution_count": null,
   "id": "4aca2667",
   "metadata": {},
   "outputs": [],
   "source": []
  }
 ],
 "metadata": {
  "kernelspec": {
   "display_name": "Python 3 (ipykernel)",
   "language": "python",
   "name": "python3"
  },
  "language_info": {
   "codemirror_mode": {
    "name": "ipython",
    "version": 3
   },
   "file_extension": ".py",
   "mimetype": "text/x-python",
   "name": "python",
   "nbconvert_exporter": "python",
   "pygments_lexer": "ipython3",
   "version": "3.9.7"
  }
 },
 "nbformat": 4,
 "nbformat_minor": 5
}
