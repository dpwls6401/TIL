{
  "nbformat": 4,
  "nbformat_minor": 0,
  "metadata": {
    "colab": {
      "name": "0216_deeplearning",
      "provenance": []
    },
    "kernelspec": {
      "name": "python3",
      "display_name": "Python 3"
    },
    "language_info": {
      "name": "python"
    }
  },
  "cells": [
    {
      "cell_type": "markdown",
      "source": [
        "제곱오차 구현"
      ],
      "metadata": {
        "id": "LM2nfftPLsY0"
      }
    },
    {
      "cell_type": "code",
      "execution_count": null,
      "metadata": {
        "id": "AszCxCMVLbt3"
      },
      "outputs": [],
      "source": [
        "import numpy as np"
      ]
    },
    {
      "cell_type": "code",
      "source": [
        "y = [0.1, 0.05, 0.6, 0.0, 0.05, 0.1, 0.0, 0.1, 0.0, 0.0]\n",
        "t = [0, 0, 1, 0, 0, 0, 0, 0, 0, 0]"
      ],
      "metadata": {
        "id": "wYUfQSULLq9G"
      },
      "execution_count": null,
      "outputs": []
    },
    {
      "cell_type": "code",
      "source": [
        "def sum_squares_error(y,t):\n",
        "  return 0.5 * np.sum((y-t)**2)"
      ],
      "metadata": {
        "id": "SoSMoiG9L5X_"
      },
      "execution_count": null,
      "outputs": []
    },
    {
      "cell_type": "code",
      "source": [
        "sum_squares_error(np.array(y), np.array(t))"
      ],
      "metadata": {
        "colab": {
          "base_uri": "https://localhost:8080/"
        },
        "id": "Pbkm5utuMI1j",
        "outputId": "82873ef4-98c1-4def-f3dd-94da0df7870e"
      },
      "execution_count": null,
      "outputs": [
        {
          "output_type": "execute_result",
          "data": {
            "text/plain": [
              "0.09750000000000003"
            ]
          },
          "metadata": {},
          "execution_count": 22
        }
      ]
    },
    {
      "cell_type": "code",
      "source": [
        "y = [0.1, 0.05, 0.6, 0.0, 0.05, 0.1, 0.0, 0.6, 0.0, 0.0]\n",
        "sum_squares_error(np.array(y), np.array(t))"
      ],
      "metadata": {
        "colab": {
          "base_uri": "https://localhost:8080/"
        },
        "id": "tsjEXU8sMoon",
        "outputId": "5535ad80-360c-4d79-9f72-f8732af3b685"
      },
      "execution_count": null,
      "outputs": [
        {
          "output_type": "execute_result",
          "data": {
            "text/plain": [
              "0.2725"
            ]
          },
          "metadata": {},
          "execution_count": 23
        }
      ]
    },
    {
      "cell_type": "markdown",
      "source": [
        "binary cross entropy 구현"
      ],
      "metadata": {
        "id": "TA-uxbZDOIsZ"
      }
    },
    {
      "cell_type": "code",
      "source": [
        "def cross_entropy(Y,P):\n",
        "  Y = np.array(Y)\n",
        "  P = np.array(P)\n",
        "\n",
        "  return -np.sum(Y * np.log(P) + (1-Y) * np.log(1-P))"
      ],
      "metadata": {
        "id": "vZvBKhGjOCtJ"
      },
      "execution_count": null,
      "outputs": []
    },
    {
      "cell_type": "code",
      "source": [
        "#P는 blue, red일 확률\n",
        "P = [[0.6, 0.2, 0.9, 0.3], [0.7, 0.9, 0.2, 0.4]]\n",
        "#Y는 라벨\n",
        "Y = [[1., 1., 0., 0.], [1., 1., 0., 0.]]\n",
        "\n",
        "for p,y in zip(P,Y):\n",
        "  print(cross_entropy(y,p))\n",
        "\n",
        "#첫번째가 교차 엔트로피 값 더 큼 = 분류 잘못된 것"
      ],
      "metadata": {
        "colab": {
          "base_uri": "https://localhost:8080/"
        },
        "id": "ClP16nfmObvq",
        "outputId": "3ba4bf5d-4bd4-4496-c253-04aaba95e55c"
      },
      "execution_count": null,
      "outputs": [
        {
          "output_type": "stream",
          "name": "stdout",
          "text": [
            "4.779523573132869\n",
            "1.1960046346767592\n"
          ]
        }
      ]
    },
    {
      "cell_type": "markdown",
      "source": [
        "multiple cross entropy 구현"
      ],
      "metadata": {
        "id": "b8CSRCVHQwer"
      }
    },
    {
      "cell_type": "code",
      "source": [
        "def cross_entropy_error(y,t):\n",
        "  #if y가 0이면 무한대 -> 방지하기 위해 아주 작은 수 delta를 더해줌\n",
        "  delta = 1e-7\n",
        "  return -np.sum(t * np.log(y + delta))"
      ],
      "metadata": {
        "id": "aSVvPxFSQqU0"
      },
      "execution_count": null,
      "outputs": []
    },
    {
      "cell_type": "code",
      "source": [
        "#예측값 - 합치면 1\n",
        "y = [0.1, 0.05, 0.6, 0.0, 0.05, 0.1, 0.0, 0.1, 0.0, 0.0]\n",
        "#multiple classification의 label ex.MNIST\n",
        "t = [0, 0, 1, 0, 0, 0, 0, 0, 0, 0]\n",
        "\n",
        "cross_entropy_error(np.array(y), np.array(t))"
      ],
      "metadata": {
        "colab": {
          "base_uri": "https://localhost:8080/"
        },
        "id": "8hLaCLCORMA2",
        "outputId": "d90a4cc6-2a1c-4f99-e8e3-c28cfad61793"
      },
      "execution_count": null,
      "outputs": [
        {
          "output_type": "execute_result",
          "data": {
            "text/plain": [
              "0.510825457099338"
            ]
          },
          "metadata": {},
          "execution_count": 35
        }
      ]
    },
    {
      "cell_type": "code",
      "source": [
        "#y값 바꿔보기\n",
        "y = [0.1, 0.05, 0.4, 0.0, 0.05, 0.1, 0.0, 0.3, 0.0, 0.0]\n",
        "#multiple classification의 label ex.MNIST\n",
        "t = [0, 0, 1, 0, 0, 0, 0, 0, 0, 0]\n",
        "\n",
        "cross_entropy_error(np.array(y), np.array(t))\n",
        "#교차 엔트로피 값이 앞에 비해 크게 증가 = 잘못 분류된 것"
      ],
      "metadata": {
        "colab": {
          "base_uri": "https://localhost:8080/"
        },
        "id": "gfa8vmL9RcrH",
        "outputId": "eb01a0fc-3a09-4052-a852-7963110c14d2"
      },
      "execution_count": null,
      "outputs": [
        {
          "output_type": "execute_result",
          "data": {
            "text/plain": [
              "0.9162904818741863"
            ]
          },
          "metadata": {},
          "execution_count": 36
        }
      ]
    },
    {
      "cell_type": "markdown",
      "source": [
        "미니 배치 적용한 교차 엔트로피"
      ],
      "metadata": {
        "id": "MwKQjoZqWoNG"
      }
    },
    {
      "cell_type": "code",
      "source": [
        "def cross_entropy_error(y,t):\n",
        "  #y가 1차원이라 샘플이 하나로만 들어오는 경우 - 배치 나눌 수 없어서 차원 바꿔주는 것\n",
        "  #그대로 들어가면 batch size가 10이 됨 - 속도, 메모리 향상 위해 batch size를 1로 만들어줌\n",
        "  #현재 주어진 y는 결과값 10개, 샘플 1\n",
        "\n",
        "  if y.ndim == 1:\n",
        "    t = t.reshape(1, t.size)\n",
        "    y = y.reshape(1, y.size) #원래 y.size는 (10,) -> shape 통과시키면 (1,10)\n",
        "\n",
        "  batch_size = y.shape[0]\n",
        "  #batch_size는 sample의 개수만큼 나눠줘야 하는 것\n",
        "  \n",
        "  delta = 1e-7\n",
        "  return -np.sum(t * np.log(y + delta)) / batch_size\n",
        "  #각각에 대한 확률값 구하기 위해 batch_size로 나눠줘야 함"
      ],
      "metadata": {
        "id": "z4DoVzW7R43f"
      },
      "execution_count": null,
      "outputs": []
    },
    {
      "cell_type": "markdown",
      "source": [
        "미분"
      ],
      "metadata": {
        "id": "ZEVEq55PwRb7"
      }
    },
    {
      "cell_type": "code",
      "source": [
        "#2차함수 예시\n",
        "def func_1(x):\n",
        "  return 0.01*x**2 + 0.1*x"
      ],
      "metadata": {
        "id": "eTOO-0mmwoN0"
      },
      "execution_count": null,
      "outputs": []
    },
    {
      "cell_type": "code",
      "source": [
        "#x 미분값 구하기\n",
        "def numerical_diff(f,x):\n",
        "  h = 1e-4 #0.0001\n",
        "  return (f(x+h) - f(x)) / h"
      ],
      "metadata": {
        "id": "6myLB10CwQJ9"
      },
      "execution_count": null,
      "outputs": []
    },
    {
      "cell_type": "code",
      "source": [
        "numerical_diff(func_1, 5)"
      ],
      "metadata": {
        "colab": {
          "base_uri": "https://localhost:8080/"
        },
        "id": "uPD5T-Zvw2ya",
        "outputId": "d7a8b40a-515a-4c98-bee4-7d9222c1ea3d"
      },
      "execution_count": null,
      "outputs": [
        {
          "output_type": "execute_result",
          "data": {
            "text/plain": [
              "0.20000099999917254"
            ]
          },
          "metadata": {},
          "execution_count": 41
        }
      ]
    },
    {
      "cell_type": "code",
      "source": [
        "#위보다 좀더 정확한 방법\n",
        "def numerical_diff(f,x):\n",
        "  h = 1e-4 #0.0001\n",
        "  return (f(x+h) - f(x-h)) / (2 * h)"
      ],
      "metadata": {
        "id": "2lBwVywnxZNM"
      },
      "execution_count": null,
      "outputs": []
    },
    {
      "cell_type": "code",
      "source": [
        "numerical_diff(func_1, 5)"
      ],
      "metadata": {
        "colab": {
          "base_uri": "https://localhost:8080/"
        },
        "id": "z7QQ3ch-w5QS",
        "outputId": "9bf74771-ce68-4454-9d67-0c0988e69030"
      },
      "execution_count": null,
      "outputs": [
        {
          "output_type": "execute_result",
          "data": {
            "text/plain": [
              "0.1999999999990898"
            ]
          },
          "metadata": {},
          "execution_count": 43
        }
      ]
    },
    {
      "cell_type": "code",
      "source": [
        "import matplotlib.pyplot as plt"
      ],
      "metadata": {
        "id": "ZuZJe6uuxjiC"
      },
      "execution_count": null,
      "outputs": []
    },
    {
      "cell_type": "code",
      "source": [
        "#접선 1차함수 정의 -> f(x) = ax + b\n",
        "def tangent_line(f,x):\n",
        "  d = numerical_diff(f,x)\n",
        "  y = f(x) -d*x #y절편\n",
        "  return lambda t: d*t + y #기울기 함수 f(x) = dx + y\n",
        "  #책에서는 x를 t로 정의"
      ],
      "metadata": {
        "id": "4qoyMZ0Fx6Gl"
      },
      "execution_count": null,
      "outputs": []
    },
    {
      "cell_type": "code",
      "source": [
        "#func_1 함수 그래프 그리기\n",
        "x = np.arange(0.0, 20.0, 0.1)\n",
        "y = func_1(x)\n",
        "\n",
        "#x=5일 때 접선의 기울기\n",
        "tf = tangent_line(func_1, 5)\n",
        "y2 = tf(x)\n",
        "\n",
        "plt.xlabel(\"x\")\n",
        "plt.ylabel(\"f(x)\")\n",
        "plt.plot(x,y) #func_1의 2차함수\n",
        "plt.plot(x,y2) #5에서의 접선\n",
        "plt.show()\n",
        "#미분함으로써 접선의 기울기 구할 수 있음"
      ],
      "metadata": {
        "colab": {
          "base_uri": "https://localhost:8080/",
          "height": 279
        },
        "id": "wIg4dIofyHHQ",
        "outputId": "ad075e2d-c23b-4f81-92d0-cf1720be38e3"
      },
      "execution_count": null,
      "outputs": [
        {
          "output_type": "display_data",
          "data": {
            "image/png": "[encoded data removed]",
            "text/plain": [
              "<Figure size 432x288 with 1 Axes>"
            ]
          },
          "metadata": {
            "needs_background": "light"
          }
        }
      ]
    },
    {
      "cell_type": "markdown",
      "source": [
        "기울기와 경사 하강법"
      ],
      "metadata": {
        "id": "3xjMAFE2zuDQ"
      }
    },
    {
      "cell_type": "code",
      "source": [
        "#x변수 2개 = 변수 여러개일때의 미분 => '편미분'\n",
        "#원의 방정식\n",
        "def func_2(x):\n",
        "  return x[0]**2 + x[1]**2"
      ],
      "metadata": {
        "id": "4e-XOvW1yZ3a"
      },
      "execution_count": null,
      "outputs": []
    },
    {
      "cell_type": "code",
      "source": [
        "def numerical_gradient(f,x):\n",
        "  h = 1e-4\n",
        "  grad = np.zeros_like(x)\n",
        "  #변수의 개수만큼 기울기 구해야 함! =>x 두개이므로 기울기 두개\n",
        "  #np.zeros_like : 어떤 변수만큼의 사이즈인 0으로 가득찬 array 배출; 즉 x의 사이즈가 2이므로 [0,0]인 numpy array 배출\n",
        "  \n",
        "  #기울기 여러개 동시에 계산 불가하므로 x[0], x[1] 따로 하나씩 미분\n",
        "  for idx in range(x.size):\n",
        "    tmp_val = x[idx] #x값\n",
        "\n",
        "    #f(x+h)\n",
        "    x[idx] = float(tmp_val) + h #x변경(h만큼 크게)\n",
        "    fxh1 = f(x) #f(x) = func_2\n",
        "    #fxh1 = f(x0+h, x1) = (x0+h)^2 + x1^2\n",
        "\n",
        "    #f(x-h)\n",
        "    x[idx] = float(tmp_val) - h\n",
        "    fxh2 = f(x)\n",
        "\n",
        "    grad[idx] = (fxh1 - fxh2) / (2 * h) #기울기\n",
        "    x[idx] = tmp_val #원래 x값으로 원상복귀\n",
        "\n",
        "  return grad"
      ],
      "metadata": {
        "id": "GKXbM-JAz4F1"
      },
      "execution_count": null,
      "outputs": []
    },
    {
      "cell_type": "code",
      "source": [
        "#w0, w1에 대한 미분값\n",
        "numerical_gradient(func_2, np.array([3.0, 4.0]))"
      ],
      "metadata": {
        "colab": {
          "base_uri": "https://localhost:8080/"
        },
        "id": "V7STYfIw3BW-",
        "outputId": "b57affa5-c48c-45ab-82c1-e2d5be7361dc"
      },
      "execution_count": null,
      "outputs": [
        {
          "output_type": "execute_result",
          "data": {
            "text/plain": [
              "array([6., 8.])"
            ]
          },
          "metadata": {},
          "execution_count": 53
        }
      ]
    },
    {
      "cell_type": "code",
      "source": [
        "#경사하강법 - 고차원방정식 풀기 위해\n",
        "#한번에 optima 찾을 수 없으므로 lr 작게 줘서 점점 가중치를 오류 작아지는 방향으로 옮김\n",
        "def gradient_descent(f, init_x, lr=0.01,  step_num=100):\n",
        "  x = init_x #이게 원래 알고 있던 w이고, x역할 하는건 t\n",
        "  x_history = []\n",
        "\n",
        "  for i in range(step_num):\n",
        "    x_history.append(x.copy()) #가중치x가 어떻게 변화되는지 보여줌\n",
        "\n",
        "    grad = numerical_gradient(f,x)\n",
        "    x -= lr * grad #x값 업데이트(100번): 기존 값-학습률*편미분한 값\n",
        "\n",
        "  return x, np.array(x_history)"
      ],
      "metadata": {
        "id": "IcDa-rZb3N8U"
      },
      "execution_count": null,
      "outputs": []
    },
    {
      "cell_type": "code",
      "source": [
        "init_x = np.array([-3.0, 4.0]) #초기 w값(weight)\n",
        "\n",
        "lr = 0.1\n",
        "step_num = 100\n",
        "x, x_history = gradient_descent(func_2,init_x, lr=lr, step_num=step_num)\n"
      ],
      "metadata": {
        "id": "brrN80xeBr-o"
      },
      "execution_count": null,
      "outputs": []
    },
    {
      "cell_type": "code",
      "source": [
        "x"
      ],
      "metadata": {
        "colab": {
          "base_uri": "https://localhost:8080/"
        },
        "id": "_ZGPcEjmCGKn",
        "outputId": "ff09aca3-0e80-44c9-dcf7-5e3e2ee07211"
      },
      "execution_count": null,
      "outputs": [
        {
          "output_type": "execute_result",
          "data": {
            "text/plain": [
              "array([-6.11110793e-10,  8.14814391e-10])"
            ]
          },
          "metadata": {},
          "execution_count": 63
        }
      ]
    },
    {
      "cell_type": "code",
      "source": [
        "x_history"
      ],
      "metadata": {
        "id": "L6DUNYYnCHhB"
      },
      "execution_count": null,
      "outputs": []
    },
    {
      "cell_type": "markdown",
      "source": [
        "단층 신경망 클래스 구현"
      ],
      "metadata": {
        "id": "JzWNNc8bL-fg"
      }
    },
    {
      "cell_type": "code",
      "source": [
        "def softmax(x):\n",
        "  exp_x = np.exp(x)\n",
        "  sum_exp_x = sum(exp_x)\n",
        "  y = exp_x / sum_exp_x\n",
        "  \n",
        "  return y"
      ],
      "metadata": {
        "id": "g21TMAAmCtJg"
      },
      "execution_count": null,
      "outputs": []
    },
    {
      "cell_type": "code",
      "source": [
        "#샘플 1개인 경우의 편미분\n",
        "def _numerical_gradient_no_batch(f,w): #여기서 x는 가중치!\n",
        "  h = 1e-4\n",
        "  grad = np.zeros_like(w)\n",
        "  \n",
        "  for idx in range(w.size):\n",
        "    tmp_val = w[idx] #n번째 가중치\n",
        "\n",
        "    #f(w+h)\n",
        "    w[idx] = float(tmp_val) + h\n",
        "    fxh1 = f(w)\n",
        "\n",
        "    #f(w-h)\n",
        "    w[idx] = float(tmp_val) - h\n",
        "    fxh2 = f(w)\n",
        "\n",
        "    grad[idx] = (fxh1 - fxh2) / (2 * h)\n",
        "    w[idx] = tmp_val\n",
        "\n",
        "  return grad"
      ],
      "metadata": {
        "id": "mjLeLUGQMK6c"
      },
      "execution_count": null,
      "outputs": []
    },
    {
      "cell_type": "code",
      "source": [
        "def numerical_gradient(f,W): #여기서 X는 가중치(weight)!\n",
        "  #샘플 1개인 경우는 그냥 호출\n",
        "  if W.ndim == 1:\n",
        "    return _numerical_gradient_no_batch(f,W)\n",
        "  \n",
        "  #샘플 여러개 한꺼번에 들어온 경우: batch_size = 2\n",
        "  else:\n",
        "    grad = np.zeros_like(W)\n",
        "    \n",
        "    for idx, W in enumerate(W):\n",
        "      grad[idx] = _numerical_gradient_no_batch(f,W)\n",
        "\n",
        "    return grad"
      ],
      "metadata": {
        "id": "LAF6GkcRMWKH"
      },
      "execution_count": null,
      "outputs": []
    },
    {
      "cell_type": "code",
      "source": [
        "#신경망 만들기\n",
        "class SimpleNet:\n",
        "  def __init__(self):\n",
        "    self.W = np.random.randn(2,3) #초기화\n",
        "\n",
        "  def predict(self, x):\n",
        "    return np.dot(x, self.W)\n",
        "\n",
        "  #loss 함수\n",
        "  def loss(self, x, t): #t는 label\n",
        "    z = self.predict(x)\n",
        "    y = softmax(z)\n",
        "    loss = cross_entropy_error(y, t) #교차엔트로피 에러값\n",
        "\n",
        "    return loss #y와 t의 교차 엔트로피값"
      ],
      "metadata": {
        "id": "7gUHKPzDM3Zn"
      },
      "execution_count": null,
      "outputs": []
    },
    {
      "cell_type": "code",
      "source": [
        "net = SimpleNet() #객체화\n",
        "net.W"
      ],
      "metadata": {
        "colab": {
          "base_uri": "https://localhost:8080/"
        },
        "id": "m4pdqIOkNdTQ",
        "outputId": "01d98570-68d9-4b42-fd93-eb452317f5a2"
      },
      "execution_count": null,
      "outputs": [
        {
          "output_type": "execute_result",
          "data": {
            "text/plain": [
              "array([[ 0.33674988,  0.48966132,  0.52179073],\n",
              "       [-1.11784559, -1.39744402, -0.15255182]])"
            ]
          },
          "metadata": {},
          "execution_count": 112
        }
      ]
    },
    {
      "cell_type": "code",
      "source": [
        "#임의의 초기값 입력\n",
        "x = np.array([0.6, 0.9])"
      ],
      "metadata": {
        "id": "mNIjU7JBNhQG"
      },
      "execution_count": null,
      "outputs": []
    },
    {
      "cell_type": "code",
      "source": [
        "#실제로 예측한 값\n",
        "p = net.predict(x)\n",
        "p"
      ],
      "metadata": {
        "colab": {
          "base_uri": "https://localhost:8080/"
        },
        "id": "DOvTC7AjNnXx",
        "outputId": "c70a8af1-5150-4721-dde6-bfd61c6ddc73"
      },
      "execution_count": null,
      "outputs": [
        {
          "output_type": "execute_result",
          "data": {
            "text/plain": [
              "array([-0.8040111 , -0.96390283,  0.1757778 ])"
            ]
          },
          "metadata": {},
          "execution_count": 114
        }
      ]
    },
    {
      "cell_type": "code",
      "source": [
        "np.argmax(p) #가장 큰 값의 index 반환"
      ],
      "metadata": {
        "colab": {
          "base_uri": "https://localhost:8080/"
        },
        "id": "hXEZ6aMiNpRg",
        "outputId": "27a7314b-832b-466c-e4d7-430855a6054f"
      },
      "execution_count": null,
      "outputs": [
        {
          "output_type": "execute_result",
          "data": {
            "text/plain": [
              "2"
            ]
          },
          "metadata": {},
          "execution_count": 115
        }
      ]
    },
    {
      "cell_type": "code",
      "source": [
        "t = np.array([0, 0, 1])\n",
        "net.loss(x, t) #cross entropy 값"
      ],
      "metadata": {
        "colab": {
          "base_uri": "https://localhost:8080/"
        },
        "id": "TDA_PbM4NxOM",
        "outputId": "7726aa0e-3a22-49ca-e17c-07a6943c1830"
      },
      "execution_count": null,
      "outputs": [
        {
          "output_type": "execute_result",
          "data": {
            "text/plain": [
              "0.5278663378477122"
            ]
          },
          "metadata": {},
          "execution_count": 116
        }
      ]
    },
    {
      "cell_type": "code",
      "source": [
        "#더미 파라미터\n",
        "def f(d):\n",
        "  return net.loss(x, t)\n",
        "\n",
        "dw = numerical_gradient(f, net.W) #목적함수에 대해 미분한 값\n",
        "dw"
      ],
      "metadata": {
        "colab": {
          "base_uri": "https://localhost:8080/"
        },
        "id": "d75n-II_OCyv",
        "outputId": "6f342d31-2fb1-4a7f-c733-f364c80f96d5"
      },
      "execution_count": null,
      "outputs": [
        {
          "output_type": "execute_result",
          "data": {
            "text/plain": [
              "array([[ 0.13285709,  0.11322561, -0.2460827 ],\n",
              "       [ 0.19928564,  0.16983841, -0.36912405]])"
            ]
          },
          "metadata": {},
          "execution_count": 117
        }
      ]
    },
    {
      "cell_type": "code",
      "source": [
        "dw = numerical_gradient(lambda w : net.loss(x, t), net.W)\n",
        "dw"
      ],
      "metadata": {
        "colab": {
          "base_uri": "https://localhost:8080/"
        },
        "id": "VYMPnGZ1OiSK",
        "outputId": "a24e9bd2-fe82-4525-81cf-3aa0c5fb37dc"
      },
      "execution_count": null,
      "outputs": [
        {
          "output_type": "execute_result",
          "data": {
            "text/plain": [
              "array([[ 0.13285709,  0.11322561, -0.2460827 ],\n",
              "       [ 0.19928564,  0.16983841, -0.36912405]])"
            ]
          },
          "metadata": {},
          "execution_count": 118
        }
      ]
    },
    {
      "cell_type": "code",
      "source": [
        "#새로운 w 업데이트\n",
        "net.W = net.W - 0.001 * dw"
      ],
      "metadata": {
        "id": "CKC4GNKJTx9O"
      },
      "execution_count": null,
      "outputs": []
    },
    {
      "cell_type": "code",
      "source": [
        "net.W -= 0.001 * dw"
      ],
      "metadata": {
        "id": "VLQELK8-UNyJ"
      },
      "execution_count": null,
      "outputs": []
    },
    {
      "cell_type": "code",
      "source": [
        "p = net.predict(x)\n",
        "p"
      ],
      "metadata": {
        "colab": {
          "base_uri": "https://localhost:8080/"
        },
        "id": "V8q-01NlUVbr",
        "outputId": "8733d663-8be4-41c8-9895-eee775b22978"
      },
      "execution_count": null,
      "outputs": [
        {
          "output_type": "execute_result",
          "data": {
            "text/plain": [
              "array([-0.80452924, -0.96434441,  0.17673752])"
            ]
          },
          "metadata": {},
          "execution_count": 121
        }
      ]
    },
    {
      "cell_type": "code",
      "source": [
        "np.argmax(p)"
      ],
      "metadata": {
        "colab": {
          "base_uri": "https://localhost:8080/"
        },
        "id": "qeN6cK5LUX_C",
        "outputId": "ba55cd16-87a9-4a1a-ed90-f2b1d93e324a"
      },
      "execution_count": null,
      "outputs": [
        {
          "output_type": "execute_result",
          "data": {
            "text/plain": [
              "2"
            ]
          },
          "metadata": {},
          "execution_count": 122
        }
      ]
    },
    {
      "cell_type": "code",
      "source": [
        "#업데이트되며 loss(cross entropy 값) 작아짐\n",
        "net.loss(x,t)"
      ],
      "metadata": {
        "colab": {
          "base_uri": "https://localhost:8080/"
        },
        "id": "FKWuD006UZGA",
        "outputId": "626e30f3-6bd2-4949-a1e2-d34f01978abc"
      },
      "execution_count": null,
      "outputs": [
        {
          "output_type": "execute_result",
          "data": {
            "text/plain": [
              "0.5272749095507626"
            ]
          },
          "metadata": {},
          "execution_count": 123
        }
      ]
    },
    {
      "cell_type": "code",
      "source": [
        "#반복할수록 loss 감소\n",
        "for i in range(10):\n",
        "  dw = numerical_gradient(lambda w : net.loss(x, t), net.W)\n",
        "  net.W -= 0.001 * dw\n",
        "  loss = net.loss(x,t)\n",
        "  print(loss)"
      ],
      "metadata": {
        "colab": {
          "base_uri": "https://localhost:8080/"
        },
        "id": "jOUm5H69UdCo",
        "outputId": "b7e823da-7090-4ca2-a40c-ca668f105ad6"
      },
      "execution_count": null,
      "outputs": [
        {
          "output_type": "stream",
          "name": "stdout",
          "text": [
            "0.5269796360861035\n",
            "0.5266846140398473\n",
            "0.5263898431647127\n",
            "0.5260953232136423\n",
            "0.5258010539398008\n",
            "0.5255070350965771\n",
            "0.5252132664375821\n",
            "0.5249197477166485\n",
            "0.5246264786878337\n",
            "0.5243334591054155\n"
          ]
        }
      ]
    },
    {
      "cell_type": "code",
      "source": [
        ""
      ],
      "metadata": {
        "id": "LhWaVx1caVcU"
      },
      "execution_count": null,
      "outputs": []
    }
  ]
}