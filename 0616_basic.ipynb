{
  "nbformat": 4,
  "nbformat_minor": 0,
  "metadata": {
    "colab": {
      "name": "0616_basic.ipynb",
      "provenance": [],
      "collapsed_sections": []
    },
    "kernelspec": {
      "name": "python3",
      "display_name": "Python 3"
    },
    "language_info": {
      "name": "python"
    }
  },
  "cells": [
    {
      "cell_type": "markdown",
      "source": [
        "# 데이터 로드"
      ],
      "metadata": {
        "id": "MD2XwqMeIyJ-"
      }
    },
    {
      "cell_type": "code",
      "execution_count": 9,
      "metadata": {
        "id": "JBMxZ8lfT9AR",
        "colab": {
          "base_uri": "https://localhost:8080/"
        },
        "outputId": "3622bdee-fe77-43ee-ff60-11206de74890"
      },
      "outputs": [
        {
          "output_type": "stream",
          "name": "stdout",
          "text": [
            "          Unnamed: 0   mpg  cyl   disp   hp  drat     wt   qsec  vs      am  \\\n",
            "0          Mazda RX4  21.0  6.0  160.0  110  3.90  2.620  16.46   0  manual   \n",
            "1      Mazda RX4 Wag  21.0  6.0  160.0  110  3.90  2.875  17.02   0  manual   \n",
            "2         Datsun 710  22.8  4.0  108.0   93  3.85  2.320  18.61   1  manual   \n",
            "3     Hornet 4 Drive  21.4  6.0  258.0  110  3.08  3.215   0.10   1    auto   \n",
            "4  Hornet Sportabout  18.7  8.0  360.0  175  3.15  3.440  17.02   0    auto   \n",
            "\n",
            "  gear  carb  \n",
            "0    4     4  \n",
            "1    4     4  \n",
            "2    4     1  \n",
            "3    3     1  \n",
            "4    3     2  \n",
            "(32, 12)\n"
          ]
        }
      ],
      "source": [
        "import pandas as pd\n",
        "data = pd.read_csv('/content/drive/MyDrive/bigData-main/mtcars.csv')\n",
        "print(data.head())\n",
        "print(data.shape)"
      ]
    },
    {
      "cell_type": "code",
      "source": [
        "print(type(data))"
      ],
      "metadata": {
        "colab": {
          "base_uri": "https://localhost:8080/"
        },
        "id": "fxVazj88A8Vz",
        "outputId": "9b13c10e-c53b-41d0-94f5-68e28763e4e1"
      },
      "execution_count": 10,
      "outputs": [
        {
          "output_type": "stream",
          "name": "stdout",
          "text": [
            "<class 'pandas.core.frame.DataFrame'>\n"
          ]
        }
      ]
    },
    {
      "cell_type": "code",
      "source": [
        "print(data.columns)"
      ],
      "metadata": {
        "colab": {
          "base_uri": "https://localhost:8080/"
        },
        "id": "I_4eoJFNCRog",
        "outputId": "bfb308ed-0a17-40a1-cefe-31be12d15d55"
      },
      "execution_count": 11,
      "outputs": [
        {
          "output_type": "stream",
          "name": "stdout",
          "text": [
            "Index(['Unnamed: 0', 'mpg', 'cyl', 'disp', 'hp', 'drat', 'wt', 'qsec', 'vs',\n",
            "       'am', 'gear', 'carb'],\n",
            "      dtype='object')\n"
          ]
        }
      ]
    },
    {
      "cell_type": "code",
      "source": [
        "print(data.describe())"
      ],
      "metadata": {
        "colab": {
          "base_uri": "https://localhost:8080/"
        },
        "id": "-bLjhDTOCTe2",
        "outputId": "63537856-623e-470e-a795-0ebe069fd11f"
      },
      "execution_count": 12,
      "outputs": [
        {
          "output_type": "stream",
          "name": "stdout",
          "text": [
            "             mpg        cyl        disp          hp       drat         wt  \\\n",
            "count  32.000000  30.000000   32.000000   32.000000  32.000000  32.000000   \n",
            "mean   20.090625   7.600000  230.721875  146.687500   3.596563   3.217250   \n",
            "std     6.026948   8.194195  123.938694   68.562868   0.534679   0.978457   \n",
            "min    10.400000   4.000000   71.100000   52.000000   2.760000   1.513000   \n",
            "25%    15.425000   4.000000  120.825000   96.500000   3.080000   2.581250   \n",
            "50%    19.200000   6.000000  196.300000  123.000000   3.695000   3.325000   \n",
            "75%    22.800000   8.000000  326.000000  180.000000   3.920000   3.610000   \n",
            "max    33.900000  50.000000  472.000000  335.000000   4.930000   5.424000   \n",
            "\n",
            "             qsec         vs     carb  \n",
            "count   31.000000  32.000000  32.0000  \n",
            "mean    19.866774   0.437500   2.8125  \n",
            "std     15.310469   0.504016   1.6152  \n",
            "min      0.100000   0.000000   1.0000  \n",
            "25%     16.785000   0.000000   2.0000  \n",
            "50%     17.600000   0.000000   2.0000  \n",
            "75%     18.755000   1.000000   4.0000  \n",
            "max    100.000000   1.000000   8.0000  \n"
          ]
        }
      ]
    },
    {
      "cell_type": "code",
      "source": [
        "print(data['hp'].describe())"
      ],
      "metadata": {
        "colab": {
          "base_uri": "https://localhost:8080/"
        },
        "id": "cgrlutfvCXbd",
        "outputId": "6838985b-6cb3-45eb-e45d-69d40c1d77a7"
      },
      "execution_count": 13,
      "outputs": [
        {
          "output_type": "stream",
          "name": "stdout",
          "text": [
            "count     32.000000\n",
            "mean     146.687500\n",
            "std       68.562868\n",
            "min       52.000000\n",
            "25%       96.500000\n",
            "50%      123.000000\n",
            "75%      180.000000\n",
            "max      335.000000\n",
            "Name: hp, dtype: float64\n"
          ]
        }
      ]
    },
    {
      "cell_type": "code",
      "source": [
        "print(data['am'].unique())"
      ],
      "metadata": {
        "colab": {
          "base_uri": "https://localhost:8080/"
        },
        "id": "rEgWoZmDCc9_",
        "outputId": "9b88d9ef-d1ce-48cb-e690-bdd71f13c05b"
      },
      "execution_count": 14,
      "outputs": [
        {
          "output_type": "stream",
          "name": "stdout",
          "text": [
            "['manual' 'auto']\n"
          ]
        }
      ]
    },
    {
      "cell_type": "code",
      "source": [
        "print(data['gear'].unique())"
      ],
      "metadata": {
        "colab": {
          "base_uri": "https://localhost:8080/"
        },
        "id": "LeWoyFgtCevq",
        "outputId": "3d27fb91-30fc-4844-b386-97349cde3e4e"
      },
      "execution_count": 15,
      "outputs": [
        {
          "output_type": "stream",
          "name": "stdout",
          "text": [
            "['4' '3' '*3' '5' '*5']\n"
          ]
        }
      ]
    },
    {
      "cell_type": "code",
      "source": [
        "print(data.info())"
      ],
      "metadata": {
        "colab": {
          "base_uri": "https://localhost:8080/"
        },
        "id": "7nuyjxnKCl6p",
        "outputId": "1e19849d-a723-4fcc-caea-681033fac9a4"
      },
      "execution_count": 16,
      "outputs": [
        {
          "output_type": "stream",
          "name": "stdout",
          "text": [
            "<class 'pandas.core.frame.DataFrame'>\n",
            "RangeIndex: 32 entries, 0 to 31\n",
            "Data columns (total 12 columns):\n",
            " #   Column      Non-Null Count  Dtype  \n",
            "---  ------      --------------  -----  \n",
            " 0   Unnamed: 0  32 non-null     object \n",
            " 1   mpg         32 non-null     float64\n",
            " 2   cyl         30 non-null     float64\n",
            " 3   disp        32 non-null     float64\n",
            " 4   hp          32 non-null     int64  \n",
            " 5   drat        32 non-null     float64\n",
            " 6   wt          32 non-null     float64\n",
            " 7   qsec        31 non-null     float64\n",
            " 8   vs          32 non-null     int64  \n",
            " 9   am          32 non-null     object \n",
            " 10  gear        32 non-null     object \n",
            " 11  carb        32 non-null     int64  \n",
            "dtypes: float64(6), int64(3), object(3)\n",
            "memory usage: 3.1+ KB\n",
            "None\n"
          ]
        }
      ]
    },
    {
      "cell_type": "code",
      "source": [
        "print(data.corr())"
      ],
      "metadata": {
        "colab": {
          "base_uri": "https://localhost:8080/"
        },
        "id": "9QCgdUfMCojS",
        "outputId": "69b7f51b-c2a4-46e7-ece2-a6377484a6c1"
      },
      "execution_count": 17,
      "outputs": [
        {
          "output_type": "stream",
          "name": "stdout",
          "text": [
            "           mpg       cyl      disp        hp      drat        wt      qsec  \\\n",
            "mpg   1.000000 -0.460227 -0.847551 -0.776168  0.681172 -0.867659  0.013668   \n",
            "cyl  -0.460227  1.000000  0.544876  0.323293 -0.372671  0.533690 -0.012755   \n",
            "disp -0.847551  0.544876  1.000000  0.790949 -0.710214  0.887980  0.181810   \n",
            "hp   -0.776168  0.323293  0.790949  1.000000 -0.448759  0.658748  0.010807   \n",
            "drat  0.681172 -0.372671 -0.710214 -0.448759  1.000000 -0.712441 -0.120283   \n",
            "wt   -0.867659  0.533690  0.887980  0.658748 -0.712441  1.000000  0.093900   \n",
            "qsec  0.013668 -0.012755  0.181810  0.010807 -0.120283  0.093900  1.000000   \n",
            "vs    0.664039 -0.323960 -0.710416 -0.723097  0.440278 -0.554916 -0.112146   \n",
            "carb -0.550925  0.239980  0.394977  0.749812 -0.090790  0.427606 -0.120312   \n",
            "\n",
            "            vs      carb  \n",
            "mpg   0.664039 -0.550925  \n",
            "cyl  -0.323960  0.239980  \n",
            "disp -0.710416  0.394977  \n",
            "hp   -0.723097  0.749812  \n",
            "drat  0.440278 -0.090790  \n",
            "wt   -0.554916  0.427606  \n",
            "qsec -0.112146 -0.120312  \n",
            "vs    1.000000 -0.569607  \n",
            "carb -0.569607  1.000000  \n"
          ]
        }
      ]
    },
    {
      "cell_type": "code",
      "source": [
        "X = data.drop(columns='mpg')\n",
        "Y = data['mpg']\n",
        "print(X.head())\n",
        "print()\n",
        "print(Y.head())"
      ],
      "metadata": {
        "colab": {
          "base_uri": "https://localhost:8080/"
        },
        "id": "2qkEJhrcCsEb",
        "outputId": "2bb2e239-115b-4306-8fb0-1d6b80949dc0"
      },
      "execution_count": 18,
      "outputs": [
        {
          "output_type": "stream",
          "name": "stdout",
          "text": [
            "          Unnamed: 0  cyl   disp   hp  drat     wt   qsec  vs      am gear  \\\n",
            "0          Mazda RX4  6.0  160.0  110  3.90  2.620  16.46   0  manual    4   \n",
            "1      Mazda RX4 Wag  6.0  160.0  110  3.90  2.875  17.02   0  manual    4   \n",
            "2         Datsun 710  4.0  108.0   93  3.85  2.320  18.61   1  manual    4   \n",
            "3     Hornet 4 Drive  6.0  258.0  110  3.08  3.215   0.10   1    auto    3   \n",
            "4  Hornet Sportabout  8.0  360.0  175  3.15  3.440  17.02   0    auto    3   \n",
            "\n",
            "   carb  \n",
            "0     4  \n",
            "1     4  \n",
            "2     1  \n",
            "3     1  \n",
            "4     2  \n",
            "\n",
            "0    21.0\n",
            "1    21.0\n",
            "2    22.8\n",
            "3    21.4\n",
            "4    18.7\n",
            "Name: mpg, dtype: float64\n"
          ]
        }
      ]
    },
    {
      "cell_type": "markdown",
      "source": [
        "# 전처리"
      ],
      "metadata": {
        "id": "qsJzL3B_I989"
      }
    },
    {
      "cell_type": "code",
      "source": [
        "print(X.head())"
      ],
      "metadata": {
        "colab": {
          "base_uri": "https://localhost:8080/"
        },
        "id": "R3972JYyD79V",
        "outputId": "518c8674-2d99-4318-8bba-fcfd640b3392"
      },
      "execution_count": 19,
      "outputs": [
        {
          "output_type": "stream",
          "name": "stdout",
          "text": [
            "          Unnamed: 0  cyl   disp   hp  drat     wt   qsec  vs      am gear  \\\n",
            "0          Mazda RX4  6.0  160.0  110  3.90  2.620  16.46   0  manual    4   \n",
            "1      Mazda RX4 Wag  6.0  160.0  110  3.90  2.875  17.02   0  manual    4   \n",
            "2         Datsun 710  4.0  108.0   93  3.85  2.320  18.61   1  manual    4   \n",
            "3     Hornet 4 Drive  6.0  258.0  110  3.08  3.215   0.10   1    auto    3   \n",
            "4  Hornet Sportabout  8.0  360.0  175  3.15  3.440  17.02   0    auto    3   \n",
            "\n",
            "   carb  \n",
            "0     4  \n",
            "1     4  \n",
            "2     1  \n",
            "3     1  \n",
            "4     2  \n"
          ]
        }
      ]
    },
    {
      "cell_type": "code",
      "source": [
        "X = X.drop(columns = 'Unnamed: 0')\n",
        "print(X.head())"
      ],
      "metadata": {
        "colab": {
          "base_uri": "https://localhost:8080/"
        },
        "id": "DspErTQhEPJO",
        "outputId": "54b1bc0e-be85-4f4a-f871-7c81246b6946"
      },
      "execution_count": 20,
      "outputs": [
        {
          "output_type": "stream",
          "name": "stdout",
          "text": [
            "   cyl   disp   hp  drat     wt   qsec  vs      am gear  carb\n",
            "0  6.0  160.0  110  3.90  2.620  16.46   0  manual    4     4\n",
            "1  6.0  160.0  110  3.90  2.875  17.02   0  manual    4     4\n",
            "2  4.0  108.0   93  3.85  2.320  18.61   1  manual    4     1\n",
            "3  6.0  258.0  110  3.08  3.215   0.10   1    auto    3     1\n",
            "4  8.0  360.0  175  3.15  3.440  17.02   0    auto    3     2\n"
          ]
        }
      ]
    },
    {
      "cell_type": "code",
      "source": [
        "print(X.isnull().sum())"
      ],
      "metadata": {
        "colab": {
          "base_uri": "https://localhost:8080/"
        },
        "id": "uro95LJGEZLh",
        "outputId": "b3a455e9-7f0b-4372-c118-615fd0f3d7ce"
      },
      "execution_count": 21,
      "outputs": [
        {
          "output_type": "stream",
          "name": "stdout",
          "text": [
            "cyl     2\n",
            "disp    0\n",
            "hp      0\n",
            "drat    0\n",
            "wt      0\n",
            "qsec    1\n",
            "vs      0\n",
            "am      0\n",
            "gear    0\n",
            "carb    0\n",
            "dtype: int64\n"
          ]
        }
      ]
    },
    {
      "cell_type": "code",
      "source": [
        "X_cyl_mean = X['cyl'].mean()\n",
        "#print(X_cyl_mean)\n",
        "X['cyl'] = X['cyl'].fillna(X_cyl_mean)\n",
        "print(X.isnull().sum())"
      ],
      "metadata": {
        "colab": {
          "base_uri": "https://localhost:8080/"
        },
        "id": "m-cV0cPQEe0a",
        "outputId": "feedf125-39fb-4303-af75-24a1a76d3552"
      },
      "execution_count": 22,
      "outputs": [
        {
          "output_type": "stream",
          "name": "stdout",
          "text": [
            "cyl     0\n",
            "disp    0\n",
            "hp      0\n",
            "drat    0\n",
            "wt      0\n",
            "qsec    1\n",
            "vs      0\n",
            "am      0\n",
            "gear    0\n",
            "carb    0\n",
            "dtype: int64\n"
          ]
        }
      ]
    },
    {
      "cell_type": "code",
      "source": [
        "X_qsec_median = X['qsec'].median()\n",
        "#print(X_qsec_median)\n",
        "X['qsec'] = X['qsec'].fillna(X_qsec_median)\n",
        "print(X.isnull().sum())"
      ],
      "metadata": {
        "colab": {
          "base_uri": "https://localhost:8080/"
        },
        "id": "ih0XKzudEqZE",
        "outputId": "e176776f-afb7-4777-cc1f-a9a79fd5eb79"
      },
      "execution_count": 23,
      "outputs": [
        {
          "output_type": "stream",
          "name": "stdout",
          "text": [
            "cyl     0\n",
            "disp    0\n",
            "hp      0\n",
            "drat    0\n",
            "wt      0\n",
            "qsec    0\n",
            "vs      0\n",
            "am      0\n",
            "gear    0\n",
            "carb    0\n",
            "dtype: int64\n"
          ]
        }
      ]
    },
    {
      "cell_type": "code",
      "source": [
        "print(X['gear'].unique())"
      ],
      "metadata": {
        "colab": {
          "base_uri": "https://localhost:8080/"
        },
        "id": "ndO2s2VlFCWO",
        "outputId": "949d1dce-ddd9-487c-e914-ccb012db5d96"
      },
      "execution_count": 24,
      "outputs": [
        {
          "output_type": "stream",
          "name": "stdout",
          "text": [
            "['4' '3' '*3' '5' '*5']\n"
          ]
        }
      ]
    },
    {
      "cell_type": "code",
      "source": [
        "X['gear'] = X['gear'].replace('*3','3').replace('*5','5')\n",
        "print(X['gear'].unique())"
      ],
      "metadata": {
        "colab": {
          "base_uri": "https://localhost:8080/"
        },
        "id": "cnNjH8YPFRAV",
        "outputId": "f6fed977-04e5-4be7-a813-573af8a088a9"
      },
      "execution_count": 25,
      "outputs": [
        {
          "output_type": "stream",
          "name": "stdout",
          "text": [
            "['4' '3' '5']\n"
          ]
        }
      ]
    },
    {
      "cell_type": "code",
      "source": [
        "X_describe = X.describe()\n",
        "print(X_describe)"
      ],
      "metadata": {
        "colab": {
          "base_uri": "https://localhost:8080/"
        },
        "id": "9FqG9zY5Fcr_",
        "outputId": "70ab7267-a02e-4ee9-8b6c-3ea2451495af"
      },
      "execution_count": 26,
      "outputs": [
        {
          "output_type": "stream",
          "name": "stdout",
          "text": [
            "             cyl        disp          hp       drat         wt        qsec  \\\n",
            "count  32.000000   32.000000   32.000000  32.000000  32.000000   32.000000   \n",
            "mean    7.600000  230.721875  146.687500   3.596563   3.217250   19.795938   \n",
            "std     7.925459  123.938694   68.562868   0.534679   0.978457   15.066831   \n",
            "min     4.000000   71.100000   52.000000   2.760000   1.513000    0.100000   \n",
            "25%     4.000000  120.825000   96.500000   3.080000   2.581250   16.827500   \n",
            "50%     6.000000  196.300000  123.000000   3.695000   3.325000   17.600000   \n",
            "75%     8.000000  326.000000  180.000000   3.920000   3.610000   18.682500   \n",
            "max    50.000000  472.000000  335.000000   4.930000   5.424000  100.000000   \n",
            "\n",
            "              vs     carb  \n",
            "count  32.000000  32.0000  \n",
            "mean    0.437500   2.8125  \n",
            "std     0.504016   1.6152  \n",
            "min     0.000000   1.0000  \n",
            "25%     0.000000   2.0000  \n",
            "50%     0.000000   2.0000  \n",
            "75%     1.000000   4.0000  \n",
            "max     1.000000   8.0000  \n"
          ]
        }
      ]
    },
    {
      "cell_type": "code",
      "source": [
        "print(X_describe.loc['75%'], X_describe.loc['25%'])"
      ],
      "metadata": {
        "colab": {
          "base_uri": "https://localhost:8080/"
        },
        "id": "QfMyjK8eFloZ",
        "outputId": "5a92c6f6-86ab-4382-f229-882937a077f7"
      },
      "execution_count": 27,
      "outputs": [
        {
          "output_type": "stream",
          "name": "stdout",
          "text": [
            "cyl       8.0000\n",
            "disp    326.0000\n",
            "hp      180.0000\n",
            "drat      3.9200\n",
            "wt        3.6100\n",
            "qsec     18.6825\n",
            "vs        1.0000\n",
            "carb      4.0000\n",
            "Name: 75%, dtype: float64 cyl       4.00000\n",
            "disp    120.82500\n",
            "hp       96.50000\n",
            "drat      3.08000\n",
            "wt        2.58125\n",
            "qsec     16.82750\n",
            "vs        0.00000\n",
            "carb      2.00000\n",
            "Name: 25%, dtype: float64\n"
          ]
        }
      ]
    },
    {
      "cell_type": "code",
      "source": [
        "X_iqr = X_describe.loc['75%'] - X_describe.loc['25%']\n",
        "print(X_iqr)"
      ],
      "metadata": {
        "colab": {
          "base_uri": "https://localhost:8080/"
        },
        "id": "QVcPA-I0F3pw",
        "outputId": "b2a6368d-9884-45c1-a4cf-29c646d32e0b"
      },
      "execution_count": 28,
      "outputs": [
        {
          "output_type": "stream",
          "name": "stdout",
          "text": [
            "cyl       4.00000\n",
            "disp    205.17500\n",
            "hp       83.50000\n",
            "drat      0.84000\n",
            "wt        1.02875\n",
            "qsec      1.85500\n",
            "vs        1.00000\n",
            "carb      2.00000\n",
            "dtype: float64\n"
          ]
        }
      ]
    },
    {
      "cell_type": "code",
      "source": [
        "print(X_describe.loc['75%'] + (1.5 * X_iqr))"
      ],
      "metadata": {
        "colab": {
          "base_uri": "https://localhost:8080/"
        },
        "id": "vVCONzEsGBA1",
        "outputId": "c7111d74-3b5c-4849-fc90-d0c419eb8046"
      },
      "execution_count": 29,
      "outputs": [
        {
          "output_type": "stream",
          "name": "stdout",
          "text": [
            "cyl      14.000000\n",
            "disp    633.762500\n",
            "hp      305.250000\n",
            "drat      5.180000\n",
            "wt        5.153125\n",
            "qsec     21.465000\n",
            "vs        2.500000\n",
            "carb      7.000000\n",
            "dtype: float64\n"
          ]
        }
      ]
    },
    {
      "cell_type": "code",
      "source": [
        "print(X_describe.loc['max'])"
      ],
      "metadata": {
        "colab": {
          "base_uri": "https://localhost:8080/"
        },
        "id": "f5EXYiIeGK1B",
        "outputId": "31789977-6d2e-4d34-e8b9-0d8988ae4eb6"
      },
      "execution_count": 30,
      "outputs": [
        {
          "output_type": "stream",
          "name": "stdout",
          "text": [
            "cyl      50.000\n",
            "disp    472.000\n",
            "hp      335.000\n",
            "drat      4.930\n",
            "wt        5.424\n",
            "qsec    100.000\n",
            "vs        1.000\n",
            "carb      8.000\n",
            "Name: max, dtype: float64\n"
          ]
        }
      ]
    },
    {
      "cell_type": "code",
      "source": [
        "print(X.loc[X['cyl'] > 14])"
      ],
      "metadata": {
        "colab": {
          "base_uri": "https://localhost:8080/"
        },
        "id": "8Y-iTmrSGQHY",
        "outputId": "11133576-c1b7-412a-8c08-2fe215b45f95"
      },
      "execution_count": 31,
      "outputs": [
        {
          "output_type": "stream",
          "name": "stdout",
          "text": [
            "     cyl   disp   hp  drat    wt   qsec  vs    am gear  carb\n",
            "14  50.0  472.0  205  2.93  5.25  17.98   0  auto    3     4\n"
          ]
        }
      ]
    },
    {
      "cell_type": "code",
      "source": [
        "X.loc[14, 'cyl'] = 14\n",
        "X.loc[14, 'cyl']"
      ],
      "metadata": {
        "colab": {
          "base_uri": "https://localhost:8080/"
        },
        "id": "TscPElqRGdBx",
        "outputId": "a01f5430-2880-4be9-ffe2-8def58a7b89a"
      },
      "execution_count": 32,
      "outputs": [
        {
          "output_type": "execute_result",
          "data": {
            "text/plain": [
              "14.0"
            ]
          },
          "metadata": {},
          "execution_count": 32
        }
      ]
    },
    {
      "cell_type": "code",
      "source": [
        "print(X.loc[X['hp'] > 305.25])"
      ],
      "metadata": {
        "colab": {
          "base_uri": "https://localhost:8080/"
        },
        "id": "mU23g65FGjXU",
        "outputId": "69309388-c7dd-49b7-c6f2-de8ede630302"
      },
      "execution_count": 33,
      "outputs": [
        {
          "output_type": "stream",
          "name": "stdout",
          "text": [
            "    cyl   disp   hp  drat    wt  qsec  vs      am gear  carb\n",
            "30  8.0  301.0  335  3.54  3.57  14.6   0  manual    5     8\n"
          ]
        }
      ]
    },
    {
      "cell_type": "code",
      "source": [
        "X.loc[30, 'hp'] = 305.25\n",
        "X.loc[30, 'hp']"
      ],
      "metadata": {
        "colab": {
          "base_uri": "https://localhost:8080/"
        },
        "id": "l03r8TuKGrg6",
        "outputId": "5dba6ec5-3c6d-4920-a70e-f04e7b90a1c0"
      },
      "execution_count": 34,
      "outputs": [
        {
          "output_type": "execute_result",
          "data": {
            "text/plain": [
              "305.25"
            ]
          },
          "metadata": {},
          "execution_count": 34
        }
      ]
    },
    {
      "cell_type": "code",
      "source": [
        "print(X_describe.loc['25%'] - (1.5 * X_iqr))"
      ],
      "metadata": {
        "colab": {
          "base_uri": "https://localhost:8080/"
        },
        "id": "vUSVY4xBGyKM",
        "outputId": "001a9580-e40c-4f23-babd-885c3b5cb4f5"
      },
      "execution_count": 35,
      "outputs": [
        {
          "output_type": "stream",
          "name": "stdout",
          "text": [
            "cyl      -2.000000\n",
            "disp   -186.937500\n",
            "hp      -28.750000\n",
            "drat      1.820000\n",
            "wt        1.038125\n",
            "qsec     14.045000\n",
            "vs       -1.500000\n",
            "carb     -1.000000\n",
            "dtype: float64\n"
          ]
        }
      ]
    },
    {
      "cell_type": "code",
      "source": [
        "print(X_describe.loc['min'])"
      ],
      "metadata": {
        "colab": {
          "base_uri": "https://localhost:8080/"
        },
        "id": "lXF5o-EYG7mf",
        "outputId": "d6cfc33f-21fa-48e0-ac5c-e55f523b638a"
      },
      "execution_count": 36,
      "outputs": [
        {
          "output_type": "stream",
          "name": "stdout",
          "text": [
            "cyl      4.000\n",
            "disp    71.100\n",
            "hp      52.000\n",
            "drat     2.760\n",
            "wt       1.513\n",
            "qsec     0.100\n",
            "vs       0.000\n",
            "carb     1.000\n",
            "Name: min, dtype: float64\n"
          ]
        }
      ]
    },
    {
      "cell_type": "code",
      "source": [
        "def outlier(data, column):\n",
        "  mean = data[column].mean()\n",
        "  std = data[column].std()\n",
        "  lowest = mean - (1.5 * std)\n",
        "  highest = mean + (1.5 * std)\n",
        "  print('최소 경계값:', lowest, '최대 경계값:', highest)\n",
        "  outlier_index = data[column][(data[column] < lowest) | (data[column] > highest)].index\n",
        "  return outlier_index"
      ],
      "metadata": {
        "id": "KKDhbpUqG_TV"
      },
      "execution_count": 37,
      "outputs": []
    },
    {
      "cell_type": "code",
      "source": [
        "print(outlier(X, 'qsec'))"
      ],
      "metadata": {
        "colab": {
          "base_uri": "https://localhost:8080/"
        },
        "id": "MbGj4N2rICXR",
        "outputId": "34ce56f8-52f8-4d05-a2a3-ea9bf1663058"
      },
      "execution_count": 38,
      "outputs": [
        {
          "output_type": "stream",
          "name": "stdout",
          "text": [
            "최소 경계값: -2.8043094560577657 최대 경계값: 42.39618445605777\n",
            "Int64Index([24], dtype='int64')\n"
          ]
        }
      ]
    },
    {
      "cell_type": "code",
      "source": [
        "print(X.loc[24, 'qsec'])"
      ],
      "metadata": {
        "colab": {
          "base_uri": "https://localhost:8080/"
        },
        "id": "Auwl4DMgIF2Q",
        "outputId": "1bb5f4fa-66f0-4e6e-962f-43ceceb13b33"
      },
      "execution_count": 39,
      "outputs": [
        {
          "output_type": "stream",
          "name": "stdout",
          "text": [
            "100.0\n"
          ]
        }
      ]
    },
    {
      "cell_type": "code",
      "source": [
        "X.loc[24, 'qsec'] = 42.4\n",
        "print(X.loc[24, 'qsec'])"
      ],
      "metadata": {
        "colab": {
          "base_uri": "https://localhost:8080/"
        },
        "id": "pu2o83NvIOR9",
        "outputId": "4653039c-d8be-45a3-f9a2-88b0ee648741"
      },
      "execution_count": 40,
      "outputs": [
        {
          "output_type": "stream",
          "name": "stdout",
          "text": [
            "42.4\n"
          ]
        }
      ]
    },
    {
      "cell_type": "code",
      "source": [
        "print(outlier(X, 'carb'))"
      ],
      "metadata": {
        "colab": {
          "base_uri": "https://localhost:8080/"
        },
        "id": "-EaiKJfcIYr9",
        "outputId": "5d3c028d-8754-425d-9432-c8fec8a7519c"
      },
      "execution_count": 41,
      "outputs": [
        {
          "output_type": "stream",
          "name": "stdout",
          "text": [
            "최소 경계값: 0.3897000335522218 최대 경계값: 5.235299966447778\n",
            "Int64Index([29, 30], dtype='int64')\n"
          ]
        }
      ]
    },
    {
      "cell_type": "code",
      "source": [
        "print(X.loc[[29,30], 'carb'])"
      ],
      "metadata": {
        "colab": {
          "base_uri": "https://localhost:8080/"
        },
        "id": "kDTfQmE8IcjM",
        "outputId": "042132c9-335d-4238-c428-2deb6470a9b2"
      },
      "execution_count": 42,
      "outputs": [
        {
          "output_type": "stream",
          "name": "stdout",
          "text": [
            "29    6\n",
            "30    8\n",
            "Name: carb, dtype: int64\n"
          ]
        }
      ]
    },
    {
      "cell_type": "code",
      "source": [
        "X.loc[29, 'carb'] = 5.24\n",
        "X.loc[30, 'carb'] = 5.24\n",
        "X.loc[[29,30], 'carb']"
      ],
      "metadata": {
        "colab": {
          "base_uri": "https://localhost:8080/"
        },
        "id": "o6CZKTJOIg7r",
        "outputId": "2de8f8a9-9c98-4b49-d866-f9c86c8e5c53"
      },
      "execution_count": 43,
      "outputs": [
        {
          "output_type": "execute_result",
          "data": {
            "text/plain": [
              "29    5.24\n",
              "30    5.24\n",
              "Name: carb, dtype: float64"
            ]
          },
          "metadata": {},
          "execution_count": 43
        }
      ]
    },
    {
      "cell_type": "code",
      "source": [
        "#표준 크기변환\n",
        "from sklearn.preprocessing import StandardScaler\n",
        "\n",
        "temp = X[['qsec']]"
      ],
      "metadata": {
        "id": "sFJoYupLIttc"
      },
      "execution_count": 44,
      "outputs": []
    },
    {
      "cell_type": "code",
      "source": [
        "model = StandardScaler()\n",
        "\n",
        "print(model.fit_transform(temp))"
      ],
      "metadata": {
        "colab": {
          "base_uri": "https://localhost:8080/"
        },
        "id": "MzYwI27kJUTK",
        "outputId": "bd06d92c-6042-4499-e40c-629193bccebd"
      },
      "execution_count": 45,
      "outputs": [
        {
          "output_type": "stream",
          "name": "stdout",
          "text": [
            "[[-2.73141413e-01]\n",
            " [-1.73554554e-01]\n",
            " [ 1.09200992e-01]\n",
            " [-3.18250037e+00]\n",
            " [-1.73554554e-01]\n",
            " [ 3.95513212e-01]\n",
            " [-3.83398293e-01]\n",
            " [ 3.56389804e-01]\n",
            " [ 8.72107467e-01]\n",
            " [ 5.40725524e-02]\n",
            " [-7.04110215e-02]\n",
            " [-1.05977757e-01]\n",
            " [-7.04110215e-02]\n",
            " [ 7.22449313e-04]\n",
            " [-2.83422423e-03]\n",
            " [-3.12876126e-02]\n",
            " [-1.02421083e-01]\n",
            " [ 2.62137955e-01]\n",
            " [ 9.31959614e-02]\n",
            " [ 3.38606436e-01]\n",
            " [ 3.58168140e-01]\n",
            " [-2.00229606e-01]\n",
            " [-1.23761125e-01]\n",
            " [-4.59866774e-01]\n",
            " [ 4.33986417e+00]\n",
            " [ 1.60772759e-01]\n",
            " [-2.30461331e-01]\n",
            " [-1.94894596e-01]\n",
            " [-6.21695421e-01]\n",
            " [-4.43861743e-01]\n",
            " [-6.03912053e-01]\n",
            " [ 1.07422656e-01]]\n"
          ]
        }
      ]
    },
    {
      "cell_type": "code",
      "source": [
        "qsec_s_scaler = pd.DataFrame(model.fit_transform(temp))\n",
        "print(qsec_s_scaler.describe())"
      ],
      "metadata": {
        "colab": {
          "base_uri": "https://localhost:8080/"
        },
        "id": "U3OAHssrJaR2",
        "outputId": "dd27048f-20ae-4f65-a546-4ebe433bcf00"
      },
      "execution_count": 46,
      "outputs": [
        {
          "output_type": "stream",
          "name": "stdout",
          "text": [
            "                  0\n",
            "count  3.200000e+01\n",
            "mean  -6.461845e-16\n",
            "std    1.016001e+00\n",
            "min   -3.182500e+00\n",
            "25%   -2.077875e-01\n",
            "50%   -7.041102e-02\n",
            "75%    1.220939e-01\n",
            "max    4.339864e+00\n"
          ]
        }
      ]
    },
    {
      "cell_type": "code",
      "source": [
        "#최소최대 크기변환\n",
        "from sklearn.preprocessing import MinMaxScaler\n",
        "\n",
        "temp = X[['qsec']]"
      ],
      "metadata": {
        "id": "H4jqyJlOJnC7"
      },
      "execution_count": 47,
      "outputs": []
    },
    {
      "cell_type": "code",
      "source": [
        "model = MinMaxScaler()\n",
        "\n",
        "qsec_m_scaler = pd.DataFrame(model.fit_transform(temp))\n",
        "print(qsec_m_scaler)"
      ],
      "metadata": {
        "colab": {
          "base_uri": "https://localhost:8080/"
        },
        "id": "e3N0TnwwKA2R",
        "outputId": "b5eb1e6e-b6be-40c2-b07a-99e2490dbee1"
      },
      "execution_count": 48,
      "outputs": [
        {
          "output_type": "stream",
          "name": "stdout",
          "text": [
            "           0\n",
            "0   0.386761\n",
            "1   0.400000\n",
            "2   0.437589\n",
            "3   0.000000\n",
            "4   0.400000\n",
            "5   0.475650\n",
            "6   0.372104\n",
            "7   0.470449\n",
            "8   0.539007\n",
            "9   0.430260\n",
            "10  0.413712\n",
            "11  0.408983\n",
            "12  0.413712\n",
            "13  0.423168\n",
            "14  0.422695\n",
            "15  0.418913\n",
            "16  0.409456\n",
            "17  0.457920\n",
            "18  0.435461\n",
            "19  0.468085\n",
            "20  0.470686\n",
            "21  0.396454\n",
            "22  0.406619\n",
            "23  0.361939\n",
            "24  1.000000\n",
            "25  0.444444\n",
            "26  0.392435\n",
            "27  0.397163\n",
            "28  0.340426\n",
            "29  0.364066\n",
            "30  0.342790\n",
            "31  0.437352\n"
          ]
        }
      ]
    },
    {
      "cell_type": "code",
      "source": [
        "print(qsec_m_scaler.describe())"
      ],
      "metadata": {
        "colab": {
          "base_uri": "https://localhost:8080/"
        },
        "id": "LIUR4IgyKKkH",
        "outputId": "dc0d68c4-c89e-48f8-d510-7b925b755477"
      },
      "execution_count": 49,
      "outputs": [
        {
          "output_type": "stream",
          "name": "stdout",
          "text": [
            "               0\n",
            "count  32.000000\n",
            "mean    0.423072\n",
            "std     0.135064\n",
            "min     0.000000\n",
            "25%     0.395449\n",
            "50%     0.413712\n",
            "75%     0.439303\n",
            "max     1.000000\n"
          ]
        }
      ]
    },
    {
      "cell_type": "code",
      "source": [
        "#로버스트 크기변환\n",
        "from sklearn.preprocessing import RobustScaler\n",
        "\n",
        "temp = X[['qsec']]"
      ],
      "metadata": {
        "id": "vCnHeqiUKP6G"
      },
      "execution_count": 50,
      "outputs": []
    },
    {
      "cell_type": "code",
      "source": [
        "model = RobustScaler()\n",
        "\n",
        "qsec_r_scaler = pd.DataFrame(model.fit_transform(temp))\n",
        "print(qsec_r_scaler)\n",
        "print()\n",
        "print(qsec_r_scaler.describe())"
      ],
      "metadata": {
        "colab": {
          "base_uri": "https://localhost:8080/"
        },
        "id": "sXvgTLfzKXlb",
        "outputId": "a2cbca4b-948b-444b-d7bd-f8e438de9e61"
      },
      "execution_count": 51,
      "outputs": [
        {
          "output_type": "stream",
          "name": "stdout",
          "text": [
            "            0\n",
            "0   -0.614555\n",
            "1   -0.312668\n",
            "2    0.544474\n",
            "3   -9.433962\n",
            "4   -0.312668\n",
            "5    1.412399\n",
            "6   -0.948787\n",
            "7    1.293801\n",
            "8    2.857143\n",
            "9    0.377358\n",
            "10   0.000000\n",
            "11  -0.107817\n",
            "12   0.000000\n",
            "13   0.215633\n",
            "14   0.204852\n",
            "15   0.118598\n",
            "16  -0.097035\n",
            "17   1.008086\n",
            "18   0.495957\n",
            "19   1.239892\n",
            "20   1.299191\n",
            "21  -0.393531\n",
            "22  -0.161725\n",
            "23  -1.180593\n",
            "24  13.369272\n",
            "25   0.700809\n",
            "26  -0.485175\n",
            "27  -0.377358\n",
            "28  -1.671159\n",
            "29  -1.132075\n",
            "30  -1.617251\n",
            "31   0.539084\n",
            "\n",
            "               0\n",
            "count  32.000000\n",
            "mean    0.213443\n",
            "std     3.079897\n",
            "min    -9.433962\n",
            "25%    -0.416442\n",
            "50%     0.000000\n",
            "75%     0.583558\n",
            "max    13.369272\n"
          ]
        }
      ]
    },
    {
      "cell_type": "code",
      "source": [
        "print(X.info())"
      ],
      "metadata": {
        "colab": {
          "base_uri": "https://localhost:8080/"
        },
        "id": "2m8ZOr7MKmL1",
        "outputId": "34552f6e-6e3e-4fe5-bd97-aeac721ed423"
      },
      "execution_count": 52,
      "outputs": [
        {
          "output_type": "stream",
          "name": "stdout",
          "text": [
            "<class 'pandas.core.frame.DataFrame'>\n",
            "RangeIndex: 32 entries, 0 to 31\n",
            "Data columns (total 10 columns):\n",
            " #   Column  Non-Null Count  Dtype  \n",
            "---  ------  --------------  -----  \n",
            " 0   cyl     32 non-null     float64\n",
            " 1   disp    32 non-null     float64\n",
            " 2   hp      32 non-null     float64\n",
            " 3   drat    32 non-null     float64\n",
            " 4   wt      32 non-null     float64\n",
            " 5   qsec    32 non-null     float64\n",
            " 6   vs      32 non-null     int64  \n",
            " 7   am      32 non-null     object \n",
            " 8   gear    32 non-null     object \n",
            " 9   carb    32 non-null     float64\n",
            "dtypes: float64(7), int64(1), object(2)\n",
            "memory usage: 2.6+ KB\n",
            "None\n"
          ]
        }
      ]
    },
    {
      "cell_type": "code",
      "source": [
        "X['gear'] = X['gear'].astype('int64')\n",
        "X['gear'].dtype"
      ],
      "metadata": {
        "colab": {
          "base_uri": "https://localhost:8080/"
        },
        "id": "-u2vP38RKsqW",
        "outputId": "3e3bb954-d9f3-413f-9493-a20de66cd6fd"
      },
      "execution_count": 53,
      "outputs": [
        {
          "output_type": "execute_result",
          "data": {
            "text/plain": [
              "dtype('int64')"
            ]
          },
          "metadata": {},
          "execution_count": 53
        }
      ]
    },
    {
      "cell_type": "code",
      "source": [
        "#원핫 인코딩\n",
        "print(X.head())"
      ],
      "metadata": {
        "colab": {
          "base_uri": "https://localhost:8080/"
        },
        "id": "mSHPXKMyK32l",
        "outputId": "25ba9385-6402-4af6-8f23-54605be6d1be"
      },
      "execution_count": 54,
      "outputs": [
        {
          "output_type": "stream",
          "name": "stdout",
          "text": [
            "   cyl   disp     hp  drat     wt   qsec  vs      am  gear  carb\n",
            "0  6.0  160.0  110.0  3.90  2.620  16.46   0  manual     4   4.0\n",
            "1  6.0  160.0  110.0  3.90  2.875  17.02   0  manual     4   4.0\n",
            "2  4.0  108.0   93.0  3.85  2.320  18.61   1  manual     4   1.0\n",
            "3  6.0  258.0  110.0  3.08  3.215   0.10   1    auto     3   1.0\n",
            "4  8.0  360.0  175.0  3.15  3.440  17.02   0    auto     3   2.0\n"
          ]
        }
      ]
    },
    {
      "cell_type": "code",
      "source": [
        "print(X['am'].unique())"
      ],
      "metadata": {
        "colab": {
          "base_uri": "https://localhost:8080/"
        },
        "id": "njQaTBM9K_KK",
        "outputId": "03834442-7642-49fc-95d0-53d570213689"
      },
      "execution_count": 55,
      "outputs": [
        {
          "output_type": "stream",
          "name": "stdout",
          "text": [
            "['manual' 'auto']\n"
          ]
        }
      ]
    },
    {
      "cell_type": "code",
      "source": [
        "print(pd.get_dummies(X['am']))"
      ],
      "metadata": {
        "colab": {
          "base_uri": "https://localhost:8080/"
        },
        "id": "sC3Rz-YELCjd",
        "outputId": "d42bb284-e6d8-49d6-d0e9-77ec32c6842d"
      },
      "execution_count": 56,
      "outputs": [
        {
          "output_type": "stream",
          "name": "stdout",
          "text": [
            "    auto  manual\n",
            "0      0       1\n",
            "1      0       1\n",
            "2      0       1\n",
            "3      1       0\n",
            "4      1       0\n",
            "5      1       0\n",
            "6      1       0\n",
            "7      1       0\n",
            "8      1       0\n",
            "9      1       0\n",
            "10     1       0\n",
            "11     1       0\n",
            "12     1       0\n",
            "13     1       0\n",
            "14     1       0\n",
            "15     1       0\n",
            "16     1       0\n",
            "17     0       1\n",
            "18     0       1\n",
            "19     0       1\n",
            "20     1       0\n",
            "21     1       0\n",
            "22     1       0\n",
            "23     1       0\n",
            "24     1       0\n",
            "25     0       1\n",
            "26     0       1\n",
            "27     0       1\n",
            "28     0       1\n",
            "29     0       1\n",
            "30     0       1\n",
            "31     0       1\n"
          ]
        }
      ]
    },
    {
      "cell_type": "code",
      "source": [
        "print(pd.get_dummies(X['am'], drop_first = True))"
      ],
      "metadata": {
        "colab": {
          "base_uri": "https://localhost:8080/"
        },
        "id": "ne0L2CXzLGWs",
        "outputId": "37ced667-71b5-42a8-ace5-17741d211396"
      },
      "execution_count": 57,
      "outputs": [
        {
          "output_type": "stream",
          "name": "stdout",
          "text": [
            "    manual\n",
            "0        1\n",
            "1        1\n",
            "2        1\n",
            "3        0\n",
            "4        0\n",
            "5        0\n",
            "6        0\n",
            "7        0\n",
            "8        0\n",
            "9        0\n",
            "10       0\n",
            "11       0\n",
            "12       0\n",
            "13       0\n",
            "14       0\n",
            "15       0\n",
            "16       0\n",
            "17       1\n",
            "18       1\n",
            "19       1\n",
            "20       0\n",
            "21       0\n",
            "22       0\n",
            "23       0\n",
            "24       0\n",
            "25       1\n",
            "26       1\n",
            "27       1\n",
            "28       1\n",
            "29       1\n",
            "30       1\n",
            "31       1\n"
          ]
        }
      ]
    },
    {
      "cell_type": "code",
      "source": [
        "print(pd.get_dummies(X, drop_first=True))"
      ],
      "metadata": {
        "colab": {
          "base_uri": "https://localhost:8080/"
        },
        "id": "6plAZLn9MHaa",
        "outputId": "805c11af-7726-49c6-814c-964ab44a2d05"
      },
      "execution_count": 58,
      "outputs": [
        {
          "output_type": "stream",
          "name": "stdout",
          "text": [
            "     cyl   disp      hp  drat     wt   qsec  vs  gear  carb  am_manual\n",
            "0    6.0  160.0  110.00  3.90  2.620  16.46   0     4  4.00          1\n",
            "1    6.0  160.0  110.00  3.90  2.875  17.02   0     4  4.00          1\n",
            "2    4.0  108.0   93.00  3.85  2.320  18.61   1     4  1.00          1\n",
            "3    6.0  258.0  110.00  3.08  3.215   0.10   1     3  1.00          0\n",
            "4    8.0  360.0  175.00  3.15  3.440  17.02   0     3  2.00          0\n",
            "5    6.0  225.0  105.00  2.76  3.460  20.22   1     3  1.00          0\n",
            "6    8.0  360.0  245.00  3.21  3.570  15.84   0     3  4.00          0\n",
            "7    7.6  146.7   62.00  3.69  3.190  20.00   1     4  2.00          0\n",
            "8    4.0  140.8   95.00  3.92  3.150  22.90   1     4  2.00          0\n",
            "9    6.0  167.6  123.00  3.92  3.440  18.30   1     4  4.00          0\n",
            "10   6.0  167.6  123.00  3.92  3.440  17.60   1     4  4.00          0\n",
            "11   8.0  275.8  180.00  3.07  4.070  17.40   0     3  3.00          0\n",
            "12   8.0  275.8  180.00  3.07  3.730  17.60   0     3  3.00          0\n",
            "13   8.0  275.8  180.00  3.07  3.780  18.00   0     3  3.00          0\n",
            "14  14.0  472.0  205.00  2.93  5.250  17.98   0     3  4.00          0\n",
            "15   8.0  460.0  215.00  3.00  5.424  17.82   0     3  4.00          0\n",
            "16   8.0  440.0  230.00  3.23  5.345  17.42   0     3  4.00          0\n",
            "17   4.0   78.7   66.00  4.08  2.200  19.47   1     4  1.00          1\n",
            "18   4.0   75.7   52.00  4.93  1.615  18.52   1     4  2.00          1\n",
            "19   4.0   71.1   65.00  4.22  1.835  19.90   1     4  1.00          1\n",
            "20   4.0  120.1   97.00  3.70  2.465  20.01   1     3  1.00          0\n",
            "21   8.0  318.0  150.00  2.76  3.520  16.87   0     3  2.00          0\n",
            "22   8.0  304.0  150.00  3.15  3.435  17.30   0     3  2.00          0\n",
            "23   8.0  350.0  245.00  3.73  3.840  15.41   0     3  4.00          0\n",
            "24   7.6  400.0  175.00  3.08  3.845  42.40   0     3  2.00          0\n",
            "25   4.0   79.0   66.00  4.08  1.935  18.90   1     4  1.00          1\n",
            "26   4.0  120.3   91.00  4.43  2.140  16.70   0     5  2.00          1\n",
            "27   4.0   95.1  113.00  3.77  1.513  16.90   1     5  2.00          1\n",
            "28   8.0  351.0  264.00  4.22  3.170  14.50   0     5  4.00          1\n",
            "29   6.0  145.0  175.00  3.62  2.770  15.50   0     5  5.24          1\n",
            "30   8.0  301.0  305.25  3.54  3.570  14.60   0     5  5.24          1\n",
            "31   4.0  121.0  109.00  4.11  2.780  18.60   1     4  2.00          1\n"
          ]
        }
      ]
    },
    {
      "cell_type": "code",
      "source": [
        "#라벨 인코딩\n",
        "print(X['am'].head())"
      ],
      "metadata": {
        "colab": {
          "base_uri": "https://localhost:8080/"
        },
        "id": "LhQ96tc5MSSf",
        "outputId": "f959b9fa-7530-4b31-e66d-33082496bfe8"
      },
      "execution_count": 59,
      "outputs": [
        {
          "output_type": "stream",
          "name": "stdout",
          "text": [
            "0    manual\n",
            "1    manual\n",
            "2    manual\n",
            "3      auto\n",
            "4      auto\n",
            "Name: am, dtype: object\n"
          ]
        }
      ]
    },
    {
      "cell_type": "code",
      "source": [
        "from sklearn.preprocessing import LabelEncoder\n",
        "encoder = LabelEncoder()\n",
        "print(encoder.fit_transform(X['am']))"
      ],
      "metadata": {
        "colab": {
          "base_uri": "https://localhost:8080/"
        },
        "id": "5u6owdgHMZf-",
        "outputId": "5e295a11-5f4b-41f2-9263-de3b993b94b7"
      },
      "execution_count": 60,
      "outputs": [
        {
          "output_type": "stream",
          "name": "stdout",
          "text": [
            "[1 1 1 0 0 0 0 0 0 0 0 0 0 0 0 0 0 1 1 1 0 0 0 0 0 1 1 1 1 1 1 1]\n"
          ]
        }
      ]
    },
    {
      "cell_type": "code",
      "source": [
        "fruit = ['apple', 'banana', 'grape']\n",
        "encoder = LabelEncoder()\n",
        "fruit_new = encoder.fit_transform(fruit)\n",
        "print(fruit, fruit_new)"
      ],
      "metadata": {
        "colab": {
          "base_uri": "https://localhost:8080/"
        },
        "id": "Typd22OvMfUC",
        "outputId": "137c1f28-31b5-4c1b-9357-1bf9c23f366f"
      },
      "execution_count": 61,
      "outputs": [
        {
          "output_type": "stream",
          "name": "stdout",
          "text": [
            "['apple', 'banana', 'grape'] [0 1 2]\n"
          ]
        }
      ]
    },
    {
      "cell_type": "code",
      "source": [
        "#수동 인코딩\n",
        "X['am_new'] = X['am'].replace('manual', 0).replace('auto', 1)\n",
        "print(X.head())"
      ],
      "metadata": {
        "colab": {
          "base_uri": "https://localhost:8080/"
        },
        "id": "BZ2yE2MxM77J",
        "outputId": "342fbcc3-3372-4b98-a5dd-686e181ddedf"
      },
      "execution_count": 62,
      "outputs": [
        {
          "output_type": "stream",
          "name": "stdout",
          "text": [
            "   cyl   disp     hp  drat     wt   qsec  vs      am  gear  carb  am_new\n",
            "0  6.0  160.0  110.0  3.90  2.620  16.46   0  manual     4   4.0       0\n",
            "1  6.0  160.0  110.0  3.90  2.875  17.02   0  manual     4   4.0       0\n",
            "2  4.0  108.0   93.0  3.85  2.320  18.61   1  manual     4   1.0       0\n",
            "3  6.0  258.0  110.0  3.08  3.215   0.10   1    auto     3   1.0       1\n",
            "4  8.0  360.0  175.0  3.15  3.440  17.02   0    auto     3   2.0       1\n"
          ]
        }
      ]
    },
    {
      "cell_type": "code",
      "source": [
        "X = X.drop(columns = 'am')"
      ],
      "metadata": {
        "id": "2FwR7PgDNLGy"
      },
      "execution_count": 63,
      "outputs": []
    },
    {
      "cell_type": "code",
      "source": [
        "print(X.head())"
      ],
      "metadata": {
        "colab": {
          "base_uri": "https://localhost:8080/"
        },
        "id": "EDr9aJLUNeKT",
        "outputId": "024b28c7-e6f7-4f02-d38c-3624bb2a21ce"
      },
      "execution_count": 64,
      "outputs": [
        {
          "output_type": "stream",
          "name": "stdout",
          "text": [
            "   cyl   disp     hp  drat     wt   qsec  vs  gear  carb  am_new\n",
            "0  6.0  160.0  110.0  3.90  2.620  16.46   0     4   4.0       0\n",
            "1  6.0  160.0  110.0  3.90  2.875  17.02   0     4   4.0       0\n",
            "2  4.0  108.0   93.0  3.85  2.320  18.61   1     4   1.0       0\n",
            "3  6.0  258.0  110.0  3.08  3.215   0.10   1     3   1.0       1\n",
            "4  8.0  360.0  175.0  3.15  3.440  17.02   0     3   2.0       1\n"
          ]
        }
      ]
    },
    {
      "cell_type": "code",
      "source": [
        "#파생변수 만들기\n",
        "print(X['wt'] < 3.3)"
      ],
      "metadata": {
        "colab": {
          "base_uri": "https://localhost:8080/"
        },
        "id": "zupVZjPYNgfW",
        "outputId": "2d62aa12-914f-46bb-8d04-d2702b885d52"
      },
      "execution_count": 65,
      "outputs": [
        {
          "output_type": "stream",
          "name": "stdout",
          "text": [
            "0      True\n",
            "1      True\n",
            "2      True\n",
            "3      True\n",
            "4     False\n",
            "5     False\n",
            "6     False\n",
            "7      True\n",
            "8      True\n",
            "9     False\n",
            "10    False\n",
            "11    False\n",
            "12    False\n",
            "13    False\n",
            "14    False\n",
            "15    False\n",
            "16    False\n",
            "17     True\n",
            "18     True\n",
            "19     True\n",
            "20     True\n",
            "21    False\n",
            "22    False\n",
            "23    False\n",
            "24    False\n",
            "25     True\n",
            "26     True\n",
            "27     True\n",
            "28     True\n",
            "29     True\n",
            "30    False\n",
            "31     True\n",
            "Name: wt, dtype: bool\n"
          ]
        }
      ]
    },
    {
      "cell_type": "code",
      "source": [
        "condition = X['wt'] < 3.3\n",
        "X.loc[condition, 'wt_class'] = 0\n",
        "X.loc[~condition, 'wt_class'] = 1\n",
        "print(X[['wt', 'wt_class']])"
      ],
      "metadata": {
        "colab": {
          "base_uri": "https://localhost:8080/"
        },
        "id": "8vokerJkNmQ8",
        "outputId": "9088d3c5-7f28-4170-b129-41c8b7ba4ed6"
      },
      "execution_count": 66,
      "outputs": [
        {
          "output_type": "stream",
          "name": "stdout",
          "text": [
            "       wt  wt_class\n",
            "0   2.620       0.0\n",
            "1   2.875       0.0\n",
            "2   2.320       0.0\n",
            "3   3.215       0.0\n",
            "4   3.440       1.0\n",
            "5   3.460       1.0\n",
            "6   3.570       1.0\n",
            "7   3.190       0.0\n",
            "8   3.150       0.0\n",
            "9   3.440       1.0\n",
            "10  3.440       1.0\n",
            "11  4.070       1.0\n",
            "12  3.730       1.0\n",
            "13  3.780       1.0\n",
            "14  5.250       1.0\n",
            "15  5.424       1.0\n",
            "16  5.345       1.0\n",
            "17  2.200       0.0\n",
            "18  1.615       0.0\n",
            "19  1.835       0.0\n",
            "20  2.465       0.0\n",
            "21  3.520       1.0\n",
            "22  3.435       1.0\n",
            "23  3.840       1.0\n",
            "24  3.845       1.0\n",
            "25  1.935       0.0\n",
            "26  2.140       0.0\n",
            "27  1.513       0.0\n",
            "28  3.170       0.0\n",
            "29  2.770       0.0\n",
            "30  3.570       1.0\n",
            "31  2.780       0.0\n"
          ]
        }
      ]
    },
    {
      "cell_type": "code",
      "source": [
        "X = X.drop(columns = ['wt'])\n",
        "print(X.head())"
      ],
      "metadata": {
        "colab": {
          "base_uri": "https://localhost:8080/"
        },
        "id": "-hBqXwjIN1SM",
        "outputId": "858ac2eb-3680-4f5c-fbea-5bd97413f522"
      },
      "execution_count": 67,
      "outputs": [
        {
          "output_type": "stream",
          "name": "stdout",
          "text": [
            "   cyl   disp     hp  drat   qsec  vs  gear  carb  am_new  wt_class\n",
            "0  6.0  160.0  110.0  3.90  16.46   0     4   4.0       0       0.0\n",
            "1  6.0  160.0  110.0  3.90  17.02   0     4   4.0       0       0.0\n",
            "2  4.0  108.0   93.0  3.85  18.61   1     4   1.0       0       0.0\n",
            "3  6.0  258.0  110.0  3.08   0.10   1     3   1.0       1       0.0\n",
            "4  8.0  360.0  175.0  3.15  17.02   0     3   2.0       1       1.0\n"
          ]
        }
      ]
    },
    {
      "cell_type": "code",
      "source": [
        "X['qsec_4'] = X['qsec'] * 4\n",
        "print(X[['qsec', 'qsec_4']])"
      ],
      "metadata": {
        "colab": {
          "base_uri": "https://localhost:8080/"
        },
        "id": "FbbjZDp7O6kW",
        "outputId": "61cf2ae6-f4ab-4a5c-e507-b22ad7befc45"
      },
      "execution_count": 68,
      "outputs": [
        {
          "output_type": "stream",
          "name": "stdout",
          "text": [
            "     qsec  qsec_4\n",
            "0   16.46   65.84\n",
            "1   17.02   68.08\n",
            "2   18.61   74.44\n",
            "3    0.10    0.40\n",
            "4   17.02   68.08\n",
            "5   20.22   80.88\n",
            "6   15.84   63.36\n",
            "7   20.00   80.00\n",
            "8   22.90   91.60\n",
            "9   18.30   73.20\n",
            "10  17.60   70.40\n",
            "11  17.40   69.60\n",
            "12  17.60   70.40\n",
            "13  18.00   72.00\n",
            "14  17.98   71.92\n",
            "15  17.82   71.28\n",
            "16  17.42   69.68\n",
            "17  19.47   77.88\n",
            "18  18.52   74.08\n",
            "19  19.90   79.60\n",
            "20  20.01   80.04\n",
            "21  16.87   67.48\n",
            "22  17.30   69.20\n",
            "23  15.41   61.64\n",
            "24  42.40  169.60\n",
            "25  18.90   75.60\n",
            "26  16.70   66.80\n",
            "27  16.90   67.60\n",
            "28  14.50   58.00\n",
            "29  15.50   62.00\n",
            "30  14.60   58.40\n",
            "31  18.60   74.40\n"
          ]
        }
      ]
    },
    {
      "cell_type": "code",
      "source": [
        "X = X.drop(columns = ['qsec'])\n",
        "print(X.head())"
      ],
      "metadata": {
        "colab": {
          "base_uri": "https://localhost:8080/"
        },
        "id": "SS5kLLfnPKnC",
        "outputId": "5f8284a2-05f4-4ddf-b427-073a07dc4431"
      },
      "execution_count": 69,
      "outputs": [
        {
          "output_type": "stream",
          "name": "stdout",
          "text": [
            "   cyl   disp     hp  drat  vs  gear  carb  am_new  wt_class  qsec_4\n",
            "0  6.0  160.0  110.0  3.90   0     4   4.0       0       0.0   65.84\n",
            "1  6.0  160.0  110.0  3.90   0     4   4.0       0       0.0   68.08\n",
            "2  4.0  108.0   93.0  3.85   1     4   1.0       0       0.0   74.44\n",
            "3  6.0  258.0  110.0  3.08   1     3   1.0       1       0.0    0.40\n",
            "4  8.0  360.0  175.0  3.15   0     3   2.0       1       1.0   68.08\n"
          ]
        }
      ]
    },
    {
      "cell_type": "markdown",
      "source": [
        "# 모델 생성과 모델 검증"
      ],
      "metadata": {
        "id": "mupnbAPdPYiP"
      }
    },
    {
      "cell_type": "code",
      "source": [
        "#학습 데이터와 테스트 데이터 분리\n",
        "from sklearn.model_selection import train_test_split\n",
        "\n",
        "x_train, x_test, y_train, y_test = train_test_split(X, Y, test_size=0.3, random_state=10)"
      ],
      "metadata": {
        "id": "39Y5wVo_PWjL"
      },
      "execution_count": 70,
      "outputs": []
    },
    {
      "cell_type": "code",
      "source": [
        "print(x_train.head())"
      ],
      "metadata": {
        "colab": {
          "base_uri": "https://localhost:8080/"
        },
        "id": "L3tgr1W9Ppom",
        "outputId": "a6743fd2-2a58-4b1c-d648-2bf10f18a5da"
      },
      "execution_count": 71,
      "outputs": [
        {
          "output_type": "stream",
          "name": "stdout",
          "text": [
            "     cyl   disp     hp  drat  vs  gear  carb  am_new  wt_class  qsec_4\n",
            "19   4.0   71.1   65.0  4.22   1     4   1.0       0       0.0   79.60\n",
            "14  14.0  472.0  205.0  2.93   0     3   4.0       1       1.0   71.92\n",
            "18   4.0   75.7   52.0  4.93   1     4   2.0       0       0.0   74.08\n",
            "6    8.0  360.0  245.0  3.21   0     3   4.0       1       1.0   63.36\n",
            "11   8.0  275.8  180.0  3.07   0     3   3.0       1       1.0   69.60\n"
          ]
        }
      ]
    },
    {
      "cell_type": "code",
      "source": [
        "print(x_test.head())"
      ],
      "metadata": {
        "colab": {
          "base_uri": "https://localhost:8080/"
        },
        "id": "WDwthdUyPrVB",
        "outputId": "ee03f716-f56b-4ad7-ca3a-6fdef9e43813"
      },
      "execution_count": 72,
      "outputs": [
        {
          "output_type": "stream",
          "name": "stdout",
          "text": [
            "    cyl   disp     hp  drat  vs  gear  carb  am_new  wt_class  qsec_4\n",
            "20  4.0  120.1   97.0  3.70   1     3   1.0       1       0.0   80.04\n",
            "7   7.6  146.7   62.0  3.69   1     4   2.0       1       0.0   80.00\n",
            "5   6.0  225.0  105.0  2.76   1     3   1.0       1       1.0   80.88\n",
            "2   4.0  108.0   93.0  3.85   1     4   1.0       0       0.0   74.44\n",
            "3   6.0  258.0  110.0  3.08   1     3   1.0       1       0.0    0.40\n"
          ]
        }
      ]
    },
    {
      "cell_type": "code",
      "source": [
        "print(y_train.head())"
      ],
      "metadata": {
        "colab": {
          "base_uri": "https://localhost:8080/"
        },
        "id": "Ud4YhdwbPuqe",
        "outputId": "9d0bc162-e37c-4cf6-9ad4-c0433e9f0aae"
      },
      "execution_count": 73,
      "outputs": [
        {
          "output_type": "stream",
          "name": "stdout",
          "text": [
            "19    33.9\n",
            "14    10.4\n",
            "18    30.4\n",
            "6     14.3\n",
            "11    16.4\n",
            "Name: mpg, dtype: float64\n"
          ]
        }
      ]
    },
    {
      "cell_type": "code",
      "source": [
        "print(y_test.head())"
      ],
      "metadata": {
        "colab": {
          "base_uri": "https://localhost:8080/"
        },
        "id": "Wt8FJQl4PyFJ",
        "outputId": "c54d332e-b59b-433f-dbc1-d93d11d2da61"
      },
      "execution_count": 74,
      "outputs": [
        {
          "output_type": "stream",
          "name": "stdout",
          "text": [
            "20    21.5\n",
            "7     24.4\n",
            "5     18.1\n",
            "2     22.8\n",
            "3     21.4\n",
            "Name: mpg, dtype: float64\n"
          ]
        }
      ]
    },
    {
      "cell_type": "markdown",
      "source": [
        "## 예측 모델링"
      ],
      "metadata": {
        "id": "hijgGGffP7jN"
      }
    },
    {
      "cell_type": "code",
      "source": [
        "#선형회귀\n",
        "from sklearn.linear_model import LinearRegression\n",
        "model = LinearRegression()\n",
        "model.fit(x_train, y_train)\n",
        "\n",
        "y_train_pred = model.predict(x_train)\n",
        "y_test_pred = model.predict(x_test)"
      ],
      "metadata": {
        "id": "TCGTsYngP1N5"
      },
      "execution_count": 75,
      "outputs": []
    },
    {
      "cell_type": "code",
      "source": [
        "print(model.intercept_)"
      ],
      "metadata": {
        "colab": {
          "base_uri": "https://localhost:8080/"
        },
        "id": "I4I5iSKnQVf4",
        "outputId": "731dbc8b-33b0-4131-f786-c83de8480af3"
      },
      "execution_count": 76,
      "outputs": [
        {
          "output_type": "stream",
          "name": "stdout",
          "text": [
            "24.26552115173736\n"
          ]
        }
      ]
    },
    {
      "cell_type": "code",
      "source": [
        "print(model.coef_)"
      ],
      "metadata": {
        "colab": {
          "base_uri": "https://localhost:8080/"
        },
        "id": "-yd0XxwaQYCh",
        "outputId": "7b273b44-208b-45f6-81df-e13d82dd99dd"
      },
      "execution_count": 77,
      "outputs": [
        {
          "output_type": "stream",
          "name": "stdout",
          "text": [
            "[-0.1377911  -0.01232928 -0.0040568   0.96534612  1.12238925  0.65881528\n",
            " -1.97413606 -3.5808843   0.01909443  0.02391911]\n"
          ]
        }
      ]
    },
    {
      "cell_type": "code",
      "source": [
        "print(model.score(x_train, y_train))"
      ],
      "metadata": {
        "colab": {
          "base_uri": "https://localhost:8080/"
        },
        "id": "aO-TtLHYQaFh",
        "outputId": "d5ab9c1c-4e86-49b9-9d73-7dfd1aa2b011"
      },
      "execution_count": 78,
      "outputs": [
        {
          "output_type": "stream",
          "name": "stdout",
          "text": [
            "0.9063093378173551\n"
          ]
        }
      ]
    },
    {
      "cell_type": "code",
      "source": [
        "print(model.score(x_test, y_test))"
      ],
      "metadata": {
        "colab": {
          "base_uri": "https://localhost:8080/"
        },
        "id": "jQFT-bQsQetz",
        "outputId": "814e25e2-b68d-4531-c29a-3f7cedf1ac7a"
      },
      "execution_count": 79,
      "outputs": [
        {
          "output_type": "stream",
          "name": "stdout",
          "text": [
            "0.10175657965803919\n"
          ]
        }
      ]
    },
    {
      "cell_type": "code",
      "source": [
        "from sklearn.metrics import r2_score, mean_absolute_error, mean_squared_error\n",
        "import numpy as np"
      ],
      "metadata": {
        "id": "3XmhGq1tQhH-"
      },
      "execution_count": 80,
      "outputs": []
    },
    {
      "cell_type": "code",
      "source": [
        "print(r2_score(y_train, y_train_pred))"
      ],
      "metadata": {
        "colab": {
          "base_uri": "https://localhost:8080/"
        },
        "id": "24JeJwxOQqPo",
        "outputId": "8a31fb37-48c3-429e-b2fb-67e97b55db02"
      },
      "execution_count": 81,
      "outputs": [
        {
          "output_type": "stream",
          "name": "stdout",
          "text": [
            "0.9063093378173551\n"
          ]
        }
      ]
    },
    {
      "cell_type": "code",
      "source": [
        "print(r2_score(y_test, y_test_pred))"
      ],
      "metadata": {
        "colab": {
          "base_uri": "https://localhost:8080/"
        },
        "id": "svG0wX9ZQvJA",
        "outputId": "517b7bf3-8619-4fcd-d1cb-b09ac5942b03"
      },
      "execution_count": 82,
      "outputs": [
        {
          "output_type": "stream",
          "name": "stdout",
          "text": [
            "0.10175657965803919\n"
          ]
        }
      ]
    },
    {
      "cell_type": "code",
      "source": [
        "print(mean_absolute_error(y_test, y_test_pred))"
      ],
      "metadata": {
        "colab": {
          "base_uri": "https://localhost:8080/"
        },
        "id": "pkyFS8REQx7D",
        "outputId": "38b815af-e84e-48e9-9d32-e04d3188b8d5"
      },
      "execution_count": 83,
      "outputs": [
        {
          "output_type": "stream",
          "name": "stdout",
          "text": [
            "2.3748512893291083\n"
          ]
        }
      ]
    },
    {
      "cell_type": "code",
      "source": [
        "print(mean_squared_error(y_test, y_test_pred))"
      ],
      "metadata": {
        "colab": {
          "base_uri": "https://localhost:8080/"
        },
        "id": "1V6VWENEQ8xo",
        "outputId": "4ea84891-1e8b-4d9a-b995-eab8a03ef3c6"
      },
      "execution_count": 84,
      "outputs": [
        {
          "output_type": "stream",
          "name": "stdout",
          "text": [
            "8.923150137677037\n"
          ]
        }
      ]
    },
    {
      "cell_type": "code",
      "source": [
        "print(np.sqrt(mean_squared_error(y_test, y_test_pred)))"
      ],
      "metadata": {
        "colab": {
          "base_uri": "https://localhost:8080/"
        },
        "id": "r_In_WdnRDcU",
        "outputId": "d360531c-b591-4954-acf0-6b01acb8b7d5"
      },
      "execution_count": 85,
      "outputs": [
        {
          "output_type": "stream",
          "name": "stdout",
          "text": [
            "2.9871642301147485\n"
          ]
        }
      ]
    },
    {
      "cell_type": "code",
      "source": [
        "#랜덤 포레스트 회귀\n",
        "from sklearn.ensemble import RandomForestRegressor\n",
        "\n",
        "model = RandomForestRegressor(random_state=10)\n",
        "model.fit(x_train, y_train)\n",
        "\n",
        "y_train_pred = model.predict(x_train)\n",
        "y_test_pred = model.predict(x_test)"
      ],
      "metadata": {
        "id": "NRIH4P4KRJPq"
      },
      "execution_count": 86,
      "outputs": []
    },
    {
      "cell_type": "code",
      "source": [
        "from sklearn.metrics import r2_score, mean_absolute_error, mean_squared_error\n",
        "\n",
        "print(r2_score(y_train, y_train_pred))\n",
        "print(r2_score(y_test, y_test_pred))\n",
        "print(mean_squared_error(y_test, y_test_pred))\n",
        "print(mean_absolute_error(y_test, y_test_pred))"
      ],
      "metadata": {
        "colab": {
          "base_uri": "https://localhost:8080/"
        },
        "id": "weVNpyjPRhqY",
        "outputId": "0777e347-8a42-46ca-91cd-232cae48716e"
      },
      "execution_count": 87,
      "outputs": [
        {
          "output_type": "stream",
          "name": "stdout",
          "text": [
            "0.9799238759255713\n",
            "0.379084225890872\n",
            "6.168177300000077\n",
            "1.809100000000011\n"
          ]
        }
      ]
    },
    {
      "cell_type": "code",
      "source": [
        "model = RandomForestRegressor(n_estimators=1000, criterion='mae', random_state=10)\n",
        "model.fit(x_train, y_train)\n",
        "\n",
        "y_train_pred = model.predict(x_train)\n",
        "y_test_pred = model.predict(x_test)"
      ],
      "metadata": {
        "colab": {
          "base_uri": "https://localhost:8080/"
        },
        "id": "5CW9WIAHR3Eh",
        "outputId": "e38455f9-fe30-4d5f-b5e6-26c65ca46267"
      },
      "execution_count": 88,
      "outputs": [
        {
          "output_type": "stream",
          "name": "stderr",
          "text": [
            "/usr/local/lib/python3.7/dist-packages/sklearn/ensemble/_forest.py:407: FutureWarning: Criterion 'mae' was deprecated in v1.0 and will be removed in version 1.2. Use `criterion='absolute_error'` which is equivalent.\n",
            "  FutureWarning,\n"
          ]
        }
      ]
    },
    {
      "cell_type": "code",
      "source": [
        "print(r2_score(y_train, y_train_pred))\n",
        "print(r2_score(y_test, y_test_pred))\n",
        "print(mean_squared_error(y_test, y_test_pred))\n",
        "print(mean_absolute_error(y_test, y_test_pred))"
      ],
      "metadata": {
        "colab": {
          "base_uri": "https://localhost:8080/"
        },
        "id": "ptC6--bgSZJp",
        "outputId": "73417bca-3981-4f34-88da-5e18b36cfa81"
      },
      "execution_count": 89,
      "outputs": [
        {
          "output_type": "stream",
          "name": "stdout",
          "text": [
            "0.9805355759422818\n",
            "0.44313226215521484\n",
            "5.531924107750095\n",
            "1.7446750000000346\n"
          ]
        }
      ]
    },
    {
      "cell_type": "code",
      "source": [
        "#GBR\n",
        "from sklearn.ensemble import GradientBoostingRegressor\n",
        "model = GradientBoostingRegressor(random_state=10)\n",
        "model.fit(x_train, y_train)\n",
        "\n",
        "y_train_pred = model.predict(x_train)\n",
        "y_test_pred = model.predict(x_test)"
      ],
      "metadata": {
        "id": "nXHaHcn0S59S"
      },
      "execution_count": 90,
      "outputs": []
    },
    {
      "cell_type": "code",
      "source": [
        "from sklearn.metrics import r2_score, mean_squared_error, mean_absolute_error\n",
        "\n",
        "print(r2_score(y_train, y_train_pred))\n",
        "print(r2_score(y_test, y_test_pred))\n",
        "print(mean_squared_error(y_test, y_test_pred))\n",
        "print(mean_absolute_error(y_test, y_test_pred))"
      ],
      "metadata": {
        "colab": {
          "base_uri": "https://localhost:8080/"
        },
        "id": "m8wDbnA0ThVo",
        "outputId": "0050e2bd-ec28-4ff7-af40-f6ecd9ec4992"
      },
      "execution_count": 91,
      "outputs": [
        {
          "output_type": "stream",
          "name": "stdout",
          "text": [
            "0.9999908554215274\n",
            "0.1559551191323465\n",
            "8.384741846539269\n",
            "2.1754887773282503\n"
          ]
        }
      ]
    },
    {
      "cell_type": "code",
      "source": [
        "#XGBRegressor\n",
        "from xgboost import XGBRegressor\n",
        "model = XGBRegressor(random_state=10)\n",
        "model.fit(x_train, y_train)\n",
        "\n",
        "y_train_pred = model.predict(x_train)\n",
        "y_test_pred = model.predict(x_test)"
      ],
      "metadata": {
        "colab": {
          "base_uri": "https://localhost:8080/"
        },
        "id": "Gi5FqGgzT4Q2",
        "outputId": "94e67e09-eb99-4c63-e652-7c012c342170"
      },
      "execution_count": 92,
      "outputs": [
        {
          "output_type": "stream",
          "name": "stdout",
          "text": [
            "[09:37:10] WARNING: /workspace/src/objective/regression_obj.cu:152: reg:linear is now deprecated in favor of reg:squarederror.\n"
          ]
        }
      ]
    },
    {
      "cell_type": "code",
      "source": [
        "from sklearn.metrics import r2_score, mean_squared_error, mean_absolute_error\n",
        "print(r2_score(y_train, y_train_pred))\n",
        "print(r2_score(y_test, y_test_pred))\n",
        "print(mean_squared_error(y_test, y_test_pred))\n",
        "print(mean_absolute_error(y_test, y_test_pred))"
      ],
      "metadata": {
        "colab": {
          "base_uri": "https://localhost:8080/"
        },
        "id": "ZNm0ymZjURR7",
        "outputId": "ffc15b06-fe20-46f1-ae3a-a3536fbeb69a"
      },
      "execution_count": 93,
      "outputs": [
        {
          "output_type": "stream",
          "name": "stdout",
          "text": [
            "0.9994029070331579\n",
            "0.4476128447475184\n",
            "5.487414000278152\n",
            "2.0459949302673337\n"
          ]
        }
      ]
    },
    {
      "cell_type": "markdown",
      "source": [
        "## 분류 모델링"
      ],
      "metadata": {
        "id": "Ozq64bvzUyya"
      }
    },
    {
      "cell_type": "code",
      "source": [
        "#종속변수 가공 작업\n",
        "x_train2 = x_train.drop(columns= 'am_new')\n",
        "y_train2 = x_train['am_new']\n",
        "\n",
        "x_test2 = x_test.drop(columns= 'am_new')\n",
        "y_test2 = x_test['am_new']"
      ],
      "metadata": {
        "id": "gVZVbKv1Uur7"
      },
      "execution_count": 94,
      "outputs": []
    },
    {
      "cell_type": "code",
      "source": [
        "print(x_train2.head())\n",
        "print(x_test2.head())\n",
        "print(y_train2.head())\n",
        "print(y_test2.head())"
      ],
      "metadata": {
        "colab": {
          "base_uri": "https://localhost:8080/"
        },
        "id": "09WwlR_k3IxU",
        "outputId": "c712ca8f-b626-4846-fa7d-ebab055f51ef"
      },
      "execution_count": 95,
      "outputs": [
        {
          "output_type": "stream",
          "name": "stdout",
          "text": [
            "     cyl   disp     hp  drat  vs  gear  carb  wt_class  qsec_4\n",
            "19   4.0   71.1   65.0  4.22   1     4   1.0       0.0   79.60\n",
            "14  14.0  472.0  205.0  2.93   0     3   4.0       1.0   71.92\n",
            "18   4.0   75.7   52.0  4.93   1     4   2.0       0.0   74.08\n",
            "6    8.0  360.0  245.0  3.21   0     3   4.0       1.0   63.36\n",
            "11   8.0  275.8  180.0  3.07   0     3   3.0       1.0   69.60\n",
            "    cyl   disp     hp  drat  vs  gear  carb  wt_class  qsec_4\n",
            "20  4.0  120.1   97.0  3.70   1     3   1.0       0.0   80.04\n",
            "7   7.6  146.7   62.0  3.69   1     4   2.0       0.0   80.00\n",
            "5   6.0  225.0  105.0  2.76   1     3   1.0       1.0   80.88\n",
            "2   4.0  108.0   93.0  3.85   1     4   1.0       0.0   74.44\n",
            "3   6.0  258.0  110.0  3.08   1     3   1.0       0.0    0.40\n",
            "19    0\n",
            "14    1\n",
            "18    0\n",
            "6     1\n",
            "11    1\n",
            "Name: am_new, dtype: int64\n",
            "20    1\n",
            "7     1\n",
            "5     1\n",
            "2     0\n",
            "3     1\n",
            "Name: am_new, dtype: int64\n"
          ]
        }
      ]
    },
    {
      "cell_type": "code",
      "source": [
        "#의사결정나무 분류\n",
        "from sklearn.tree import DecisionTreeClassifier\n",
        "model = DecisionTreeClassifier()\n",
        "model.fit(x_train2, y_train2)\n",
        "y_test2_pred = model.predict(x_test2)"
      ],
      "metadata": {
        "id": "ppOvBqo94EBO"
      },
      "execution_count": 96,
      "outputs": []
    },
    {
      "cell_type": "code",
      "source": [
        "from sklearn.metrics import roc_auc_score, accuracy_score, precision_score, recall_score\n",
        "print(roc_auc_score(y_test2, y_test2_pred))\n",
        "print(accuracy_score(y_test2, y_test2_pred))\n",
        "print(precision_score(y_test2, y_test2_pred))\n",
        "print(recall_score(y_test2, y_test2_pred))"
      ],
      "metadata": {
        "colab": {
          "base_uri": "https://localhost:8080/"
        },
        "id": "-qbTe9KY4WhZ",
        "outputId": "96a02e46-3a60-43dd-b043-8210f4381193"
      },
      "execution_count": 97,
      "outputs": [
        {
          "output_type": "stream",
          "name": "stdout",
          "text": [
            "0.7857142857142857\n",
            "0.7\n",
            "1.0\n",
            "0.5714285714285714\n"
          ]
        }
      ]
    },
    {
      "cell_type": "code",
      "source": [
        "#랜덤 포레스트 분류\n",
        "from sklearn.ensemble import RandomForestClassifier\n",
        "model = RandomForestClassifier()\n",
        "model.fit(x_train2, y_train2)\n",
        "y_test2_pred = model.predict(x_test2)"
      ],
      "metadata": {
        "id": "_CDz1A-D4tOF"
      },
      "execution_count": 98,
      "outputs": []
    },
    {
      "cell_type": "code",
      "source": [
        "from sklearn.metrics import roc_auc_score\n",
        "print(roc_auc_score(y_test2, y_test2_pred))"
      ],
      "metadata": {
        "colab": {
          "base_uri": "https://localhost:8080/"
        },
        "id": "cR-Rid1D4_2Q",
        "outputId": "e06b5fff-84a7-46af-a6cc-d9aee3cf5c94"
      },
      "execution_count": 99,
      "outputs": [
        {
          "output_type": "stream",
          "name": "stdout",
          "text": [
            "0.8571428571428572\n"
          ]
        }
      ]
    },
    {
      "cell_type": "code",
      "source": [
        "#로지스틱 회귀\n",
        "from sklearn.linear_model import LogisticRegression\n",
        "\n",
        "model = LogisticRegression()\n",
        "model.fit(x_train2, y_train2)\n",
        "y_test2_pred = model.predict(x_test2)"
      ],
      "metadata": {
        "colab": {
          "base_uri": "https://localhost:8080/"
        },
        "id": "zvdwcK4E5GQa",
        "outputId": "08dc4eba-200c-4b19-9a23-0b9e35f37fe4"
      },
      "execution_count": 100,
      "outputs": [
        {
          "output_type": "stream",
          "name": "stderr",
          "text": [
            "/usr/local/lib/python3.7/dist-packages/sklearn/linear_model/_logistic.py:818: ConvergenceWarning: lbfgs failed to converge (status=1):\n",
            "STOP: TOTAL NO. of ITERATIONS REACHED LIMIT.\n",
            "\n",
            "Increase the number of iterations (max_iter) or scale the data as shown in:\n",
            "    https://scikit-learn.org/stable/modules/preprocessing.html\n",
            "Please also refer to the documentation for alternative solver options:\n",
            "    https://scikit-learn.org/stable/modules/linear_model.html#logistic-regression\n",
            "  extra_warning_msg=_LOGISTIC_SOLVER_CONVERGENCE_MSG,\n"
          ]
        }
      ]
    },
    {
      "cell_type": "code",
      "source": [
        "from sklearn.metrics import roc_auc_score\n",
        "print(roc_auc_score(y_test2, y_test2_pred))"
      ],
      "metadata": {
        "colab": {
          "base_uri": "https://localhost:8080/"
        },
        "id": "GFfU6bfn5UIy",
        "outputId": "3d229cb2-89f0-431a-f705-0c90b0990b77"
      },
      "execution_count": 101,
      "outputs": [
        {
          "output_type": "stream",
          "name": "stdout",
          "text": [
            "0.5952380952380953\n"
          ]
        }
      ]
    },
    {
      "cell_type": "code",
      "source": [
        "#XGBClassifier\n",
        "from xgboost import XGBClassifier\n",
        "model = XGBClassifier()\n",
        "model.fit(x_train2, y_train2)\n",
        "\n",
        "y_test2_pred = model.predict(x_test2)"
      ],
      "metadata": {
        "id": "ThFs6cwb5f_i"
      },
      "execution_count": 102,
      "outputs": []
    },
    {
      "cell_type": "code",
      "source": [
        "print(y_test2_pred)"
      ],
      "metadata": {
        "colab": {
          "base_uri": "https://localhost:8080/"
        },
        "id": "nnnqinru5t6M",
        "outputId": "6f362b9c-5066-4303-d596-97d544099caf"
      },
      "execution_count": 103,
      "outputs": [
        {
          "output_type": "stream",
          "name": "stdout",
          "text": [
            "[0 0 1 0 1 1 1 1 1 0]\n"
          ]
        }
      ]
    },
    {
      "cell_type": "code",
      "source": [
        "y_test2_proba = model.predict_proba(x_test2)\n",
        "print(y_test2_proba)"
      ],
      "metadata": {
        "colab": {
          "base_uri": "https://localhost:8080/"
        },
        "id": "hfktECNh5wnN",
        "outputId": "18a7dd71-f6f5-48ca-9c15-f8074d55e8e6"
      },
      "execution_count": 104,
      "outputs": [
        {
          "output_type": "stream",
          "name": "stdout",
          "text": [
            "[[0.55889904 0.44110098]\n",
            " [0.6538493  0.3461507 ]\n",
            " [0.03395873 0.96604127]\n",
            " [0.8737407  0.1262593 ]\n",
            " [0.11220491 0.8877951 ]\n",
            " [0.06976068 0.9302393 ]\n",
            " [0.04053593 0.9594641 ]\n",
            " [0.39705497 0.602945  ]\n",
            " [0.04464304 0.95535696]\n",
            " [0.85149    0.14851001]]\n"
          ]
        }
      ]
    },
    {
      "cell_type": "code",
      "source": [
        "from sklearn.metrics import roc_auc_score\n",
        "print(roc_auc_score(y_test2, y_test2_pred))"
      ],
      "metadata": {
        "colab": {
          "base_uri": "https://localhost:8080/"
        },
        "id": "Dr5rEAdc54Kk",
        "outputId": "f77a9236-b6af-4a5b-c2cc-92a1483e99d4"
      },
      "execution_count": 105,
      "outputs": [
        {
          "output_type": "stream",
          "name": "stdout",
          "text": [
            "0.6904761904761906\n"
          ]
        }
      ]
    },
    {
      "cell_type": "code",
      "source": [
        "#서포트 벡터 분류 SVC\n",
        "from sklearn.svm import SVC\n",
        "model = SVC()\n",
        "model.fit(x_train2, y_train2)\n",
        "y_test2_pred = model.predict(x_test2)"
      ],
      "metadata": {
        "id": "aMZU5EAD5_3O"
      },
      "execution_count": 106,
      "outputs": []
    },
    {
      "cell_type": "code",
      "source": [
        "from sklearn.metrics import roc_auc_score\n",
        "print(roc_auc_score(y_test2, y_test2_pred))"
      ],
      "metadata": {
        "colab": {
          "base_uri": "https://localhost:8080/"
        },
        "id": "XgxandVz6Mfo",
        "outputId": "62ed9a50-9805-4142-c9a0-6e2d41ae0181"
      },
      "execution_count": 107,
      "outputs": [
        {
          "output_type": "stream",
          "name": "stdout",
          "text": [
            "0.6904761904761906\n"
          ]
        }
      ]
    },
    {
      "cell_type": "code",
      "source": [
        "#배깅 분류\n",
        "from sklearn.ensemble import BaggingClassifier\n",
        "model = BaggingClassifier()\n",
        "model.fit(x_train2, y_train2)\n",
        "y_test2_pred = model.predict(x_test2)"
      ],
      "metadata": {
        "id": "hVEdkfhu6SP1"
      },
      "execution_count": 108,
      "outputs": []
    },
    {
      "cell_type": "code",
      "source": [
        "from sklearn.metrics import accuracy_score\n",
        "print(accuracy_score(y_test2, y_test2_pred))"
      ],
      "metadata": {
        "colab": {
          "base_uri": "https://localhost:8080/"
        },
        "id": "OE9gcncx6dfI",
        "outputId": "3ffad376-6e83-4ec6-98bf-6a2b04fc2aab"
      },
      "execution_count": 109,
      "outputs": [
        {
          "output_type": "stream",
          "name": "stdout",
          "text": [
            "0.8\n"
          ]
        }
      ]
    },
    {
      "cell_type": "code",
      "source": [
        "#K-최근접 이웃 분류(KNN)\n",
        "from sklearn.neighbors import KNeighborsClassifier\n",
        "model = KNeighborsClassifier()\n",
        "model.fit(x_train2, y_train2)\n",
        "y_test2_pred = model.predict(x_test2)"
      ],
      "metadata": {
        "id": "KQmilsQh6kKM"
      },
      "execution_count": 110,
      "outputs": []
    },
    {
      "cell_type": "code",
      "source": [
        "from sklearn.metrics import roc_auc_score\n",
        "print(roc_auc_score(y_test2, y_test2_pred))"
      ],
      "metadata": {
        "colab": {
          "base_uri": "https://localhost:8080/"
        },
        "id": "s7Tse2Fz623F",
        "outputId": "f2b97bbd-dee7-49cc-c9fc-149366442974"
      },
      "execution_count": 111,
      "outputs": [
        {
          "output_type": "stream",
          "name": "stdout",
          "text": [
            "0.5238095238095238\n"
          ]
        }
      ]
    },
    {
      "cell_type": "code",
      "source": [
        "#다층 퍼셉트론 분류(MLP)\n",
        "from sklearn.neural_network import MLPClassifier\n",
        "model = MLPClassifier()\n",
        "model.fit(x_train2, y_train2)\n",
        "y_test2_pred = model.predict(x_test2)"
      ],
      "metadata": {
        "id": "2KdBaDrI69vI"
      },
      "execution_count": 112,
      "outputs": []
    },
    {
      "cell_type": "code",
      "source": [
        "from sklearn.metrics import roc_auc_score, accuracy_score\n",
        "print(roc_auc_score(y_test2, y_test2_pred))\n",
        "print(accuracy_score(y_test2, y_test2_pred))"
      ],
      "metadata": {
        "colab": {
          "base_uri": "https://localhost:8080/"
        },
        "id": "tsLLTsOV7KgG",
        "outputId": "958c589d-9877-4962-f38e-658e93ffe1f3"
      },
      "execution_count": 113,
      "outputs": [
        {
          "output_type": "stream",
          "name": "stdout",
          "text": [
            "0.5952380952380953\n",
            "0.7\n"
          ]
        }
      ]
    },
    {
      "cell_type": "markdown",
      "source": [
        "# 최종 결과 공유"
      ],
      "metadata": {
        "id": "a5a7mouP7ixx"
      }
    },
    {
      "cell_type": "code",
      "source": [
        "print(type(y_test2_pred))"
      ],
      "metadata": {
        "colab": {
          "base_uri": "https://localhost:8080/"
        },
        "id": "OhKvTTbr7Tcl",
        "outputId": "4d1b32fb-9ca3-46bf-d1b0-12614bb16de2"
      },
      "execution_count": 114,
      "outputs": [
        {
          "output_type": "stream",
          "name": "stdout",
          "text": [
            "<class 'numpy.ndarray'>\n"
          ]
        }
      ]
    },
    {
      "cell_type": "code",
      "source": [
        "pd.DataFrame(y_test2_pred).to_csv('/content/drive/MyDrive/12345.csv', index=False)"
      ],
      "metadata": {
        "id": "nbPvTkrN7mqQ"
      },
      "execution_count": 115,
      "outputs": []
    },
    {
      "cell_type": "code",
      "source": [
        "check = pd.read_csv('/content/drive/MyDrive/12345.csv')\n",
        "check"
      ],
      "metadata": {
        "colab": {
          "base_uri": "https://localhost:8080/",
          "height": 363
        },
        "id": "42vJ4S0f7y_P",
        "outputId": "6e6a3cb5-2588-47a7-d397-0fcefc4b41ed"
      },
      "execution_count": 116,
      "outputs": [
        {
          "output_type": "execute_result",
          "data": {
            "text/plain": [
              "   0\n",
              "0  0\n",
              "1  1\n",
              "2  1\n",
              "3  0\n",
              "4  1\n",
              "5  1\n",
              "6  1\n",
              "7  1\n",
              "8  1\n",
              "9  1"
            ],
            "text/html": [
              "\n",
              "  <div id=\"df-3dd2aef6-d5ae-4bbc-905b-00087cdcb3b5\">\n",
              "    <div class=\"colab-df-container\">\n",
              "      <div>\n",
              "<style scoped>\n",
              "    .dataframe tbody tr th:only-of-type {\n",
              "        vertical-align: middle;\n",
              "    }\n",
              "\n",
              "    .dataframe tbody tr th {\n",
              "        vertical-align: top;\n",
              "    }\n",
              "\n",
              "    .dataframe thead th {\n",
              "        text-align: right;\n",
              "    }\n",
              "</style>\n",
              "<table border=\"1\" class=\"dataframe\">\n",
              "  <thead>\n",
              "    <tr style=\"text-align: right;\">\n",
              "      <th></th>\n",
              "      <th>0</th>\n",
              "    </tr>\n",
              "  </thead>\n",
              "  <tbody>\n",
              "    <tr>\n",
              "      <th>0</th>\n",
              "      <td>0</td>\n",
              "    </tr>\n",
              "    <tr>\n",
              "      <th>1</th>\n",
              "      <td>1</td>\n",
              "    </tr>\n",
              "    <tr>\n",
              "      <th>2</th>\n",
              "      <td>1</td>\n",
              "    </tr>\n",
              "    <tr>\n",
              "      <th>3</th>\n",
              "      <td>0</td>\n",
              "    </tr>\n",
              "    <tr>\n",
              "      <th>4</th>\n",
              "      <td>1</td>\n",
              "    </tr>\n",
              "    <tr>\n",
              "      <th>5</th>\n",
              "      <td>1</td>\n",
              "    </tr>\n",
              "    <tr>\n",
              "      <th>6</th>\n",
              "      <td>1</td>\n",
              "    </tr>\n",
              "    <tr>\n",
              "      <th>7</th>\n",
              "      <td>1</td>\n",
              "    </tr>\n",
              "    <tr>\n",
              "      <th>8</th>\n",
              "      <td>1</td>\n",
              "    </tr>\n",
              "    <tr>\n",
              "      <th>9</th>\n",
              "      <td>1</td>\n",
              "    </tr>\n",
              "  </tbody>\n",
              "</table>\n",
              "</div>\n",
              "      <button class=\"colab-df-convert\" onclick=\"convertToInteractive('df-3dd2aef6-d5ae-4bbc-905b-00087cdcb3b5')\"\n",
              "              title=\"Convert this dataframe to an interactive table.\"\n",
              "              style=\"display:none;\">\n",
              "        \n",
              "  <svg xmlns=\"http://www.w3.org/2000/svg\" height=\"24px\"viewBox=\"0 0 24 24\"\n",
              "       width=\"24px\">\n",
              "    <path d=\"M0 0h24v24H0V0z\" fill=\"none\"/>\n",
              "    <path d=\"M18.56 5.44l.94 2.06.94-2.06 2.06-.94-2.06-.94-.94-2.06-.94 2.06-2.06.94zm-11 1L8.5 8.5l.94-2.06 2.06-.94-2.06-.94L8.5 2.5l-.94 2.06-2.06.94zm10 10l.94 2.06.94-2.06 2.06-.94-2.06-.94-.94-2.06-.94 2.06-2.06.94z\"/><path d=\"M17.41 7.96l-1.37-1.37c-.4-.4-.92-.59-1.43-.59-.52 0-1.04.2-1.43.59L10.3 9.45l-7.72 7.72c-.78.78-.78 2.05 0 2.83L4 21.41c.39.39.9.59 1.41.59.51 0 1.02-.2 1.41-.59l7.78-7.78 2.81-2.81c.8-.78.8-2.07 0-2.86zM5.41 20L4 18.59l7.72-7.72 1.47 1.35L5.41 20z\"/>\n",
              "  </svg>\n",
              "      </button>\n",
              "      \n",
              "  <style>\n",
              "    .colab-df-container {\n",
              "      display:flex;\n",
              "      flex-wrap:wrap;\n",
              "      gap: 12px;\n",
              "    }\n",
              "\n",
              "    .colab-df-convert {\n",
              "      background-color: #E8F0FE;\n",
              "      border: none;\n",
              "      border-radius: 50%;\n",
              "      cursor: pointer;\n",
              "      display: none;\n",
              "      fill: #1967D2;\n",
              "      height: 32px;\n",
              "      padding: 0 0 0 0;\n",
              "      width: 32px;\n",
              "    }\n",
              "\n",
              "    .colab-df-convert:hover {\n",
              "      background-color: #E2EBFA;\n",
              "      box-shadow: 0px 1px 2px rgba(60, 64, 67, 0.3), 0px 1px 3px 1px rgba(60, 64, 67, 0.15);\n",
              "      fill: #174EA6;\n",
              "    }\n",
              "\n",
              "    [theme=dark] .colab-df-convert {\n",
              "      background-color: #3B4455;\n",
              "      fill: #D2E3FC;\n",
              "    }\n",
              "\n",
              "    [theme=dark] .colab-df-convert:hover {\n",
              "      background-color: #434B5C;\n",
              "      box-shadow: 0px 1px 3px 1px rgba(0, 0, 0, 0.15);\n",
              "      filter: drop-shadow(0px 1px 2px rgba(0, 0, 0, 0.3));\n",
              "      fill: #FFFFFF;\n",
              "    }\n",
              "  </style>\n",
              "\n",
              "      <script>\n",
              "        const buttonEl =\n",
              "          document.querySelector('#df-3dd2aef6-d5ae-4bbc-905b-00087cdcb3b5 button.colab-df-convert');\n",
              "        buttonEl.style.display =\n",
              "          google.colab.kernel.accessAllowed ? 'block' : 'none';\n",
              "\n",
              "        async function convertToInteractive(key) {\n",
              "          const element = document.querySelector('#df-3dd2aef6-d5ae-4bbc-905b-00087cdcb3b5');\n",
              "          const dataTable =\n",
              "            await google.colab.kernel.invokeFunction('convertToInteractive',\n",
              "                                                     [key], {});\n",
              "          if (!dataTable) return;\n",
              "\n",
              "          const docLinkHtml = 'Like what you see? Visit the ' +\n",
              "            '<a target=\"_blank\" href=https://colab.research.google.com/notebooks/data_table.ipynb>data table notebook</a>'\n",
              "            + ' to learn more about interactive tables.';\n",
              "          element.innerHTML = '';\n",
              "          dataTable['output_type'] = 'display_data';\n",
              "          await google.colab.output.renderOutput(dataTable, element);\n",
              "          const docLink = document.createElement('div');\n",
              "          docLink.innerHTML = docLinkHtml;\n",
              "          element.appendChild(docLink);\n",
              "        }\n",
              "      </script>\n",
              "    </div>\n",
              "  </div>\n",
              "  "
            ]
          },
          "metadata": {},
          "execution_count": 116
        }
      ]
    },
    {
      "cell_type": "markdown",
      "source": [
        "# 작업형 제1유형"
      ],
      "metadata": {
        "id": "BcYQIGKkS9MM"
      }
    },
    {
      "cell_type": "markdown",
      "source": [
        "## 1. Top10 구하기"
      ],
      "metadata": {
        "id": "ig3mglLJTAXc"
      }
    },
    {
      "cell_type": "code",
      "source": [
        "import pandas as pd\n",
        "data = pd.read_csv('/content/drive/MyDrive/bigData-main/boston.csv')\n",
        "# print(data.info())\n",
        "# print(data.head())\n",
        "\n",
        "print(data.sort_values(by='MEDV', ascending=True))"
      ],
      "metadata": {
        "colab": {
          "base_uri": "https://localhost:8080/"
        },
        "id": "RQ-3qb7f74m2",
        "outputId": "fba24505-e12a-40ca-cff8-f7066c8a367e"
      },
      "execution_count": 125,
      "outputs": [
        {
          "output_type": "stream",
          "name": "stdout",
          "text": [
            "         CRIM    ZN  INDUS  CHAS    NOX     RM    AGE     DIS  RAD  TAX  \\\n",
            "398  38.35180   0.0  18.10     0  0.693    NaN  100.0  1.4896   24  666   \n",
            "405  67.92080   0.0  18.10     0  0.693  5.683  100.0  1.4254   24  666   \n",
            "400  25.04610   0.0  18.10     0  0.693  5.987  100.0  1.5888   24  666   \n",
            "399   9.91655   0.0  18.10     0  0.693  5.852   77.8  1.5004   24  666   \n",
            "414  45.74610   0.0  18.10     0  0.693  4.519  100.0  1.6582   24  666   \n",
            "..        ...   ...    ...   ...    ...    ...    ...     ...  ...  ...   \n",
            "166   2.01019   0.0  19.58     0  0.605  7.929   96.2  2.0459    5  403   \n",
            "195   0.01381  80.0   0.46     0  0.422  7.875   32.0  5.6484    4  255   \n",
            "283   0.01501  90.0   1.21     1  0.401  7.923   24.8  5.8850    1  198   \n",
            "225   0.52693   0.0   6.20     0  0.504  8.725   83.0  2.8944    8  307   \n",
            "186   0.05602   0.0   2.46     0  0.488  7.831   53.6  3.1992    3  193   \n",
            "\n",
            "     PTRATIO       B  LSTAT  MEDV  \n",
            "398     20.2  396.90  30.59   5.0  \n",
            "405     20.2  384.97  22.98   5.0  \n",
            "400     20.2  396.90  26.77   5.6  \n",
            "399     20.2  338.16  29.97   6.3  \n",
            "414     20.2   88.27  36.98   7.0  \n",
            "..       ...     ...    ...   ...  \n",
            "166     14.7  369.30   3.70  50.0  \n",
            "195     14.4  394.23   2.97  50.0  \n",
            "283     13.6  395.52   3.16  50.0  \n",
            "225     17.4  382.00   4.63  50.0  \n",
            "186     17.8  392.63   4.45  50.0  \n",
            "\n",
            "[506 rows x 14 columns]\n"
          ]
        }
      ]
    },
    {
      "cell_type": "code",
      "source": [
        "print(data.sort_values(by='MEDV', ascending=True)['MEDV'])"
      ],
      "metadata": {
        "colab": {
          "base_uri": "https://localhost:8080/"
        },
        "id": "pBbvuqeATiCM",
        "outputId": "8f6bc508-2b93-49ea-e0d5-82c158703c50"
      },
      "execution_count": 126,
      "outputs": [
        {
          "output_type": "stream",
          "name": "stdout",
          "text": [
            "398     5.0\n",
            "405     5.0\n",
            "400     5.6\n",
            "399     6.3\n",
            "414     7.0\n",
            "       ... \n",
            "166    50.0\n",
            "195    50.0\n",
            "283    50.0\n",
            "225    50.0\n",
            "186    50.0\n",
            "Name: MEDV, Length: 506, dtype: float64\n"
          ]
        }
      ]
    },
    {
      "cell_type": "code",
      "source": [
        "print(data.sort_values(by='MEDV', ascending=True)['MEDV'].head(10))"
      ],
      "metadata": {
        "colab": {
          "base_uri": "https://localhost:8080/"
        },
        "id": "dAhIT1PcWYqT",
        "outputId": "bfcafc6b-e6c1-403f-f25f-087334c339af"
      },
      "execution_count": 127,
      "outputs": [
        {
          "output_type": "stream",
          "name": "stdout",
          "text": [
            "398    5.0\n",
            "405    5.0\n",
            "400    5.6\n",
            "399    6.3\n",
            "414    7.0\n",
            "489    7.0\n",
            "401    7.2\n",
            "385    7.2\n",
            "415    7.2\n",
            "387    7.4\n",
            "Name: MEDV, dtype: float64\n"
          ]
        }
      ]
    },
    {
      "cell_type": "code",
      "source": [
        "import pandas as pd\n",
        "data = pd.read_csv('/content/drive/MyDrive/bigData-main/boston.csv')\n",
        "print(data.sort_values(by='MEDV', ascending=True)['MEDV'].head(10))"
      ],
      "metadata": {
        "colab": {
          "base_uri": "https://localhost:8080/"
        },
        "id": "pyyt7iK0WkQ3",
        "outputId": "647241b5-9141-470c-f6d8-800e4f487462"
      },
      "execution_count": 128,
      "outputs": [
        {
          "output_type": "stream",
          "name": "stdout",
          "text": [
            "398    5.0\n",
            "405    5.0\n",
            "400    5.6\n",
            "399    6.3\n",
            "414    7.0\n",
            "489    7.0\n",
            "401    7.2\n",
            "385    7.2\n",
            "415    7.2\n",
            "387    7.4\n",
            "Name: MEDV, dtype: float64\n"
          ]
        }
      ]
    },
    {
      "cell_type": "markdown",
      "source": [
        "## 2. 결측치 확인하기"
      ],
      "metadata": {
        "id": "NEQ0UolzW1v7"
      }
    },
    {
      "cell_type": "code",
      "source": [
        "import pandas as pd\n",
        "data = pd.read_csv('/content/drive/MyDrive/bigData-main/boston.csv')\n",
        "print(data.isnull().sum())"
      ],
      "metadata": {
        "colab": {
          "base_uri": "https://localhost:8080/"
        },
        "id": "YAGwl8F0WxnZ",
        "outputId": "f94c1676-403c-4977-865e-7b89d2c04fc1"
      },
      "execution_count": 131,
      "outputs": [
        {
          "output_type": "stream",
          "name": "stdout",
          "text": [
            "CRIM        0\n",
            "ZN          0\n",
            "INDUS       0\n",
            "CHAS        0\n",
            "NOX         0\n",
            "RM         15\n",
            "AGE         0\n",
            "DIS         0\n",
            "RAD         0\n",
            "TAX         0\n",
            "PTRATIO     0\n",
            "B           0\n",
            "LSTAT       0\n",
            "MEDV        0\n",
            "dtype: int64\n",
            "15\n"
          ]
        }
      ]
    },
    {
      "cell_type": "code",
      "source": [
        "#평균값 대치\n",
        "data_mean = data['RM'].copy()\n",
        "print(data_mean.isnull().sum())"
      ],
      "metadata": {
        "colab": {
          "base_uri": "https://localhost:8080/"
        },
        "id": "_JH-caVghK1L",
        "outputId": "8cabdc0b-cf63-4741-eaa4-865814a0d074"
      },
      "execution_count": 132,
      "outputs": [
        {
          "output_type": "stream",
          "name": "stdout",
          "text": [
            "15\n"
          ]
        }
      ]
    },
    {
      "cell_type": "code",
      "source": [
        "rm_mean = data_mean.mean()\n",
        "print(rm_mean)"
      ],
      "metadata": {
        "colab": {
          "base_uri": "https://localhost:8080/"
        },
        "id": "eRnShqC0hhrJ",
        "outputId": "4ba5e0df-f611-450f-fc6a-f6357a893748"
      },
      "execution_count": 133,
      "outputs": [
        {
          "output_type": "stream",
          "name": "stdout",
          "text": [
            "6.285101832993899\n"
          ]
        }
      ]
    },
    {
      "cell_type": "code",
      "source": [
        "print(data_mean.fillna(rm_mean, inplace=False))"
      ],
      "metadata": {
        "colab": {
          "base_uri": "https://localhost:8080/"
        },
        "id": "xjT2fnk-hvst",
        "outputId": "e35c62d6-81fe-4cae-f6f5-8ee4633de954"
      },
      "execution_count": 134,
      "outputs": [
        {
          "output_type": "stream",
          "name": "stdout",
          "text": [
            "0      6.575000\n",
            "1      6.421000\n",
            "2      7.185000\n",
            "3      6.998000\n",
            "4      7.147000\n",
            "         ...   \n",
            "501    6.593000\n",
            "502    6.285102\n",
            "503    6.976000\n",
            "504    6.794000\n",
            "505    6.030000\n",
            "Name: RM, Length: 506, dtype: float64\n"
          ]
        }
      ]
    },
    {
      "cell_type": "code",
      "source": [
        "print(data_mean.isnull().sum())"
      ],
      "metadata": {
        "colab": {
          "base_uri": "https://localhost:8080/"
        },
        "id": "F-Dh8xWgh3HU",
        "outputId": "d704e9d3-522a-448a-b3ab-4f06d760c2e7"
      },
      "execution_count": 135,
      "outputs": [
        {
          "output_type": "stream",
          "name": "stdout",
          "text": [
            "15\n"
          ]
        }
      ]
    },
    {
      "cell_type": "code",
      "source": [
        "data_mean.fillna(rm_mean, inplace=True)\n",
        "print(data_mean.isnull().sum())"
      ],
      "metadata": {
        "colab": {
          "base_uri": "https://localhost:8080/"
        },
        "id": "IsKb8DUCh6hP",
        "outputId": "f00b74f1-a6a9-4f3b-cc02-1abef80d8d2e"
      },
      "execution_count": 136,
      "outputs": [
        {
          "output_type": "stream",
          "name": "stdout",
          "text": [
            "0\n"
          ]
        }
      ]
    },
    {
      "cell_type": "code",
      "source": [
        "data_del = data['RM'].copy()\n",
        "print(data_del.isnull().sum())"
      ],
      "metadata": {
        "colab": {
          "base_uri": "https://localhost:8080/"
        },
        "id": "1pEhd5JbiAxo",
        "outputId": "1236873c-dcf4-43dc-8c34-1eef08af0075"
      },
      "execution_count": 137,
      "outputs": [
        {
          "output_type": "stream",
          "name": "stdout",
          "text": [
            "15\n"
          ]
        }
      ]
    },
    {
      "cell_type": "code",
      "source": [
        "print(data_del.shape)"
      ],
      "metadata": {
        "colab": {
          "base_uri": "https://localhost:8080/"
        },
        "id": "N-kWeHBQiGs4",
        "outputId": "e2d5f083-d6c5-4e04-d96d-c16d9ef63d3d"
      },
      "execution_count": 138,
      "outputs": [
        {
          "output_type": "stream",
          "name": "stdout",
          "text": [
            "(506,)\n"
          ]
        }
      ]
    },
    {
      "cell_type": "code",
      "source": [
        "data_del.dropna(inplace=True)"
      ],
      "metadata": {
        "id": "kFpfTbnNiIsY"
      },
      "execution_count": 139,
      "outputs": []
    },
    {
      "cell_type": "code",
      "source": [
        "print(data_del.shape)"
      ],
      "metadata": {
        "colab": {
          "base_uri": "https://localhost:8080/"
        },
        "id": "2-63rrDRiM5E",
        "outputId": "22586661-9ad4-4785-b55b-e06c2f678938"
      },
      "execution_count": 140,
      "outputs": [
        {
          "output_type": "stream",
          "name": "stdout",
          "text": [
            "(491,)\n"
          ]
        }
      ]
    },
    {
      "cell_type": "code",
      "source": [
        "print(data_del.isnull().sum())"
      ],
      "metadata": {
        "colab": {
          "base_uri": "https://localhost:8080/"
        },
        "id": "YbvXVFk1iPO8",
        "outputId": "38a65224-3e6a-471e-e63a-78a2faaf1590"
      },
      "execution_count": 141,
      "outputs": [
        {
          "output_type": "stream",
          "name": "stdout",
          "text": [
            "0\n"
          ]
        }
      ]
    },
    {
      "cell_type": "code",
      "source": [
        "print(data_mean.std())"
      ],
      "metadata": {
        "colab": {
          "base_uri": "https://localhost:8080/"
        },
        "id": "r4gCz1l_iRdy",
        "outputId": "56f86892-8c05-4c41-bc9d-0a88cbf79a48"
      },
      "execution_count": 142,
      "outputs": [
        {
          "output_type": "stream",
          "name": "stdout",
          "text": [
            "0.6975001826300911\n"
          ]
        }
      ]
    },
    {
      "cell_type": "code",
      "source": [
        "print(data_del.std())"
      ],
      "metadata": {
        "colab": {
          "base_uri": "https://localhost:8080/"
        },
        "id": "_qecfx6viUPR",
        "outputId": "ccf78107-2b94-4212-e5d1-d6011fa280a6"
      },
      "execution_count": 143,
      "outputs": [
        {
          "output_type": "stream",
          "name": "stdout",
          "text": [
            "0.7080957287241957\n"
          ]
        }
      ]
    },
    {
      "cell_type": "code",
      "source": [
        "print(abs(data_mean.std() - data_del.std()))"
      ],
      "metadata": {
        "colab": {
          "base_uri": "https://localhost:8080/"
        },
        "id": "fE1IxoTLiWJC",
        "outputId": "1a47d97c-935b-44bf-ca92-de97c1326f44"
      },
      "execution_count": 144,
      "outputs": [
        {
          "output_type": "stream",
          "name": "stdout",
          "text": [
            "0.010595546094104624\n"
          ]
        }
      ]
    },
    {
      "cell_type": "code",
      "source": [
        "import pandas as pd\n",
        "data = pd.read_csv('/content/drive/MyDrive/bigData-main/boston.csv')\n",
        "data_mean = data['RM'].copy()\n",
        "rm_mean = data_mean.mean()\n",
        "data_mean.fillna(rm_mean, inplace=True)\n",
        "\n",
        "data_del = data['RM'].copy()\n",
        "data_del.dropna(inplace=True)\n",
        "\n",
        "print(abs(data_mean.std() - data_del.std()))"
      ],
      "metadata": {
        "colab": {
          "base_uri": "https://localhost:8080/"
        },
        "id": "KJ9D65Eniaw0",
        "outputId": "2bd2cb8d-3715-48a8-f196-6dfab5dc7c0d"
      },
      "execution_count": 145,
      "outputs": [
        {
          "output_type": "stream",
          "name": "stdout",
          "text": [
            "0.010595546094104624\n"
          ]
        }
      ]
    },
    {
      "cell_type": "markdown",
      "source": [
        "## 3. 이상값 확인하기"
      ],
      "metadata": {
        "id": "oy3SNImXi7yG"
      }
    },
    {
      "cell_type": "code",
      "source": [
        "import pandas as pd\n",
        "data = pd.read_csv('/content/drive/MyDrive/bigData-main/boston.csv')\n",
        "zn_mean = data['ZN'].mean()\n",
        "zn_std = data['ZN'].std()\n",
        "\n",
        "zn_max = zn_mean + (1.5 * zn_std)\n",
        "# print(zn_max)\n",
        "\n",
        "zn_min = zn_mean - (1.5 * zn_std)\n",
        "# print(zn_min)\n",
        "\n",
        "# print(data[data['ZN'] > zn_max]['ZN'])\n",
        "# print(data[data['ZN'] < zn_min]['ZN'])\n",
        "\n",
        "zn_max2 = data[data['ZN'] > zn_max]['ZN']\n",
        "# print(zn_max2)\n",
        "\n",
        "zn_min2 = data[data['ZN'] < zn_min]['ZN']\n",
        "# print(zn_min2)\n",
        "\n",
        "print(sum(zn_max2))\n",
        "# print(sum(data[data['ZN'] > zn_max]['ZN']) + sum(data[data['ZN'] < zn_min]['ZN']))"
      ],
      "metadata": {
        "colab": {
          "base_uri": "https://localhost:8080/"
        },
        "id": "3DVxre-Gi6fv",
        "outputId": "e7aac3e3-f1c0-4135-c8d1-bbab5c701d2c"
      },
      "execution_count": 157,
      "outputs": [
        {
          "output_type": "stream",
          "name": "stdout",
          "text": [
            "3462.5\n"
          ]
        }
      ]
    },
    {
      "cell_type": "code",
      "source": [
        "import pandas as pd\n",
        "data = pd.read_csv('/content/drive/MyDrive/bigData-main/boston.csv')\n",
        "zn_mean = data['ZN'].mean()\n",
        "zn_std = data['ZN'].std()\n",
        "zn_max = zn_mean + (1.5 * zn_std)\n",
        "zn_min = zn_mean - (1.5 * zn_std)\n",
        "\n",
        "zn_max2 = data[data['ZN'] > zn_max]['ZN']\n",
        "zn_min2 = data[data['ZN'] < zn_min]['ZN']\n",
        "\n",
        "print(sum(zn_max2) + sum(zn_min2))"
      ],
      "metadata": {
        "colab": {
          "base_uri": "https://localhost:8080/"
        },
        "id": "3gmLIz1vj5Hy",
        "outputId": "4489bee7-51a1-4271-f554-1a2299894cc4"
      },
      "execution_count": 159,
      "outputs": [
        {
          "output_type": "stream",
          "name": "stdout",
          "text": [
            "3462.5\n"
          ]
        }
      ]
    },
    {
      "cell_type": "markdown",
      "source": [
        "## 4. 사분위수 구하기"
      ],
      "metadata": {
        "id": "VBka-UpDmXMU"
      }
    },
    {
      "cell_type": "code",
      "source": [
        "import pandas as pd\n",
        "data = pd.read_csv('/content/drive/MyDrive/bigData-main/boston.csv')\n",
        "data = data.drop(columns=['CHAS', 'RAD'])\n",
        "data.head()"
      ],
      "metadata": {
        "colab": {
          "base_uri": "https://localhost:8080/",
          "height": 270
        },
        "id": "ISaqjY_smSXX",
        "outputId": "c08be367-1cbf-496e-e4f0-80cc0537639e"
      },
      "execution_count": 163,
      "outputs": [
        {
          "output_type": "execute_result",
          "data": {
            "text/plain": [
              "      CRIM    ZN  INDUS    NOX     RM   AGE     DIS  TAX  PTRATIO       B  \\\n",
              "0  0.00632  18.0   2.31  0.538  6.575  65.2  4.0900  296     15.3  396.90   \n",
              "1  0.02731   0.0   7.07  0.469  6.421  78.9  4.9671  242     17.8  396.90   \n",
              "2  0.02729   0.0   7.07  0.469  7.185  61.1  4.9671  242     17.8  392.83   \n",
              "3  0.03237   0.0   2.18  0.458  6.998  45.8  6.0622  222     18.7  394.63   \n",
              "4  0.06905   0.0   2.18  0.458  7.147  54.2  6.0622  222     18.7  396.90   \n",
              "\n",
              "   LSTAT  MEDV  \n",
              "0   4.98  24.0  \n",
              "1   9.14  21.6  \n",
              "2   4.03  34.7  \n",
              "3   2.94  33.4  \n",
              "4   5.33  36.2  "
            ],
            "text/html": [
              "\n",
              "  <div id=\"df-bedcd4f1-b441-4263-8888-77204f5816a4\">\n",
              "    <div class=\"colab-df-container\">\n",
              "      <div>\n",
              "<style scoped>\n",
              "    .dataframe tbody tr th:only-of-type {\n",
              "        vertical-align: middle;\n",
              "    }\n",
              "\n",
              "    .dataframe tbody tr th {\n",
              "        vertical-align: top;\n",
              "    }\n",
              "\n",
              "    .dataframe thead th {\n",
              "        text-align: right;\n",
              "    }\n",
              "</style>\n",
              "<table border=\"1\" class=\"dataframe\">\n",
              "  <thead>\n",
              "    <tr style=\"text-align: right;\">\n",
              "      <th></th>\n",
              "      <th>CRIM</th>\n",
              "      <th>ZN</th>\n",
              "      <th>INDUS</th>\n",
              "      <th>NOX</th>\n",
              "      <th>RM</th>\n",
              "      <th>AGE</th>\n",
              "      <th>DIS</th>\n",
              "      <th>TAX</th>\n",
              "      <th>PTRATIO</th>\n",
              "      <th>B</th>\n",
              "      <th>LSTAT</th>\n",
              "      <th>MEDV</th>\n",
              "    </tr>\n",
              "  </thead>\n",
              "  <tbody>\n",
              "    <tr>\n",
              "      <th>0</th>\n",
              "      <td>0.00632</td>\n",
              "      <td>18.0</td>\n",
              "      <td>2.31</td>\n",
              "      <td>0.538</td>\n",
              "      <td>6.575</td>\n",
              "      <td>65.2</td>\n",
              "      <td>4.0900</td>\n",
              "      <td>296</td>\n",
              "      <td>15.3</td>\n",
              "      <td>396.90</td>\n",
              "      <td>4.98</td>\n",
              "      <td>24.0</td>\n",
              "    </tr>\n",
              "    <tr>\n",
              "      <th>1</th>\n",
              "      <td>0.02731</td>\n",
              "      <td>0.0</td>\n",
              "      <td>7.07</td>\n",
              "      <td>0.469</td>\n",
              "      <td>6.421</td>\n",
              "      <td>78.9</td>\n",
              "      <td>4.9671</td>\n",
              "      <td>242</td>\n",
              "      <td>17.8</td>\n",
              "      <td>396.90</td>\n",
              "      <td>9.14</td>\n",
              "      <td>21.6</td>\n",
              "    </tr>\n",
              "    <tr>\n",
              "      <th>2</th>\n",
              "      <td>0.02729</td>\n",
              "      <td>0.0</td>\n",
              "      <td>7.07</td>\n",
              "      <td>0.469</td>\n",
              "      <td>7.185</td>\n",
              "      <td>61.1</td>\n",
              "      <td>4.9671</td>\n",
              "      <td>242</td>\n",
              "      <td>17.8</td>\n",
              "      <td>392.83</td>\n",
              "      <td>4.03</td>\n",
              "      <td>34.7</td>\n",
              "    </tr>\n",
              "    <tr>\n",
              "      <th>3</th>\n",
              "      <td>0.03237</td>\n",
              "      <td>0.0</td>\n",
              "      <td>2.18</td>\n",
              "      <td>0.458</td>\n",
              "      <td>6.998</td>\n",
              "      <td>45.8</td>\n",
              "      <td>6.0622</td>\n",
              "      <td>222</td>\n",
              "      <td>18.7</td>\n",
              "      <td>394.63</td>\n",
              "      <td>2.94</td>\n",
              "      <td>33.4</td>\n",
              "    </tr>\n",
              "    <tr>\n",
              "      <th>4</th>\n",
              "      <td>0.06905</td>\n",
              "      <td>0.0</td>\n",
              "      <td>2.18</td>\n",
              "      <td>0.458</td>\n",
              "      <td>7.147</td>\n",
              "      <td>54.2</td>\n",
              "      <td>6.0622</td>\n",
              "      <td>222</td>\n",
              "      <td>18.7</td>\n",
              "      <td>396.90</td>\n",
              "      <td>5.33</td>\n",
              "      <td>36.2</td>\n",
              "    </tr>\n",
              "  </tbody>\n",
              "</table>\n",
              "</div>\n",
              "      <button class=\"colab-df-convert\" onclick=\"convertToInteractive('df-bedcd4f1-b441-4263-8888-77204f5816a4')\"\n",
              "              title=\"Convert this dataframe to an interactive table.\"\n",
              "              style=\"display:none;\">\n",
              "        \n",
              "  <svg xmlns=\"http://www.w3.org/2000/svg\" height=\"24px\"viewBox=\"0 0 24 24\"\n",
              "       width=\"24px\">\n",
              "    <path d=\"M0 0h24v24H0V0z\" fill=\"none\"/>\n",
              "    <path d=\"M18.56 5.44l.94 2.06.94-2.06 2.06-.94-2.06-.94-.94-2.06-.94 2.06-2.06.94zm-11 1L8.5 8.5l.94-2.06 2.06-.94-2.06-.94L8.5 2.5l-.94 2.06-2.06.94zm10 10l.94 2.06.94-2.06 2.06-.94-2.06-.94-.94-2.06-.94 2.06-2.06.94z\"/><path d=\"M17.41 7.96l-1.37-1.37c-.4-.4-.92-.59-1.43-.59-.52 0-1.04.2-1.43.59L10.3 9.45l-7.72 7.72c-.78.78-.78 2.05 0 2.83L4 21.41c.39.39.9.59 1.41.59.51 0 1.02-.2 1.41-.59l7.78-7.78 2.81-2.81c.8-.78.8-2.07 0-2.86zM5.41 20L4 18.59l7.72-7.72 1.47 1.35L5.41 20z\"/>\n",
              "  </svg>\n",
              "      </button>\n",
              "      \n",
              "  <style>\n",
              "    .colab-df-container {\n",
              "      display:flex;\n",
              "      flex-wrap:wrap;\n",
              "      gap: 12px;\n",
              "    }\n",
              "\n",
              "    .colab-df-convert {\n",
              "      background-color: #E8F0FE;\n",
              "      border: none;\n",
              "      border-radius: 50%;\n",
              "      cursor: pointer;\n",
              "      display: none;\n",
              "      fill: #1967D2;\n",
              "      height: 32px;\n",
              "      padding: 0 0 0 0;\n",
              "      width: 32px;\n",
              "    }\n",
              "\n",
              "    .colab-df-convert:hover {\n",
              "      background-color: #E2EBFA;\n",
              "      box-shadow: 0px 1px 2px rgba(60, 64, 67, 0.3), 0px 1px 3px 1px rgba(60, 64, 67, 0.15);\n",
              "      fill: #174EA6;\n",
              "    }\n",
              "\n",
              "    [theme=dark] .colab-df-convert {\n",
              "      background-color: #3B4455;\n",
              "      fill: #D2E3FC;\n",
              "    }\n",
              "\n",
              "    [theme=dark] .colab-df-convert:hover {\n",
              "      background-color: #434B5C;\n",
              "      box-shadow: 0px 1px 3px 1px rgba(0, 0, 0, 0.15);\n",
              "      filter: drop-shadow(0px 1px 2px rgba(0, 0, 0, 0.3));\n",
              "      fill: #FFFFFF;\n",
              "    }\n",
              "  </style>\n",
              "\n",
              "      <script>\n",
              "        const buttonEl =\n",
              "          document.querySelector('#df-bedcd4f1-b441-4263-8888-77204f5816a4 button.colab-df-convert');\n",
              "        buttonEl.style.display =\n",
              "          google.colab.kernel.accessAllowed ? 'block' : 'none';\n",
              "\n",
              "        async function convertToInteractive(key) {\n",
              "          const element = document.querySelector('#df-bedcd4f1-b441-4263-8888-77204f5816a4');\n",
              "          const dataTable =\n",
              "            await google.colab.kernel.invokeFunction('convertToInteractive',\n",
              "                                                     [key], {});\n",
              "          if (!dataTable) return;\n",
              "\n",
              "          const docLinkHtml = 'Like what you see? Visit the ' +\n",
              "            '<a target=\"_blank\" href=https://colab.research.google.com/notebooks/data_table.ipynb>data table notebook</a>'\n",
              "            + ' to learn more about interactive tables.';\n",
              "          element.innerHTML = '';\n",
              "          dataTable['output_type'] = 'display_data';\n",
              "          await google.colab.output.renderOutput(dataTable, element);\n",
              "          const docLink = document.createElement('div');\n",
              "          docLink.innerHTML = docLinkHtml;\n",
              "          element.appendChild(docLink);\n",
              "        }\n",
              "      </script>\n",
              "    </div>\n",
              "  </div>\n",
              "  "
            ]
          },
          "metadata": {},
          "execution_count": 163
        }
      ]
    },
    {
      "cell_type": "code",
      "source": [
        "data_desc = data.describe()\n",
        "data_desc"
      ],
      "metadata": {
        "colab": {
          "base_uri": "https://localhost:8080/",
          "height": 364
        },
        "id": "rRwFNpWHmhJ2",
        "outputId": "4865c0cf-e008-4a4a-ab12-672676d7125e"
      },
      "execution_count": 164,
      "outputs": [
        {
          "output_type": "execute_result",
          "data": {
            "text/plain": [
              "             CRIM          ZN       INDUS         NOX          RM         AGE  \\\n",
              "count  506.000000  506.000000  506.000000  506.000000  491.000000  506.000000   \n",
              "mean     3.613524   11.363636   11.136779    0.554695    6.285102   68.574901   \n",
              "std      8.601545   23.322453    6.860353    0.115878    0.708096   28.148861   \n",
              "min      0.006320    0.000000    0.460000    0.385000    3.561000    2.900000   \n",
              "25%      0.082045    0.000000    5.190000    0.449000    5.886000   45.025000   \n",
              "50%      0.256510    0.000000    9.690000    0.538000    6.209000   77.500000   \n",
              "75%      3.677083   12.500000   18.100000    0.624000    6.622000   94.075000   \n",
              "max     88.976200  100.000000   27.740000    0.871000    8.780000  100.000000   \n",
              "\n",
              "              DIS         TAX     PTRATIO           B       LSTAT        MEDV  \n",
              "count  506.000000  506.000000  506.000000  506.000000  506.000000  506.000000  \n",
              "mean     3.795043  408.237154   18.455534  356.674032   12.653063   22.532806  \n",
              "std      2.105710  168.537116    2.164946   91.294864    7.141062    9.197104  \n",
              "min      1.129600  187.000000   12.600000    0.320000    1.730000    5.000000  \n",
              "25%      2.100175  279.000000   17.400000  375.377500    6.950000   17.025000  \n",
              "50%      3.207450  330.000000   19.050000  391.440000   11.360000   21.200000  \n",
              "75%      5.188425  666.000000   20.200000  396.225000   16.955000   25.000000  \n",
              "max     12.126500  711.000000   22.000000  396.900000   37.970000   50.000000  "
            ],
            "text/html": [
              "\n",
              "  <div id=\"df-02cd1994-d97a-4394-955f-e4f1f60b89a1\">\n",
              "    <div class=\"colab-df-container\">\n",
              "      <div>\n",
              "<style scoped>\n",
              "    .dataframe tbody tr th:only-of-type {\n",
              "        vertical-align: middle;\n",
              "    }\n",
              "\n",
              "    .dataframe tbody tr th {\n",
              "        vertical-align: top;\n",
              "    }\n",
              "\n",
              "    .dataframe thead th {\n",
              "        text-align: right;\n",
              "    }\n",
              "</style>\n",
              "<table border=\"1\" class=\"dataframe\">\n",
              "  <thead>\n",
              "    <tr style=\"text-align: right;\">\n",
              "      <th></th>\n",
              "      <th>CRIM</th>\n",
              "      <th>ZN</th>\n",
              "      <th>INDUS</th>\n",
              "      <th>NOX</th>\n",
              "      <th>RM</th>\n",
              "      <th>AGE</th>\n",
              "      <th>DIS</th>\n",
              "      <th>TAX</th>\n",
              "      <th>PTRATIO</th>\n",
              "      <th>B</th>\n",
              "      <th>LSTAT</th>\n",
              "      <th>MEDV</th>\n",
              "    </tr>\n",
              "  </thead>\n",
              "  <tbody>\n",
              "    <tr>\n",
              "      <th>count</th>\n",
              "      <td>506.000000</td>\n",
              "      <td>506.000000</td>\n",
              "      <td>506.000000</td>\n",
              "      <td>506.000000</td>\n",
              "      <td>491.000000</td>\n",
              "      <td>506.000000</td>\n",
              "      <td>506.000000</td>\n",
              "      <td>506.000000</td>\n",
              "      <td>506.000000</td>\n",
              "      <td>506.000000</td>\n",
              "      <td>506.000000</td>\n",
              "      <td>506.000000</td>\n",
              "    </tr>\n",
              "    <tr>\n",
              "      <th>mean</th>\n",
              "      <td>3.613524</td>\n",
              "      <td>11.363636</td>\n",
              "      <td>11.136779</td>\n",
              "      <td>0.554695</td>\n",
              "      <td>6.285102</td>\n",
              "      <td>68.574901</td>\n",
              "      <td>3.795043</td>\n",
              "      <td>408.237154</td>\n",
              "      <td>18.455534</td>\n",
              "      <td>356.674032</td>\n",
              "      <td>12.653063</td>\n",
              "      <td>22.532806</td>\n",
              "    </tr>\n",
              "    <tr>\n",
              "      <th>std</th>\n",
              "      <td>8.601545</td>\n",
              "      <td>23.322453</td>\n",
              "      <td>6.860353</td>\n",
              "      <td>0.115878</td>\n",
              "      <td>0.708096</td>\n",
              "      <td>28.148861</td>\n",
              "      <td>2.105710</td>\n",
              "      <td>168.537116</td>\n",
              "      <td>2.164946</td>\n",
              "      <td>91.294864</td>\n",
              "      <td>7.141062</td>\n",
              "      <td>9.197104</td>\n",
              "    </tr>\n",
              "    <tr>\n",
              "      <th>min</th>\n",
              "      <td>0.006320</td>\n",
              "      <td>0.000000</td>\n",
              "      <td>0.460000</td>\n",
              "      <td>0.385000</td>\n",
              "      <td>3.561000</td>\n",
              "      <td>2.900000</td>\n",
              "      <td>1.129600</td>\n",
              "      <td>187.000000</td>\n",
              "      <td>12.600000</td>\n",
              "      <td>0.320000</td>\n",
              "      <td>1.730000</td>\n",
              "      <td>5.000000</td>\n",
              "    </tr>\n",
              "    <tr>\n",
              "      <th>25%</th>\n",
              "      <td>0.082045</td>\n",
              "      <td>0.000000</td>\n",
              "      <td>5.190000</td>\n",
              "      <td>0.449000</td>\n",
              "      <td>5.886000</td>\n",
              "      <td>45.025000</td>\n",
              "      <td>2.100175</td>\n",
              "      <td>279.000000</td>\n",
              "      <td>17.400000</td>\n",
              "      <td>375.377500</td>\n",
              "      <td>6.950000</td>\n",
              "      <td>17.025000</td>\n",
              "    </tr>\n",
              "    <tr>\n",
              "      <th>50%</th>\n",
              "      <td>0.256510</td>\n",
              "      <td>0.000000</td>\n",
              "      <td>9.690000</td>\n",
              "      <td>0.538000</td>\n",
              "      <td>6.209000</td>\n",
              "      <td>77.500000</td>\n",
              "      <td>3.207450</td>\n",
              "      <td>330.000000</td>\n",
              "      <td>19.050000</td>\n",
              "      <td>391.440000</td>\n",
              "      <td>11.360000</td>\n",
              "      <td>21.200000</td>\n",
              "    </tr>\n",
              "    <tr>\n",
              "      <th>75%</th>\n",
              "      <td>3.677083</td>\n",
              "      <td>12.500000</td>\n",
              "      <td>18.100000</td>\n",
              "      <td>0.624000</td>\n",
              "      <td>6.622000</td>\n",
              "      <td>94.075000</td>\n",
              "      <td>5.188425</td>\n",
              "      <td>666.000000</td>\n",
              "      <td>20.200000</td>\n",
              "      <td>396.225000</td>\n",
              "      <td>16.955000</td>\n",
              "      <td>25.000000</td>\n",
              "    </tr>\n",
              "    <tr>\n",
              "      <th>max</th>\n",
              "      <td>88.976200</td>\n",
              "      <td>100.000000</td>\n",
              "      <td>27.740000</td>\n",
              "      <td>0.871000</td>\n",
              "      <td>8.780000</td>\n",
              "      <td>100.000000</td>\n",
              "      <td>12.126500</td>\n",
              "      <td>711.000000</td>\n",
              "      <td>22.000000</td>\n",
              "      <td>396.900000</td>\n",
              "      <td>37.970000</td>\n",
              "      <td>50.000000</td>\n",
              "    </tr>\n",
              "  </tbody>\n",
              "</table>\n",
              "</div>\n",
              "      <button class=\"colab-df-convert\" onclick=\"convertToInteractive('df-02cd1994-d97a-4394-955f-e4f1f60b89a1')\"\n",
              "              title=\"Convert this dataframe to an interactive table.\"\n",
              "              style=\"display:none;\">\n",
              "        \n",
              "  <svg xmlns=\"http://www.w3.org/2000/svg\" height=\"24px\"viewBox=\"0 0 24 24\"\n",
              "       width=\"24px\">\n",
              "    <path d=\"M0 0h24v24H0V0z\" fill=\"none\"/>\n",
              "    <path d=\"M18.56 5.44l.94 2.06.94-2.06 2.06-.94-2.06-.94-.94-2.06-.94 2.06-2.06.94zm-11 1L8.5 8.5l.94-2.06 2.06-.94-2.06-.94L8.5 2.5l-.94 2.06-2.06.94zm10 10l.94 2.06.94-2.06 2.06-.94-2.06-.94-.94-2.06-.94 2.06-2.06.94z\"/><path d=\"M17.41 7.96l-1.37-1.37c-.4-.4-.92-.59-1.43-.59-.52 0-1.04.2-1.43.59L10.3 9.45l-7.72 7.72c-.78.78-.78 2.05 0 2.83L4 21.41c.39.39.9.59 1.41.59.51 0 1.02-.2 1.41-.59l7.78-7.78 2.81-2.81c.8-.78.8-2.07 0-2.86zM5.41 20L4 18.59l7.72-7.72 1.47 1.35L5.41 20z\"/>\n",
              "  </svg>\n",
              "      </button>\n",
              "      \n",
              "  <style>\n",
              "    .colab-df-container {\n",
              "      display:flex;\n",
              "      flex-wrap:wrap;\n",
              "      gap: 12px;\n",
              "    }\n",
              "\n",
              "    .colab-df-convert {\n",
              "      background-color: #E8F0FE;\n",
              "      border: none;\n",
              "      border-radius: 50%;\n",
              "      cursor: pointer;\n",
              "      display: none;\n",
              "      fill: #1967D2;\n",
              "      height: 32px;\n",
              "      padding: 0 0 0 0;\n",
              "      width: 32px;\n",
              "    }\n",
              "\n",
              "    .colab-df-convert:hover {\n",
              "      background-color: #E2EBFA;\n",
              "      box-shadow: 0px 1px 2px rgba(60, 64, 67, 0.3), 0px 1px 3px 1px rgba(60, 64, 67, 0.15);\n",
              "      fill: #174EA6;\n",
              "    }\n",
              "\n",
              "    [theme=dark] .colab-df-convert {\n",
              "      background-color: #3B4455;\n",
              "      fill: #D2E3FC;\n",
              "    }\n",
              "\n",
              "    [theme=dark] .colab-df-convert:hover {\n",
              "      background-color: #434B5C;\n",
              "      box-shadow: 0px 1px 3px 1px rgba(0, 0, 0, 0.15);\n",
              "      filter: drop-shadow(0px 1px 2px rgba(0, 0, 0, 0.3));\n",
              "      fill: #FFFFFF;\n",
              "    }\n",
              "  </style>\n",
              "\n",
              "      <script>\n",
              "        const buttonEl =\n",
              "          document.querySelector('#df-02cd1994-d97a-4394-955f-e4f1f60b89a1 button.colab-df-convert');\n",
              "        buttonEl.style.display =\n",
              "          google.colab.kernel.accessAllowed ? 'block' : 'none';\n",
              "\n",
              "        async function convertToInteractive(key) {\n",
              "          const element = document.querySelector('#df-02cd1994-d97a-4394-955f-e4f1f60b89a1');\n",
              "          const dataTable =\n",
              "            await google.colab.kernel.invokeFunction('convertToInteractive',\n",
              "                                                     [key], {});\n",
              "          if (!dataTable) return;\n",
              "\n",
              "          const docLinkHtml = 'Like what you see? Visit the ' +\n",
              "            '<a target=\"_blank\" href=https://colab.research.google.com/notebooks/data_table.ipynb>data table notebook</a>'\n",
              "            + ' to learn more about interactive tables.';\n",
              "          element.innerHTML = '';\n",
              "          dataTable['output_type'] = 'display_data';\n",
              "          await google.colab.output.renderOutput(dataTable, element);\n",
              "          const docLink = document.createElement('div');\n",
              "          docLink.innerHTML = docLinkHtml;\n",
              "          element.appendChild(docLink);\n",
              "        }\n",
              "      </script>\n",
              "    </div>\n",
              "  </div>\n",
              "  "
            ]
          },
          "metadata": {},
          "execution_count": 164
        }
      ]
    },
    {
      "cell_type": "code",
      "source": [
        "data_desc_T = data_desc.iloc[[4,6]].T"
      ],
      "metadata": {
        "id": "xXD43sEipHCT"
      },
      "execution_count": 167,
      "outputs": []
    },
    {
      "cell_type": "code",
      "source": [
        "data_desc_T"
      ],
      "metadata": {
        "colab": {
          "base_uri": "https://localhost:8080/",
          "height": 426
        },
        "id": "PgM1DOaopPeO",
        "outputId": "0d22c5fa-26f6-4f03-d370-b6f1029418d9"
      },
      "execution_count": 168,
      "outputs": [
        {
          "output_type": "execute_result",
          "data": {
            "text/plain": [
              "                25%         75%\n",
              "CRIM       0.082045    3.677083\n",
              "ZN         0.000000   12.500000\n",
              "INDUS      5.190000   18.100000\n",
              "NOX        0.449000    0.624000\n",
              "RM         5.886000    6.622000\n",
              "AGE       45.025000   94.075000\n",
              "DIS        2.100175    5.188425\n",
              "TAX      279.000000  666.000000\n",
              "PTRATIO   17.400000   20.200000\n",
              "B        375.377500  396.225000\n",
              "LSTAT      6.950000   16.955000\n",
              "MEDV      17.025000   25.000000"
            ],
            "text/html": [
              "\n",
              "  <div id=\"df-acbea4ae-a4f1-4b77-937b-b4b02626a7ef\">\n",
              "    <div class=\"colab-df-container\">\n",
              "      <div>\n",
              "<style scoped>\n",
              "    .dataframe tbody tr th:only-of-type {\n",
              "        vertical-align: middle;\n",
              "    }\n",
              "\n",
              "    .dataframe tbody tr th {\n",
              "        vertical-align: top;\n",
              "    }\n",
              "\n",
              "    .dataframe thead th {\n",
              "        text-align: right;\n",
              "    }\n",
              "</style>\n",
              "<table border=\"1\" class=\"dataframe\">\n",
              "  <thead>\n",
              "    <tr style=\"text-align: right;\">\n",
              "      <th></th>\n",
              "      <th>25%</th>\n",
              "      <th>75%</th>\n",
              "    </tr>\n",
              "  </thead>\n",
              "  <tbody>\n",
              "    <tr>\n",
              "      <th>CRIM</th>\n",
              "      <td>0.082045</td>\n",
              "      <td>3.677083</td>\n",
              "    </tr>\n",
              "    <tr>\n",
              "      <th>ZN</th>\n",
              "      <td>0.000000</td>\n",
              "      <td>12.500000</td>\n",
              "    </tr>\n",
              "    <tr>\n",
              "      <th>INDUS</th>\n",
              "      <td>5.190000</td>\n",
              "      <td>18.100000</td>\n",
              "    </tr>\n",
              "    <tr>\n",
              "      <th>NOX</th>\n",
              "      <td>0.449000</td>\n",
              "      <td>0.624000</td>\n",
              "    </tr>\n",
              "    <tr>\n",
              "      <th>RM</th>\n",
              "      <td>5.886000</td>\n",
              "      <td>6.622000</td>\n",
              "    </tr>\n",
              "    <tr>\n",
              "      <th>AGE</th>\n",
              "      <td>45.025000</td>\n",
              "      <td>94.075000</td>\n",
              "    </tr>\n",
              "    <tr>\n",
              "      <th>DIS</th>\n",
              "      <td>2.100175</td>\n",
              "      <td>5.188425</td>\n",
              "    </tr>\n",
              "    <tr>\n",
              "      <th>TAX</th>\n",
              "      <td>279.000000</td>\n",
              "      <td>666.000000</td>\n",
              "    </tr>\n",
              "    <tr>\n",
              "      <th>PTRATIO</th>\n",
              "      <td>17.400000</td>\n",
              "      <td>20.200000</td>\n",
              "    </tr>\n",
              "    <tr>\n",
              "      <th>B</th>\n",
              "      <td>375.377500</td>\n",
              "      <td>396.225000</td>\n",
              "    </tr>\n",
              "    <tr>\n",
              "      <th>LSTAT</th>\n",
              "      <td>6.950000</td>\n",
              "      <td>16.955000</td>\n",
              "    </tr>\n",
              "    <tr>\n",
              "      <th>MEDV</th>\n",
              "      <td>17.025000</td>\n",
              "      <td>25.000000</td>\n",
              "    </tr>\n",
              "  </tbody>\n",
              "</table>\n",
              "</div>\n",
              "      <button class=\"colab-df-convert\" onclick=\"convertToInteractive('df-acbea4ae-a4f1-4b77-937b-b4b02626a7ef')\"\n",
              "              title=\"Convert this dataframe to an interactive table.\"\n",
              "              style=\"display:none;\">\n",
              "        \n",
              "  <svg xmlns=\"http://www.w3.org/2000/svg\" height=\"24px\"viewBox=\"0 0 24 24\"\n",
              "       width=\"24px\">\n",
              "    <path d=\"M0 0h24v24H0V0z\" fill=\"none\"/>\n",
              "    <path d=\"M18.56 5.44l.94 2.06.94-2.06 2.06-.94-2.06-.94-.94-2.06-.94 2.06-2.06.94zm-11 1L8.5 8.5l.94-2.06 2.06-.94-2.06-.94L8.5 2.5l-.94 2.06-2.06.94zm10 10l.94 2.06.94-2.06 2.06-.94-2.06-.94-.94-2.06-.94 2.06-2.06.94z\"/><path d=\"M17.41 7.96l-1.37-1.37c-.4-.4-.92-.59-1.43-.59-.52 0-1.04.2-1.43.59L10.3 9.45l-7.72 7.72c-.78.78-.78 2.05 0 2.83L4 21.41c.39.39.9.59 1.41.59.51 0 1.02-.2 1.41-.59l7.78-7.78 2.81-2.81c.8-.78.8-2.07 0-2.86zM5.41 20L4 18.59l7.72-7.72 1.47 1.35L5.41 20z\"/>\n",
              "  </svg>\n",
              "      </button>\n",
              "      \n",
              "  <style>\n",
              "    .colab-df-container {\n",
              "      display:flex;\n",
              "      flex-wrap:wrap;\n",
              "      gap: 12px;\n",
              "    }\n",
              "\n",
              "    .colab-df-convert {\n",
              "      background-color: #E8F0FE;\n",
              "      border: none;\n",
              "      border-radius: 50%;\n",
              "      cursor: pointer;\n",
              "      display: none;\n",
              "      fill: #1967D2;\n",
              "      height: 32px;\n",
              "      padding: 0 0 0 0;\n",
              "      width: 32px;\n",
              "    }\n",
              "\n",
              "    .colab-df-convert:hover {\n",
              "      background-color: #E2EBFA;\n",
              "      box-shadow: 0px 1px 2px rgba(60, 64, 67, 0.3), 0px 1px 3px 1px rgba(60, 64, 67, 0.15);\n",
              "      fill: #174EA6;\n",
              "    }\n",
              "\n",
              "    [theme=dark] .colab-df-convert {\n",
              "      background-color: #3B4455;\n",
              "      fill: #D2E3FC;\n",
              "    }\n",
              "\n",
              "    [theme=dark] .colab-df-convert:hover {\n",
              "      background-color: #434B5C;\n",
              "      box-shadow: 0px 1px 3px 1px rgba(0, 0, 0, 0.15);\n",
              "      filter: drop-shadow(0px 1px 2px rgba(0, 0, 0, 0.3));\n",
              "      fill: #FFFFFF;\n",
              "    }\n",
              "  </style>\n",
              "\n",
              "      <script>\n",
              "        const buttonEl =\n",
              "          document.querySelector('#df-acbea4ae-a4f1-4b77-937b-b4b02626a7ef button.colab-df-convert');\n",
              "        buttonEl.style.display =\n",
              "          google.colab.kernel.accessAllowed ? 'block' : 'none';\n",
              "\n",
              "        async function convertToInteractive(key) {\n",
              "          const element = document.querySelector('#df-acbea4ae-a4f1-4b77-937b-b4b02626a7ef');\n",
              "          const dataTable =\n",
              "            await google.colab.kernel.invokeFunction('convertToInteractive',\n",
              "                                                     [key], {});\n",
              "          if (!dataTable) return;\n",
              "\n",
              "          const docLinkHtml = 'Like what you see? Visit the ' +\n",
              "            '<a target=\"_blank\" href=https://colab.research.google.com/notebooks/data_table.ipynb>data table notebook</a>'\n",
              "            + ' to learn more about interactive tables.';\n",
              "          element.innerHTML = '';\n",
              "          dataTable['output_type'] = 'display_data';\n",
              "          await google.colab.output.renderOutput(dataTable, element);\n",
              "          const docLink = document.createElement('div');\n",
              "          docLink.innerHTML = docLinkHtml;\n",
              "          element.appendChild(docLink);\n",
              "        }\n",
              "      </script>\n",
              "    </div>\n",
              "  </div>\n",
              "  "
            ]
          },
          "metadata": {},
          "execution_count": 168
        }
      ]
    },
    {
      "cell_type": "code",
      "source": [
        "print(data_desc_T['75%'] - data_desc_T['25%'])"
      ],
      "metadata": {
        "colab": {
          "base_uri": "https://localhost:8080/"
        },
        "id": "ynLbvPPPpX7S",
        "outputId": "6e32ed83-cdae-4aea-9812-079af356b660"
      },
      "execution_count": 169,
      "outputs": [
        {
          "output_type": "stream",
          "name": "stdout",
          "text": [
            "CRIM         3.595038\n",
            "ZN          12.500000\n",
            "INDUS       12.910000\n",
            "NOX          0.175000\n",
            "RM           0.736000\n",
            "AGE         49.050000\n",
            "DIS          3.088250\n",
            "TAX        387.000000\n",
            "PTRATIO      2.800000\n",
            "B           20.847500\n",
            "LSTAT       10.005000\n",
            "MEDV         7.975000\n",
            "dtype: float64\n"
          ]
        }
      ]
    },
    {
      "cell_type": "code",
      "source": [
        "import pandas as pd\n",
        "data = pd.read_csv('/content/drive/MyDrive/bigData-main/boston.csv')\n",
        "data = data.drop(columns= ['CHAS', 'RAD'])\n",
        "data_desc = data.describe()\n",
        "data_desc_T = data_desc.iloc[[4,6]].T\n",
        "print(data_desc_T['75%'] - data_desc_T['25%'])"
      ],
      "metadata": {
        "colab": {
          "base_uri": "https://localhost:8080/"
        },
        "id": "06AXMrDTpfUg",
        "outputId": "45418ca4-0874-4137-8b51-cb2d06763183"
      },
      "execution_count": 170,
      "outputs": [
        {
          "output_type": "stream",
          "name": "stdout",
          "text": [
            "CRIM         3.595038\n",
            "ZN          12.500000\n",
            "INDUS       12.910000\n",
            "NOX          0.175000\n",
            "RM           0.736000\n",
            "AGE         49.050000\n",
            "DIS          3.088250\n",
            "TAX        387.000000\n",
            "PTRATIO      2.800000\n",
            "B           20.847500\n",
            "LSTAT       10.005000\n",
            "MEDV         7.975000\n",
            "dtype: float64\n"
          ]
        }
      ]
    },
    {
      "cell_type": "markdown",
      "source": [
        "## 5. 순위 구하기"
      ],
      "metadata": {
        "id": "p7qBx5Ayp4MN"
      }
    },
    {
      "cell_type": "code",
      "source": [
        "import pandas as pd\n",
        "data = pd.read_csv('/content/drive/MyDrive/bigData-main/boston.csv')\n",
        "data_new = data['MEDV'].sort_values(ascending=False)\n",
        "print(data_new.head(30))"
      ],
      "metadata": {
        "colab": {
          "base_uri": "https://localhost:8080/"
        },
        "id": "gs0VdS4Mp2yx",
        "outputId": "d673ee32-22fa-4d1e-9b70-673380861f0d"
      },
      "execution_count": 174,
      "outputs": [
        {
          "output_type": "stream",
          "name": "stdout",
          "text": [
            "283    50.0\n",
            "225    50.0\n",
            "369    50.0\n",
            "370    50.0\n",
            "371    50.0\n",
            "372    50.0\n",
            "186    50.0\n",
            "204    50.0\n",
            "257    50.0\n",
            "195    50.0\n",
            "166    50.0\n",
            "163    50.0\n",
            "267    50.0\n",
            "162    50.0\n",
            "161    50.0\n",
            "368    50.0\n",
            "262    48.8\n",
            "203    48.5\n",
            "233    48.3\n",
            "228    46.7\n",
            "282    46.0\n",
            "280    45.4\n",
            "224    44.8\n",
            "256    44.0\n",
            "98     43.8\n",
            "268    43.5\n",
            "261    43.1\n",
            "253    42.8\n",
            "202    42.3\n",
            "232    41.7\n",
            "Name: MEDV, dtype: float64\n"
          ]
        }
      ]
    },
    {
      "cell_type": "code",
      "source": [
        "data_new.iloc[0:29] = 41.7\n",
        "data_new"
      ],
      "metadata": {
        "colab": {
          "base_uri": "https://localhost:8080/"
        },
        "id": "uqILF1qMqGTA",
        "outputId": "a6d128ae-5475-44ef-cf9f-6ad4e5c1e965"
      },
      "execution_count": 176,
      "outputs": [
        {
          "output_type": "execute_result",
          "data": {
            "text/plain": [
              "283    41.7\n",
              "225    41.7\n",
              "369    41.7\n",
              "370    41.7\n",
              "371    41.7\n",
              "       ... \n",
              "414     7.0\n",
              "399     6.3\n",
              "400     5.6\n",
              "398     5.0\n",
              "405     5.0\n",
              "Name: MEDV, Length: 506, dtype: float64"
            ]
          },
          "metadata": {},
          "execution_count": 176
        }
      ]
    },
    {
      "cell_type": "code",
      "source": [
        "print(data_new.mean(), data_new.median(), data_new.min(), data_new.max())"
      ],
      "metadata": {
        "colab": {
          "base_uri": "https://localhost:8080/"
        },
        "id": "ODrCJk2YqlNL",
        "outputId": "8155c84e-ef7d-4bb7-8aad-2aabd23f12ef"
      },
      "execution_count": 177,
      "outputs": [
        {
          "output_type": "stream",
          "name": "stdout",
          "text": [
            "22.179644268774698 21.2 5.0 41.7\n"
          ]
        }
      ]
    },
    {
      "cell_type": "code",
      "source": [
        "import pandas as pd\n",
        "data = pd.read_csv('/content/drive/MyDrive/bigData-main/boston.csv')\n",
        "data_new = data['MEDV'].sort_values(ascending=False)\n",
        "data_new.iloc[0:29] = 41.7\n",
        "print(data_new.mean(), data_new.median(), data_new.min(), data_new.max())"
      ],
      "metadata": {
        "colab": {
          "base_uri": "https://localhost:8080/"
        },
        "id": "vfj5rpWlqzgT",
        "outputId": "ce6e0c14-9fba-42e9-e38b-3952745086bc"
      },
      "execution_count": 181,
      "outputs": [
        {
          "output_type": "stream",
          "name": "stdout",
          "text": [
            "22.179644268774698 21.2 5.0 41.7\n"
          ]
        }
      ]
    }
  ]
}