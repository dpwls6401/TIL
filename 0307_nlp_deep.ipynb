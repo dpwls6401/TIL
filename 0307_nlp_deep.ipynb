{
  "nbformat": 4,
  "nbformat_minor": 0,
  "metadata": {
    "colab": {
      "name": "0307_nlp_deep",
      "provenance": [],
      "collapsed_sections": []
    },
    "kernelspec": {
      "name": "python3",
      "display_name": "Python 3"
    },
    "language_info": {
      "name": "python"
    },
    "accelerator": "GPU"
  },
  "cells": [
    {
      "cell_type": "markdown",
      "source": [
        "RNN"
      ],
      "metadata": {
        "id": "g8LQO_u95KIv"
      }
    },
    {
      "cell_type": "code",
      "execution_count": null,
      "metadata": {
        "id": "kJtPeIa31EOU"
      },
      "outputs": [],
      "source": [
        "import numpy as np\n",
        "import tensorflow as tf\n",
        "from tensorflow.keras import layers, Sequential, Model\n",
        "\n",
        "tf.random.set_seed(42)"
      ]
    },
    {
      "cell_type": "code",
      "source": [
        "h = [1, 0, 0, 0]\n",
        "e = [0, 1, 0, 0]\n",
        "l = [0, 0, 1, 0]\n",
        "o = [0, 0, 0, 1]"
      ],
      "metadata": {
        "id": "GqmYT8oR1Wmj"
      },
      "execution_count": null,
      "outputs": []
    },
    {
      "cell_type": "code",
      "source": [
        "x_data = np.array([[h]], dtype=np.float32)\n",
        "x_data"
      ],
      "metadata": {
        "colab": {
          "base_uri": "https://localhost:8080/"
        },
        "id": "T89NZ4UG1rIl",
        "outputId": "d16ec083-a5c6-431d-eddc-6d5d852d9c52"
      },
      "execution_count": null,
      "outputs": [
        {
          "output_type": "execute_result",
          "data": {
            "text/plain": [
              "array([[[1., 0., 0., 0.]]], dtype=float32)"
            ]
          },
          "metadata": {},
          "execution_count": 3
        }
      ]
    },
    {
      "cell_type": "code",
      "source": [
        "x_data.shape "
      ],
      "metadata": {
        "colab": {
          "base_uri": "https://localhost:8080/"
        },
        "id": "9YnEq3Z9109a",
        "outputId": "f3c825fe-c9e4-4aa1-d252-ebce65a299c1"
      },
      "execution_count": null,
      "outputs": [
        {
          "output_type": "execute_result",
          "data": {
            "text/plain": [
              "(1, 1, 4)"
            ]
          },
          "metadata": {},
          "execution_count": 4
        }
      ]
    },
    {
      "cell_type": "code",
      "source": [
        "#하나의 RNN 층: (batch size, input_length, input dim) 크기의 3D 텐서 입력으로 받음\n",
        "#RNN층이 은닉상태 출력하는 방법 - '목적' 차이\n",
        "#1.return_sequences=T: 셀 각 시점의 은닉 상태값들 모아서 전체 시퀀스(3D) 리턴 ex.토마토 라벨\n",
        "#2.F: 마지막 시점의 셀 은닉상태 값: (batch size, output dim) 크기의 2D 텐서 리턴 ex.감성분석\n",
        "\n",
        "#batch size: 한번에 학습하는 데이터 개수\n",
        "#input_length: 입력 시퀀스의 길이 =timesteps\n",
        "#input_dim: 입력의 크기\n",
        "\n",
        "x_data = np.array([[h, e, l, l, o]], dtype=np.float32)\n",
        "print(x_data.shape) #샘플 사이즈, 워드의 개수, 임베딩 사이즈\n",
        "x_data"
      ],
      "metadata": {
        "colab": {
          "base_uri": "https://localhost:8080/"
        },
        "id": "j8BYnRHw12p_",
        "outputId": "ea73e914-d7e5-413a-d94a-c60f09bfec26"
      },
      "execution_count": null,
      "outputs": [
        {
          "output_type": "stream",
          "name": "stdout",
          "text": [
            "(1, 5, 4)\n"
          ]
        },
        {
          "output_type": "execute_result",
          "data": {
            "text/plain": [
              "array([[[1., 0., 0., 0.],\n",
              "        [0., 1., 0., 0.],\n",
              "        [0., 0., 1., 0.],\n",
              "        [0., 0., 1., 0.],\n",
              "        [0., 0., 0., 1.]]], dtype=float32)"
            ]
          },
          "metadata": {},
          "execution_count": 5
        }
      ]
    },
    {
      "cell_type": "code",
      "source": [
        "hidden_size = 2 #은닉 상태의 크기 정의 - output dim과도 동일\n",
        "cell = layers.SimpleRNNCell(hidden_size) #units: output space의 차원 = hidden_size\n",
        "rnn = layers.RNN(cell, return_sequences=True, return_state=True) #return sequence - T: 전체 반환, return state: 마지막 상태를 반환\n",
        "outputs, state = rnn(x_data)\n",
        "print('x_data : {} \\t\\t\\tshape : {}'.format(x_data, x_data.shape)) #input\n",
        "print('outputs : {}  \\t\\t\\tshape : {}'.format(outputs, outputs.shape)) #hidden을 2로 뒀더니 (1,5,2)\n",
        "print('state : {} \\t\\t\\tshape : {}'.format(state, state.shape))"
      ],
      "metadata": {
        "colab": {
          "base_uri": "https://localhost:8080/"
        },
        "id": "KbL9kLtj2RLp",
        "outputId": "8849a12f-20b3-44a3-ca66-22fc47d0edff"
      },
      "execution_count": null,
      "outputs": [
        {
          "output_type": "stream",
          "name": "stdout",
          "text": [
            "x_data : [[[1. 0. 0. 0.]\n",
            "  [0. 1. 0. 0.]\n",
            "  [0. 0. 1. 0.]\n",
            "  [0. 0. 1. 0.]\n",
            "  [0. 0. 0. 1.]]] \t\t\tshape : (1, 5, 4)\n",
            "outputs : [[[ 0.44843182  0.251574  ]\n",
            "  [-0.42299843 -0.3193183 ]\n",
            "  [-0.46304917 -0.15422161]\n",
            "  [-0.43075916 -0.3099445 ]\n",
            "  [-0.8806396  -0.7064807 ]]]  \t\t\tshape : (1, 5, 2)\n",
            "state : [[-0.8806396 -0.7064807]] \t\t\tshape : (1, 2)\n"
          ]
        }
      ]
    },
    {
      "cell_type": "markdown",
      "source": [
        "RNN - 교안 p.38 그림 구현"
      ],
      "metadata": {
        "id": "Z4UtaME75Nhi"
      }
    },
    {
      "cell_type": "code",
      "source": [
        "x_data = np.array([[h, e, l, l, o], [e, o, l, l, l], [l, l, e, e, l]], dtype=np.float32)\n",
        "print(x_data.shape)\n",
        "x_data"
      ],
      "metadata": {
        "colab": {
          "base_uri": "https://localhost:8080/"
        },
        "id": "AvQYOtH25W3C",
        "outputId": "fffcd92d-2734-459e-ef21-7e8db2c42024"
      },
      "execution_count": null,
      "outputs": [
        {
          "output_type": "stream",
          "name": "stdout",
          "text": [
            "(3, 5, 4)\n"
          ]
        },
        {
          "output_type": "execute_result",
          "data": {
            "text/plain": [
              "array([[[1., 0., 0., 0.],\n",
              "        [0., 1., 0., 0.],\n",
              "        [0., 0., 1., 0.],\n",
              "        [0., 0., 1., 0.],\n",
              "        [0., 0., 0., 1.]],\n",
              "\n",
              "       [[0., 1., 0., 0.],\n",
              "        [0., 0., 0., 1.],\n",
              "        [0., 0., 1., 0.],\n",
              "        [0., 0., 1., 0.],\n",
              "        [0., 0., 1., 0.]],\n",
              "\n",
              "       [[0., 0., 1., 0.],\n",
              "        [0., 0., 1., 0.],\n",
              "        [0., 1., 0., 0.],\n",
              "        [0., 1., 0., 0.],\n",
              "        [0., 0., 1., 0.]]], dtype=float32)"
            ]
          },
          "metadata": {},
          "execution_count": 14
        }
      ]
    },
    {
      "cell_type": "code",
      "source": [
        "# RNN 만들기\n",
        "hidden_size = 2\n",
        "rnn = layers.SimpleRNN(units=hidden_size, return_sequences=True, return_state=True) #units = output으로 내는 차원\n",
        "outputs, state = rnn(x_data)\n",
        "\n",
        "#input: (3,5,4)\n",
        "print('x_data : {} \\t\\t\\tshape : {}'.format(x_data, x_data.shape))\n",
        "#outputs: (3,5,2)\n",
        "print('outputs : {}  \\t\\t\\tshape : {}'.format(outputs, outputs.shape))\n",
        "#hidden_state의 차원: (3,2) -> 원래는 (1,2)짜리 인데 그게 샘플사이즈 3만큼 있는 것!!\n",
        "print('state : {} \\t\\t\\tshape : {}'.format(state, state.shape))"
      ],
      "metadata": {
        "colab": {
          "base_uri": "https://localhost:8080/"
        },
        "id": "j0-rrVxY4CdZ",
        "outputId": "dcb10307-4ad1-4dc7-c739-f987aaec72dc"
      },
      "execution_count": null,
      "outputs": [
        {
          "output_type": "stream",
          "name": "stdout",
          "text": [
            "x_data : [[[1. 0. 0. 0.]\n",
            "  [0. 1. 0. 0.]\n",
            "  [0. 0. 1. 0.]\n",
            "  [0. 0. 1. 0.]\n",
            "  [0. 0. 0. 1.]]\n",
            "\n",
            " [[0. 1. 0. 0.]\n",
            "  [0. 0. 0. 1.]\n",
            "  [0. 0. 1. 0.]\n",
            "  [0. 0. 1. 0.]\n",
            "  [0. 0. 1. 0.]]\n",
            "\n",
            " [[0. 0. 1. 0.]\n",
            "  [0. 0. 1. 0.]\n",
            "  [0. 1. 0. 0.]\n",
            "  [0. 1. 0. 0.]\n",
            "  [0. 0. 1. 0.]]] \t\t\tshape : (3, 5, 4)\n",
            "outputs : [[[ 0.54152584 -0.00444528]\n",
            "  [-0.24527906  0.8775963 ]\n",
            "  [ 0.81667423 -0.71729445]\n",
            "  [-0.39880705  0.19528541]\n",
            "  [ 0.43131363 -0.69072646]]\n",
            "\n",
            " [[-0.25328436  0.6770975 ]\n",
            "  [ 0.73827225 -0.614059  ]\n",
            "  [-0.31032306  0.11644185]\n",
            "  [ 0.36639637 -0.7392534 ]\n",
            "  [-0.42597967 -0.24660602]]\n",
            "\n",
            " [[ 0.26853478 -0.56203717]\n",
            "  [-0.27304867 -0.3398094 ]\n",
            "  [-0.54072225  0.50716776]\n",
            "  [ 0.23090217  0.26456586]\n",
            "  [ 0.4969957  -0.38958573]]]  \t\t\tshape : (3, 5, 2)\n",
            "state : [[ 0.43131363 -0.69072646]\n",
            " [-0.42597967 -0.24660602]\n",
            " [ 0.4969957  -0.38958573]] \t\t\tshape : (3, 2)\n"
          ]
        }
      ]
    },
    {
      "cell_type": "markdown",
      "source": [
        "토마토 RNN 실습"
      ],
      "metadata": {
        "id": "1qmIkqecNcTA"
      }
    },
    {
      "cell_type": "code",
      "source": [
        "idx2char = ['토', '마', '를', '먹', '자']\n",
        "\n",
        "#이 모델은 '토토마를자먹'을 '토마토를먹자'로 예측하는 것, so 다른 데이터를 넣었을 때 '토마토를먹자'로 나오게 하려면 다르게 학습시켜야 함\n",
        "x_data = [[0, 0, 1, 2, 4, 3]] #토 토 마 를 자 먹 -> 6개의 cell\n",
        "y_data = [[0, 1, 0, 2, 3, 4]] #토 마 토 를 먹 자 = 각 타임 seq의 label : 이 라벨에 최대한 가깝게 학습해라!\n",
        "\n",
        "num_class = 5 #클래스 개수 - 5개 중에 하나 맞히는 것 ('토,마,를,먹,자')\n",
        "input_dim = 5 #word embedding dimension\n",
        "sequence_length = 6 #총 6글자 와야 함\n",
        "learning_rate = 0.1\n",
        "\n",
        "x_one_hot = tf.keras.utils.to_categorical(x_data, num_classes=num_class) #5개중에 x_data 받아서 원핫\n",
        "y_one_hot = tf.keras.utils.to_categorical(y_data, num_classes=num_class)\n",
        "\n",
        "x_one_hot, y_one_hot\n",
        "#x_one_hot: 토,토,마,를,자,먹 -> 원핫 결과"
      ],
      "metadata": {
        "colab": {
          "base_uri": "https://localhost:8080/"
        },
        "id": "KOMLqhSw9u6O",
        "outputId": "9c4e5f94-5296-430c-be4f-ed8e2800f842"
      },
      "execution_count": null,
      "outputs": [
        {
          "output_type": "execute_result",
          "data": {
            "text/plain": [
              "(array([[[1., 0., 0., 0., 0.],\n",
              "         [1., 0., 0., 0., 0.],\n",
              "         [0., 1., 0., 0., 0.],\n",
              "         [0., 0., 1., 0., 0.],\n",
              "         [0., 0., 0., 0., 1.],\n",
              "         [0., 0., 0., 1., 0.]]], dtype=float32), array([[[1., 0., 0., 0., 0.],\n",
              "         [0., 1., 0., 0., 0.],\n",
              "         [1., 0., 0., 0., 0.],\n",
              "         [0., 0., 1., 0., 0.],\n",
              "         [0., 0., 0., 1., 0.],\n",
              "         [0., 0., 0., 0., 1.]]], dtype=float32))"
            ]
          },
          "metadata": {},
          "execution_count": 35
        }
      ]
    },
    {
      "cell_type": "code",
      "source": [
        "x_one_hot.shape, y_one_hot.shape\n",
        "#1: batch size, sample 개수\n",
        "#6: sequence length(문장의 길이) - 문장 이루는 단어 개수, 입력 개수\n",
        "#5: 입력 차원, hidden size"
      ],
      "metadata": {
        "colab": {
          "base_uri": "https://localhost:8080/"
        },
        "id": "yUci4EnQ_kD4",
        "outputId": "42d1a066-23d0-4eff-b350-562b727ce989"
      },
      "execution_count": null,
      "outputs": [
        {
          "output_type": "execute_result",
          "data": {
            "text/plain": [
              "((1, 6, 5), (1, 6, 5))"
            ]
          },
          "metadata": {},
          "execution_count": 36
        }
      ]
    },
    {
      "cell_type": "code",
      "source": [
        "#model 만들기\n",
        "model = tf.keras.Sequential()\n",
        "cell = layers.SimpleRNNCell(units=5, input_shape=(sequence_length, input_dim)) #units: output space의 차원\n",
        "model.add(layers.RNN(cell=cell, return_sequences=True, return_state=False, input_shape=(sequence_length, input_dim)))\n",
        "#TimeDistributed: 각 time step에서 cost 계산\n",
        "model.add(layers.TimeDistributed(layers.Dense(units=num_class, activation='softmax')))\n",
        "\n",
        "model.compile(optimizer=tf.keras.optimizers.Adam(learning_rate=learning_rate),\n",
        "              loss='categorical_crossentropy',\n",
        "              metrics=['accuracy'])\n",
        "model.summary()\n",
        "#param 의미 : 25 + 25 + 5(bias)"
      ],
      "metadata": {
        "colab": {
          "base_uri": "https://localhost:8080/"
        },
        "id": "jSlE090Y_9MF",
        "outputId": "fb3e6ebc-7660-443f-e425-e0a206e881ab"
      },
      "execution_count": null,
      "outputs": [
        {
          "output_type": "stream",
          "name": "stdout",
          "text": [
            "Model: \"sequential_5\"\n",
            "_________________________________________________________________\n",
            " Layer (type)                Output Shape              Param #   \n",
            "=================================================================\n",
            " rnn_4 (RNN)                 (None, 6, 5)              55        \n",
            "                                                                 \n",
            " time_distributed_2 (TimeDis  (None, 6, 5)             30        \n",
            " tributed)                                                       \n",
            "                                                                 \n",
            "=================================================================\n",
            "Total params: 85\n",
            "Trainable params: 85\n",
            "Non-trainable params: 0\n",
            "_________________________________________________________________\n"
          ]
        }
      ]
    },
    {
      "cell_type": "code",
      "source": [
        "#훈련\n",
        "model.fit(x_one_hot, y_one_hot, epochs=10)"
      ],
      "metadata": {
        "colab": {
          "base_uri": "https://localhost:8080/"
        },
        "id": "GnZnVBI8F9py",
        "outputId": "de3eeffb-d647-4681-ed93-69b5abf59b49"
      },
      "execution_count": null,
      "outputs": [
        {
          "output_type": "stream",
          "name": "stdout",
          "text": [
            "Epoch 1/10\n",
            "1/1 [==============================] - 1s 723ms/step - loss: 2.1464 - accuracy: 0.1667\n",
            "Epoch 2/10\n",
            "1/1 [==============================] - 0s 11ms/step - loss: 1.6396 - accuracy: 0.1667\n",
            "Epoch 3/10\n",
            "1/1 [==============================] - 0s 16ms/step - loss: 1.3825 - accuracy: 0.3333\n",
            "Epoch 4/10\n",
            "1/1 [==============================] - 0s 12ms/step - loss: 1.1967 - accuracy: 0.3333\n",
            "Epoch 5/10\n",
            "1/1 [==============================] - 0s 17ms/step - loss: 1.0239 - accuracy: 0.6667\n",
            "Epoch 6/10\n",
            "1/1 [==============================] - 0s 13ms/step - loss: 0.8470 - accuracy: 0.6667\n",
            "Epoch 7/10\n",
            "1/1 [==============================] - 0s 15ms/step - loss: 0.6674 - accuracy: 0.8333\n",
            "Epoch 8/10\n",
            "1/1 [==============================] - 0s 13ms/step - loss: 0.5185 - accuracy: 0.8333\n",
            "Epoch 9/10\n",
            "1/1 [==============================] - 0s 11ms/step - loss: 0.4110 - accuracy: 1.0000\n",
            "Epoch 10/10\n",
            "1/1 [==============================] - 0s 11ms/step - loss: 0.3269 - accuracy: 1.0000\n"
          ]
        },
        {
          "output_type": "execute_result",
          "data": {
            "text/plain": [
              "<keras.callbacks.History at 0x7f943a4efb90>"
            ]
          },
          "metadata": {},
          "execution_count": 38
        }
      ]
    },
    {
      "cell_type": "code",
      "source": [
        "pred = model.predict(x_one_hot)\n",
        "pred"
      ],
      "metadata": {
        "colab": {
          "base_uri": "https://localhost:8080/"
        },
        "id": "85HZLnqkGDNa",
        "outputId": "03687602-5903-43a1-ce16-3269bc0c166a"
      },
      "execution_count": null,
      "outputs": [
        {
          "output_type": "execute_result",
          "data": {
            "text/plain": [
              "array([[[0.5780471 , 0.26154292, 0.0147015 , 0.0601517 , 0.08555677],\n",
              "        [0.27004823, 0.6329808 , 0.01370101, 0.02730631, 0.05596367],\n",
              "        [0.93619776, 0.03618934, 0.00871874, 0.00356569, 0.01532855],\n",
              "        [0.02501903, 0.0030639 , 0.86514443, 0.10152366, 0.00524894],\n",
              "        [0.02060313, 0.00233209, 0.11670709, 0.8221066 , 0.03825116],\n",
              "        [0.06601167, 0.00831936, 0.01431147, 0.02323857, 0.8881189 ]]],\n",
              "      dtype=float32)"
            ]
          },
          "metadata": {},
          "execution_count": 39
        }
      ]
    },
    {
      "cell_type": "code",
      "source": [
        "pred.shape"
      ],
      "metadata": {
        "colab": {
          "base_uri": "https://localhost:8080/"
        },
        "id": "Lhd8xQ97GWSb",
        "outputId": "5a5311f3-7181-40d6-c4f2-17ec66059177"
      },
      "execution_count": null,
      "outputs": [
        {
          "output_type": "execute_result",
          "data": {
            "text/plain": [
              "(1, 6, 5)"
            ]
          },
          "metadata": {},
          "execution_count": 40
        }
      ]
    },
    {
      "cell_type": "code",
      "source": [
        "#확률값과 label 매칭 - argmax 사용\n",
        "for i, word in enumerate(pred):\n",
        "  print(\" \".join([idx2char[c] for c in np.argmax(word, axis=1)])) #한 열마다 가장 높은 것 뽑기 위해 axis=1"
      ],
      "metadata": {
        "colab": {
          "base_uri": "https://localhost:8080/"
        },
        "id": "o_cY55mxGjax",
        "outputId": "d13d0ee3-1a8b-403f-bbd8-cc6405600252"
      },
      "execution_count": null,
      "outputs": [
        {
          "output_type": "stream",
          "name": "stdout",
          "text": [
            "토 마 토 를 먹 자\n"
          ]
        }
      ]
    },
    {
      "cell_type": "markdown",
      "source": [
        "문장 RNN"
      ],
      "metadata": {
        "id": "b8nEM6dwncPA"
      }
    },
    {
      "cell_type": "code",
      "source": [
        "#말뭉치: 문장마다 길이 다른 문제 - 가장 긴 문장 기준; 짧은 문장은 나머지를 padding으로 채워서 입력 사이즈 맞춰주고 계산은 안함\n",
        "#truncate : preprocessing.text; 너무 길면 메모리 낭비되므로 어느정도에서 잘라버림\n",
        "#Tokenizer: vocab 만들어주는 것\n",
        "#countvectorizer를 tensor로 만드는 과정\n",
        "\n",
        "from tensorflow.keras.preprocessing.text import Tokenizer\n",
        "\n",
        "sentences = ['i love my dog', 'I love my cat', 'You love my dog!']\n",
        "\n",
        "tokenizer = Tokenizer()\n",
        "tokenizer.fit_on_texts(sentences)\n",
        "word_index = tokenizer.word_index\n",
        "print(word_index) #단어 아닌 것 제거"
      ],
      "metadata": {
        "colab": {
          "base_uri": "https://localhost:8080/"
        },
        "id": "wvNO2cCwHK2N",
        "outputId": "c7b59ee7-03da-4751-b68e-87ecef9f4e25"
      },
      "execution_count": null,
      "outputs": [
        {
          "output_type": "stream",
          "name": "stdout",
          "text": [
            "{'love': 1, 'my': 2, 'i': 3, 'dog': 4, 'cat': 5, 'you': 6}\n"
          ]
        }
      ]
    },
    {
      "cell_type": "code",
      "source": [
        "from tensorflow.keras.preprocessing.sequence import pad_sequences\n",
        "\n",
        "sentences = ['i love my dog',\n",
        "             'I, love my cat',\n",
        "             'You love my dog',\n",
        "             'Do you think my dog is amazing?']\n",
        "\n",
        "tokenizer = Tokenizer()\n",
        "tokenizer.fit_on_texts(sentences)\n",
        "word_index = tokenizer.word_index\n",
        "print(word_index)\n",
        "\n",
        "#one-hot encoding 형태로 만들기 위해 단어의 index 가져옴\n",
        "#padding:0으로 정해져 있음\n",
        "sequences = tokenizer.texts_to_sequences(sentences)\n",
        "print(sequences)"
      ],
      "metadata": {
        "colab": {
          "base_uri": "https://localhost:8080/"
        },
        "id": "GMKUbuLunXhu",
        "outputId": "ed68b599-b0fe-4fcc-eeea-f4faab2eca75"
      },
      "execution_count": null,
      "outputs": [
        {
          "output_type": "stream",
          "name": "stdout",
          "text": [
            "{'my': 1, 'love': 2, 'dog': 3, 'i': 4, 'you': 5, 'cat': 6, 'do': 7, 'think': 8, 'is': 9, 'amazing': 10}\n",
            "[[4, 2, 1, 3], [4, 2, 1, 6], [5, 2, 1, 3], [7, 5, 8, 1, 3, 9, 10]]\n"
          ]
        }
      ]
    },
    {
      "cell_type": "code",
      "source": [
        "#뒤에 0으로 padding -> pad 때문에 인덱스 0에서 시작\n",
        "padded = pad_sequences(sequences, maxlen=5, padding='post', truncating='post') #대부분이 4라면 4에서 절삭\n",
        "print(padded)"
      ],
      "metadata": {
        "colab": {
          "base_uri": "https://localhost:8080/"
        },
        "id": "RUNzdUa5oMG7",
        "outputId": "4207e5f4-c211-4154-d6c1-42084b2c544a"
      },
      "execution_count": null,
      "outputs": [
        {
          "output_type": "stream",
          "name": "stdout",
          "text": [
            "[[4 2 1 3 0]\n",
            " [4 2 1 6 0]\n",
            " [5 2 1 3 0]\n",
            " [7 5 8 1 3]]\n"
          ]
        }
      ]
    },
    {
      "cell_type": "code",
      "source": [
        "# oov\n",
        "from tensorflow.keras.preprocessing.sequence import pad_sequences\n",
        "\n",
        "#말뭉치 가져와서 인덱스 자동으로 읽어주는 것\n",
        "sentences = ['i love my dog',\n",
        "             'I, love my cat',\n",
        "             'You love my dog',\n",
        "             'Do you think my dog is amazing?']\n",
        "\n",
        "tokenizer = Tokenizer(oov_token=\"<oov>\") #등장하지 않는 단어들은 oov로 치환\n",
        "tokenizer.fit_on_texts(sentences)\n",
        "word_index = tokenizer.word_index\n",
        "print(word_index)\n",
        "sequences = tokenizer.texts_to_sequences(sentences)\n",
        "print(sequences)\n",
        "#padding: 짧은 것들 0으로 채워주는 것\n",
        "padded = pad_sequences(sequences, maxlen=5, padding='post', truncating='post') #대부분이 4라면 4에서 절삭\n",
        "print(padded)"
      ],
      "metadata": {
        "colab": {
          "base_uri": "https://localhost:8080/"
        },
        "id": "_pM_ikI-o87l",
        "outputId": "e9e6d430-0551-466b-d902-e70a85f91733"
      },
      "execution_count": null,
      "outputs": [
        {
          "output_type": "stream",
          "name": "stdout",
          "text": [
            "{'<oov>': 1, 'my': 2, 'love': 3, 'dog': 4, 'i': 5, 'you': 6, 'cat': 7, 'do': 8, 'think': 9, 'is': 10, 'amazing': 11}\n",
            "[[5, 3, 2, 4], [5, 3, 2, 7], [6, 3, 2, 4], [8, 6, 9, 2, 4, 10, 11]]\n",
            "[[5 3 2 4 0]\n",
            " [5 3 2 7 0]\n",
            " [6 3 2 4 0]\n",
            " [8 6 9 2 4]]\n"
          ]
        }
      ]
    },
    {
      "cell_type": "code",
      "source": [
        "test_data = ['i really love my dog', 'my dog loves my manatee']\n",
        "test_seq = tokenizer.texts_to_sequences(test_data)\n",
        "padded = pad_sequences(test_seq, maxlen=5, padding='post', truncating='post') #대부분이 4라면 4에서 절삭\n",
        "print(padded)"
      ],
      "metadata": {
        "colab": {
          "base_uri": "https://localhost:8080/"
        },
        "id": "E518a0wYp6-p",
        "outputId": "25799ff6-1b82-4379-b02b-4d1f4ae2556b"
      },
      "execution_count": null,
      "outputs": [
        {
          "output_type": "stream",
          "name": "stdout",
          "text": [
            "[[5 1 3 2 4]\n",
            " [2 4 1 2 1]]\n"
          ]
        }
      ]
    },
    {
      "cell_type": "markdown",
      "source": [
        "영화 리뷰"
      ],
      "metadata": {
        "id": "RdvQBquBsmgR"
      }
    },
    {
      "cell_type": "code",
      "source": [
        "import numpy as np\n",
        "import tensorflow as tf\n",
        "import tensorflow_datasets as tfds\n",
        "\n",
        "tf.random.set_seed(42)"
      ],
      "metadata": {
        "id": "OO73AHwRrCZQ"
      },
      "execution_count": null,
      "outputs": []
    },
    {
      "cell_type": "code",
      "source": [
        "imdb, info = tfds.load('imdb_reviews', with_info=True, as_supervised=True)"
      ],
      "metadata": {
        "id": "ojRL8ptfsi1-"
      },
      "execution_count": null,
      "outputs": []
    },
    {
      "cell_type": "code",
      "source": [
        "train_data, test_data = imdb['train'], imdb['test']"
      ],
      "metadata": {
        "id": "jkmxu_gTs0Rc"
      },
      "execution_count": null,
      "outputs": []
    },
    {
      "cell_type": "code",
      "source": [
        "#문장의 리스트 만들기\n",
        "train_sentences = []\n",
        "test_sentences = []\n",
        "\n",
        "train_labels = []\n",
        "test_labels = []\n",
        "\n",
        "for s, l in train_data:\n",
        "  train_sentences.append(s.numpy().decode('utf-8'))\n",
        "  train_labels.append(l.numpy())\n",
        "\n",
        "for s, l in test_data:\n",
        "  test_sentences.append(s.numpy().decode('utf-8'))\n",
        "  test_labels.append(l.numpy())"
      ],
      "metadata": {
        "id": "yMdPd1kMtX50"
      },
      "execution_count": null,
      "outputs": []
    },
    {
      "cell_type": "code",
      "source": [
        "train_labels = np.array(train_labels)\n",
        "test_labels = np.array(test_labels)"
      ],
      "metadata": {
        "id": "qWHacwjptZMO"
      },
      "execution_count": null,
      "outputs": []
    },
    {
      "cell_type": "code",
      "source": [
        "#25,000문장 & 첫번째 문장의 길이가 116\n",
        "len(train_sentences), len(train_sentences[0].split())"
      ],
      "metadata": {
        "colab": {
          "base_uri": "https://localhost:8080/"
        },
        "id": "d3CwohphutBT",
        "outputId": "062caccb-59b8-4756-b9b5-d28b98347c50"
      },
      "execution_count": null,
      "outputs": [
        {
          "output_type": "execute_result",
          "data": {
            "text/plain": [
              "(25000, 116)"
            ]
          },
          "metadata": {},
          "execution_count": 37
        }
      ]
    },
    {
      "cell_type": "code",
      "source": [
        "train_sentences[0]"
      ],
      "metadata": {
        "colab": {
          "base_uri": "https://localhost:8080/",
          "height": 191
        },
        "id": "ZLs3ps5Vu2tY",
        "outputId": "a98f651e-f7eb-4628-d46d-15c5c122b127"
      },
      "execution_count": null,
      "outputs": [
        {
          "output_type": "execute_result",
          "data": {
            "application/vnd.google.colaboratory.intrinsic+json": {
              "type": "string"
            },
            "text/plain": [
              "\"This was an absolutely terrible movie. Don't be lured in by Christopher Walken or Michael Ironside. Both are great actors, but this must simply be their worst role in history. Even their great acting could not redeem this movie's ridiculous storyline. This movie is an early nineties US propaganda piece. The most pathetic scenes were those when the Columbian rebels were making their cases for revolutions. Maria Conchita Alonso appeared phony, and her pseudo-love affair with Walken was nothing but a pathetic emotional plug in a movie that was devoid of any real meaning. I am disappointed that there are movies like this, ruining actor's like Christopher Walken's good name. I could barely sit through it.\""
            ]
          },
          "metadata": {},
          "execution_count": 38
        }
      ]
    },
    {
      "cell_type": "code",
      "source": [
        "len(test_sentences), len(test_sentences[0])"
      ],
      "metadata": {
        "colab": {
          "base_uri": "https://localhost:8080/"
        },
        "id": "T_ttrUp3u9Bo",
        "outputId": "f9ca5bc8-9e9e-46b2-b051-390dc4be8fb8"
      },
      "execution_count": null,
      "outputs": [
        {
          "output_type": "execute_result",
          "data": {
            "text/plain": [
              "(25000, 939)"
            ]
          },
          "metadata": {},
          "execution_count": 39
        }
      ]
    },
    {
      "cell_type": "code",
      "source": [
        "test_sentences[0]"
      ],
      "metadata": {
        "colab": {
          "base_uri": "https://localhost:8080/",
          "height": 244
        },
        "id": "2BYIS-0jvEuY",
        "outputId": "bfce9082-a958-4a4d-e1c3-fa47be781fde"
      },
      "execution_count": null,
      "outputs": [
        {
          "output_type": "execute_result",
          "data": {
            "application/vnd.google.colaboratory.intrinsic+json": {
              "type": "string"
            },
            "text/plain": [
              "\"There are films that make careers. For George Romero, it was NIGHT OF THE LIVING DEAD; for Kevin Smith, CLERKS; for Robert Rodriguez, EL MARIACHI. Add to that list Onur Tukel's absolutely amazing DING-A-LING-LESS. Flawless film-making, and as assured and as professional as any of the aforementioned movies. I haven't laughed this hard since I saw THE FULL MONTY. (And, even then, I don't think I laughed quite this hard... So to speak.) Tukel's talent is considerable: DING-A-LING-LESS is so chock full of double entendres that one would have to sit down with a copy of this script and do a line-by-line examination of it to fully appreciate the, uh, breadth and width of it. Every shot is beautifully composed (a clear sign of a sure-handed director), and the performances all around are solid (there's none of the over-the-top scenery chewing one might've expected from a film like this). DING-A-LING-LESS is a film whose time has come.\""
            ]
          },
          "metadata": {},
          "execution_count": 40
        }
      ]
    },
    {
      "cell_type": "code",
      "source": [
        "vocab_size = 10000\n",
        "embedding_dim = 16\n",
        "max_length = 120 #단어 120개 넘어가면 자르기\n",
        "trunc_type = 'post' #EDA 필요\n",
        "oov_tok = '<oov>' #말뭉치에 단어사전에 없는 단어가 있다면 oov로 치환\n",
        "\n",
        "tokenizer = Tokenizer(num_words=vocab_size, oov_token=oov_tok)\n",
        "tokenizer.fit_on_texts(train_sentences)"
      ],
      "metadata": {
        "id": "_t4ac9oBvGcx"
      },
      "execution_count": null,
      "outputs": []
    },
    {
      "cell_type": "code",
      "source": [
        "word_index = tokenizer.word_index\n",
        "#숫자의 배열 - sequences\n",
        "sequences = tokenizer.texts_to_sequences(train_sentences)\n",
        "#max_len만큼 문장 길이 통일\n",
        "padded = pad_sequences(sequences, maxlen=max_length, truncating=trunc_type)"
      ],
      "metadata": {
        "id": "ZZsMw0X8vwt5"
      },
      "execution_count": null,
      "outputs": []
    },
    {
      "cell_type": "code",
      "source": [
        "#index, word 형태로 들어가도록 word_index를 switch\n",
        "index_word = {value : key for (key, value) in word_index.items()} #단어사전 key, value\n",
        "index_word[1] #oov 토큰 넣어줬으니까\n",
        "#index_word[0] : error -> 내부적으로 사용하는거라 단어사전에 0은 없음. but 0 = padding"
      ],
      "metadata": {
        "colab": {
          "base_uri": "https://localhost:8080/",
          "height": 35
        },
        "id": "wgWDL8TX1Kua",
        "outputId": "46c744cb-e8b3-4c1f-e2db-b5496abe0bfc"
      },
      "execution_count": null,
      "outputs": [
        {
          "output_type": "execute_result",
          "data": {
            "application/vnd.google.colaboratory.intrinsic+json": {
              "type": "string"
            },
            "text/plain": [
              "'<oov>'"
            ]
          },
          "metadata": {},
          "execution_count": 43
        }
      ]
    },
    {
      "cell_type": "code",
      "source": [
        "padded[0] #padding=pre로 했으니까 앞에 채워줌"
      ],
      "metadata": {
        "colab": {
          "base_uri": "https://localhost:8080/"
        },
        "id": "CMWXwDWg1nnv",
        "outputId": "07c1419e-9c72-4cd4-d504-6eb21bffccb0"
      },
      "execution_count": null,
      "outputs": [
        {
          "output_type": "execute_result",
          "data": {
            "text/plain": [
              "array([   0,    0,    0,   12,   14,   33,  425,  392,   18,   90,   28,\n",
              "          1,    9,   32, 1366, 3585,   40,  486,    1,  197,   24,   85,\n",
              "        154,   19,   12,  213,  329,   28,   66,  247,  215,    9,  477,\n",
              "         58,   66,   85,  114,   98,   22, 5675,   12, 1322,  643,  767,\n",
              "         12,   18,    7,   33,  400, 8170,  176, 2455,  416,    2,   89,\n",
              "       1231,  137,   69,  146,   52,    2,    1, 7577,   69,  229,   66,\n",
              "       2933,   16,    1, 2904,    1,    1, 1479, 4940,    3,   39, 3900,\n",
              "        117, 1584,   17, 3585,   14,  162,   19,    4, 1231,  917, 7917,\n",
              "          9,    4,   18,   13,   14, 4139,    5,   99,  145, 1214,   11,\n",
              "        242,  683,   13,   48,   24,  100,   38,   12, 7181, 5515,   38,\n",
              "       1366,    1,   50,  401,   11,   98, 1197,  867,  141,   10],\n",
              "      dtype=int32)"
            ]
          },
          "metadata": {},
          "execution_count": 44
        }
      ]
    },
    {
      "cell_type": "code",
      "source": [
        "#padding을 위한 함수 - 사람이 읽을 수 있도록 decode\n",
        "def decode_review(text):\n",
        "  #dic의 get메서드: (i, '?') => i가 없으면 ?로 내보내라 ~ 빈자리 채워주기\n",
        "  return \" \".join([index_word.get(i, '?') for i in text])"
      ],
      "metadata": {
        "id": "r3HIoIwf10ZX"
      },
      "execution_count": null,
      "outputs": []
    },
    {
      "cell_type": "code",
      "source": [
        "decode_review(padded[0]) #padded된 것은 ?로 나왔음, 사전에 없는 단어는 oov\n",
        "#why? 단어의 수 너무 크면 맞히는 확률 너무 낮아지므로 단어의 종류 작게 주는 것"
      ],
      "metadata": {
        "colab": {
          "base_uri": "https://localhost:8080/",
          "height": 191
        },
        "id": "1_oQlKGB2dyq",
        "outputId": "1229456d-7508-44ec-9997-063d3d467c89"
      },
      "execution_count": null,
      "outputs": [
        {
          "output_type": "execute_result",
          "data": {
            "application/vnd.google.colaboratory.intrinsic+json": {
              "type": "string"
            },
            "text/plain": [
              "\"? ? ? this was an absolutely terrible movie don't be <oov> in by christopher walken or michael <oov> both are great actors but this must simply be their worst role in history even their great acting could not redeem this movie's ridiculous storyline this movie is an early nineties us propaganda piece the most pathetic scenes were those when the <oov> rebels were making their cases for <oov> maria <oov> <oov> appeared phony and her pseudo love affair with walken was nothing but a pathetic emotional plug in a movie that was devoid of any real meaning i am disappointed that there are movies like this ruining actor's like christopher <oov> good name i could barely sit through it\""
            ]
          },
          "metadata": {},
          "execution_count": 46
        }
      ]
    },
    {
      "cell_type": "code",
      "source": [
        "train_sentences[0] #원문"
      ],
      "metadata": {
        "colab": {
          "base_uri": "https://localhost:8080/",
          "height": 191
        },
        "id": "abyOHGew2g8z",
        "outputId": "47561d84-33fb-419b-97c3-3f9b342cbcaa"
      },
      "execution_count": null,
      "outputs": [
        {
          "output_type": "execute_result",
          "data": {
            "application/vnd.google.colaboratory.intrinsic+json": {
              "type": "string"
            },
            "text/plain": [
              "\"This was an absolutely terrible movie. Don't be lured in by Christopher Walken or Michael Ironside. Both are great actors, but this must simply be their worst role in history. Even their great acting could not redeem this movie's ridiculous storyline. This movie is an early nineties US propaganda piece. The most pathetic scenes were those when the Columbian rebels were making their cases for revolutions. Maria Conchita Alonso appeared phony, and her pseudo-love affair with Walken was nothing but a pathetic emotional plug in a movie that was devoid of any real meaning. I am disappointed that there are movies like this, ruining actor's like Christopher Walken's good name. I could barely sit through it.\""
            ]
          },
          "metadata": {},
          "execution_count": 47
        }
      ]
    },
    {
      "cell_type": "code",
      "source": [
        "#훈련\n",
        "from tensorflow.keras.models import Model, Sequential\n",
        "from tensorflow.keras.layers import Embedding, GlobalAveragePooling1D, Dense\n",
        "\n",
        "model = Sequential()\n",
        "#input: vocab_size, output: embedding_dim, input_length: embedding layer 개수\n",
        "#embedding으로 16차원 벡터 만들기 - CNN rand 방법\n",
        "model.add(Embedding(vocab_size, embedding_dim, input_length=max_length))\n",
        "#GlobalAveragePooling: max가 아니라 global average로 풀링 => 풀링이므로 파라미터 없음\n",
        "#하나로 만듦\n",
        "model.add(GlobalAveragePooling1D())\n",
        "model.add(Dense(6, activation='relu'))\n",
        "model.add(Dense(1, activation='sigmoid')) #긍부정 중 하나 맞히는 것: 이진은 'sigmoid\n",
        "model.compile(loss='binary_crossentropy', optimizer='adam', metrics=['accuracy'])\n",
        "model.summary()"
      ],
      "metadata": {
        "colab": {
          "base_uri": "https://localhost:8080/"
        },
        "id": "h2pxbxN02n7-",
        "outputId": "acb32946-8471-4834-89c4-f71d4030f233"
      },
      "execution_count": null,
      "outputs": [
        {
          "output_type": "stream",
          "name": "stdout",
          "text": [
            "Model: \"sequential\"\n",
            "_________________________________________________________________\n",
            " Layer (type)                Output Shape              Param #   \n",
            "=================================================================\n",
            " embedding (Embedding)       (None, 120, 16)           160000    \n",
            "                                                                 \n",
            " global_average_pooling1d (G  (None, 16)               0         \n",
            " lobalAveragePooling1D)                                          \n",
            "                                                                 \n",
            " dense (Dense)               (None, 6)                 102       \n",
            "                                                                 \n",
            " dense_1 (Dense)             (None, 1)                 7         \n",
            "                                                                 \n",
            "=================================================================\n",
            "Total params: 160,109\n",
            "Trainable params: 160,109\n",
            "Non-trainable params: 0\n",
            "_________________________________________________________________\n"
          ]
        }
      ]
    },
    {
      "cell_type": "code",
      "source": [
        "#test 적용\n",
        "#문장 형태로 바꿔줌\n",
        "test_sequences = tokenizer.texts_to_sequences(test_sentences)\n",
        "test_padd = pad_sequences(test_sequences, maxlen=max_length, truncating=trunc_type)"
      ],
      "metadata": {
        "id": "J6s_NHtW61wC"
      },
      "execution_count": null,
      "outputs": []
    },
    {
      "cell_type": "code",
      "source": [
        "num_epochs = 10\n",
        "hist = model.fit(padded, train_labels, validation_data=(test_padd, test_labels), epochs=num_epochs)"
      ],
      "metadata": {
        "colab": {
          "base_uri": "https://localhost:8080/"
        },
        "id": "P_XvKhNy463Q",
        "outputId": "7bec05aa-347a-48a6-80c6-f80ef35bef43"
      },
      "execution_count": null,
      "outputs": [
        {
          "output_type": "stream",
          "name": "stdout",
          "text": [
            "Epoch 1/10\n",
            "782/782 [==============================] - 7s 9ms/step - loss: 0.4019 - accuracy: 0.8560 - val_loss: 0.3826 - val_accuracy: 0.8271\n",
            "Epoch 2/10\n",
            "782/782 [==============================] - 7s 9ms/step - loss: 0.2816 - accuracy: 0.8832 - val_loss: 0.3704 - val_accuracy: 0.8348\n",
            "Epoch 3/10\n",
            "782/782 [==============================] - 7s 9ms/step - loss: 0.2397 - accuracy: 0.9052 - val_loss: 0.3881 - val_accuracy: 0.8304\n",
            "Epoch 4/10\n",
            "782/782 [==============================] - 6s 8ms/step - loss: 0.2127 - accuracy: 0.9191 - val_loss: 0.4068 - val_accuracy: 0.8288\n",
            "Epoch 5/10\n",
            "782/782 [==============================] - 7s 8ms/step - loss: 0.1898 - accuracy: 0.9311 - val_loss: 0.4370 - val_accuracy: 0.8237\n",
            "Epoch 6/10\n",
            "782/782 [==============================] - 6s 8ms/step - loss: 0.1723 - accuracy: 0.9372 - val_loss: 0.4893 - val_accuracy: 0.8120\n",
            "Epoch 7/10\n",
            "782/782 [==============================] - 7s 9ms/step - loss: 0.1564 - accuracy: 0.9445 - val_loss: 0.5039 - val_accuracy: 0.8145\n",
            "Epoch 8/10\n",
            "782/782 [==============================] - 6s 8ms/step - loss: 0.1423 - accuracy: 0.9508 - val_loss: 0.5435 - val_accuracy: 0.8124\n",
            "Epoch 9/10\n",
            "782/782 [==============================] - 7s 9ms/step - loss: 0.1303 - accuracy: 0.9556 - val_loss: 0.5944 - val_accuracy: 0.8033\n",
            "Epoch 10/10\n",
            "782/782 [==============================] - 6s 8ms/step - loss: 0.1192 - accuracy: 0.9611 - val_loss: 0.6229 - val_accuracy: 0.8020\n"
          ]
        }
      ]
    },
    {
      "cell_type": "code",
      "source": [
        "#임베딩 레이어 확인\n",
        "embedding_layer = model.layers[0]\n",
        "weights = embedding_layer.get_weights()[0]\n",
        "weights.shape #vocab_size: 10000, embedding_dim: 16\n",
        "#10000개 차원의 one-hot 벡터 -> 16개 차원에 dense 벡터로 임베딩"
      ],
      "metadata": {
        "colab": {
          "base_uri": "https://localhost:8080/"
        },
        "id": "PRqV2tF97VM6",
        "outputId": "dff50730-c227-4e23-c3f5-e317b005173a"
      },
      "execution_count": null,
      "outputs": [
        {
          "output_type": "execute_result",
          "data": {
            "text/plain": [
              "(10000, 16)"
            ]
          },
          "metadata": {},
          "execution_count": 55
        }
      ]
    },
    {
      "cell_type": "code",
      "source": [
        "import matplotlib.pyplot as plt\n",
        "\n",
        "def plot_graphs(hist, string):\n",
        "  plt.plot(hist.history[string])\n",
        "  plt.plot(hist.history['val_'+string])\n",
        "  plt.xlabel('Epochs')\n",
        "  plt.ylabel(string)\n",
        "  plt.legend([string, 'val_'+string])\n",
        "  plt.show()\n",
        "\n",
        "plot_graphs(hist, 'accuracy')\n",
        "plot_graphs(hist, 'loss')"
      ],
      "metadata": {
        "colab": {
          "base_uri": "https://localhost:8080/",
          "height": 541
        },
        "id": "XsK9mhyz-I4D",
        "outputId": "58f9d9e2-ca41-4d76-d14d-eb4e2943193a"
      },
      "execution_count": null,
      "outputs": [
        {
          "output_type": "display_data",
          "data": {
            "image/png": "[encoded data removed]",
            "text/plain": [
              "<Figure size 432x288 with 1 Axes>"
            ]
          },
          "metadata": {
            "needs_background": "light"
          }
        },
        {
          "output_type": "display_data",
          "data": {
            "image/png": "[encoded data removed]",
            "text/plain": [
              "<Figure size 432x288 with 1 Axes>"
            ]
          },
          "metadata": {
            "needs_background": "light"
          }
        }
      ]
    },
    {
      "cell_type": "code",
      "source": [
        ""
      ],
      "metadata": {
        "id": "yq5jzvlW--Rr"
      },
      "execution_count": null,
      "outputs": []
    }
  ]
}