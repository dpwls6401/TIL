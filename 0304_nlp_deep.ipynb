{
  "nbformat": 4,
  "nbformat_minor": 0,
  "metadata": {
    "colab": {
      "name": "0304_nlp_deep",
      "provenance": [],
      "collapsed_sections": []
    },
    "kernelspec": {
      "name": "python3",
      "display_name": "Python 3"
    },
    "language_info": {
      "name": "python"
    },
    "accelerator": "GPU"
  },
  "cells": [
    {
      "cell_type": "code",
      "execution_count": 61,
      "metadata": {
        "id": "xkqACb6rKePJ"
      },
      "outputs": [],
      "source": [
        "from tensorflow.keras.datasets import mnist\n",
        "from sklearn.model_selection import train_test_split\n",
        "\n",
        "(train_images, train_labels), (test_images, test_labels) = mnist.load_data()\n",
        "train_images = train_images.reshape((-1, 28, 28, 1)) #60000개\n",
        "test_images = test_images.reshape((-1, 28, 28, 1))\n",
        "\n",
        "#0~1 사이 값으로 정규화\n",
        "train_images = train_images / 255.\n",
        "test_images = test_images / 255.\n",
        "\n",
        "#loss값 낮아지도록 학습 so 과적합 문제\n",
        "#valid set: 전체 train의 75% 정도 가져와서 overfitting 일어나는지 확인 & test는 최종 검사용\n",
        "valid_images, test_images, valid_labels, test_labels = train_test_split(test_images, test_labels, test_size=0.15, shuffle=True)"
      ]
    },
    {
      "cell_type": "markdown",
      "source": [
        "batch 정규화"
      ],
      "metadata": {
        "id": "QrnmNwJgZ8UQ"
      }
    },
    {
      "cell_type": "code",
      "source": [
        "import tensorflow as tf\n",
        "from tensorflow.keras.models import Model\n",
        "from tensorflow.keras.layers import Input, Conv2D, MaxPool2D, Flatten, Dense, Dropout, BatchNormalization\n",
        "\n",
        "class ConvBNRelu(Model):\n",
        "  def __init__(self, filters, kernel_size=3, strides=(1,1), padding='same'):\n",
        "    # 모델 상속: 부모의 init 함수 호출\n",
        "    super(ConvBNRelu, self).__init__()\n",
        "    self.conv = Conv2D(filters=filters, kernel_size=kernel_size, strides=strides,\n",
        "                       padding=padding, kernel_initializer='glorot_normal')\n",
        "    self.batchnorm = BatchNormalization()\n",
        "\n",
        "  def call(self, inputs, training=False):\n",
        "    layer = self.conv(inputs)\n",
        "    layer = self.batchnorm(layer)\n",
        "    layer = tf.nn.relu(layer)\n",
        "\n",
        "    return layer"
      ],
      "metadata": {
        "id": "GibIi8EUKiZx"
      },
      "execution_count": 50,
      "outputs": []
    },
    {
      "cell_type": "code",
      "source": [
        "class DenseBNRelu(Model):\n",
        "  def __init__(self, units):\n",
        "    super(DenseBNRelu, self).__init__()\n",
        "    self.dense = Dense(units=units, kernel_initializer='glorot_normal')\n",
        "    self.batchnorm = BatchNormalization()\n",
        "\n",
        "  def call(self, inputs, training=False):\n",
        "    layer = self.dense(inputs)\n",
        "    layer = self.batchnorm(layer)\n",
        "    layer = tf.nn.relu(layer)\n",
        "\n",
        "    return layer"
      ],
      "metadata": {
        "id": "U0qGVrftL3pK"
      },
      "execution_count": 3,
      "outputs": []
    },
    {
      "cell_type": "code",
      "source": [
        "class MNISTModel(Model):\n",
        "  def __init__(self):\n",
        "    super(MNISTModel, self).__init__()\n",
        "    self.conv1 = ConvBNRelu(filters=32, kernel_size=(3,3), padding='valid')\n",
        "    self.pool1 = MaxPool2D()\n",
        "    self.conv2 = ConvBNRelu(filters=64, kernel_size=(3,3), padding='valid')\n",
        "    self.pool2 = MaxPool2D()\n",
        "    self.conv3 = ConvBNRelu(filters=32, kernel_size=(3,3), padding='valid')\n",
        "    self.flat = Flatten()\n",
        "    self.dense4 = DenseBNRelu(units=64)\n",
        "    self.drop = Dropout(0.2)\n",
        "    self.outputs = Dense(10, activation='softmax') # 얘는 softmax 적용해야 하므로 relu 주면 안됨\n",
        "\n",
        "  # call은 Model에 정의되어 있는 함수이므로 input값 항상 같아야 함\n",
        "  def call(self, inputs, training=False):\n",
        "    net = self.conv1(inputs)\n",
        "    net = self.pool1(net)\n",
        "    net = self.conv2(net)\n",
        "    net = self.pool2(net)\n",
        "    net = self.conv3(net)\n",
        "    net = self.flat(net)\n",
        "    net = self.dense4(net)\n",
        "    net = self.drop(net)\n",
        "    net = self.outputs(net)\n",
        "\n",
        "    return net"
      ],
      "metadata": {
        "id": "IfRy0P63MtEL"
      },
      "execution_count": 4,
      "outputs": []
    },
    {
      "cell_type": "code",
      "source": [
        "model = MNISTModel()\n",
        "model(Input(shape=(28, 28, 1)))\n",
        "model.summary()"
      ],
      "metadata": {
        "colab": {
          "base_uri": "https://localhost:8080/"
        },
        "id": "Sg4ZKXAuOkPe",
        "outputId": "d8042c3d-ee8e-4eba-933e-bc16fd452426"
      },
      "execution_count": 5,
      "outputs": [
        {
          "output_type": "stream",
          "name": "stdout",
          "text": [
            "Model: \"mnist_model\"\n",
            "_________________________________________________________________\n",
            " Layer (type)                Output Shape              Param #   \n",
            "=================================================================\n",
            " conv_bn_relu (ConvBNRelu)   multiple                  448       \n",
            "                                                                 \n",
            " max_pooling2d (MaxPooling2D  multiple                 0         \n",
            " )                                                               \n",
            "                                                                 \n",
            " conv_bn_relu_1 (ConvBNRelu)  multiple                 18752     \n",
            "                                                                 \n",
            " max_pooling2d_1 (MaxPooling  multiple                 0         \n",
            " 2D)                                                             \n",
            "                                                                 \n",
            " conv_bn_relu_2 (ConvBNRelu)  multiple                 18592     \n",
            "                                                                 \n",
            " flatten (Flatten)           multiple                  0         \n",
            "                                                                 \n",
            " dense_bn_relu (DenseBNRelu)  multiple                 18752     \n",
            "                                                                 \n",
            " dropout (Dropout)           multiple                  0         \n",
            "                                                                 \n",
            " dense_1 (Dense)             multiple                  650       \n",
            "                                                                 \n",
            "=================================================================\n",
            "Total params: 57,194\n",
            "Trainable params: 56,810\n",
            "Non-trainable params: 384\n",
            "_________________________________________________________________\n"
          ]
        }
      ]
    },
    {
      "cell_type": "code",
      "source": [
        "#맨 마지막에 나오는 모델은 과적합된 bad model! \n",
        "#so, 학습을 진행하면서 모델 save해야 함 -> 앞쪽에 나온 좋은 모델 가져오기 위해!\n",
        "from tensorflow.keras.callbacks import ModelCheckpoint, EarlyStopping\n",
        "\n",
        "MODEL_SAVE_FOLDER = '/content/drive/MyDrive/models/'\n",
        "model_path = f\"{MODEL_SAVE_FOLDER}mnist-{{epoch:d}}-{{val_loss:.5f}}-{{val_accuracy:.5f}}.hdf5\"\n",
        "\n",
        "cb_checkpoint = ModelCheckpoint(filepath=model_path,\n",
        "                                monitor='val_accuracy',\n",
        "                                verbose=1,\n",
        "                                save_weights_only=True,\n",
        "                                save_best_only=True)\n",
        "\n",
        "cb_early_stopping = EarlyStopping(monitor='val_accuracy', patience=6)"
      ],
      "metadata": {
        "id": "QjxipZrvO6lx"
      },
      "execution_count": 14,
      "outputs": []
    },
    {
      "cell_type": "code",
      "source": [
        "! rm '/content/drive/MyDrive/models/'*"
      ],
      "metadata": {
        "colab": {
          "base_uri": "https://localhost:8080/"
        },
        "id": "Rxn2T2XdQGYt",
        "outputId": "e3fce101-bd54-4def-a3f4-7e1baed63168"
      },
      "execution_count": 15,
      "outputs": [
        {
          "output_type": "stream",
          "name": "stdout",
          "text": [
            "rm: cannot remove '/content/drive/MyDrive/models/*': No such file or directory\n"
          ]
        }
      ]
    },
    {
      "cell_type": "code",
      "source": [
        "learning_rate = 0.001\n",
        "batch_size = 200\n",
        "\n",
        "# ExponenitalDecay(지수적 감쇠): lr 처음에는 크게, 갈수록 decay; initial lr,\n",
        "#+) decay_steps=몇번 스텝 갔을 때 떨어질 것인지, staircase=부드럽게 or 계단식\n",
        "lr_decay = tf.keras.optimizers.schedules.ExponentialDecay(learning_rate, train_images.shape[0]/batch_size*5, 0.5, staircase=True)\n",
        "optimizer = tf.keras.optimizers.Adam(learning_rate=lr_decay)\n",
        "model.compile(optimizer=optimizer, loss='sparse_categorical_crossentropy', metrics=['accuracy'])"
      ],
      "metadata": {
        "id": "Hc6xzacCQKiL"
      },
      "execution_count": 16,
      "outputs": []
    },
    {
      "cell_type": "code",
      "source": [
        "hist = model.fit(train_images, train_labels, validation_data=(valid_images, valid_labels),\n",
        "                 epochs=100, batch_size=batch_size,\n",
        "                 callbacks=[cb_checkpoint, cb_early_stopping])"
      ],
      "metadata": {
        "colab": {
          "base_uri": "https://localhost:8080/"
        },
        "id": "wX4Wk3RCRyPa",
        "outputId": "3b1cd2b6-5914-4a53-a227-d3bfce3bb6d9"
      },
      "execution_count": 17,
      "outputs": [
        {
          "output_type": "stream",
          "name": "stdout",
          "text": [
            "Epoch 1/100\n",
            "300/300 [==============================] - ETA: 0s - loss: 0.0387 - accuracy: 0.9889\n",
            "Epoch 1: val_accuracy improved from -inf to 0.98800, saving model to /content/drive/MyDrive/modelsmnist-1-0.03571-0.98800.hdf5\n",
            "300/300 [==============================] - 6s 16ms/step - loss: 0.0387 - accuracy: 0.9889 - val_loss: 0.0357 - val_accuracy: 0.9880\n",
            "Epoch 2/100\n",
            "297/300 [============================>.] - ETA: 0s - loss: 0.0270 - accuracy: 0.9921\n",
            "Epoch 2: val_accuracy did not improve from 0.98800\n",
            "300/300 [==============================] - 4s 14ms/step - loss: 0.0270 - accuracy: 0.9920 - val_loss: 0.0560 - val_accuracy: 0.9833\n",
            "Epoch 3/100\n",
            "297/300 [============================>.] - ETA: 0s - loss: 0.0209 - accuracy: 0.9938\n",
            "Epoch 3: val_accuracy improved from 0.98800 to 0.99200, saving model to /content/drive/MyDrive/modelsmnist-3-0.02614-0.99200.hdf5\n",
            "300/300 [==============================] - 4s 15ms/step - loss: 0.0208 - accuracy: 0.9938 - val_loss: 0.0261 - val_accuracy: 0.9920\n",
            "Epoch 4/100\n",
            "297/300 [============================>.] - ETA: 0s - loss: 0.0176 - accuracy: 0.9947\n",
            "Epoch 4: val_accuracy did not improve from 0.99200\n",
            "300/300 [==============================] - 4s 15ms/step - loss: 0.0176 - accuracy: 0.9947 - val_loss: 0.0338 - val_accuracy: 0.9896\n",
            "Epoch 5/100\n",
            "300/300 [==============================] - ETA: 0s - loss: 0.0146 - accuracy: 0.9955\n",
            "Epoch 5: val_accuracy did not improve from 0.99200\n",
            "300/300 [==============================] - 4s 15ms/step - loss: 0.0146 - accuracy: 0.9955 - val_loss: 0.0336 - val_accuracy: 0.9893\n",
            "Epoch 6/100\n",
            "297/300 [============================>.] - ETA: 0s - loss: 0.0087 - accuracy: 0.9977\n",
            "Epoch 6: val_accuracy did not improve from 0.99200\n",
            "300/300 [==============================] - 4s 14ms/step - loss: 0.0088 - accuracy: 0.9977 - val_loss: 0.0287 - val_accuracy: 0.9907\n",
            "Epoch 7/100\n",
            "297/300 [============================>.] - ETA: 0s - loss: 0.0064 - accuracy: 0.9983\n",
            "Epoch 7: val_accuracy improved from 0.99200 to 0.99271, saving model to /content/drive/MyDrive/modelsmnist-7-0.02446-0.99271.hdf5\n",
            "300/300 [==============================] - 4s 15ms/step - loss: 0.0064 - accuracy: 0.9983 - val_loss: 0.0245 - val_accuracy: 0.9927\n",
            "Epoch 8/100\n",
            "297/300 [============================>.] - ETA: 0s - loss: 0.0056 - accuracy: 0.9985\n",
            "Epoch 8: val_accuracy did not improve from 0.99271\n",
            "300/300 [==============================] - 4s 14ms/step - loss: 0.0056 - accuracy: 0.9985 - val_loss: 0.0287 - val_accuracy: 0.9918\n",
            "Epoch 9/100\n",
            "297/300 [============================>.] - ETA: 0s - loss: 0.0051 - accuracy: 0.9987\n",
            "Epoch 9: val_accuracy improved from 0.99271 to 0.99294, saving model to /content/drive/MyDrive/modelsmnist-9-0.02467-0.99294.hdf5\n",
            "300/300 [==============================] - 4s 15ms/step - loss: 0.0051 - accuracy: 0.9987 - val_loss: 0.0247 - val_accuracy: 0.9929\n",
            "Epoch 10/100\n",
            "297/300 [============================>.] - ETA: 0s - loss: 0.0045 - accuracy: 0.9989\n",
            "Epoch 10: val_accuracy improved from 0.99294 to 0.99329, saving model to /content/drive/MyDrive/modelsmnist-10-0.02469-0.99329.hdf5\n",
            "300/300 [==============================] - 4s 14ms/step - loss: 0.0045 - accuracy: 0.9988 - val_loss: 0.0247 - val_accuracy: 0.9933\n",
            "Epoch 11/100\n",
            "297/300 [============================>.] - ETA: 0s - loss: 0.0032 - accuracy: 0.9992\n",
            "Epoch 11: val_accuracy did not improve from 0.99329\n",
            "300/300 [==============================] - 4s 14ms/step - loss: 0.0032 - accuracy: 0.9992 - val_loss: 0.0238 - val_accuracy: 0.9932\n",
            "Epoch 12/100\n",
            "297/300 [============================>.] - ETA: 0s - loss: 0.0025 - accuracy: 0.9994\n",
            "Epoch 12: val_accuracy improved from 0.99329 to 0.99341, saving model to /content/drive/MyDrive/modelsmnist-12-0.02300-0.99341.hdf5\n",
            "300/300 [==============================] - 4s 14ms/step - loss: 0.0025 - accuracy: 0.9994 - val_loss: 0.0230 - val_accuracy: 0.9934\n",
            "Epoch 13/100\n",
            "297/300 [============================>.] - ETA: 0s - loss: 0.0020 - accuracy: 0.9997\n",
            "Epoch 13: val_accuracy did not improve from 0.99341\n",
            "300/300 [==============================] - 4s 15ms/step - loss: 0.0020 - accuracy: 0.9997 - val_loss: 0.0262 - val_accuracy: 0.9931\n",
            "Epoch 14/100\n",
            "297/300 [============================>.] - ETA: 0s - loss: 0.0018 - accuracy: 0.9997\n",
            "Epoch 14: val_accuracy did not improve from 0.99341\n",
            "300/300 [==============================] - 4s 15ms/step - loss: 0.0018 - accuracy: 0.9997 - val_loss: 0.0237 - val_accuracy: 0.9929\n",
            "Epoch 15/100\n",
            "297/300 [============================>.] - ETA: 0s - loss: 0.0019 - accuracy: 0.9997\n",
            "Epoch 15: val_accuracy did not improve from 0.99341\n",
            "300/300 [==============================] - 4s 14ms/step - loss: 0.0019 - accuracy: 0.9997 - val_loss: 0.0253 - val_accuracy: 0.9931\n",
            "Epoch 16/100\n",
            "297/300 [============================>.] - ETA: 0s - loss: 0.0015 - accuracy: 0.9998\n",
            "Epoch 16: val_accuracy improved from 0.99341 to 0.99365, saving model to /content/drive/MyDrive/modelsmnist-16-0.02353-0.99365.hdf5\n",
            "300/300 [==============================] - 4s 14ms/step - loss: 0.0015 - accuracy: 0.9998 - val_loss: 0.0235 - val_accuracy: 0.9936\n",
            "Epoch 17/100\n",
            "297/300 [============================>.] - ETA: 0s - loss: 0.0013 - accuracy: 0.9998\n",
            "Epoch 17: val_accuracy did not improve from 0.99365\n",
            "300/300 [==============================] - 4s 14ms/step - loss: 0.0013 - accuracy: 0.9998 - val_loss: 0.0244 - val_accuracy: 0.9927\n",
            "Epoch 18/100\n",
            "297/300 [============================>.] - ETA: 0s - loss: 0.0013 - accuracy: 0.9998\n",
            "Epoch 18: val_accuracy did not improve from 0.99365\n",
            "300/300 [==============================] - 5s 16ms/step - loss: 0.0013 - accuracy: 0.9998 - val_loss: 0.0243 - val_accuracy: 0.9935\n",
            "Epoch 19/100\n",
            "297/300 [============================>.] - ETA: 0s - loss: 0.0012 - accuracy: 0.9999\n",
            "Epoch 19: val_accuracy improved from 0.99365 to 0.99400, saving model to /content/drive/MyDrive/modelsmnist-19-0.02399-0.99400.hdf5\n",
            "300/300 [==============================] - 4s 14ms/step - loss: 0.0011 - accuracy: 0.9999 - val_loss: 0.0240 - val_accuracy: 0.9940\n",
            "Epoch 20/100\n",
            "297/300 [============================>.] - ETA: 0s - loss: 0.0011 - accuracy: 0.9999\n",
            "Epoch 20: val_accuracy did not improve from 0.99400\n",
            "300/300 [==============================] - 4s 15ms/step - loss: 0.0011 - accuracy: 0.9999 - val_loss: 0.0262 - val_accuracy: 0.9929\n",
            "Epoch 21/100\n",
            "297/300 [============================>.] - ETA: 0s - loss: 9.1669e-04 - accuracy: 0.9999\n",
            "Epoch 21: val_accuracy did not improve from 0.99400\n",
            "300/300 [==============================] - 4s 15ms/step - loss: 9.1469e-04 - accuracy: 0.9999 - val_loss: 0.0238 - val_accuracy: 0.9931\n",
            "Epoch 22/100\n",
            "297/300 [============================>.] - ETA: 0s - loss: 0.0010 - accuracy: 0.9999\n",
            "Epoch 22: val_accuracy did not improve from 0.99400\n",
            "300/300 [==============================] - 4s 15ms/step - loss: 0.0010 - accuracy: 0.9999 - val_loss: 0.0245 - val_accuracy: 0.9935\n",
            "Epoch 23/100\n",
            "297/300 [============================>.] - ETA: 0s - loss: 8.4841e-04 - accuracy: 0.9999\n",
            "Epoch 23: val_accuracy did not improve from 0.99400\n",
            "300/300 [==============================] - 4s 15ms/step - loss: 8.5254e-04 - accuracy: 0.9999 - val_loss: 0.0248 - val_accuracy: 0.9934\n",
            "Epoch 24/100\n",
            "297/300 [============================>.] - ETA: 0s - loss: 9.0852e-04 - accuracy: 0.9999\n",
            "Epoch 24: val_accuracy did not improve from 0.99400\n",
            "300/300 [==============================] - 4s 14ms/step - loss: 9.0928e-04 - accuracy: 0.9999 - val_loss: 0.0254 - val_accuracy: 0.9928\n",
            "Epoch 25/100\n",
            "297/300 [============================>.] - ETA: 0s - loss: 8.9670e-04 - accuracy: 0.9999\n",
            "Epoch 25: val_accuracy did not improve from 0.99400\n",
            "300/300 [==============================] - 4s 14ms/step - loss: 8.9526e-04 - accuracy: 0.9999 - val_loss: 0.0249 - val_accuracy: 0.9936\n"
          ]
        }
      ]
    },
    {
      "cell_type": "code",
      "source": [
        "import matplotlib.pyplot as plt\n",
        "\n",
        "fig, loss_ax = plt.subplots()\n",
        "acc_ax = loss_ax.twinx()\n",
        "\n",
        "loss_ax.plot(hist.history['loss'], 'y', label='train_loss')\n",
        "loss_ax.plot(hist.history['val_loss'], 'r', label='valid_loss')\n",
        "loss_ax.set_xlabel('epochs')\n",
        "loss_ax.set_ylabel('loss')\n",
        "loss_ax.legend(loc='upper left')\n",
        "\n",
        "acc_ax.plot(hist.history['accuracy'], 'b', label='train_accuracy')\n",
        "acc_ax.plot(hist.history['val_accuracy'], 'g', label='valid_accuracy')\n",
        "acc_ax.set_xlabel('epochs')\n",
        "acc_ax.set_ylabel('accuracy')\n",
        "acc_ax.legend(loc='upper right', bbox_to_anchor=(1, 0.5))\n",
        "\n",
        "plt.show()\n",
        "#batch normal 활용하면 학습 훨씬 빠르다"
      ],
      "metadata": {
        "colab": {
          "base_uri": "https://localhost:8080/",
          "height": 279
        },
        "id": "Ya7J4ELjTEnD",
        "outputId": "3b0dfe5a-4fa8-4211-aac2-cdc1d78e78a2"
      },
      "execution_count": 18,
      "outputs": [
        {
          "output_type": "display_data",
          "data": {
            "image/png": "[encoded data removed]",
            "text/plain": [
              "<Figure size 432x288 with 2 Axes>"
            ]
          },
          "metadata": {
            "needs_background": "light"
          }
        }
      ]
    },
    {
      "cell_type": "markdown",
      "source": [
        "VGG : pre-trained model\n",
        "- 밑바닥 딥러닝 교재 8장 참고"
      ],
      "metadata": {
        "id": "8Nm8LHkAZs_U"
      }
    },
    {
      "cell_type": "code",
      "source": [
        "import numpy as np\n",
        "from tensorflow.keras.applications import VGG16\n",
        "from tensorflow.keras.datasets import mnist\n",
        "from sklearn.model_selection import train_test_split\n",
        "# VGG16: RGB값 가지고 있음"
      ],
      "metadata": {
        "id": "iWnyS7aAXFzr"
      },
      "execution_count": 62,
      "outputs": []
    },
    {
      "cell_type": "code",
      "source": [
        "(train_images, train_labels), (test_images, test_labels) = mnist.load_data()\n",
        "print(train_images.shape, test_images.shape)"
      ],
      "metadata": {
        "colab": {
          "base_uri": "https://localhost:8080/"
        },
        "id": "dLlZok88s0e0",
        "outputId": "e6c7fc60-bc25-4aad-9a12-7e04ccd6c5e1"
      },
      "execution_count": 63,
      "outputs": [
        {
          "output_type": "stream",
          "name": "stdout",
          "text": [
            "(60000, 28, 28) (10000, 28, 28)\n"
          ]
        }
      ]
    },
    {
      "cell_type": "code",
      "source": [
        "## 3채널로 만들기 위한 작업\n",
        "#이미지 뻥튀기 하기 위해 (28,28)을 784로 바꾸는 과정\n",
        "train_images = train_images.reshape(-1, 784).astype('float32') # (60000, 28, 28)을 이렇게 바꿈\n",
        "test_images = test_images.reshape(-1, 784).astype('float32')\n",
        "\n",
        "print(train_images.shape, test_images.shape)"
      ],
      "metadata": {
        "colab": {
          "base_uri": "https://localhost:8080/"
        },
        "id": "_TPZP2boaxSn",
        "outputId": "9ab28ae1-d5e2-4260-e2d8-0e824f985685"
      },
      "execution_count": 64,
      "outputs": [
        {
          "output_type": "stream",
          "name": "stdout",
          "text": [
            "(60000, 784) (10000, 784)\n"
          ]
        }
      ]
    },
    {
      "cell_type": "code",
      "source": [
        "## 3 채널로 만들기\n",
        "#Augmentation: 데이터 뻥튀기 -> VGG 차원 맞추기 위해 이미지 데이터들을 뻥튀기 시키기!\n",
        "#dstack: train_images 3개를 쌓는 것!\n",
        "train_images = np.dstack([train_images]*3)\n",
        "test_images = np.dstack([test_images]*3)"
      ],
      "metadata": {
        "id": "Phoxq5Opa_TD"
      },
      "execution_count": 65,
      "outputs": []
    },
    {
      "cell_type": "code",
      "source": [
        "# channel의 개수 3개인 것 확인\n",
        "train_images.shape, test_images.shape"
      ],
      "metadata": {
        "colab": {
          "base_uri": "https://localhost:8080/"
        },
        "id": "6NkLiprqbwx4",
        "outputId": "3066eb96-a52c-4c5a-907e-7e010e5d8b76"
      },
      "execution_count": 66,
      "outputs": [
        {
          "output_type": "execute_result",
          "data": {
            "text/plain": [
              "((60000, 784, 3), (10000, 784, 3))"
            ]
          },
          "metadata": {},
          "execution_count": 66
        }
      ]
    },
    {
      "cell_type": "code",
      "source": [
        "## 이미지로 변경\n",
        "#뻥튀기 한 다음에 2D 이미지 형태로 들어가야 하므로 다시 돌려놔야 함\n",
        "train_images = train_images.reshape(-1, 28, 28, 3)\n",
        "test_images = test_images.reshape(-1, 28, 28, 3)"
      ],
      "metadata": {
        "id": "Hi5I30E1b0nz"
      },
      "execution_count": 67,
      "outputs": []
    },
    {
      "cell_type": "code",
      "source": [
        "train_images.shape, valid_images.shape, test_images.shape"
      ],
      "metadata": {
        "colab": {
          "base_uri": "https://localhost:8080/"
        },
        "id": "mCffv-RMcSQd",
        "outputId": "04715a6b-f98a-48c1-dff0-c502adcdbe21"
      },
      "execution_count": 68,
      "outputs": [
        {
          "output_type": "execute_result",
          "data": {
            "text/plain": [
              "((60000, 28, 28, 3), (8500, 28, 28, 1), (10000, 28, 28, 3))"
            ]
          },
          "metadata": {},
          "execution_count": 68
        }
      ]
    },
    {
      "cell_type": "code",
      "source": [
        "## 48*48 사이즈로 변경\n",
        "from tensorflow.keras.preprocessing.image import img_to_array, array_to_img\n",
        "\n",
        "#resize((width, height)) : 포토샵에서 사진 늘리는 것처럼 resolution을 (48,48)로 늘릴 수 있음\n",
        "#우리가 필요한 건 데이터이므로 PIL 이미지를 img_to_array에 넘겨서 array값 받기 -> list로 넘겼으니까 asarray\n",
        "train_images = np.asarray([img_to_array(array_to_img(im, scale=False).resize((48, 48))) for im in train_images])\n",
        "test_images = np.asarray([img_to_array(array_to_img(im, scale=False).resize((48, 48))) for im in test_images])"
      ],
      "metadata": {
        "id": "tHKq6Yu5cTvy"
      },
      "execution_count": 69,
      "outputs": []
    },
    {
      "cell_type": "code",
      "source": [
        "train_images.shape, test_images.shape"
      ],
      "metadata": {
        "colab": {
          "base_uri": "https://localhost:8080/"
        },
        "id": "VrD3wJFadxUd",
        "outputId": "081ba8ca-5bd4-4cea-c620-3c498024512e"
      },
      "execution_count": 70,
      "outputs": [
        {
          "output_type": "execute_result",
          "data": {
            "text/plain": [
              "((60000, 48, 48, 3), (10000, 48, 48, 3))"
            ]
          },
          "metadata": {},
          "execution_count": 70
        }
      ]
    },
    {
      "cell_type": "code",
      "source": [
        "train_images = train_images / 255.\n",
        "test_images = test_images / 255."
      ],
      "metadata": {
        "id": "eganBI-8q5iP"
      },
      "execution_count": 71,
      "outputs": []
    },
    {
      "cell_type": "code",
      "source": [
        "valid_images, test_images, valid_labels, test_labels = train_test_split(test_images, test_labels, test_size=0.15, shuffle=True)"
      ],
      "metadata": {
        "id": "Gljfg3W2rHRb"
      },
      "execution_count": 72,
      "outputs": []
    },
    {
      "cell_type": "code",
      "source": [
        "vgg_model = VGG16(weights='imagenet', include_top=False, input_shape=(48, 48, 3))\n",
        "vgg_model.summary()\n",
        "# include_top: 3개의 fully-connected-layer -> 우리는 이거 자르고 우리걸 붙일 것"
      ],
      "metadata": {
        "colab": {
          "base_uri": "https://localhost:8080/"
        },
        "id": "j1EoNPg1eudT",
        "outputId": "10f97915-8304-43ca-d0ec-531c8d0aaa4a"
      },
      "execution_count": 73,
      "outputs": [
        {
          "output_type": "stream",
          "name": "stdout",
          "text": [
            "Model: \"vgg16\"\n",
            "_________________________________________________________________\n",
            " Layer (type)                Output Shape              Param #   \n",
            "=================================================================\n",
            " input_4 (InputLayer)        [(None, 48, 48, 3)]       0         \n",
            "                                                                 \n",
            " block1_conv1 (Conv2D)       (None, 48, 48, 64)        1792      \n",
            "                                                                 \n",
            " block1_conv2 (Conv2D)       (None, 48, 48, 64)        36928     \n",
            "                                                                 \n",
            " block1_pool (MaxPooling2D)  (None, 24, 24, 64)        0         \n",
            "                                                                 \n",
            " block2_conv1 (Conv2D)       (None, 24, 24, 128)       73856     \n",
            "                                                                 \n",
            " block2_conv2 (Conv2D)       (None, 24, 24, 128)       147584    \n",
            "                                                                 \n",
            " block2_pool (MaxPooling2D)  (None, 12, 12, 128)       0         \n",
            "                                                                 \n",
            " block3_conv1 (Conv2D)       (None, 12, 12, 256)       295168    \n",
            "                                                                 \n",
            " block3_conv2 (Conv2D)       (None, 12, 12, 256)       590080    \n",
            "                                                                 \n",
            " block3_conv3 (Conv2D)       (None, 12, 12, 256)       590080    \n",
            "                                                                 \n",
            " block3_pool (MaxPooling2D)  (None, 6, 6, 256)         0         \n",
            "                                                                 \n",
            " block4_conv1 (Conv2D)       (None, 6, 6, 512)         1180160   \n",
            "                                                                 \n",
            " block4_conv2 (Conv2D)       (None, 6, 6, 512)         2359808   \n",
            "                                                                 \n",
            " block4_conv3 (Conv2D)       (None, 6, 6, 512)         2359808   \n",
            "                                                                 \n",
            " block4_pool (MaxPooling2D)  (None, 3, 3, 512)         0         \n",
            "                                                                 \n",
            " block5_conv1 (Conv2D)       (None, 3, 3, 512)         2359808   \n",
            "                                                                 \n",
            " block5_conv2 (Conv2D)       (None, 3, 3, 512)         2359808   \n",
            "                                                                 \n",
            " block5_conv3 (Conv2D)       (None, 3, 3, 512)         2359808   \n",
            "                                                                 \n",
            " block5_pool (MaxPooling2D)  (None, 1, 1, 512)         0         \n",
            "                                                                 \n",
            "=================================================================\n",
            "Total params: 14,714,688\n",
            "Trainable params: 14,714,688\n",
            "Non-trainable params: 0\n",
            "_________________________________________________________________\n"
          ]
        }
      ]
    },
    {
      "cell_type": "code",
      "source": [
        "layer_dict = {layer.name : layer for layer in vgg_model.layers}\n",
        "layer_dict\n",
        "#{이름 : 객체}"
      ],
      "metadata": {
        "colab": {
          "base_uri": "https://localhost:8080/"
        },
        "id": "N2bXrtHzfSpp",
        "outputId": "5d5672a5-b58e-42d6-a503-e06edff150b7"
      },
      "execution_count": 74,
      "outputs": [
        {
          "output_type": "execute_result",
          "data": {
            "text/plain": [
              "{'block1_conv1': <keras.layers.convolutional.Conv2D at 0x7f36366787d0>,\n",
              " 'block1_conv2': <keras.layers.convolutional.Conv2D at 0x7f3636678bd0>,\n",
              " 'block1_pool': <keras.layers.pooling.MaxPooling2D at 0x7f3634df05d0>,\n",
              " 'block2_conv1': <keras.layers.convolutional.Conv2D at 0x7f363639e810>,\n",
              " 'block2_conv2': <keras.layers.convolutional.Conv2D at 0x7f3634bdcd90>,\n",
              " 'block2_pool': <keras.layers.pooling.MaxPooling2D at 0x7f363639ee10>,\n",
              " 'block3_conv1': <keras.layers.convolutional.Conv2D at 0x7f3636724050>,\n",
              " 'block3_conv2': <keras.layers.convolutional.Conv2D at 0x7f363639e510>,\n",
              " 'block3_conv3': <keras.layers.convolutional.Conv2D at 0x7f363610ae90>,\n",
              " 'block3_pool': <keras.layers.pooling.MaxPooling2D at 0x7f363638e890>,\n",
              " 'block4_conv1': <keras.layers.convolutional.Conv2D at 0x7f3636710e50>,\n",
              " 'block4_conv2': <keras.layers.convolutional.Conv2D at 0x7f3633f22890>,\n",
              " 'block4_conv3': <keras.layers.convolutional.Conv2D at 0x7f36366979d0>,\n",
              " 'block4_pool': <keras.layers.pooling.MaxPooling2D at 0x7f3636706910>,\n",
              " 'block5_conv1': <keras.layers.convolutional.Conv2D at 0x7f363670a810>,\n",
              " 'block5_conv2': <keras.layers.convolutional.Conv2D at 0x7f36366ba490>,\n",
              " 'block5_conv3': <keras.layers.convolutional.Conv2D at 0x7f3636678f50>,\n",
              " 'block5_pool': <keras.layers.pooling.MaxPooling2D at 0x7f36366a0a90>,\n",
              " 'input_4': <keras.engine.input_layer.InputLayer at 0x7f363667f090>}"
            ]
          },
          "metadata": {},
          "execution_count": 74
        }
      ]
    },
    {
      "cell_type": "markdown",
      "source": [
        "Transfer Learning"
      ],
      "metadata": {
        "id": "NUTlik3phYPa"
      }
    },
    {
      "cell_type": "code",
      "source": [
        "# Functional API 방법\n",
        "#VGG에서 pre-trained된 layer 일부 떼어와서 내 알고리즘에 적용\n",
        "import tensorflow as tf\n",
        "from tensorflow.keras.models import Model\n",
        "from tensorflow.keras.layers import Input, Conv2D, MaxPool2D, Flatten, Dense, Dropout, BatchNormalization\n",
        "\n",
        "x = layer_dict['block2_conv2'].output\n",
        "\n",
        "x = Conv2D(filters=64, kernel_size=(3,3), activation='relu')(x)\n",
        "x = MaxPool2D()(x)\n",
        "x = Flatten()(x)\n",
        "x = Dense(256, activation='relu')(x)\n",
        "x = Dropout(0.3)(x)\n",
        "x = Dense(10, activation='softmax')(x)"
      ],
      "metadata": {
        "id": "T9I2-56cfqaX"
      },
      "execution_count": 75,
      "outputs": []
    },
    {
      "cell_type": "code",
      "source": [
        "custom_model = Model(inputs=vgg_model.input, outputs=x)\n",
        "custom_model.summary()\n",
        "#block2_conv2까지는 VGG에서 가져온 것: weight도\n",
        "#이후: glorot으로 초기화된 weight 사용"
      ],
      "metadata": {
        "colab": {
          "base_uri": "https://localhost:8080/"
        },
        "id": "NdY4LPzKhFIo",
        "outputId": "915c2db3-832f-4d1a-d0a3-72d33e46322a"
      },
      "execution_count": 76,
      "outputs": [
        {
          "output_type": "stream",
          "name": "stdout",
          "text": [
            "Model: \"model_2\"\n",
            "_________________________________________________________________\n",
            " Layer (type)                Output Shape              Param #   \n",
            "=================================================================\n",
            " input_4 (InputLayer)        [(None, 48, 48, 3)]       0         \n",
            "                                                                 \n",
            " block1_conv1 (Conv2D)       (None, 48, 48, 64)        1792      \n",
            "                                                                 \n",
            " block1_conv2 (Conv2D)       (None, 48, 48, 64)        36928     \n",
            "                                                                 \n",
            " block1_pool (MaxPooling2D)  (None, 24, 24, 64)        0         \n",
            "                                                                 \n",
            " block2_conv1 (Conv2D)       (None, 24, 24, 128)       73856     \n",
            "                                                                 \n",
            " block2_conv2 (Conv2D)       (None, 24, 24, 128)       147584    \n",
            "                                                                 \n",
            " conv2d_5 (Conv2D)           (None, 22, 22, 64)        73792     \n",
            "                                                                 \n",
            " max_pooling2d_4 (MaxPooling  (None, 11, 11, 64)       0         \n",
            " 2D)                                                             \n",
            "                                                                 \n",
            " flatten_3 (Flatten)         (None, 7744)              0         \n",
            "                                                                 \n",
            " dense_6 (Dense)             (None, 256)               1982720   \n",
            "                                                                 \n",
            " dropout_3 (Dropout)         (None, 256)               0         \n",
            "                                                                 \n",
            " dense_7 (Dense)             (None, 10)                2570      \n",
            "                                                                 \n",
            "=================================================================\n",
            "Total params: 2,319,242\n",
            "Trainable params: 2,319,242\n",
            "Non-trainable params: 0\n",
            "_________________________________________________________________\n"
          ]
        }
      ]
    },
    {
      "cell_type": "code",
      "source": [
        "for layer in custom_model.layers[:7]:\n",
        "  layer.trainable = False #weight update 안하겠다\n",
        "\n",
        "custom_model.compile(optimizer='adam', loss='sparse_categorical_crossentropy', metrics=['accuracy'])"
      ],
      "metadata": {
        "id": "Xp5UsPxWht5y"
      },
      "execution_count": 77,
      "outputs": []
    },
    {
      "cell_type": "code",
      "source": [
        "from tensorflow.keras.callbacks import ModelCheckpoint, EarlyStopping\n",
        "\n",
        "MODEL_SAVE_FOLDER = '/content/drive/MyDrive/models'\n",
        "model_path = f\"{MODEL_SAVE_FOLDER}mnist-{{epoch:d}}-{{val_loss:.5f}}-{{val_accuracy:.5f}}.hdf5\"\n",
        "\n",
        "cb_checkpoint = ModelCheckpoint(filepath=model_path,\n",
        "                                monitor='val_accuracy',\n",
        "                                verbose=1,\n",
        "                                save_weights_only=True,\n",
        "                                save_best_only=True)\n",
        "\n",
        "cb_early_stopping = EarlyStopping(monitor='val_accuracy', patience=6)"
      ],
      "metadata": {
        "id": "-aCDIqZVoaoS"
      },
      "execution_count": 78,
      "outputs": []
    },
    {
      "cell_type": "code",
      "source": [
        "hist = custom_model.fit(train_images, train_labels, validation_data=(valid_images, valid_labels),\n",
        "                        epochs=100, batch_size=200,\n",
        "                        callbacks=[cb_checkpoint, cb_early_stopping])"
      ],
      "metadata": {
        "colab": {
          "base_uri": "https://localhost:8080/"
        },
        "id": "BBc7dugYomKV",
        "outputId": "e9c40bd6-132c-4464-acbf-229ca3d4cea0"
      },
      "execution_count": 79,
      "outputs": [
        {
          "output_type": "stream",
          "name": "stdout",
          "text": [
            "Epoch 1/100\n",
            "300/300 [==============================] - ETA: 0s - loss: 1.8063 - accuracy: 0.8046\n",
            "Epoch 1: val_accuracy improved from -inf to 0.96224, saving model to /content/drive/MyDrive/modelsmnist-1-0.14173-0.96224.hdf5\n",
            "300/300 [==============================] - 21s 69ms/step - loss: 1.8063 - accuracy: 0.8046 - val_loss: 0.1417 - val_accuracy: 0.9622\n",
            "Epoch 2/100\n",
            "300/300 [==============================] - ETA: 0s - loss: 0.2858 - accuracy: 0.9129\n",
            "Epoch 2: val_accuracy improved from 0.96224 to 0.97318, saving model to /content/drive/MyDrive/modelsmnist-2-0.10132-0.97318.hdf5\n",
            "300/300 [==============================] - 20s 68ms/step - loss: 0.2858 - accuracy: 0.9129 - val_loss: 0.1013 - val_accuracy: 0.9732\n",
            "Epoch 3/100\n",
            "300/300 [==============================] - ETA: 0s - loss: 0.2221 - accuracy: 0.9334\n",
            "Epoch 3: val_accuracy improved from 0.97318 to 0.98165, saving model to /content/drive/MyDrive/modelsmnist-3-0.06905-0.98165.hdf5\n",
            "300/300 [==============================] - 20s 68ms/step - loss: 0.2221 - accuracy: 0.9334 - val_loss: 0.0691 - val_accuracy: 0.9816\n",
            "Epoch 4/100\n",
            "300/300 [==============================] - ETA: 0s - loss: 0.1891 - accuracy: 0.9444\n",
            "Epoch 4: val_accuracy did not improve from 0.98165\n",
            "300/300 [==============================] - 20s 68ms/step - loss: 0.1891 - accuracy: 0.9444 - val_loss: 0.0651 - val_accuracy: 0.9812\n",
            "Epoch 5/100\n",
            "300/300 [==============================] - ETA: 0s - loss: 0.1711 - accuracy: 0.9486\n",
            "Epoch 5: val_accuracy did not improve from 0.98165\n",
            "300/300 [==============================] - 20s 68ms/step - loss: 0.1711 - accuracy: 0.9486 - val_loss: 0.0661 - val_accuracy: 0.9816\n",
            "Epoch 6/100\n",
            "300/300 [==============================] - ETA: 0s - loss: 0.1508 - accuracy: 0.9557\n",
            "Epoch 6: val_accuracy improved from 0.98165 to 0.98471, saving model to /content/drive/MyDrive/modelsmnist-6-0.06821-0.98471.hdf5\n",
            "300/300 [==============================] - 21s 69ms/step - loss: 0.1508 - accuracy: 0.9557 - val_loss: 0.0682 - val_accuracy: 0.9847\n",
            "Epoch 7/100\n",
            "300/300 [==============================] - ETA: 0s - loss: 0.1524 - accuracy: 0.9531\n",
            "Epoch 7: val_accuracy did not improve from 0.98471\n",
            "300/300 [==============================] - 20s 68ms/step - loss: 0.1524 - accuracy: 0.9531 - val_loss: 0.0667 - val_accuracy: 0.9828\n",
            "Epoch 8/100\n",
            "300/300 [==============================] - ETA: 0s - loss: 0.1532 - accuracy: 0.9537\n",
            "Epoch 8: val_accuracy did not improve from 0.98471\n",
            "300/300 [==============================] - 20s 68ms/step - loss: 0.1532 - accuracy: 0.9537 - val_loss: 0.0659 - val_accuracy: 0.9825\n",
            "Epoch 9/100\n",
            "300/300 [==============================] - ETA: 0s - loss: 0.1467 - accuracy: 0.9553\n",
            "Epoch 9: val_accuracy did not improve from 0.98471\n",
            "300/300 [==============================] - 20s 68ms/step - loss: 0.1467 - accuracy: 0.9553 - val_loss: 0.0699 - val_accuracy: 0.9835\n",
            "Epoch 10/100\n",
            "300/300 [==============================] - ETA: 0s - loss: 0.1345 - accuracy: 0.9589\n",
            "Epoch 10: val_accuracy improved from 0.98471 to 0.98553, saving model to /content/drive/MyDrive/modelsmnist-10-0.05604-0.98553.hdf5\n",
            "300/300 [==============================] - 20s 68ms/step - loss: 0.1345 - accuracy: 0.9589 - val_loss: 0.0560 - val_accuracy: 0.9855\n",
            "Epoch 11/100\n",
            "300/300 [==============================] - ETA: 0s - loss: 0.1323 - accuracy: 0.9594\n",
            "Epoch 11: val_accuracy improved from 0.98553 to 0.98729, saving model to /content/drive/MyDrive/modelsmnist-11-0.05405-0.98729.hdf5\n",
            "300/300 [==============================] - 20s 68ms/step - loss: 0.1323 - accuracy: 0.9594 - val_loss: 0.0541 - val_accuracy: 0.9873\n",
            "Epoch 12/100\n",
            "300/300 [==============================] - ETA: 0s - loss: 0.1276 - accuracy: 0.9599\n",
            "Epoch 12: val_accuracy did not improve from 0.98729\n",
            "300/300 [==============================] - 20s 68ms/step - loss: 0.1276 - accuracy: 0.9599 - val_loss: 0.0558 - val_accuracy: 0.9864\n",
            "Epoch 13/100\n",
            "300/300 [==============================] - ETA: 0s - loss: 0.1253 - accuracy: 0.9607\n",
            "Epoch 13: val_accuracy did not improve from 0.98729\n",
            "300/300 [==============================] - 20s 68ms/step - loss: 0.1253 - accuracy: 0.9607 - val_loss: 0.0611 - val_accuracy: 0.9866\n",
            "Epoch 14/100\n",
            "300/300 [==============================] - ETA: 0s - loss: 0.1268 - accuracy: 0.9616\n",
            "Epoch 14: val_accuracy did not improve from 0.98729\n",
            "300/300 [==============================] - 20s 68ms/step - loss: 0.1268 - accuracy: 0.9616 - val_loss: 0.0489 - val_accuracy: 0.9862\n",
            "Epoch 15/100\n",
            "300/300 [==============================] - ETA: 0s - loss: 0.1164 - accuracy: 0.9630\n",
            "Epoch 15: val_accuracy did not improve from 0.98729\n",
            "300/300 [==============================] - 21s 69ms/step - loss: 0.1164 - accuracy: 0.9630 - val_loss: 0.0638 - val_accuracy: 0.9846\n",
            "Epoch 16/100\n",
            "300/300 [==============================] - ETA: 0s - loss: 0.1181 - accuracy: 0.9624\n",
            "Epoch 16: val_accuracy did not improve from 0.98729\n",
            "300/300 [==============================] - 20s 68ms/step - loss: 0.1181 - accuracy: 0.9624 - val_loss: 0.0688 - val_accuracy: 0.9822\n",
            "Epoch 17/100\n",
            "300/300 [==============================] - ETA: 0s - loss: 0.1177 - accuracy: 0.9624\n",
            "Epoch 17: val_accuracy did not improve from 0.98729\n",
            "300/300 [==============================] - 21s 69ms/step - loss: 0.1177 - accuracy: 0.9624 - val_loss: 0.0746 - val_accuracy: 0.9820\n"
          ]
        }
      ]
    },
    {
      "cell_type": "code",
      "source": [
        "saved_path = '/content/drive/MyDrive/modelsmnist-11-0.05405-0.98729.hdf5'\n",
        "custom_model.load_weights(saved_path)\n",
        "\n",
        "custom_model.evaluate(test_images, test_labels)"
      ],
      "metadata": {
        "colab": {
          "base_uri": "https://localhost:8080/"
        },
        "id": "I1B6og2Zo5Yq",
        "outputId": "8bbcf4ca-8ce6-4e99-be98-2ea65c658c1c"
      },
      "execution_count": 83,
      "outputs": [
        {
          "output_type": "stream",
          "name": "stdout",
          "text": [
            "47/47 [==============================] - 1s 18ms/step - loss: 0.0401 - accuracy: 0.9887\n"
          ]
        },
        {
          "output_type": "execute_result",
          "data": {
            "text/plain": [
              "[0.04008500277996063, 0.9886666536331177]"
            ]
          },
          "metadata": {},
          "execution_count": 83
        }
      ]
    },
    {
      "cell_type": "code",
      "source": [
        ""
      ],
      "metadata": {
        "id": "iSKudmStvHTK"
      },
      "execution_count": null,
      "outputs": []
    }
  ]
}