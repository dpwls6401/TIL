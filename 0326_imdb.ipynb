{
 "cells": [
  {
   "cell_type": "code",
   "execution_count": 41,
   "id": "1c21b4cf",
   "metadata": {},
   "outputs": [],
   "source": [
    "import pandas as pd\n",
    "import time\n",
    "from tqdm.auto import tqdm\n",
    "from selenium.webdriver import Chrome\n",
    "from selenium.webdriver.common.by import By\n",
    "from selenium.webdriver.common.keys import Keys\n",
    "from selenium.webdriver.support.ui import WebDriverWait\n",
    "from selenium.webdriver.support import expected_conditions as EC\n",
    "from selenium import webdriver\n",
    "from selenium.common.exceptions import TimeoutException\n",
    "from selenium.webdriver.chrome.service import Service\n",
    "from webdriver_manager.chrome import ChromeDriverManager\n",
    "import re"
   ]
  },
  {
   "cell_type": "code",
   "execution_count": 24,
   "id": "bbf492c5",
   "metadata": {},
   "outputs": [],
   "source": [
    "import warnings\n",
    "warnings.filterwarnings('ignore')"
   ]
  },
  {
   "cell_type": "code",
   "execution_count": 49,
   "id": "82235964",
   "metadata": {
    "scrolled": true
   },
   "outputs": [],
   "source": [
    "chrome_driver_path = '/opt/homebrew/Caskroom/chromedriver/99.0.4844.51/chromedriver'\n",
    "\n",
    "imdb = 'https://www.imdb.com/title/tt10919420/reviews?ref_=tt_urv'\n",
    "\n",
    "# options = webdriver.ChromeOptions()\n",
    "# options.add_argument(\"headless\")\n",
    "\n",
    "# s=Service(ChromeDriverManager().install())\n",
    "# driver = webdriver.Chrome(service=s, options=options)"
   ]
  },
  {
   "cell_type": "code",
   "execution_count": 50,
   "id": "4957213a",
   "metadata": {},
   "outputs": [],
   "source": [
    "def scroll_down(second):\n",
    "    driver.execute_script(\"window.scrollTo(0, document.documentElement.scrollHeight);\")\n",
    "    time.sleep(second)\n",
    "    new = driver.execute_script(\"return document.documentElement.scrollHeight\")\n",
    "    \n",
    "    return new"
   ]
  },
  {
   "cell_type": "code",
   "execution_count": 66,
   "id": "053f8797",
   "metadata": {},
   "outputs": [
    {
     "name": "stdout",
     "output_type": "stream",
     "text": [
      "댓글수: 2579\n"
     ]
    },
    {
     "ename": "KeyboardInterrupt",
     "evalue": "",
     "output_type": "error",
     "traceback": [
      "\u001b[0;31m---------------------------------------------------------------------------\u001b[0m",
      "\u001b[0;31mKeyboardInterrupt\u001b[0m                         Traceback (most recent call last)",
      "\u001b[0;32m/var/folders/tz/2xhtx7px4kng48d7grkk8mwm0000gn/T/ipykernel_2660/2989085071.py\u001b[0m in \u001b[0;36m<module>\u001b[0;34m\u001b[0m\n\u001b[1;32m     14\u001b[0m         \u001b[0mnew_height\u001b[0m \u001b[0;34m=\u001b[0m \u001b[0mscroll_down\u001b[0m\u001b[0;34m(\u001b[0m\u001b[0;36m5\u001b[0m\u001b[0;34m)\u001b[0m\u001b[0;34m\u001b[0m\u001b[0;34m\u001b[0m\u001b[0m\n\u001b[1;32m     15\u001b[0m         \u001b[0;32mif\u001b[0m \u001b[0mnew_height\u001b[0m \u001b[0;34m==\u001b[0m \u001b[0mlast_height\u001b[0m\u001b[0;34m:\u001b[0m\u001b[0;34m\u001b[0m\u001b[0;34m\u001b[0m\u001b[0m\n\u001b[0;32m---> 16\u001b[0;31m             \u001b[0mnew_height\u001b[0m \u001b[0;34m=\u001b[0m \u001b[0mscroll_down\u001b[0m\u001b[0;34m(\u001b[0m\u001b[0;36m5\u001b[0m\u001b[0;34m)\u001b[0m\u001b[0;34m\u001b[0m\u001b[0;34m\u001b[0m\u001b[0m\n\u001b[0m\u001b[1;32m     17\u001b[0m             \u001b[0;32mif\u001b[0m \u001b[0mnew_height\u001b[0m \u001b[0;34m==\u001b[0m \u001b[0mlast_height\u001b[0m\u001b[0;34m:\u001b[0m\u001b[0;34m\u001b[0m\u001b[0;34m\u001b[0m\u001b[0m\n\u001b[1;32m     18\u001b[0m                 \u001b[0;32mbreak\u001b[0m\u001b[0;34m\u001b[0m\u001b[0;34m\u001b[0m\u001b[0m\n",
      "\u001b[0;32m/var/folders/tz/2xhtx7px4kng48d7grkk8mwm0000gn/T/ipykernel_2660/772469180.py\u001b[0m in \u001b[0;36mscroll_down\u001b[0;34m(second)\u001b[0m\n\u001b[1;32m      1\u001b[0m \u001b[0;32mdef\u001b[0m \u001b[0mscroll_down\u001b[0m\u001b[0;34m(\u001b[0m\u001b[0msecond\u001b[0m\u001b[0;34m)\u001b[0m\u001b[0;34m:\u001b[0m\u001b[0;34m\u001b[0m\u001b[0;34m\u001b[0m\u001b[0m\n\u001b[1;32m      2\u001b[0m     \u001b[0mdriver\u001b[0m\u001b[0;34m.\u001b[0m\u001b[0mexecute_script\u001b[0m\u001b[0;34m(\u001b[0m\u001b[0;34m\"window.scrollTo(0, document.documentElement.scrollHeight);\"\u001b[0m\u001b[0;34m)\u001b[0m\u001b[0;34m\u001b[0m\u001b[0;34m\u001b[0m\u001b[0m\n\u001b[0;32m----> 3\u001b[0;31m     \u001b[0mtime\u001b[0m\u001b[0;34m.\u001b[0m\u001b[0msleep\u001b[0m\u001b[0;34m(\u001b[0m\u001b[0msecond\u001b[0m\u001b[0;34m)\u001b[0m\u001b[0;34m\u001b[0m\u001b[0;34m\u001b[0m\u001b[0m\n\u001b[0m\u001b[1;32m      4\u001b[0m     \u001b[0mnew\u001b[0m \u001b[0;34m=\u001b[0m \u001b[0mdriver\u001b[0m\u001b[0;34m.\u001b[0m\u001b[0mexecute_script\u001b[0m\u001b[0;34m(\u001b[0m\u001b[0;34m\"return document.documentElement.scrollHeight\"\u001b[0m\u001b[0;34m)\u001b[0m\u001b[0;34m\u001b[0m\u001b[0;34m\u001b[0m\u001b[0m\n\u001b[1;32m      5\u001b[0m \u001b[0;34m\u001b[0m\u001b[0m\n",
      "\u001b[0;31mKeyboardInterrupt\u001b[0m: "
     ]
    }
   ],
   "source": [
    "driver = webdriver.Chrome(chrome_driver_path)\n",
    "driver.get(imdb)\n",
    "time.sleep(10)\n",
    "\n",
    "comment_counts = driver.find_element_by_xpath('/html/body/div[3]/div/div[2]/div[3]/div[1]/section/div[2]/div[1]/div/span').text\n",
    "comment_counts = int(re.sub(',', '', comment_counts.split(' ')[0]))\n",
    "\n",
    "print(f\"댓글수: {comment_counts}\")\n",
    "\n",
    "comments = []\n",
    "for i in range(1, comment_counts + 1):\n",
    "    last_height = driver.execute_script(\"return document.documentElement.scrollHeight\")\n",
    "    while True:\n",
    "        new_height = scroll_down(5)\n",
    "        if new_height == last_height:\n",
    "            new_height = scroll_down(5)\n",
    "            if new_height == last_height:\n",
    "                break\n",
    "        last_height = new_height\n",
    "\n",
    "    driver.execute_script(\"window.scrollTo(0, document.documentElement.scrollHeight);\")\n",
    "\n",
    "    if i % 5 != 0:\n",
    "        comment = driver.find_element_by_css_selector(f'#main > section > div.lister > div.lister-list > div:nth-child({i}) > div.review-container > div.lister-item-content').text\n",
    "        comment = comment.replace('\\n', ' ')\n",
    "        comments.append(comment)\n",
    "    else:\n",
    "        load_more_btn = driver.find_element_by_css_selector('#load-more-trigger')\n",
    "        load_more_btn.click()\n",
    "        time.sleep(10)\n",
    "        \n",
    "        while True:\n",
    "            new_height = scroll_down(5)\n",
    "            if new_height == last_height:\n",
    "                new_height = scroll_down(5)\n",
    "                if new_height == last_height:\n",
    "                    break\n",
    "            last_height = new_height\n",
    "\n",
    "        driver.execute_script(\"window.scrollTo(0, document.documentElement.scrollHeight);\")\n",
    "        \n",
    "        comment = driver.find_element_by_css_selector(f'#main > section > div.lister > div.lister-list > div:nth-child({i}) > div.review-container > div.lister-item-content').text\n",
    "        comment = comment.replace('\\n', ' ')\n",
    "        comments.append(comment)\n",
    "comments"
   ]
  },
  {
   "cell_type": "code",
   "execution_count": null,
   "id": "092fab02",
   "metadata": {},
   "outputs": [],
   "source": []
  },
  {
   "cell_type": "code",
   "execution_count": null,
   "id": "324d41b3",
   "metadata": {},
   "outputs": [],
   "source": []
  },
  {
   "cell_type": "code",
   "execution_count": 34,
   "id": "72b136b0",
   "metadata": {},
   "outputs": [
    {
     "data": {
      "text/plain": [
       "['9/10 Never dull...but do NOT let your kids watch this one! MartinHafer5 November 2021 Warning: Spoilers 73 out of 157 found this helpful. Was this review helpful? Sign in to vote. Permalink',\n",
       " '10/10 A new TV classic Leofwine_draca9 October 2021 Warning: Spoilers 231 out of 500 found this helpful. Was this review helpful? Sign in to vote. Permalink',\n",
       " \"9/10 Just a game kosmasp10 October 2021 Well multiple games actually, but even that you may find ... not accurate. Now you may not look the same way at some games that are being played here. But with all the buzz right now, you've probably heard quite a bit about that already.  If like you got into this without any spoilers (congrats by the way), then the show will be able to surprise quite a few times. Be it by the players themselves but also and even more so by how the story evolves. It may not end exactly how I would imagine ... but that can also be seen as a good thing I reckon.  As a fan of Korean cinema I was curious about this anyway. And it did not dissapoint - at all. The acting is amazing, the effects are great ... and the story is as mature as it can get. With enough social commentary and critique to make this a great watch! 148 out of 289 found this helpful. Was this review helpful? Sign in to vote. Permalink\",\n",
       " '8/10 \"We\\'re in hell here. There\\'s no rules in hell!\" - Deok-su, Episode #7 classicsoncall2 November 2021 Warning: Spoilers 25 out of 78 found this helpful. Was this review helpful? Sign in to vote. Permalink',\n",
       " '10/10 trust me, you have never seen anything like this lee_eisenberg1 November 2021 Even if you\\'ve seen \"The Hunger Games\" and \"Money Heist\", \"Squid Game\" (called \"Ojing-eo Geim\" in the original Korean) is still going to shock you. The sad thing is that so many people have no other choice but to risk everything like the characters here.  Definitely see it. You\\'ll never look at any children\\'s game the same way again after seeing it. 72 out of 201 found this helpful. Was this review helpful? Sign in to vote. Permalink',\n",
       " '10/10 Games to die for Tweekums11 October 2021 Warning: Spoilers 90 out of 245 found this helpful. Was this review helpful? Sign in to vote. Permalink',\n",
       " \"6/10 This is What Everybody's Been Meming About? view_and_review11 December 2021 Warning: Spoilers 66 out of 110 found this helpful. Was this review helpful? Sign in to vote. Permalink\",\n",
       " \"8/10 Violent funny atypical K drama phd_travel6 November 2021 Exciting show that keeps you watching. The Korean part is the emotional connection with the characters and their financial problems and how they have family obligations. The violence although comically exaggerated is unusual for a K drama. Good acting from LSJ and PHS veteran actors. Striking set design gives it a visually glossy look. Whatever makes international audiences watch K dramas is good. This isn't a typical K drama and far from one of the best. But it's a swift watch. 15 out of 55 found this helpful. Was this review helpful? Sign in to vote. Permalink\",\n",
       " \"5/10 if you think this is good, PLEASE watch the korean movie Oldboy FeastMode9 October 2021 I went into this show knowing absolutely nothing about it other than being a korean series. And yet i found it annoyingly predictable with almost nothing surprising me. Maybe i've just seen too many movies, but i've seen this all before. And i think what a lot of ppl like about this show is the norm in korean cinema. But most casuals have never watched a korean movie (if so, you're missing out, only thing that comes close to hollywood-level quality)  i mentioned it in my title, but if you loved this series and are shocked by my low rating, please please please watch oldboy (not the american remake). It's superior in every way imaginable and an amazing movie  overall, this was an okay show. I was really into it at first, but it seemed to decline after the halfway point. By the end, i was feeling minimal impact from the big moments, and during the last episode i just wanted it to finish. There's a lot of good here, but many negatives as well. See below.  Things that bothered me (without spoilers)  -a scene that could have been really cool but they full-on strobe lighted it so you couldn't see anything  -a ridiculously annoying female character (the older one), biggest offense is the eye-rolling bathroom scene  -some really questionable decisions, some to the point of angering me  -characters asking moronic questions or being outraged at things that they can't possibly still be outraged about    -the laughable acting and dialogue for all of the english scenes. This is the norm for asian cinema, but that doesn't mean it can always be forgiven. It was AWFUL. Can't they hire any experienced american actor? Or an english dialogue correspondent?  -i like when a movie is the right kind of weird, the kind that makes it feel unique and adds character. But a lot of the weird in this show seemed to be there solely for the sake of being weird.  -there were SO many times where i knew exactly what was going to happen next.\",\n",
       " \"9/10 Unhinged but thrilling runaway hit show wellthatswhatithinkanyway23 December 2021 STAR RATING: ***** Saturday Night **** Friday Night *** Friday Morning ** Sunday Night * Monday Morning  SEASON ONE  Seong (Lee Jung-Jae) is down on his luck, addicted to gambling and in debt to vicious loan sharks, not to mention eager to reacquaint with his estranged son. At his lowest ebb, he finds himself approached by a man at a train station, who offers to take care of his financial woes if he agrees to participate in a secretive ritual. With no choice but to accept, Seong finds himself plunged, with a group of others, in to a nightmarish, garish battle for survival.  Korean cinema has enjoyed some recent worldwide acclaim, with cult hits such as Parasite and The Platform leaving quite an impression. But this year it's enjoyed this again in a TV format, with this mind-bending visceral blow from writer/director Hwang Dong-hyuk. It's sheer outrageousness and visual astonishment is enough to leave an impression, and even sparked some copycat behaviour around the world, with reports of people reenacting some of the 'games' portrayed.  It comes together like a fusion, of the wildest excesses of the most fantastical Phillip K Dick novel, and the most blood thirsty Quentin Tarantino film, with a fairly standard format of a group of strangers being thrown together to fight for survival, which has been portrayed in films such as Cube. Like the aforementioned films, there seems to be some societal commentary thrown in, such as increasing poverty and the gap between rich and poor, as well as the depths 'reality TV' could sink to in the name of 'entertainment.'  It's definitely been the runaway hit of 2021, that's left quite an impression, and gained quite a cult status, that, in spite of its excessive gruesomeness, can safely be said to be earned. ****\",\n",
       " '8/10 8 Edvis-19974 October 2021 I loved it but three last episodes killed the vibe. 424 out of 649 found this helpful. Was this review helpful? Sign in to vote. Permalink',\n",
       " '8/10 Overrated, But Good jack_o_hasanov_imdb11 November 2021 This series is so overrated. But let\\'s be fair, it\\'s a very good series. I\\'ve watched a few movies about it. The script was good. Acting was sometimes exaggerated, maybe it\\'s a cultural thing. I did not like the final part. Overall very well done. In the final episode, my expectation was different. But the final scene was disappointing. Season 2 will come, I hope it doesn\\'t fall into \"La Casa De Papel\" status. 45 out of 68 found this helpful. Was this review helpful? Sign in to vote. Permalink',\n",
       " '7/10 It started off strong but ended disoriented Irishchatter8 October 2021 Warning: Spoilers 537 out of 663 found this helpful. Was this review helpful? Sign in to vote. Permalink',\n",
       " \"10/10 This show is so good. Everymoviegetsa1024 March 2022 It's good because it was on Netflix and everyone who sawed this show also liked it.  A show that exceeded expectations because it was so good and had wicked scenes.  Oh man. I loved this show very much. The acting and premise was a Glorified excellence.  Please watch squid game. Haha. Seriously. It's so good because it was on Netflix. 0 out of 2 found this helpful. Was this review helpful? Sign in to vote. Permalink\",\n",
       " '8/10 Good concept and solid excecution 8512225 November 2021 Greetings from Lithuania.  I liked and enjoyed \"Squid Game\" (2021) series for its interesting and simple concept which at the end of the day was very solidly executed. Acting was very solid, as well as directing and writing. The whole concept felt fresh and kinda original and it was easy to get attached and watch the whole show. Ending was also pretty interesting, although a bit predictable.  Overall, i enjoyed \"Squid Game\". It felt fresh and was involving as well being believable throughout. I believe that given its popularity it will get more seasons. As long as they will be solid as the first one, I\\'m in for this show. 12 out of 32 found this helpful. Was this review helpful? Sign in to vote. Permalink',\n",
       " \"8/10 The storyline for this series is very unique and was a creative spin on similar films like Battle Royale, Hunger Games and Lord of the Flies kevin_robbins5 November 2021 Squid Games (2021) is a series my wife and I recently watched on Netflix. The storyline follows people who choose to play child's games competitively for money that could change their life forever. Shortly after they arrive they discover the price for losing is rather expensive. This series was directed by Hwang Dong-hyuk (The Fortes and My Father) and stars Lee Jung-jae (New World), Park Hae-soo (Time to Hunt), Oh Yeong-su (Spring, Summer, Fall, Winter...and Spring) and Jung Hoyeon (100%: Beat). The storyline for this series is very unique and was a creative spin on similar films like Battle Royale, Hunger Games and Lord of the Flies. The concepts were well thought-out and paced and the characters are very well developed. The storyline and characters evolve well throughout the series. The games and settings are amazing and they used great colors and cinematography to present each scenario. The costumes and props were obviously outstanding as well. My one complaint was the main character who was painfully annoying throughout the series and completely ruined the end for me. The gore and kill scenes in this are unique and very well done. I'd score this series a 7.5/10 and would consider it an absolutely must see.\",\n",
       " \"10/10 I'm a few months late but worth the hype UniqueParticle21 December 2021 I recently got into Netflix again I take breaks and use other services glad I finally decided to watch this whacky series! Probably get hate for this but I watch the English dub version cause I don't do well with subtitles still lovable show. The music, flow of everything, absurdity, and story is all excellent! 12 out of 27 found this helpful. Was this review helpful? Sign in to vote. Permalink\",\n",
       " \"5/10 Quit Game Tweetienator11 November 2021 Squid Game is no show that hit me that much - I watched a couple of episodes and was rather bored, I would prefer to watch some real MMA fights - more excitement and action going on, and less drama. The first episode dragged on and on and on till the first real action. The second episode was a rather redundant detour of the story. The idea or concept is also nothing really new: Stephen King aka Richard Bachman, The Long Walk and The Running Man, or movies like Battle Royal, The Hunger Games, Death Race, Circle, Cube or 13 and many more precede Squid Game. So what's left? Some nice ideas (the games), some solid action and a sip of blood, but with too much uninteresting filler time. Summa summarum: Not that bad but rather just another hype, just my few cents of course. 58 out of 134 found this helpful. Was this review helpful? Sign in to vote. Permalink\",\n",
       " '7/10 Good enough pennyelenabooks30 October 2021 Korean Drama \"Squid Game\" is bloody, but, somehow, hopeful.  It has a nice cinematography, with, sometimes, overused gore, but well executed action scenes. The background stories, moreover, set the drama apart from the rest of the survival game series, and it gives a more \\'Korean Drama\\' feel to it. It makes the story more believable, as it helps the viewer relate to the characters and understand them. It also gave a more humane twist to the story and made it more dramatic, when the settings and the costumes were more on the childish side.  Finally, the performances were great by everyone in the cast.  So, overall, 7 out of 10. 24 out of 38 found this helpful. Was this review helpful? Sign in to vote. Permalink',\n",
       " \"8/10 🦑🎮 Not close to perfect, but still amazing. Top_Dawg_Critic3 October 2021 Creator and director Dong-hyuk Hwang certainly had one crazy vision, and successfully made a series of it. Sure it has plot and technical issues, and I wasn't fond of the ending - I re-wrote it in my head much better, but for a somewhat newb Korean filmmaker, this was epic.  The visuals, props and sets were outstanding. The cinematography and score amazing. The casting and performances by all, except the VIP's, was excellent. Props to Neflix once again, and thanks for dubbing this one right this time. Hoping for a S2 real soon. A well deserved 8/10 from me. 119 out of 228 found this helpful. Was this review helpful? Sign in to vote. Permalink\",\n",
       " '8/10 Human Nature? vivianla13 November 2021 Warning: Spoilers 5 out of 18 found this helpful. Was this review helpful? Sign in to vote. Permalink',\n",
       " '10/10 Perfect, Beautiful and lovely... RosanaBotafogo12 October 2021 Warning: Spoilers 57 out of 205 found this helpful. Was this review helpful? Sign in to vote. Permalink',\n",
       " '8/10 Violent, implausible but oddly engrossing jamesrupert20147 November 2021 A group of desperate people agree to play high-stakes children\\'s games, and then find how high the stakes really are. The show is an odd mix of nonsense and excellence. The premise is interesting but the ultimate revelation about the games and their founder is simplistic and does little explain the provenance of the vast, complex yet secret game venue. There are some hints at secondary plotlines but they go nowhere and the introduction of wealthy gamblers is a heavy-handed social-commentary that adds nothing to the story (and leads to the weakest moments in the series). The acting and characters are excellent and the dark shifts in their motives and ethics as more and more players are \\'eliminated\\' is expertly done (episode 6, \"Gganbu\" is a highlight). The imagery, especially the creepy geometric enforcers, the \\'play grounds\\' and the multicolored stairs that look like something from an Escher etching is memorable (and may be what really sets \\'Squid Game\\' apart from similar \\'deadly games\\' series). The film is quite violent, both in a cartoony way and in a more visceral \\'realistic\\' and disturbing way. Not to everyone\\'s\\' taste but entertaining and compelling.',\n",
       " '9/10 [8.6] I love it for the old man cjonesas14 March 2022 Warning: Spoilers 0 out of 0 found this helpful. Was this review helpful? Sign in to vote. Permalink',\n",
       " '8/10 Addicting billcr1214 October 2021 A great concept here as desperate people with financial problems compete for a huge sum of money(apparently $38 mil American). They must play games against one another with a severe penalty for losing. Like the Sopranos, with some of the episodes better than others. Number six was the best for me. The sets are Wes Anderson like, with bright colors filling the screen. The lead actors are excellent and the scripts very well written. The violence is over the top with no comic relief in sight. The final episode was a bit of a letdown but overall I was highly entertained. 48 out of 102 found this helpful. Was this review helpful? Sign in to vote. Permalink']"
      ]
     },
     "execution_count": 34,
     "metadata": {},
     "output_type": "execute_result"
    }
   ],
   "source": [
    "driver.get(imdb)\n",
    "driver.maximize_window()\n",
    "time.sleep(5)\n",
    "\n",
    "comments = []\n",
    "for i in range(1, 26):\n",
    "    comment = driver.find_element_by_css_selector(f'#main > section > div.lister > div.lister-list > div:nth-child({i}) > div.review-container > div.lister-item-content').text\n",
    "    comment = comment.replace('\\n', ' ')\n",
    "    comments.append(comment)\n",
    "comments"
   ]
  },
  {
   "cell_type": "code",
   "execution_count": null,
   "id": "02b59ac7",
   "metadata": {},
   "outputs": [],
   "source": []
  },
  {
   "cell_type": "code",
   "execution_count": 58,
   "id": "c0c756d3",
   "metadata": {},
   "outputs": [],
   "source": [
    "from selenium import webdriver\n",
    "from selenium.webdriver.common.keys import Keys\n",
    "from bs4 import BeautifulSoup\n",
    "import time\n",
    "from datetime import datetime\n",
    "import re"
   ]
  },
  {
   "cell_type": "code",
   "execution_count": 61,
   "id": "b107fa3c",
   "metadata": {},
   "outputs": [
    {
     "name": "stdout",
     "output_type": "stream",
     "text": [
      "더이상 \"Load More\" 없음 Message: element not interactable\n",
      "  (Session info: chrome=99.0.4844.84)\n",
      "Stacktrace:\n",
      "0   chromedriver                        0x000000010105b370 chromedriver + 4420464\n",
      "1   chromedriver                        0x0000000100ff2940 chromedriver + 3991872\n",
      "2   chromedriver                        0x0000000100c52418 chromedriver + 189464\n",
      "3   chromedriver                        0x0000000100c7be18 chromedriver + 359960\n",
      "4   chromedriver                        0x0000000100c7b5a8 chromedriver + 357800\n",
      "5   chromedriver                        0x0000000100c773bc chromedriver + 340924\n",
      "6   chromedriver                        0x0000000100ca9bfc chromedriver + 547836\n",
      "7   chromedriver                        0x0000000100c76248 chromedriver + 336456\n",
      "8   chromedriver                        0x000000010101f548 chromedriver + 4175176\n",
      "9   chromedriver                        0x000000010103595c chromedriver + 4266332\n",
      "10  chromedriver                        0x000000010103a660 chromedriver + 4286048\n",
      "11  chromedriver                        0x0000000101036124 chromedriver + 4268324\n",
      "12  chromedriver                        0x000000010101553c chromedriver + 4134204\n",
      "13  chromedriver                        0x000000010104deb0 chromedriver + 4366000\n",
      "14  chromedriver                        0x000000010104e014 chromedriver + 4366356\n",
      "15  chromedriver                        0x0000000101061a6c chromedriver + 4446828\n",
      "16  libsystem_pthread.dylib             0x000000019a76a26c _pthread_start + 148\n",
      "17  libsystem_pthread.dylib             0x000000019a76508c thread_start + 8\n",
      "\n",
      " 댓글 수집 \n"
     ]
    }
   ],
   "source": [
    "driver.get(imdb)\n",
    "driver.maximize_window()\n",
    "time.sleep(5)\n",
    "\n",
    "for k in range(comment_counts):    #Load More 끝날때까지 반복\n",
    "    try:\n",
    "        driver.find_element_by_class_name(\"ipl-load-more__button\").send_keys(Keys.ENTER)\n",
    "        time.sleep(3)\n",
    "    except Exception as ex:\n",
    "        print('더이상 \"Load More\" 없음', ex)\n",
    "        break\n",
    "\n",
    "print(\" 댓글 수집 \")\n",
    "try:\n",
    "    time.sleep(0.5)\n",
    "    soup= BeautifulSoup(driver.page_source)\n",
    "    time.sleep(1)\n",
    "\n",
    "    comment=[]\n",
    "    x= soup.find_all(\"div\", class_=\"content\")\n",
    "\n",
    "    for h in x:\n",
    "        try:\n",
    "            tmp= h.find_all(\"div\", class_=\"text show-more__control\")[0].text\n",
    "            comment.append(tmp)\n",
    "        except Exception as ex:\n",
    "            tmp= h.find_all(\"div\", class_=\"text show-more__control clickable\")[0].text\n",
    "            comment.append(tmp)\n",
    "\n",
    "    time.sleep(1)\n",
    "except Exception as ex:\n",
    "    re=['nothing']\n",
    "    print(\"댓글없음\")"
   ]
  },
  {
   "cell_type": "code",
   "execution_count": null,
   "id": "5b91df1d",
   "metadata": {},
   "outputs": [],
   "source": []
  },
  {
   "cell_type": "code",
   "execution_count": 64,
   "id": "9659fc60",
   "metadata": {},
   "outputs": [
    {
     "name": "stdout",
     "output_type": "stream",
     "text": [
      "https://www.imdb.com/title/tt10919420/reviews?ref_=tt_urv\n"
     ]
    },
    {
     "data": {
      "text/plain": [
       "'Unless you have been living under a rock, you probably don\\'t need me to give you this warning. \"Squid Game\" is one of the most incredibly violent things you can watch and it\\'s NOT something you want to let your kids see. And, if your mother or Father O\\'Reilly drop by, you also might want to think twice before watching this South Korean mini-series with them! You\\'ll see hundreds dies, heads explode and tons of blood....just don\\'t say I didn\\'t warn you!In many ways, the show is a lot like the Japanese movie \"Battle Royale\" or the \"Hunger Games\" films...but with one huge exception. Unless the unwilling participants in the other films, the folks in \"Squid Game\" know what they\\'re in for after the first round...and their deaths were because of their greed or situation in life.The film begins by showing you a bit of Seong Gi-hun\\'s life. He (Lee Jung-jae) is a loser in pretty much every way and his gambling addiction has destroyed his marriage. He\\'s deeply in debt to loan sharks who vow to kill him and you have a very hard time feeling sorry for the guy. He\\'s ruined his, his wife\\'s and his daughter\\'s lives.When one of his loan sharks catches up to him, you assume they\\'ll either beat Seong or kill him. Oddly, however, instead they have him sign a paper in blood....and in order to avoid being killed he signs it without hesitation. What he doesn\\'t realize is that by doing this, he\\'s agreed to enter one of the strangest gambling contests ever...if not the strangest.Seong arrives at the location the paper tells him to go to...but why, he isn\\'t sure. Soon a van pulls up and he enters...and is knocked out almost immediately. When he awakens, he\\'s with 455 other participants...who, at this point, have no idea what they\\'re in for with these strangely clad \\'hosts\\'. They are told they\\'re playing a game of Red Light/Green Light...and most of the folks think it\\'s all very childish. However, when the first one moves when it\\'s a red light, snipers kill him!!! Soon, they realize that they\\'d BETTER make it to the goal line before the allotted time or they\\'ll die...and die many of them do.After this \\'game\\', about 200 of them were killed. But here\\'s where it gets interesting. They are then allowed to vote as to whether to finish the game and go home or continue. By only one vote, they vote to go home. Episode two shows them at home...and it\\'s my favorite one of the shows in the series. At this point, most of the remaining players actually decide to return to the game, as many of them face death or prison if they quit the game. The final seven episodes are the continuation of the game...as well as showing the actions of a cop who manages to infiltrate the contest.Again, just to make things clear, this is a mega-violent show....even more so than the \"Fargo\" television series! But I kept watching despite this because the writing was simply exquisite and the characters in the game truly memorable...and in some cases, infamous. It also is exceptional because so much of it is hard to predict! Overall, a film that is different enough from \"Hunger Games\" and \"Battle Royale\" that it really works well. I found it so compelling, I watched the entire series in one evening....though I\\'d only planned on seeing and episode or two.By the way, if you care, the amount won in the contest is a bit more than $38,000,000 US dollars.Just finished up SQUID GAME, the Korean TV show that\\'s become a global smash hit on Netflix. It\\'s truly brilliant and even better than the similar Japanese show ALICE IN BORDERLAND! The show is centred around contestants competing in children\\'s games for a cash prize, but the twist is that they get killed if they lose. Shades of SAW and THE HUNGER GAMES here, but this is rivalled only by BATTLE ROYALE in terms of sheer quality. As usual for Korea, the writing, acting, and direction are all superb and the games themselves are hugely suspenseful, unlike anything I\\'ve seen before. Definitely horrifying enough both in premise and in terms of violent bloodshed to count as horror too.Well multiple games actually, but even that you may find ... not accurate. Now you may not look the same way at some games that are being played here. But with all the buzz right now, you\\'ve probably heard quite a bit about that already.If like you got into this without any spoilers (congrats by the way), then the show will be able to surprise quite a few times. Be it by the players themselves but also and even more so by how the story evolves. It may not end exactly how I would imagine ... but that can also be seen as a good thing I reckon.As a fan of Korean cinema I was curious about this anyway. And it did not dissapoint - at all. The acting is amazing, the effects are great ... and the story is as mature as it can get. With enough social commentary and critique to make this a great watch!Mixed feelings on this one. The glorification of violence in shows like this tend to be desensitizing and seem to acclimate those with criminal tendencies to head down a wrong path. Yet the challenge of the individual games create a paradox of situations in which the viewer is steered toward thinking that certain players will work together, only to find they are pitted against each other, as in the marble game. The horror of that game was brought forth when a married couple naively decided to work together, only to be faced with the grim reality that there could only be one survivor. These kinds of situations were prevalent throughout the series episodes, making it almost impossible to know who would survive at the final outcome. Through it all, I believed there was something noteworthy about the old man, player #1 (Hideo Kimura), who\\'s physical resemblance to an aged Korean Billy Crystal impinged on my brain every time I saw him (go back and see what I mean). Oddly, for such a large cast of characters, there weren\\'t any that I could really connect with in a meaningful way. Perhaps the closest was player #240, young Ji-yeong (Vivian Lu, incorrectly identified in the credits as Sae-Byeok), eliminated in play when partnered with player #67 Kang Sae-byeok (Jung Hoyeon). Tied for most despicable characters were player #101 Deok-su (Paul Nakauchi) and player #212 Han Mi-neo (Stephanie Komure), so it was appropriate that they should be eliminated together in the Glass Stepping Stones game. The ending here seemed a little superfluous considering all that went before, with the old man Il-nam wagering a final personal bet against Gi-hun (Greg Chun), player #456, and winner of the grand prize of 45.6 billion won. Doing the conversion, that came to just under thirty nine million dollars, and seeing all those big numbers can really disorient the viewer. When Gi-hun paid the flower vendor at the end of the story a ten thousand won note for a single bunch, it seemed awful generous, until doing the math revealed it was about eight dollars and fifty cents.Even if you\\'ve seen \"The Hunger Games\" and \"Money Heist\", \"Squid Game\" (called \"Ojing-eo Geim\" in the original Korean) is still going to shock you. The sad thing is that so many people have no other choice but to risk everything like the characters here.Definitely see it. You\\'ll never look at any children\\'s game the same way again after seeing it.This runaway hit from South Korea is centred on Seong Gi-hun, a heavily indebted man who is invited to take part in a series of six games that if he wins will solve his problems. He accepts gets into a vehicle where a gas puts him to sleep. When he wakes he is in a large facility with over four hundred other people; they are watched over by masked armed guards. Here they are told the rules, one of which states that if a majority of players want to quit the game will end but they will not get any prize money. As they play the first game, the school yard game \\'red light green light\\' they quickly learn that being eliminated is quite literal with losers being shot on the spot! Over the course of the series Gi-hun gets to know various other contestants; some he befriends and forms a team with for certain games; others are quickly identified as a danger. As the games continue more and more people are eliminated. While this is going on a policeman, looking for his missing brother, has found his way to the facility and, having taken the place of a guard, it trying to uncover what happened to his brother and who is behind the activities there.When I saw this recommended on Netflix I thought I\\'d watch it sometime but was in no great rush as I assumed to would be a Korean \\'Alice in Borderland\\'. After hearing talk of its popularity I thought perhaps I should watch it sooner. I\\'m glad that I did. I really liked \\'Alice in Borderland\\' but this is so much better, and while there are some similarities there are very important differences. There is a real sense of danger from the moment the first game begins; the fact that the contestants are playing playground games rather than deviously clever made up games make it feel strangely more real. The games are nicely varied; requiring skill, strength and sometimes just luck. The characters are the series real strength; they are varied and the way they are introduced means that the viewer grows to really care about them, especially as we learn certain players motivation for playing such a deadly game. The programme\\'s design is impressive; I especially liked the masked look of those running the game facility. The cast does a really fine job bringing their characters to life and the sets and effects are impressive. Overall I\\'d definitely recommend this... watch it before you learn too much about what happens.These comments are based on watching the series in Korean with English subtitles.Everybody has been talking about \"Squid Game.\" I\\'ve been seeing memes and costumes, and I was in the dark. I didn\\'t feel compelled to watch it at all because I generally don\\'t watch T. V. shows. I found that any show can make one or two good episodes, but then I begin disliking every character after a while. I broke down and watched \"Squid Game\" at the constant urging of my wife and to me it\\'s meh.To me it\\'s a Korean \"Hunger Games.\" I know that there are some big differences, but it\\'s still people playing deadly games for a prize. What has drawn in so many viewers is the fact that adults are playing kids games with deadly consequences. Of course, there has to be some exposition and character development in a nine episode show with each ep being an hour, but what we\\'re all there to see is who will survive and who will be eliminated. Like those who go to NASCAR races for the crash.Maybe it\\'s a victim of its own hype, but I wasn\\'t that impressed. There were some impressive moments such as the first game they played and the pure shock of it all, and maybe even episode six when choosing partners put them in a position many of them didn\\'t want to be in, but I will say that some of the \\'umph\\' is taken out of a show when you know that anyone without a significant speaking role is definitely dying before any main character. I\\'ve labeled this spoiler so I\\'ll say this: when you have a tug-o-war game with just about every main character on one team it\\'s a dead giveaway that they\\'re going to win no matter how weak and frail they look.So, to \"Squid Game\" I say \"Meh.\" Only one character was halfway exciting or fun to watch and the side stories didn\\'t interest me enough. If \"Squid Game\" were four episodes instead of nine I think it would\\'ve been a lot better. That being said, I\\'m committed now. I would like to see what happens in season two.Exciting show that keeps you watching. The Korean part is the emotional connection with the characters and their financial problems and how they have family obligations. The violence although comically exaggerated is unusual for a K drama. Good acting from LSJ and PHS veteran actors. Striking set design gives it a visually glossy look. Whatever makes international audiences watch K dramas is good. This isn\\'t a typical K drama and far from one of the best. But it\\'s a swift watch.I went into this show knowing absolutely nothing about it other than being a korean series. And yet i found it annoyingly predictable with almost nothing surprising me. Maybe i\\'ve just seen too many movies, but i\\'ve seen this all before. And i think what a lot of ppl like about this show is the norm in korean cinema. But most casuals have never watched a korean movie (if so, you\\'re missing out, only thing that comes close to hollywood-level quality)i mentioned it in my title, but if you loved this series and are shocked by my low rating, please please please watch oldboy (not the american remake). It\\'s superior in every way imaginable and an amazing movieoverall, this was an okay show. I was really into it at first, but it seemed to decline after the halfway point. By the end, i was feeling minimal impact from the big moments, and during the last episode i just wanted it to finish. There\\'s a lot of good here, but many negatives as well. See below.Things that bothered me (without spoilers)-a scene that could have been really cool but they full-on strobe lighted it so you couldn\\'t see anything-a ridiculously annoying female character (the older one), biggest offense is the eye-rolling bathroom scene-some really questionable decisions, some to the point of angering me-characters asking moronic questions or being outraged at things that they can\\'t possibly still be outraged aboutthe games start out creative with skill, talent and strategy involved, but become random and filled with luck-the laughable acting and dialogue for all of the english scenes. This is the norm for asian cinema, but that doesn\\'t mean it can always be forgiven. It was AWFUL. Can\\'t they hire any experienced american actor? Or an english dialogue correspondent?-i like when a movie is the right kind of weird, the kind that makes it feel unique and adds character. But a lot of the weird in this show seemed to be there solely for the sake of being weird.-there were SO many times where i knew exactly what was going to happen next.STAR RATING: ***** Saturday Night **** Friday Night *** Friday Morning ** Sunday Night * Monday MorningSEASON ONESeong (Lee Jung-Jae) is down on his luck, addicted to gambling and in debt to vicious loan sharks, not to mention eager to reacquaint with his estranged son. At his lowest ebb, he finds himself approached by a man at a train station, who offers to take care of his financial woes if he agrees to participate in a secretive ritual. With no choice but to accept, Seong finds himself plunged, with a group of others, in to a nightmarish, garish battle for survival.Korean cinema has enjoyed some recent worldwide acclaim, with cult hits such as Parasite and The Platform leaving quite an impression. But this year it\\'s enjoyed this again in a TV format, with this mind-bending visceral blow from writer/director Hwang Dong-hyuk. It\\'s sheer outrageousness and visual astonishment is enough to leave an impression, and even sparked some copycat behaviour around the world, with reports of people reenacting some of the \\'games\\' portrayed.It comes together like a fusion, of the wildest excesses of the most fantastical Phillip K Dick novel, and the most blood thirsty Quentin Tarantino film, with a fairly standard format of a group of strangers being thrown together to fight for survival, which has been portrayed in films such as Cube. Like the aforementioned films, there seems to be some societal commentary thrown in, such as increasing poverty and the gap between rich and poor, as well as the depths \\'reality TV\\' could sink to in the name of \\'entertainment.\\'It\\'s definitely been the runaway hit of 2021, that\\'s left quite an impression, and gained quite a cult status, that, in spite of its excessive gruesomeness, can safely be said to be earned. ****I loved it but three last episodes killed the vibe.This series is so overrated. But let\\'s be fair, it\\'s a very good series. I\\'ve watched a few movies about it. The script was good. Acting was sometimes exaggerated, maybe it\\'s a cultural thing. I did not like the final part. Overall very well done. In the final episode, my expectation was different. But the final scene was disappointing. Season 2 will come, I hope it doesn\\'t fall into \"La Casa De Papel\" status.I honestly don\\'t know wtf the main character needed to go into the room where the old man was, dye his hair red and not attempting to board the plane. At the beginning I was having expectations that it would be thrillingly good which it was but the ending just didn\\'t do it for me chief....It\\'s good because it was on Netflix and everyone who sawed this show also liked it.A show that exceeded expectations because it was so good and had wicked scenes.Oh man. I loved this show very much. The acting and premise was a Glorified excellence.Please watch squid game. Haha. Seriously. It\\'s so good because it was on Netflix.Greetings from Lithuania.I liked and enjoyed \"Squid Game\" (2021) series for its interesting and simple concept which at the end of the day was very solidly executed. Acting was very solid, as well as directing and writing. The whole concept felt fresh and kinda original and it was easy to get attached and watch the whole show. Ending was also pretty interesting, although a bit predictable.Overall, i enjoyed \"Squid Game\". It felt fresh and was involving as well being believable throughout. I believe that given its popularity it will get more seasons. As long as they will be solid as the first one, I\\'m in for this show.Squid Games (2021) is a series my wife and I recently watched on Netflix. The storyline follows people who choose to play child\\'s games competitively for money that could change their life forever. Shortly after they arrive they discover the price for losing is rather expensive. This series was directed by Hwang Dong-hyuk (The Fortes and My Father) and stars Lee Jung-jae (New World), Park Hae-soo (Time to Hunt), Oh Yeong-su (Spring, Summer, Fall, Winter...and Spring) and Jung Hoyeon (100%: Beat). The storyline for this series is very unique and was a creative spin on similar films like Battle Royale, Hunger Games and Lord of the Flies. The concepts were well thought-out and paced and the characters are very well developed. The storyline and characters evolve well throughout the series. The games and settings are amazing and they used great colors and cinematography to present each scenario. The costumes and props were obviously outstanding as well. My one complaint was the main character who was painfully annoying throughout the series and completely ruined the end for me. The gore and kill scenes in this are unique and very well done. I\\'d score this series a 7.5/10 and would consider it an absolutely must see.I recently got into Netflix again I take breaks and use other services glad I finally decided to watch this whacky series! Probably get hate for this but I watch the English dub version cause I don\\'t do well with subtitles still lovable show. The music, flow of everything, absurdity, and story is all excellent!Squid Game is no show that hit me that much - I watched a couple of episodes and was rather bored, I would prefer to watch some real MMA fights - more excitement and action going on, and less drama. The first episode dragged on and on and on till the first real action. The second episode was a rather redundant detour of the story. The idea or concept is also nothing really new: Stephen King aka Richard Bachman, The Long Walk and The Running Man, or movies like Battle Royal, The Hunger Games, Death Race, Circle, Cube or 13 and many more precede Squid Game. So what\\'s left? Some nice ideas (the games), some solid action and a sip of blood, but with too much uninteresting filler time. Summa summarum: Not that bad but rather just another hype, just my few cents of course.Korean Drama \"Squid Game\" is bloody, but, somehow, hopeful.It has a nice cinematography, with, sometimes, overused gore, but well executed action scenes. The background stories, moreover, set the drama apart from the rest of the survival game series, and it gives a more \\'Korean Drama\\' feel to it. It makes the story more believable, as it helps the viewer relate to the characters and understand them. It also gave a more humane twist to the story and made it more dramatic, when the settings and the costumes were more on the childish side.Finally, the performances were great by everyone in the cast.So, overall, 7 out of 10.Creator and director Dong-hyuk Hwang certainly had one crazy vision, and successfully made a series of it. Sure it has plot and technical issues, and I wasn\\'t fond of the ending - I re-wrote it in my head much better, but for a somewhat newb Korean filmmaker, this was epic.The visuals, props and sets were outstanding. The cinematography and score amazing. The casting and performances by all, except the VIP\\'s, was excellent. Props to Neflix once again, and thanks for dubbing this one right this time. Hoping for a S2 real soon. A well deserved 8/10 from me.This is another version of The Hunger Games. Contestants are killed without knowing there is a death result from Green Light, Red Light. The majority choose to leave so they go. However a lot come back for the second contest, willingly.The contestants play against each other in a survival of the fittest contest. They play Korean children games, killing each other.If your \"friend\" was going against you for money, would they kill you?Ep1 wonderful drama that we love, protagonist of dubious character, we didn\\'t even root for him, but I loved his rambunctious behavior, Chips 1, 2, 3, bizarre in the way we love... T2 more drama than blood, we love it too... Ep4 Loving the jokes of macabre and bloodthirsty children, catching love for the characters, and hatred for the villains...\\nEp 6 the construction of the characters was perfect, the games give a sarcastic and sadistic tone, however the dialogues are the high point, with that black humor that the Koreans do so well, the conversations between the characters are intelligent, with a quick script, everything very captivating and mesmerizing, the players and the undercover cop, showing the other side of the game... Lovely..\\nEp 6 And the marbles game brought me a few tears, this was the game where the most innocent characters die, like the Pakistani who just wanted money to help his family who stayed there, his naivety and trust cost him his life , and the girl who killed the father who will kill her mother, and who has just got out of prison, and in the end gives up the game for her partner, perfect scenarios...\\nI finished Round 6, completely in love, I already loved Korean movies, it just came to reaffirm their competence, perfect, everything perfect, I loved the dialogues, super mesmerizing script, the perfect effects, everything great in this production, I even cried... Beautiful, beautiful... But I saw many truths there, in real life it would be more or less like this...A group of desperate people agree to play high-stakes children\\'s games, and then find how high the stakes really are. The show is an odd mix of nonsense and excellence. The premise is interesting but the ultimate revelation about the games and their founder is simplistic and does little explain the provenance of the vast, complex yet secret game venue. There are some hints at secondary plotlines but they go nowhere and the introduction of wealthy gamblers is a heavy-handed social-commentary that adds nothing to the story (and leads to the weakest moments in the series). The acting and characters are excellent and the dark shifts in their motives and ethics as more and more players are \\'eliminated\\' is expertly done (episode 6, \"Gganbu\" is a highlight). The imagery, especially the creepy geometric enforcers, the \\'play grounds\\' and the multicolored stairs that look like something from an Escher etching is memorable (and may be what really sets \\'Squid Game\\' apart from similar \\'deadly games\\' series). The film is quite violent, both in a cartoony way and in a more visceral \\'realistic\\' and disturbing way. Not to everyone\\'s\\' taste but entertaining and compelling.A superbly and psychologically deep series that you watch, finish and ponder upon. Just loved the old man with his super charismatic aura and beautiful witty smile.The season\\'s ending is a little ambiguous and as some reviewers mentioned, I too, like it to finish as it is and not come back with a second season that wouldn\\'t do real justice to the S-Korean cinematic culture.They produce, they film and they finish. They do not come back repeatedly...A great concept here as desperate people with financial problems compete for a huge sum of money(apparently $38 mil American). They must play games against one another with a severe penalty for losing. Like the Sopranos, with some of the episodes better than others. Number six was the best for me. The sets are Wes Anderson like, with bright colors filling the screen. The lead actors are excellent and the scripts very well written. The violence is over the top with no comic relief in sight. The final episode was a bit of a letdown but overall I was highly entertained.'"
      ]
     },
     "execution_count": 64,
     "metadata": {},
     "output_type": "execute_result"
    }
   ],
   "source": [
    "from urllib.request import urlopen\n",
    "\n",
    "# 웹 페이지 불러오기\n",
    "url = 'https://www.imdb.com/title/tt10919420/reviews?ref_=tt_urv'\n",
    "print(url)\n",
    "webpage = urlopen(url)\n",
    "source = BeautifulSoup(webpage, 'html.parser', from_encoding='utf-8')\n",
    "\n",
    "review_list = source.findAll('div', {'class': 'imdb-user-review'})\n",
    "sum_review = ''\n",
    "\n",
    "# 각 리뷰마다...\n",
    "for review in review_list:\n",
    "    # 리뷰 내에서 태그, 클래스 이용해서 정보 뽑아내는 부분\n",
    "    list1 = []\n",
    "    score = review.find('span').get_text()\n",
    "    title = review.find('a').get_text().replace('\\n', '')\n",
    "    writer = review.find('span', {'class': 'display-name-link'}).get_text()\n",
    "    date = review.find('span', {'class': 'review-date'}).get_text()\n",
    "    content = review.find('div', {'class': 'text show-more__control'}).get_text()\n",
    "\n",
    "    # 엑셀 파일에 저장하기 위해 list에 각 정보를 추가\n",
    "\n",
    "    list1.append(score)\n",
    "    list1.append(title)\n",
    "    list1.append(writer)\n",
    "    list1.append(date)\n",
    "    list1.append(content)\n",
    "    sum_review = sum_review + content\n",
    "sum_review"
   ]
  },
  {
   "cell_type": "code",
   "execution_count": null,
   "id": "26764c7e",
   "metadata": {},
   "outputs": [],
   "source": []
  },
  {
   "cell_type": "code",
   "execution_count": 70,
   "id": "f377d456",
   "metadata": {},
   "outputs": [
    {
     "name": "stdout",
     "output_type": "stream",
     "text": [
      "get url comedy  진입 시작\n"
     ]
    },
    {
     "ename": "TimeoutException",
     "evalue": "Message: timeout: Timed out receiving message from renderer: 4.142\n  (Session info: chrome=99.0.4844.84)\nStacktrace:\n0   chromedriver                        0x00000001012cf370 chromedriver + 4420464\n1   chromedriver                        0x0000000101266940 chromedriver + 3991872\n2   chromedriver                        0x0000000100ec6548 chromedriver + 189768\n3   chromedriver                        0x0000000100eb38b8 chromedriver + 112824\n4   chromedriver                        0x0000000100eb28f8 chromedriver + 108792\n5   chromedriver                        0x0000000100eb2d94 chromedriver + 109972\n6   chromedriver                        0x0000000100ebf950 chromedriver + 162128\n7   chromedriver                        0x0000000100ecc940 chromedriver + 215360\n8   chromedriver                        0x0000000100eb3038 chromedriver + 110648\n9   chromedriver                        0x0000000100ecc6d4 chromedriver + 214740\n10  chromedriver                        0x0000000100f1df30 chromedriver + 548656\n11  chromedriver                        0x0000000100eea248 chromedriver + 336456\n12  chromedriver                        0x0000000101293548 chromedriver + 4175176\n13  chromedriver                        0x00000001012a995c chromedriver + 4266332\n14  chromedriver                        0x00000001012ae660 chromedriver + 4286048\n15  chromedriver                        0x00000001012aa124 chromedriver + 4268324\n16  chromedriver                        0x000000010128953c chromedriver + 4134204\n17  chromedriver                        0x00000001012c1eb0 chromedriver + 4366000\n18  chromedriver                        0x00000001012c2014 chromedriver + 4366356\n19  chromedriver                        0x00000001012d5a6c chromedriver + 4446828\n20  libsystem_pthread.dylib             0x000000019a76a26c _pthread_start + 148\n21  libsystem_pthread.dylib             0x000000019a76508c thread_start + 8\n",
     "output_type": "error",
     "traceback": [
      "\u001b[0;31m---------------------------------------------------------------------------\u001b[0m",
      "\u001b[0;31mTimeoutException\u001b[0m                          Traceback (most recent call last)",
      "\u001b[0;32m/var/folders/tz/2xhtx7px4kng48d7grkk8mwm0000gn/T/ipykernel_2660/471634096.py\u001b[0m in \u001b[0;36m<module>\u001b[0;34m\u001b[0m\n\u001b[1;32m     19\u001b[0m     \u001b[0mprint\u001b[0m\u001b[0;34m(\u001b[0m\u001b[0;34m\"get url\"\u001b[0m\u001b[0;34m,\u001b[0m\u001b[0mgenre\u001b[0m\u001b[0;34m[\u001b[0m\u001b[0mi\u001b[0m\u001b[0;34m]\u001b[0m\u001b[0;34m,\u001b[0m\u001b[0;34m\" 진입 시작\"\u001b[0m\u001b[0;34m)\u001b[0m\u001b[0;34m\u001b[0m\u001b[0;34m\u001b[0m\u001b[0m\n\u001b[1;32m     20\u001b[0m     \u001b[0mtime\u001b[0m\u001b[0;34m.\u001b[0m\u001b[0msleep\u001b[0m\u001b[0;34m(\u001b[0m\u001b[0;36m5\u001b[0m\u001b[0;34m)\u001b[0m\u001b[0;34m\u001b[0m\u001b[0;34m\u001b[0m\u001b[0m\n\u001b[0;32m---> 21\u001b[0;31m     \u001b[0mdriver\u001b[0m\u001b[0;34m.\u001b[0m\u001b[0mget\u001b[0m\u001b[0;34m(\u001b[0m\u001b[0murl\u001b[0m\u001b[0;34m)\u001b[0m\u001b[0;34m\u001b[0m\u001b[0;34m\u001b[0m\u001b[0m\n\u001b[0m\u001b[1;32m     22\u001b[0m     \u001b[0mprint\u001b[0m\u001b[0;34m(\u001b[0m\u001b[0;34m\"get url\"\u001b[0m\u001b[0;34m,\u001b[0m\u001b[0mgenre\u001b[0m\u001b[0;34m[\u001b[0m\u001b[0mi\u001b[0m\u001b[0;34m]\u001b[0m\u001b[0;34m,\u001b[0m\u001b[0;34m\" 진입 완료\"\u001b[0m\u001b[0;34m)\u001b[0m\u001b[0;34m\u001b[0m\u001b[0;34m\u001b[0m\u001b[0m\n\u001b[1;32m     23\u001b[0m     \u001b[0mtime\u001b[0m\u001b[0;34m.\u001b[0m\u001b[0msleep\u001b[0m\u001b[0;34m(\u001b[0m\u001b[0;36m1\u001b[0m\u001b[0;34m)\u001b[0m\u001b[0;34m\u001b[0m\u001b[0;34m\u001b[0m\u001b[0m\n",
      "\u001b[0;32m~/opt/anaconda3/lib/python3.9/site-packages/selenium/webdriver/remote/webdriver.py\u001b[0m in \u001b[0;36mget\u001b[0;34m(self, url)\u001b[0m\n\u001b[1;32m    435\u001b[0m         \u001b[0mLoads\u001b[0m \u001b[0ma\u001b[0m \u001b[0mweb\u001b[0m \u001b[0mpage\u001b[0m \u001b[0;32min\u001b[0m \u001b[0mthe\u001b[0m \u001b[0mcurrent\u001b[0m \u001b[0mbrowser\u001b[0m \u001b[0msession\u001b[0m\u001b[0;34m.\u001b[0m\u001b[0;34m\u001b[0m\u001b[0;34m\u001b[0m\u001b[0m\n\u001b[1;32m    436\u001b[0m         \"\"\"\n\u001b[0;32m--> 437\u001b[0;31m         \u001b[0mself\u001b[0m\u001b[0;34m.\u001b[0m\u001b[0mexecute\u001b[0m\u001b[0;34m(\u001b[0m\u001b[0mCommand\u001b[0m\u001b[0;34m.\u001b[0m\u001b[0mGET\u001b[0m\u001b[0;34m,\u001b[0m \u001b[0;34m{\u001b[0m\u001b[0;34m'url'\u001b[0m\u001b[0;34m:\u001b[0m \u001b[0murl\u001b[0m\u001b[0;34m}\u001b[0m\u001b[0;34m)\u001b[0m\u001b[0;34m\u001b[0m\u001b[0;34m\u001b[0m\u001b[0m\n\u001b[0m\u001b[1;32m    438\u001b[0m \u001b[0;34m\u001b[0m\u001b[0m\n\u001b[1;32m    439\u001b[0m     \u001b[0;34m@\u001b[0m\u001b[0mproperty\u001b[0m\u001b[0;34m\u001b[0m\u001b[0;34m\u001b[0m\u001b[0m\n",
      "\u001b[0;32m~/opt/anaconda3/lib/python3.9/site-packages/selenium/webdriver/remote/webdriver.py\u001b[0m in \u001b[0;36mexecute\u001b[0;34m(self, driver_command, params)\u001b[0m\n\u001b[1;32m    423\u001b[0m         \u001b[0mresponse\u001b[0m \u001b[0;34m=\u001b[0m \u001b[0mself\u001b[0m\u001b[0;34m.\u001b[0m\u001b[0mcommand_executor\u001b[0m\u001b[0;34m.\u001b[0m\u001b[0mexecute\u001b[0m\u001b[0;34m(\u001b[0m\u001b[0mdriver_command\u001b[0m\u001b[0;34m,\u001b[0m \u001b[0mparams\u001b[0m\u001b[0;34m)\u001b[0m\u001b[0;34m\u001b[0m\u001b[0;34m\u001b[0m\u001b[0m\n\u001b[1;32m    424\u001b[0m         \u001b[0;32mif\u001b[0m \u001b[0mresponse\u001b[0m\u001b[0;34m:\u001b[0m\u001b[0;34m\u001b[0m\u001b[0;34m\u001b[0m\u001b[0m\n\u001b[0;32m--> 425\u001b[0;31m             \u001b[0mself\u001b[0m\u001b[0;34m.\u001b[0m\u001b[0merror_handler\u001b[0m\u001b[0;34m.\u001b[0m\u001b[0mcheck_response\u001b[0m\u001b[0;34m(\u001b[0m\u001b[0mresponse\u001b[0m\u001b[0;34m)\u001b[0m\u001b[0;34m\u001b[0m\u001b[0;34m\u001b[0m\u001b[0m\n\u001b[0m\u001b[1;32m    426\u001b[0m             response['value'] = self._unwrap_value(\n\u001b[1;32m    427\u001b[0m                 response.get('value', None))\n",
      "\u001b[0;32m~/opt/anaconda3/lib/python3.9/site-packages/selenium/webdriver/remote/errorhandler.py\u001b[0m in \u001b[0;36mcheck_response\u001b[0;34m(self, response)\u001b[0m\n\u001b[1;32m    245\u001b[0m                 \u001b[0malert_text\u001b[0m \u001b[0;34m=\u001b[0m \u001b[0mvalue\u001b[0m\u001b[0;34m[\u001b[0m\u001b[0;34m'alert'\u001b[0m\u001b[0;34m]\u001b[0m\u001b[0;34m.\u001b[0m\u001b[0mget\u001b[0m\u001b[0;34m(\u001b[0m\u001b[0;34m'text'\u001b[0m\u001b[0;34m)\u001b[0m\u001b[0;34m\u001b[0m\u001b[0;34m\u001b[0m\u001b[0m\n\u001b[1;32m    246\u001b[0m             \u001b[0;32mraise\u001b[0m \u001b[0mexception_class\u001b[0m\u001b[0;34m(\u001b[0m\u001b[0mmessage\u001b[0m\u001b[0;34m,\u001b[0m \u001b[0mscreen\u001b[0m\u001b[0;34m,\u001b[0m \u001b[0mstacktrace\u001b[0m\u001b[0;34m,\u001b[0m \u001b[0malert_text\u001b[0m\u001b[0;34m)\u001b[0m  \u001b[0;31m# type: ignore[call-arg]  # mypy is not smart enough here\u001b[0m\u001b[0;34m\u001b[0m\u001b[0;34m\u001b[0m\u001b[0m\n\u001b[0;32m--> 247\u001b[0;31m         \u001b[0;32mraise\u001b[0m \u001b[0mexception_class\u001b[0m\u001b[0;34m(\u001b[0m\u001b[0mmessage\u001b[0m\u001b[0;34m,\u001b[0m \u001b[0mscreen\u001b[0m\u001b[0;34m,\u001b[0m \u001b[0mstacktrace\u001b[0m\u001b[0;34m)\u001b[0m\u001b[0;34m\u001b[0m\u001b[0;34m\u001b[0m\u001b[0m\n\u001b[0m\u001b[1;32m    248\u001b[0m \u001b[0;34m\u001b[0m\u001b[0m\n\u001b[1;32m    249\u001b[0m     \u001b[0;32mdef\u001b[0m \u001b[0m_value_or_default\u001b[0m\u001b[0;34m(\u001b[0m\u001b[0mself\u001b[0m\u001b[0;34m,\u001b[0m \u001b[0mobj\u001b[0m\u001b[0;34m:\u001b[0m \u001b[0mMapping\u001b[0m\u001b[0;34m[\u001b[0m\u001b[0m_KT\u001b[0m\u001b[0;34m,\u001b[0m \u001b[0m_VT\u001b[0m\u001b[0;34m]\u001b[0m\u001b[0;34m,\u001b[0m \u001b[0mkey\u001b[0m\u001b[0;34m:\u001b[0m \u001b[0m_KT\u001b[0m\u001b[0;34m,\u001b[0m \u001b[0mdefault\u001b[0m\u001b[0;34m:\u001b[0m \u001b[0m_VT\u001b[0m\u001b[0;34m)\u001b[0m \u001b[0;34m->\u001b[0m \u001b[0m_VT\u001b[0m\u001b[0;34m:\u001b[0m\u001b[0;34m\u001b[0m\u001b[0;34m\u001b[0m\u001b[0m\n",
      "\u001b[0;31mTimeoutException\u001b[0m: Message: timeout: Timed out receiving message from renderer: 4.142\n  (Session info: chrome=99.0.4844.84)\nStacktrace:\n0   chromedriver                        0x00000001012cf370 chromedriver + 4420464\n1   chromedriver                        0x0000000101266940 chromedriver + 3991872\n2   chromedriver                        0x0000000100ec6548 chromedriver + 189768\n3   chromedriver                        0x0000000100eb38b8 chromedriver + 112824\n4   chromedriver                        0x0000000100eb28f8 chromedriver + 108792\n5   chromedriver                        0x0000000100eb2d94 chromedriver + 109972\n6   chromedriver                        0x0000000100ebf950 chromedriver + 162128\n7   chromedriver                        0x0000000100ecc940 chromedriver + 215360\n8   chromedriver                        0x0000000100eb3038 chromedriver + 110648\n9   chromedriver                        0x0000000100ecc6d4 chromedriver + 214740\n10  chromedriver                        0x0000000100f1df30 chromedriver + 548656\n11  chromedriver                        0x0000000100eea248 chromedriver + 336456\n12  chromedriver                        0x0000000101293548 chromedriver + 4175176\n13  chromedriver                        0x00000001012a995c chromedriver + 4266332\n14  chromedriver                        0x00000001012ae660 chromedriver + 4286048\n15  chromedriver                        0x00000001012aa124 chromedriver + 4268324\n16  chromedriver                        0x000000010128953c chromedriver + 4134204\n17  chromedriver                        0x00000001012c1eb0 chromedriver + 4366000\n18  chromedriver                        0x00000001012c2014 chromedriver + 4366356\n19  chromedriver                        0x00000001012d5a6c chromedriver + 4446828\n20  libsystem_pthread.dylib             0x000000019a76a26c _pthread_start + 148\n21  libsystem_pthread.dylib             0x000000019a76508c thread_start + 8\n"
     ]
    }
   ],
   "source": [
    "genre=['comedy','science']#,'horror','romance','action']\n",
    "comedy_url=\"https://www.imdb.com/search/title/?genres=comedy&explore=title_type,genres&pf_rd_m=A2FGELUUNOQJNL&pf_rd_p=3396781f-d87f-4fac-8694-c56ce6f490fe&pf_rd_r=GQ23RTBMHB7DF95TKKS2&pf_rd_s=center-1&pf_rd_t=15051&pf_rd_i=genre&ref_=ft_gnr_pr1_i_1\"\n",
    "science_url=\"https://www.imdb.com/search/title/?genres=sci-fi&explore=title_type,genres&pf_rd_m=A2FGELUUNOQJNL&pf_rd_p=3396781f-d87f-4fac-8694-c56ce6f490fe&pf_rd_r=GQ23RTBMHB7DF95TKKS2&pf_rd_s=center-1&pf_rd_t=15051&pf_rd_i=genre&ref_=ft_gnr_pr1_i_2\"\n",
    "horror_url=\"https://www.imdb.com/search/title/?genres=horror&explore=title_type,genres&pf_rd_m=A2FGELUUNOQJNL&pf_rd_p=3396781f-d87f-4fac-8694-c56ce6f490fe&pf_rd_r=GQ23RTBMHB7DF95TKKS2&pf_rd_s=center-1&pf_rd_t=15051&pf_rd_i=genre&ref_=ft_gnr_pr1_i_3\"\n",
    "romance_url=\"https://www.imdb.com/search/title/?genres=romance&explore=title_type,genres&pf_rd_m=A2FGELUUNOQJNL&pf_rd_p=e0da8c98-35e8-4ebd-8e86-e7d39c92730c&pf_rd_r=GQ23RTBMHB7DF95TKKS2&pf_rd_s=center-2&pf_rd_t=15051&pf_rd_i=genre&ref_=ft_gnr_pr2_i_1\"\n",
    "action_url=\"https://www.imdb.com/search/title/?genres=romance&explore=title_type,genres&pf_rd_m=A2FGELUUNOQJNL&pf_rd_p=e0da8c98-35e8-4ebd-8e86-e7d39c92730c&pf_rd_r=GQ23RTBMHB7DF95TKKS2&pf_rd_s=center-2&pf_rd_t=15051&pf_rd_i=genre&ref_=ft_gnr_pr2_i_1\"\n",
    "\n",
    "WHOLE_URL=[comedy_url,science_url]#,horror_url,romance_url,action_url]\n",
    "\n",
    "top50 =dict() #장르별 탑 50 영화 버튼(하이퍼링크) 수집\n",
    "review=dict() #영화 댓글\n",
    "\n",
    "driver = webdriver.Chrome('/opt/homebrew/Caskroom/chromedriver/99.0.4844.51/chromedriver')\n",
    "driver.set_page_load_timeout(\"5\")\n",
    "\n",
    "for i in range(len(WHOLE_URL)):\n",
    "    url=WHOLE_URL[i]\n",
    "    time.sleep(5)\n",
    "    print(\"get url\",genre[i],\" 진입 시작\")\n",
    "    time.sleep(5)\n",
    "    driver.get(url)\n",
    "    print(\"get url\",genre[i],\" 진입 완료\")\n",
    "    time.sleep(1)\n",
    "    time.sleep(1)\n",
    "\n",
    "    driver.find_elements_by_class_name(\"lister list detail sub-list\")\n",
    "    soup= BeautifulSoup(driver.page_source)\n",
    "\n",
    "    h1= soup.find_all(\"div\", class_=\"lister-list\")[0]\n",
    "    h2= h1.find_all(\"div\", class_=\"lister-item mode-advanced\")\n",
    "    h3 =[i.find_all(\"h3\", class_=\"lister-item-header\") for i in h2]\n",
    "    h4= [i[0] for i in h3]\n",
    "    h5= [i.a['href'] for i in h4]\n",
    "\n",
    "    top50[genre[i]]=h5"
   ]
  },
  {
   "cell_type": "code",
   "execution_count": null,
   "id": "c59b08cd",
   "metadata": {},
   "outputs": [],
   "source": []
  }
 ],
 "metadata": {
  "kernelspec": {
   "display_name": "Python 3 (ipykernel)",
   "language": "python",
   "name": "python3"
  },
  "language_info": {
   "codemirror_mode": {
    "name": "ipython",
    "version": 3
   },
   "file_extension": ".py",
   "mimetype": "text/x-python",
   "name": "python",
   "nbconvert_exporter": "python",
   "pygments_lexer": "ipython3",
   "version": "3.9.7"
  }
 },
 "nbformat": 4,
 "nbformat_minor": 5
}
