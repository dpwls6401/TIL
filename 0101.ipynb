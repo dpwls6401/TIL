{
 "cells": [
  {
   "cell_type": "code",
   "execution_count": 9,
   "id": "6fb6be9a",
   "metadata": {},
   "outputs": [
    {
     "name": "stdout",
     "output_type": "stream",
     "text": [
      "이름을 입력해주세요:홍길동\n",
      "나이를 입력해주세요:27\n",
      "연락처를 입력해주세요:010-1111-1111\n"
     ]
    }
   ],
   "source": [
    "#p.78 딕셔너리 실습01-1\n",
    "name=input(\"이름을 입력해주세요:\")\n",
    "age=input(\"나이를 입력해주세요:\")\n",
    "phone=input(\"연락처를 입력해주세요:\")\n",
    "\n",
    "my_dict={'이름':name,'나이':age,'연락처':phone}"
   ]
  },
  {
   "cell_type": "code",
   "execution_count": 10,
   "id": "498ceba6",
   "metadata": {},
   "outputs": [
    {
     "data": {
      "text/plain": [
       "{'이름': '홍길동', '나이': '27', '연락처': '010-1111-1111'}"
      ]
     },
     "execution_count": 10,
     "metadata": {},
     "output_type": "execute_result"
    }
   ],
   "source": [
    "my_dict"
   ]
  },
  {
   "cell_type": "code",
   "execution_count": 11,
   "id": "32eead98",
   "metadata": {},
   "outputs": [
    {
     "name": "stdout",
     "output_type": "stream",
     "text": [
      "이름을 입력해주세요:홍길동\n",
      "나이를 입력해주세요:27\n",
      "연락처를 입력해주세요:010-1111-1111\n",
      "이름을 입력해주세요:이몽룡\n",
      "나이를 입력해주세요:30\n",
      "연락처를 입력해주세요:010-2222-2222\n"
     ]
    }
   ],
   "source": [
    "#p.78 딕셔너리 실습01-2\n",
    "total_list=[]\n",
    "name=input(\"이름을 입력해주세요:\")\n",
    "age=input(\"나이를 입력해주세요:\")\n",
    "phone=input(\"연락처를 입력해주세요:\")\n",
    "total_list.append({'이름':name,'나이':age,'연락처':phone})\n",
    "\n",
    "name=input(\"이름을 입력해주세요:\")\n",
    "age=input(\"나이를 입력해주세요:\")\n",
    "phone=input(\"연락처를 입력해주세요:\")\n",
    "total_list.append({'이름':name,'나이':age,'연락처':phone})"
   ]
  },
  {
   "cell_type": "code",
   "execution_count": 12,
   "id": "ad8bde08",
   "metadata": {},
   "outputs": [
    {
     "data": {
      "text/plain": [
       "[{'이름': '홍길동', '나이': '27', '연락처': '010-1111-1111'},\n",
       " {'이름': '이몽룡', '나이': '30', '연락처': '010-2222-2222'}]"
      ]
     },
     "execution_count": 12,
     "metadata": {},
     "output_type": "execute_result"
    }
   ],
   "source": [
    "total_list"
   ]
  },
  {
   "cell_type": "code",
   "execution_count": 16,
   "id": "8619ebea",
   "metadata": {},
   "outputs": [
    {
     "name": "stdout",
     "output_type": "stream",
     "text": [
      "첫번째 점수를 입력해주세요:50\n",
      "두번째 점수를 입력해주세요:60\n",
      "세번째 점수를 입력해주세요:90\n",
      "불합격\n"
     ]
    }
   ],
   "source": [
    "#p.93 if 실습01\n",
    "score1=int(input(\"첫번째 점수를 입력해주세요:\"))\n",
    "score2=int(input(\"두번째 점수를 입력해주세요:\"))\n",
    "score3=int(input(\"세번째 점수를 입력해주세요:\"))\n",
    "\n",
    "if score1<0 or score1>100 or score2<0 or score2>100 or score3<0 or score3>100:\n",
    "    print(\"잘못된 점수가 입력되었습니다\")\n",
    "else:\n",
    "    if score1>65 and score2>65 and score3>65:\n",
    "        print(\"합격\")\n",
    "    else:\n",
    "        print(\"불합격\")"
   ]
  },
  {
   "cell_type": "code",
   "execution_count": 20,
   "id": "668e70a4",
   "metadata": {},
   "outputs": [
    {
     "name": "stdout",
     "output_type": "stream",
     "text": [
      "등록할 카테고리를 선택해주세요(과일,채소):과일\n",
      "등록할 과일를 입력해주세요:바나나\n",
      "['사과', '오렌지', '바나나']\n"
     ]
    }
   ],
   "source": [
    "#p.93 if 실습02\n",
    "fruit=['사과','오렌지']\n",
    "vegetable=['당근','호박']\n",
    "\n",
    "category=input(\"등록할 카테고리를 선택해주세요(과일,채소):\")\n",
    "item=input(f\"등록할 {category}를 입력해주세요:\")\n",
    "if category=='과일':\n",
    "    if item in fruit:\n",
    "        print(f\"이미 등록된 {category}입니다.\")\n",
    "    else:\n",
    "        fruit.append(item)\n",
    "        print(fruit)\n",
    "elif category=='채소':\n",
    "    if item in vegetable:\n",
    "        print(f\"이미 등록된 {category}입니다.\")\n",
    "    else:\n",
    "        vegetable.append(item)\n",
    "else:\n",
    "    print(\"존재하지 않는 카테고리입니다.\")"
   ]
  },
  {
   "cell_type": "code",
   "execution_count": 10,
   "id": "8662cfd9",
   "metadata": {},
   "outputs": [],
   "source": [
    "#p.99 for 실습01-1\n",
    "x=[3,6,9,20,-7,5]\n",
    "result=[]\n",
    "for i in x:\n",
    "    result.append(i*10)"
   ]
  },
  {
   "cell_type": "code",
   "execution_count": 11,
   "id": "f6e93967",
   "metadata": {},
   "outputs": [
    {
     "data": {
      "text/plain": [
       "[30, 60, 90, 200, -70, 50]"
      ]
     },
     "execution_count": 11,
     "metadata": {},
     "output_type": "execute_result"
    }
   ],
   "source": [
    "result"
   ]
  },
  {
   "cell_type": "code",
   "execution_count": 12,
   "id": "b4d02e65",
   "metadata": {},
   "outputs": [],
   "source": [
    "#p.99 for 실습01-2\n",
    "y={\"math\":70,\"science\":80,\"english\":20}\n",
    "for i in y:\n",
    "    y[i]+=10"
   ]
  },
  {
   "cell_type": "code",
   "execution_count": 13,
   "id": "5bfb3de9",
   "metadata": {},
   "outputs": [
    {
     "data": {
      "text/plain": [
       "{'math': 80, 'science': 90, 'english': 30}"
      ]
     },
     "execution_count": 13,
     "metadata": {},
     "output_type": "execute_result"
    }
   ],
   "source": [
    "y"
   ]
  },
  {
   "cell_type": "code",
   "execution_count": 16,
   "id": "a97c2a14",
   "metadata": {},
   "outputs": [
    {
     "name": "stdout",
     "output_type": "stream",
     "text": [
      "몇단을 출력하시겠습니까?3\n",
      "3 * 1 = 3\n",
      "3 * 2 = 6\n",
      "3 * 3 = 9\n",
      "3 * 4 = 12\n",
      "3 * 5 = 15\n",
      "3 * 6 = 18\n",
      "3 * 7 = 21\n",
      "3 * 8 = 24\n",
      "3 * 9 = 27\n"
     ]
    }
   ],
   "source": [
    "#p.99 for 실습01-3\n",
    "user=int(input(\"몇단을 출력하시겠습니까?\"))\n",
    "for i in range(1,10):\n",
    "    print(f\"{user} * {i} = {user*i}\")"
   ]
  },
  {
   "cell_type": "code",
   "execution_count": 17,
   "id": "4f83f382",
   "metadata": {},
   "outputs": [],
   "source": [
    "#p.100 for 실습02-1\n",
    "words=[\"school\",\"game\",\"piano\",\"science\",\"hotel\",\"mountain\"]\n",
    "result=[]\n",
    "for i in words:\n",
    "    if len(i)>=6:\n",
    "        result.append(i)"
   ]
  },
  {
   "cell_type": "code",
   "execution_count": 18,
   "id": "4755ddeb",
   "metadata": {},
   "outputs": [
    {
     "data": {
      "text/plain": [
       "['school', 'science', 'mountain']"
      ]
     },
     "execution_count": 18,
     "metadata": {},
     "output_type": "execute_result"
    }
   ],
   "source": [
    "result"
   ]
  },
  {
   "cell_type": "code",
   "execution_count": 19,
   "id": "e8aff738",
   "metadata": {},
   "outputs": [
    {
     "name": "stdout",
     "output_type": "stream",
     "text": [
      "1 * 1 = 1\n",
      "1 * 2 = 2\n",
      "1 * 3 = 3\n",
      "1 * 4 = 4\n",
      "1 * 5 = 5\n",
      "1 * 6 = 6\n",
      "1 * 7 = 7\n",
      "1 * 8 = 8\n",
      "1 * 9 = 9\n",
      "2 * 1 = 2\n",
      "2 * 2 = 4\n",
      "2 * 3 = 6\n",
      "2 * 4 = 8\n",
      "2 * 5 = 10\n",
      "2 * 6 = 12\n",
      "2 * 7 = 14\n",
      "2 * 8 = 16\n",
      "2 * 9 = 18\n",
      "3 * 1 = 3\n",
      "3 * 2 = 6\n",
      "3 * 3 = 9\n",
      "3 * 4 = 12\n",
      "3 * 5 = 15\n",
      "3 * 6 = 18\n",
      "3 * 7 = 21\n",
      "3 * 8 = 24\n",
      "3 * 9 = 27\n",
      "4 * 1 = 4\n",
      "4 * 2 = 8\n",
      "4 * 3 = 12\n",
      "4 * 4 = 16\n",
      "4 * 5 = 20\n",
      "4 * 6 = 24\n",
      "4 * 7 = 28\n",
      "4 * 8 = 32\n",
      "4 * 9 = 36\n",
      "5 * 1 = 5\n",
      "5 * 2 = 10\n",
      "5 * 3 = 15\n",
      "5 * 4 = 20\n",
      "5 * 5 = 25\n",
      "5 * 6 = 30\n",
      "5 * 7 = 35\n",
      "5 * 8 = 40\n",
      "5 * 9 = 45\n",
      "6 * 1 = 6\n",
      "6 * 2 = 12\n",
      "6 * 3 = 18\n",
      "6 * 4 = 24\n",
      "6 * 5 = 30\n",
      "6 * 6 = 36\n",
      "6 * 7 = 42\n",
      "6 * 8 = 48\n",
      "6 * 9 = 54\n",
      "7 * 1 = 7\n",
      "7 * 2 = 14\n",
      "7 * 3 = 21\n",
      "7 * 4 = 28\n",
      "7 * 5 = 35\n",
      "7 * 6 = 42\n",
      "7 * 7 = 49\n",
      "7 * 8 = 56\n",
      "7 * 9 = 63\n",
      "8 * 1 = 8\n",
      "8 * 2 = 16\n",
      "8 * 3 = 24\n",
      "8 * 4 = 32\n",
      "8 * 5 = 40\n",
      "8 * 6 = 48\n",
      "8 * 7 = 56\n",
      "8 * 8 = 64\n",
      "8 * 9 = 72\n",
      "9 * 1 = 9\n",
      "9 * 2 = 18\n",
      "9 * 3 = 27\n",
      "9 * 4 = 36\n",
      "9 * 5 = 45\n",
      "9 * 6 = 54\n",
      "9 * 7 = 63\n",
      "9 * 8 = 72\n",
      "9 * 9 = 81\n"
     ]
    }
   ],
   "source": [
    "#p.100 for 실습02-2\n",
    "for i in range(1,10):\n",
    "    for j in range(1,10):\n",
    "        print(f\"{i} * {j} = {i*j}\")"
   ]
  },
  {
   "cell_type": "code",
   "execution_count": 20,
   "id": "2f05e7e1",
   "metadata": {},
   "outputs": [
    {
     "name": "stdout",
     "output_type": "stream",
     "text": [
      "[3, 6, 9, -7, 5, 20]\n",
      "[3, 6, -7, 5, 9, 20]\n",
      "[3, -7, 5, 6, 9, 20]\n",
      "[-7, 3, 5, 6, 9, 20]\n",
      "[-7, 3, 5, 6, 9, 20]\n"
     ]
    }
   ],
   "source": [
    "#p.100 for 실습03-1\n",
    "lis=[3,6,9,20,-7,5]\n",
    "for i in range(len(lis)-1):\n",
    "    for j in range(len(lis)-i-1):\n",
    "        if lis[j]>lis[j+1]:\n",
    "            lis[j],lis[j+1]=lis[j+1],lis[j]\n",
    "    print(lis)"
   ]
  },
  {
   "cell_type": "code",
   "execution_count": 25,
   "id": "849c5b9d",
   "metadata": {},
   "outputs": [
    {
     "name": "stdout",
     "output_type": "stream",
     "text": [
      "1\n",
      "2\n",
      "3의 배수\n",
      "4\n",
      "5의 배수\n",
      "3의 배수\n",
      "7\n",
      "8\n",
      "3의 배수\n",
      "5의 배수\n",
      "11\n",
      "3의 배수\n",
      "13\n",
      "14\n",
      "3과 5의 공배수\n",
      "16\n",
      "17\n",
      "3의 배수\n",
      "19\n",
      "5의 배수\n",
      "3의 배수\n",
      "22\n",
      "23\n",
      "3의 배수\n",
      "5의 배수\n",
      "26\n",
      "3의 배수\n",
      "28\n",
      "29\n",
      "3과 5의 공배수\n",
      "31\n",
      "32\n",
      "3의 배수\n",
      "34\n",
      "5의 배수\n",
      "3의 배수\n",
      "37\n",
      "38\n",
      "3의 배수\n",
      "5의 배수\n",
      "41\n",
      "3의 배수\n",
      "43\n",
      "44\n",
      "3과 5의 공배수\n",
      "46\n",
      "47\n",
      "3의 배수\n",
      "49\n",
      "5의 배수\n",
      "3의 배수\n",
      "52\n",
      "53\n",
      "3의 배수\n",
      "5의 배수\n",
      "56\n",
      "3의 배수\n",
      "58\n",
      "59\n",
      "3과 5의 공배수\n",
      "61\n",
      "62\n",
      "3의 배수\n",
      "64\n",
      "5의 배수\n",
      "3의 배수\n",
      "67\n",
      "68\n",
      "3의 배수\n",
      "5의 배수\n",
      "71\n",
      "3의 배수\n",
      "73\n",
      "74\n",
      "3과 5의 공배수\n",
      "76\n",
      "77\n",
      "3의 배수\n",
      "79\n",
      "5의 배수\n",
      "3의 배수\n",
      "82\n",
      "83\n",
      "3의 배수\n",
      "5의 배수\n",
      "86\n",
      "3의 배수\n",
      "88\n",
      "89\n",
      "3과 5의 공배수\n",
      "91\n",
      "92\n",
      "3의 배수\n",
      "94\n",
      "5의 배수\n",
      "3의 배수\n",
      "97\n",
      "98\n",
      "3의 배수\n",
      "5의 배수\n"
     ]
    }
   ],
   "source": [
    "#p.100 for 실습03-2\n",
    "for num in range(1,101):\n",
    "    if num%3==0 and num%5==0:\n",
    "        print(\"3과 5의 공배수\")\n",
    "    else:\n",
    "        if num%3==0:\n",
    "            print(\"3의 배수\")\n",
    "        elif num%5==0:\n",
    "            print(\"5의 배수\")\n",
    "        else:\n",
    "            print(num)"
   ]
  },
  {
   "cell_type": "code",
   "execution_count": 28,
   "id": "cb585aae",
   "metadata": {},
   "outputs": [
    {
     "name": "stdout",
     "output_type": "stream",
     "text": [
      "값을 입력해주세요:30\n",
      "값을 입력해주세요:20\n",
      "값을 입력해주세요:50\n",
      "값을 입력해주세요:0\n",
      "합계는? 100\n"
     ]
    }
   ],
   "source": [
    "#p.105 while 실습01\n",
    "user=1\n",
    "total=0\n",
    "while user!=0:\n",
    "    user=int(input(\"값을 입력해주세요:\"))\n",
    "    total+=user\n",
    "print(\"합계는?\",total)"
   ]
  },
  {
   "cell_type": "code",
   "execution_count": 3,
   "id": "42f8f761",
   "metadata": {},
   "outputs": [
    {
     "name": "stdout",
     "output_type": "stream",
     "text": [
      "가위(1), 바위(2), 보(3)를 입력해주세요:3\n",
      "유저:보, 컴퓨터:보\n",
      "가위(1), 바위(2), 보(3)를 입력해주세요:2\n",
      "유저:바위, 컴퓨터:가위\n",
      "가위(1), 바위(2), 보(3)를 입력해주세요:1\n",
      "유저:가위, 컴퓨터:바위\n",
      "가위(1), 바위(2), 보(3)를 입력해주세요:4\n",
      "게임종료(전체:3, 승리:1)\n"
     ]
    }
   ],
   "source": [
    "#p.106 while 실습02_가위바위보 게임\n",
    "import random\n",
    "user=0\n",
    "total_count=0\n",
    "win_count=0\n",
    "rsp=[\"가위\",\"바위\",\"보\"]\n",
    "\n",
    "while user!=4:\n",
    "    user=int(input(\"가위(1), 바위(2), 보(3)를 입력해주세요:\"))\n",
    "    computer=random.randint(1,3)\n",
    "    \n",
    "    if user not in [1,2,3]:\n",
    "        break\n",
    "    print(f\"유저:{rsp[user-1]}, 컴퓨터:{rsp[computer-1]}\")\n",
    "    \n",
    "    if (user==1 and computer==3) or \\\n",
    "    (user==2 and computer==1) or \\\n",
    "    (user==3 and computer==2):\n",
    "        win_count+=1\n",
    "    \n",
    "    total_count+=1\n",
    "print(f\"게임종료(전체:{total_count}, 승리:{win_count})\")"
   ]
  },
  {
   "cell_type": "code",
   "execution_count": 5,
   "id": "6d83d742",
   "metadata": {},
   "outputs": [
    {
     "name": "stdout",
     "output_type": "stream",
     "text": [
      "가위(1), 바위(2), 보(3)를 입력해주세요:3\n",
      "유저:보,컴퓨터:보\n",
      "가위(1), 바위(2), 보(3)를 입력해주세요:2\n",
      "유저:바위,컴퓨터:바위\n",
      "가위(1), 바위(2), 보(3)를 입력해주세요:1\n",
      "유저:가위,컴퓨터:가위\n",
      "가위(1), 바위(2), 보(3)를 입력해주세요:2\n",
      "유저:바위,컴퓨터:가위\n",
      "가위(1), 바위(2), 보(3)를 입력해주세요:4\n",
      "게임종료 (전체:4, 승리:1)\n"
     ]
    }
   ],
   "source": [
    "import random\n",
    "user=0\n",
    "total_count=0\n",
    "win_count=0\n",
    "rsp=[\"가위\",\"바위\",\"보\"]\n",
    "\n",
    "while user!=4:\n",
    "    user=int(input(\"가위(1), 바위(2), 보(3)를 입력해주세요:\"))\n",
    "    computer=random.randint(1,3)\n",
    "    \n",
    "    if user not in [1,2,3]:\n",
    "        break\n",
    "    print(f\"유저:{rsp[user-1]},컴퓨터:{rsp[computer-1]}\")\n",
    "    \n",
    "    if (user==1 and computer==3) or (user==2 and computer==1) or (user==3 and computer==2):\n",
    "        win_count+=1\n",
    "    total_count+=1\n",
    "print(f\"게임종료 (전체:{total_count}, 승리:{win_count})\")"
   ]
  },
  {
   "cell_type": "code",
   "execution_count": 9,
   "id": "9471d870",
   "metadata": {},
   "outputs": [
    {
     "name": "stdout",
     "output_type": "stream",
     "text": [
      "숫자를 입력하세요:20\n",
      "0\n",
      "1\n",
      "2\n",
      "3\n",
      "4\n",
      "5\n",
      "6\n",
      "7\n",
      "8\n",
      "9\n",
      "10\n",
      "11\n",
      "12\n",
      "13\n",
      "14\n",
      "15\n",
      "16\n",
      "17\n",
      "18\n",
      "19\n",
      "20\n"
     ]
    }
   ],
   "source": [
    "#p.112 break 실습1-1\n",
    "user=int(input(\"숫자를 입력하세요:\"))\n",
    "cnt=0\n",
    "while True:\n",
    "    if cnt==user+1:\n",
    "        break\n",
    "    print(cnt)\n",
    "    cnt+=1"
   ]
  },
  {
   "cell_type": "code",
   "execution_count": 18,
   "id": "1d976fd2",
   "metadata": {},
   "outputs": [
    {
     "name": "stdout",
     "output_type": "stream",
     "text": [
      "숫자를 입력하세요:20\n",
      "0\n",
      "2\n",
      "4\n",
      "6\n",
      "8\n",
      "10\n",
      "12\n",
      "14\n",
      "16\n",
      "18\n",
      "20\n"
     ]
    }
   ],
   "source": [
    "#p.112 break 실습1-2\n",
    "user=int(input(\"숫자를 입력하세요:\"))\n",
    "i=0\n",
    "for i in range(user+1):\n",
    "    if i%2==1:\n",
    "        continue\n",
    "    print(i)"
   ]
  },
  {
   "cell_type": "code",
   "execution_count": 20,
   "id": "3229334e",
   "metadata": {},
   "outputs": [],
   "source": [
    "#p.122 list compre 실습01-1\n",
    "word=[\"school\",\"game\",\"piano\",\"science\",\"hotel\",\"mountain\"]\n",
    "result=[i for i in word if len(i)>=6]"
   ]
  },
  {
   "cell_type": "code",
   "execution_count": 21,
   "id": "50276e9f",
   "metadata": {},
   "outputs": [
    {
     "data": {
      "text/plain": [
       "['school', 'science', 'mountain']"
      ]
     },
     "execution_count": 21,
     "metadata": {},
     "output_type": "execute_result"
    }
   ],
   "source": [
    "result"
   ]
  },
  {
   "cell_type": "code",
   "execution_count": 22,
   "id": "6fa06b9b",
   "metadata": {},
   "outputs": [
    {
     "data": {
      "text/plain": [
       "[6, 4, 5, 7, 5, 8]"
      ]
     },
     "execution_count": 22,
     "metadata": {},
     "output_type": "execute_result"
    }
   ],
   "source": [
    "#p.122 list compre 실습01-2\n",
    "word=[\"school\",\"game\",\"piano\",\"science\",\"hotel\",\"mountain\"]\n",
    "result2=[len(i) for i in word]\n",
    "result2"
   ]
  },
  {
   "cell_type": "code",
   "execution_count": 27,
   "id": "ba0a3bb1",
   "metadata": {},
   "outputs": [
    {
     "data": {
      "text/plain": [
       "[[20, 60], [120, 200], [300, 420]]"
      ]
     },
     "execution_count": 27,
     "metadata": {},
     "output_type": "execute_result"
    }
   ],
   "source": [
    "#p.127 2차원list 실습02\n",
    "a=[[10,20],[30,40],[50,60]]\n",
    "b=[[2,3],[4,5],[6,7]]\n",
    "c=[]\n",
    "for i in range(len(a)):\n",
    "    temp=[]\n",
    "    for j in range(len(a[i])):\n",
    "        temp.append(a[i][j]*b[i][j])\n",
    "    c.append(temp)\n",
    "c"
   ]
  },
  {
   "cell_type": "code",
   "execution_count": 30,
   "id": "d3045b50",
   "metadata": {},
   "outputs": [
    {
     "data": {
      "text/plain": [
       "[[1, 2], [3, 4], [5, 6]]"
      ]
     },
     "execution_count": 30,
     "metadata": {},
     "output_type": "execute_result"
    }
   ],
   "source": [
    "#p.128 2차원list 실습03\n",
    "a=[]\n",
    "for i in range(3):\n",
    "    temp=[]\n",
    "    for j in range(2):\n",
    "        temp.append(i*2+j+1)\n",
    "    a.append(temp)\n",
    "a"
   ]
  },
  {
   "cell_type": "code",
   "execution_count": 40,
   "id": "106e83a4",
   "metadata": {},
   "outputs": [
    {
     "ename": "SyntaxError",
     "evalue": "f-string: unmatched '[' (Temp/ipykernel_17312/3475617827.py, line 17)",
     "output_type": "error",
     "traceback": [
      "\u001b[1;36m  File \u001b[1;32m\"C:\\Users\\Yejin\\AppData\\Local\\Temp/ipykernel_17312/3475617827.py\"\u001b[1;36m, line \u001b[1;32m17\u001b[0m\n\u001b[1;33m    print(f\"[{i}]이름: {student[\"이름\"]}, 수학: {student[\"수학\"]}, 과학: {student[\"과학\"]}, 영어: {student[\"영어\"]}\")\u001b[0m\n\u001b[1;37m                               ^\u001b[0m\n\u001b[1;31mSyntaxError\u001b[0m\u001b[1;31m:\u001b[0m f-string: unmatched '['\n"
     ]
    }
   ],
   "source": [
    "#p.137 파일입출력 실습02_성적관리\n",
    "import os\n",
    "import pickle\n",
    "\n",
    "file_name=\"students.pkl\"\n",
    "\n",
    "if os.path.exits(file_name):\n",
    "    with open(file_name,\"rb\") as file:\n",
    "        student_info=pickle.load(file)\n",
    "else:\n",
    "    student_info=[]\n",
    "    \n",
    "menu=-1\n",
    "\n",
    "def display_student():\n",
    "    for i, student in enumerate(student_info):\n",
    "        print(f\"[{i}]이름: {student[\"이름\"]}, 수학: {student[\"수학\"]}, 과학: {student[\"과학\"]}, 영어: {student[\"영어\"]}\")\n",
    "\n",
    "while menu!=0:\n",
    "    menu=input(\"메뉴를 선택해주세요 1-입력, 2-조회, 3-삭제, 0-종료\")\n",
    "    \n",
    "    if not menu.isdigit():\n",
    "        print(\"잘못된 입력입니다\")\n",
    "        continue\n",
    "    menu=int(menu)\n",
    "    if menu==1:\n",
    "        name=input(\"이름:\")\n",
    "        math=input(\"수학:\")\n",
    "        science=input(\"과학:\")\n",
    "        english=input(\"영어:\")\n",
    "        \n",
    "        student_info.append({\"이름\":name,\"수학\":math,\"과학\":science,\"영어\":english})\n",
    "    \n",
    "    elif menu==2:\n",
    "        display_student()\n",
    "        \n",
    "    elif menu==3:\n",
    "        display_student()\n",
    "        \n",
    "        del_num=int(input(\"삭제할 번호를 입력해주세요:\"))\n",
    "        student_info.pop(del_num)\n",
    "        print(\"삭제되었습니다\")\n",
    "    \n",
    "    elif menu==0:\n",
    "        print(\"종료되었습니다\")\n",
    "        with open(file_name,\"wb\") as file:\n",
    "            pickle.dump(student_info,file)\n",
    "            \n",
    "        break\n",
    "    else:\n",
    "        print(\"잘못된 입력입니다\")\n",
    "        continue"
   ]
  },
  {
   "cell_type": "code",
   "execution_count": 45,
   "id": "c0316298",
   "metadata": {},
   "outputs": [],
   "source": [
    "#p.143 함수 실습01\n",
    "def allindex(lst,num):\n",
    "    result=[]\n",
    "    for i,n in enumerate(lst):\n",
    "        if n==num:\n",
    "            result.append(i)\n",
    "    return result"
   ]
  },
  {
   "cell_type": "code",
   "execution_count": 46,
   "id": "f4671c56",
   "metadata": {},
   "outputs": [
    {
     "data": {
      "text/plain": [
       "[0, 3, 6]"
      ]
     },
     "execution_count": 46,
     "metadata": {},
     "output_type": "execute_result"
    }
   ],
   "source": [
    "lst=[1,2,3,1,4,2,1]\n",
    "allindex(lst,1)"
   ]
  },
  {
   "cell_type": "code",
   "execution_count": 47,
   "id": "89dc3c39",
   "metadata": {},
   "outputs": [],
   "source": [
    "def allindex(lst,num):\n",
    "    result=[i for i,n in enumerate(lst) if n==num]\n",
    "    return result"
   ]
  },
  {
   "cell_type": "code",
   "execution_count": 48,
   "id": "79accd8d",
   "metadata": {},
   "outputs": [
    {
     "data": {
      "text/plain": [
       "[0, 3, 6]"
      ]
     },
     "execution_count": 48,
     "metadata": {},
     "output_type": "execute_result"
    }
   ],
   "source": [
    "lst=[1,2,3,1,4,2,1]\n",
    "allindex(lst,1)"
   ]
  },
  {
   "cell_type": "code",
   "execution_count": 87,
   "id": "a2581f3b",
   "metadata": {},
   "outputs": [],
   "source": [
    "#p.147 함수 실습02\n",
    "def calc(operator,*args):\n",
    "    if operator==\"+\":\n",
    "        total=0\n",
    "        for num in args:\n",
    "            total+=num\n",
    "    elif operator==\"*\":\n",
    "        total=1\n",
    "        for num in args:\n",
    "            total*=num\n",
    "    return total"
   ]
  },
  {
   "cell_type": "code",
   "execution_count": 88,
   "id": "18fa7bf1",
   "metadata": {},
   "outputs": [
    {
     "data": {
      "text/plain": [
       "11"
      ]
     },
     "execution_count": 88,
     "metadata": {},
     "output_type": "execute_result"
    }
   ],
   "source": [
    "calc(\"+\",1,2,3,5)"
   ]
  },
  {
   "cell_type": "code",
   "execution_count": 89,
   "id": "1571e668",
   "metadata": {},
   "outputs": [
    {
     "data": {
      "text/plain": [
       "120"
      ]
     },
     "execution_count": 89,
     "metadata": {},
     "output_type": "execute_result"
    }
   ],
   "source": [
    "calc(\"*\",1,2,3,4,5)"
   ]
  },
  {
   "cell_type": "code",
   "execution_count": 64,
   "id": "35721df3",
   "metadata": {},
   "outputs": [
    {
     "data": {
      "text/plain": [
       "['불합격', '불합격', '대기', '불합격', '불합격', '불합격', '합격', '대기']"
      ]
     },
     "execution_count": 64,
     "metadata": {},
     "output_type": "execute_result"
    }
   ],
   "source": [
    "#p.157 함수 실습04-1\n",
    "numbers=[12,32,55,12,32,4,86,50]\n",
    "list(map(lambda x:\"합격\" if x>60 else \"대기\" if x>=50 else \"불합격\",numbers))"
   ]
  },
  {
   "cell_type": "code",
   "execution_count": 106,
   "id": "a1cea870",
   "metadata": {},
   "outputs": [
    {
     "data": {
      "text/plain": [
       "['memo.txt', '1.jpg', '32.png', '23.jpg', '223.jpg']"
      ]
     },
     "execution_count": 106,
     "metadata": {},
     "output_type": "execute_result"
    }
   ],
   "source": [
    "#p.157 함수 실습04-2 endswith\n",
    "files=[\"memo.txt\",\"1.jpg\",\"32.png\",\"23.jpg\",\"223.jpg\"]\n",
    "list(filter(lambda x:files.index(x) if x.endswith(\".jpg\") else '-1',files))"
   ]
  },
  {
   "cell_type": "code",
   "execution_count": 17,
   "id": "6a58c21f",
   "metadata": {},
   "outputs": [],
   "source": [
    "#p.166 class 실습01-1\n",
    "class test:\n",
    "    def __init__(self,korean,english,math):\n",
    "        self.korean=korean\n",
    "        self.english=english\n",
    "        self.math=math\n",
    "    \n",
    "    def total(self,korean,english,math):\n",
    "        korean=int(input(\"국어:\"))\n",
    "        english=int(input(\"영어:\"))\n",
    "        math=int(input(\"수학:\"))\n",
    "        return korean+english+math"
   ]
  },
  {
   "cell_type": "code",
   "execution_count": 18,
   "id": "20b22c03",
   "metadata": {},
   "outputs": [
    {
     "data": {
      "text/plain": [
       "<bound method test.total of <__main__.test object at 0x0000026B681136A0>>"
      ]
     },
     "execution_count": 18,
     "metadata": {},
     "output_type": "execute_result"
    }
   ],
   "source": [
    "yejin.total"
   ]
  },
  {
   "cell_type": "code",
   "execution_count": null,
   "id": "e2b4df8f",
   "metadata": {},
   "outputs": [],
   "source": []
  }
 ],
 "metadata": {
  "kernelspec": {
   "display_name": "Python 3 (ipykernel)",
   "language": "python",
   "name": "python3"
  },
  "language_info": {
   "codemirror_mode": {
    "name": "ipython",
    "version": 3
   },
   "file_extension": ".py",
   "mimetype": "text/x-python",
   "name": "python",
   "nbconvert_exporter": "python",
   "pygments_lexer": "ipython3",
   "version": "3.9.7"
  }
 },
 "nbformat": 4,
 "nbformat_minor": 5
}
