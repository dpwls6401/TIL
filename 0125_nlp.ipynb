{
 "cells": [
  {
   "cell_type": "code",
   "execution_count": 26,
   "id": "2cb81c6e",
   "metadata": {},
   "outputs": [],
   "source": [
    "#TDM 예제\n",
    "docs=[\"나는 양념 치킨을 좋아해 하지만 후라이드 치킨을 싫어해\",\n",
    "     \"나는 후라이드 치킨을 좋아해 하지만 양념 치킨을 좋아해\"]"
   ]
  },
  {
   "cell_type": "code",
   "execution_count": 1,
   "id": "e809325b",
   "metadata": {},
   "outputs": [],
   "source": [
    "import pandas as pd\n",
    "import numpy as np"
   ]
  },
  {
   "cell_type": "code",
   "execution_count": 27,
   "id": "1688e62d",
   "metadata": {},
   "outputs": [
    {
     "data": {
      "text/plain": [
       "[['나는', '양념', '치킨을', '좋아해', '하지만', '후라이드', '치킨을', '싫어해'],\n",
       " ['나는', '후라이드', '치킨을', '좋아해', '하지만', '양념', '치킨을', '좋아해']]"
      ]
     },
     "execution_count": 27,
     "metadata": {},
     "output_type": "execute_result"
    }
   ],
   "source": [
    "#tokenize\n",
    "doc_ls=[doc.split() for doc in docs]\n",
    "doc_ls"
   ]
  },
  {
   "cell_type": "code",
   "execution_count": 28,
   "id": "fb784941",
   "metadata": {},
   "outputs": [
    {
     "data": {
      "text/plain": [
       "{'나는': 0, '양념': 1, '치킨을': 2, '좋아해': 3, '하지만': 4, '후라이드': 5, '싫어해': 6}"
      ]
     },
     "execution_count": 28,
     "metadata": {},
     "output_type": "execute_result"
    }
   ],
   "source": [
    "word2id={}\n",
    "\n",
    "index=0\n",
    "for doc in doc_ls:\n",
    "    for token in doc:\n",
    "        if token not in word2id:\n",
    "            word2id[token]=index\n",
    "            index+=1\n",
    "word2id"
   ]
  },
  {
   "cell_type": "code",
   "execution_count": 29,
   "id": "b4063bfc",
   "metadata": {},
   "outputs": [
    {
     "data": {
      "text/plain": [
       "[[1, 1, 2, 1, 1, 1, 1], [1, 1, 2, 2, 1, 1, 0]]"
      ]
     },
     "execution_count": 29,
     "metadata": {},
     "output_type": "execute_result"
    }
   ],
   "source": [
    "BoW_ls=[]\n",
    "\n",
    "for doc in doc_ls:\n",
    "    bow=np.zeros(len(word2id),dtype=int)\n",
    "    for token in doc:\n",
    "        bow[word2id[token]]+=1\n",
    "    BoW_ls.append(bow.tolist())\n",
    "BoW_ls"
   ]
  },
  {
   "cell_type": "code",
   "execution_count": 30,
   "id": "4be9d1e3",
   "metadata": {},
   "outputs": [
    {
     "name": "stdout",
     "output_type": "stream",
     "text": [
      "문서 0 : 나는 양념 치킨을 좋아해 하지만 후라이드 치킨을 싫어해\n"
     ]
    },
    {
     "data": {
      "text/html": [
       "<div>\n",
       "<style scoped>\n",
       "    .dataframe tbody tr th:only-of-type {\n",
       "        vertical-align: middle;\n",
       "    }\n",
       "\n",
       "    .dataframe tbody tr th {\n",
       "        vertical-align: top;\n",
       "    }\n",
       "\n",
       "    .dataframe thead th {\n",
       "        text-align: right;\n",
       "    }\n",
       "</style>\n",
       "<table border=\"1\" class=\"dataframe\">\n",
       "  <thead>\n",
       "    <tr style=\"text-align: right;\">\n",
       "      <th></th>\n",
       "      <th>나는</th>\n",
       "      <th>양념</th>\n",
       "      <th>치킨을</th>\n",
       "      <th>좋아해</th>\n",
       "      <th>하지만</th>\n",
       "      <th>후라이드</th>\n",
       "      <th>싫어해</th>\n",
       "    </tr>\n",
       "  </thead>\n",
       "  <tbody>\n",
       "    <tr>\n",
       "      <th>0</th>\n",
       "      <td>1</td>\n",
       "      <td>1</td>\n",
       "      <td>2</td>\n",
       "      <td>1</td>\n",
       "      <td>1</td>\n",
       "      <td>1</td>\n",
       "      <td>1</td>\n",
       "    </tr>\n",
       "  </tbody>\n",
       "</table>\n",
       "</div>"
      ],
      "text/plain": [
       "   나는  양념  치킨을  좋아해  하지만  후라이드  싫어해\n",
       "0   1   1    2    1    1     1    1"
      ]
     },
     "metadata": {},
     "output_type": "display_data"
    },
    {
     "name": "stdout",
     "output_type": "stream",
     "text": [
      "\n",
      "\n",
      "문서 1 : 나는 후라이드 치킨을 좋아해 하지만 양념 치킨을 좋아해\n"
     ]
    },
    {
     "data": {
      "text/html": [
       "<div>\n",
       "<style scoped>\n",
       "    .dataframe tbody tr th:only-of-type {\n",
       "        vertical-align: middle;\n",
       "    }\n",
       "\n",
       "    .dataframe tbody tr th {\n",
       "        vertical-align: top;\n",
       "    }\n",
       "\n",
       "    .dataframe thead th {\n",
       "        text-align: right;\n",
       "    }\n",
       "</style>\n",
       "<table border=\"1\" class=\"dataframe\">\n",
       "  <thead>\n",
       "    <tr style=\"text-align: right;\">\n",
       "      <th></th>\n",
       "      <th>나는</th>\n",
       "      <th>양념</th>\n",
       "      <th>치킨을</th>\n",
       "      <th>좋아해</th>\n",
       "      <th>하지만</th>\n",
       "      <th>후라이드</th>\n",
       "      <th>싫어해</th>\n",
       "    </tr>\n",
       "  </thead>\n",
       "  <tbody>\n",
       "    <tr>\n",
       "      <th>0</th>\n",
       "      <td>1</td>\n",
       "      <td>1</td>\n",
       "      <td>2</td>\n",
       "      <td>2</td>\n",
       "      <td>1</td>\n",
       "      <td>1</td>\n",
       "      <td>0</td>\n",
       "    </tr>\n",
       "  </tbody>\n",
       "</table>\n",
       "</div>"
      ],
      "text/plain": [
       "   나는  양념  치킨을  좋아해  하지만  후라이드  싫어해\n",
       "0   1   1    2    2    1     1    0"
      ]
     },
     "metadata": {},
     "output_type": "display_data"
    },
    {
     "name": "stdout",
     "output_type": "stream",
     "text": [
      "\n",
      "\n"
     ]
    }
   ],
   "source": [
    "from IPython.core import display as ICD\n",
    "\n",
    "sorted_vocab=sorted((value,key) for key,value in word2id.items())\n",
    "vocab=[v[1] for v in sorted_vocab]\n",
    "for i in range(len(docs)):\n",
    "    print(\"문서 {} : {}\".format(i,docs[i]))\n",
    "    ICD.display(pd.DataFrame([BoW_ls[i]],columns=vocab))\n",
    "    print(\"\\n\")"
   ]
  },
  {
   "cell_type": "code",
   "execution_count": 31,
   "id": "8705e2aa",
   "metadata": {},
   "outputs": [
    {
     "data": {
      "text/plain": [
       "defaultdict(<function __main__.<lambda>()>,\n",
       "            {'나는': 0,\n",
       "             '양념': 1,\n",
       "             '치킨을': 2,\n",
       "             '좋아해': 3,\n",
       "             '하지만': 4,\n",
       "             '후라이드': 5,\n",
       "             '싫어해': 6})"
      ]
     },
     "execution_count": 31,
     "metadata": {},
     "output_type": "execute_result"
    }
   ],
   "source": [
    "#강사님 풀이_collections 사용\n",
    "docs=[\"나는 양념 치킨을 좋아해 하지만 후라이드 치킨을 싫어해\",\n",
    "     \"나는 후라이드 치킨을 좋아해 하지만 양념 치킨을 좋아해\"]\n",
    "\n",
    "doc_ls=[doc.split() for doc in docs]\n",
    "doc_ls\n",
    "\n",
    "from collections import defaultdict\n",
    "word2id = defaultdict(lambda : len(word2id)) #word2id[token] 값 없으면 이걸로 들어감\n",
    "[word2id[token] for doc in doc_ls for token in doc] #순서대로 도는 이중 for문\n",
    "word2id"
   ]
  },
  {
   "cell_type": "code",
   "execution_count": 32,
   "id": "42b4d5c1",
   "metadata": {
    "scrolled": false
   },
   "outputs": [
    {
     "data": {
      "text/plain": [
       "[[1, 1, 2, 1, 1, 1, 1], [1, 1, 2, 2, 1, 1, 0]]"
      ]
     },
     "execution_count": 32,
     "metadata": {},
     "output_type": "execute_result"
    }
   ],
   "source": [
    "BoW_ls=[]\n",
    "\n",
    "for doc in doc_ls:\n",
    "    bow=np.zeros(len(word2id),dtype=int)\n",
    "    for token in doc:\n",
    "        bow[word2id[token]]+=1\n",
    "    BoW_ls.append(bow.tolist()) #bow가 numpy array니까 list로 바꿔줌\n",
    "BoW_ls"
   ]
  },
  {
   "cell_type": "markdown",
   "id": "b02d66d5",
   "metadata": {},
   "source": [
    "gensim: nlp라이브러리(topic modelling for humans)"
   ]
  },
  {
   "cell_type": "code",
   "execution_count": 33,
   "id": "25a3fa7b",
   "metadata": {},
   "outputs": [
    {
     "name": "stdout",
     "output_type": "stream",
     "text": [
      "Requirement already satisfied: gensim in c:\\users\\yejin\\.conda\\envs\\nlp\\lib\\site-packages (4.1.2)\n",
      "Requirement already satisfied: Cython==0.29.23 in c:\\users\\yejin\\.conda\\envs\\nlp\\lib\\site-packages (from gensim) (0.29.23)\n",
      "Requirement already satisfied: scipy>=0.18.1 in c:\\users\\yejin\\.conda\\envs\\nlp\\lib\\site-packages (from gensim) (1.7.3)\n",
      "Requirement already satisfied: smart-open>=1.8.1 in c:\\users\\yejin\\.conda\\envs\\nlp\\lib\\site-packages (from gensim) (5.2.1)\n",
      "Requirement already satisfied: numpy>=1.17.0 in c:\\users\\yejin\\.conda\\envs\\nlp\\lib\\site-packages (from gensim) (1.21.5)\n"
     ]
    }
   ],
   "source": [
    "!pip install gensim"
   ]
  },
  {
   "cell_type": "code",
   "execution_count": 34,
   "id": "c7e8d2b3",
   "metadata": {},
   "outputs": [
    {
     "data": {
      "text/plain": [
       "[[(0, 1), (1, 1), (2, 1), (3, 1), (4, 2), (5, 1), (6, 1)],\n",
       " [(0, 1), (2, 1), (3, 2), (4, 2), (5, 1), (6, 1)]]"
      ]
     },
     "execution_count": 34,
     "metadata": {},
     "output_type": "execute_result"
    }
   ],
   "source": [
    "import gensim\n",
    "from gensim import corpora \n",
    "\n",
    "docs=[\"나는 양념 치킨을 좋아해 하지만 후라이드 치킨을 싫어해\",\n",
    "     \"나는 후라이드 치킨을 좋아해 하지만 양념 치킨을 좋아해\"]\n",
    "\n",
    "doc_ls=[doc.split() for doc in docs]\n",
    "doc_ls\n",
    "\n",
    "id2word = corpora.Dictionary(doc_ls)\n",
    "BoW=[id2word.doc2bow(doc) for doc in doc_ls]\n",
    "BoW\n",
    "#(0,)(1,)~단어를 의미\n",
    "#(,1)(,2)~단어 빈도수 표현"
   ]
  },
  {
   "cell_type": "code",
   "execution_count": 35,
   "id": "233ef966",
   "metadata": {},
   "outputs": [
    {
     "data": {
      "text/plain": [
       "[0, 1, 2, 3, 4, 5, 6]"
      ]
     },
     "execution_count": 35,
     "metadata": {},
     "output_type": "execute_result"
    }
   ],
   "source": [
    "id2word.keys()"
   ]
  },
  {
   "cell_type": "code",
   "execution_count": 36,
   "id": "e8ca8c83",
   "metadata": {},
   "outputs": [
    {
     "name": "stdout",
     "output_type": "stream",
     "text": [
      "0 : 나는\n",
      "1 : 싫어해\n",
      "2 : 양념\n",
      "3 : 좋아해\n",
      "4 : 치킨을\n",
      "5 : 하지만\n",
      "6 : 후라이드\n"
     ]
    }
   ],
   "source": [
    "#단어사전 만들기\n",
    "for key in id2word.keys():\n",
    "    print(\"{} : {}\".format(key, id2word[key]))"
   ]
  },
  {
   "cell_type": "code",
   "execution_count": 37,
   "id": "537fa5c2",
   "metadata": {},
   "outputs": [
    {
     "name": "stdout",
     "output_type": "stream",
     "text": [
      "문서 0 : 나는 양념 치킨을 좋아해 하지만 후라이드 치킨을 싫어해\n"
     ]
    },
    {
     "data": {
      "text/html": [
       "<div>\n",
       "<style scoped>\n",
       "    .dataframe tbody tr th:only-of-type {\n",
       "        vertical-align: middle;\n",
       "    }\n",
       "\n",
       "    .dataframe tbody tr th {\n",
       "        vertical-align: top;\n",
       "    }\n",
       "\n",
       "    .dataframe thead th {\n",
       "        text-align: right;\n",
       "    }\n",
       "</style>\n",
       "<table border=\"1\" class=\"dataframe\">\n",
       "  <thead>\n",
       "    <tr style=\"text-align: right;\">\n",
       "      <th></th>\n",
       "      <th>나는</th>\n",
       "      <th>싫어해</th>\n",
       "      <th>양념</th>\n",
       "      <th>좋아해</th>\n",
       "      <th>치킨을</th>\n",
       "      <th>하지만</th>\n",
       "      <th>후라이드</th>\n",
       "    </tr>\n",
       "  </thead>\n",
       "  <tbody>\n",
       "    <tr>\n",
       "      <th>0</th>\n",
       "      <td>1.0</td>\n",
       "      <td>1.0</td>\n",
       "      <td>1.0</td>\n",
       "      <td>1.0</td>\n",
       "      <td>2.0</td>\n",
       "      <td>1.0</td>\n",
       "      <td>1.0</td>\n",
       "    </tr>\n",
       "  </tbody>\n",
       "</table>\n",
       "</div>"
      ],
      "text/plain": [
       "    나는  싫어해   양념  좋아해  치킨을  하지만  후라이드\n",
       "0  1.0  1.0  1.0  1.0  2.0  1.0   1.0"
      ]
     },
     "metadata": {},
     "output_type": "display_data"
    },
    {
     "name": "stdout",
     "output_type": "stream",
     "text": [
      "\n",
      "\n",
      "문서 1 : 나는 후라이드 치킨을 좋아해 하지만 양념 치킨을 좋아해\n"
     ]
    },
    {
     "data": {
      "text/html": [
       "<div>\n",
       "<style scoped>\n",
       "    .dataframe tbody tr th:only-of-type {\n",
       "        vertical-align: middle;\n",
       "    }\n",
       "\n",
       "    .dataframe tbody tr th {\n",
       "        vertical-align: top;\n",
       "    }\n",
       "\n",
       "    .dataframe thead th {\n",
       "        text-align: right;\n",
       "    }\n",
       "</style>\n",
       "<table border=\"1\" class=\"dataframe\">\n",
       "  <thead>\n",
       "    <tr style=\"text-align: right;\">\n",
       "      <th></th>\n",
       "      <th>나는</th>\n",
       "      <th>싫어해</th>\n",
       "      <th>양념</th>\n",
       "      <th>좋아해</th>\n",
       "      <th>치킨을</th>\n",
       "      <th>하지만</th>\n",
       "      <th>후라이드</th>\n",
       "    </tr>\n",
       "  </thead>\n",
       "  <tbody>\n",
       "    <tr>\n",
       "      <th>0</th>\n",
       "      <td>1.0</td>\n",
       "      <td>0.0</td>\n",
       "      <td>1.0</td>\n",
       "      <td>2.0</td>\n",
       "      <td>2.0</td>\n",
       "      <td>1.0</td>\n",
       "      <td>1.0</td>\n",
       "    </tr>\n",
       "  </tbody>\n",
       "</table>\n",
       "</div>"
      ],
      "text/plain": [
       "    나는  싫어해   양념  좋아해  치킨을  하지만  후라이드\n",
       "0  1.0  0.0  1.0  2.0  2.0  1.0   1.0"
      ]
     },
     "metadata": {},
     "output_type": "display_data"
    },
    {
     "name": "stdout",
     "output_type": "stream",
     "text": [
      "\n",
      "\n"
     ]
    }
   ],
   "source": [
    "from gensim.matutils import sparse2full\n",
    "#sparse2full: document,length줘야 함; gensim은 sparse한 형태->full은 벡터 형태로 바꿔주는 것\n",
    "from IPython.core import display as ICD\n",
    "\n",
    "vocab=[id2word[key] for key in id2word.keys()]\n",
    "for i in range(len(docs)):\n",
    "    print(\"문서 {} : {}\".format(i,docs[i]))\n",
    "    ICD.display(pd.DataFrame([sparse2full(BoW[i],len(vocab))],columns=vocab))\n",
    "    print(\"\\n\")"
   ]
  },
  {
   "cell_type": "markdown",
   "id": "106163ed",
   "metadata": {},
   "source": [
    "TDM만들기"
   ]
  },
  {
   "cell_type": "code",
   "execution_count": 38,
   "id": "d178c7db",
   "metadata": {},
   "outputs": [
    {
     "data": {
      "text/plain": [
       "array([[0, 0],\n",
       "       [0, 0],\n",
       "       [0, 0],\n",
       "       [0, 0],\n",
       "       [0, 0],\n",
       "       [0, 0],\n",
       "       [0, 0]])"
      ]
     },
     "execution_count": 38,
     "metadata": {},
     "output_type": "execute_result"
    }
   ],
   "source": [
    "#차원=shape\n",
    "#위의 TDM구조: 7*2 차원으로 만들기\n",
    "\n",
    "TDM=np.zeros((len(word2id), len(doc_ls)), dtype=int)\n",
    "TDM"
   ]
  },
  {
   "cell_type": "code",
   "execution_count": 39,
   "id": "441ee242",
   "metadata": {},
   "outputs": [
    {
     "data": {
      "text/plain": [
       "array([[1, 1],\n",
       "       [1, 1],\n",
       "       [2, 2],\n",
       "       [1, 2],\n",
       "       [1, 1],\n",
       "       [1, 1],\n",
       "       [1, 0]])"
      ]
     },
     "execution_count": 39,
     "metadata": {},
     "output_type": "execute_result"
    }
   ],
   "source": [
    "for i,doc in enumerate(doc_ls):\n",
    "    for token in doc:\n",
    "        TDM[word2id[token],i] +=1\n",
    "TDM #하나의 매트릭스에 단어와 단어 빈도수 표시 가능, DTM은 순서만 바꾸면 됨"
   ]
  },
  {
   "cell_type": "code",
   "execution_count": 43,
   "id": "77e62361",
   "metadata": {},
   "outputs": [
    {
     "data": {
      "text/html": [
       "<div>\n",
       "<style scoped>\n",
       "    .dataframe tbody tr th:only-of-type {\n",
       "        vertical-align: middle;\n",
       "    }\n",
       "\n",
       "    .dataframe tbody tr th {\n",
       "        vertical-align: top;\n",
       "    }\n",
       "\n",
       "    .dataframe thead th {\n",
       "        text-align: right;\n",
       "    }\n",
       "</style>\n",
       "<table border=\"1\" class=\"dataframe\">\n",
       "  <thead>\n",
       "    <tr style=\"text-align: right;\">\n",
       "      <th></th>\n",
       "      <th>문서0</th>\n",
       "      <th>문서1</th>\n",
       "    </tr>\n",
       "    <tr>\n",
       "      <th>단어</th>\n",
       "      <th></th>\n",
       "      <th></th>\n",
       "    </tr>\n",
       "  </thead>\n",
       "  <tbody>\n",
       "    <tr>\n",
       "      <th>나는</th>\n",
       "      <td>1</td>\n",
       "      <td>1</td>\n",
       "    </tr>\n",
       "    <tr>\n",
       "      <th>양념</th>\n",
       "      <td>1</td>\n",
       "      <td>1</td>\n",
       "    </tr>\n",
       "    <tr>\n",
       "      <th>치킨을</th>\n",
       "      <td>2</td>\n",
       "      <td>2</td>\n",
       "    </tr>\n",
       "    <tr>\n",
       "      <th>좋아해</th>\n",
       "      <td>1</td>\n",
       "      <td>2</td>\n",
       "    </tr>\n",
       "    <tr>\n",
       "      <th>하지만</th>\n",
       "      <td>1</td>\n",
       "      <td>1</td>\n",
       "    </tr>\n",
       "    <tr>\n",
       "      <th>후라이드</th>\n",
       "      <td>1</td>\n",
       "      <td>1</td>\n",
       "    </tr>\n",
       "    <tr>\n",
       "      <th>싫어해</th>\n",
       "      <td>1</td>\n",
       "      <td>0</td>\n",
       "    </tr>\n",
       "  </tbody>\n",
       "</table>\n",
       "</div>"
      ],
      "text/plain": [
       "      문서0  문서1\n",
       "단어            \n",
       "나는      1    1\n",
       "양념      1    1\n",
       "치킨을     2    2\n",
       "좋아해     1    2\n",
       "하지만     1    1\n",
       "후라이드    1    1\n",
       "싫어해     1    0"
      ]
     },
     "execution_count": 43,
     "metadata": {},
     "output_type": "execute_result"
    }
   ],
   "source": [
    "#column명 만들기; 문서 기준\n",
    "doc_names =['문서'+str(i) for i in range(len(doc_ls))]\n",
    "sorted_vocab=sorted((value,key) for key,value in word2id.items())\n",
    "vocab = [v[1] for v in sorted_vocab]\n",
    "df_TDM=pd.DataFrame(TDM,columns=doc_names)\n",
    "df_TDM['단어'] = vocab #vocab을 단어라는 column에 넣음\n",
    "df_TDM.set_index('단어', inplace=True)\n",
    "df_TDM #이걸로 tfidf 계산"
   ]
  },
  {
   "cell_type": "code",
   "execution_count": 51,
   "id": "cb628473",
   "metadata": {},
   "outputs": [
    {
     "data": {
      "text/plain": [
       "array([[1, 1, 1, 1, 2, 1, 1],\n",
       "       [1, 0, 1, 2, 2, 1, 1]], dtype=int64)"
      ]
     },
     "execution_count": 51,
     "metadata": {},
     "output_type": "execute_result"
    }
   ],
   "source": [
    "#sklearn으로 TDM 만들기(주피터는 기본 DTM)\n",
    "from sklearn.feature_extraction.text import CountVectorizer\n",
    "\n",
    "count_vect = CountVectorizer()\n",
    "DTM = count_vect.fit_transform(docs)\n",
    "DTM.toarray()"
   ]
  },
  {
   "cell_type": "code",
   "execution_count": 53,
   "id": "2ec94f77",
   "metadata": {},
   "outputs": [
    {
     "data": {
      "text/html": [
       "<div>\n",
       "<style scoped>\n",
       "    .dataframe tbody tr th:only-of-type {\n",
       "        vertical-align: middle;\n",
       "    }\n",
       "\n",
       "    .dataframe tbody tr th {\n",
       "        vertical-align: top;\n",
       "    }\n",
       "\n",
       "    .dataframe thead th {\n",
       "        text-align: right;\n",
       "    }\n",
       "</style>\n",
       "<table border=\"1\" class=\"dataframe\">\n",
       "  <thead>\n",
       "    <tr style=\"text-align: right;\">\n",
       "      <th></th>\n",
       "      <th>문서0</th>\n",
       "      <th>문서1</th>\n",
       "    </tr>\n",
       "    <tr>\n",
       "      <th>단어</th>\n",
       "      <th></th>\n",
       "      <th></th>\n",
       "    </tr>\n",
       "  </thead>\n",
       "  <tbody>\n",
       "    <tr>\n",
       "      <th>나는</th>\n",
       "      <td>1</td>\n",
       "      <td>1</td>\n",
       "    </tr>\n",
       "    <tr>\n",
       "      <th>싫어해</th>\n",
       "      <td>1</td>\n",
       "      <td>0</td>\n",
       "    </tr>\n",
       "    <tr>\n",
       "      <th>양념</th>\n",
       "      <td>1</td>\n",
       "      <td>1</td>\n",
       "    </tr>\n",
       "    <tr>\n",
       "      <th>좋아해</th>\n",
       "      <td>1</td>\n",
       "      <td>2</td>\n",
       "    </tr>\n",
       "    <tr>\n",
       "      <th>치킨을</th>\n",
       "      <td>2</td>\n",
       "      <td>2</td>\n",
       "    </tr>\n",
       "    <tr>\n",
       "      <th>하지만</th>\n",
       "      <td>1</td>\n",
       "      <td>1</td>\n",
       "    </tr>\n",
       "    <tr>\n",
       "      <th>후라이드</th>\n",
       "      <td>1</td>\n",
       "      <td>1</td>\n",
       "    </tr>\n",
       "  </tbody>\n",
       "</table>\n",
       "</div>"
      ],
      "text/plain": [
       "      문서0  문서1\n",
       "단어            \n",
       "나는      1    1\n",
       "싫어해     1    0\n",
       "양념      1    1\n",
       "좋아해     1    2\n",
       "치킨을     2    2\n",
       "하지만     1    1\n",
       "후라이드    1    1"
      ]
     },
     "execution_count": 53,
     "metadata": {},
     "output_type": "execute_result"
    }
   ],
   "source": [
    "doc_names =['문서'+str(i) for i in range(len(doc_ls))]\n",
    "vocab = count_vect.get_feature_names_out()\n",
    "df_TDM = pd.DataFrame(DTM.toarray().T, columns=doc_names) #.T = transpose\n",
    "df_TDM['단어'] = vocab\n",
    "df_TDM.set_index('단어', inplace=True)\n",
    "df_TDM"
   ]
  },
  {
   "cell_type": "markdown",
   "id": "97e83d3f",
   "metadata": {},
   "source": [
    "TF-IDF = 단어빈도*다른 문서 등장횟수 역수"
   ]
  },
  {
   "cell_type": "code",
   "execution_count": 98,
   "id": "49e42e96",
   "metadata": {},
   "outputs": [],
   "source": [
    "docs = [\"오늘 동물원에서 원숭이를 봤어\", \n",
    "       \"오늘 동물원에서 코끼리를 봤어 봤어\",\n",
    "       \"동물원에서 원숭이에게 바나나를 줬어 바나나를\"]"
   ]
  },
  {
   "cell_type": "code",
   "execution_count": 99,
   "id": "f15dbc24",
   "metadata": {
    "scrolled": true
   },
   "outputs": [
    {
     "data": {
      "text/plain": [
       "[['오늘', '동물원에서', '원숭이를', '봤어'],\n",
       " ['오늘', '동물원에서', '코끼리를', '봤어', '봤어'],\n",
       " ['동물원에서', '원숭이에게', '바나나를', '줬어', '바나나를']]"
      ]
     },
     "execution_count": 99,
     "metadata": {},
     "output_type": "execute_result"
    }
   ],
   "source": [
    "doc_ls=[doc.split() for doc in docs]\n",
    "doc_ls"
   ]
  },
  {
   "cell_type": "code",
   "execution_count": 147,
   "id": "59227756",
   "metadata": {
    "scrolled": true
   },
   "outputs": [
    {
     "name": "stdout",
     "output_type": "stream",
     "text": [
      "defaultdict(<function <lambda> at 0x0000013F1B0BE798>, {})\n",
      "defaultdict(<function <lambda> at 0x0000013F1B0BE798>, {'오늘': 0, '동물원에서': 1, '원숭이를': 2, '봤어': 3, '코끼리를': 4, '원숭이에게': 5, '바나나를': 6, '줬어': 7})\n"
     ]
    }
   ],
   "source": [
    "from collections import defaultdict\n",
    "\n",
    "word2id=defaultdict(lambda : len(word2id)) #defaultdict정의: key값이 없으면 value를 여기에 정의된 함수로 넣음\n",
    "print(word2id)\n",
    "[word2id[token] for doc in doc_ls for token in doc] #위의 이중for문 한 줄로 정리\n",
    "print(word2id)"
   ]
  },
  {
   "cell_type": "code",
   "execution_count": 148,
   "id": "eb38d010",
   "metadata": {
    "scrolled": true
   },
   "outputs": [
    {
     "data": {
      "text/plain": [
       "array([[0, 0, 0, 0, 0, 0, 0, 0],\n",
       "       [0, 0, 0, 0, 0, 0, 0, 0],\n",
       "       [0, 0, 0, 0, 0, 0, 0, 0]])"
      ]
     },
     "execution_count": 148,
     "metadata": {},
     "output_type": "execute_result"
    }
   ],
   "source": [
    "DTM=np.zeros((len(doc_ls),len(word2id)), dtype=int)\n",
    "DTM"
   ]
  },
  {
   "cell_type": "code",
   "execution_count": 149,
   "id": "a467668f",
   "metadata": {
    "scrolled": true
   },
   "outputs": [
    {
     "data": {
      "text/plain": [
       "array([[1, 1, 1, 1, 0, 0, 0, 0],\n",
       "       [1, 1, 0, 2, 1, 0, 0, 0],\n",
       "       [0, 1, 0, 0, 0, 1, 2, 1]])"
      ]
     },
     "execution_count": 149,
     "metadata": {},
     "output_type": "execute_result"
    }
   ],
   "source": [
    "for i,doc in enumerate(doc_ls):\n",
    "    for token in doc:\n",
    "        DTM[i,word2id[token]] +=1\n",
    "DTM"
   ]
  },
  {
   "cell_type": "code",
   "execution_count": 154,
   "id": "7a274a4a",
   "metadata": {
    "scrolled": false
   },
   "outputs": [
    {
     "data": {
      "text/plain": [
       "array([[0.25, 0.25, 0.25, 0.25, 0.  , 0.  , 0.  , 0.  ],\n",
       "       [0.2 , 0.2 , 0.  , 0.4 , 0.2 , 0.  , 0.  , 0.  ],\n",
       "       [0.  , 0.2 , 0.  , 0.  , 0.  , 0.2 , 0.4 , 0.2 ]])"
      ]
     },
     "execution_count": 154,
     "metadata": {},
     "output_type": "execute_result"
    }
   ],
   "source": [
    "#각 단어에 대한 TF 구하기\n",
    "#TF와 DTM 구조 똑같음\n",
    "TF =np.zeros((len(doc_ls),len(word2id)))\n",
    "\n",
    "doc_len = len(doc_ls)\n",
    "word_len = len(word2id)\n",
    "\n",
    "\n",
    "for i in range(doc_len):\n",
    "    sum_doc=DTM[i].sum()\n",
    "    for j in range(word_len):\n",
    "        TF[i,j] = DTM[i,j] / sum_doc\n",
    "\n",
    "TF"
   ]
  },
  {
   "cell_type": "code",
   "execution_count": 155,
   "id": "bbaedf75",
   "metadata": {},
   "outputs": [
    {
     "data": {
      "text/plain": [
       "array([ 0.17609126, -0.        ,  0.47712125,  0.17609126,  0.47712125,\n",
       "        0.47712125,  0.47712125,  0.47712125])"
      ]
     },
     "execution_count": 155,
     "metadata": {},
     "output_type": "execute_result"
    }
   ],
   "source": [
    "#IDF 구하기\n",
    "#count_nonzero; nonzero 개수 세기\n",
    "#DTM[:,열] = 모든 행에 대하여 해당하는 열만 가져오겠다 ex. DTM[:,3] ~ 모든 행 중 3열에 해당하는 것 가져오기\n",
    "import math\n",
    "\n",
    "IDF = np.zeros(word_len)\n",
    "for i in range(word_len):\n",
    "    IDF[i] = -math.log10(np.count_nonzero([DTM[:,i]]) / doc_len)\n",
    "IDF"
   ]
  },
  {
   "cell_type": "code",
   "execution_count": 156,
   "id": "3d45c699",
   "metadata": {
    "scrolled": true
   },
   "outputs": [
    {
     "data": {
      "text/plain": [
       "array([[0., 0., 0., 0., 0., 0., 0., 0.],\n",
       "       [0., 0., 0., 0., 0., 0., 0., 0.],\n",
       "       [0., 0., 0., 0., 0., 0., 0., 0.]])"
      ]
     },
     "execution_count": 156,
     "metadata": {},
     "output_type": "execute_result"
    }
   ],
   "source": [
    "#TFIDF 구하기\n",
    "TFIDF = np.zeros(TF.shape)\n",
    "TFIDF"
   ]
  },
  {
   "cell_type": "code",
   "execution_count": 157,
   "id": "ca5c4007",
   "metadata": {},
   "outputs": [
    {
     "data": {
      "text/plain": [
       "array([[ 0.04402281, -0.        ,  0.11928031,  0.04402281,  0.        ,\n",
       "         0.        ,  0.        ,  0.        ],\n",
       "       [ 0.03521825, -0.        ,  0.        ,  0.0704365 ,  0.09542425,\n",
       "         0.        ,  0.        ,  0.        ],\n",
       "       [ 0.        , -0.        ,  0.        ,  0.        ,  0.        ,\n",
       "         0.09542425,  0.1908485 ,  0.09542425]])"
      ]
     },
     "execution_count": 157,
     "metadata": {},
     "output_type": "execute_result"
    }
   ],
   "source": [
    "for i in range(doc_len):\n",
    "    for j in range(word_len):\n",
    "        TFIDF[i,j] = TF[i,j] * IDF[j]\n",
    "TFIDF\n",
    "#문서1 키워드: 원숭이를\n",
    "#문서2 키워드: 코끼리를\n",
    "#문서3 키워드: 바나나를"
   ]
  },
  {
   "cell_type": "code",
   "execution_count": null,
   "id": "8d68ff48",
   "metadata": {},
   "outputs": [],
   "source": []
  }
 ],
 "metadata": {
  "kernelspec": {
   "display_name": "nlp",
   "language": "python",
   "name": "nlp"
  },
  "language_info": {
   "codemirror_mode": {
    "name": "ipython",
    "version": 3
   },
   "file_extension": ".py",
   "mimetype": "text/x-python",
   "name": "python",
   "nbconvert_exporter": "python",
   "pygments_lexer": "ipython3",
   "version": "3.7.11"
  }
 },
 "nbformat": 4,
 "nbformat_minor": 5
}
