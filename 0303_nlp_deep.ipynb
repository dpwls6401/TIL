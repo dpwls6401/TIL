{
  "nbformat": 4,
  "nbformat_minor": 0,
  "metadata": {
    "colab": {
      "name": "0303_nlp_deep",
      "provenance": []
    },
    "kernelspec": {
      "name": "python3",
      "display_name": "Python 3"
    },
    "language_info": {
      "name": "python"
    },
    "accelerator": "GPU"
  },
  "cells": [
    {
      "cell_type": "code",
      "execution_count": 2,
      "metadata": {
        "colab": {
          "base_uri": "https://localhost:8080/"
        },
        "id": "1aZVPuk5VWec",
        "outputId": "7db22b0e-fb9a-4c41-ef76-bff5aeb688e3"
      },
      "outputs": [
        {
          "output_type": "stream",
          "name": "stdout",
          "text": [
            "Downloading data from https://storage.googleapis.com/tensorflow/tf-keras-datasets/mnist.npz\n",
            "11493376/11490434 [==============================] - 0s 0us/step\n",
            "11501568/11490434 [==============================] - 0s 0us/step\n"
          ]
        }
      ],
      "source": [
        "from tensorflow.keras.datasets import mnist\n",
        "from sklearn.model_selection import train_test_split\n",
        "\n",
        "(train_images, train_labels), (test_images, test_labels) = mnist.load_data()\n",
        "train_images = train_images.reshape((-1, 28, 28, 1)) #60000개\n",
        "test_images = test_images.reshape((-1, 28, 28, 1))\n",
        "\n",
        "#0~1 사이 값으로 정규화\n",
        "train_images = train_images / 255.\n",
        "test_images = test_images / 255.\n",
        "\n",
        "#loss값 낮아지도록 학습 so 과적합 문제\n",
        "#valid set: 전체 train의 75% 정도 가져와서 overfitting 일어나는지 확인 & test는 최종 검사용\n",
        "valid_images, test_images, valid_labels, test_labels = train_test_split(test_images, test_labels, test_size=0.15, shuffle=True)"
      ]
    },
    {
      "cell_type": "code",
      "source": [
        "# 1. Functional API 방법\n",
        "# cf. sequential은 add\n",
        "import tensorflow as tf\n",
        "from tensorflow.keras.models import Model\n",
        "from tensorflow.keras.layers import Input, Conv2D, MaxPool2D, Flatten, Dense, Dropout\n",
        "\n",
        "inputs = Input(shape=(28, 28, 1))\n",
        "conv1 = Conv2D(32, (3, 3), activation=tf.nn.relu)(inputs) #(필터 개수, (필터 shape))\n",
        "pool1 = MaxPool2D((2, 2))(conv1)\n",
        "\n",
        "conv2 = Conv2D(64, (3, 3), activation=tf.nn.relu)(pool1)\n",
        "pool2 = MaxPool2D((2, 2))(conv2)\n",
        "\n",
        "conv3 = Conv2D(64, (3, 3), activation=tf.nn.relu)(pool2)\n",
        "flat = Flatten()(conv3) #dense layer에 넣기 위해 flatten\n",
        "\n",
        "dense4 = Dense(64, activation='relu')(flat)\n",
        "drop4 = Dropout(rate=0.2)(dense4) #dropout: 일반화 -> 20% 비율로 dense4 skip\n",
        "outputs = Dense(10, activation='softmax')(drop4)\n",
        "\n",
        "model = Model(inputs=inputs, outputs=outputs)\n",
        "model.summary()"
      ],
      "metadata": {
        "colab": {
          "base_uri": "https://localhost:8080/"
        },
        "id": "udr5VjeNV34p",
        "outputId": "1062c754-13b6-4dc0-df59-0bba847a57bb"
      },
      "execution_count": 18,
      "outputs": [
        {
          "output_type": "stream",
          "name": "stdout",
          "text": [
            "Model: \"model_2\"\n",
            "_________________________________________________________________\n",
            " Layer (type)                Output Shape              Param #   \n",
            "=================================================================\n",
            " input_3 (InputLayer)        [(None, 28, 28, 1)]       0         \n",
            "                                                                 \n",
            " conv2d_6 (Conv2D)           (None, 26, 26, 32)        320       \n",
            "                                                                 \n",
            " max_pooling2d_4 (MaxPooling  (None, 13, 13, 32)       0         \n",
            " 2D)                                                             \n",
            "                                                                 \n",
            " conv2d_7 (Conv2D)           (None, 11, 11, 64)        18496     \n",
            "                                                                 \n",
            " max_pooling2d_5 (MaxPooling  (None, 5, 5, 64)         0         \n",
            " 2D)                                                             \n",
            "                                                                 \n",
            " conv2d_8 (Conv2D)           (None, 3, 3, 64)          36928     \n",
            "                                                                 \n",
            " flatten_2 (Flatten)         (None, 576)               0         \n",
            "                                                                 \n",
            " dense_4 (Dense)             (None, 64)                36928     \n",
            "                                                                 \n",
            " dropout_2 (Dropout)         (None, 64)                0         \n",
            "                                                                 \n",
            " dense_5 (Dense)             (None, 10)                650       \n",
            "                                                                 \n",
            "=================================================================\n",
            "Total params: 93,322\n",
            "Trainable params: 93,322\n",
            "Non-trainable params: 0\n",
            "_________________________________________________________________\n"
          ]
        }
      ]
    },
    {
      "cell_type": "markdown",
      "source": [
        "model save 위한 modelchecking과 earlystopping"
      ],
      "metadata": {
        "id": "bQGzgsSLAepE"
      }
    },
    {
      "cell_type": "code",
      "source": [
        "#맨 마지막에 나오는 모델은 과적합된 bad model! \n",
        "#so, 학습을 진행하면서 모델 save해야 함 -> 앞쪽에 나온 좋은 모델 가져오기 위해!\n",
        "from tensorflow.keras.callbacks import ModelCheckpoint, EarlyStopping\n",
        "\n",
        "MODEL_SAVE_FOLDER = '/content/drive/MyDrive/models'\n",
        "model_path = f\"{MODEL_SAVE_FOLDER}mnist-{{epoch:d}}--{{val_loss:.5f}}--{{val_accuracy:.5f}}.hdf5\"\n",
        "\n",
        "# 한 epoch 끝날 때마다 모델을 어디에 save할지 정하는 것\n",
        "# save_weights_only: model weight만 save\n",
        "# save_best_only: best인 경우에만 save\n",
        "cb_checkpoint = ModelCheckpoint(filepath=model_path,\n",
        "                                monitor='val_accuracy',\n",
        "                                verbose=1,\n",
        "                                save_best_only=True)\n",
        "\n",
        "# patience: no improve되는 epoch의 수(\"연속 n까지는 참는 것!\")\n",
        "cb_early_stopping = EarlyStopping(monitor='val_accuracy', patience=6)"
      ],
      "metadata": {
        "id": "6dSpIyiCWYqD"
      },
      "execution_count": 20,
      "outputs": []
    },
    {
      "cell_type": "code",
      "source": [
        "model.compile(optimizer='adam', loss='sparse_categorical_crossentropy', metrics=['accuracy'])\n",
        "hist = model.fit(train_images, train_labels, validation_data=(valid_images, valid_labels),\n",
        "                 epochs=100, batch_size=200,\n",
        "                 callbacks=[cb_checkpoint, cb_early_stopping])\n",
        "#callback: system이 학습하다가 우리가 정해준 객체 호출하는 것"
      ],
      "metadata": {
        "colab": {
          "base_uri": "https://localhost:8080/"
        },
        "id": "3Vp9zmNVZ2I-",
        "outputId": "c6a03e49-1ca6-430e-eddc-aa131d71628d"
      },
      "execution_count": 21,
      "outputs": [
        {
          "output_type": "stream",
          "name": "stdout",
          "text": [
            "Epoch 1/100\n",
            "300/300 [==============================] - ETA: 0s - loss: 0.3528 - accuracy: 0.8932\n",
            "Epoch 1: val_accuracy improved from -inf to 0.97518, saving model to /content/drive/MyDrive/modelsmnist-1--0.07696--0.97518.hdf5\n",
            "300/300 [==============================] - 6s 18ms/step - loss: 0.3528 - accuracy: 0.8932 - val_loss: 0.0770 - val_accuracy: 0.9752\n",
            "Epoch 2/100\n",
            "300/300 [==============================] - ETA: 0s - loss: 0.0881 - accuracy: 0.9735\n",
            "Epoch 2: val_accuracy improved from 0.97518 to 0.98553, saving model to /content/drive/MyDrive/modelsmnist-2--0.04649--0.98553.hdf5\n",
            "300/300 [==============================] - 5s 18ms/step - loss: 0.0881 - accuracy: 0.9735 - val_loss: 0.0465 - val_accuracy: 0.9855\n",
            "Epoch 3/100\n",
            "300/300 [==============================] - ETA: 0s - loss: 0.0625 - accuracy: 0.9813\n",
            "Epoch 3: val_accuracy improved from 0.98553 to 0.98800, saving model to /content/drive/MyDrive/modelsmnist-3--0.03586--0.98800.hdf5\n",
            "300/300 [==============================] - 6s 20ms/step - loss: 0.0625 - accuracy: 0.9813 - val_loss: 0.0359 - val_accuracy: 0.9880\n",
            "Epoch 4/100\n",
            "299/300 [============================>.] - ETA: 0s - loss: 0.0478 - accuracy: 0.9858\n",
            "Epoch 4: val_accuracy improved from 0.98800 to 0.99000, saving model to /content/drive/MyDrive/modelsmnist-4--0.02916--0.99000.hdf5\n",
            "300/300 [==============================] - 6s 19ms/step - loss: 0.0478 - accuracy: 0.9858 - val_loss: 0.0292 - val_accuracy: 0.9900\n",
            "Epoch 5/100\n",
            "299/300 [============================>.] - ETA: 0s - loss: 0.0395 - accuracy: 0.9881\n",
            "Epoch 5: val_accuracy improved from 0.99000 to 0.99141, saving model to /content/drive/MyDrive/modelsmnist-5--0.02565--0.99141.hdf5\n",
            "300/300 [==============================] - 5s 18ms/step - loss: 0.0396 - accuracy: 0.9880 - val_loss: 0.0256 - val_accuracy: 0.9914\n",
            "Epoch 6/100\n",
            "300/300 [==============================] - ETA: 0s - loss: 0.0360 - accuracy: 0.9890\n",
            "Epoch 6: val_accuracy did not improve from 0.99141\n",
            "300/300 [==============================] - 6s 18ms/step - loss: 0.0360 - accuracy: 0.9890 - val_loss: 0.0311 - val_accuracy: 0.9901\n",
            "Epoch 7/100\n",
            "300/300 [==============================] - ETA: 0s - loss: 0.0316 - accuracy: 0.9900\n",
            "Epoch 7: val_accuracy improved from 0.99141 to 0.99247, saving model to /content/drive/MyDrive/modelsmnist-7--0.02516--0.99247.hdf5\n",
            "300/300 [==============================] - 5s 18ms/step - loss: 0.0316 - accuracy: 0.9900 - val_loss: 0.0252 - val_accuracy: 0.9925\n",
            "Epoch 8/100\n",
            "299/300 [============================>.] - ETA: 0s - loss: 0.0259 - accuracy: 0.9917\n",
            "Epoch 8: val_accuracy did not improve from 0.99247\n",
            "300/300 [==============================] - 5s 18ms/step - loss: 0.0259 - accuracy: 0.9917 - val_loss: 0.0231 - val_accuracy: 0.9919\n",
            "Epoch 9/100\n",
            "300/300 [==============================] - ETA: 0s - loss: 0.0231 - accuracy: 0.9930\n",
            "Epoch 9: val_accuracy did not improve from 0.99247\n",
            "300/300 [==============================] - 5s 18ms/step - loss: 0.0231 - accuracy: 0.9930 - val_loss: 0.0254 - val_accuracy: 0.9918\n",
            "Epoch 10/100\n",
            "299/300 [============================>.] - ETA: 0s - loss: 0.0201 - accuracy: 0.9938\n",
            "Epoch 10: val_accuracy did not improve from 0.99247\n",
            "300/300 [==============================] - 5s 18ms/step - loss: 0.0201 - accuracy: 0.9938 - val_loss: 0.0251 - val_accuracy: 0.9911\n",
            "Epoch 11/100\n",
            "298/300 [============================>.] - ETA: 0s - loss: 0.0178 - accuracy: 0.9944\n",
            "Epoch 11: val_accuracy did not improve from 0.99247\n",
            "300/300 [==============================] - 5s 18ms/step - loss: 0.0178 - accuracy: 0.9944 - val_loss: 0.0245 - val_accuracy: 0.9925\n",
            "Epoch 12/100\n",
            "300/300 [==============================] - ETA: 0s - loss: 0.0167 - accuracy: 0.9944\n",
            "Epoch 12: val_accuracy did not improve from 0.99247\n",
            "300/300 [==============================] - 6s 19ms/step - loss: 0.0167 - accuracy: 0.9944 - val_loss: 0.0247 - val_accuracy: 0.9922\n",
            "Epoch 13/100\n",
            "298/300 [============================>.] - ETA: 0s - loss: 0.0146 - accuracy: 0.9953\n",
            "Epoch 13: val_accuracy did not improve from 0.99247\n",
            "300/300 [==============================] - 5s 17ms/step - loss: 0.0146 - accuracy: 0.9953 - val_loss: 0.0310 - val_accuracy: 0.9913\n"
          ]
        }
      ]
    },
    {
      "cell_type": "code",
      "source": [
        "# early stopping 때문에 epoch 13까지만 돌림\n",
        "import matplotlib.pyplot as plt\n",
        "\n",
        "fig, loss_ax = plt.subplots()\n",
        "acc_ax = loss_ax.twinx()\n",
        "\n",
        "loss_ax.plot(hist.history['loss'], 'y', label='train_loss')\n",
        "loss_ax.plot(hist.history['val_loss'], 'r', label='valid_loss')\n",
        "loss_ax.set_xlabel('epochs')\n",
        "loss_ax.set_ylabel('loss')\n",
        "loss_ax.legend(loc='upper left')\n",
        "\n",
        "acc_ax.plot(hist.history['accuracy'], 'b', label='train_accuracy')\n",
        "acc_ax.plot(hist.history['val_accuracy'], 'g', label='valid_accuracy')\n",
        "acc_ax.set_xlabel('epochs')\n",
        "acc_ax.set_ylabel('accuracy')\n",
        "acc_ax.legend(loc='upper right', bbox_to_anchor=(1, 0.5))\n",
        "\n",
        "plt.show()"
      ],
      "metadata": {
        "colab": {
          "base_uri": "https://localhost:8080/",
          "height": 283
        },
        "id": "oHdKabA9asNq",
        "outputId": "c7a1ea62-47ee-4f83-9962-1dc2b7291a9c"
      },
      "execution_count": 22,
      "outputs": [
        {
          "output_type": "display_data",
          "data": {
            "image/png": "[encoded data removed]",
            "text/plain": [
              "<Figure size 432x288 with 2 Axes>"
            ]
          },
          "metadata": {
            "needs_background": "light"
          }
        }
      ]
    },
    {
      "cell_type": "code",
      "source": [
        "# best model -> 해당 파일 구글 드라이브 저장\n",
        "saved_path = '/content/drive/MyDrive/modelsmnist-7--0.02516--0.99247.hdf5'\n",
        "loaded_model = tf.keras.models.load_model(saved_path)\n",
        "\n",
        "print(f\"Loss, Accuracy {model.evaluate(test_images, test_labels)}\")"
      ],
      "metadata": {
        "colab": {
          "base_uri": "https://localhost:8080/"
        },
        "id": "D12CpfQylWxI",
        "outputId": "ce858654-d2be-4ec0-914a-e06ed70b38ac"
      },
      "execution_count": 23,
      "outputs": [
        {
          "output_type": "stream",
          "name": "stdout",
          "text": [
            "47/47 [==============================] - 0s 5ms/step - loss: 0.0238 - accuracy: 0.9940\n",
            "Loss, Accuracy [0.023766281083226204, 0.9940000176429749]\n"
          ]
        }
      ]
    },
    {
      "cell_type": "code",
      "source": [
        "!ls -la '/content/drive/MyDrive/models'\n",
        "#model 용량 큼!"
      ],
      "metadata": {
        "colab": {
          "base_uri": "https://localhost:8080/"
        },
        "id": "ARbweoH6bk26",
        "outputId": "a6c185fd-eb08-48d2-b178-c3ec8e21eb48"
      },
      "execution_count": 24,
      "outputs": [
        {
          "output_type": "stream",
          "name": "stdout",
          "text": [
            "total 0\n"
          ]
        }
      ]
    },
    {
      "cell_type": "code",
      "source": [
        "!cd '/content/drive/MyDrive/models'"
      ],
      "metadata": {
        "id": "g7G2BQVymJ7i"
      },
      "execution_count": 25,
      "outputs": []
    },
    {
      "cell_type": "code",
      "source": [
        "!rm '/content/drive/MyDrive/models'*"
      ],
      "metadata": {
        "id": "YhX8kFGrmQGs",
        "colab": {
          "base_uri": "https://localhost:8080/"
        },
        "outputId": "a53b1eb5-89d1-4c78-d672-793d761e0cd2"
      },
      "execution_count": 26,
      "outputs": [
        {
          "output_type": "stream",
          "name": "stdout",
          "text": [
            "rm: cannot remove '/content/drive/MyDrive/models': Is a directory\n"
          ]
        }
      ]
    },
    {
      "cell_type": "markdown",
      "source": [
        "런타임 초기화 -> 파일 마운트 -> 학습시키지 않고 불러오기"
      ],
      "metadata": {
        "id": "c6oIXpJilhIX"
      }
    },
    {
      "cell_type": "code",
      "source": [
        "# savec_path: 앞서 드라이브에 저장한 best model 불러오기\n",
        "saved_path = '/content/drive/MyDrive/mnist-9--0.02006--0.99376.hdf5'\n",
        "model.compile(optimizer='adam', loss='sparse_categorical_crossentropy', metrics=['accuracy'])\n",
        "model.load_weights(saved_path)\n",
        "\n",
        "print(f\"Loss, Accuracy {model.evaluate(test_images, test_labels)}\")"
      ],
      "metadata": {
        "colab": {
          "base_uri": "https://localhost:8080/"
        },
        "id": "whxuht6ebsGW",
        "outputId": "e4a92518-0c54-43cf-8f58-5db4aeaf1f74"
      },
      "execution_count": null,
      "outputs": [
        {
          "output_type": "stream",
          "name": "stdout",
          "text": [
            "47/47 [==============================] - 9s 4ms/step - loss: 0.0195 - accuracy: 0.9933\n",
            "Loss, Accuracy [0.019534043967723846, 0.9933333396911621]\n"
          ]
        }
      ]
    },
    {
      "cell_type": "markdown",
      "source": [
        "subclassing 방식\n",
        "- sequential이나 functional은 변경불가\n",
        "- loss함수 변경 용이"
      ],
      "metadata": {
        "id": "8Gh47V3pnGu6"
      }
    },
    {
      "cell_type": "code",
      "source": [
        "import tensorflow as tf\n",
        "from tensorflow.keras.models import Model\n",
        "from tensorflow.keras.layers import Input, Conv2D, MaxPool2D, Flatten, Dense, Dropout\n",
        "\n",
        "class MNISTModel(Model):\n",
        "  def __init__(self):\n",
        "    super(MNISTModel, self).__init__()\n",
        "    self.conv1 = Conv2D(32, (3,3), activation='relu')\n",
        "    self.pool1 = MaxPool2D()\n",
        "    self.conv2 = Conv2D(64, (3,3), activation='relu')\n",
        "    self.pool2 = MaxPool2D()\n",
        "    self.conv3 = Conv2D(64, (3,3), activation='relu')\n",
        "    self.flat = Flatten()\n",
        "    self.dense4 = Dense(64, activation='relu')\n",
        "    self.drop = Dropout(0.2)\n",
        "    self.outputs = Dense(10, activation='softmax')\n",
        "  \n",
        "  #Forward 함수\n",
        "  #이미 model에 정의된 call 함수 재정의\n",
        "  def call(self, inputs, training=False):\n",
        "    net = self.conv1(inputs)\n",
        "    net = self.pool1(net)\n",
        "    net = self.conv2(net)\n",
        "    net = self.pool2(net)\n",
        "    net = self.conv3(net)\n",
        "    net = self.flat(net)\n",
        "    net = self.dense4(net)\n",
        "    net = self.drop(net)\n",
        "    net = self.outputs(net)\n",
        "\n",
        "    return net\n",
        "\n",
        "model = MNISTModel()\n",
        "inputs = Input(shape=(28,28,1))\n",
        "model(inputs)\n",
        "\n",
        "model.summary()"
      ],
      "metadata": {
        "colab": {
          "base_uri": "https://localhost:8080/"
        },
        "id": "le-SPCr2c8UX",
        "outputId": "516f6678-064a-4a20-852c-e3a73570b9d7"
      },
      "execution_count": 1,
      "outputs": [
        {
          "output_type": "stream",
          "name": "stdout",
          "text": [
            "Model: \"mnist_model\"\n",
            "_________________________________________________________________\n",
            " Layer (type)                Output Shape              Param #   \n",
            "=================================================================\n",
            " conv2d (Conv2D)             multiple                  320       \n",
            "                                                                 \n",
            " max_pooling2d (MaxPooling2D  multiple                 0         \n",
            " )                                                               \n",
            "                                                                 \n",
            " conv2d_1 (Conv2D)           multiple                  18496     \n",
            "                                                                 \n",
            " max_pooling2d_1 (MaxPooling  multiple                 0         \n",
            " 2D)                                                             \n",
            "                                                                 \n",
            " conv2d_2 (Conv2D)           multiple                  36928     \n",
            "                                                                 \n",
            " flatten (Flatten)           multiple                  0         \n",
            "                                                                 \n",
            " dense (Dense)               multiple                  36928     \n",
            "                                                                 \n",
            " dropout (Dropout)           multiple                  0         \n",
            "                                                                 \n",
            " dense_1 (Dense)             multiple                  650       \n",
            "                                                                 \n",
            "=================================================================\n",
            "Total params: 93,322\n",
            "Trainable params: 93,322\n",
            "Non-trainable params: 0\n",
            "_________________________________________________________________\n"
          ]
        }
      ]
    },
    {
      "cell_type": "code",
      "source": [
        "from tensorflow.keras.callbacks import ModelCheckpoint, EarlyStopping\n",
        "\n",
        "MODEL_SAVE_FOLDER = '/content/models'\n",
        "model_path = f\"{MODEL_SAVE_FOLDER}mnist-{{epoch:d}}--{{val_loss:.5f}}--{{val_accuracy:.5f}}.hdf5\"\n",
        "\n",
        "# 한 epoch 끝날 때마다 모델을 어디에 save할지 정하는 것\n",
        "# save_weights_only: model weight만 save\n",
        "# save_best_only: best인 경우에만 save\n",
        "cb_checkpoint = ModelCheckpoint(filepath=model_path,\n",
        "                                monitor='val_accuracy',\n",
        "                                save_weights_only=True,\n",
        "                                verbose=1,\n",
        "                                save_best_only=True)\n",
        "\n",
        "# patience: no improve되는 epoch의 수(\"연속 n까지는 참는 것!\")\n",
        "cb_early_stopping = EarlyStopping(monitor='val_accuracy', patience=6)"
      ],
      "metadata": {
        "id": "4oAAX8T_nyFl"
      },
      "execution_count": 3,
      "outputs": []
    },
    {
      "cell_type": "code",
      "source": [
        "#맨 처음에 모델 돌릴 때 hist 찍기 위함\n",
        "model.compile(optimizer='adam', loss='sparse_categorical_crossentropy', metrics=['accuracy'])\n",
        "hist = model.fit(train_images, train_labels, validation_data=(valid_images, valid_labels),\n",
        "                 epochs=100, batch_size=200,\n",
        "                 callbacks=[cb_checkpoint, cb_early_stopping])"
      ],
      "metadata": {
        "id": "mnWclfAEogAG",
        "colab": {
          "base_uri": "https://localhost:8080/"
        },
        "outputId": "09e84a0b-aa57-4001-c7c1-a2d1c31a6c92"
      },
      "execution_count": 4,
      "outputs": [
        {
          "output_type": "stream",
          "name": "stdout",
          "text": [
            "Epoch 1/100\n",
            "294/300 [============================>.] - ETA: 0s - loss: 0.3734 - accuracy: 0.8835\n",
            "Epoch 1: val_accuracy improved from -inf to 0.97729, saving model to /content/modelsmnist-1--0.07453--0.97729.hdf5\n",
            "300/300 [==============================] - 12s 8ms/step - loss: 0.3684 - accuracy: 0.8851 - val_loss: 0.0745 - val_accuracy: 0.9773\n",
            "Epoch 2/100\n",
            "298/300 [============================>.] - ETA: 0s - loss: 0.0864 - accuracy: 0.9742\n",
            "Epoch 2: val_accuracy improved from 0.97729 to 0.98553, saving model to /content/modelsmnist-2--0.04612--0.98553.hdf5\n",
            "300/300 [==============================] - 2s 6ms/step - loss: 0.0862 - accuracy: 0.9743 - val_loss: 0.0461 - val_accuracy: 0.9855\n",
            "Epoch 3/100\n",
            "296/300 [============================>.] - ETA: 0s - loss: 0.0613 - accuracy: 0.9820\n",
            "Epoch 3: val_accuracy improved from 0.98553 to 0.98859, saving model to /content/modelsmnist-3--0.03337--0.98859.hdf5\n",
            "300/300 [==============================] - 2s 6ms/step - loss: 0.0612 - accuracy: 0.9821 - val_loss: 0.0334 - val_accuracy: 0.9886\n",
            "Epoch 4/100\n",
            "298/300 [============================>.] - ETA: 0s - loss: 0.0500 - accuracy: 0.9850\n",
            "Epoch 4: val_accuracy did not improve from 0.98859\n",
            "300/300 [==============================] - 2s 6ms/step - loss: 0.0499 - accuracy: 0.9851 - val_loss: 0.0389 - val_accuracy: 0.9868\n",
            "Epoch 5/100\n",
            "292/300 [============================>.] - ETA: 0s - loss: 0.0394 - accuracy: 0.9882\n",
            "Epoch 5: val_accuracy improved from 0.98859 to 0.99071, saving model to /content/modelsmnist-5--0.02853--0.99071.hdf5\n",
            "300/300 [==============================] - 2s 8ms/step - loss: 0.0395 - accuracy: 0.9882 - val_loss: 0.0285 - val_accuracy: 0.9907\n",
            "Epoch 6/100\n",
            "300/300 [==============================] - ETA: 0s - loss: 0.0340 - accuracy: 0.9898\n",
            "Epoch 6: val_accuracy improved from 0.99071 to 0.99176, saving model to /content/modelsmnist-6--0.02538--0.99176.hdf5\n",
            "300/300 [==============================] - 2s 8ms/step - loss: 0.0340 - accuracy: 0.9898 - val_loss: 0.0254 - val_accuracy: 0.9918\n",
            "Epoch 7/100\n",
            "294/300 [============================>.] - ETA: 0s - loss: 0.0311 - accuracy: 0.9900\n",
            "Epoch 7: val_accuracy did not improve from 0.99176\n",
            "300/300 [==============================] - 3s 10ms/step - loss: 0.0309 - accuracy: 0.9901 - val_loss: 0.0323 - val_accuracy: 0.9900\n",
            "Epoch 8/100\n",
            "299/300 [============================>.] - ETA: 0s - loss: 0.0266 - accuracy: 0.9917\n",
            "Epoch 8: val_accuracy did not improve from 0.99176\n",
            "300/300 [==============================] - 3s 9ms/step - loss: 0.0266 - accuracy: 0.9916 - val_loss: 0.0266 - val_accuracy: 0.9914\n",
            "Epoch 9/100\n",
            "296/300 [============================>.] - ETA: 0s - loss: 0.0227 - accuracy: 0.9928\n",
            "Epoch 9: val_accuracy did not improve from 0.99176\n",
            "300/300 [==============================] - 2s 6ms/step - loss: 0.0230 - accuracy: 0.9928 - val_loss: 0.0355 - val_accuracy: 0.9889\n",
            "Epoch 10/100\n",
            "297/300 [============================>.] - ETA: 0s - loss: 0.0217 - accuracy: 0.9931\n",
            "Epoch 10: val_accuracy did not improve from 0.99176\n",
            "300/300 [==============================] - 2s 6ms/step - loss: 0.0216 - accuracy: 0.9931 - val_loss: 0.0261 - val_accuracy: 0.9914\n",
            "Epoch 11/100\n",
            "297/300 [============================>.] - ETA: 0s - loss: 0.0183 - accuracy: 0.9943\n",
            "Epoch 11: val_accuracy improved from 0.99176 to 0.99282, saving model to /content/modelsmnist-11--0.02715--0.99282.hdf5\n",
            "300/300 [==============================] - 2s 8ms/step - loss: 0.0182 - accuracy: 0.9944 - val_loss: 0.0272 - val_accuracy: 0.9928\n",
            "Epoch 12/100\n",
            "299/300 [============================>.] - ETA: 0s - loss: 0.0171 - accuracy: 0.9945\n",
            "Epoch 12: val_accuracy improved from 0.99282 to 0.99318, saving model to /content/modelsmnist-12--0.02223--0.99318.hdf5\n",
            "300/300 [==============================] - 2s 7ms/step - loss: 0.0171 - accuracy: 0.9945 - val_loss: 0.0222 - val_accuracy: 0.9932\n",
            "Epoch 13/100\n",
            "296/300 [============================>.] - ETA: 0s - loss: 0.0147 - accuracy: 0.9951\n",
            "Epoch 13: val_accuracy did not improve from 0.99318\n",
            "300/300 [==============================] - 2s 6ms/step - loss: 0.0148 - accuracy: 0.9952 - val_loss: 0.0267 - val_accuracy: 0.9927\n",
            "Epoch 14/100\n",
            "292/300 [============================>.] - ETA: 0s - loss: 0.0144 - accuracy: 0.9955\n",
            "Epoch 14: val_accuracy did not improve from 0.99318\n",
            "300/300 [==============================] - 2s 7ms/step - loss: 0.0143 - accuracy: 0.9955 - val_loss: 0.0233 - val_accuracy: 0.9932\n",
            "Epoch 15/100\n",
            "294/300 [============================>.] - ETA: 0s - loss: 0.0116 - accuracy: 0.9962\n",
            "Epoch 15: val_accuracy did not improve from 0.99318\n",
            "300/300 [==============================] - 2s 8ms/step - loss: 0.0117 - accuracy: 0.9961 - val_loss: 0.0279 - val_accuracy: 0.9909\n",
            "Epoch 16/100\n",
            "300/300 [==============================] - ETA: 0s - loss: 0.0125 - accuracy: 0.9961\n",
            "Epoch 16: val_accuracy did not improve from 0.99318\n",
            "300/300 [==============================] - 2s 7ms/step - loss: 0.0125 - accuracy: 0.9961 - val_loss: 0.0261 - val_accuracy: 0.9929\n",
            "Epoch 17/100\n",
            "292/300 [============================>.] - ETA: 0s - loss: 0.0115 - accuracy: 0.9964\n",
            "Epoch 17: val_accuracy improved from 0.99318 to 0.99341, saving model to /content/modelsmnist-17--0.02462--0.99341.hdf5\n",
            "300/300 [==============================] - 2s 7ms/step - loss: 0.0115 - accuracy: 0.9963 - val_loss: 0.0246 - val_accuracy: 0.9934\n",
            "Epoch 18/100\n",
            "298/300 [============================>.] - ETA: 0s - loss: 0.0087 - accuracy: 0.9974\n",
            "Epoch 18: val_accuracy did not improve from 0.99341\n",
            "300/300 [==============================] - 2s 7ms/step - loss: 0.0088 - accuracy: 0.9973 - val_loss: 0.0257 - val_accuracy: 0.9933\n",
            "Epoch 19/100\n",
            "294/300 [============================>.] - ETA: 0s - loss: 0.0085 - accuracy: 0.9971\n",
            "Epoch 19: val_accuracy did not improve from 0.99341\n",
            "300/300 [==============================] - 2s 7ms/step - loss: 0.0085 - accuracy: 0.9971 - val_loss: 0.0267 - val_accuracy: 0.9927\n",
            "Epoch 20/100\n",
            "292/300 [============================>.] - ETA: 0s - loss: 0.0076 - accuracy: 0.9972\n",
            "Epoch 20: val_accuracy improved from 0.99341 to 0.99365, saving model to /content/modelsmnist-20--0.02617--0.99365.hdf5\n",
            "300/300 [==============================] - 2s 7ms/step - loss: 0.0077 - accuracy: 0.9972 - val_loss: 0.0262 - val_accuracy: 0.9936\n",
            "Epoch 21/100\n",
            "297/300 [============================>.] - ETA: 0s - loss: 0.0091 - accuracy: 0.9970\n",
            "Epoch 21: val_accuracy did not improve from 0.99365\n",
            "300/300 [==============================] - 2s 6ms/step - loss: 0.0091 - accuracy: 0.9970 - val_loss: 0.0272 - val_accuracy: 0.9931\n",
            "Epoch 22/100\n",
            "297/300 [============================>.] - ETA: 0s - loss: 0.0068 - accuracy: 0.9976\n",
            "Epoch 22: val_accuracy did not improve from 0.99365\n",
            "300/300 [==============================] - 2s 6ms/step - loss: 0.0069 - accuracy: 0.9976 - val_loss: 0.0292 - val_accuracy: 0.9928\n",
            "Epoch 23/100\n",
            "292/300 [============================>.] - ETA: 0s - loss: 0.0067 - accuracy: 0.9978\n",
            "Epoch 23: val_accuracy improved from 0.99365 to 0.99376, saving model to /content/modelsmnist-23--0.02739--0.99376.hdf5\n",
            "300/300 [==============================] - 2s 8ms/step - loss: 0.0067 - accuracy: 0.9978 - val_loss: 0.0274 - val_accuracy: 0.9938\n",
            "Epoch 24/100\n",
            "292/300 [============================>.] - ETA: 0s - loss: 0.0069 - accuracy: 0.9977\n",
            "Epoch 24: val_accuracy did not improve from 0.99376\n",
            "300/300 [==============================] - 2s 7ms/step - loss: 0.0069 - accuracy: 0.9977 - val_loss: 0.0316 - val_accuracy: 0.9929\n",
            "Epoch 25/100\n",
            "296/300 [============================>.] - ETA: 0s - loss: 0.0070 - accuracy: 0.9977\n",
            "Epoch 25: val_accuracy did not improve from 0.99376\n",
            "300/300 [==============================] - 2s 6ms/step - loss: 0.0071 - accuracy: 0.9977 - val_loss: 0.0276 - val_accuracy: 0.9928\n",
            "Epoch 26/100\n",
            "296/300 [============================>.] - ETA: 0s - loss: 0.0049 - accuracy: 0.9985\n",
            "Epoch 26: val_accuracy improved from 0.99376 to 0.99388, saving model to /content/modelsmnist-26--0.02816--0.99388.hdf5\n",
            "300/300 [==============================] - 2s 6ms/step - loss: 0.0050 - accuracy: 0.9985 - val_loss: 0.0282 - val_accuracy: 0.9939\n",
            "Epoch 27/100\n",
            "294/300 [============================>.] - ETA: 0s - loss: 0.0050 - accuracy: 0.9981\n",
            "Epoch 27: val_accuracy did not improve from 0.99388\n",
            "300/300 [==============================] - 2s 6ms/step - loss: 0.0050 - accuracy: 0.9981 - val_loss: 0.0284 - val_accuracy: 0.9939\n",
            "Epoch 28/100\n",
            "296/300 [============================>.] - ETA: 0s - loss: 0.0068 - accuracy: 0.9976\n",
            "Epoch 28: val_accuracy did not improve from 0.99388\n",
            "300/300 [==============================] - 2s 8ms/step - loss: 0.0068 - accuracy: 0.9976 - val_loss: 0.0280 - val_accuracy: 0.9931\n",
            "Epoch 29/100\n",
            "295/300 [============================>.] - ETA: 0s - loss: 0.0043 - accuracy: 0.9985\n",
            "Epoch 29: val_accuracy did not improve from 0.99388\n",
            "300/300 [==============================] - 2s 6ms/step - loss: 0.0043 - accuracy: 0.9985 - val_loss: 0.0402 - val_accuracy: 0.9914\n",
            "Epoch 30/100\n",
            "294/300 [============================>.] - ETA: 0s - loss: 0.0057 - accuracy: 0.9980\n",
            "Epoch 30: val_accuracy did not improve from 0.99388\n",
            "300/300 [==============================] - 2s 6ms/step - loss: 0.0058 - accuracy: 0.9979 - val_loss: 0.0291 - val_accuracy: 0.9938\n",
            "Epoch 31/100\n",
            "297/300 [============================>.] - ETA: 0s - loss: 0.0062 - accuracy: 0.9979\n",
            "Epoch 31: val_accuracy did not improve from 0.99388\n",
            "300/300 [==============================] - 2s 6ms/step - loss: 0.0062 - accuracy: 0.9979 - val_loss: 0.0330 - val_accuracy: 0.9924\n",
            "Epoch 32/100\n",
            "294/300 [============================>.] - ETA: 0s - loss: 0.0043 - accuracy: 0.9986\n",
            "Epoch 32: val_accuracy did not improve from 0.99388\n",
            "300/300 [==============================] - 2s 6ms/step - loss: 0.0043 - accuracy: 0.9986 - val_loss: 0.0294 - val_accuracy: 0.9939\n"
          ]
        }
      ]
    },
    {
      "cell_type": "code",
      "source": [
        "# savec_path: 앞서 드라이브에 저장한 best model 불러오기\n",
        "saved_path = '/content/drive/MyDrive/mnist-9--0.02006--0.99376.hdf5'\n",
        "model.compile(optimizer='adam', loss='sparse_categorical_crossentropy', metrics=['accuracy'])\n",
        "model.load_weights(saved_path)\n",
        "\n",
        "print(f\"Loss, Accuracy {model.evaluate(test_images, test_labels)}\")"
      ],
      "metadata": {
        "id": "bTovDVB8p1Yu",
        "colab": {
          "base_uri": "https://localhost:8080/"
        },
        "outputId": "861e07b5-a674-40a6-c6ca-6be6df12ff1c"
      },
      "execution_count": 45,
      "outputs": [
        {
          "output_type": "stream",
          "name": "stdout",
          "text": [
            "47/47 [==============================] - 0s 4ms/step - loss: 0.0195 - accuracy: 0.9927\n",
            "Loss, Accuracy [0.019514624029397964, 0.9926666617393494]\n"
          ]
        }
      ]
    },
    {
      "cell_type": "code",
      "source": [
        "output = model(test_images)\n",
        "output.shape"
      ],
      "metadata": {
        "colab": {
          "base_uri": "https://localhost:8080/"
        },
        "id": "AXWNzoefCJ4m",
        "outputId": "f526d735-a3f7-4678-d22f-cdb6fa4f1c79"
      },
      "execution_count": 36,
      "outputs": [
        {
          "output_type": "execute_result",
          "data": {
            "text/plain": [
              "TensorShape([1500, 10])"
            ]
          },
          "metadata": {},
          "execution_count": 36
        }
      ]
    },
    {
      "cell_type": "code",
      "source": [
        "#softmax 거친 predict 값\n",
        "output[0]"
      ],
      "metadata": {
        "colab": {
          "base_uri": "https://localhost:8080/"
        },
        "id": "v3nGIkqBCVXo",
        "outputId": "15176220-6969-461f-9fff-4fb52c320b1a"
      },
      "execution_count": 37,
      "outputs": [
        {
          "output_type": "execute_result",
          "data": {
            "text/plain": [
              "<tf.Tensor: shape=(10,), dtype=float32, numpy=\n",
              "array([7.95260494e-05, 7.30366010e-05, 9.98218715e-01, 1.31021929e-03,\n",
              "       1.13874306e-08, 1.23768518e-06, 2.59468447e-06, 3.10109492e-04,\n",
              "       4.44269790e-06, 2.09293542e-08], dtype=float32)>"
            ]
          },
          "metadata": {},
          "execution_count": 37
        }
      ]
    },
    {
      "cell_type": "code",
      "source": [
        "#가장 확률 높은 예측값 출력\n",
        "import numpy as np\n",
        "np.argmax(output[0])"
      ],
      "metadata": {
        "colab": {
          "base_uri": "https://localhost:8080/"
        },
        "id": "-DGGRB8ECYNI",
        "outputId": "b97f329e-b78f-483b-fd64-cd532486ee61"
      },
      "execution_count": 38,
      "outputs": [
        {
          "output_type": "execute_result",
          "data": {
            "text/plain": [
              "2"
            ]
          },
          "metadata": {},
          "execution_count": 38
        }
      ]
    },
    {
      "cell_type": "code",
      "source": [
        "#test label과 예측값 일치 -> 잘 맞힌 것!\n",
        "test_labels[0]"
      ],
      "metadata": {
        "colab": {
          "base_uri": "https://localhost:8080/"
        },
        "id": "lQJGI0N9CgmF",
        "outputId": "9dec5391-0675-4c59-856e-af103e4b142a"
      },
      "execution_count": 41,
      "outputs": [
        {
          "output_type": "execute_result",
          "data": {
            "text/plain": [
              "2"
            ]
          },
          "metadata": {},
          "execution_count": 41
        }
      ]
    },
    {
      "cell_type": "code",
      "source": [
        ""
      ],
      "metadata": {
        "id": "jCKQ1i3sCkLI"
      },
      "execution_count": null,
      "outputs": []
    }
  ]
}