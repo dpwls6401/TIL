{
  "nbformat": 4,
  "nbformat_minor": 0,
  "metadata": {
    "colab": {
      "name": "0623_기출.ipynb",
      "provenance": [],
      "collapsed_sections": []
    },
    "kernelspec": {
      "name": "python3",
      "display_name": "Python 3"
    },
    "language_info": {
      "name": "python"
    }
  },
  "cells": [
    {
      "cell_type": "markdown",
      "source": [
        "분류 기출\n",
        "3. 정시 배송 여부 판단(2회 기출)"
      ],
      "metadata": {
        "id": "kDSzoyUygU_C"
      }
    },
    {
      "cell_type": "code",
      "execution_count": 35,
      "metadata": {
        "id": "dh-UtrsJfvTD",
        "colab": {
          "base_uri": "https://localhost:8080/"
        },
        "outputId": "079516c2-a4e4-4dfb-9efb-4575d73cf78e"
      },
      "outputs": [
        {
          "output_type": "stream",
          "name": "stdout",
          "text": [
            "0.6833998419012433\n",
            "0.6945935720596379\n",
            "0.6504918393141726\n",
            "0.6948186725622566\n",
            "0.6949824780923314\n",
            "0.6918547997811699\n",
            "         ID  Reached.on.Time_Y.N\n",
            "0      6811                    1\n",
            "1      4320                    0\n",
            "2      5732                    0\n",
            "3      7429                    0\n",
            "4      2191                    1\n",
            "...     ...                  ...\n",
            "4396   2610                    1\n",
            "4397   3406                    0\n",
            "4398  10395                    1\n",
            "4399   3646                    0\n",
            "4400    573                    1\n",
            "\n",
            "[4401 rows x 2 columns]\n"
          ]
        }
      ],
      "source": [
        "##0. 문제 의도 파악\n",
        "#이커머스 정보 토대로 정시 배송 여부 분류(0:미배송,1:정시)\n",
        "\n",
        "##1. 패키지 불러오기\n",
        "import pandas as pd\n",
        "from sklearn.preprocessing import LabelEncoder, StandardScaler, MinMaxScaler\n",
        "from sklearn.model_selection import train_test_split\n",
        "from sklearn.tree import DecisionTreeClassifier\n",
        "from sklearn.linear_model import LogisticRegression\n",
        "from sklearn.ensemble import VotingClassifier, RandomForestClassifier\n",
        "from xgboost import XGBClassifier\n",
        "from sklearn.svm import SVC\n",
        "from sklearn.metrics import roc_auc_score\n",
        "import warnings\n",
        "warnings.filterwarnings(\"ignore\")\n",
        "\n",
        "##2. 파일 읽기\n",
        "x_train = pd.read_csv('https://raw.githubusercontent.com/Datamanim/datarepo/main/shipping/X_train.csv')\n",
        "x_test = pd.read_csv('https://raw.githubusercontent.com/Datamanim/datarepo/main/shipping/X_test.csv')\n",
        "y_train = pd.read_csv('https://raw.githubusercontent.com/Datamanim/datarepo/main/shipping/y_train.csv')\n",
        "y_test = pd.read_csv('https://raw.githubusercontent.com/Datamanim/datarepo/main/shipping/y_test.csv')\n",
        "\n",
        "##3. 전처리\n",
        "# print(x_train.info())\n",
        "# print(x_train.describe())\n",
        "\n",
        "#범주형 변수 값 확인: Warehouse_block, Mode_of_Shipment, Customer_care_calls, Product_importance, Gender\n",
        "# print(x_train['Warehouse_block'].unique())\n",
        "# print(x_train['Mode_of_Shipment'].unique())\n",
        "# print(x_train['Customer_care_calls'].unique())\n",
        "# print(x_train['Product_importance'].unique())\n",
        "# print(x_train['Gender'].unique())\n",
        "\n",
        "#Gender: 수동인코딩\n",
        "x_train['Gender'] = x_train['Gender'].replace('M',0).replace('F',1)\n",
        "x_test['Gender'] = x_test['Gender'].replace('M',0).replace('F',1)\n",
        "\n",
        "#Customer_care_calls: 값 바꿔주고 int로 변환\n",
        "x_train['Customer_care_calls'] = x_train['Customer_care_calls'].replace('$7',7).astype('int64')\n",
        "x_test['Customer_care_calls'] = x_test['Customer_care_calls'].replace('$7',7).astype('int64')\n",
        "\n",
        "#불필요한 칼럼 삭제: ID\n",
        "x_test_id = x_test['ID']\n",
        "x_train.drop(columns= 'ID', inplace=True)\n",
        "x_test.drop(columns= 'ID', inplace=True)\n",
        "y_train.drop(columns= 'ID', inplace=True)\n",
        "y_test.drop(columns= 'ID', inplace=True)\n",
        "\n",
        "#스케일링\n",
        "scaler = MinMaxScaler()\n",
        "x_train['Cost_of_the_Product'] = scaler.fit_transform(x_train[['Cost_of_the_Product']])\n",
        "x_test['Cost_of_the_Product'] = scaler.transform(x_test[['Cost_of_the_Product']])\n",
        "x_train['Weight_in_gms'] = scaler.fit_transform(x_train[['Weight_in_gms']])\n",
        "x_test['Weight_in_gms'] = scaler.transform(x_test[['Weight_in_gms']])\n",
        "\n",
        "#원핫인코딩: Warehouse_block, Mode_of_Shipment, Product_importance\n",
        "x_dummy = pd.get_dummies(pd.concat([x_train, x_test], axis=0), drop_first=True)\n",
        "len_split = x_train.shape[0]\n",
        "x_train = x_dummy[:len_split]\n",
        "x_test = x_dummy[len_split:]\n",
        "\n",
        "#상관관계 파악\n",
        "data = pd.concat([x_train, y_train], axis=1)\n",
        "# print(data.corr())\n",
        "\n",
        "##4. 데이터 분리\n",
        "X_TRAIN, X_TEST, Y_TRAIN, Y_TEST = train_test_split(x_train, y_train, test_size=0.3, random_state=42)\n",
        "\n",
        "##5. 모델 생성 및 하이퍼 파라미터\n",
        "model_dt = DecisionTreeClassifier(max_depth=10, random_state=42)\n",
        "model_rf = RandomForestClassifier(n_estimators=100, max_depth=10, criterion='entropy', random_state=42)\n",
        "model_xgb = XGBClassifier(n_estimators=100, max_depth=10, eval_metric='error', random_state=42)\n",
        "model_svc = SVC(random_state=42)\n",
        "\n",
        "##6. 모델 학습 및 평가, 앙상블\n",
        "model_dt.fit(X_TRAIN, Y_TRAIN)\n",
        "model_rf.fit(X_TRAIN, Y_TRAIN)\n",
        "model_xgb.fit(X_TRAIN, Y_TRAIN)\n",
        "model_svc.fit(X_TRAIN, Y_TRAIN)\n",
        "\n",
        "pred_dt = model_dt.predict(X_TEST)\n",
        "pred_rf = model_rf.predict(X_TEST)\n",
        "pred_xgb = model_xgb.predict(X_TEST)\n",
        "pred_svc = model_svc.predict(X_TEST)\n",
        "\n",
        "print(roc_auc_score(Y_TEST, pred_dt))\n",
        "print(roc_auc_score(Y_TEST,pred_rf))\n",
        "print(roc_auc_score(Y_TEST, pred_xgb))\n",
        "print(roc_auc_score(Y_TEST, pred_svc))\n",
        "\n",
        "best_models = [('dt', model_dt), ('rf', model_rf)]\n",
        "voting_clf = VotingClassifier(estimators=best_models, voting='soft')\n",
        "voting_clf.fit(X_TRAIN, Y_TRAIN)\n",
        "Y_TEST_PRED = voting_clf.predict(X_TEST)\n",
        "print(roc_auc_score(Y_TEST, Y_TEST_PRED))\n",
        "\n",
        "##7. 결과 예측\n",
        "y_test_pred = pd.DataFrame(model_rf.predict(x_test)).rename(columns= {0:'Reached.on.Time_Y.N'})\n",
        "print(roc_auc_score(y_test, y_test_pred))\n",
        "\n",
        "##8. 파일 제출\n",
        "final = pd.concat([x_test_id, y_test_pred], axis=1)\n",
        "final.to_csv('/content/drive/MyDrive/bigData-main/004001009분류기출3.csv', index=False)\n",
        "\n",
        "final = pd.read_csv('/content/drive/MyDrive/bigData-main/004001009분류기출3.csv')\n",
        "print(final)"
      ]
    },
    {
      "cell_type": "markdown",
      "source": [
        "분류기출\n",
        "2. 이직여부 판단"
      ],
      "metadata": {
        "id": "K2wqv-NCxOTC"
      }
    },
    {
      "cell_type": "code",
      "source": [
        "##0. 문제 의도 파악\n",
        "#사원정보 통해 이직여부 분류(0:노이직, 1:이직)\n",
        "\n",
        "##1. 패키지 불러오기\n",
        "import pandas as pd\n",
        "from sklearn.preprocessing import LabelEncoder, StandardScaler, MinMaxScaler\n",
        "from sklearn.model_selection import train_test_split\n",
        "from sklearn.tree import DecisionTreeClassifier\n",
        "from sklearn.ensemble import VotingClassifier, BaggingClassifier, RandomForestClassifier\n",
        "from xgboost import XGBClassifier\n",
        "from sklearn.metrics import roc_auc_score\n",
        "import warnings\n",
        "warnings.filterwarnings(\"ignore\")\n",
        "from scipy.stats import mode\n",
        "\n",
        "##2. 파일 읽기\n",
        "x_train = pd.read_csv('https://raw.githubusercontent.com/Datamanim/datarepo/main/HRdata/X_train.csv')\n",
        "x_test = pd.read_csv('https://raw.githubusercontent.com/Datamanim/datarepo/main/HRdata/X_test.csv')\n",
        "y_train = pd.read_csv('https://raw.githubusercontent.com/Datamanim/datarepo/main/HRdata/y_train.csv')\n",
        "y_test = pd.read_csv('https://raw.githubusercontent.com/Datamanim/datarepo/main/HRdata/y_test.csv')\n",
        "# print(x_train.head())\n",
        "# print(x_train.shape)\n",
        "# print(x_test.head())\n",
        "# print(x_test.shape)\n",
        "# print(y_train.head())\n",
        "# print(y_train.shape)\n",
        "\n",
        "##3. 전처리\n",
        "# print(x_train.info())\n",
        "# print(x_train.describe())\n",
        "# print(x_train.isnull().sum())\n",
        "# print(x_test.isnull().sum())\n",
        "\n",
        "# for col in x_train.columns:\n",
        "#   if x_train[col].dtype == 'object':\n",
        "#     print(col, x_train[col].unique())\n",
        "\n",
        "# print(x_train.info())\n",
        "\n",
        "#불필요한 칼럼 삭제: enrollee_id\n",
        "x_test_enrollee_id = x_test['enrollee_id']\n",
        "x_train.drop(columns= ['enrollee_id', 'city', 'company_size', 'company_type'], inplace= True)\n",
        "x_test.drop(columns= ['enrollee_id', 'city', 'company_size', 'company_type'], inplace= True)\n",
        "y_train.drop(columns= ['enrollee_id'], inplace= True)\n",
        "y_test.drop(columns= ['enrollee_id'], inplace=True)\n",
        "\n",
        "#결측치 처리\n",
        "x_train['gender'].fillna(2, inplace=True)\n",
        "x_test['gender'].fillna(2, inplace=True)\n",
        "\n",
        "x_train['enrolled_university'].fillna('Other', inplace=True)\n",
        "x_test['enrolled_university'].fillna('Other', inplace=True)\n",
        "\n",
        "x_train['education_level'].fillna('Other', inplace=True)\n",
        "x_test['education_level'].fillna('Other', inplace=True)\n",
        "\n",
        "x_train['major_discipline'].fillna('Other', inplace=True)\n",
        "x_test['major_discipline'].fillna('Other', inplace=True)\n",
        "\n",
        "x_train['experience'].fillna(21, inplace=True)\n",
        "x_test['experience'].fillna(21, inplace=True)\n",
        "# print(mode(x_train['experience']))\n",
        "\n",
        "x_train['last_new_job'].fillna(1, inplace=True)\n",
        "x_test['last_new_job'].fillna(1, inplace=True)\n",
        "# print(mode(x_train['last_new_job']))\n",
        "\n",
        "#수동 인코딩: gender, relevent_experience\n",
        "x_train['gender'] = x_train['gender'].replace('Male',0).replace('Female',1).replace('Other',2)\n",
        "x_test['gender'] = x_test['gender'].replace('Male',0).replace('Female',1).replace('Other',2)\n",
        "\n",
        "x_train['relevent_experience'] = x_train['relevent_experience'].replace('No relevent experience',0).replace('Has relevent experience',1)\n",
        "x_test['relevent_experience'] = x_test['relevent_experience'].replace('No relevent experience',0).replace('Has relevent experience',1)\n",
        "\n",
        "x_train['experience'] = x_train['experience'].replace('<1',0).replace('>20',21)\n",
        "x_test['experience'] = x_test['experience'].replace('<1',0).replace('>20',21)\n",
        "\n",
        "x_train['last_new_job'] = x_train['last_new_job'].replace('never',0).replace('>4',5)\n",
        "x_test['last_new_job'] = x_test['last_new_job'].replace('never',0).replace('>4',5)\n",
        "\n",
        "x_train['enrolled_university'] = x_train['enrolled_university'].replace('Other',0).replace('no_enrollment',1).replace('Part time course',2).replace('Full time course',3)\n",
        "x_test['enrolled_university'] = x_test['enrolled_university'].replace('Other',0).replace('no_enrollment',1).replace('Part time course',2).replace('Full time course',3)\n",
        "\n",
        "x_train['education_level'] = x_train['education_level'].replace('Other',0).replace('High School',1).replace('Graduate',2).replace('Primary School',3).replace('Masters',4).replace('Phd',5)\n",
        "x_test['education_level'] = x_test['education_level'].replace('Other',0).replace('High School',1).replace('Graduate',2).replace('Primary School',3).replace('Masters',4).replace('Phd',5)\n",
        "# print(x_train.info())\n",
        "\n",
        "x_train['experience'] = x_train['experience'].astype('int64')\n",
        "x_test['experience'] = x_test['experience'].astype('int64')\n",
        "x_train['last_new_job'] = x_train['last_new_job'].astype('int64')\n",
        "x_test['last_new_job'] = x_test['last_new_job'].astype('int64')\n",
        "# print(x_train.info())\n",
        "\n",
        "# for col in x_train.columns:\n",
        "#   if x_train[col].dtype == 'object':\n",
        "#     print(col, x_train[col].unique())\n",
        "\n",
        "#라벨 인코딩: 과목\n",
        "encoder = LabelEncoder()\n",
        "x_train['major_discipline'] = encoder.fit_transform(x_train['major_discipline'])\n",
        "x_test['major_discipline'] = encoder.fit_transform(x_test['major_discipline'])\n",
        "# print(x_train.head())\n",
        "# print(x_train.info())\n",
        "\n",
        "#스케일링: experience, training_hours\n",
        "# print(x_train.describe())\n",
        "scaler = MinMaxScaler()\n",
        "x_train['experience'] = scaler.fit_transform(x_train[['experience']])\n",
        "x_test['experience'] = scaler.transform(x_test[['experience']])\n",
        "x_train['training_hours'] = scaler.fit_transform(x_train[['training_hours']])\n",
        "x_test['training_hours'] = scaler.transform(x_test[['training_hours']])\n",
        "\n",
        "#상관관계 확인\n",
        "# print(x_train.corr())\n",
        "\n",
        "##4. 데이터 분리\n",
        "X_TRAIN, X_TEST, Y_TRAIN, Y_TEST = train_test_split(x_train, y_train, test_size=0.3, random_state=42)\n",
        "\n",
        "##5. 모델 생성 및 하이퍼 파라미터\n",
        "model_dt = DecisionTreeClassifier(criterion='entropy', max_depth= 10, random_state=42)\n",
        "model_rf = RandomForestClassifier(n_estimators=100, max_depth=10, random_state=42)\n",
        "model_xgb = XGBClassifier(n_estimators=100, max_depth=5, eval_metric='error', random_state=42)\n",
        "\n",
        "##6. 모델 학습 및 평가, 앙상블\n",
        "model_dt.fit(X_TRAIN, Y_TRAIN)\n",
        "model_rf.fit(X_TRAIN, Y_TRAIN)\n",
        "model_xgb.fit(X_TRAIN, Y_TRAIN)\n",
        "\n",
        "pred_dt = model_dt.predict(X_TEST)\n",
        "pred_rf = model_rf.predict(X_TEST)\n",
        "pred_xgb = model_xgb.predict(X_TEST)\n",
        "\n",
        "print(roc_auc_score(Y_TEST, pred_dt))\n",
        "print(roc_auc_score(Y_TEST, pred_rf))\n",
        "print(roc_auc_score(Y_TEST, pred_xgb))\n",
        "\n",
        "# best_models = [('dt', model_dt), ('rf',model_rf), ('xgb', model_xgb)]\n",
        "# voting_clf = VotingClassifier(estimators=best_models, voting='soft')\n",
        "# voting_clf.fit(X_TRAIN, Y_TRAIN)\n",
        "Y_TEST_PRED = model_dt.predict(X_TEST)\n",
        "print(roc_auc_score(Y_TEST, Y_TEST_PRED))\n",
        "\n",
        "#for문으로 최적의 random_state값 찾기\n",
        "# roc_list = []\n",
        "# for i in range(1,20):\n",
        "#   X_TRAIN, X_TEST, Y_TRAIN, Y_TEST = train_test_split(x_train, y_train, test_size=0.3, random_state= 42)\n",
        "#   model_dt = DecisionTreeClassifier(criterion='entropy', max_depth= i, random_state= 42)\n",
        "#   model_rf = RandomForestClassifier(n_estimators=100, max_depth=i, random_state= 42)\n",
        "#   model_xgb = XGBClassifier(n_estimators=100, max_depth=i, eval_metric='error', random_state=42)\n",
        "\n",
        "#   model_dt.fit(X_TRAIN, Y_TRAIN)\n",
        "#   model_rf.fit(X_TRAIN, Y_TRAIN)\n",
        "#   model_xgb.fit(X_TRAIN, Y_TRAIN)\n",
        "\n",
        "#   pred_dt = model_dt.predict(X_TEST)\n",
        "#   pred_rf = model_rf.predict(X_TEST)\n",
        "#   pred_xgb = model_xgb.predict(X_TEST)\n",
        "\n",
        "#   roc_dt = roc_auc_score(Y_TEST, pred_dt)\n",
        "#   roc_rf = roc_auc_score(Y_TEST, pred_rf)\n",
        "#   roc_xgb = roc_auc_score(Y_TEST, pred_xgb)\n",
        "\n",
        "#   roc_list.append((i, roc_dt, roc_rf, roc_xgb))\n",
        "\n",
        "# roc_list.sort()\n",
        "# print(roc_list[0])\n",
        "\n",
        "##7. 결과 예측: target\n",
        "y_test_pred = pd.DataFrame(model_dt.predict(x_test)).rename(columns= {0:'target'})\n",
        "print(roc_auc_score(y_test, y_test_pred))\n",
        "\n",
        "##8. 파일 제출\n",
        "final = pd.concat([x_test_enrollee_id, y_test_pred], axis=1)\n",
        "final.to_csv('/content/drive/MyDrive/bigData-main/004001009분류2.csv', index=False)\n",
        "final = pd.read_csv('/content/drive/MyDrive/bigData-main/004001009분류2.csv')\n",
        "# print(final)"
      ],
      "metadata": {
        "colab": {
          "base_uri": "https://localhost:8080/"
        },
        "id": "rCr6SkrjiWvy",
        "outputId": "95d0fe7a-93b4-4d67-bf2b-491405a557ae"
      },
      "execution_count": 93,
      "outputs": [
        {
          "output_type": "stream",
          "name": "stdout",
          "text": [
            "0.6498202513617177\n",
            "0.6446702571846953\n",
            "0.6480565573410566\n",
            "0.6498202513617177\n",
            "0.6586340872497638\n",
            "      enrollee_id  target\n",
            "0            7129     0.0\n",
            "1           31037     0.0\n",
            "2           22179     0.0\n",
            "3           29724     1.0\n",
            "4           17977     0.0\n",
            "...           ...     ...\n",
            "6701         3601     0.0\n",
            "6702         2745     0.0\n",
            "6703        18520     0.0\n",
            "6704        10067     0.0\n",
            "6705         8203     1.0\n",
            "\n",
            "[6706 rows x 2 columns]\n"
          ]
        }
      ]
    },
    {
      "cell_type": "code",
      "source": [
        "##0. 문제 의도 파악\n",
        "#사원정보 통해 이직여부 분류(0:노이직, 1:이직)\n",
        "\n",
        "##1. 패키지 불러오기\n",
        "import pandas as pd\n",
        "from sklearn.preprocessing import LabelEncoder, StandardScaler, MinMaxScaler\n",
        "from sklearn.model_selection import train_test_split\n",
        "from sklearn.tree import DecisionTreeClassifier\n",
        "from sklearn.ensemble import VotingClassifier, BaggingClassifier, RandomForestClassifier\n",
        "from xgboost import XGBClassifier\n",
        "from sklearn.metrics import roc_auc_score\n",
        "import warnings\n",
        "warnings.filterwarnings(\"ignore\")\n",
        "from scipy.stats import mode\n",
        "\n",
        "##2. 파일 읽기\n",
        "x_train = pd.read_csv('https://raw.githubusercontent.com/Datamanim/datarepo/main/HRdata/X_train.csv')\n",
        "x_test = pd.read_csv('https://raw.githubusercontent.com/Datamanim/datarepo/main/HRdata/X_test.csv')\n",
        "y_train = pd.read_csv('https://raw.githubusercontent.com/Datamanim/datarepo/main/HRdata/y_train.csv')\n",
        "y_test = pd.read_csv('https://raw.githubusercontent.com/Datamanim/datarepo/main/HRdata/y_test.csv')\n",
        "\n",
        "##3. 전처리\n",
        "#불필요한 칼럼 삭제: enrollee_id\n",
        "x_test_enrollee_id = x_test['enrollee_id']\n",
        "x_train.drop(columns= ['enrollee_id', 'city', 'company_size', 'company_type'], inplace= True)\n",
        "x_test.drop(columns= ['enrollee_id', 'city', 'company_size', 'company_type'], inplace= True)\n",
        "y_train.drop(columns= ['enrollee_id'], inplace= True)\n",
        "y_test.drop(columns= ['enrollee_id'], inplace=True)\n",
        "\n",
        "#결측치 처리\n",
        "x_train['gender'].fillna(2, inplace=True)\n",
        "x_test['gender'].fillna(2, inplace=True)\n",
        "\n",
        "x_train['enrolled_university'].fillna('Other', inplace=True)\n",
        "x_test['enrolled_university'].fillna('Other', inplace=True)\n",
        "\n",
        "x_train['education_level'].fillna('other', inplace=True)\n",
        "x_test['education_level'].fillna('other', inplace=True)\n",
        "\n",
        "x_train['major_discipline'].fillna('Other', inplace=True)\n",
        "x_test['major_discipline'].fillna('Other', inplace=True)\n",
        "\n",
        "x_train['experience'].fillna(21, inplace=True)\n",
        "x_test['experience'].fillna(21, inplace=True)\n",
        "# print(mode(x_train['experience']))\n",
        "\n",
        "x_train['last_new_job'].fillna(1, inplace=True)\n",
        "x_test['last_new_job'].fillna(1, inplace=True)\n",
        "# print(mode(x_train['last_new_job']))\n",
        "\n",
        "#수동 인코딩\n",
        "x_train['experience'] = x_train['experience'].replace('<1',0).replace('>20',21)\n",
        "x_test['experience'] = x_test['experience'].replace('<1',0).replace('>20',21)\n",
        "\n",
        "#스케일링: experience, training_hours\n",
        "# print(x_train.describe())\n",
        "scaler = MinMaxScaler()\n",
        "x_train['experience'] = scaler.fit_transform(x_train[['experience']])\n",
        "x_test['experience'] = scaler.transform(x_test[['experience']])\n",
        "x_train['training_hours'] = scaler.fit_transform(x_train[['training_hours']])\n",
        "x_test['training_hours'] = scaler.transform(x_test[['training_hours']])\n",
        "\n",
        "#수동 인코딩: gender, relevent_experience\n",
        "x_dummy = pd.get_dummies(pd.concat([x_train, x_test], axis=0))\n",
        "len_split = x_train.shape[0]\n",
        "x_train = x_dummy[:len_split]\n",
        "x_test = x_dummy[len_split:]\n",
        "\n",
        "#상관관계 확인\n",
        "# print(x_train.corr())\n",
        "\n",
        "##4. 데이터 분리\n",
        "X_TRAIN, X_TEST, Y_TRAIN, Y_TEST = train_test_split(x_train, y_train, test_size=0.3, random_state=42)\n",
        "\n",
        "##5. 모델 생성 및 하이퍼 파라미터\n",
        "model_dt = DecisionTreeClassifier(criterion='entropy', max_depth= 10, random_state=42)\n",
        "model_rf = RandomForestClassifier(n_estimators=100, max_depth=10, random_state=42)\n",
        "model_xgb = XGBClassifier(n_estimators=100, max_depth=5, eval_metric='error', random_state=42)\n",
        "\n",
        "##6. 모델 학습 및 평가, 앙상블\n",
        "model_dt.fit(X_TRAIN, Y_TRAIN)\n",
        "model_rf.fit(X_TRAIN, Y_TRAIN)\n",
        "# model_xgb.fit(X_TRAIN, Y_TRAIN)\n",
        "\n",
        "pred_dt = model_dt.predict(X_TEST)\n",
        "pred_rf = model_rf.predict(X_TEST)\n",
        "# pred_xgb = model_xgb.predict(X_TEST)\n",
        "\n",
        "print(roc_auc_score(Y_TEST, pred_dt))\n",
        "print(roc_auc_score(Y_TEST, pred_rf))\n",
        "# print(roc_auc_score(Y_TEST, pred_xgb))\n",
        "\n",
        "# best_models = [('dt', model_dt), ('rf',model_rf), ('xgb', model_xgb)]\n",
        "# voting_clf = VotingClassifier(estimators=best_models, voting='soft')\n",
        "# voting_clf.fit(X_TRAIN, Y_TRAIN)\n",
        "Y_TEST_PRED = model_dt.predict(X_TEST)\n",
        "# print(roc_auc_score(Y_TEST, Y_TEST_PRED))\n",
        "\n",
        "##7. 결과 예측: target\n",
        "y_test_pred = pd.DataFrame(model_dt.predict(x_test)).rename(columns= {0:'target'})\n",
        "# print(roc_auc_score(y_test, y_test_pred))\n",
        "\n",
        "##8. 파일 제출\n",
        "final = pd.concat([x_test_enrollee_id, y_test_pred], axis=1)\n",
        "final.to_csv('/content/drive/MyDrive/bigData-main/004001009분류2.csv', index=False)\n",
        "final = pd.read_csv('/content/drive/MyDrive/bigData-main/004001009분류2.csv')\n",
        "# print(final)"
      ],
      "metadata": {
        "colab": {
          "base_uri": "https://localhost:8080/"
        },
        "id": "5tPsLbzuzbJP",
        "outputId": "4732d26b-fb7a-4674-9b19-beba17e1701a"
      },
      "execution_count": 99,
      "outputs": [
        {
          "output_type": "stream",
          "name": "stdout",
          "text": [
            "0.6279119183943092\n",
            "0.6252541586560949\n"
          ]
        }
      ]
    },
    {
      "cell_type": "markdown",
      "source": [
        "분류 기출\n",
        "11. 당뇨여부판단"
      ],
      "metadata": {
        "id": "JAK4oC_--xjG"
      }
    },
    {
      "cell_type": "code",
      "source": [
        "##0. 문제의도 파악\n",
        "#환자 정보 통해 '당뇨여부' 분류(0:정상, 1:당뇨)\n",
        "\n",
        "##1. 패키지 불러오기\n",
        "import pandas as pd\n",
        "from sklearn.preprocessing import LabelEncoder, StandardScaler, MinMaxScaler\n",
        "from sklearn.model_selection import train_test_split\n",
        "from sklearn.tree import DecisionTreeClassifier\n",
        "from sklearn.ensemble import RandomForestClassifier, VotingClassifier\n",
        "from xgboost import XGBClassifier\n",
        "from sklearn.svm import SVC\n",
        "from sklearn.metrics import roc_auc_score\n",
        "import warnings\n",
        "warnings.filterwarnings('ignore')\n",
        "\n",
        "##2. 파일 읽기\n",
        "x_train = pd.read_csv('https://raw.githubusercontent.com/Datamanim/datarepo/main/diabetes/x_train.csv')\n",
        "x_test = pd.read_csv('https://raw.githubusercontent.com/Datamanim/datarepo/main/diabetes/x_test.csv')\n",
        "y_train = pd.read_csv('https://raw.githubusercontent.com/Datamanim/datarepo/main/diabetes/y_train.csv')\n",
        "y_test = pd.read_csv('https://raw.githubusercontent.com/Datamanim/datarepo/main/diabetes/y_test.csv')\n",
        "# print(x_train.head())\n",
        "# print(x_train.shape)\n",
        "# print(x_test.head())\n",
        "# print(x_test.shape)\n",
        "# print(y_train.head())\n",
        "# print(y_train.shape)\n",
        "\n",
        "##3. 전처리\n",
        "# print(x_train.info())\n",
        "# print(x_train.describe())\n",
        "\n",
        "#불필요한 칼럼 삭제: ID\n",
        "x_test_id = x_test['ID']\n",
        "x_train.drop(columns= 'ID', inplace=True)\n",
        "x_test.drop(columns= 'ID', inplace=True)\n",
        "y_train.drop(columns= 'ID', inplace=True)\n",
        "y_test.drop(columns= 'ID', inplace=True)\n",
        "\n",
        "#데이터 스케일링\n",
        "scaler = MinMaxScaler()\n",
        "x_train = pd.DataFrame(scaler.fit_transform(x_train), columns= x_train.columns)\n",
        "x_test = pd.DataFrame(scaler.fit_transform(x_test), columns= x_train.columns)\n",
        "\n",
        "#상관관계 파악\n",
        "# print(x_train.corr())\n",
        "\n",
        "##4. 데이터 분리\n",
        "X_TRAIN, X_TEST, Y_TRAIN, Y_TEST = train_test_split(x_train, y_train, test_size=0.3, random_state=42)\n",
        "\n",
        "##5. 모델 생성 및 하이퍼 파라미터\n",
        "model_dt = DecisionTreeClassifier(max_depth=10, random_state=42)\n",
        "model_rf = RandomForestClassifier(n_estimators=200, criterion='entropy', max_depth=10, random_state=42)\n",
        "model_xgb = XGBClassifier(max_depth=10, eval_metric='error', random_state=42)\n",
        "\n",
        "##6. 모델 학습 및 평가, 앙상블\n",
        "model_dt.fit(X_TRAIN, Y_TRAIN)\n",
        "model_rf.fit(X_TRAIN, Y_TRAIN)\n",
        "model_xgb.fit(X_TRAIN, Y_TRAIN)\n",
        "\n",
        "pred_dt = model_dt.predict(X_TEST)\n",
        "pred_rf = model_rf.predict(X_TEST)\n",
        "pred_xgb = model_xgb.predict(X_TEST)\n",
        "\n",
        "print(roc_auc_score(Y_TEST, pred_dt))\n",
        "print(roc_auc_score(Y_TEST, pred_rf))\n",
        "print(roc_auc_score(Y_TEST, pred_xgb))\n",
        "\n",
        "best_models = [('rf', model_rf), ('xgb', model_xgb)]\n",
        "voting_clf = VotingClassifier(estimators=best_models, voting='soft')\n",
        "voting_clf.fit(X_TRAIN, Y_TRAIN)\n",
        "Y_TEST_PRED = voting_clf.predict(X_TEST)\n",
        "print(roc_auc_score(Y_TEST, Y_TEST_PRED))\n",
        "\n",
        "##7. 결과 예측: outcome\n",
        "y_test_pred = pd.DataFrame(voting_clf.predict(x_test)).rename(columns={0:'Outcome'})\n",
        "print(roc_auc_score(y_test, y_test_pred))\n",
        "# print(y_test_pred)\n",
        "\n",
        "##8. 파일 제출\n",
        "final = pd.concat([x_test_id, y_test_pred], axis=1)\n",
        "final.to_csv('/content/drive/MyDrive/bigData-main/004001009분류11.csv', index=False)\n",
        "# final = pd.read_csv('/content/drive/MyDrive/bigData-main/004001009분류11.csv')\n",
        "# print(final)"
      ],
      "metadata": {
        "colab": {
          "base_uri": "https://localhost:8080/"
        },
        "id": "As_F9P_s73th",
        "outputId": "9d60b4cb-b065-4b4b-e6f3-681751935dcd"
      },
      "execution_count": 118,
      "outputs": [
        {
          "output_type": "stream",
          "name": "stdout",
          "text": [
            "0.6265734265734265\n",
            "0.7325174825174825\n",
            "0.7402097902097903\n",
            "0.7479020979020979\n",
            "0.8050505050505049\n",
            "     Outcome\n",
            "0          0\n",
            "1          0\n",
            "2          0\n",
            "3          1\n",
            "4          0\n",
            "..       ...\n",
            "149        1\n",
            "150        1\n",
            "151        0\n",
            "152        1\n",
            "153        1\n",
            "\n",
            "[154 rows x 1 columns]\n",
            "      ID  Outcome\n",
            "0     13        0\n",
            "1     18        0\n",
            "2     29        0\n",
            "3     33        1\n",
            "4     34        0\n",
            "..   ...      ...\n",
            "149  751        1\n",
            "150  752        1\n",
            "151  759        0\n",
            "152  765        1\n",
            "153  767        1\n",
            "\n",
            "[154 rows x 2 columns]\n"
          ]
        }
      ]
    },
    {
      "cell_type": "markdown",
      "source": [
        "교재 - 작업형1\n",
        "1. Top 10 구하기"
      ],
      "metadata": {
        "id": "Lsrbw3JaMcvB"
      }
    },
    {
      "cell_type": "code",
      "source": [
        "import pandas as pd\n",
        "df = pd.read_csv('/content/drive/MyDrive/bigData-main/boston.csv')\n",
        "\n",
        "#오름차순 정렬\n",
        "df.sort_values(by='MEDV', ascending=True, inplace= True)\n",
        "result = df['MEDV'].head(10)\n",
        "print(result)"
      ],
      "metadata": {
        "colab": {
          "base_uri": "https://localhost:8080/"
        },
        "id": "mzbfAq3qAo7S",
        "outputId": "83316e0d-90e1-4d7a-bffd-bc025167e1cc"
      },
      "execution_count": 122,
      "outputs": [
        {
          "output_type": "stream",
          "name": "stdout",
          "text": [
            "398    5.0\n",
            "405    5.0\n",
            "400    5.6\n",
            "399    6.3\n",
            "414    7.0\n",
            "489    7.0\n",
            "401    7.2\n",
            "385    7.2\n",
            "415    7.2\n",
            "387    7.4\n",
            "Name: MEDV, dtype: float64\n"
          ]
        }
      ]
    },
    {
      "cell_type": "markdown",
      "source": [
        "2. 결측치 확인하기"
      ],
      "metadata": {
        "id": "tHLWGcZqfZUd"
      }
    },
    {
      "cell_type": "code",
      "source": [
        "import pandas as pd\n",
        "df = pd.read_csv('/content/drive/MyDrive/bigData-main/boston.csv')\n",
        "\n",
        "#결측치 확인\n",
        "# print(df.head())\n",
        "# print(df.isnull().sum())\n",
        "\n",
        "#평균값 대치\n",
        "df_mean = df['RM'].copy()\n",
        "rm_mean = df['RM'].mean()\n",
        "df_mean.fillna(rm_mean, inplace=True)\n",
        "\n",
        "#결측치 삭제\n",
        "df_del = df['RM'].copy()\n",
        "df_del.dropna(inplace=True)\n",
        "\n",
        "#표준편차 값 차이(절대값)\n",
        "result = abs(df_mean.std() - df_del.std())\n",
        "print(result)"
      ],
      "metadata": {
        "colab": {
          "base_uri": "https://localhost:8080/"
        },
        "id": "6qi32LuYe4uO",
        "outputId": "44d21642-5150-443f-d4f2-e6d9b4a105b2"
      },
      "execution_count": 133,
      "outputs": [
        {
          "output_type": "stream",
          "name": "stdout",
          "text": [
            "0.010595546094104513\n"
          ]
        }
      ]
    },
    {
      "cell_type": "markdown",
      "source": [
        "3. 이상값 확인하기"
      ],
      "metadata": {
        "id": "eb_XRiMShsQ-"
      }
    },
    {
      "cell_type": "code",
      "source": [
        "import pandas as pd\n",
        "df = pd.read_csv('/content/drive/MyDrive/bigData-main/boston.csv')\n",
        "\n",
        "#평균값, 표준편차\n",
        "zn_mean = df['ZN'].mean()\n",
        "zn_std = df['ZN'].std()\n",
        "\n",
        "#최소/최대경계값\n",
        "zn_min = zn_mean - (1.5 * zn_std)\n",
        "zn_max = zn_mean + (1.5 * zn_std)\n",
        "\n",
        "#이상값 구하기\n",
        "df_min = df[df['ZN'] < zn_min]['ZN']\n",
        "df_max = df[df['ZN'] > zn_max]['ZN']\n",
        "\n",
        "#이상값 합계\n",
        "result = df_max.sum()\n",
        "print(result)"
      ],
      "metadata": {
        "colab": {
          "base_uri": "https://localhost:8080/"
        },
        "id": "5Zl7i2eOftyk",
        "outputId": "88fc7c80-65bb-41d1-a743-9381803bf52c"
      },
      "execution_count": 136,
      "outputs": [
        {
          "output_type": "stream",
          "name": "stdout",
          "text": [
            "3462.5\n"
          ]
        }
      ]
    },
    {
      "cell_type": "markdown",
      "source": [
        "4. 사분위수 구하기"
      ],
      "metadata": {
        "id": "cfY8Vf-Qi8k_"
      }
    },
    {
      "cell_type": "code",
      "source": [
        "import pandas as pd\n",
        "df = pd.read_csv('/content/drive/MyDrive/bigData-main/boston.csv')\n",
        "\n",
        "#칼럼 제외\n",
        "data = df.copy()\n",
        "data.drop(columns= ['CHAS', 'RAD'], inplace=True)\n",
        "\n",
        "#IQR 구하기\n",
        "data_desc = data.describe()\n",
        "data_iqr = data_desc.iloc[[4,6]].T\n",
        "\n",
        "data_iqr['IQR'] = data_iqr['75%'] - data_iqr['25%']\n",
        "result = data_iqr['IQR']\n",
        "print(result)"
      ],
      "metadata": {
        "colab": {
          "base_uri": "https://localhost:8080/"
        },
        "id": "0Xo20aT-itlp",
        "outputId": "fee0f0ba-713e-42d9-9e78-65461ea7fbeb"
      },
      "execution_count": 141,
      "outputs": [
        {
          "output_type": "stream",
          "name": "stdout",
          "text": [
            "CRIM         3.595038\n",
            "ZN          12.500000\n",
            "INDUS       12.910000\n",
            "NOX          0.175000\n",
            "RM           0.736000\n",
            "AGE         49.050000\n",
            "DIS          3.088250\n",
            "TAX        387.000000\n",
            "PTRATIO      2.800000\n",
            "B           20.847500\n",
            "LSTAT       10.005000\n",
            "MEDV         7.975000\n",
            "Name: IQR, dtype: float64\n"
          ]
        }
      ]
    },
    {
      "cell_type": "markdown",
      "source": [
        "5. 순위 구하기"
      ],
      "metadata": {
        "id": "LhVeP3EDkKkR"
      }
    },
    {
      "cell_type": "code",
      "source": [
        "import pandas as pd\n",
        "data = pd.read_csv('/content/drive/MyDrive/bigData-main/boston.csv')\n",
        "\n",
        "#내림차순 정렬\n",
        "df = data.sort_values(by='MEDV', ascending=False)\n",
        "\n",
        "#30번째로 큰 값으로 대치(41.7)\n",
        "df['MEDV'].iloc[0:29] = 41.7\n",
        "# print(df['MEDV'].head(30))\n",
        "\n",
        "#평균값, 중위값, 최솟값, 최댓값\n",
        "print(df['MEDV'].mean(), df['MEDV'].median(), df['MEDV'].min(), df['MEDV'].max())"
      ],
      "metadata": {
        "colab": {
          "base_uri": "https://localhost:8080/"
        },
        "id": "O5LQ1NnYjPaK",
        "outputId": "1ab1b644-3ff6-467c-8756-a18bb567d2c0"
      },
      "execution_count": 145,
      "outputs": [
        {
          "output_type": "stream",
          "name": "stdout",
          "text": [
            "22.1796442687747 21.2 5.0 41.7\n"
          ]
        }
      ]
    },
    {
      "cell_type": "markdown",
      "source": [
        "6. 그룹별 집계/요약하기"
      ],
      "metadata": {
        "id": "SuMQ1l7olPuv"
      }
    },
    {
      "cell_type": "code",
      "source": [
        "import pandas as pd\n",
        "df = pd.read_csv('/content/drive/MyDrive/bigData-main/boston.csv')\n",
        "# print(df.head())\n",
        "\n",
        "#중위값 보다 큰 데이터 확인\n",
        "tax_median = df['TAX'].median()\n",
        "df_new = df[df['TAX'] > tax_median]\n",
        "\n",
        "#그룹화, 각 그룹의 데이터 개수 & COUNT 칼럼 출력\n",
        "result = pd.DataFrame(df_new.groupby(['CHAS', 'RAD'])['RAD'].count()).rename(columns= {'RAD':'COUNT'})\n",
        "print(result)"
      ],
      "metadata": {
        "colab": {
          "base_uri": "https://localhost:8080/"
        },
        "id": "kdE3UknVkrau",
        "outputId": "6864a005-5f36-49e8-d4cb-ba65bd0e4358"
      },
      "execution_count": 157,
      "outputs": [
        {
          "output_type": "stream",
          "name": "stdout",
          "text": [
            "          COUNT\n",
            "CHAS RAD       \n",
            "0    1        3\n",
            "     2        2\n",
            "     3        5\n",
            "     4       33\n",
            "     5       51\n",
            "     6       17\n",
            "     24     124\n",
            "1    5        7\n",
            "     24       8\n"
          ]
        }
      ]
    },
    {
      "cell_type": "markdown",
      "source": [
        "7. 오름차순/내림차순 정렬하기"
      ],
      "metadata": {
        "id": "4rbOORMLnKc9"
      }
    },
    {
      "cell_type": "code",
      "source": [
        "import pandas as pd\n",
        "df = pd.read_csv('/content/drive/MyDrive/bigData-main/boston.csv')\n",
        "\n",
        "#TAX칼럼 오름차순 정렬\n",
        "df_asc = df['TAX'].copy()\n",
        "df_asc.sort_values(ascending= True, inplace=True)\n",
        "\n",
        "#내림차순 정렬\n",
        "df_desc = df['TAX'].copy()\n",
        "df_desc.sort_values(ascending= False, inplace= True)\n",
        "\n",
        "#인덱스 재설정\n",
        "df_asc.reset_index(drop=True, inplace=True)\n",
        "df_desc.reset_index(drop=True, inplace=True)\n",
        "\n",
        "df_concat = pd.concat([df_asc, df_desc], axis=1)\n",
        "\n",
        "#(오름차순 - 내림차순)의 분산 값\n",
        "df_concat['diff'] = df_concat.iloc[:,1] - df_concat.iloc[:,0]\n",
        "print(df_concat['diff'].var())"
      ],
      "metadata": {
        "colab": {
          "base_uri": "https://localhost:8080/"
        },
        "id": "jj7HF3Q0lxn1",
        "outputId": "501c52f2-7217-4596-a1ef-6704b9f88f3c"
      },
      "execution_count": 165,
      "outputs": [
        {
          "output_type": "stream",
          "name": "stdout",
          "text": [
            "101954.72475247525\n"
          ]
        }
      ]
    },
    {
      "cell_type": "code",
      "source": [
        "import pandas as pd\n",
        "df = pd.read_csv('/content/drive/MyDrive/bigData-main/boston.csv')\n",
        "\n",
        "#오름차순 정렬\n",
        "df_asc = df['TAX'].copy()\n",
        "df_asc.sort_values(ascending=True, inplace=True)\n",
        "\n",
        "#내림차순 정렬\n",
        "df_desc = df['TAX'].copy()\n",
        "df_desc.sort_values(ascending=False, inplace=True)\n",
        "\n",
        "#인덱스 재설정\n",
        "df_asc.reset_index(drop=True, inplace=True)\n",
        "df_desc.reset_index(drop=True, inplace=True)\n",
        "\n",
        "df_concat = pd.concat([df_asc, df_desc], axis=1)\n",
        "\n",
        "#(오름차순 - 내림차순) 값 차이 분산 값\n",
        "diff = abs(df_concat.iloc[:,0] - df_concat.iloc[:,1])\n",
        "print(diff.var())"
      ],
      "metadata": {
        "colab": {
          "base_uri": "https://localhost:8080/"
        },
        "id": "AxKRB1ltnnWg",
        "outputId": "fe5f0536-80c4-4d02-a7bb-8cac27b4db1e"
      },
      "execution_count": 171,
      "outputs": [
        {
          "output_type": "stream",
          "name": "stdout",
          "text": [
            "28490.598645951555\n"
          ]
        }
      ]
    },
    {
      "cell_type": "markdown",
      "source": [
        "8. 최소최대 변환하기"
      ],
      "metadata": {
        "id": "vYbrYfnDqBP0"
      }
    },
    {
      "cell_type": "code",
      "source": [
        "import pandas as pd\n",
        "df = pd.read_csv('/content/drive/MyDrive/bigData-main/boston.csv')\n",
        "\n",
        "#최소최대 척도 변환\n",
        "from sklearn.preprocessing import MinMaxScaler\n",
        "scaler = MinMaxScaler()\n",
        "df = pd.DataFrame(scaler.fit_transform(df), columns= df.columns)\n",
        "\n",
        "#0.5보다 큰 값 가지는 레코드 수\n",
        "result = df[df['MEDV'] > 0.5]['MEDV'].count()\n",
        "print(result)"
      ],
      "metadata": {
        "colab": {
          "base_uri": "https://localhost:8080/"
        },
        "id": "eR86RgcJpJlq",
        "outputId": "7765a0e0-5d07-412f-e72c-2b168f98816d"
      },
      "execution_count": 178,
      "outputs": [
        {
          "output_type": "stream",
          "name": "stdout",
          "text": [
            "106\n"
          ]
        }
      ]
    },
    {
      "cell_type": "markdown",
      "source": [
        "9. 빈도값 구하기"
      ],
      "metadata": {
        "id": "IvP3TQj-r7VP"
      }
    },
    {
      "cell_type": "code",
      "source": [
        "import pandas as pd\n",
        "data = pd.read_csv('/content/drive/MyDrive/bigData-main/boston.csv')\n",
        "\n",
        "#반올림\n",
        "df = round(data['AGE'].copy())\n",
        "\n",
        "#AGE칼럼 최빈값과 그 개수\n",
        "from scipy.stats import mode\n",
        "print(int(mode(df)[0]), int(mode(df)[1]))"
      ],
      "metadata": {
        "colab": {
          "base_uri": "https://localhost:8080/"
        },
        "id": "s1s7cymKrIol",
        "outputId": "e930c68e-f3af-4009-8625-21c98ec84dfb"
      },
      "execution_count": 185,
      "outputs": [
        {
          "output_type": "stream",
          "name": "stdout",
          "text": [
            "100 43\n"
          ]
        }
      ]
    },
    {
      "cell_type": "markdown",
      "source": [
        "10. 표준 변환하기"
      ],
      "metadata": {
        "id": "CRD3DAQxs6Z8"
      }
    },
    {
      "cell_type": "code",
      "source": [
        "import pandas as pd\n",
        "df = pd.read_csv('/content/drive/MyDrive/bigData-main/boston.csv')\n",
        "\n",
        "#표준화 척도 변환\n",
        "from sklearn.preprocessing import StandardScaler\n",
        "scaler = StandardScaler()\n",
        "df = pd.DataFrame(scaler.fit_transform(df), columns= df.columns)\n",
        "\n",
        "#0.4보다 크면서 0.6보다 작은 값들에 대한 평균\n",
        "result = df[(df['DIS'] > 0.4) & (df['DIS'] < 0.6)]['DIS'].mean()\n",
        "\n",
        "#반올림\n",
        "print(round(result, 2))"
      ],
      "metadata": {
        "colab": {
          "base_uri": "https://localhost:8080/"
        },
        "id": "XVuaNh3RsR9T",
        "outputId": "c31834a7-f95e-4694-afd3-c9d960dfce47"
      },
      "execution_count": 187,
      "outputs": [
        {
          "output_type": "stream",
          "name": "stdout",
          "text": [
            "0.48\n"
          ]
        }
      ]
    },
    {
      "cell_type": "markdown",
      "source": [
        "11. 유니크한 값 구하기"
      ],
      "metadata": {
        "id": "9zUpteMdto--"
      }
    },
    {
      "cell_type": "code",
      "source": [
        "import pandas as pd\n",
        "df = pd.read_csv('/content/drive/MyDrive/bigData-main/boston.csv')\n",
        "\n",
        "#칼럼 개수\n",
        "df_col = df.columns\n",
        "df_col_size = len(df_col)\n",
        "\n",
        "#칼럼 별 유니크 값 개수 구하기\n",
        "sum = 0\n",
        "for col in df_col:\n",
        "  sum += int(pd.DataFrame(df[col].unique()).count())\n",
        "\n",
        "#평균 = 전체 칼럼별 유니크한 값 개수 / 칼럼 개수\n",
        "print(sum/df_col_size)"
      ],
      "metadata": {
        "colab": {
          "base_uri": "https://localhost:8080/"
        },
        "id": "uBl9XU1MtUCC",
        "outputId": "e0d5d29b-cdd4-4250-dab8-f7b2ea89f432"
      },
      "execution_count": 195,
      "outputs": [
        {
          "output_type": "stream",
          "name": "stdout",
          "text": [
            "218.0\n"
          ]
        }
      ]
    },
    {
      "cell_type": "code",
      "source": [
        "import pandas as pd\n",
        "df = pd.read_csv('/content/drive/MyDrive/bigData-main/boston.csv')\n",
        "\n",
        "#칼럼 목록\n",
        "df_col = df.columns\n",
        "\n",
        "#칼럼별 유니크한 값 개수 합\n",
        "sum=0\n",
        "for col in df_col:\n",
        "  sum += int(pd.DataFrame(df[col].unique()).count())\n",
        "\n",
        "#평균값\n",
        "print(sum / df_col.size)"
      ],
      "metadata": {
        "colab": {
          "base_uri": "https://localhost:8080/"
        },
        "id": "nenoLIaLuErz",
        "outputId": "f4b4303d-c44c-41fc-a329-48cd63d586f7"
      },
      "execution_count": 196,
      "outputs": [
        {
          "output_type": "stream",
          "name": "stdout",
          "text": [
            "218.0\n"
          ]
        }
      ]
    },
    {
      "cell_type": "code",
      "source": [
        ""
      ],
      "metadata": {
        "id": "l7iBcPiavnpd"
      },
      "execution_count": null,
      "outputs": []
    }
  ]
}