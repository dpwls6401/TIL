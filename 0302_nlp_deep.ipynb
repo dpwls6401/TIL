{
  "nbformat": 4,
  "nbformat_minor": 0,
  "metadata": {
    "colab": {
      "name": "0302_nlp_deep",
      "provenance": [],
      "collapsed_sections": []
    },
    "kernelspec": {
      "name": "python3",
      "display_name": "Python 3"
    },
    "language_info": {
      "name": "python"
    },
    "accelerator": "GPU"
  },
  "cells": [
    {
      "cell_type": "code",
      "source": [
        "import pandas as pd\n",
        "\n",
        "df = pd.read_csv(\"/content/drive/MyDrive/취업정보/news.csv의 사본\")"
      ],
      "metadata": {
        "id": "i9fbbSvuLK-k"
      },
      "execution_count": 3,
      "outputs": []
    },
    {
      "cell_type": "code",
      "source": [
        "df = df.dropna()"
      ],
      "metadata": {
        "id": "G8fRcEkmyQor"
      },
      "execution_count": 4,
      "outputs": []
    },
    {
      "cell_type": "code",
      "source": [
        "from google.colab import drive\n",
        "drive.mount('/content/drive')"
      ],
      "metadata": {
        "colab": {
          "base_uri": "https://localhost:8080/"
        },
        "id": "1f3xMQUzihyL",
        "outputId": "3cf3b777-874e-4d2b-97a1-a8d6efb4de3d"
      },
      "execution_count": 5,
      "outputs": [
        {
          "output_type": "stream",
          "name": "stdout",
          "text": [
            "Drive already mounted at /content/drive; to attempt to forcibly remount, call drive.mount(\"/content/drive\", force_remount=True).\n"
          ]
        }
      ]
    },
    {
      "cell_type": "code",
      "source": [
        "df"
      ],
      "metadata": {
        "colab": {
          "base_uri": "https://localhost:8080/",
          "height": 1000
        },
        "id": "GXXabZsdL2QO",
        "outputId": "d2a211fe-9018-4459-97aa-fa6d01045d39"
      },
      "execution_count": 6,
      "outputs": [
        {
          "output_type": "execute_result",
          "data": {
            "text/html": [
              "\n",
              "  <div id=\"df-fcf7099d-9baf-434e-9bff-c920fd8cf24d\">\n",
              "    <div class=\"colab-df-container\">\n",
              "      <div>\n",
              "<style scoped>\n",
              "    .dataframe tbody tr th:only-of-type {\n",
              "        vertical-align: middle;\n",
              "    }\n",
              "\n",
              "    .dataframe tbody tr th {\n",
              "        vertical-align: top;\n",
              "    }\n",
              "\n",
              "    .dataframe thead th {\n",
              "        text-align: right;\n",
              "    }\n",
              "</style>\n",
              "<table border=\"1\" class=\"dataframe\">\n",
              "  <thead>\n",
              "    <tr style=\"text-align: right;\">\n",
              "      <th></th>\n",
              "      <th>date</th>\n",
              "      <th>media</th>\n",
              "      <th>title</th>\n",
              "      <th>content</th>\n",
              "      <th>ngrams</th>\n",
              "    </tr>\n",
              "  </thead>\n",
              "  <tbody>\n",
              "    <tr>\n",
              "      <th>0</th>\n",
              "      <td>2005-01-01</td>\n",
              "      <td>연합인포맥스</td>\n",
              "      <td>내년 美국채수익률 5% 넘어서기 어려울 듯</td>\n",
              "      <td>2005년 10년만기 미국 국채수익률이  연방준비제도이사회(FRB)의 금리인상 지속...</td>\n",
              "      <td>만기/NNG,국채/NNG,수익률/NNG,fed/NNG,fed/NNG,금리/NNG,인...</td>\n",
              "    </tr>\n",
              "    <tr>\n",
              "      <th>1</th>\n",
              "      <td>2005-01-01</td>\n",
              "      <td>연합인포맥스</td>\n",
              "      <td>[뉴욕채권-마감] 10년만기 국채수익률 작년보다 낮은 수준서 마쳐</td>\n",
              "      <td>2년만기 국채가격 4년래 최악의 한해 보내     10년만기 미국  국채수익률이  ...</td>\n",
              "      <td>만기/NNG,국채/NNG,가격/NNG,최악/NNG,보내/VV,만기/NNG,국채/NN...</td>\n",
              "    </tr>\n",
              "    <tr>\n",
              "      <th>2</th>\n",
              "      <td>2005-01-01</td>\n",
              "      <td>연합인포맥스</td>\n",
              "      <td>[뉴욕환시] `내년초 달러-엔에 주력'..달러 對엔 하락</td>\n",
              "      <td>2004년 마지막 거래일인 31일  뉴욕환시에서 미국 달러화는 개장초 102엔 근처...</td>\n",
              "      <td>마지막/NNG,거래일/NNG,뉴욕/NNG,환시/NNG,달러/NNG,개장/NNG,근처...</td>\n",
              "    </tr>\n",
              "    <tr>\n",
              "      <th>3</th>\n",
              "      <td>2005-01-01</td>\n",
              "      <td>연합인포맥스</td>\n",
              "      <td>[31일 뉴욕금융시장 요약] 한산한 거래속 새해 준비</td>\n",
              "      <td>) 한해 마지막 날인 31일 뉴욕 주요 금융시장은 한산한 거래속에 새해를 준비하는 ...</td>\n",
              "      <td>마지막/NNG,뉴욕/NNG,금융시장/NNG,한산/NNG,거래/NNG,새해/NNG,준...</td>\n",
              "    </tr>\n",
              "    <tr>\n",
              "      <th>4</th>\n",
              "      <td>2005-01-02</td>\n",
              "      <td>연합인포맥스</td>\n",
              "      <td>美 증시 기술주 주도로 2년 연속 상승..'01년래 최고</td>\n",
              "      <td>지난해 뉴욕증시는 기술주 주도로 2년  연속연초 대비 상승하면서 대표지수들을 지난 ...</td>\n",
              "      <td>주도/NNG,연속/NNG,대비/NNG,상승/NNG,대표지수/NNG,최고/NNG,오르...</td>\n",
              "    </tr>\n",
              "    <tr>\n",
              "      <th>...</th>\n",
              "      <td>...</td>\n",
              "      <td>...</td>\n",
              "      <td>...</td>\n",
              "      <td>...</td>\n",
              "      <td>...</td>\n",
              "    </tr>\n",
              "    <tr>\n",
              "      <th>261812</th>\n",
              "      <td>2019-12-31</td>\n",
              "      <td>이데일리</td>\n",
              "      <td>'안심대출 여파' 예금은행 대출금리 3.18%…1996년 편제 이후 최저</td>\n",
              "      <td>한국은행 11월중 금융기관 가중평균금리주택담보대출도 0.05%p 내린 2.45%로 ...</td>\n",
              "      <td>금융기관/NNG,금리/NNG,주택담보대출/NNG,내리/VV,역대/NNG,최저/NNG...</td>\n",
              "    </tr>\n",
              "    <tr>\n",
              "      <th>261813</th>\n",
              "      <td>2019-12-31</td>\n",
              "      <td>이데일리</td>\n",
              "      <td>이주열 “양적 확대로 성장동력 창출 어려워…혁신성장해야”</td>\n",
              "      <td>이주열 한국은행 총재 신년사(사진=연합뉴스)[이데일리 김경은 기자] 이주열(사진) ...</td>\n",
              "      <td>신년사/NNG,가장/MAG,주력/NNG,과제/NNG,혁신성장/NNG,동력/NNG,확...</td>\n",
              "    </tr>\n",
              "    <tr>\n",
              "      <th>261814</th>\n",
              "      <td>2019-12-31</td>\n",
              "      <td>이데일리</td>\n",
              "      <td>\"내년 세계경제 우상향…유가·금리 환경 든든\"</td>\n",
              "      <td>KB증권 보고서[이데일리 전재욱 기자] KB증권은 내년 세계 경제가 미·중 무역분쟁...</td>\n",
              "      <td>보고서/NNG,세계/NNG,경제/NNG,무역/NNG,분쟁/NNG,소강/NNG,통화정...</td>\n",
              "    </tr>\n",
              "    <tr>\n",
              "      <th>261815</th>\n",
              "      <td>2019-12-31</td>\n",
              "      <td>이데일리</td>\n",
              "      <td>금융권 쥐띠 리더들…\"어려운 환경에도 새로운 기회 만들것\"</td>\n",
              "      <td>은행권서 농협 이대훈·수협 이동빈 행장 대표적카드 '빅3' CEO 모두 쥐띠..삼성...</td>\n",
              "      <td>농협/NNG,수협/NNG,이동/NNG,행장/NNG,카드/NNG,쥐띠/NNG,금융/N...</td>\n",
              "    </tr>\n",
              "    <tr>\n",
              "      <th>261816</th>\n",
              "      <td>2019-12-31</td>\n",
              "      <td>이데일리</td>\n",
              "      <td>“아무거나 사면 올랐다”…샴페인 드는 월가</td>\n",
              "      <td>美증시 하락세 심상치 않자 트럼프 대통령 구원투수7월 美연준 금리 인하 나서면서 세...</td>\n",
              "      <td>증시/NNG,하락/NNG,심상/NNG,구원/NNG,투수/NNG,fed/NNG,금리/...</td>\n",
              "    </tr>\n",
              "  </tbody>\n",
              "</table>\n",
              "<p>261802 rows × 5 columns</p>\n",
              "</div>\n",
              "      <button class=\"colab-df-convert\" onclick=\"convertToInteractive('df-fcf7099d-9baf-434e-9bff-c920fd8cf24d')\"\n",
              "              title=\"Convert this dataframe to an interactive table.\"\n",
              "              style=\"display:none;\">\n",
              "        \n",
              "  <svg xmlns=\"http://www.w3.org/2000/svg\" height=\"24px\"viewBox=\"0 0 24 24\"\n",
              "       width=\"24px\">\n",
              "    <path d=\"M0 0h24v24H0V0z\" fill=\"none\"/>\n",
              "    <path d=\"M18.56 5.44l.94 2.06.94-2.06 2.06-.94-2.06-.94-.94-2.06-.94 2.06-2.06.94zm-11 1L8.5 8.5l.94-2.06 2.06-.94-2.06-.94L8.5 2.5l-.94 2.06-2.06.94zm10 10l.94 2.06.94-2.06 2.06-.94-2.06-.94-.94-2.06-.94 2.06-2.06.94z\"/><path d=\"M17.41 7.96l-1.37-1.37c-.4-.4-.92-.59-1.43-.59-.52 0-1.04.2-1.43.59L10.3 9.45l-7.72 7.72c-.78.78-.78 2.05 0 2.83L4 21.41c.39.39.9.59 1.41.59.51 0 1.02-.2 1.41-.59l7.78-7.78 2.81-2.81c.8-.78.8-2.07 0-2.86zM5.41 20L4 18.59l7.72-7.72 1.47 1.35L5.41 20z\"/>\n",
              "  </svg>\n",
              "      </button>\n",
              "      \n",
              "  <style>\n",
              "    .colab-df-container {\n",
              "      display:flex;\n",
              "      flex-wrap:wrap;\n",
              "      gap: 12px;\n",
              "    }\n",
              "\n",
              "    .colab-df-convert {\n",
              "      background-color: #E8F0FE;\n",
              "      border: none;\n",
              "      border-radius: 50%;\n",
              "      cursor: pointer;\n",
              "      display: none;\n",
              "      fill: #1967D2;\n",
              "      height: 32px;\n",
              "      padding: 0 0 0 0;\n",
              "      width: 32px;\n",
              "    }\n",
              "\n",
              "    .colab-df-convert:hover {\n",
              "      background-color: #E2EBFA;\n",
              "      box-shadow: 0px 1px 2px rgba(60, 64, 67, 0.3), 0px 1px 3px 1px rgba(60, 64, 67, 0.15);\n",
              "      fill: #174EA6;\n",
              "    }\n",
              "\n",
              "    [theme=dark] .colab-df-convert {\n",
              "      background-color: #3B4455;\n",
              "      fill: #D2E3FC;\n",
              "    }\n",
              "\n",
              "    [theme=dark] .colab-df-convert:hover {\n",
              "      background-color: #434B5C;\n",
              "      box-shadow: 0px 1px 3px 1px rgba(0, 0, 0, 0.15);\n",
              "      filter: drop-shadow(0px 1px 2px rgba(0, 0, 0, 0.3));\n",
              "      fill: #FFFFFF;\n",
              "    }\n",
              "  </style>\n",
              "\n",
              "      <script>\n",
              "        const buttonEl =\n",
              "          document.querySelector('#df-fcf7099d-9baf-434e-9bff-c920fd8cf24d button.colab-df-convert');\n",
              "        buttonEl.style.display =\n",
              "          google.colab.kernel.accessAllowed ? 'block' : 'none';\n",
              "\n",
              "        async function convertToInteractive(key) {\n",
              "          const element = document.querySelector('#df-fcf7099d-9baf-434e-9bff-c920fd8cf24d');\n",
              "          const dataTable =\n",
              "            await google.colab.kernel.invokeFunction('convertToInteractive',\n",
              "                                                     [key], {});\n",
              "          if (!dataTable) return;\n",
              "\n",
              "          const docLinkHtml = 'Like what you see? Visit the ' +\n",
              "            '<a target=\"_blank\" href=https://colab.research.google.com/notebooks/data_table.ipynb>data table notebook</a>'\n",
              "            + ' to learn more about interactive tables.';\n",
              "          element.innerHTML = '';\n",
              "          dataTable['output_type'] = 'display_data';\n",
              "          await google.colab.output.renderOutput(dataTable, element);\n",
              "          const docLink = document.createElement('div');\n",
              "          docLink.innerHTML = docLinkHtml;\n",
              "          element.appendChild(docLink);\n",
              "        }\n",
              "      </script>\n",
              "    </div>\n",
              "  </div>\n",
              "  "
            ],
            "text/plain": [
              "              date  ...                                             ngrams\n",
              "0       2005-01-01  ...  만기/NNG,국채/NNG,수익률/NNG,fed/NNG,fed/NNG,금리/NNG,인...\n",
              "1       2005-01-01  ...  만기/NNG,국채/NNG,가격/NNG,최악/NNG,보내/VV,만기/NNG,국채/NN...\n",
              "2       2005-01-01  ...  마지막/NNG,거래일/NNG,뉴욕/NNG,환시/NNG,달러/NNG,개장/NNG,근처...\n",
              "3       2005-01-01  ...  마지막/NNG,뉴욕/NNG,금융시장/NNG,한산/NNG,거래/NNG,새해/NNG,준...\n",
              "4       2005-01-02  ...  주도/NNG,연속/NNG,대비/NNG,상승/NNG,대표지수/NNG,최고/NNG,오르...\n",
              "...            ...  ...                                                ...\n",
              "261812  2019-12-31  ...  금융기관/NNG,금리/NNG,주택담보대출/NNG,내리/VV,역대/NNG,최저/NNG...\n",
              "261813  2019-12-31  ...  신년사/NNG,가장/MAG,주력/NNG,과제/NNG,혁신성장/NNG,동력/NNG,확...\n",
              "261814  2019-12-31  ...  보고서/NNG,세계/NNG,경제/NNG,무역/NNG,분쟁/NNG,소강/NNG,통화정...\n",
              "261815  2019-12-31  ...  농협/NNG,수협/NNG,이동/NNG,행장/NNG,카드/NNG,쥐띠/NNG,금융/N...\n",
              "261816  2019-12-31  ...  증시/NNG,하락/NNG,심상/NNG,구원/NNG,투수/NNG,fed/NNG,금리/...\n",
              "\n",
              "[261802 rows x 5 columns]"
            ]
          },
          "metadata": {},
          "execution_count": 6
        }
      ]
    },
    {
      "cell_type": "code",
      "source": [
        "df['tokens'] = df['ngrams'].apply(lambda x : ' '.join([w.split('/')[0] for w in x.split(\",\")]))\n",
        "token_list = df['tokens'].tolist() #문장의 리스트"
      ],
      "metadata": {
        "id": "KdZ_dJ3xLQuT"
      },
      "execution_count": 7,
      "outputs": []
    },
    {
      "cell_type": "code",
      "source": [
        "len(token_list)"
      ],
      "metadata": {
        "colab": {
          "base_uri": "https://localhost:8080/"
        },
        "id": "rPSxEf8GLsgb",
        "outputId": "3123f189-6924-4318-b969-6994daf371e1"
      },
      "execution_count": 8,
      "outputs": [
        {
          "output_type": "execute_result",
          "data": {
            "text/plain": [
              "261802"
            ]
          },
          "metadata": {},
          "execution_count": 8
        }
      ]
    },
    {
      "cell_type": "code",
      "source": [
        "token_list[:2]"
      ],
      "metadata": {
        "colab": {
          "base_uri": "https://localhost:8080/"
        },
        "id": "sL2bFGwjLuaS",
        "outputId": "cf82446e-3aac-4c8d-cc84-1887af367285"
      },
      "execution_count": 9,
      "outputs": [
        {
          "output_type": "execute_result",
          "data": {
            "text/plain": [
              "['만기 국채 수익률 fed fed 금리 인상 지속 따르 인플레이션 압력 완화 어렵 전망 인플레이션 제어 반면 만기 국채 수익률 fed 지속 금리 인상 수준 상승 예측 단기 국채 수익률 상승 나타나 반면 장기 국채 수익률 상승 제한 일드커브 플래트닝 가속 덧붙이 고용창출 호조 수입 증가 견인 고용시장 호전 소비자 지출 떠받치 단기 국채 일드커브 인플레이션 fed 고용창출 고용시장 수입 완화',\n",
              " '만기 국채 가격 최악 보내 만기 국채 수익률 수준 거래 마감 뉴욕 fed fed 금리 인상 했으나 인플레이션 제어 예상 만기 국채 수익률 소폭 수준 만기 국채 가격 fed 금리 인상 지속 최악 보내 덧붙이 fed 점진적 금리 인상 단행 fed 금리 인상 고용시장 동향 예의 주시 반면 고용창출 건수 호전 fed 공격적 금리 인상 정책 지속 가능성 강조 만기 국채 가격 포인트 오르 가격 움직이 수익률 떨어 만기 국채 수익률 기록 했었 만기 국채 가격 수익률 국채 인상']"
            ]
          },
          "metadata": {},
          "execution_count": 9
        }
      ]
    },
    {
      "cell_type": "code",
      "source": [
        "#w2v에 학습시키기 위해 넣는 것은 list의 list\n",
        "total_token_ls = [tokens.split() for tokens in token_list]\n",
        "total_token_ls[0]"
      ],
      "metadata": {
        "colab": {
          "base_uri": "https://localhost:8080/"
        },
        "id": "jzmwUXGvLwdy",
        "outputId": "20769ff3-5963-4274-c482-c4995ccb6920"
      },
      "execution_count": 10,
      "outputs": [
        {
          "output_type": "execute_result",
          "data": {
            "text/plain": [
              "['만기',\n",
              " '국채',\n",
              " '수익률',\n",
              " 'fed',\n",
              " 'fed',\n",
              " '금리',\n",
              " '인상',\n",
              " '지속',\n",
              " '따르',\n",
              " '인플레이션',\n",
              " '압력',\n",
              " '완화',\n",
              " '어렵',\n",
              " '전망',\n",
              " '인플레이션',\n",
              " '제어',\n",
              " '반면',\n",
              " '만기',\n",
              " '국채',\n",
              " '수익률',\n",
              " 'fed',\n",
              " '지속',\n",
              " '금리',\n",
              " '인상',\n",
              " '수준',\n",
              " '상승',\n",
              " '예측',\n",
              " '단기',\n",
              " '국채',\n",
              " '수익률',\n",
              " '상승',\n",
              " '나타나',\n",
              " '반면',\n",
              " '장기',\n",
              " '국채',\n",
              " '수익률',\n",
              " '상승',\n",
              " '제한',\n",
              " '일드커브',\n",
              " '플래트닝',\n",
              " '가속',\n",
              " '덧붙이',\n",
              " '고용창출',\n",
              " '호조',\n",
              " '수입',\n",
              " '증가',\n",
              " '견인',\n",
              " '고용시장',\n",
              " '호전',\n",
              " '소비자',\n",
              " '지출',\n",
              " '떠받치',\n",
              " '단기',\n",
              " '국채',\n",
              " '일드커브',\n",
              " '인플레이션',\n",
              " 'fed',\n",
              " '고용창출',\n",
              " '고용시장',\n",
              " '수입',\n",
              " '완화']"
            ]
          },
          "metadata": {},
          "execution_count": 10
        }
      ]
    },
    {
      "cell_type": "markdown",
      "source": [
        "Glove"
      ],
      "metadata": {
        "id": "LKjxrfXUMa9-"
      }
    },
    {
      "cell_type": "code",
      "source": [
        "del df"
      ],
      "metadata": {
        "id": "OJEVdjbbPrj9"
      },
      "execution_count": 11,
      "outputs": []
    },
    {
      "cell_type": "code",
      "source": [
        "del token_list"
      ],
      "metadata": {
        "id": "4hjtA3PTPzxd"
      },
      "execution_count": 12,
      "outputs": []
    },
    {
      "cell_type": "code",
      "source": [
        "!pip install glove-python-binary"
      ],
      "metadata": {
        "colab": {
          "base_uri": "https://localhost:8080/"
        },
        "id": "KsclSbJvL4ZO",
        "outputId": "42235c44-4fa8-4bf3-9dde-f52a0fb73e43"
      },
      "execution_count": 13,
      "outputs": [
        {
          "output_type": "stream",
          "name": "stdout",
          "text": [
            "Requirement already satisfied: glove-python-binary in /usr/local/lib/python3.7/dist-packages (0.2.0)\n",
            "Requirement already satisfied: scipy in /usr/local/lib/python3.7/dist-packages (from glove-python-binary) (1.4.1)\n",
            "Requirement already satisfied: numpy in /usr/local/lib/python3.7/dist-packages (from glove-python-binary) (1.21.5)\n"
          ]
        }
      ]
    },
    {
      "cell_type": "code",
      "source": [
        "from glove import Corpus, Glove\n",
        "\n",
        "corpus = Corpus()\n",
        "#말뭉치에서 동시 등장 행렬, 사전 만들기\n",
        "corpus.fit(total_token_ls[:1000], window=5) #잘 돌아가는지 확인 위해 1000개만\n",
        "\n",
        "glove = Glove(no_components=100, learning_rate=0.05) #no_components: word dimension\n",
        "#corpus.matrix: 동시등장 행렬\n",
        "glove.fit(corpus.matrix, epochs=20, no_threads=4, verbose=True)\n",
        "glove.add_dictionary(corpus.dictionary)"
      ],
      "metadata": {
        "colab": {
          "base_uri": "https://localhost:8080/"
        },
        "id": "I1D_nJBwMaoh",
        "outputId": "43795476-374b-4a1e-8f0b-0978c56ea9d6"
      },
      "execution_count": 14,
      "outputs": [
        {
          "output_type": "stream",
          "name": "stdout",
          "text": [
            "Performing 20 training epochs with 4 threads\n",
            "Epoch 0\n",
            "Epoch 1\n",
            "Epoch 2\n",
            "Epoch 3\n",
            "Epoch 4\n",
            "Epoch 5\n",
            "Epoch 6\n",
            "Epoch 7\n",
            "Epoch 8\n",
            "Epoch 9\n",
            "Epoch 10\n",
            "Epoch 11\n",
            "Epoch 12\n",
            "Epoch 13\n",
            "Epoch 14\n",
            "Epoch 15\n",
            "Epoch 16\n",
            "Epoch 17\n",
            "Epoch 18\n",
            "Epoch 19\n"
          ]
        }
      ]
    },
    {
      "cell_type": "code",
      "source": [
        "# \"금리\"와 유사한 단어\n",
        "glove.most_similar(\"금리\")"
      ],
      "metadata": {
        "colab": {
          "base_uri": "https://localhost:8080/"
        },
        "id": "j5g2YtW1Nf6b",
        "outputId": "f2b838e8-8120-4049-de7f-da0daa990129"
      },
      "execution_count": 15,
      "outputs": [
        {
          "output_type": "execute_result",
          "data": {
            "text/plain": [
              "[('장단기', 0.9396403020864559),\n",
              " ('동결', 0.9122869186695416),\n",
              " ('장기', 0.9039623888251976),\n",
              " ('변동', 0.8921363104052689)]"
            ]
          },
          "metadata": {},
          "execution_count": 15
        }
      ]
    },
    {
      "cell_type": "code",
      "source": [
        "glove.most_similar(\"인플레이션\")"
      ],
      "metadata": {
        "colab": {
          "base_uri": "https://localhost:8080/"
        },
        "id": "Ji5vyhkzODlz",
        "outputId": "a1a355d6-5af8-4be4-a212-aeacacb45a2b"
      },
      "execution_count": 16,
      "outputs": [
        {
          "output_type": "execute_result",
          "data": {
            "text/plain": [
              "[('억제', 0.8938104576666999),\n",
              " ('제어', 0.8683914618936376),\n",
              " ('강화', 0.8436606510813963),\n",
              " ('통제', 0.7936791955894501)]"
            ]
          },
          "metadata": {},
          "execution_count": 16
        }
      ]
    },
    {
      "cell_type": "markdown",
      "source": [
        "FastText"
      ],
      "metadata": {
        "id": "O5qT-ZIzOdFC"
      }
    },
    {
      "cell_type": "code",
      "source": [
        "from gensim.models import FastText\n",
        "model = FastText(total_token_ls[:1000], size=100, window=5, min_count=2, sg=1, iter=100, min_n=3, max_n=6)"
      ],
      "metadata": {
        "id": "pt2NRwz-OPQl"
      },
      "execution_count": null,
      "outputs": []
    },
    {
      "cell_type": "code",
      "source": [
        "model.wv.most_similar(\"금리\")"
      ],
      "metadata": {
        "id": "Dxhf5hmFO4JI"
      },
      "execution_count": null,
      "outputs": []
    },
    {
      "cell_type": "code",
      "source": [
        "model.wv.most_similar(\"인플레이션\")"
      ],
      "metadata": {
        "id": "3vkgJJllT5QK"
      },
      "execution_count": null,
      "outputs": []
    },
    {
      "cell_type": "markdown",
      "source": [
        "CNN"
      ],
      "metadata": {
        "id": "QehwhY-Y1lX3"
      }
    },
    {
      "cell_type": "code",
      "source": [
        "import numpy as np\n",
        "import tensorflow as tf\n",
        "import matplotlib.pyplot as plt"
      ],
      "metadata": {
        "id": "yy19ktcg1lHN"
      },
      "execution_count": 3,
      "outputs": []
    },
    {
      "cell_type": "code",
      "source": [
        "image = tf.constant([[[[1], [2], [3]], [[4], [5], [6]], [[7], [8], [9]]]], dtype=np.float32)"
      ],
      "metadata": {
        "id": "K3V_d48q1xqC"
      },
      "execution_count": 11,
      "outputs": []
    },
    {
      "cell_type": "code",
      "source": [
        "image.shape"
      ],
      "metadata": {
        "colab": {
          "base_uri": "https://localhost:8080/"
        },
        "id": "okxXr9P22EuV",
        "outputId": "95b17b97-c7df-44ab-f8c4-85202cd4966a"
      },
      "execution_count": 12,
      "outputs": [
        {
          "output_type": "execute_result",
          "data": {
            "text/plain": [
              "TensorShape([1, 3, 3, 1])"
            ]
          },
          "metadata": {},
          "execution_count": 12
        }
      ]
    },
    {
      "cell_type": "code",
      "source": [
        "plt.imshow(image.numpy().reshape(3,3), cmap='Greys')\n",
        "plt.show()"
      ],
      "metadata": {
        "colab": {
          "base_uri": "https://localhost:8080/",
          "height": 269
        },
        "id": "l98SX7cg2OjO",
        "outputId": "f2e696fd-1437-4b2a-c63d-46465a5343cb"
      },
      "execution_count": 13,
      "outputs": [
        {
          "output_type": "display_data",
          "data": {
            "image/png": "[encoded data removed]",
            "text/plain": [
              "<Figure size 432x288 with 1 Axes>"
            ]
          },
          "metadata": {
            "needs_background": "light"
          }
        }
      ]
    },
    {
      "cell_type": "code",
      "source": [
        "# 필터 만들기\n",
        "weight = np.array([[[[1.]], [[1.]]], [[[1.]], [[1.]]]])\n",
        "weight.shape\n",
        "# (2, 2, channel, keras-filter 개수)"
      ],
      "metadata": {
        "colab": {
          "base_uri": "https://localhost:8080/"
        },
        "id": "WoSkdxqF2k9H",
        "outputId": "99d4a530-d133-4528-b419-d559471e2912"
      },
      "execution_count": 14,
      "outputs": [
        {
          "output_type": "execute_result",
          "data": {
            "text/plain": [
              "(2, 2, 1, 1)"
            ]
          },
          "metadata": {},
          "execution_count": 14
        }
      ]
    },
    {
      "cell_type": "code",
      "source": [
        "# 가중치 초기값\n",
        "# padding= 'valid' -> 패딩 적용하지 않음\n",
        "weight_init = tf.constant_initializer(weight)\n",
        "conv2d = tf.keras.layers.Conv2D(filters=1, kernel_size=2, padding='valid', kernel_initializer=weight_init)(image) #Conv2D: 합성곱 연산\n",
        "conv2d.shape"
      ],
      "metadata": {
        "colab": {
          "base_uri": "https://localhost:8080/"
        },
        "id": "if5RL_Bf2_e9",
        "outputId": "e4d07696-d5ab-445e-b734-732e8b722425"
      },
      "execution_count": 15,
      "outputs": [
        {
          "output_type": "execute_result",
          "data": {
            "text/plain": [
              "TensorShape([1, 2, 2, 1])"
            ]
          },
          "metadata": {},
          "execution_count": 15
        }
      ]
    },
    {
      "cell_type": "code",
      "source": [
        "#filter 적용한 output\n",
        "plt.imshow(conv2d.numpy().reshape(2, 2), cmap='Greys')\n",
        "plt.show()"
      ],
      "metadata": {
        "colab": {
          "base_uri": "https://localhost:8080/",
          "height": 269
        },
        "id": "VbXDizFg4HDC",
        "outputId": "00714e23-b5c1-4c65-cfe6-b43d2a6ef203"
      },
      "execution_count": 17,
      "outputs": [
        {
          "output_type": "display_data",
          "data": {
            "image/png": "[encoded data removed]",
            "text/plain": [
              "<Figure size 432x288 with 1 Axes>"
            ]
          },
          "metadata": {
            "needs_background": "light"
          }
        }
      ]
    },
    {
      "cell_type": "code",
      "source": [
        "# padding= 'same' -> 입력값과 출력값의 size를 같게 함 -> (3,3)\n",
        "weight_init = tf.constant_initializer(weight)\n",
        "conv2d = tf.keras.layers.Conv2D(filters=1, kernel_size=2, padding='same', kernel_initializer=weight_init)(image) #Conv2D: 합성곱 연산\n",
        "conv2d.shape"
      ],
      "metadata": {
        "colab": {
          "base_uri": "https://localhost:8080/"
        },
        "id": "Plz27Bse4fhb",
        "outputId": "973645a0-ef61-4735-b625-8463d03c05c3"
      },
      "execution_count": 18,
      "outputs": [
        {
          "output_type": "execute_result",
          "data": {
            "text/plain": [
              "TensorShape([1, 3, 3, 1])"
            ]
          },
          "metadata": {},
          "execution_count": 18
        }
      ]
    },
    {
      "cell_type": "code",
      "source": [
        "plt.imshow(conv2d.numpy().reshape(3, 3), cmap='Greys')\n",
        "plt.show()\n",
        "#앞서는 차례대로 그라데이션, but filter 적용했더니 그림 다르게 나옴"
      ],
      "metadata": {
        "colab": {
          "base_uri": "https://localhost:8080/",
          "height": 269
        },
        "id": "BdlVJYKL5NFo",
        "outputId": "d16dff43-ecc2-48b5-ad45-0c96b0b4c660"
      },
      "execution_count": 19,
      "outputs": [
        {
          "output_type": "display_data",
          "data": {
            "image/png": "[encoded data removed]",
            "text/plain": [
              "<Figure size 432x288 with 1 Axes>"
            ]
          },
          "metadata": {
            "needs_background": "light"
          }
        }
      ]
    },
    {
      "cell_type": "code",
      "source": [
        "# 필터 만들기2 - 필터 3개\n",
        "weight = np.array([[[[1., 10, -1]], [[1., 10, -1]]], [[[1., 10, -1]], [[1., 10, -1]]]])\n",
        "weight.shape #height, weight, sample 개수, filter 개수"
      ],
      "metadata": {
        "colab": {
          "base_uri": "https://localhost:8080/"
        },
        "id": "9oq7m7G565i5",
        "outputId": "5c5c4382-d5c6-4358-e189-08f6ba711b8a"
      },
      "execution_count": 20,
      "outputs": [
        {
          "output_type": "execute_result",
          "data": {
            "text/plain": [
              "(2, 2, 1, 3)"
            ]
          },
          "metadata": {},
          "execution_count": 20
        }
      ]
    },
    {
      "cell_type": "code",
      "source": [
        "weight_init = tf.constant_initializer(weight)\n",
        "conv2d = tf.keras.layers.Conv2D(filters=3, kernel_size=2, padding='same', kernel_initializer=weight_init)(image) #Conv2D: 합성곱 연산\n",
        "conv2d.shape"
      ],
      "metadata": {
        "colab": {
          "base_uri": "https://localhost:8080/"
        },
        "id": "Vr6OaFpm7ZPB",
        "outputId": "c838deda-375c-49c1-c645-9d7d395d83b0"
      },
      "execution_count": 21,
      "outputs": [
        {
          "output_type": "execute_result",
          "data": {
            "text/plain": [
              "TensorShape([1, 3, 3, 3])"
            ]
          },
          "metadata": {},
          "execution_count": 21
        }
      ]
    },
    {
      "cell_type": "code",
      "source": [
        "feature_maps = np.swapaxes(conv2d, 0, 3) #맨마지막 필터개수 3이 맨앞으로 감 -> 필터별 이미지 만드는 for문 쓰기 위함\n",
        "print(\"feature_maps shape : \", feature_maps.shape)\n",
        "\n",
        "for i, feature_map in enumerate(feature_maps):\n",
        "  plt.subplot(1,3, i+1)\n",
        "  plt.imshow(feature_map.reshape(3,3), cmap='Greys')\n",
        "plt.show()"
      ],
      "metadata": {
        "colab": {
          "base_uri": "https://localhost:8080/",
          "height": 163
        },
        "id": "HJh1sTyl7g38",
        "outputId": "f2b34b0f-3447-42ee-e72f-2386b193c79e"
      },
      "execution_count": 22,
      "outputs": [
        {
          "output_type": "stream",
          "name": "stdout",
          "text": [
            "feature_maps shape :  (3, 3, 3, 1)\n"
          ]
        },
        {
          "output_type": "display_data",
          "data": {
            "image/png": "[encoded data removed]",
            "text/plain": [
              "<Figure size 432x288 with 3 Axes>"
            ]
          },
          "metadata": {
            "needs_background": "light"
          }
        }
      ]
    },
    {
      "cell_type": "code",
      "source": [
        "image = tf.constant([[[[4], [3]], [[2], [1]]]], dtype=np.float32)\n",
        "image.shape"
      ],
      "metadata": {
        "colab": {
          "base_uri": "https://localhost:8080/"
        },
        "id": "jNbuD_OO8Xrq",
        "outputId": "284ba183-0083-4aac-ae54-3545353ae7ed"
      },
      "execution_count": 23,
      "outputs": [
        {
          "output_type": "execute_result",
          "data": {
            "text/plain": [
              "TensorShape([1, 2, 2, 1])"
            ]
          },
          "metadata": {},
          "execution_count": 23
        }
      ]
    },
    {
      "cell_type": "code",
      "source": [
        "plt.imshow(image.numpy().reshape(2, 2), cmap='Greys')\n",
        "plt.show()"
      ],
      "metadata": {
        "colab": {
          "base_uri": "https://localhost:8080/",
          "height": 269
        },
        "id": "qzPy9Bo79Hm-",
        "outputId": "be9ebf4b-61c2-41fd-9ee9-6a682d79a929"
      },
      "execution_count": 25,
      "outputs": [
        {
          "output_type": "display_data",
          "data": {
            "image/png": "[encoded data removed]",
            "text/plain": [
              "<Figure size 432x288 with 1 Axes>"
            ]
          },
          "metadata": {
            "needs_background": "light"
          }
        }
      ]
    },
    {
      "cell_type": "code",
      "source": [
        "# max_pooling 적용\n",
        "pool = tf.keras.layers.MaxPool2D(pool_size=(2, 2), strides=1, padding='valid')(image)\n",
        "print(pool.shape)\n",
        "print(pool.numpy()) #제일 큰 값 4 출력"
      ],
      "metadata": {
        "colab": {
          "base_uri": "https://localhost:8080/"
        },
        "id": "nLRm63yu9QEx",
        "outputId": "c88d6f37-257e-454a-a541-0c2d80b4eb26"
      },
      "execution_count": 28,
      "outputs": [
        {
          "output_type": "stream",
          "name": "stdout",
          "text": [
            "(1, 1, 1, 1)\n",
            "[[[[4.]]]]\n"
          ]
        }
      ]
    },
    {
      "cell_type": "markdown",
      "source": [
        "CNN_MNIST"
      ],
      "metadata": {
        "id": "9gPr35eMC19Z"
      }
    },
    {
      "cell_type": "code",
      "source": [
        "from tensorflow.keras.datasets import mnist\n",
        "(train_images, train_labels), (test_images, test_labels) = mnist.load_data()"
      ],
      "metadata": {
        "colab": {
          "base_uri": "https://localhost:8080/"
        },
        "id": "ZM6W6eXo9_wS",
        "outputId": "40802179-398b-4801-f5a5-0e3eb3daeca3"
      },
      "execution_count": 1,
      "outputs": [
        {
          "output_type": "stream",
          "name": "stdout",
          "text": [
            "Downloading data from https://storage.googleapis.com/tensorflow/tf-keras-datasets/mnist.npz\n",
            "11493376/11490434 [==============================] - 0s 0us/step\n",
            "11501568/11490434 [==============================] - 0s 0us/step\n"
          ]
        }
      ]
    },
    {
      "cell_type": "code",
      "source": [
        "train_images.shape #sample 6만개"
      ],
      "metadata": {
        "colab": {
          "base_uri": "https://localhost:8080/"
        },
        "id": "VNvDbx50DHFP",
        "outputId": "6599cf0d-621e-467c-bdb5-1dfac4cdcc02"
      },
      "execution_count": 30,
      "outputs": [
        {
          "output_type": "execute_result",
          "data": {
            "text/plain": [
              "(60000, 28, 28)"
            ]
          },
          "metadata": {},
          "execution_count": 30
        }
      ]
    },
    {
      "cell_type": "code",
      "source": [
        "train_images[0]"
      ],
      "metadata": {
        "colab": {
          "base_uri": "https://localhost:8080/"
        },
        "id": "efKyYtXXDNq2",
        "outputId": "82338fcf-8a6c-4277-a267-c4e650a7ca25"
      },
      "execution_count": 31,
      "outputs": [
        {
          "output_type": "execute_result",
          "data": {
            "text/plain": [
              "array([[  0,   0,   0,   0,   0,   0,   0,   0,   0,   0,   0,   0,   0,\n",
              "          0,   0,   0,   0,   0,   0,   0,   0,   0,   0,   0,   0,   0,\n",
              "          0,   0],\n",
              "       [  0,   0,   0,   0,   0,   0,   0,   0,   0,   0,   0,   0,   0,\n",
              "          0,   0,   0,   0,   0,   0,   0,   0,   0,   0,   0,   0,   0,\n",
              "          0,   0],\n",
              "       [  0,   0,   0,   0,   0,   0,   0,   0,   0,   0,   0,   0,   0,\n",
              "          0,   0,   0,   0,   0,   0,   0,   0,   0,   0,   0,   0,   0,\n",
              "          0,   0],\n",
              "       [  0,   0,   0,   0,   0,   0,   0,   0,   0,   0,   0,   0,   0,\n",
              "          0,   0,   0,   0,   0,   0,   0,   0,   0,   0,   0,   0,   0,\n",
              "          0,   0],\n",
              "       [  0,   0,   0,   0,   0,   0,   0,   0,   0,   0,   0,   0,   0,\n",
              "          0,   0,   0,   0,   0,   0,   0,   0,   0,   0,   0,   0,   0,\n",
              "          0,   0],\n",
              "       [  0,   0,   0,   0,   0,   0,   0,   0,   0,   0,   0,   0,   3,\n",
              "         18,  18,  18, 126, 136, 175,  26, 166, 255, 247, 127,   0,   0,\n",
              "          0,   0],\n",
              "       [  0,   0,   0,   0,   0,   0,   0,   0,  30,  36,  94, 154, 170,\n",
              "        253, 253, 253, 253, 253, 225, 172, 253, 242, 195,  64,   0,   0,\n",
              "          0,   0],\n",
              "       [  0,   0,   0,   0,   0,   0,   0,  49, 238, 253, 253, 253, 253,\n",
              "        253, 253, 253, 253, 251,  93,  82,  82,  56,  39,   0,   0,   0,\n",
              "          0,   0],\n",
              "       [  0,   0,   0,   0,   0,   0,   0,  18, 219, 253, 253, 253, 253,\n",
              "        253, 198, 182, 247, 241,   0,   0,   0,   0,   0,   0,   0,   0,\n",
              "          0,   0],\n",
              "       [  0,   0,   0,   0,   0,   0,   0,   0,  80, 156, 107, 253, 253,\n",
              "        205,  11,   0,  43, 154,   0,   0,   0,   0,   0,   0,   0,   0,\n",
              "          0,   0],\n",
              "       [  0,   0,   0,   0,   0,   0,   0,   0,   0,  14,   1, 154, 253,\n",
              "         90,   0,   0,   0,   0,   0,   0,   0,   0,   0,   0,   0,   0,\n",
              "          0,   0],\n",
              "       [  0,   0,   0,   0,   0,   0,   0,   0,   0,   0,   0, 139, 253,\n",
              "        190,   2,   0,   0,   0,   0,   0,   0,   0,   0,   0,   0,   0,\n",
              "          0,   0],\n",
              "       [  0,   0,   0,   0,   0,   0,   0,   0,   0,   0,   0,  11, 190,\n",
              "        253,  70,   0,   0,   0,   0,   0,   0,   0,   0,   0,   0,   0,\n",
              "          0,   0],\n",
              "       [  0,   0,   0,   0,   0,   0,   0,   0,   0,   0,   0,   0,  35,\n",
              "        241, 225, 160, 108,   1,   0,   0,   0,   0,   0,   0,   0,   0,\n",
              "          0,   0],\n",
              "       [  0,   0,   0,   0,   0,   0,   0,   0,   0,   0,   0,   0,   0,\n",
              "         81, 240, 253, 253, 119,  25,   0,   0,   0,   0,   0,   0,   0,\n",
              "          0,   0],\n",
              "       [  0,   0,   0,   0,   0,   0,   0,   0,   0,   0,   0,   0,   0,\n",
              "          0,  45, 186, 253, 253, 150,  27,   0,   0,   0,   0,   0,   0,\n",
              "          0,   0],\n",
              "       [  0,   0,   0,   0,   0,   0,   0,   0,   0,   0,   0,   0,   0,\n",
              "          0,   0,  16,  93, 252, 253, 187,   0,   0,   0,   0,   0,   0,\n",
              "          0,   0],\n",
              "       [  0,   0,   0,   0,   0,   0,   0,   0,   0,   0,   0,   0,   0,\n",
              "          0,   0,   0,   0, 249, 253, 249,  64,   0,   0,   0,   0,   0,\n",
              "          0,   0],\n",
              "       [  0,   0,   0,   0,   0,   0,   0,   0,   0,   0,   0,   0,   0,\n",
              "          0,  46, 130, 183, 253, 253, 207,   2,   0,   0,   0,   0,   0,\n",
              "          0,   0],\n",
              "       [  0,   0,   0,   0,   0,   0,   0,   0,   0,   0,   0,   0,  39,\n",
              "        148, 229, 253, 253, 253, 250, 182,   0,   0,   0,   0,   0,   0,\n",
              "          0,   0],\n",
              "       [  0,   0,   0,   0,   0,   0,   0,   0,   0,   0,  24, 114, 221,\n",
              "        253, 253, 253, 253, 201,  78,   0,   0,   0,   0,   0,   0,   0,\n",
              "          0,   0],\n",
              "       [  0,   0,   0,   0,   0,   0,   0,   0,  23,  66, 213, 253, 253,\n",
              "        253, 253, 198,  81,   2,   0,   0,   0,   0,   0,   0,   0,   0,\n",
              "          0,   0],\n",
              "       [  0,   0,   0,   0,   0,   0,  18, 171, 219, 253, 253, 253, 253,\n",
              "        195,  80,   9,   0,   0,   0,   0,   0,   0,   0,   0,   0,   0,\n",
              "          0,   0],\n",
              "       [  0,   0,   0,   0,  55, 172, 226, 253, 253, 253, 253, 244, 133,\n",
              "         11,   0,   0,   0,   0,   0,   0,   0,   0,   0,   0,   0,   0,\n",
              "          0,   0],\n",
              "       [  0,   0,   0,   0, 136, 253, 253, 253, 212, 135, 132,  16,   0,\n",
              "          0,   0,   0,   0,   0,   0,   0,   0,   0,   0,   0,   0,   0,\n",
              "          0,   0],\n",
              "       [  0,   0,   0,   0,   0,   0,   0,   0,   0,   0,   0,   0,   0,\n",
              "          0,   0,   0,   0,   0,   0,   0,   0,   0,   0,   0,   0,   0,\n",
              "          0,   0],\n",
              "       [  0,   0,   0,   0,   0,   0,   0,   0,   0,   0,   0,   0,   0,\n",
              "          0,   0,   0,   0,   0,   0,   0,   0,   0,   0,   0,   0,   0,\n",
              "          0,   0],\n",
              "       [  0,   0,   0,   0,   0,   0,   0,   0,   0,   0,   0,   0,   0,\n",
              "          0,   0,   0,   0,   0,   0,   0,   0,   0,   0,   0,   0,   0,\n",
              "          0,   0]], dtype=uint8)"
            ]
          },
          "metadata": {},
          "execution_count": 31
        }
      ]
    },
    {
      "cell_type": "code",
      "source": [
        "# 0~1 사이 값으로 정규화\n",
        "train_images = train_images/255\n",
        "test_images = test_images/255"
      ],
      "metadata": {
        "id": "Y2DTvZPGDTvV"
      },
      "execution_count": 32,
      "outputs": []
    },
    {
      "cell_type": "code",
      "source": [
        "img = train_images[5]\n",
        "plt.imshow(img, cmap='gray')\n",
        "plt.show()"
      ],
      "metadata": {
        "colab": {
          "base_uri": "https://localhost:8080/",
          "height": 265
        },
        "id": "hTaM9Ad6DfTh",
        "outputId": "1b4d4edc-7959-4a47-8019-bc7f28abeb86"
      },
      "execution_count": 33,
      "outputs": [
        {
          "output_type": "display_data",
          "data": {
            "image/png": "[encoded data removed]",
            "text/plain": [
              "<Figure size 432x288 with 1 Axes>"
            ]
          },
          "metadata": {
            "needs_background": "light"
          }
        }
      ]
    },
    {
      "cell_type": "code",
      "source": [
        "#위에서 한것처럼 4차원으로 만들어줘야 함\n",
        "img = img.reshape(-1, 28, 28, 1) #3차원이니까 차원 하나 추가해줌\n",
        "img = tf.convert_to_tensor(img) #numpy array가 tensor로 바뀜"
      ],
      "metadata": {
        "id": "3FUvG63kDteS"
      },
      "execution_count": 34,
      "outputs": []
    },
    {
      "cell_type": "code",
      "source": [
        "weight_init = tf.keras.initializers.RandomNormal(stddev=0.01)\n",
        "conv2d = tf.keras.layers.Conv2D(filters=5, kernel_size=(3, 3), strides=(2, 2), padding='same', kernel_initializer=weight_init)(img)\n",
        "#이미지 결정=>입력 결정, kernel size 결정=>filter 만들기\n",
        "#내가 어떤 weight를 (3,3) size로 할 건데 그 초기값을 randomnormal로 주겠다"
      ],
      "metadata": {
        "id": "IkUFcEpvESKU"
      },
      "execution_count": 38,
      "outputs": []
    },
    {
      "cell_type": "code",
      "source": [
        "conv2d.shape #strides를 (2,2)로 뒀기 때문에 28에서 14로 & filter는 5개"
      ],
      "metadata": {
        "colab": {
          "base_uri": "https://localhost:8080/"
        },
        "id": "dSFy8_HuE0mD",
        "outputId": "0fe5510d-a79e-4f87-b424-ec8cad86d1e2"
      },
      "execution_count": 39,
      "outputs": [
        {
          "output_type": "execute_result",
          "data": {
            "text/plain": [
              "TensorShape([1, 14, 14, 5])"
            ]
          },
          "metadata": {},
          "execution_count": 39
        }
      ]
    },
    {
      "cell_type": "code",
      "source": [
        "def display(conv2d, n, w, h):\n",
        "  feature_maps = np.swapaxes(conv2d, 0, 3) #filter의 개수 5와 샘플 개수 1을 바꿈\n",
        "  for i, feature_map in enumerate(feature_maps): #필터에 대해 이미지 하나씩 가져오기 위함!\n",
        "    plt.subplot(1, n, i + 1)\n",
        "    plt.imshow(feature_map.reshape(w, h), cmap='Greys')\n",
        "  plt.show()"
      ],
      "metadata": {
        "id": "NHxzR9hKGBdH"
      },
      "execution_count": 40,
      "outputs": []
    },
    {
      "cell_type": "code",
      "source": [
        "display(conv2d, 5, 14, 14) #(conv2d, 필터개수, width, height)\n",
        "#필터에 따라 이미지에 대한 특징 다르게 추출"
      ],
      "metadata": {
        "colab": {
          "base_uri": "https://localhost:8080/",
          "height": 108
        },
        "id": "C9gVko3ZGd0C",
        "outputId": "0e6e3b15-6d5c-40c5-935e-6c5ee9153087"
      },
      "execution_count": 41,
      "outputs": [
        {
          "output_type": "display_data",
          "data": {
            "image/png": "[encoded data removed]",
            "text/plain": [
              "<Figure size 432x288 with 5 Axes>"
            ]
          },
          "metadata": {
            "needs_background": "light"
          }
        }
      ]
    },
    {
      "cell_type": "code",
      "source": [
        "# max pooling\n",
        "pool = tf.keras.layers.MaxPool2D(pool_size=(2, 2), strides=(2,2), padding='same')(conv2d)\n",
        "pool.shape\n",
        "#padding은 기존의 w,h 가져옴 -> (14, 14)\n",
        "#기존 w,h에 pool하면 2로 나눠줘야 함 -> (7, 7)"
      ],
      "metadata": {
        "colab": {
          "base_uri": "https://localhost:8080/"
        },
        "id": "gxbas_8MGqsG",
        "outputId": "c10b3dea-ca1e-40ab-b4aa-a0600de633f6"
      },
      "execution_count": 42,
      "outputs": [
        {
          "output_type": "execute_result",
          "data": {
            "text/plain": [
              "TensorShape([1, 7, 7, 5])"
            ]
          },
          "metadata": {},
          "execution_count": 42
        }
      ]
    },
    {
      "cell_type": "code",
      "source": [
        "display(pool, 5, 7, 7) #pool 안했을 때보다 이미지의 특징이 더 두드러짐"
      ],
      "metadata": {
        "colab": {
          "base_uri": "https://localhost:8080/",
          "height": 106
        },
        "id": "e3344QoNHAQ2",
        "outputId": "641d41b6-e50f-46a5-fb21-96da6054bef1"
      },
      "execution_count": 43,
      "outputs": [
        {
          "output_type": "display_data",
          "data": {
            "image/png": "[encoded data removed]",
            "text/plain": [
              "<Figure size 432x288 with 5 Axes>"
            ]
          },
          "metadata": {
            "needs_background": "light"
          }
        }
      ]
    },
    {
      "cell_type": "code",
      "source": [
        "# 이미지 나누기\n",
        "from sklearn.model_selection import train_test_split\n",
        "\n",
        "(train_images, train_labels), (test_images, test_labels) = mnist.load_data()\n",
        "train_images = train_images.reshape((-1, 28, 28, 1))\n",
        "test_images = test_images.reshape((-1, 28, 28, 1))\n",
        "\n",
        "train_images = train_images / 255. #소수점으로 나누기 위함\n",
        "test_images = test_images / 255.\n",
        "\n",
        "#전체 train의 75% 정도 가져와서 overfitting 일어나는지 확인 & test는 최종 검사용\n",
        "valid_images, test_images, valid_labels, test_labels = train_test_split(test_images, test_labels, test_size=0.15, shuffle=True)"
      ],
      "metadata": {
        "id": "as_rzvT3Hm_s"
      },
      "execution_count": 2,
      "outputs": []
    },
    {
      "cell_type": "code",
      "source": [
        "print(\"train_images.shape : \", train_images.shape)\n",
        "print(\"valid_images.shape : \", valid_images.shape)\n",
        "print(\"test_images.shape : \", test_images.shape)"
      ],
      "metadata": {
        "colab": {
          "base_uri": "https://localhost:8080/"
        },
        "id": "iEXuoAb1RYZR",
        "outputId": "4ff10fff-c43f-4239-a3a4-a7e5aaaf9f9d"
      },
      "execution_count": 46,
      "outputs": [
        {
          "output_type": "stream",
          "name": "stdout",
          "text": [
            "train_images.shape :  (60000, 28, 28, 1)\n",
            "valid_images.shape :  (8500, 28, 28, 1)\n",
            "test_images.shape :  (1500, 28, 28, 1)\n"
          ]
        }
      ]
    },
    {
      "cell_type": "markdown",
      "source": [
        "Keras: Sequential model"
      ],
      "metadata": {
        "id": "2vR__FFhXE6Z"
      }
    },
    {
      "cell_type": "code",
      "source": [
        "from tensorflow.keras.models import Sequential\n",
        "from tensorflow.keras.layers import Conv2D, MaxPool2D, Flatten, Dense\n",
        "\n",
        "model = Sequential()\n",
        "#차례대로 add - conv와 relu 반복(CNN p.33)\n",
        "model.add(Conv2D(32, (3, 3), activation='relu', input_shape=(28, 28, 1))) #channel: 1\n",
        "model.add(MaxPool2D((2, 2))) #(2,2)는 차원의 괄호이므로 밖에 괄호 하나 더 써줘야 함\n",
        "model.add(Conv2D(64, (3, 3), activation='relu')) #filter 개수 늘려줌, input 필요x\n",
        "model.add(MaxPool2D((2, 2)))\n",
        "model.add(Conv2D(64, (3, 3), activation='relu'))\n",
        "\n",
        "model.add(Flatten()) #2D를 1차원으로(일렬로) 펼침\n",
        "model.add(Dense(64, activation='relu'))\n",
        "model.add(Dense(10, activation='softmax')) #output이므로 softmax\n",
        "\n",
        "model.summary()\n",
        "#param: 학습하는 파라미터의 개수\n",
        "#max_pooling: down sampling이므로 학습하는 것 없음\n",
        "#flatten: 배열 한줄로 풀어줌 - 학습할 파라미터 없음\n",
        "\n",
        "#w파라미터 개수는 필터와 관련\n",
        "# 1. 32 * (3*3) + bias = 288 + 32 = 320\n",
        "# 2. 32 * 64 * (3*3) + 64 = 18496\n",
        "# 3. 64 * 9 * 2 + 64 = 36928\n",
        "# output: 64*10 + 10 = 650"
      ],
      "metadata": {
        "colab": {
          "base_uri": "https://localhost:8080/"
        },
        "id": "Bgtcl462RZaO",
        "outputId": "b726bfd3-8923-46c1-9605-f66c344d27a5"
      },
      "execution_count": 3,
      "outputs": [
        {
          "output_type": "stream",
          "name": "stdout",
          "text": [
            "Model: \"sequential\"\n",
            "_________________________________________________________________\n",
            " Layer (type)                Output Shape              Param #   \n",
            "=================================================================\n",
            " conv2d (Conv2D)             (None, 26, 26, 32)        320       \n",
            "                                                                 \n",
            " max_pooling2d (MaxPooling2D  (None, 13, 13, 32)       0         \n",
            " )                                                               \n",
            "                                                                 \n",
            " conv2d_1 (Conv2D)           (None, 11, 11, 64)        18496     \n",
            "                                                                 \n",
            " max_pooling2d_1 (MaxPooling  (None, 5, 5, 64)         0         \n",
            " 2D)                                                             \n",
            "                                                                 \n",
            " conv2d_2 (Conv2D)           (None, 3, 3, 64)          36928     \n",
            "                                                                 \n",
            " flatten (Flatten)           (None, 576)               0         \n",
            "                                                                 \n",
            " dense (Dense)               (None, 64)                36928     \n",
            "                                                                 \n",
            " dense_1 (Dense)             (None, 10)                650       \n",
            "                                                                 \n",
            "=================================================================\n",
            "Total params: 93,322\n",
            "Trainable params: 93,322\n",
            "Non-trainable params: 0\n",
            "_________________________________________________________________\n"
          ]
        }
      ]
    },
    {
      "cell_type": "markdown",
      "source": [
        "Keras: Functional API"
      ],
      "metadata": {
        "id": "yZCU3So-Ynue"
      }
    },
    {
      "cell_type": "code",
      "source": [
        "import tensorflow as tf\n",
        "from tensorflow.keras.models import Model\n",
        "from tensorflow.keras.layers import Input\n",
        "\n",
        "inputs = Input(shape=(28, 28, 1))\n",
        "conv1 = Conv2D(32, (3, 3), activation=tf.nn.relu)(inputs)\n",
        "pool1 = MaxPool2D((2, 2))(conv1)\n",
        "\n",
        "conv2 = Conv2D(64, (3, 3), activation=tf.nn.relu)(pool1)\n",
        "pool2 = MaxPool2D((2, 2))(conv2)\n",
        "\n",
        "conv3 = Conv2D(64, (3, 3), activation=tf.nn.relu)(pool2)\n",
        "flat = Flatten()(conv3)\n",
        "\n",
        "dense4 = Dense(64, activation='relu')(flat)\n",
        "outputs = Dense(10, activation='softmax')(dense4)\n",
        "\n",
        "model = Model(inputs=inputs, outputs=outputs)\n",
        "model.summary()"
      ],
      "metadata": {
        "colab": {
          "base_uri": "https://localhost:8080/"
        },
        "id": "CWSoG-NWTJVQ",
        "outputId": "84a49d03-d802-4e98-ba73-884ffd62d586"
      },
      "execution_count": 4,
      "outputs": [
        {
          "output_type": "stream",
          "name": "stdout",
          "text": [
            "Model: \"model\"\n",
            "_________________________________________________________________\n",
            " Layer (type)                Output Shape              Param #   \n",
            "=================================================================\n",
            " input_1 (InputLayer)        [(None, 28, 28, 1)]       0         \n",
            "                                                                 \n",
            " conv2d_3 (Conv2D)           (None, 26, 26, 32)        320       \n",
            "                                                                 \n",
            " max_pooling2d_2 (MaxPooling  (None, 13, 13, 32)       0         \n",
            " 2D)                                                             \n",
            "                                                                 \n",
            " conv2d_4 (Conv2D)           (None, 11, 11, 64)        18496     \n",
            "                                                                 \n",
            " max_pooling2d_3 (MaxPooling  (None, 5, 5, 64)         0         \n",
            " 2D)                                                             \n",
            "                                                                 \n",
            " conv2d_5 (Conv2D)           (None, 3, 3, 64)          36928     \n",
            "                                                                 \n",
            " flatten_1 (Flatten)         (None, 576)               0         \n",
            "                                                                 \n",
            " dense_2 (Dense)             (None, 64)                36928     \n",
            "                                                                 \n",
            " dense_3 (Dense)             (None, 10)                650       \n",
            "                                                                 \n",
            "=================================================================\n",
            "Total params: 93,322\n",
            "Trainable params: 93,322\n",
            "Non-trainable params: 0\n",
            "_________________________________________________________________\n"
          ]
        }
      ]
    },
    {
      "cell_type": "code",
      "source": [
        "model.compile(optimizer='adam', loss='sparse_categorical_crossentropy', metrics=['accuracy']) #loss함수, optimizer\n",
        "hist = model.fit(train_images, train_labels,\n",
        "                 validation_data=(valid_images, valid_labels),\n",
        "                 epochs=100, batch_size=200) #epoch 한번 돈 다음에 내부적으로 validation data로 과적합 여부 확인함\n",
        "                 #batch_size=200이므로 한 배치당 300개씩 돌아가고 있음"
      ],
      "metadata": {
        "colab": {
          "base_uri": "https://localhost:8080/"
        },
        "id": "2tyEwLZ5WSy8",
        "outputId": "b9cfd38f-d782-4be3-af79-11438c4ec042"
      },
      "execution_count": 5,
      "outputs": [
        {
          "output_type": "stream",
          "name": "stdout",
          "text": [
            "Epoch 1/100\n",
            "300/300 [==============================] - 14s 15ms/step - loss: 0.3042 - accuracy: 0.9130 - val_loss: 0.0773 - val_accuracy: 0.9768\n",
            "Epoch 2/100\n",
            "300/300 [==============================] - 4s 13ms/step - loss: 0.0689 - accuracy: 0.9790 - val_loss: 0.0456 - val_accuracy: 0.9847\n",
            "Epoch 3/100\n",
            "300/300 [==============================] - 4s 13ms/step - loss: 0.0494 - accuracy: 0.9846 - val_loss: 0.0414 - val_accuracy: 0.9860\n",
            "Epoch 4/100\n",
            "300/300 [==============================] - 4s 14ms/step - loss: 0.0389 - accuracy: 0.9877 - val_loss: 0.0359 - val_accuracy: 0.9886\n",
            "Epoch 5/100\n",
            "300/300 [==============================] - 4s 13ms/step - loss: 0.0325 - accuracy: 0.9899 - val_loss: 0.0321 - val_accuracy: 0.9894\n",
            "Epoch 6/100\n",
            "300/300 [==============================] - 4s 14ms/step - loss: 0.0268 - accuracy: 0.9918 - val_loss: 0.0281 - val_accuracy: 0.9913\n",
            "Epoch 7/100\n",
            "300/300 [==============================] - 4s 13ms/step - loss: 0.0234 - accuracy: 0.9925 - val_loss: 0.0298 - val_accuracy: 0.9919\n",
            "Epoch 8/100\n",
            "300/300 [==============================] - 4s 13ms/step - loss: 0.0195 - accuracy: 0.9937 - val_loss: 0.0351 - val_accuracy: 0.9881\n",
            "Epoch 9/100\n",
            "300/300 [==============================] - 4s 13ms/step - loss: 0.0162 - accuracy: 0.9947 - val_loss: 0.0417 - val_accuracy: 0.9874\n",
            "Epoch 10/100\n",
            "300/300 [==============================] - 4s 13ms/step - loss: 0.0141 - accuracy: 0.9956 - val_loss: 0.0287 - val_accuracy: 0.9907\n",
            "Epoch 11/100\n",
            "300/300 [==============================] - 4s 13ms/step - loss: 0.0120 - accuracy: 0.9962 - val_loss: 0.0276 - val_accuracy: 0.9920\n",
            "Epoch 12/100\n",
            "300/300 [==============================] - 4s 13ms/step - loss: 0.0115 - accuracy: 0.9963 - val_loss: 0.0332 - val_accuracy: 0.9904\n",
            "Epoch 13/100\n",
            "300/300 [==============================] - 4s 13ms/step - loss: 0.0101 - accuracy: 0.9967 - val_loss: 0.0389 - val_accuracy: 0.9899\n",
            "Epoch 14/100\n",
            "300/300 [==============================] - 4s 13ms/step - loss: 0.0105 - accuracy: 0.9965 - val_loss: 0.0440 - val_accuracy: 0.9871\n",
            "Epoch 15/100\n",
            "300/300 [==============================] - 4s 13ms/step - loss: 0.0079 - accuracy: 0.9973 - val_loss: 0.0342 - val_accuracy: 0.9911\n",
            "Epoch 16/100\n",
            "300/300 [==============================] - 5s 16ms/step - loss: 0.0071 - accuracy: 0.9975 - val_loss: 0.0298 - val_accuracy: 0.9922\n",
            "Epoch 17/100\n",
            "300/300 [==============================] - 4s 13ms/step - loss: 0.0071 - accuracy: 0.9979 - val_loss: 0.0416 - val_accuracy: 0.9895\n",
            "Epoch 18/100\n",
            "300/300 [==============================] - 4s 13ms/step - loss: 0.0046 - accuracy: 0.9984 - val_loss: 0.0332 - val_accuracy: 0.9913\n",
            "Epoch 19/100\n",
            "300/300 [==============================] - 4s 13ms/step - loss: 0.0058 - accuracy: 0.9980 - val_loss: 0.0437 - val_accuracy: 0.9898\n",
            "Epoch 20/100\n",
            "300/300 [==============================] - 4s 13ms/step - loss: 0.0071 - accuracy: 0.9977 - val_loss: 0.0335 - val_accuracy: 0.9924\n",
            "Epoch 21/100\n",
            "300/300 [==============================] - 4s 13ms/step - loss: 0.0052 - accuracy: 0.9982 - val_loss: 0.0313 - val_accuracy: 0.9906\n",
            "Epoch 22/100\n",
            "300/300 [==============================] - 4s 13ms/step - loss: 0.0045 - accuracy: 0.9985 - val_loss: 0.0433 - val_accuracy: 0.9889\n",
            "Epoch 23/100\n",
            "300/300 [==============================] - 4s 13ms/step - loss: 0.0067 - accuracy: 0.9976 - val_loss: 0.0419 - val_accuracy: 0.9904\n",
            "Epoch 24/100\n",
            "300/300 [==============================] - 4s 13ms/step - loss: 0.0045 - accuracy: 0.9984 - val_loss: 0.0408 - val_accuracy: 0.9911\n",
            "Epoch 25/100\n",
            "300/300 [==============================] - 4s 13ms/step - loss: 0.0039 - accuracy: 0.9987 - val_loss: 0.0350 - val_accuracy: 0.9918\n",
            "Epoch 26/100\n",
            "300/300 [==============================] - 4s 13ms/step - loss: 0.0037 - accuracy: 0.9987 - val_loss: 0.0378 - val_accuracy: 0.9913\n",
            "Epoch 27/100\n",
            "300/300 [==============================] - 4s 13ms/step - loss: 0.0038 - accuracy: 0.9988 - val_loss: 0.0392 - val_accuracy: 0.9902\n",
            "Epoch 28/100\n",
            "300/300 [==============================] - 4s 13ms/step - loss: 0.0041 - accuracy: 0.9987 - val_loss: 0.0394 - val_accuracy: 0.9919\n",
            "Epoch 29/100\n",
            "300/300 [==============================] - 4s 13ms/step - loss: 0.0031 - accuracy: 0.9990 - val_loss: 0.0445 - val_accuracy: 0.9913\n",
            "Epoch 30/100\n",
            "300/300 [==============================] - 4s 13ms/step - loss: 5.5593e-04 - accuracy: 0.9999 - val_loss: 0.0402 - val_accuracy: 0.9920\n",
            "Epoch 31/100\n",
            "300/300 [==============================] - 4s 13ms/step - loss: 5.0790e-04 - accuracy: 0.9999 - val_loss: 0.0360 - val_accuracy: 0.9929\n",
            "Epoch 32/100\n",
            "300/300 [==============================] - 4s 15ms/step - loss: 0.0042 - accuracy: 0.9987 - val_loss: 0.0501 - val_accuracy: 0.9896\n",
            "Epoch 33/100\n",
            "300/300 [==============================] - 4s 13ms/step - loss: 0.0074 - accuracy: 0.9972 - val_loss: 0.0388 - val_accuracy: 0.9913\n",
            "Epoch 34/100\n",
            "300/300 [==============================] - 4s 13ms/step - loss: 0.0037 - accuracy: 0.9987 - val_loss: 0.0451 - val_accuracy: 0.9894\n",
            "Epoch 35/100\n",
            "300/300 [==============================] - 4s 13ms/step - loss: 0.0033 - accuracy: 0.9988 - val_loss: 0.0449 - val_accuracy: 0.9909\n",
            "Epoch 36/100\n",
            "300/300 [==============================] - 4s 13ms/step - loss: 0.0024 - accuracy: 0.9991 - val_loss: 0.0435 - val_accuracy: 0.9911\n",
            "Epoch 37/100\n",
            "300/300 [==============================] - 4s 13ms/step - loss: 9.2082e-04 - accuracy: 0.9997 - val_loss: 0.0387 - val_accuracy: 0.9925\n",
            "Epoch 38/100\n",
            "300/300 [==============================] - 4s 14ms/step - loss: 4.6433e-04 - accuracy: 0.9999 - val_loss: 0.0371 - val_accuracy: 0.9932\n",
            "Epoch 39/100\n",
            "300/300 [==============================] - 4s 13ms/step - loss: 0.0021 - accuracy: 0.9994 - val_loss: 0.0415 - val_accuracy: 0.9922\n",
            "Epoch 40/100\n",
            "300/300 [==============================] - 4s 13ms/step - loss: 0.0042 - accuracy: 0.9986 - val_loss: 0.0379 - val_accuracy: 0.9922\n",
            "Epoch 41/100\n",
            "300/300 [==============================] - 4s 13ms/step - loss: 0.0028 - accuracy: 0.9992 - val_loss: 0.0470 - val_accuracy: 0.9913\n",
            "Epoch 42/100\n",
            "300/300 [==============================] - 4s 13ms/step - loss: 0.0028 - accuracy: 0.9992 - val_loss: 0.0397 - val_accuracy: 0.9936\n",
            "Epoch 43/100\n",
            "300/300 [==============================] - 4s 13ms/step - loss: 4.2615e-04 - accuracy: 0.9999 - val_loss: 0.0514 - val_accuracy: 0.9916\n",
            "Epoch 44/100\n",
            "300/300 [==============================] - 4s 13ms/step - loss: 3.9914e-04 - accuracy: 0.9999 - val_loss: 0.0488 - val_accuracy: 0.9921\n",
            "Epoch 45/100\n",
            "300/300 [==============================] - 4s 13ms/step - loss: 4.0681e-05 - accuracy: 1.0000 - val_loss: 0.0450 - val_accuracy: 0.9929\n",
            "Epoch 46/100\n",
            "300/300 [==============================] - 4s 13ms/step - loss: 1.1008e-05 - accuracy: 1.0000 - val_loss: 0.0447 - val_accuracy: 0.9933\n",
            "Epoch 47/100\n",
            "300/300 [==============================] - 4s 13ms/step - loss: 7.5350e-06 - accuracy: 1.0000 - val_loss: 0.0450 - val_accuracy: 0.9934\n",
            "Epoch 48/100\n",
            "300/300 [==============================] - 4s 13ms/step - loss: 5.9407e-06 - accuracy: 1.0000 - val_loss: 0.0455 - val_accuracy: 0.9933\n",
            "Epoch 49/100\n",
            "300/300 [==============================] - 4s 13ms/step - loss: 4.8775e-06 - accuracy: 1.0000 - val_loss: 0.0458 - val_accuracy: 0.9932\n",
            "Epoch 50/100\n",
            "300/300 [==============================] - 4s 13ms/step - loss: 4.0582e-06 - accuracy: 1.0000 - val_loss: 0.0461 - val_accuracy: 0.9933\n",
            "Epoch 51/100\n",
            "300/300 [==============================] - 4s 13ms/step - loss: 3.3964e-06 - accuracy: 1.0000 - val_loss: 0.0464 - val_accuracy: 0.9934\n",
            "Epoch 52/100\n",
            "300/300 [==============================] - 4s 13ms/step - loss: 2.9178e-06 - accuracy: 1.0000 - val_loss: 0.0468 - val_accuracy: 0.9933\n",
            "Epoch 53/100\n",
            "300/300 [==============================] - 5s 15ms/step - loss: 2.4775e-06 - accuracy: 1.0000 - val_loss: 0.0474 - val_accuracy: 0.9932\n",
            "Epoch 54/100\n",
            "300/300 [==============================] - 6s 19ms/step - loss: 2.0899e-06 - accuracy: 1.0000 - val_loss: 0.0478 - val_accuracy: 0.9931\n",
            "Epoch 55/100\n",
            "300/300 [==============================] - 5s 16ms/step - loss: 1.7826e-06 - accuracy: 1.0000 - val_loss: 0.0481 - val_accuracy: 0.9931\n",
            "Epoch 56/100\n",
            "300/300 [==============================] - 4s 13ms/step - loss: 1.5228e-06 - accuracy: 1.0000 - val_loss: 0.0483 - val_accuracy: 0.9931\n",
            "Epoch 57/100\n",
            "300/300 [==============================] - 4s 13ms/step - loss: 1.3033e-06 - accuracy: 1.0000 - val_loss: 0.0488 - val_accuracy: 0.9928\n",
            "Epoch 58/100\n",
            "300/300 [==============================] - 4s 13ms/step - loss: 1.1293e-06 - accuracy: 1.0000 - val_loss: 0.0493 - val_accuracy: 0.9928\n",
            "Epoch 59/100\n",
            "300/300 [==============================] - 4s 14ms/step - loss: 9.4372e-07 - accuracy: 1.0000 - val_loss: 0.0496 - val_accuracy: 0.9929\n",
            "Epoch 60/100\n",
            "300/300 [==============================] - 5s 15ms/step - loss: 8.1735e-07 - accuracy: 1.0000 - val_loss: 0.0502 - val_accuracy: 0.9929\n",
            "Epoch 61/100\n",
            "300/300 [==============================] - 5s 16ms/step - loss: 7.0850e-07 - accuracy: 1.0000 - val_loss: 0.0507 - val_accuracy: 0.9928\n",
            "Epoch 62/100\n",
            "300/300 [==============================] - 4s 15ms/step - loss: 6.1440e-07 - accuracy: 1.0000 - val_loss: 0.0512 - val_accuracy: 0.9928\n",
            "Epoch 63/100\n",
            "300/300 [==============================] - 5s 18ms/step - loss: 5.2453e-07 - accuracy: 1.0000 - val_loss: 0.0516 - val_accuracy: 0.9927\n",
            "Epoch 64/100\n",
            "300/300 [==============================] - 5s 15ms/step - loss: 4.4334e-07 - accuracy: 1.0000 - val_loss: 0.0521 - val_accuracy: 0.9926\n",
            "Epoch 65/100\n",
            "300/300 [==============================] - 4s 15ms/step - loss: 3.8395e-07 - accuracy: 1.0000 - val_loss: 0.0529 - val_accuracy: 0.9927\n",
            "Epoch 66/100\n",
            "300/300 [==============================] - 5s 16ms/step - loss: 3.3086e-07 - accuracy: 1.0000 - val_loss: 0.0532 - val_accuracy: 0.9927\n",
            "Epoch 67/100\n",
            "300/300 [==============================] - 5s 15ms/step - loss: 2.7774e-07 - accuracy: 1.0000 - val_loss: 0.0539 - val_accuracy: 0.9928\n",
            "Epoch 68/100\n",
            "300/300 [==============================] - 6s 20ms/step - loss: 2.4300e-07 - accuracy: 1.0000 - val_loss: 0.0541 - val_accuracy: 0.9927\n",
            "Epoch 69/100\n",
            "300/300 [==============================] - 6s 20ms/step - loss: 2.0648e-07 - accuracy: 1.0000 - val_loss: 0.0547 - val_accuracy: 0.9926\n",
            "Epoch 70/100\n",
            "300/300 [==============================] - 6s 19ms/step - loss: 1.8091e-07 - accuracy: 1.0000 - val_loss: 0.0553 - val_accuracy: 0.9927\n",
            "Epoch 71/100\n",
            "300/300 [==============================] - 6s 21ms/step - loss: 1.5276e-07 - accuracy: 1.0000 - val_loss: 0.0559 - val_accuracy: 0.9929\n",
            "Epoch 72/100\n",
            "300/300 [==============================] - 6s 19ms/step - loss: 1.2982e-07 - accuracy: 1.0000 - val_loss: 0.0566 - val_accuracy: 0.9928\n",
            "Epoch 73/100\n",
            "300/300 [==============================] - 5s 18ms/step - loss: 1.1395e-07 - accuracy: 1.0000 - val_loss: 0.0570 - val_accuracy: 0.9929\n",
            "Epoch 74/100\n",
            "300/300 [==============================] - 5s 17ms/step - loss: 9.6000e-08 - accuracy: 1.0000 - val_loss: 0.0575 - val_accuracy: 0.9928\n",
            "Epoch 75/100\n",
            "300/300 [==============================] - 5s 18ms/step - loss: 8.0710e-08 - accuracy: 1.0000 - val_loss: 0.0583 - val_accuracy: 0.9928\n",
            "Epoch 76/100\n",
            "300/300 [==============================] - 5s 17ms/step - loss: 7.0585e-08 - accuracy: 1.0000 - val_loss: 0.0585 - val_accuracy: 0.9929\n",
            "Epoch 77/100\n",
            "300/300 [==============================] - 5s 16ms/step - loss: 6.2514e-08 - accuracy: 1.0000 - val_loss: 0.0591 - val_accuracy: 0.9931\n",
            "Epoch 78/100\n",
            "300/300 [==============================] - 5s 16ms/step - loss: 5.3536e-08 - accuracy: 1.0000 - val_loss: 0.0597 - val_accuracy: 0.9929\n",
            "Epoch 79/100\n",
            "300/300 [==============================] - 5s 16ms/step - loss: 4.4683e-08 - accuracy: 1.0000 - val_loss: 0.0603 - val_accuracy: 0.9931\n",
            "Epoch 80/100\n",
            "300/300 [==============================] - 5s 15ms/step - loss: 3.8765e-08 - accuracy: 1.0000 - val_loss: 0.0610 - val_accuracy: 0.9931\n",
            "Epoch 81/100\n",
            "300/300 [==============================] - 5s 15ms/step - loss: 3.3003e-08 - accuracy: 1.0000 - val_loss: 0.0612 - val_accuracy: 0.9931\n",
            "Epoch 82/100\n",
            "300/300 [==============================] - 5s 15ms/step - loss: 2.7903e-08 - accuracy: 1.0000 - val_loss: 0.0620 - val_accuracy: 0.9929\n",
            "Epoch 83/100\n",
            "300/300 [==============================] - 5s 15ms/step - loss: 2.5225e-08 - accuracy: 1.0000 - val_loss: 0.0625 - val_accuracy: 0.9932\n",
            "Epoch 84/100\n",
            "300/300 [==============================] - 5s 16ms/step - loss: 2.1583e-08 - accuracy: 1.0000 - val_loss: 0.0629 - val_accuracy: 0.9932\n",
            "Epoch 85/100\n",
            "300/300 [==============================] - 5s 17ms/step - loss: 1.7965e-08 - accuracy: 1.0000 - val_loss: 0.0635 - val_accuracy: 0.9933\n",
            "Epoch 86/100\n",
            "300/300 [==============================] - 5s 17ms/step - loss: 1.5883e-08 - accuracy: 1.0000 - val_loss: 0.0639 - val_accuracy: 0.9933\n",
            "Epoch 87/100\n",
            "300/300 [==============================] - 4s 15ms/step - loss: 1.3475e-08 - accuracy: 1.0000 - val_loss: 0.0648 - val_accuracy: 0.9933\n",
            "Epoch 88/100\n",
            "300/300 [==============================] - 4s 13ms/step - loss: 1.1849e-08 - accuracy: 1.0000 - val_loss: 0.0652 - val_accuracy: 0.9932\n",
            "Epoch 89/100\n",
            "300/300 [==============================] - 4s 15ms/step - loss: 9.8586e-09 - accuracy: 1.0000 - val_loss: 0.0655 - val_accuracy: 0.9934\n",
            "Epoch 90/100\n",
            "300/300 [==============================] - 7s 22ms/step - loss: 9.2069e-09 - accuracy: 1.0000 - val_loss: 0.0661 - val_accuracy: 0.9932\n",
            "Epoch 91/100\n",
            "300/300 [==============================] - 6s 20ms/step - loss: 7.6890e-09 - accuracy: 1.0000 - val_loss: 0.0666 - val_accuracy: 0.9934\n",
            "Epoch 92/100\n",
            "300/300 [==============================] - 5s 17ms/step - loss: 6.6797e-09 - accuracy: 1.0000 - val_loss: 0.0671 - val_accuracy: 0.9929\n",
            "Epoch 93/100\n",
            "300/300 [==============================] - 5s 17ms/step - loss: 5.7956e-09 - accuracy: 1.0000 - val_loss: 0.0678 - val_accuracy: 0.9931\n",
            "Epoch 94/100\n",
            "300/300 [==============================] - 5s 18ms/step - loss: 5.1180e-09 - accuracy: 1.0000 - val_loss: 0.0681 - val_accuracy: 0.9932\n",
            "Epoch 95/100\n",
            "300/300 [==============================] - 5s 18ms/step - loss: 4.4425e-09 - accuracy: 1.0000 - val_loss: 0.0685 - val_accuracy: 0.9929\n",
            "Epoch 96/100\n",
            "300/300 [==============================] - 5s 16ms/step - loss: 3.8723e-09 - accuracy: 1.0000 - val_loss: 0.0691 - val_accuracy: 0.9929\n",
            "Epoch 97/100\n",
            "300/300 [==============================] - 5s 16ms/step - loss: 3.3538e-09 - accuracy: 1.0000 - val_loss: 0.0694 - val_accuracy: 0.9931\n",
            "Epoch 98/100\n",
            "300/300 [==============================] - 5s 16ms/step - loss: 3.0617e-09 - accuracy: 1.0000 - val_loss: 0.0699 - val_accuracy: 0.9928\n",
            "Epoch 99/100\n",
            "300/300 [==============================] - 4s 15ms/step - loss: 2.6643e-09 - accuracy: 1.0000 - val_loss: 0.0704 - val_accuracy: 0.9928\n",
            "Epoch 100/100\n",
            "300/300 [==============================] - 4s 13ms/step - loss: 2.2928e-09 - accuracy: 1.0000 - val_loss: 0.0706 - val_accuracy: 0.9932\n"
          ]
        }
      ]
    },
    {
      "cell_type": "code",
      "source": [
        "import matplotlib.pyplot as plt\n",
        "\n",
        "fig, loss_ax = plt.subplots()\n",
        "acc_ax = loss_ax.twinx()\n",
        "\n",
        "loss_ax.plot(hist.history['loss'], 'y', label='train_loss')\n",
        "loss_ax.plot(hist.history['val_loss'], 'r', label='valid_loss')\n",
        "loss_ax.set_xlabel('epochs')\n",
        "loss_ax.set_ylabel('loss')\n",
        "loss_ax.legend(loc='upper left')\n",
        "\n",
        "acc_ax.plot(hist.history['accuracy'], 'b', label='train_accuracy')\n",
        "acc_ax.plot(hist.history['val_accuracy'], 'g', label='valid_accuracy')\n",
        "acc_ax.set_xlabel('epochs')\n",
        "acc_ax.set_ylabel('accuracy')\n",
        "acc_ax.legend(loc='upper right', bbox_to_anchor=(1, 0.5))\n",
        "\n",
        "plt.show()\n",
        "# 0~10 epochs쯤에 과적합 일어나서 loss 급감, accuracy는 급증"
      ],
      "metadata": {
        "colab": {
          "base_uri": "https://localhost:8080/",
          "height": 279
        },
        "id": "tU0AXYysXBJK",
        "outputId": "881ea08d-344f-4b45-d703-1bb685a1cfa6"
      },
      "execution_count": 8,
      "outputs": [
        {
          "output_type": "display_data",
          "data": {
            "image/png": "[encoded data removed]",
            "text/plain": [
              "<Figure size 432x288 with 2 Axes>"
            ]
          },
          "metadata": {
            "needs_background": "light"
          }
        }
      ]
    },
    {
      "cell_type": "code",
      "source": [
        ""
      ],
      "metadata": {
        "id": "amS6AEfeZo1A"
      },
      "execution_count": null,
      "outputs": []
    }
  ]
}